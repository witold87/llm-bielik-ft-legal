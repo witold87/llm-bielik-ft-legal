{
 "cells": [
  {
   "cell_type": "code",
   "id": "initial_id",
   "metadata": {
    "collapsed": true,
    "ExecuteTime": {
     "end_time": "2024-09-03T21:27:19.528209Z",
     "start_time": "2024-09-03T21:27:17.536606Z"
    }
   },
   "source": [
    "import torch\n",
    "from peft import PeftModel\n",
    "from transformers import AutoTokenizer, AutoModelForCausalLM, BitsAndBytesConfig\n",
    "import pymupdf"
   ],
   "outputs": [],
   "execution_count": 1
  },
  {
   "metadata": {
    "ExecuteTime": {
     "end_time": "2024-09-03T21:27:31.257743Z",
     "start_time": "2024-09-03T21:27:19.536213Z"
    }
   },
   "cell_type": "code",
   "source": [
    "base_model_id = \"speakleash/Bielik-7B-v0.1\"\n",
    "bnb_config = BitsAndBytesConfig(\n",
    "    # llm_int8_enable_fp32_cpu_offload=True,\n",
    "    load_in_4bit=True,\n",
    "    bnb_4bit_use_double_quant=True,\n",
    "    bnb_4bit_quant_type=\"nf4\",\n",
    "    bnb_4bit_compute_dtype=torch.bfloat16\n",
    ")\n",
    "\n",
    "base_model = AutoModelForCausalLM.from_pretrained(\n",
    "    base_model_id,  # Mistral, same as before\n",
    "    quantization_config=bnb_config,  # Same quantization config as before\n",
    "    device_map=\"auto\",\n",
    "    trust_remote_code=True\n",
    ")\n",
    "eval_tokenizer = AutoTokenizer.from_pretrained(base_model_id, add_bos_token=True, trust_remote_code=True)"
   ],
   "id": "3a2ead6783c8b8a1",
   "outputs": [
    {
     "data": {
      "text/plain": [
       "Loading checkpoint shards:   0%|          | 0/3 [00:00<?, ?it/s]"
      ],
      "application/vnd.jupyter.widget-view+json": {
       "version_major": 2,
       "version_minor": 0,
       "model_id": "5a6d7d740b074b40ad00563f3bbebb95"
      }
     },
     "metadata": {},
     "output_type": "display_data"
    }
   ],
   "execution_count": 2
  },
  {
   "metadata": {
    "ExecuteTime": {
     "end_time": "2024-09-03T21:31:30.949761Z",
     "start_time": "2024-09-03T21:31:29.939427Z"
    }
   },
   "cell_type": "code",
   "source": "evaluated_ft_model = PeftModel.from_pretrained(base_model, \"bielik-legal-finetune/checkpoint-400\")",
   "id": "e4e78f4198264d5f",
   "outputs": [],
   "execution_count": 16
  },
  {
   "metadata": {
    "ExecuteTime": {
     "end_time": "2024-09-03T21:27:31.461193Z",
     "start_time": "2024-09-03T21:27:31.430057Z"
    }
   },
   "cell_type": "code",
   "source": [
    "# load eval data\n",
    "path = 'evaluation_data/umowa wzór.pdf'\n",
    "\n",
    "all_data = pymupdf.open(path)\n",
    "all_pages = []\n",
    "for document in all_data:\n",
    "    text_page = document.get_textpage().extractText()\n",
    "    #chunks_per_page = splitter.split_text(text_page)\n",
    "    all_pages.append(text_page)\n",
    "\n",
    "print(len(all_pages))\n",
    "base_context = all_pages[0]"
   ],
   "id": "a20f1d0452cc21be",
   "outputs": [
    {
     "name": "stdout",
     "output_type": "stream",
     "text": [
      "3\n"
     ]
    }
   ],
   "execution_count": 4
  },
  {
   "metadata": {
    "ExecuteTime": {
     "end_time": "2024-09-03T21:27:31.476376Z",
     "start_time": "2024-09-03T21:27:31.464194Z"
    }
   },
   "cell_type": "code",
   "source": [
    "def build_prompt(context: str, question: str) -> str:\n",
    "    messages = [\n",
    "        {\n",
    "            \"role\": \"system\",\n",
    "            \"content\": \"Jesteś prawniczym asystentem, ktory precyzyjnie odpowiada na pytania użytkowników\",\n",
    "        },\n",
    "        {\n",
    "            \"role\": \"user\",\n",
    "            \"content\": f\"Mając poniższy kontekst {context} odpowiedz proszę na pytanie: {question}\"\n",
    "        }\n",
    "\n",
    "    ]\n",
    "    return messages"
   ],
   "id": "a4877c70c9c9cf95",
   "outputs": [],
   "execution_count": 5
  },
  {
   "metadata": {
    "ExecuteTime": {
     "end_time": "2024-09-03T21:27:31.507567Z",
     "start_time": "2024-09-03T21:27:31.491553Z"
    }
   },
   "cell_type": "code",
   "source": [
    "# query = input(\"Enter your prompt: \")\n",
    "#       messages = [\n",
    "#          {\"role\": \"user\", \"content\": str(query)}\n",
    "#       ]\n",
    "#       encodeds = tokenizer.apply_chat_template(messages, return_tensors=\"pt\").to(\"cuda\")\n",
    "#       generated_ids = model.generate(encodeds, max_new_tokens=300, do_sample=False)\n",
    "#       decoded = tokenizer.batch_decode(generated_ids)"
   ],
   "id": "cdf0159bff4738aa",
   "outputs": [],
   "execution_count": 6
  },
  {
   "metadata": {
    "ExecuteTime": {
     "end_time": "2024-09-03T21:27:31.538205Z",
     "start_time": "2024-09-03T21:27:31.523987Z"
    }
   },
   "cell_type": "code",
   "source": [
    "eval_questions = [\n",
    "    \"Jakie są strony postępowania?\",\n",
    "    \"Jakie są najważniejsze postanowienia niniejszej umowy?\",\n",
    "    \"Jakie są najważniejsze daty w poniższej umowie?\",\n",
    "    \"Jaki jest adres firmy?\",\n",
    "    \"Czy umowa zawiera klauzule abuzywne?\",\n",
    "    \"Jaka jest kwota zadatku?\",\n",
    "    #\"W jaki sposób przedsiębiorca może udowodnić, że nie znał danego publicznego zapewnienia i rozsądnie nie mógł o nim wiedzieć?\"\n",
    "]"
   ],
   "id": "bdaad9d0bf249ab0",
   "outputs": [],
   "execution_count": 7
  },
  {
   "metadata": {
    "ExecuteTime": {
     "end_time": "2024-09-03T21:32:13.761629Z",
     "start_time": "2024-09-03T21:32:01.697005Z"
    }
   },
   "cell_type": "code",
   "source": [
    "model_input = eval_tokenizer.apply_chat_template(build_prompt(context=base_context, question=eval_questions[4]), return_tensors=\"pt\").to(\"cuda\")\n",
    "with torch.no_grad():\n",
    "    generated_ids = evaluated_ft_model.generate(model_input, max_new_tokens=300, do_sample=False, pad_token_id=eval_tokenizer.eos_token_id)\n",
    "    #generated_ids_base = base_model.generate(model_input, max_new_tokens=500, do_sample=False, pad_token_id=eval_tokenizer.eos_token_id)\n",
    "    decoded = eval_tokenizer.batch_decode(generated_ids)\n",
    "    #decoded_base = eval_tokenizer.batch_decode(generated_ids_base)\n",
    "\n",
    "# Evaluated model\n",
    "looked_word = '[/INST]'\n",
    "inst_end = decoded[0].index(looked_word)\n",
    "answer = decoded[0][inst_end+len(looked_word):]\n",
    "print('*' * 20)\n",
    "print(answer)\n",
    "\n",
    "# Base model\n",
    "# inst_end = decoded_base[0].index(looked_word)\n",
    "# answer_base = decoded_base[0][inst_end+len(looked_word):]\n",
    "# print('*' * 20)\n",
    "# print(answer_base)"
   ],
   "id": "5ec59356ba29d6b2",
   "outputs": [
    {
     "name": "stdout",
     "output_type": "stream",
     "text": [
      "********************\n",
      " Tak, umowa zawiera klauzule abuzywne. Przykładem takiej klauzuli jest zapis dotyczący prawa własności dostarczonych/zamontowanych systemów osłonowych do chwili uregulowania faktury końcowej. Zgodnie z przepisami prawa konsumenckiego, taka klauzula może być uznana za nieważną i niezgodną z zasadami równości stron umowy. </s>\n"
     ]
    }
   ],
   "execution_count": 17
  },
  {
   "metadata": {},
   "cell_type": "code",
   "source": [
    "# how messages look for model\n",
    "# print(eval_tokenizer.decode(model_input[0]))"
   ],
   "id": "6cb5aee100de3365",
   "outputs": [],
   "execution_count": null
  },
  {
   "metadata": {},
   "cell_type": "code",
   "source": [
    "# evaluated_ft_model.eval()\n",
    "# with torch.no_grad():\n",
    "#     print(eval_tokenizer.decode(\n",
    "#         evaluated_ft_model.generate(**model_input, max_new_tokens=600, repetition_penalty=1.15)[0],\n",
    "#         skip_special_tokens=True))"
   ],
   "id": "c8276c290294e34c",
   "outputs": [],
   "execution_count": null
  },
  {
   "metadata": {},
   "cell_type": "code",
   "outputs": [],
   "execution_count": null,
   "source": "",
   "id": "e117b3bebd6921ba"
  }
 ],
 "metadata": {
  "kernelspec": {
   "display_name": "Python 3",
   "language": "python",
   "name": "python3"
  },
  "language_info": {
   "codemirror_mode": {
    "name": "ipython",
    "version": 2
   },
   "file_extension": ".py",
   "mimetype": "text/x-python",
   "name": "python",
   "nbconvert_exporter": "python",
   "pygments_lexer": "ipython2",
   "version": "2.7.6"
  }
 },
 "nbformat": 4,
 "nbformat_minor": 5
}
