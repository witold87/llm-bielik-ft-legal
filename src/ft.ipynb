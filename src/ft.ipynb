{
 "cells": [
  {
   "cell_type": "markdown",
   "source": [
    "# LLM - Bielik - Fine tuning - part II"
   ],
   "metadata": {
    "collapsed": false
   },
   "id": "dd667e2b7df297f7"
  },
  {
   "cell_type": "code",
   "outputs": [
    {
     "name": "stdout",
     "output_type": "stream",
     "text": [
      "Requirement already satisfied: bitsandbytes in /home/wicio/PycharmProjects/bielik-ft-legal/.venv/lib/python3.11/site-packages (0.43.3)\r\n",
      "Requirement already satisfied: torch in /home/wicio/PycharmProjects/bielik-ft-legal/.venv/lib/python3.11/site-packages (from bitsandbytes) (2.3.1+cu118)\r\n",
      "Requirement already satisfied: numpy in /home/wicio/PycharmProjects/bielik-ft-legal/.venv/lib/python3.11/site-packages (from bitsandbytes) (1.26.4)\r\n",
      "Requirement already satisfied: filelock in /home/wicio/PycharmProjects/bielik-ft-legal/.venv/lib/python3.11/site-packages (from torch->bitsandbytes) (3.15.4)\r\n",
      "Requirement already satisfied: typing-extensions>=4.8.0 in /home/wicio/PycharmProjects/bielik-ft-legal/.venv/lib/python3.11/site-packages (from torch->bitsandbytes) (4.12.2)\r\n",
      "Requirement already satisfied: sympy in /home/wicio/PycharmProjects/bielik-ft-legal/.venv/lib/python3.11/site-packages (from torch->bitsandbytes) (1.12)\r\n",
      "Requirement already satisfied: networkx in /home/wicio/PycharmProjects/bielik-ft-legal/.venv/lib/python3.11/site-packages (from torch->bitsandbytes) (3.2.1)\r\n",
      "Requirement already satisfied: jinja2 in /home/wicio/PycharmProjects/bielik-ft-legal/.venv/lib/python3.11/site-packages (from torch->bitsandbytes) (3.1.4)\r\n",
      "Requirement already satisfied: fsspec in /home/wicio/PycharmProjects/bielik-ft-legal/.venv/lib/python3.11/site-packages (from torch->bitsandbytes) (2024.6.1)\r\n",
      "Requirement already satisfied: nvidia-cuda-nvrtc-cu11==11.8.89 in /home/wicio/PycharmProjects/bielik-ft-legal/.venv/lib/python3.11/site-packages (from torch->bitsandbytes) (11.8.89)\r\n",
      "Requirement already satisfied: nvidia-cuda-runtime-cu11==11.8.89 in /home/wicio/PycharmProjects/bielik-ft-legal/.venv/lib/python3.11/site-packages (from torch->bitsandbytes) (11.8.89)\r\n",
      "Requirement already satisfied: nvidia-cuda-cupti-cu11==11.8.87 in /home/wicio/PycharmProjects/bielik-ft-legal/.venv/lib/python3.11/site-packages (from torch->bitsandbytes) (11.8.87)\r\n",
      "Requirement already satisfied: nvidia-cudnn-cu11==8.7.0.84 in /home/wicio/PycharmProjects/bielik-ft-legal/.venv/lib/python3.11/site-packages (from torch->bitsandbytes) (8.7.0.84)\r\n",
      "Requirement already satisfied: nvidia-cublas-cu11==11.11.3.6 in /home/wicio/PycharmProjects/bielik-ft-legal/.venv/lib/python3.11/site-packages (from torch->bitsandbytes) (11.11.3.6)\r\n",
      "Requirement already satisfied: nvidia-cufft-cu11==10.9.0.58 in /home/wicio/PycharmProjects/bielik-ft-legal/.venv/lib/python3.11/site-packages (from torch->bitsandbytes) (10.9.0.58)\r\n",
      "Requirement already satisfied: nvidia-curand-cu11==10.3.0.86 in /home/wicio/PycharmProjects/bielik-ft-legal/.venv/lib/python3.11/site-packages (from torch->bitsandbytes) (10.3.0.86)\r\n",
      "Requirement already satisfied: nvidia-cusolver-cu11==11.4.1.48 in /home/wicio/PycharmProjects/bielik-ft-legal/.venv/lib/python3.11/site-packages (from torch->bitsandbytes) (11.4.1.48)\r\n",
      "Requirement already satisfied: nvidia-cusparse-cu11==11.7.5.86 in /home/wicio/PycharmProjects/bielik-ft-legal/.venv/lib/python3.11/site-packages (from torch->bitsandbytes) (11.7.5.86)\r\n",
      "Requirement already satisfied: nvidia-nccl-cu11==2.20.5 in /home/wicio/PycharmProjects/bielik-ft-legal/.venv/lib/python3.11/site-packages (from torch->bitsandbytes) (2.20.5)\r\n",
      "Requirement already satisfied: nvidia-nvtx-cu11==11.8.86 in /home/wicio/PycharmProjects/bielik-ft-legal/.venv/lib/python3.11/site-packages (from torch->bitsandbytes) (11.8.86)\r\n",
      "Requirement already satisfied: triton==2.3.1 in /home/wicio/PycharmProjects/bielik-ft-legal/.venv/lib/python3.11/site-packages (from torch->bitsandbytes) (2.3.1)\r\n",
      "Requirement already satisfied: MarkupSafe>=2.0 in /home/wicio/PycharmProjects/bielik-ft-legal/.venv/lib/python3.11/site-packages (from jinja2->torch->bitsandbytes) (2.1.5)\r\n",
      "Requirement already satisfied: mpmath>=0.19 in /home/wicio/PycharmProjects/bielik-ft-legal/.venv/lib/python3.11/site-packages (from sympy->torch->bitsandbytes) (1.3.0)\r\n",
      "\r\n",
      "\u001B[1m[\u001B[0m\u001B[34;49mnotice\u001B[0m\u001B[1;39;49m]\u001B[0m\u001B[39;49m A new release of pip is available: \u001B[0m\u001B[31;49m24.1.1\u001B[0m\u001B[39;49m -> \u001B[0m\u001B[32;49m24.2\u001B[0m\r\n",
      "\u001B[1m[\u001B[0m\u001B[34;49mnotice\u001B[0m\u001B[1;39;49m]\u001B[0m\u001B[39;49m To update, run: \u001B[0m\u001B[32;49mpip install --upgrade pip\u001B[0m\r\n",
      "Requirement already satisfied: transformers in /home/wicio/PycharmProjects/bielik-ft-legal/.venv/lib/python3.11/site-packages (4.42.3)\r\n",
      "Requirement already satisfied: filelock in /home/wicio/PycharmProjects/bielik-ft-legal/.venv/lib/python3.11/site-packages (from transformers) (3.15.4)\r\n",
      "Requirement already satisfied: huggingface-hub<1.0,>=0.23.2 in /home/wicio/PycharmProjects/bielik-ft-legal/.venv/lib/python3.11/site-packages (from transformers) (0.23.4)\r\n",
      "Requirement already satisfied: numpy<2.0,>=1.17 in /home/wicio/PycharmProjects/bielik-ft-legal/.venv/lib/python3.11/site-packages (from transformers) (1.26.4)\r\n",
      "Requirement already satisfied: packaging>=20.0 in /home/wicio/PycharmProjects/bielik-ft-legal/.venv/lib/python3.11/site-packages (from transformers) (24.1)\r\n",
      "Requirement already satisfied: pyyaml>=5.1 in /home/wicio/PycharmProjects/bielik-ft-legal/.venv/lib/python3.11/site-packages (from transformers) (6.0.1)\r\n",
      "Requirement already satisfied: regex!=2019.12.17 in /home/wicio/PycharmProjects/bielik-ft-legal/.venv/lib/python3.11/site-packages (from transformers) (2024.5.15)\r\n",
      "Requirement already satisfied: requests in /home/wicio/PycharmProjects/bielik-ft-legal/.venv/lib/python3.11/site-packages (from transformers) (2.32.3)\r\n",
      "Requirement already satisfied: safetensors>=0.4.1 in /home/wicio/PycharmProjects/bielik-ft-legal/.venv/lib/python3.11/site-packages (from transformers) (0.4.3)\r\n",
      "Requirement already satisfied: tokenizers<0.20,>=0.19 in /home/wicio/PycharmProjects/bielik-ft-legal/.venv/lib/python3.11/site-packages (from transformers) (0.19.1)\r\n",
      "Requirement already satisfied: tqdm>=4.27 in /home/wicio/PycharmProjects/bielik-ft-legal/.venv/lib/python3.11/site-packages (from transformers) (4.66.4)\r\n",
      "Requirement already satisfied: fsspec>=2023.5.0 in /home/wicio/PycharmProjects/bielik-ft-legal/.venv/lib/python3.11/site-packages (from huggingface-hub<1.0,>=0.23.2->transformers) (2024.6.1)\r\n",
      "Requirement already satisfied: typing-extensions>=3.7.4.3 in /home/wicio/PycharmProjects/bielik-ft-legal/.venv/lib/python3.11/site-packages (from huggingface-hub<1.0,>=0.23.2->transformers) (4.12.2)\r\n",
      "Requirement already satisfied: charset-normalizer<4,>=2 in /home/wicio/PycharmProjects/bielik-ft-legal/.venv/lib/python3.11/site-packages (from requests->transformers) (3.3.2)\r\n",
      "Requirement already satisfied: idna<4,>=2.5 in /home/wicio/PycharmProjects/bielik-ft-legal/.venv/lib/python3.11/site-packages (from requests->transformers) (3.7)\r\n",
      "Requirement already satisfied: urllib3<3,>=1.21.1 in /home/wicio/PycharmProjects/bielik-ft-legal/.venv/lib/python3.11/site-packages (from requests->transformers) (2.2.2)\r\n",
      "Requirement already satisfied: certifi>=2017.4.17 in /home/wicio/PycharmProjects/bielik-ft-legal/.venv/lib/python3.11/site-packages (from requests->transformers) (2024.6.2)\r\n",
      "\r\n",
      "\u001B[1m[\u001B[0m\u001B[34;49mnotice\u001B[0m\u001B[1;39;49m]\u001B[0m\u001B[39;49m A new release of pip is available: \u001B[0m\u001B[31;49m24.1.1\u001B[0m\u001B[39;49m -> \u001B[0m\u001B[32;49m24.2\u001B[0m\r\n",
      "\u001B[1m[\u001B[0m\u001B[34;49mnotice\u001B[0m\u001B[1;39;49m]\u001B[0m\u001B[39;49m To update, run: \u001B[0m\u001B[32;49mpip install --upgrade pip\u001B[0m\r\n",
      "Requirement already satisfied: accelerate in /home/wicio/PycharmProjects/bielik-ft-legal/.venv/lib/python3.11/site-packages (0.33.0)\r\n",
      "Requirement already satisfied: numpy<2.0.0,>=1.17 in /home/wicio/PycharmProjects/bielik-ft-legal/.venv/lib/python3.11/site-packages (from accelerate) (1.26.4)\r\n",
      "Requirement already satisfied: packaging>=20.0 in /home/wicio/PycharmProjects/bielik-ft-legal/.venv/lib/python3.11/site-packages (from accelerate) (24.1)\r\n",
      "Requirement already satisfied: psutil in /home/wicio/PycharmProjects/bielik-ft-legal/.venv/lib/python3.11/site-packages (from accelerate) (6.0.0)\r\n",
      "Requirement already satisfied: pyyaml in /home/wicio/PycharmProjects/bielik-ft-legal/.venv/lib/python3.11/site-packages (from accelerate) (6.0.1)\r\n",
      "Requirement already satisfied: torch>=1.10.0 in /home/wicio/PycharmProjects/bielik-ft-legal/.venv/lib/python3.11/site-packages (from accelerate) (2.3.1+cu118)\r\n",
      "Requirement already satisfied: huggingface-hub>=0.21.0 in /home/wicio/PycharmProjects/bielik-ft-legal/.venv/lib/python3.11/site-packages (from accelerate) (0.23.4)\r\n",
      "Requirement already satisfied: safetensors>=0.3.1 in /home/wicio/PycharmProjects/bielik-ft-legal/.venv/lib/python3.11/site-packages (from accelerate) (0.4.3)\r\n",
      "Requirement already satisfied: filelock in /home/wicio/PycharmProjects/bielik-ft-legal/.venv/lib/python3.11/site-packages (from huggingface-hub>=0.21.0->accelerate) (3.15.4)\r\n",
      "Requirement already satisfied: fsspec>=2023.5.0 in /home/wicio/PycharmProjects/bielik-ft-legal/.venv/lib/python3.11/site-packages (from huggingface-hub>=0.21.0->accelerate) (2024.6.1)\r\n",
      "Requirement already satisfied: requests in /home/wicio/PycharmProjects/bielik-ft-legal/.venv/lib/python3.11/site-packages (from huggingface-hub>=0.21.0->accelerate) (2.32.3)\r\n",
      "Requirement already satisfied: tqdm>=4.42.1 in /home/wicio/PycharmProjects/bielik-ft-legal/.venv/lib/python3.11/site-packages (from huggingface-hub>=0.21.0->accelerate) (4.66.4)\r\n",
      "Requirement already satisfied: typing-extensions>=3.7.4.3 in /home/wicio/PycharmProjects/bielik-ft-legal/.venv/lib/python3.11/site-packages (from huggingface-hub>=0.21.0->accelerate) (4.12.2)\r\n",
      "Requirement already satisfied: sympy in /home/wicio/PycharmProjects/bielik-ft-legal/.venv/lib/python3.11/site-packages (from torch>=1.10.0->accelerate) (1.12)\r\n",
      "Requirement already satisfied: networkx in /home/wicio/PycharmProjects/bielik-ft-legal/.venv/lib/python3.11/site-packages (from torch>=1.10.0->accelerate) (3.2.1)\r\n",
      "Requirement already satisfied: jinja2 in /home/wicio/PycharmProjects/bielik-ft-legal/.venv/lib/python3.11/site-packages (from torch>=1.10.0->accelerate) (3.1.4)\r\n",
      "Requirement already satisfied: nvidia-cuda-nvrtc-cu11==11.8.89 in /home/wicio/PycharmProjects/bielik-ft-legal/.venv/lib/python3.11/site-packages (from torch>=1.10.0->accelerate) (11.8.89)\r\n",
      "Requirement already satisfied: nvidia-cuda-runtime-cu11==11.8.89 in /home/wicio/PycharmProjects/bielik-ft-legal/.venv/lib/python3.11/site-packages (from torch>=1.10.0->accelerate) (11.8.89)\r\n",
      "Requirement already satisfied: nvidia-cuda-cupti-cu11==11.8.87 in /home/wicio/PycharmProjects/bielik-ft-legal/.venv/lib/python3.11/site-packages (from torch>=1.10.0->accelerate) (11.8.87)\r\n",
      "Requirement already satisfied: nvidia-cudnn-cu11==8.7.0.84 in /home/wicio/PycharmProjects/bielik-ft-legal/.venv/lib/python3.11/site-packages (from torch>=1.10.0->accelerate) (8.7.0.84)\r\n",
      "Requirement already satisfied: nvidia-cublas-cu11==11.11.3.6 in /home/wicio/PycharmProjects/bielik-ft-legal/.venv/lib/python3.11/site-packages (from torch>=1.10.0->accelerate) (11.11.3.6)\r\n",
      "Requirement already satisfied: nvidia-cufft-cu11==10.9.0.58 in /home/wicio/PycharmProjects/bielik-ft-legal/.venv/lib/python3.11/site-packages (from torch>=1.10.0->accelerate) (10.9.0.58)\r\n",
      "Requirement already satisfied: nvidia-curand-cu11==10.3.0.86 in /home/wicio/PycharmProjects/bielik-ft-legal/.venv/lib/python3.11/site-packages (from torch>=1.10.0->accelerate) (10.3.0.86)\r\n",
      "Requirement already satisfied: nvidia-cusolver-cu11==11.4.1.48 in /home/wicio/PycharmProjects/bielik-ft-legal/.venv/lib/python3.11/site-packages (from torch>=1.10.0->accelerate) (11.4.1.48)\r\n",
      "Requirement already satisfied: nvidia-cusparse-cu11==11.7.5.86 in /home/wicio/PycharmProjects/bielik-ft-legal/.venv/lib/python3.11/site-packages (from torch>=1.10.0->accelerate) (11.7.5.86)\r\n",
      "Requirement already satisfied: nvidia-nccl-cu11==2.20.5 in /home/wicio/PycharmProjects/bielik-ft-legal/.venv/lib/python3.11/site-packages (from torch>=1.10.0->accelerate) (2.20.5)\r\n",
      "Requirement already satisfied: nvidia-nvtx-cu11==11.8.86 in /home/wicio/PycharmProjects/bielik-ft-legal/.venv/lib/python3.11/site-packages (from torch>=1.10.0->accelerate) (11.8.86)\r\n",
      "Requirement already satisfied: triton==2.3.1 in /home/wicio/PycharmProjects/bielik-ft-legal/.venv/lib/python3.11/site-packages (from torch>=1.10.0->accelerate) (2.3.1)\r\n",
      "Requirement already satisfied: MarkupSafe>=2.0 in /home/wicio/PycharmProjects/bielik-ft-legal/.venv/lib/python3.11/site-packages (from jinja2->torch>=1.10.0->accelerate) (2.1.5)\r\n",
      "Requirement already satisfied: charset-normalizer<4,>=2 in /home/wicio/PycharmProjects/bielik-ft-legal/.venv/lib/python3.11/site-packages (from requests->huggingface-hub>=0.21.0->accelerate) (3.3.2)\r\n",
      "Requirement already satisfied: idna<4,>=2.5 in /home/wicio/PycharmProjects/bielik-ft-legal/.venv/lib/python3.11/site-packages (from requests->huggingface-hub>=0.21.0->accelerate) (3.7)\r\n",
      "Requirement already satisfied: urllib3<3,>=1.21.1 in /home/wicio/PycharmProjects/bielik-ft-legal/.venv/lib/python3.11/site-packages (from requests->huggingface-hub>=0.21.0->accelerate) (2.2.2)\r\n",
      "Requirement already satisfied: certifi>=2017.4.17 in /home/wicio/PycharmProjects/bielik-ft-legal/.venv/lib/python3.11/site-packages (from requests->huggingface-hub>=0.21.0->accelerate) (2024.6.2)\r\n",
      "Requirement already satisfied: mpmath>=0.19 in /home/wicio/PycharmProjects/bielik-ft-legal/.venv/lib/python3.11/site-packages (from sympy->torch>=1.10.0->accelerate) (1.3.0)\r\n",
      "\r\n",
      "\u001B[1m[\u001B[0m\u001B[34;49mnotice\u001B[0m\u001B[1;39;49m]\u001B[0m\u001B[39;49m A new release of pip is available: \u001B[0m\u001B[31;49m24.1.1\u001B[0m\u001B[39;49m -> \u001B[0m\u001B[32;49m24.2\u001B[0m\r\n",
      "\u001B[1m[\u001B[0m\u001B[34;49mnotice\u001B[0m\u001B[1;39;49m]\u001B[0m\u001B[39;49m To update, run: \u001B[0m\u001B[32;49mpip install --upgrade pip\u001B[0m\r\n",
      "Requirement already satisfied: peft in /home/wicio/PycharmProjects/bielik-ft-legal/.venv/lib/python3.11/site-packages (0.12.0)\r\n",
      "Requirement already satisfied: numpy>=1.17 in /home/wicio/PycharmProjects/bielik-ft-legal/.venv/lib/python3.11/site-packages (from peft) (1.26.4)\r\n",
      "Requirement already satisfied: packaging>=20.0 in /home/wicio/PycharmProjects/bielik-ft-legal/.venv/lib/python3.11/site-packages (from peft) (24.1)\r\n",
      "Requirement already satisfied: psutil in /home/wicio/PycharmProjects/bielik-ft-legal/.venv/lib/python3.11/site-packages (from peft) (6.0.0)\r\n",
      "Requirement already satisfied: pyyaml in /home/wicio/PycharmProjects/bielik-ft-legal/.venv/lib/python3.11/site-packages (from peft) (6.0.1)\r\n",
      "Requirement already satisfied: torch>=1.13.0 in /home/wicio/PycharmProjects/bielik-ft-legal/.venv/lib/python3.11/site-packages (from peft) (2.3.1+cu118)\r\n",
      "Requirement already satisfied: transformers in /home/wicio/PycharmProjects/bielik-ft-legal/.venv/lib/python3.11/site-packages (from peft) (4.42.3)\r\n",
      "Requirement already satisfied: tqdm in /home/wicio/PycharmProjects/bielik-ft-legal/.venv/lib/python3.11/site-packages (from peft) (4.66.4)\r\n",
      "Requirement already satisfied: accelerate>=0.21.0 in /home/wicio/PycharmProjects/bielik-ft-legal/.venv/lib/python3.11/site-packages (from peft) (0.33.0)\r\n",
      "Requirement already satisfied: safetensors in /home/wicio/PycharmProjects/bielik-ft-legal/.venv/lib/python3.11/site-packages (from peft) (0.4.3)\r\n",
      "Requirement already satisfied: huggingface-hub>=0.17.0 in /home/wicio/PycharmProjects/bielik-ft-legal/.venv/lib/python3.11/site-packages (from peft) (0.23.4)\r\n",
      "Requirement already satisfied: filelock in /home/wicio/PycharmProjects/bielik-ft-legal/.venv/lib/python3.11/site-packages (from huggingface-hub>=0.17.0->peft) (3.15.4)\r\n",
      "Requirement already satisfied: fsspec>=2023.5.0 in /home/wicio/PycharmProjects/bielik-ft-legal/.venv/lib/python3.11/site-packages (from huggingface-hub>=0.17.0->peft) (2024.6.1)\r\n",
      "Requirement already satisfied: requests in /home/wicio/PycharmProjects/bielik-ft-legal/.venv/lib/python3.11/site-packages (from huggingface-hub>=0.17.0->peft) (2.32.3)\r\n",
      "Requirement already satisfied: typing-extensions>=3.7.4.3 in /home/wicio/PycharmProjects/bielik-ft-legal/.venv/lib/python3.11/site-packages (from huggingface-hub>=0.17.0->peft) (4.12.2)\r\n",
      "Requirement already satisfied: sympy in /home/wicio/PycharmProjects/bielik-ft-legal/.venv/lib/python3.11/site-packages (from torch>=1.13.0->peft) (1.12)\r\n",
      "Requirement already satisfied: networkx in /home/wicio/PycharmProjects/bielik-ft-legal/.venv/lib/python3.11/site-packages (from torch>=1.13.0->peft) (3.2.1)\r\n",
      "Requirement already satisfied: jinja2 in /home/wicio/PycharmProjects/bielik-ft-legal/.venv/lib/python3.11/site-packages (from torch>=1.13.0->peft) (3.1.4)\r\n",
      "Requirement already satisfied: nvidia-cuda-nvrtc-cu11==11.8.89 in /home/wicio/PycharmProjects/bielik-ft-legal/.venv/lib/python3.11/site-packages (from torch>=1.13.0->peft) (11.8.89)\r\n",
      "Requirement already satisfied: nvidia-cuda-runtime-cu11==11.8.89 in /home/wicio/PycharmProjects/bielik-ft-legal/.venv/lib/python3.11/site-packages (from torch>=1.13.0->peft) (11.8.89)\r\n",
      "Requirement already satisfied: nvidia-cuda-cupti-cu11==11.8.87 in /home/wicio/PycharmProjects/bielik-ft-legal/.venv/lib/python3.11/site-packages (from torch>=1.13.0->peft) (11.8.87)\r\n",
      "Requirement already satisfied: nvidia-cudnn-cu11==8.7.0.84 in /home/wicio/PycharmProjects/bielik-ft-legal/.venv/lib/python3.11/site-packages (from torch>=1.13.0->peft) (8.7.0.84)\r\n",
      "Requirement already satisfied: nvidia-cublas-cu11==11.11.3.6 in /home/wicio/PycharmProjects/bielik-ft-legal/.venv/lib/python3.11/site-packages (from torch>=1.13.0->peft) (11.11.3.6)\r\n",
      "Requirement already satisfied: nvidia-cufft-cu11==10.9.0.58 in /home/wicio/PycharmProjects/bielik-ft-legal/.venv/lib/python3.11/site-packages (from torch>=1.13.0->peft) (10.9.0.58)\r\n",
      "Requirement already satisfied: nvidia-curand-cu11==10.3.0.86 in /home/wicio/PycharmProjects/bielik-ft-legal/.venv/lib/python3.11/site-packages (from torch>=1.13.0->peft) (10.3.0.86)\r\n",
      "Requirement already satisfied: nvidia-cusolver-cu11==11.4.1.48 in /home/wicio/PycharmProjects/bielik-ft-legal/.venv/lib/python3.11/site-packages (from torch>=1.13.0->peft) (11.4.1.48)\r\n",
      "Requirement already satisfied: nvidia-cusparse-cu11==11.7.5.86 in /home/wicio/PycharmProjects/bielik-ft-legal/.venv/lib/python3.11/site-packages (from torch>=1.13.0->peft) (11.7.5.86)\r\n",
      "Requirement already satisfied: nvidia-nccl-cu11==2.20.5 in /home/wicio/PycharmProjects/bielik-ft-legal/.venv/lib/python3.11/site-packages (from torch>=1.13.0->peft) (2.20.5)\r\n",
      "Requirement already satisfied: nvidia-nvtx-cu11==11.8.86 in /home/wicio/PycharmProjects/bielik-ft-legal/.venv/lib/python3.11/site-packages (from torch>=1.13.0->peft) (11.8.86)\r\n",
      "Requirement already satisfied: triton==2.3.1 in /home/wicio/PycharmProjects/bielik-ft-legal/.venv/lib/python3.11/site-packages (from torch>=1.13.0->peft) (2.3.1)\r\n",
      "Requirement already satisfied: regex!=2019.12.17 in /home/wicio/PycharmProjects/bielik-ft-legal/.venv/lib/python3.11/site-packages (from transformers->peft) (2024.5.15)\r\n",
      "Requirement already satisfied: tokenizers<0.20,>=0.19 in /home/wicio/PycharmProjects/bielik-ft-legal/.venv/lib/python3.11/site-packages (from transformers->peft) (0.19.1)\r\n",
      "Requirement already satisfied: MarkupSafe>=2.0 in /home/wicio/PycharmProjects/bielik-ft-legal/.venv/lib/python3.11/site-packages (from jinja2->torch>=1.13.0->peft) (2.1.5)\r\n",
      "Requirement already satisfied: charset-normalizer<4,>=2 in /home/wicio/PycharmProjects/bielik-ft-legal/.venv/lib/python3.11/site-packages (from requests->huggingface-hub>=0.17.0->peft) (3.3.2)\r\n",
      "Requirement already satisfied: idna<4,>=2.5 in /home/wicio/PycharmProjects/bielik-ft-legal/.venv/lib/python3.11/site-packages (from requests->huggingface-hub>=0.17.0->peft) (3.7)\r\n",
      "Requirement already satisfied: urllib3<3,>=1.21.1 in /home/wicio/PycharmProjects/bielik-ft-legal/.venv/lib/python3.11/site-packages (from requests->huggingface-hub>=0.17.0->peft) (2.2.2)\r\n",
      "Requirement already satisfied: certifi>=2017.4.17 in /home/wicio/PycharmProjects/bielik-ft-legal/.venv/lib/python3.11/site-packages (from requests->huggingface-hub>=0.17.0->peft) (2024.6.2)\r\n",
      "Requirement already satisfied: mpmath>=0.19 in /home/wicio/PycharmProjects/bielik-ft-legal/.venv/lib/python3.11/site-packages (from sympy->torch>=1.13.0->peft) (1.3.0)\r\n",
      "\r\n",
      "\u001B[1m[\u001B[0m\u001B[34;49mnotice\u001B[0m\u001B[1;39;49m]\u001B[0m\u001B[39;49m A new release of pip is available: \u001B[0m\u001B[31;49m24.1.1\u001B[0m\u001B[39;49m -> \u001B[0m\u001B[32;49m24.2\u001B[0m\r\n",
      "\u001B[1m[\u001B[0m\u001B[34;49mnotice\u001B[0m\u001B[1;39;49m]\u001B[0m\u001B[39;49m To update, run: \u001B[0m\u001B[32;49mpip install --upgrade pip\u001B[0m\r\n",
      "Requirement already satisfied: wandb in /home/wicio/PycharmProjects/bielik-ft-legal/.venv/lib/python3.11/site-packages (0.17.7)\r\n",
      "Requirement already satisfied: click!=8.0.0,>=7.1 in /home/wicio/PycharmProjects/bielik-ft-legal/.venv/lib/python3.11/site-packages (from wandb) (8.1.7)\r\n",
      "Requirement already satisfied: docker-pycreds>=0.4.0 in /home/wicio/PycharmProjects/bielik-ft-legal/.venv/lib/python3.11/site-packages (from wandb) (0.4.0)\r\n",
      "Requirement already satisfied: gitpython!=3.1.29,>=1.0.0 in /home/wicio/PycharmProjects/bielik-ft-legal/.venv/lib/python3.11/site-packages (from wandb) (3.1.43)\r\n",
      "Requirement already satisfied: platformdirs in /home/wicio/PycharmProjects/bielik-ft-legal/.venv/lib/python3.11/site-packages (from wandb) (4.2.2)\r\n",
      "Requirement already satisfied: protobuf!=4.21.0,<6,>=3.19.0 in /home/wicio/PycharmProjects/bielik-ft-legal/.venv/lib/python3.11/site-packages (from wandb) (5.27.3)\r\n",
      "Requirement already satisfied: psutil>=5.0.0 in /home/wicio/PycharmProjects/bielik-ft-legal/.venv/lib/python3.11/site-packages (from wandb) (6.0.0)\r\n",
      "Requirement already satisfied: pyyaml in /home/wicio/PycharmProjects/bielik-ft-legal/.venv/lib/python3.11/site-packages (from wandb) (6.0.1)\r\n",
      "Requirement already satisfied: requests<3,>=2.0.0 in /home/wicio/PycharmProjects/bielik-ft-legal/.venv/lib/python3.11/site-packages (from wandb) (2.32.3)\r\n",
      "Requirement already satisfied: sentry-sdk>=1.0.0 in /home/wicio/PycharmProjects/bielik-ft-legal/.venv/lib/python3.11/site-packages (from wandb) (2.13.0)\r\n",
      "Requirement already satisfied: setproctitle in /home/wicio/PycharmProjects/bielik-ft-legal/.venv/lib/python3.11/site-packages (from wandb) (1.3.3)\r\n",
      "Requirement already satisfied: setuptools in /home/wicio/PycharmProjects/bielik-ft-legal/.venv/lib/python3.11/site-packages (from wandb) (68.2.0)\r\n",
      "Requirement already satisfied: six>=1.4.0 in /home/wicio/PycharmProjects/bielik-ft-legal/.venv/lib/python3.11/site-packages (from docker-pycreds>=0.4.0->wandb) (1.16.0)\r\n",
      "Requirement already satisfied: gitdb<5,>=4.0.1 in /home/wicio/PycharmProjects/bielik-ft-legal/.venv/lib/python3.11/site-packages (from gitpython!=3.1.29,>=1.0.0->wandb) (4.0.11)\r\n",
      "Requirement already satisfied: charset-normalizer<4,>=2 in /home/wicio/PycharmProjects/bielik-ft-legal/.venv/lib/python3.11/site-packages (from requests<3,>=2.0.0->wandb) (3.3.2)\r\n",
      "Requirement already satisfied: idna<4,>=2.5 in /home/wicio/PycharmProjects/bielik-ft-legal/.venv/lib/python3.11/site-packages (from requests<3,>=2.0.0->wandb) (3.7)\r\n",
      "Requirement already satisfied: urllib3<3,>=1.21.1 in /home/wicio/PycharmProjects/bielik-ft-legal/.venv/lib/python3.11/site-packages (from requests<3,>=2.0.0->wandb) (2.2.2)\r\n",
      "Requirement already satisfied: certifi>=2017.4.17 in /home/wicio/PycharmProjects/bielik-ft-legal/.venv/lib/python3.11/site-packages (from requests<3,>=2.0.0->wandb) (2024.6.2)\r\n",
      "Requirement already satisfied: smmap<6,>=3.0.1 in /home/wicio/PycharmProjects/bielik-ft-legal/.venv/lib/python3.11/site-packages (from gitdb<5,>=4.0.1->gitpython!=3.1.29,>=1.0.0->wandb) (5.0.1)\r\n",
      "\r\n",
      "\u001B[1m[\u001B[0m\u001B[34;49mnotice\u001B[0m\u001B[1;39;49m]\u001B[0m\u001B[39;49m A new release of pip is available: \u001B[0m\u001B[31;49m24.1.1\u001B[0m\u001B[39;49m -> \u001B[0m\u001B[32;49m24.2\u001B[0m\r\n",
      "\u001B[1m[\u001B[0m\u001B[34;49mnotice\u001B[0m\u001B[1;39;49m]\u001B[0m\u001B[39;49m To update, run: \u001B[0m\u001B[32;49mpip install --upgrade pip\u001B[0m\r\n",
      "Collecting datasets\r\n",
      "  Downloading datasets-2.21.0-py3-none-any.whl.metadata (21 kB)\r\n",
      "Requirement already satisfied: filelock in /home/wicio/PycharmProjects/bielik-ft-legal/.venv/lib/python3.11/site-packages (from datasets) (3.15.4)\r\n",
      "Requirement already satisfied: numpy>=1.17 in /home/wicio/PycharmProjects/bielik-ft-legal/.venv/lib/python3.11/site-packages (from datasets) (1.26.4)\r\n",
      "Collecting pyarrow>=15.0.0 (from datasets)\r\n",
      "  Downloading pyarrow-17.0.0-cp311-cp311-manylinux_2_28_x86_64.whl.metadata (3.3 kB)\r\n",
      "Collecting dill<0.3.9,>=0.3.0 (from datasets)\r\n",
      "  Downloading dill-0.3.8-py3-none-any.whl.metadata (10 kB)\r\n",
      "Requirement already satisfied: pandas in /home/wicio/PycharmProjects/bielik-ft-legal/.venv/lib/python3.11/site-packages (from datasets) (2.2.2)\r\n",
      "Requirement already satisfied: requests>=2.32.2 in /home/wicio/PycharmProjects/bielik-ft-legal/.venv/lib/python3.11/site-packages (from datasets) (2.32.3)\r\n",
      "Requirement already satisfied: tqdm>=4.66.3 in /home/wicio/PycharmProjects/bielik-ft-legal/.venv/lib/python3.11/site-packages (from datasets) (4.66.4)\r\n",
      "Collecting xxhash (from datasets)\r\n",
      "  Downloading xxhash-3.5.0-cp311-cp311-manylinux_2_17_x86_64.manylinux2014_x86_64.whl.metadata (12 kB)\r\n",
      "Collecting multiprocess (from datasets)\r\n",
      "  Downloading multiprocess-0.70.16-py311-none-any.whl.metadata (7.2 kB)\r\n",
      "Requirement already satisfied: fsspec<=2024.6.1,>=2023.1.0 in /home/wicio/PycharmProjects/bielik-ft-legal/.venv/lib/python3.11/site-packages (from fsspec[http]<=2024.6.1,>=2023.1.0->datasets) (2024.6.1)\r\n",
      "Requirement already satisfied: aiohttp in /home/wicio/PycharmProjects/bielik-ft-legal/.venv/lib/python3.11/site-packages (from datasets) (3.9.5)\r\n",
      "Requirement already satisfied: huggingface-hub>=0.21.2 in /home/wicio/PycharmProjects/bielik-ft-legal/.venv/lib/python3.11/site-packages (from datasets) (0.23.4)\r\n",
      "Requirement already satisfied: packaging in /home/wicio/PycharmProjects/bielik-ft-legal/.venv/lib/python3.11/site-packages (from datasets) (24.1)\r\n",
      "Requirement already satisfied: pyyaml>=5.1 in /home/wicio/PycharmProjects/bielik-ft-legal/.venv/lib/python3.11/site-packages (from datasets) (6.0.1)\r\n",
      "Requirement already satisfied: aiosignal>=1.1.2 in /home/wicio/PycharmProjects/bielik-ft-legal/.venv/lib/python3.11/site-packages (from aiohttp->datasets) (1.3.1)\r\n",
      "Requirement already satisfied: attrs>=17.3.0 in /home/wicio/PycharmProjects/bielik-ft-legal/.venv/lib/python3.11/site-packages (from aiohttp->datasets) (23.2.0)\r\n",
      "Requirement already satisfied: frozenlist>=1.1.1 in /home/wicio/PycharmProjects/bielik-ft-legal/.venv/lib/python3.11/site-packages (from aiohttp->datasets) (1.4.1)\r\n",
      "Requirement already satisfied: multidict<7.0,>=4.5 in /home/wicio/PycharmProjects/bielik-ft-legal/.venv/lib/python3.11/site-packages (from aiohttp->datasets) (6.0.5)\r\n",
      "Requirement already satisfied: yarl<2.0,>=1.0 in /home/wicio/PycharmProjects/bielik-ft-legal/.venv/lib/python3.11/site-packages (from aiohttp->datasets) (1.9.4)\r\n",
      "Requirement already satisfied: typing-extensions>=3.7.4.3 in /home/wicio/PycharmProjects/bielik-ft-legal/.venv/lib/python3.11/site-packages (from huggingface-hub>=0.21.2->datasets) (4.12.2)\r\n",
      "Requirement already satisfied: charset-normalizer<4,>=2 in /home/wicio/PycharmProjects/bielik-ft-legal/.venv/lib/python3.11/site-packages (from requests>=2.32.2->datasets) (3.3.2)\r\n",
      "Requirement already satisfied: idna<4,>=2.5 in /home/wicio/PycharmProjects/bielik-ft-legal/.venv/lib/python3.11/site-packages (from requests>=2.32.2->datasets) (3.7)\r\n",
      "Requirement already satisfied: urllib3<3,>=1.21.1 in /home/wicio/PycharmProjects/bielik-ft-legal/.venv/lib/python3.11/site-packages (from requests>=2.32.2->datasets) (2.2.2)\r\n",
      "Requirement already satisfied: certifi>=2017.4.17 in /home/wicio/PycharmProjects/bielik-ft-legal/.venv/lib/python3.11/site-packages (from requests>=2.32.2->datasets) (2024.6.2)\r\n",
      "Requirement already satisfied: python-dateutil>=2.8.2 in /home/wicio/PycharmProjects/bielik-ft-legal/.venv/lib/python3.11/site-packages (from pandas->datasets) (2.9.0.post0)\r\n",
      "Requirement already satisfied: pytz>=2020.1 in /home/wicio/PycharmProjects/bielik-ft-legal/.venv/lib/python3.11/site-packages (from pandas->datasets) (2024.1)\r\n",
      "Requirement already satisfied: tzdata>=2022.7 in /home/wicio/PycharmProjects/bielik-ft-legal/.venv/lib/python3.11/site-packages (from pandas->datasets) (2024.1)\r\n",
      "Requirement already satisfied: six>=1.5 in /home/wicio/PycharmProjects/bielik-ft-legal/.venv/lib/python3.11/site-packages (from python-dateutil>=2.8.2->pandas->datasets) (1.16.0)\r\n",
      "Downloading datasets-2.21.0-py3-none-any.whl (527 kB)\r\n",
      "\u001B[2K   \u001B[38;2;114;156;31m━━━━━━━━━━━━━━━━━━━━━━━━━━━━━━━━━━━━━━━━\u001B[0m \u001B[32m527.3/527.3 kB\u001B[0m \u001B[31m3.7 MB/s\u001B[0m eta \u001B[36m0:00:00\u001B[0mm eta \u001B[36m0:00:01\u001B[0m[36m0:00:01\u001B[0m\r\n",
      "\u001B[?25hDownloading dill-0.3.8-py3-none-any.whl (116 kB)\r\n",
      "\u001B[2K   \u001B[38;2;114;156;31m━━━━━━━━━━━━━━━━━━━━━━━━━━━━━━━━━━━━━━━━\u001B[0m \u001B[32m116.3/116.3 kB\u001B[0m \u001B[31m4.7 MB/s\u001B[0m eta \u001B[36m0:00:00\u001B[0m\r\n",
      "\u001B[?25hDownloading pyarrow-17.0.0-cp311-cp311-manylinux_2_28_x86_64.whl (39.9 MB)\r\n",
      "\u001B[2K   \u001B[38;2;114;156;31m━━━━━━━━━━━━━━━━━━━━━━━━━━━━━━━━━━━━━━━━\u001B[0m \u001B[32m39.9/39.9 MB\u001B[0m \u001B[31m798.1 kB/s\u001B[0m eta \u001B[36m0:00:00\u001B[0mm eta \u001B[36m0:00:01\u001B[0m[36m0:00:02\u001B[0m\r\n",
      "\u001B[?25hDownloading multiprocess-0.70.16-py311-none-any.whl (143 kB)\r\n",
      "\u001B[2K   \u001B[38;2;114;156;31m━━━━━━━━━━━━━━━━━━━━━━━━━━━━━━━━━━━━━━━━\u001B[0m \u001B[32m143.5/143.5 kB\u001B[0m \u001B[31m4.3 MB/s\u001B[0m eta \u001B[36m0:00:00\u001B[0m\r\n",
      "\u001B[?25hDownloading xxhash-3.5.0-cp311-cp311-manylinux_2_17_x86_64.manylinux2014_x86_64.whl (194 kB)\r\n",
      "\u001B[2K   \u001B[38;2;114;156;31m━━━━━━━━━━━━━━━━━━━━━━━━━━━━━━━━━━━━━━━━\u001B[0m \u001B[32m194.8/194.8 kB\u001B[0m \u001B[31m5.0 MB/s\u001B[0m eta \u001B[36m0:00:00\u001B[0mm eta \u001B[36m0:00:01\u001B[0m\r\n",
      "\u001B[?25hInstalling collected packages: xxhash, pyarrow, dill, multiprocess, datasets\r\n",
      "Successfully installed datasets-2.21.0 dill-0.3.8 multiprocess-0.70.16 pyarrow-17.0.0 xxhash-3.5.0\r\n",
      "\r\n",
      "\u001B[1m[\u001B[0m\u001B[34;49mnotice\u001B[0m\u001B[1;39;49m]\u001B[0m\u001B[39;49m A new release of pip is available: \u001B[0m\u001B[31;49m24.1.1\u001B[0m\u001B[39;49m -> \u001B[0m\u001B[32;49m24.2\u001B[0m\r\n",
      "\u001B[1m[\u001B[0m\u001B[34;49mnotice\u001B[0m\u001B[1;39;49m]\u001B[0m\u001B[39;49m To update, run: \u001B[0m\u001B[32;49mpip install --upgrade pip\u001B[0m\r\n"
     ]
    }
   ],
   "source": [
    "! pip install bitsandbytes\n",
    "! pip install transformers\n",
    "! pip install accelerate\n",
    "! pip install peft\n",
    "! pip install wandb\n",
    "! pip install datasets"
   ],
   "metadata": {
    "collapsed": false,
    "ExecuteTime": {
     "end_time": "2024-08-17T19:55:41.128124Z",
     "start_time": "2024-08-17T19:55:11.300887Z"
    }
   },
   "id": "766c44c05fcf158a",
   "execution_count": 4
  },
  {
   "cell_type": "code",
   "outputs": [],
   "source": [
    "from datasets import load_dataset"
   ],
   "metadata": {
    "collapsed": false
   },
   "id": "443358b24304cdf0"
  },
  {
   "cell_type": "code",
   "outputs": [
    {
     "data": {
      "text/plain": "VBox(children=(HTML(value='<center> <img\\nsrc=https://huggingface.co/front/assets/huggingface_logo-noborder.sv…",
      "application/vnd.jupyter.widget-view+json": {
       "version_major": 2,
       "version_minor": 0,
       "model_id": "a67915a0c7ab4e83a410beace15ad708"
      }
     },
     "metadata": {},
     "output_type": "display_data"
    }
   ],
   "source": [
    "from huggingface_hub import notebook_login\n",
    "\n",
    "notebook_login()"
   ],
   "metadata": {
    "collapsed": false,
    "ExecuteTime": {
     "end_time": "2024-08-17T19:58:57.596661Z",
     "start_time": "2024-08-17T19:58:57.232777Z"
    }
   },
   "id": "d82bfff2ae07d6b6",
   "execution_count": 5
  },
  {
   "cell_type": "code",
   "outputs": [
    {
     "ename": "RuntimeError",
     "evalue": "No GPU found. A GPU is needed for quantization.",
     "output_type": "error",
     "traceback": [
      "\u001B[0;31m---------------------------------------------------------------------------\u001B[0m",
      "\u001B[0;31mRuntimeError\u001B[0m                              Traceback (most recent call last)",
      "Cell \u001B[0;32mIn[6], line 12\u001B[0m\n\u001B[1;32m      4\u001B[0m base_model_id \u001B[38;5;241m=\u001B[39m \u001B[38;5;124m\"\u001B[39m\u001B[38;5;124mspeakleash/Bielik-7B-v0.1\u001B[39m\u001B[38;5;124m\"\u001B[39m\n\u001B[1;32m      5\u001B[0m bnb_config \u001B[38;5;241m=\u001B[39m BitsAndBytesConfig(\n\u001B[1;32m      6\u001B[0m     load_in_4bit\u001B[38;5;241m=\u001B[39m\u001B[38;5;28;01mTrue\u001B[39;00m,\n\u001B[1;32m      7\u001B[0m     bnb_4bit_use_double_quant\u001B[38;5;241m=\u001B[39m\u001B[38;5;28;01mTrue\u001B[39;00m,\n\u001B[1;32m      8\u001B[0m     bnb_4bit_quant_type\u001B[38;5;241m=\u001B[39m\u001B[38;5;124m\"\u001B[39m\u001B[38;5;124mnf4\u001B[39m\u001B[38;5;124m\"\u001B[39m,\n\u001B[1;32m      9\u001B[0m     bnb_4bit_compute_dtype\u001B[38;5;241m=\u001B[39mtorch\u001B[38;5;241m.\u001B[39mbfloat16\n\u001B[1;32m     10\u001B[0m )\n\u001B[0;32m---> 12\u001B[0m model \u001B[38;5;241m=\u001B[39m \u001B[43mAutoModelForCausalLM\u001B[49m\u001B[38;5;241;43m.\u001B[39;49m\u001B[43mfrom_pretrained\u001B[49m\u001B[43m(\u001B[49m\u001B[43mbase_model_id\u001B[49m\u001B[43m,\u001B[49m\u001B[43m \u001B[49m\u001B[43mquantization_config\u001B[49m\u001B[38;5;241;43m=\u001B[39;49m\u001B[43mbnb_config\u001B[49m\u001B[43m,\u001B[49m\u001B[43m \u001B[49m\u001B[43mdevice_map\u001B[49m\u001B[38;5;241;43m=\u001B[39;49m\u001B[38;5;124;43m\"\u001B[39;49m\u001B[38;5;124;43mauto\u001B[39;49m\u001B[38;5;124;43m\"\u001B[39;49m\u001B[43m)\u001B[49m\n",
      "File \u001B[0;32m~/PycharmProjects/bielik-ft-legal/.venv/lib/python3.11/site-packages/transformers/models/auto/auto_factory.py:564\u001B[0m, in \u001B[0;36m_BaseAutoModelClass.from_pretrained\u001B[0;34m(cls, pretrained_model_name_or_path, *model_args, **kwargs)\u001B[0m\n\u001B[1;32m    562\u001B[0m \u001B[38;5;28;01melif\u001B[39;00m \u001B[38;5;28mtype\u001B[39m(config) \u001B[38;5;129;01min\u001B[39;00m \u001B[38;5;28mcls\u001B[39m\u001B[38;5;241m.\u001B[39m_model_mapping\u001B[38;5;241m.\u001B[39mkeys():\n\u001B[1;32m    563\u001B[0m     model_class \u001B[38;5;241m=\u001B[39m _get_model_class(config, \u001B[38;5;28mcls\u001B[39m\u001B[38;5;241m.\u001B[39m_model_mapping)\n\u001B[0;32m--> 564\u001B[0m     \u001B[38;5;28;01mreturn\u001B[39;00m \u001B[43mmodel_class\u001B[49m\u001B[38;5;241;43m.\u001B[39;49m\u001B[43mfrom_pretrained\u001B[49m\u001B[43m(\u001B[49m\n\u001B[1;32m    565\u001B[0m \u001B[43m        \u001B[49m\u001B[43mpretrained_model_name_or_path\u001B[49m\u001B[43m,\u001B[49m\u001B[43m \u001B[49m\u001B[38;5;241;43m*\u001B[39;49m\u001B[43mmodel_args\u001B[49m\u001B[43m,\u001B[49m\u001B[43m \u001B[49m\u001B[43mconfig\u001B[49m\u001B[38;5;241;43m=\u001B[39;49m\u001B[43mconfig\u001B[49m\u001B[43m,\u001B[49m\u001B[43m \u001B[49m\u001B[38;5;241;43m*\u001B[39;49m\u001B[38;5;241;43m*\u001B[39;49m\u001B[43mhub_kwargs\u001B[49m\u001B[43m,\u001B[49m\u001B[43m \u001B[49m\u001B[38;5;241;43m*\u001B[39;49m\u001B[38;5;241;43m*\u001B[39;49m\u001B[43mkwargs\u001B[49m\n\u001B[1;32m    566\u001B[0m \u001B[43m    \u001B[49m\u001B[43m)\u001B[49m\n\u001B[1;32m    567\u001B[0m \u001B[38;5;28;01mraise\u001B[39;00m \u001B[38;5;167;01mValueError\u001B[39;00m(\n\u001B[1;32m    568\u001B[0m     \u001B[38;5;124mf\u001B[39m\u001B[38;5;124m\"\u001B[39m\u001B[38;5;124mUnrecognized configuration class \u001B[39m\u001B[38;5;132;01m{\u001B[39;00mconfig\u001B[38;5;241m.\u001B[39m\u001B[38;5;18m__class__\u001B[39m\u001B[38;5;132;01m}\u001B[39;00m\u001B[38;5;124m for this kind of AutoModel: \u001B[39m\u001B[38;5;132;01m{\u001B[39;00m\u001B[38;5;28mcls\u001B[39m\u001B[38;5;241m.\u001B[39m\u001B[38;5;18m__name__\u001B[39m\u001B[38;5;132;01m}\u001B[39;00m\u001B[38;5;124m.\u001B[39m\u001B[38;5;130;01m\\n\u001B[39;00m\u001B[38;5;124m\"\u001B[39m\n\u001B[1;32m    569\u001B[0m     \u001B[38;5;124mf\u001B[39m\u001B[38;5;124m\"\u001B[39m\u001B[38;5;124mModel type should be one of \u001B[39m\u001B[38;5;132;01m{\u001B[39;00m\u001B[38;5;124m'\u001B[39m\u001B[38;5;124m, \u001B[39m\u001B[38;5;124m'\u001B[39m\u001B[38;5;241m.\u001B[39mjoin(c\u001B[38;5;241m.\u001B[39m\u001B[38;5;18m__name__\u001B[39m\u001B[38;5;250m \u001B[39m\u001B[38;5;28;01mfor\u001B[39;00m\u001B[38;5;250m \u001B[39mc\u001B[38;5;250m \u001B[39m\u001B[38;5;129;01min\u001B[39;00m\u001B[38;5;250m \u001B[39m\u001B[38;5;28mcls\u001B[39m\u001B[38;5;241m.\u001B[39m_model_mapping\u001B[38;5;241m.\u001B[39mkeys())\u001B[38;5;132;01m}\u001B[39;00m\u001B[38;5;124m.\u001B[39m\u001B[38;5;124m\"\u001B[39m\n\u001B[1;32m    570\u001B[0m )\n",
      "File \u001B[0;32m~/PycharmProjects/bielik-ft-legal/.venv/lib/python3.11/site-packages/transformers/modeling_utils.py:3279\u001B[0m, in \u001B[0;36mPreTrainedModel.from_pretrained\u001B[0;34m(cls, pretrained_model_name_or_path, config, cache_dir, ignore_mismatched_sizes, force_download, local_files_only, token, revision, use_safetensors, *model_args, **kwargs)\u001B[0m\n\u001B[1;32m   3276\u001B[0m     hf_quantizer \u001B[38;5;241m=\u001B[39m \u001B[38;5;28;01mNone\u001B[39;00m\n\u001B[1;32m   3278\u001B[0m \u001B[38;5;28;01mif\u001B[39;00m hf_quantizer \u001B[38;5;129;01mis\u001B[39;00m \u001B[38;5;129;01mnot\u001B[39;00m \u001B[38;5;28;01mNone\u001B[39;00m:\n\u001B[0;32m-> 3279\u001B[0m     \u001B[43mhf_quantizer\u001B[49m\u001B[38;5;241;43m.\u001B[39;49m\u001B[43mvalidate_environment\u001B[49m\u001B[43m(\u001B[49m\n\u001B[1;32m   3280\u001B[0m \u001B[43m        \u001B[49m\u001B[43mtorch_dtype\u001B[49m\u001B[38;5;241;43m=\u001B[39;49m\u001B[43mtorch_dtype\u001B[49m\u001B[43m,\u001B[49m\u001B[43m \u001B[49m\u001B[43mfrom_tf\u001B[49m\u001B[38;5;241;43m=\u001B[39;49m\u001B[43mfrom_tf\u001B[49m\u001B[43m,\u001B[49m\u001B[43m \u001B[49m\u001B[43mfrom_flax\u001B[49m\u001B[38;5;241;43m=\u001B[39;49m\u001B[43mfrom_flax\u001B[49m\u001B[43m,\u001B[49m\u001B[43m \u001B[49m\u001B[43mdevice_map\u001B[49m\u001B[38;5;241;43m=\u001B[39;49m\u001B[43mdevice_map\u001B[49m\n\u001B[1;32m   3281\u001B[0m \u001B[43m    \u001B[49m\u001B[43m)\u001B[49m\n\u001B[1;32m   3282\u001B[0m     torch_dtype \u001B[38;5;241m=\u001B[39m hf_quantizer\u001B[38;5;241m.\u001B[39mupdate_torch_dtype(torch_dtype)\n\u001B[1;32m   3283\u001B[0m     device_map \u001B[38;5;241m=\u001B[39m hf_quantizer\u001B[38;5;241m.\u001B[39mupdate_device_map(device_map)\n",
      "File \u001B[0;32m~/PycharmProjects/bielik-ft-legal/.venv/lib/python3.11/site-packages/transformers/quantizers/quantizer_bnb_4bit.py:62\u001B[0m, in \u001B[0;36mBnb4BitHfQuantizer.validate_environment\u001B[0;34m(self, *args, **kwargs)\u001B[0m\n\u001B[1;32m     60\u001B[0m \u001B[38;5;28;01mdef\u001B[39;00m \u001B[38;5;21mvalidate_environment\u001B[39m(\u001B[38;5;28mself\u001B[39m, \u001B[38;5;241m*\u001B[39margs, \u001B[38;5;241m*\u001B[39m\u001B[38;5;241m*\u001B[39mkwargs):\n\u001B[1;32m     61\u001B[0m     \u001B[38;5;28;01mif\u001B[39;00m \u001B[38;5;129;01mnot\u001B[39;00m torch\u001B[38;5;241m.\u001B[39mcuda\u001B[38;5;241m.\u001B[39mis_available():\n\u001B[0;32m---> 62\u001B[0m         \u001B[38;5;28;01mraise\u001B[39;00m \u001B[38;5;167;01mRuntimeError\u001B[39;00m(\u001B[38;5;124m\"\u001B[39m\u001B[38;5;124mNo GPU found. A GPU is needed for quantization.\u001B[39m\u001B[38;5;124m\"\u001B[39m)\n\u001B[1;32m     63\u001B[0m     \u001B[38;5;28;01mif\u001B[39;00m \u001B[38;5;129;01mnot\u001B[39;00m is_accelerate_available():\n\u001B[1;32m     64\u001B[0m         \u001B[38;5;28;01mraise\u001B[39;00m \u001B[38;5;167;01mImportError\u001B[39;00m(\u001B[38;5;124m\"\u001B[39m\u001B[38;5;124mUsing `bitsandbytes` 4-bit quantization requires Accelerate: `pip install accelerate`\u001B[39m\u001B[38;5;124m\"\u001B[39m)\n",
      "\u001B[0;31mRuntimeError\u001B[0m: No GPU found. A GPU is needed for quantization."
     ]
    }
   ],
   "source": [
    "import torch\n",
    "from transformers import AutoTokenizer, AutoModelForCausalLM, BitsAndBytesConfig\n",
    "\n",
    "base_model_id = \"speakleash/Bielik-7B-v0.1\"\n",
    "bnb_config = BitsAndBytesConfig(\n",
    "    load_in_4bit=True,\n",
    "    bnb_4bit_use_double_quant=True,\n",
    "    bnb_4bit_quant_type=\"nf4\",\n",
    "    bnb_4bit_compute_dtype=torch.bfloat16\n",
    ")\n",
    "\n",
    "model = AutoModelForCausalLM.from_pretrained(base_model_id, quantization_config=bnb_config, device_map=\"auto\")"
   ],
   "metadata": {
    "collapsed": false,
    "ExecuteTime": {
     "end_time": "2024-08-17T20:02:32.992575Z",
     "start_time": "2024-08-17T20:02:29.061891Z"
    }
   },
   "id": "834a2665d03a86cf",
   "execution_count": 6
  },
  {
   "cell_type": "code",
   "outputs": [],
   "source": [],
   "metadata": {
    "collapsed": false
   },
   "id": "3459e5a747685736"
  }
 ],
 "metadata": {
  "kernelspec": {
   "display_name": "Python 3",
   "language": "python",
   "name": "python3"
  },
  "language_info": {
   "codemirror_mode": {
    "name": "ipython",
    "version": 2
   },
   "file_extension": ".py",
   "mimetype": "text/x-python",
   "name": "python",
   "nbconvert_exporter": "python",
   "pygments_lexer": "ipython2",
   "version": "2.7.6"
  }
 },
 "nbformat": 4,
 "nbformat_minor": 5
}
