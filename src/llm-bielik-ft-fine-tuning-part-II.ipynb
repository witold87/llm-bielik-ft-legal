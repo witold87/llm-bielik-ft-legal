{
 "cells": [
  {
   "cell_type": "markdown",
   "source": [
    "# LLM - Bielik - Fine tuning - part II"
   ],
   "metadata": {
    "collapsed": false
   },
   "id": "dd667e2b7df297f7"
  },
  {
   "metadata": {},
   "cell_type": "markdown",
   "source": [
    "## Introduction \n",
    "\n",
    "This is second part of small series related to LLM fine-tuning!\n",
    "\n",
    "The goal of following article is to fine-tuning one large language model - Bielik 7B from Speakleash <page>. In first part <link to first part> we focused on data preparation. To achieve this, we generated data based on the polish legal document. Then, we measured the quality of the generated data using various metrics (distance and LLM based). As we proved the good quality of the generated question and answers based on the context, we formatted the data in order to follow a specific schema suitable for question-answering task for LLM.\n",
    "\n",
    "Now let's deep dive into the fine-tuning itself!\n"
   ],
   "id": "802d8fc035c9f9c"
  },
  {
   "metadata": {},
   "cell_type": "markdown",
   "source": [
    "# Prerequisites\n",
    "\n",
    "In order to start working with model and finetuning let's install required libraries (also present in requirements.txt). Short intro to libraries:\n",
    "- bitandbytes - setups config for quantization options\n",
    "- transformers - core library for using Large Language Models and beyond\n",
    "- accelerate - <em>Accelerate is a library that enables the same PyTorch code to be run across any distributed configuration by adding just four lines of code.</em> https://huggingface.co/docs/accelerate/en/index\n",
    "- peft - our gem! <strong>P</strong>aremeter-<strong>E</strong>fficient <strong>F</strong>ine <strong>T</strong>uning library which allows to finetune small number of extra model paremeters instead of all which could be costly.\n",
    "- wandb - weights and biases - useful for tracking the experiments (https://wandb.ai/site/)\n",
    "- torch, torchvision, torchaudio - core PyTorch libraries for running neural networks."
   ],
   "id": "66cfb41f7144d1a7"
  },
  {
   "metadata": {},
   "cell_type": "code",
   "outputs": [],
   "execution_count": null,
   "source": [
    "# ! pip install bitsandbytes\n",
    "# ! pip install transformers\n",
    "# ! pip install accelerate\n",
    "# ! pip install peft\n",
    "# ! pip install wandb\n",
    "# ! pip install datasets\n",
    "# ! pip install ipywidgets==8.1.3\n",
    "# ! pip3 install torch torchvision torchaudio --index-url https://download.pytorch.org/whl/cu124"
   ],
   "id": "f90bfa2f2cfbc474"
  },
  {
   "metadata": {
    "ExecuteTime": {
     "end_time": "2024-11-11T21:36:42.532493Z",
     "start_time": "2024-11-11T21:36:42.523493Z"
    }
   },
   "cell_type": "code",
   "source": [
    "import torch\n",
    "from transformers import AutoTokenizer, AutoModelForCausalLM, BitsAndBytesConfig, logging\n",
    "import transformers\n",
    "from datetime import datetime\n",
    "from accelerate import Accelerator\n",
    "from huggingface_hub import notebook_login\n",
    "from peft import prepare_model_for_kbit_training, PeftModel, LoraConfig, get_peft_model\n",
    "from src.helpers.models import load_model\n",
    "from src.helpers.data import load_data, generate_and_tokenize, plot_hist, generate_and_tokenize_with_truncation"
   ],
   "id": "d6f7c745f0ba87e9",
   "outputs": [],
   "execution_count": 15
  },
  {
   "metadata": {},
   "cell_type": "markdown",
   "source": [
    "## 3...2...1...action!\n",
    "Let's start with some helper functions:\n",
    "- setting appropriate level of logging, because pytorch likes to spam all the output console.\n",
    "- login to huggingface with credentials to be able to download some models - not every model is available without logging in."
   ],
   "id": "c202fa6e7109371c"
  },
  {
   "cell_type": "code",
   "source": [
    "logging.set_verbosity_warning()\n",
    "notebook_login()"
   ],
   "metadata": {
    "collapsed": false,
    "ExecuteTime": {
     "end_time": "2024-11-11T21:36:44.886219Z",
     "start_time": "2024-11-11T21:36:44.875006Z"
    }
   },
   "id": "d82bfff2ae07d6b6",
   "outputs": [
    {
     "data": {
      "text/plain": [
       "VBox(children=(HTML(value='<center> <img\\nsrc=https://huggingface.co/front/assets/huggingface_logo-noborder.sv…"
      ],
      "application/vnd.jupyter.widget-view+json": {
       "version_major": 2,
       "version_minor": 0,
       "model_id": "efcb437575f94f88b4ceaf98c65e4163"
      }
     },
     "metadata": {},
     "output_type": "display_data"
    }
   ],
   "execution_count": 16
  },
  {
   "metadata": {},
   "cell_type": "markdown",
   "source": "To start with, let's focus on our model. Here, we want to load and setup appropriate model, Bielik 7B in our case. We start with quantization config in order to make our model lighter. Then we use a helper function to get the model from HuggingFace Hub.",
   "id": "eb60b23f3caf877"
  },
  {
   "metadata": {},
   "cell_type": "code",
   "outputs": [],
   "execution_count": null,
   "source": [
    "model_config = {\n",
    "        'load_in_4bit':True,\n",
    "        'bnb_4bit_use_double_quant':True,\n",
    "        'bnb_4bit_quant_type':\"nf4\",\n",
    "        'bnb_4bit_compute_dtype':torch.bfloat16\n",
    "}\n",
    "\n",
    "model_name = 'speakleash/Bielik-7B-v0.1'"
   ],
   "id": "6336a48c7dc95d34"
  },
  {
   "metadata": {
    "ExecuteTime": {
     "end_time": "2024-11-11T21:35:02.483355Z",
     "start_time": "2024-11-11T21:34:27.715454Z"
    }
   },
   "cell_type": "code",
   "source": "model, tokenizer = load_model(model_name, config=model_config)",
   "id": "b00cfcd0288604eb",
   "outputs": [
    {
     "data": {
      "text/plain": [
       "Loading checkpoint shards:   0%|          | 0/3 [00:00<?, ?it/s]"
      ],
      "application/vnd.jupyter.widget-view+json": {
       "version_major": 2,
       "version_minor": 0,
       "model_id": "a32b03f202e3461f83ebf0f78a09e52f"
      }
     },
     "metadata": {},
     "output_type": "display_data"
    }
   ],
   "execution_count": 3
  },
  {
   "metadata": {},
   "cell_type": "markdown",
   "source": "Having the model and aligned tokenizer loaded, let's head to data. In previous part of this tutorial we focused on generating data, questions and answers, to use for training the model specific task like handling user questions. Now, we need to split our data for training and evaluation set. Here, we did this process manually, by spliting the dataset and creating two separate files - training and eval. In this case around 80% is training dataset and around 20% is eval dataset.",
   "id": "dce87c52d83716e2"
  },
  {
   "metadata": {},
   "cell_type": "code",
   "outputs": [],
   "execution_count": null,
   "source": [
    "train_data_path = 'ft_output_data/data_ft_20240818_133719_train.jsonl'\n",
    "eval_data_path = 'ft_output_data/data_ft_20240818_133719_eval.jsonl'"
   ],
   "id": "55ca1e66e92947d8"
  },
  {
   "metadata": {},
   "cell_type": "code",
   "outputs": [],
   "execution_count": null,
   "source": [
    "train_dataset = load_data(path=train_data_path, type='train', format='json')\n",
    "eval_dataset = load_data(path=eval_data_path, type='train', format='json')"
   ],
   "id": "bf55f47f5e450881"
  },
  {
   "metadata": {},
   "cell_type": "markdown",
   "source": "After loading the data to an specific format suitable for fine-tuning, we need to preprocess the input data to be used for QA task. Our data now will have format as follows: \"### Question: <question>\\n ### Answer: <answer>}\". It will be also tokenized (transformed from words to numbers).",
   "id": "815c100d8f629003"
  },
  {
   "metadata": {
    "ExecuteTime": {
     "end_time": "2024-11-11T21:35:22.187068Z",
     "start_time": "2024-11-11T21:35:21.821823Z"
    }
   },
   "cell_type": "code",
   "source": [
    "tokenized_train_dataset = train_dataset.map(generate_and_tokenize, fn_kwargs={\"tokenizer\": tokenizer})\n",
    "tokenized_eval_dataset = eval_dataset.map(generate_and_tokenize, fn_kwargs={\"tokenizer\": tokenizer})"
   ],
   "id": "3b464ae4e1c711c7",
   "outputs": [
    {
     "data": {
      "text/plain": [
       "Map:   0%|          | 0/799 [00:00<?, ? examples/s]"
      ],
      "application/vnd.jupyter.widget-view+json": {
       "version_major": 2,
       "version_minor": 0,
       "model_id": "8c7e210e00c24664aba586c9914ad3c7"
      }
     },
     "metadata": {},
     "output_type": "display_data"
    },
    {
     "data": {
      "text/plain": [
       "Map:   0%|          | 0/225 [00:00<?, ? examples/s]"
      ],
      "application/vnd.jupyter.widget-view+json": {
       "version_major": 2,
       "version_minor": 0,
       "model_id": "df5f72478eb34e6abed5e0bd10f75c83"
      }
     },
     "metadata": {},
     "output_type": "display_data"
    }
   ],
   "execution_count": 8
  },
  {
   "metadata": {},
   "cell_type": "markdown",
   "source": "Let us verify how long our sentences are. In the first part of article about data generation, we asked GPT model to deliver answers with a limit of 200 tokens. We set this limit to instruct the model to provide concise answer within this number. Combining questions and answers gives us numbers as below:",
   "id": "bcff5ecf89382d2d"
  },
  {
   "metadata": {
    "ExecuteTime": {
     "end_time": "2024-11-11T21:35:29.723492Z",
     "start_time": "2024-11-11T21:35:29.476472Z"
    }
   },
   "cell_type": "code",
   "source": "plot_hist(tokenized_train_dataset, tokenized_eval_dataset)",
   "id": "1155c30e2e6d2bc5",
   "outputs": [
    {
     "name": "stdout",
     "output_type": "stream",
     "text": [
      "1024\n"
     ]
    },
    {
     "data": {
      "text/plain": [
       "<Figure size 1000x600 with 1 Axes>"
      ],
      "image/png": "[encoded data removed]"
     },
     "metadata": {},
     "output_type": "display_data"
    }
   ],
   "execution_count": 9
  },
  {
   "metadata": {},
   "cell_type": "markdown",
   "source": "As shown, the majority of sentences are between 200 and 300 tokens in length. Now, for model usage we need to make all the sentences mand make them the same size. ",
   "id": "93d063364a085685"
  },
  {
   "metadata": {
    "ExecuteTime": {
     "end_time": "2024-11-11T21:35:37.765922Z",
     "start_time": "2024-11-11T21:35:37.752923Z"
    }
   },
   "cell_type": "code",
   "source": "max_length = 512",
   "id": "2f8042b0ee221062",
   "outputs": [],
   "execution_count": 10
  },
  {
   "metadata": {
    "ExecuteTime": {
     "end_time": "2024-11-11T21:35:38.572265Z",
     "start_time": "2024-11-11T21:35:38.211564Z"
    }
   },
   "cell_type": "code",
   "source": [
    "tokenized_train_dataset = train_dataset.map(generate_and_tokenize_with_truncation, fn_kwargs={\"tokenizer\": tokenizer, 'length': max_length})\n",
    "tokenized_val_dataset = eval_dataset.map(generate_and_tokenize_with_truncation, fn_kwargs={\"tokenizer\": tokenizer, 'length': max_length})"
   ],
   "id": "566e2bbd1ac390f3",
   "outputs": [
    {
     "data": {
      "text/plain": [
       "Map:   0%|          | 0/799 [00:00<?, ? examples/s]"
      ],
      "application/vnd.jupyter.widget-view+json": {
       "version_major": 2,
       "version_minor": 0,
       "model_id": "1e2bc61972374b7f97ec935e7b219b81"
      }
     },
     "metadata": {},
     "output_type": "display_data"
    },
    {
     "data": {
      "text/plain": [
       "Map:   0%|          | 0/225 [00:00<?, ? examples/s]"
      ],
      "application/vnd.jupyter.widget-view+json": {
       "version_major": 2,
       "version_minor": 0,
       "model_id": "9dbfed6b27b740848b4bbad5e81a3101"
      }
     },
     "metadata": {},
     "output_type": "display_data"
    }
   ],
   "execution_count": 11
  },
  {
   "metadata": {
    "ExecuteTime": {
     "end_time": "2024-11-11T21:35:40.732708Z",
     "start_time": "2024-11-11T21:35:40.236561Z"
    }
   },
   "cell_type": "code",
   "source": "plot_hist(tokenized_train_dataset, tokenized_val_dataset)",
   "id": "65698161d3182bf4",
   "outputs": [
    {
     "name": "stdout",
     "output_type": "stream",
     "text": [
      "1024\n"
     ]
    },
    {
     "data": {
      "text/plain": [
       "<Figure size 1000x600 with 1 Axes>"
      ],
      "image/png": "[encoded data removed]"
     },
     "metadata": {},
     "output_type": "display_data"
    }
   ],
   "execution_count": 12
  },
  {
   "metadata": {},
   "cell_type": "markdown",
   "source": "To verify our fine tuning let's create a small validation dataset with question related to the topic of documents which we will use for fine-tuning. Additonally, let's add some questions which should verify if the model did not forget original capabilities.",
   "id": "16558e8697ddcf2f"
  },
  {
   "metadata": {},
   "cell_type": "code",
   "outputs": [],
   "execution_count": null,
   "source": [
    "validation_questions = [\n",
    "    'Jakie są zagrożenia zwiazane z umową?'\n",
    "]"
   ],
   "id": "ad75b1750ae5a4f0"
  },
  {
   "metadata": {
    "ExecuteTime": {
     "end_time": "2024-11-11T21:35:44.826560Z",
     "start_time": "2024-11-11T21:35:44.812561Z"
    }
   },
   "cell_type": "code",
   "source": "",
   "id": "4cd17f5f638845e9",
   "outputs": [],
   "execution_count": 13
  },
  {
   "metadata": {
    "ExecuteTime": {
     "end_time": "2024-11-11T21:38:00.302287Z",
     "start_time": "2024-11-11T21:37:34.348518Z"
    }
   },
   "cell_type": "code",
   "source": [
    "eval_tokenizer = AutoTokenizer.from_pretrained(\n",
    "    model_name,\n",
    "    add_bos_token=True,\n",
    ")\n",
    "\n",
    "model_input = eval_tokenizer(validation_questions[0], return_tensors=\"pt\").to(\"cuda\")\n",
    "\n",
    "model.eval()\n",
    "with torch.no_grad():\n",
    "    print(eval_tokenizer.decode(model.generate(**model_input, max_new_tokens=512, repetition_penalty=1.15)[0], skip_special_tokens=True))"
   ],
   "id": "fdc82ec5bbf88a0c",
   "outputs": [
    {
     "name": "stderr",
     "output_type": "stream",
     "text": [
      "Setting `pad_token_id` to `eos_token_id`:2 for open-end generation.\n"
     ]
    },
    {
     "name": "stdout",
     "output_type": "stream",
     "text": [
      "Jakie są zagrożenia zwiazane z umową?\n",
      "1. Umowa jest zawierana na czas nieokreślony, co oznacza, że może być wypowiedziana przez każdą ze stron bez podania przyczyny i terminu wypowiedzenia. W przypadku wypowiedzenia umowy przez bank lub kredytobiorcę, cała kwota kredytu staje się natychmiast wymagalna. Jeśli kredytobiorca nie spłaci kredytu w terminie, bank ma prawo postawić całą nieruchomość stanowiącą zabezpieczenie kredytu w stan natychmiastowej wymagalności poprzez dokonanie jej opisu i oszacowania według swojego uznania i obciążyć hipotekę dodatkowo odsetkami w wysokości 2-krotnej sumy stopy referencyjnej Narodowego Banku Polskiego oraz marży banku. Ponadto, jeśli kredytobiorca nie spłaci kredytu w terminie, bank będzie miał prawo dochodzić zapłaty we wszystkich postaciach dopuszczanych przez prawo cywilne.\n",
      "2. Kredytobiorca ponosi ryzyko zmiany kursów walutowych. Zmienność kursów walutowych powoduje, że trudno precyzyjnie określić w chwili udzielenia kredytu hipotecznego denominowanego kursem wymiany waluty obcej na polską, jaka będzie rata spłaty i całkowity koszt kredytu wyrażony w pieniądzu polskim. Ryzyko to jest jednak minimalizowane dzięki budowie portfela kredytów hipotecznych w ten sposób, aby dominowały w nim transakcje typu forward (transakcja terminowa), która polega na kupnie lub sprzedaży waluty obcej po okre\n"
     ]
    }
   ],
   "execution_count": 18
  },
  {
   "metadata": {
    "ExecuteTime": {
     "end_time": "2024-11-11T21:38:15.329130Z",
     "start_time": "2024-11-11T21:38:15.307132Z"
    }
   },
   "cell_type": "code",
   "source": [
    "model.gradient_checkpointing_enable()\n",
    "model = prepare_model_for_kbit_training(model)"
   ],
   "id": "cc38fff5c0f40b34",
   "outputs": [],
   "execution_count": 19
  },
  {
   "metadata": {
    "ExecuteTime": {
     "end_time": "2024-11-11T21:38:18.872575Z",
     "start_time": "2024-11-11T21:38:18.866575Z"
    }
   },
   "cell_type": "code",
   "source": [
    "def print_trainable_parameters(model):\n",
    "    \"\"\"\n",
    "    Prints the number of trainable parameters in the model.\n",
    "    \"\"\"\n",
    "    trainable_params = 0\n",
    "    all_param = 0\n",
    "    for _, param in model.named_parameters():\n",
    "        all_param += param.numel()\n",
    "        if param.requires_grad:\n",
    "            trainable_params += param.numel()\n",
    "    print(\n",
    "        f\"trainable params: {trainable_params} || all params: {all_param} || trainable%: {100 * trainable_params / all_param}\"\n",
    "    )"
   ],
   "id": "54380c5eb4bf1a94",
   "outputs": [],
   "execution_count": 20
  },
  {
   "metadata": {
    "ExecuteTime": {
     "end_time": "2024-11-11T21:59:00.141634Z",
     "start_time": "2024-11-11T21:58:59.098528Z"
    }
   },
   "cell_type": "code",
   "source": [
    "lora_params = {\n",
    "    'r': 64,\n",
    "    'alpha': 128,\n",
    "    'layers': [\"q_proj\",\n",
    "            \"k_proj\",\n",
    "            \"v_proj\",\n",
    "            \"o_proj\",\n",
    "            \"gate_proj\",\n",
    "            \"up_proj\",\n",
    "            \"down_proj\",\n",
    "            \"lm_head\"],\n",
    "    'dropout': 0.05\n",
    "}\n",
    "\n",
    "linear_layers = ['gate_proj', 'down_proj', 'up_proj', 'q_proj', 'v_proj', 'k_proj','o_proj']\n",
    "\n",
    "config = LoraConfig(\n",
    "    r=lora_params.get('r'),\n",
    "    lora_alpha=lora_params.get('alpha'),\n",
    "    target_modules=lora_params.get('layers'),\n",
    "    bias=\"none\",\n",
    "    lora_dropout=lora_params.get('dropout'),  # Conventional\n",
    "    task_type=\"CAUSAL_LM\",\n",
    ")\n",
    "\n",
    "model = get_peft_model(model, config)\n",
    "print_trainable_parameters(model)"
   ],
   "id": "46ecd1a87ea84517",
   "outputs": [
    {
     "name": "stdout",
     "output_type": "stream",
     "text": [
      "trainable params: 170082304 || all params: 3922153472 || trainable%: 4.336452033664837\n"
     ]
    }
   ],
   "execution_count": 21
  },
  {
   "metadata": {
    "ExecuteTime": {
     "end_time": "2024-11-11T21:59:04.386948Z",
     "start_time": "2024-11-11T21:59:04.327943Z"
    }
   },
   "cell_type": "code",
   "source": [
    "\n",
    "accelerator = Accelerator()\n",
    "model = accelerator.prepare_model(model)"
   ],
   "id": "19b1aa088133c421",
   "outputs": [],
   "execution_count": 22
  },
  {
   "metadata": {
    "ExecuteTime": {
     "end_time": "2024-11-11T22:22:01.463017Z",
     "start_time": "2024-11-11T22:01:09.432017Z"
    }
   },
   "cell_type": "code",
   "source": [
    "project = \"legal-finetune\"\n",
    "base_model_name = \"bielik_v1\"\n",
    "params = f'r-{lora_params.get(\"r\")}-alpha-{lora_params.get(\"alpha\")}'\n",
    "run_name = base_model_name + \"-\" + project + \"-\" + params\n",
    "output_dir = \"./\" + run_name\n",
    "\n",
    "trainer = transformers.Trainer(\n",
    "    model=model,\n",
    "    train_dataset=tokenized_train_dataset,\n",
    "    eval_dataset=tokenized_val_dataset,\n",
    "    args=transformers.TrainingArguments(\n",
    "        output_dir=output_dir,\n",
    "        warmup_steps=2,\n",
    "        per_device_train_batch_size=2,\n",
    "        gradient_accumulation_steps=1,\n",
    "        gradient_checkpointing=True,\n",
    "        max_steps=500,\n",
    "        learning_rate=2.5e-5, # Want a small lr for finetuning\n",
    "        bf16=True,\n",
    "        optim=\"sgd\",\n",
    "        logging_steps=25,              # When to start reporting loss\n",
    "        logging_dir=\"./logs\",        # Directory for storing logs\n",
    "        save_strategy=\"steps\",       # Save the model checkpoint every logging step\n",
    "        save_steps=25,                # Save checkpoints every 50 steps\n",
    "        evaluation_strategy=\"steps\", # Evaluate the model every logging step\n",
    "        eval_steps=25,               # Evaluate and save checkpoints every 50 steps\n",
    "        do_eval=True,                # Perform evaluation at the end of training\n",
    "        report_to=\"wandb\",           # Comment this out if you don't want to use weights & baises\n",
    "        run_name=f\"{run_name}-{datetime.now().strftime('%Y-%m-%d-%H-%M')}\"          # Name of the W&B run (optional)\n",
    "    ),\n",
    "    data_collator=transformers.DataCollatorForLanguageModeling(tokenizer, mlm=False),\n",
    ")\n",
    "\n",
    "model.config.use_cache = False  # silence the warnings. Please re-enable for inference!\n",
    "trainer.train()"
   ],
   "id": "d7d282b52868828e",
   "outputs": [
    {
     "name": "stderr",
     "output_type": "stream",
     "text": [
      "C:\\Users\\zjada\\dev\\projects\\llm-bielik-ft-legal\\venv\\lib\\site-packages\\transformers\\training_args.py:1494: FutureWarning: `evaluation_strategy` is deprecated and will be removed in version 4.46 of 🤗 Transformers. Use `eval_strategy` instead\n",
      "  warnings.warn(\n",
      "max_steps is given, it will override any value given in num_train_epochs\n",
      "wandb: Currently logged in as: zvit3k (zvit3k-kodio). Use `wandb login --relogin` to force relogin\n"
     ]
    },
    {
     "data": {
      "text/plain": [
       "<IPython.core.display.HTML object>"
      ],
      "text/html": [
       "wandb version 0.18.6 is available!  To upgrade, please run:\n",
       " $ pip install wandb --upgrade"
      ]
     },
     "metadata": {},
     "output_type": "display_data"
    },
    {
     "data": {
      "text/plain": [
       "<IPython.core.display.HTML object>"
      ],
      "text/html": [
       "Tracking run with wandb version 0.17.7"
      ]
     },
     "metadata": {},
     "output_type": "display_data"
    },
    {
     "data": {
      "text/plain": [
       "<IPython.core.display.HTML object>"
      ],
      "text/html": [
       "Run data is saved locally in <code>C:\\Users\\zjada\\dev\\projects\\llm-bielik-ft-legal\\src\\wandb\\run-20241111_230113-cbmoc3qx</code>"
      ]
     },
     "metadata": {},
     "output_type": "display_data"
    },
    {
     "data": {
      "text/plain": [
       "<IPython.core.display.HTML object>"
      ],
      "text/html": [
       "Syncing run <strong><a href='https://wandb.ai/zvit3k-kodio/huggingface/runs/cbmoc3qx' target=\"_blank\">bielik_v1-legal-finetune-r-64-alpha-128-2024-11-11-23-01</a></strong> to <a href='https://wandb.ai/zvit3k-kodio/huggingface' target=\"_blank\">Weights & Biases</a> (<a href='https://wandb.me/run' target=\"_blank\">docs</a>)<br/>"
      ]
     },
     "metadata": {},
     "output_type": "display_data"
    },
    {
     "data": {
      "text/plain": [
       "<IPython.core.display.HTML object>"
      ],
      "text/html": [
       " View project at <a href='https://wandb.ai/zvit3k-kodio/huggingface' target=\"_blank\">https://wandb.ai/zvit3k-kodio/huggingface</a>"
      ]
     },
     "metadata": {},
     "output_type": "display_data"
    },
    {
     "data": {
      "text/plain": [
       "<IPython.core.display.HTML object>"
      ],
      "text/html": [
       " View run at <a href='https://wandb.ai/zvit3k-kodio/huggingface/runs/cbmoc3qx' target=\"_blank\">https://wandb.ai/zvit3k-kodio/huggingface/runs/cbmoc3qx</a>"
      ]
     },
     "metadata": {},
     "output_type": "display_data"
    },
    {
     "name": "stderr",
     "output_type": "stream",
     "text": [
      "C:\\Users\\zjada\\dev\\projects\\llm-bielik-ft-legal\\venv\\lib\\site-packages\\torch\\_dynamo\\eval_frame.py:600: UserWarning: torch.utils.checkpoint: the use_reentrant parameter should be passed explicitly. In version 2.4 we will raise an exception if use_reentrant is not passed. use_reentrant=False is recommended, but if you need to preserve the current default behavior, you can pass use_reentrant=True. Refer to docs for more details on the differences between the two variants.\n",
      "  return fn(*args, **kwargs)\n",
      "C:\\Users\\zjada\\dev\\projects\\llm-bielik-ft-legal\\venv\\lib\\site-packages\\torch\\utils\\checkpoint.py:295: FutureWarning: `torch.cpu.amp.autocast(args...)` is deprecated. Please use `torch.amp.autocast('cpu', args...)` instead.\n",
      "  with torch.enable_grad(), device_autocast_ctx, torch.cpu.amp.autocast(**ctx.cpu_autocast_kwargs):  # type: ignore[attr-defined]\n"
     ]
    },
    {
     "data": {
      "text/plain": [
       "<IPython.core.display.HTML object>"
      ],
      "text/html": [
       "\n",
       "    <div>\n",
       "      \n",
       "      <progress value='500' max='500' style='width:300px; height:20px; vertical-align: middle;'></progress>\n",
       "      [500/500 20:45, Epoch 1/2]\n",
       "    </div>\n",
       "    <table border=\"1\" class=\"dataframe\">\n",
       "  <thead>\n",
       " <tr style=\"text-align: left;\">\n",
       "      <th>Step</th>\n",
       "      <th>Training Loss</th>\n",
       "      <th>Validation Loss</th>\n",
       "    </tr>\n",
       "  </thead>\n",
       "  <tbody>\n",
       "    <tr>\n",
       "      <td>25</td>\n",
       "      <td>1.075900</td>\n",
       "      <td>1.020677</td>\n",
       "    </tr>\n",
       "    <tr>\n",
       "      <td>50</td>\n",
       "      <td>1.033500</td>\n",
       "      <td>1.016016</td>\n",
       "    </tr>\n",
       "    <tr>\n",
       "      <td>75</td>\n",
       "      <td>1.069400</td>\n",
       "      <td>1.010600</td>\n",
       "    </tr>\n",
       "    <tr>\n",
       "      <td>100</td>\n",
       "      <td>1.044600</td>\n",
       "      <td>1.004614</td>\n",
       "    </tr>\n",
       "    <tr>\n",
       "      <td>125</td>\n",
       "      <td>1.039500</td>\n",
       "      <td>0.998606</td>\n",
       "    </tr>\n",
       "    <tr>\n",
       "      <td>150</td>\n",
       "      <td>1.036500</td>\n",
       "      <td>0.993411</td>\n",
       "    </tr>\n",
       "    <tr>\n",
       "      <td>175</td>\n",
       "      <td>0.993500</td>\n",
       "      <td>0.986732</td>\n",
       "    </tr>\n",
       "    <tr>\n",
       "      <td>200</td>\n",
       "      <td>1.042000</td>\n",
       "      <td>0.983343</td>\n",
       "    </tr>\n",
       "    <tr>\n",
       "      <td>225</td>\n",
       "      <td>0.991500</td>\n",
       "      <td>0.979121</td>\n",
       "    </tr>\n",
       "    <tr>\n",
       "      <td>250</td>\n",
       "      <td>1.024800</td>\n",
       "      <td>0.974872</td>\n",
       "    </tr>\n",
       "    <tr>\n",
       "      <td>275</td>\n",
       "      <td>0.988600</td>\n",
       "      <td>0.972232</td>\n",
       "    </tr>\n",
       "    <tr>\n",
       "      <td>300</td>\n",
       "      <td>1.016800</td>\n",
       "      <td>0.969169</td>\n",
       "    </tr>\n",
       "    <tr>\n",
       "      <td>325</td>\n",
       "      <td>0.997500</td>\n",
       "      <td>0.966427</td>\n",
       "    </tr>\n",
       "    <tr>\n",
       "      <td>350</td>\n",
       "      <td>0.984300</td>\n",
       "      <td>0.965033</td>\n",
       "    </tr>\n",
       "    <tr>\n",
       "      <td>375</td>\n",
       "      <td>0.988600</td>\n",
       "      <td>0.962860</td>\n",
       "    </tr>\n",
       "    <tr>\n",
       "      <td>400</td>\n",
       "      <td>0.971700</td>\n",
       "      <td>0.962117</td>\n",
       "    </tr>\n",
       "    <tr>\n",
       "      <td>425</td>\n",
       "      <td>1.002700</td>\n",
       "      <td>0.960998</td>\n",
       "    </tr>\n",
       "    <tr>\n",
       "      <td>450</td>\n",
       "      <td>1.028400</td>\n",
       "      <td>0.960426</td>\n",
       "    </tr>\n",
       "    <tr>\n",
       "      <td>475</td>\n",
       "      <td>1.010000</td>\n",
       "      <td>0.960200</td>\n",
       "    </tr>\n",
       "    <tr>\n",
       "      <td>500</td>\n",
       "      <td>0.968400</td>\n",
       "      <td>0.960000</td>\n",
       "    </tr>\n",
       "  </tbody>\n",
       "</table><p>"
      ]
     },
     "metadata": {},
     "output_type": "display_data"
    },
    {
     "name": "stderr",
     "output_type": "stream",
     "text": [
      "C:\\Users\\zjada\\dev\\projects\\llm-bielik-ft-legal\\venv\\lib\\site-packages\\peft\\utils\\save_and_load.py:202: UserWarning: Setting `save_embedding_layers` to `True` as embedding layers found in `target_modules`.\n",
      "  warnings.warn(\"Setting `save_embedding_layers` to `True` as embedding layers found in `target_modules`.\")\n",
      "C:\\Users\\zjada\\dev\\projects\\llm-bielik-ft-legal\\venv\\lib\\site-packages\\torch\\_dynamo\\eval_frame.py:600: UserWarning: torch.utils.checkpoint: the use_reentrant parameter should be passed explicitly. In version 2.4 we will raise an exception if use_reentrant is not passed. use_reentrant=False is recommended, but if you need to preserve the current default behavior, you can pass use_reentrant=True. Refer to docs for more details on the differences between the two variants.\n",
      "  return fn(*args, **kwargs)\n",
      "C:\\Users\\zjada\\dev\\projects\\llm-bielik-ft-legal\\venv\\lib\\site-packages\\torch\\utils\\checkpoint.py:295: FutureWarning: `torch.cpu.amp.autocast(args...)` is deprecated. Please use `torch.amp.autocast('cpu', args...)` instead.\n",
      "  with torch.enable_grad(), device_autocast_ctx, torch.cpu.amp.autocast(**ctx.cpu_autocast_kwargs):  # type: ignore[attr-defined]\n",
      "C:\\Users\\zjada\\dev\\projects\\llm-bielik-ft-legal\\venv\\lib\\site-packages\\peft\\utils\\save_and_load.py:202: UserWarning: Setting `save_embedding_layers` to `True` as embedding layers found in `target_modules`.\n",
      "  warnings.warn(\"Setting `save_embedding_layers` to `True` as embedding layers found in `target_modules`.\")\n",
      "C:\\Users\\zjada\\dev\\projects\\llm-bielik-ft-legal\\venv\\lib\\site-packages\\torch\\_dynamo\\eval_frame.py:600: UserWarning: torch.utils.checkpoint: the use_reentrant parameter should be passed explicitly. In version 2.4 we will raise an exception if use_reentrant is not passed. use_reentrant=False is recommended, but if you need to preserve the current default behavior, you can pass use_reentrant=True. Refer to docs for more details on the differences between the two variants.\n",
      "  return fn(*args, **kwargs)\n",
      "C:\\Users\\zjada\\dev\\projects\\llm-bielik-ft-legal\\venv\\lib\\site-packages\\torch\\utils\\checkpoint.py:295: FutureWarning: `torch.cpu.amp.autocast(args...)` is deprecated. Please use `torch.amp.autocast('cpu', args...)` instead.\n",
      "  with torch.enable_grad(), device_autocast_ctx, torch.cpu.amp.autocast(**ctx.cpu_autocast_kwargs):  # type: ignore[attr-defined]\n",
      "C:\\Users\\zjada\\dev\\projects\\llm-bielik-ft-legal\\venv\\lib\\site-packages\\peft\\utils\\save_and_load.py:202: UserWarning: Setting `save_embedding_layers` to `True` as embedding layers found in `target_modules`.\n",
      "  warnings.warn(\"Setting `save_embedding_layers` to `True` as embedding layers found in `target_modules`.\")\n",
      "C:\\Users\\zjada\\dev\\projects\\llm-bielik-ft-legal\\venv\\lib\\site-packages\\torch\\_dynamo\\eval_frame.py:600: UserWarning: torch.utils.checkpoint: the use_reentrant parameter should be passed explicitly. In version 2.4 we will raise an exception if use_reentrant is not passed. use_reentrant=False is recommended, but if you need to preserve the current default behavior, you can pass use_reentrant=True. Refer to docs for more details on the differences between the two variants.\n",
      "  return fn(*args, **kwargs)\n",
      "C:\\Users\\zjada\\dev\\projects\\llm-bielik-ft-legal\\venv\\lib\\site-packages\\torch\\utils\\checkpoint.py:295: FutureWarning: `torch.cpu.amp.autocast(args...)` is deprecated. Please use `torch.amp.autocast('cpu', args...)` instead.\n",
      "  with torch.enable_grad(), device_autocast_ctx, torch.cpu.amp.autocast(**ctx.cpu_autocast_kwargs):  # type: ignore[attr-defined]\n",
      "C:\\Users\\zjada\\dev\\projects\\llm-bielik-ft-legal\\venv\\lib\\site-packages\\peft\\utils\\save_and_load.py:202: UserWarning: Setting `save_embedding_layers` to `True` as embedding layers found in `target_modules`.\n",
      "  warnings.warn(\"Setting `save_embedding_layers` to `True` as embedding layers found in `target_modules`.\")\n",
      "C:\\Users\\zjada\\dev\\projects\\llm-bielik-ft-legal\\venv\\lib\\site-packages\\torch\\_dynamo\\eval_frame.py:600: UserWarning: torch.utils.checkpoint: the use_reentrant parameter should be passed explicitly. In version 2.4 we will raise an exception if use_reentrant is not passed. use_reentrant=False is recommended, but if you need to preserve the current default behavior, you can pass use_reentrant=True. Refer to docs for more details on the differences between the two variants.\n",
      "  return fn(*args, **kwargs)\n",
      "C:\\Users\\zjada\\dev\\projects\\llm-bielik-ft-legal\\venv\\lib\\site-packages\\torch\\utils\\checkpoint.py:295: FutureWarning: `torch.cpu.amp.autocast(args...)` is deprecated. Please use `torch.amp.autocast('cpu', args...)` instead.\n",
      "  with torch.enable_grad(), device_autocast_ctx, torch.cpu.amp.autocast(**ctx.cpu_autocast_kwargs):  # type: ignore[attr-defined]\n",
      "C:\\Users\\zjada\\dev\\projects\\llm-bielik-ft-legal\\venv\\lib\\site-packages\\peft\\utils\\save_and_load.py:202: UserWarning: Setting `save_embedding_layers` to `True` as embedding layers found in `target_modules`.\n",
      "  warnings.warn(\"Setting `save_embedding_layers` to `True` as embedding layers found in `target_modules`.\")\n",
      "C:\\Users\\zjada\\dev\\projects\\llm-bielik-ft-legal\\venv\\lib\\site-packages\\torch\\_dynamo\\eval_frame.py:600: UserWarning: torch.utils.checkpoint: the use_reentrant parameter should be passed explicitly. In version 2.4 we will raise an exception if use_reentrant is not passed. use_reentrant=False is recommended, but if you need to preserve the current default behavior, you can pass use_reentrant=True. Refer to docs for more details on the differences between the two variants.\n",
      "  return fn(*args, **kwargs)\n",
      "C:\\Users\\zjada\\dev\\projects\\llm-bielik-ft-legal\\venv\\lib\\site-packages\\torch\\utils\\checkpoint.py:295: FutureWarning: `torch.cpu.amp.autocast(args...)` is deprecated. Please use `torch.amp.autocast('cpu', args...)` instead.\n",
      "  with torch.enable_grad(), device_autocast_ctx, torch.cpu.amp.autocast(**ctx.cpu_autocast_kwargs):  # type: ignore[attr-defined]\n",
      "C:\\Users\\zjada\\dev\\projects\\llm-bielik-ft-legal\\venv\\lib\\site-packages\\peft\\utils\\save_and_load.py:202: UserWarning: Setting `save_embedding_layers` to `True` as embedding layers found in `target_modules`.\n",
      "  warnings.warn(\"Setting `save_embedding_layers` to `True` as embedding layers found in `target_modules`.\")\n",
      "C:\\Users\\zjada\\dev\\projects\\llm-bielik-ft-legal\\venv\\lib\\site-packages\\torch\\_dynamo\\eval_frame.py:600: UserWarning: torch.utils.checkpoint: the use_reentrant parameter should be passed explicitly. In version 2.4 we will raise an exception if use_reentrant is not passed. use_reentrant=False is recommended, but if you need to preserve the current default behavior, you can pass use_reentrant=True. Refer to docs for more details on the differences between the two variants.\n",
      "  return fn(*args, **kwargs)\n",
      "C:\\Users\\zjada\\dev\\projects\\llm-bielik-ft-legal\\venv\\lib\\site-packages\\torch\\utils\\checkpoint.py:295: FutureWarning: `torch.cpu.amp.autocast(args...)` is deprecated. Please use `torch.amp.autocast('cpu', args...)` instead.\n",
      "  with torch.enable_grad(), device_autocast_ctx, torch.cpu.amp.autocast(**ctx.cpu_autocast_kwargs):  # type: ignore[attr-defined]\n",
      "C:\\Users\\zjada\\dev\\projects\\llm-bielik-ft-legal\\venv\\lib\\site-packages\\peft\\utils\\save_and_load.py:202: UserWarning: Setting `save_embedding_layers` to `True` as embedding layers found in `target_modules`.\n",
      "  warnings.warn(\"Setting `save_embedding_layers` to `True` as embedding layers found in `target_modules`.\")\n",
      "C:\\Users\\zjada\\dev\\projects\\llm-bielik-ft-legal\\venv\\lib\\site-packages\\torch\\_dynamo\\eval_frame.py:600: UserWarning: torch.utils.checkpoint: the use_reentrant parameter should be passed explicitly. In version 2.4 we will raise an exception if use_reentrant is not passed. use_reentrant=False is recommended, but if you need to preserve the current default behavior, you can pass use_reentrant=True. Refer to docs for more details on the differences between the two variants.\n",
      "  return fn(*args, **kwargs)\n",
      "C:\\Users\\zjada\\dev\\projects\\llm-bielik-ft-legal\\venv\\lib\\site-packages\\torch\\utils\\checkpoint.py:295: FutureWarning: `torch.cpu.amp.autocast(args...)` is deprecated. Please use `torch.amp.autocast('cpu', args...)` instead.\n",
      "  with torch.enable_grad(), device_autocast_ctx, torch.cpu.amp.autocast(**ctx.cpu_autocast_kwargs):  # type: ignore[attr-defined]\n",
      "C:\\Users\\zjada\\dev\\projects\\llm-bielik-ft-legal\\venv\\lib\\site-packages\\peft\\utils\\save_and_load.py:202: UserWarning: Setting `save_embedding_layers` to `True` as embedding layers found in `target_modules`.\n",
      "  warnings.warn(\"Setting `save_embedding_layers` to `True` as embedding layers found in `target_modules`.\")\n",
      "C:\\Users\\zjada\\dev\\projects\\llm-bielik-ft-legal\\venv\\lib\\site-packages\\torch\\_dynamo\\eval_frame.py:600: UserWarning: torch.utils.checkpoint: the use_reentrant parameter should be passed explicitly. In version 2.4 we will raise an exception if use_reentrant is not passed. use_reentrant=False is recommended, but if you need to preserve the current default behavior, you can pass use_reentrant=True. Refer to docs for more details on the differences between the two variants.\n",
      "  return fn(*args, **kwargs)\n",
      "C:\\Users\\zjada\\dev\\projects\\llm-bielik-ft-legal\\venv\\lib\\site-packages\\torch\\utils\\checkpoint.py:295: FutureWarning: `torch.cpu.amp.autocast(args...)` is deprecated. Please use `torch.amp.autocast('cpu', args...)` instead.\n",
      "  with torch.enable_grad(), device_autocast_ctx, torch.cpu.amp.autocast(**ctx.cpu_autocast_kwargs):  # type: ignore[attr-defined]\n",
      "C:\\Users\\zjada\\dev\\projects\\llm-bielik-ft-legal\\venv\\lib\\site-packages\\peft\\utils\\save_and_load.py:202: UserWarning: Setting `save_embedding_layers` to `True` as embedding layers found in `target_modules`.\n",
      "  warnings.warn(\"Setting `save_embedding_layers` to `True` as embedding layers found in `target_modules`.\")\n",
      "C:\\Users\\zjada\\dev\\projects\\llm-bielik-ft-legal\\venv\\lib\\site-packages\\torch\\_dynamo\\eval_frame.py:600: UserWarning: torch.utils.checkpoint: the use_reentrant parameter should be passed explicitly. In version 2.4 we will raise an exception if use_reentrant is not passed. use_reentrant=False is recommended, but if you need to preserve the current default behavior, you can pass use_reentrant=True. Refer to docs for more details on the differences between the two variants.\n",
      "  return fn(*args, **kwargs)\n",
      "C:\\Users\\zjada\\dev\\projects\\llm-bielik-ft-legal\\venv\\lib\\site-packages\\torch\\utils\\checkpoint.py:295: FutureWarning: `torch.cpu.amp.autocast(args...)` is deprecated. Please use `torch.amp.autocast('cpu', args...)` instead.\n",
      "  with torch.enable_grad(), device_autocast_ctx, torch.cpu.amp.autocast(**ctx.cpu_autocast_kwargs):  # type: ignore[attr-defined]\n",
      "C:\\Users\\zjada\\dev\\projects\\llm-bielik-ft-legal\\venv\\lib\\site-packages\\peft\\utils\\save_and_load.py:202: UserWarning: Setting `save_embedding_layers` to `True` as embedding layers found in `target_modules`.\n",
      "  warnings.warn(\"Setting `save_embedding_layers` to `True` as embedding layers found in `target_modules`.\")\n",
      "C:\\Users\\zjada\\dev\\projects\\llm-bielik-ft-legal\\venv\\lib\\site-packages\\torch\\_dynamo\\eval_frame.py:600: UserWarning: torch.utils.checkpoint: the use_reentrant parameter should be passed explicitly. In version 2.4 we will raise an exception if use_reentrant is not passed. use_reentrant=False is recommended, but if you need to preserve the current default behavior, you can pass use_reentrant=True. Refer to docs for more details on the differences between the two variants.\n",
      "  return fn(*args, **kwargs)\n",
      "C:\\Users\\zjada\\dev\\projects\\llm-bielik-ft-legal\\venv\\lib\\site-packages\\torch\\utils\\checkpoint.py:295: FutureWarning: `torch.cpu.amp.autocast(args...)` is deprecated. Please use `torch.amp.autocast('cpu', args...)` instead.\n",
      "  with torch.enable_grad(), device_autocast_ctx, torch.cpu.amp.autocast(**ctx.cpu_autocast_kwargs):  # type: ignore[attr-defined]\n",
      "C:\\Users\\zjada\\dev\\projects\\llm-bielik-ft-legal\\venv\\lib\\site-packages\\peft\\utils\\save_and_load.py:202: UserWarning: Setting `save_embedding_layers` to `True` as embedding layers found in `target_modules`.\n",
      "  warnings.warn(\"Setting `save_embedding_layers` to `True` as embedding layers found in `target_modules`.\")\n",
      "C:\\Users\\zjada\\dev\\projects\\llm-bielik-ft-legal\\venv\\lib\\site-packages\\torch\\_dynamo\\eval_frame.py:600: UserWarning: torch.utils.checkpoint: the use_reentrant parameter should be passed explicitly. In version 2.4 we will raise an exception if use_reentrant is not passed. use_reentrant=False is recommended, but if you need to preserve the current default behavior, you can pass use_reentrant=True. Refer to docs for more details on the differences between the two variants.\n",
      "  return fn(*args, **kwargs)\n",
      "C:\\Users\\zjada\\dev\\projects\\llm-bielik-ft-legal\\venv\\lib\\site-packages\\torch\\utils\\checkpoint.py:295: FutureWarning: `torch.cpu.amp.autocast(args...)` is deprecated. Please use `torch.amp.autocast('cpu', args...)` instead.\n",
      "  with torch.enable_grad(), device_autocast_ctx, torch.cpu.amp.autocast(**ctx.cpu_autocast_kwargs):  # type: ignore[attr-defined]\n",
      "C:\\Users\\zjada\\dev\\projects\\llm-bielik-ft-legal\\venv\\lib\\site-packages\\peft\\utils\\save_and_load.py:202: UserWarning: Setting `save_embedding_layers` to `True` as embedding layers found in `target_modules`.\n",
      "  warnings.warn(\"Setting `save_embedding_layers` to `True` as embedding layers found in `target_modules`.\")\n",
      "C:\\Users\\zjada\\dev\\projects\\llm-bielik-ft-legal\\venv\\lib\\site-packages\\torch\\_dynamo\\eval_frame.py:600: UserWarning: torch.utils.checkpoint: the use_reentrant parameter should be passed explicitly. In version 2.4 we will raise an exception if use_reentrant is not passed. use_reentrant=False is recommended, but if you need to preserve the current default behavior, you can pass use_reentrant=True. Refer to docs for more details on the differences between the two variants.\n",
      "  return fn(*args, **kwargs)\n",
      "C:\\Users\\zjada\\dev\\projects\\llm-bielik-ft-legal\\venv\\lib\\site-packages\\torch\\utils\\checkpoint.py:295: FutureWarning: `torch.cpu.amp.autocast(args...)` is deprecated. Please use `torch.amp.autocast('cpu', args...)` instead.\n",
      "  with torch.enable_grad(), device_autocast_ctx, torch.cpu.amp.autocast(**ctx.cpu_autocast_kwargs):  # type: ignore[attr-defined]\n",
      "C:\\Users\\zjada\\dev\\projects\\llm-bielik-ft-legal\\venv\\lib\\site-packages\\peft\\utils\\save_and_load.py:202: UserWarning: Setting `save_embedding_layers` to `True` as embedding layers found in `target_modules`.\n",
      "  warnings.warn(\"Setting `save_embedding_layers` to `True` as embedding layers found in `target_modules`.\")\n",
      "C:\\Users\\zjada\\dev\\projects\\llm-bielik-ft-legal\\venv\\lib\\site-packages\\torch\\_dynamo\\eval_frame.py:600: UserWarning: torch.utils.checkpoint: the use_reentrant parameter should be passed explicitly. In version 2.4 we will raise an exception if use_reentrant is not passed. use_reentrant=False is recommended, but if you need to preserve the current default behavior, you can pass use_reentrant=True. Refer to docs for more details on the differences between the two variants.\n",
      "  return fn(*args, **kwargs)\n",
      "C:\\Users\\zjada\\dev\\projects\\llm-bielik-ft-legal\\venv\\lib\\site-packages\\torch\\utils\\checkpoint.py:295: FutureWarning: `torch.cpu.amp.autocast(args...)` is deprecated. Please use `torch.amp.autocast('cpu', args...)` instead.\n",
      "  with torch.enable_grad(), device_autocast_ctx, torch.cpu.amp.autocast(**ctx.cpu_autocast_kwargs):  # type: ignore[attr-defined]\n",
      "C:\\Users\\zjada\\dev\\projects\\llm-bielik-ft-legal\\venv\\lib\\site-packages\\peft\\utils\\save_and_load.py:202: UserWarning: Setting `save_embedding_layers` to `True` as embedding layers found in `target_modules`.\n",
      "  warnings.warn(\"Setting `save_embedding_layers` to `True` as embedding layers found in `target_modules`.\")\n",
      "C:\\Users\\zjada\\dev\\projects\\llm-bielik-ft-legal\\venv\\lib\\site-packages\\torch\\_dynamo\\eval_frame.py:600: UserWarning: torch.utils.checkpoint: the use_reentrant parameter should be passed explicitly. In version 2.4 we will raise an exception if use_reentrant is not passed. use_reentrant=False is recommended, but if you need to preserve the current default behavior, you can pass use_reentrant=True. Refer to docs for more details on the differences between the two variants.\n",
      "  return fn(*args, **kwargs)\n",
      "C:\\Users\\zjada\\dev\\projects\\llm-bielik-ft-legal\\venv\\lib\\site-packages\\torch\\utils\\checkpoint.py:295: FutureWarning: `torch.cpu.amp.autocast(args...)` is deprecated. Please use `torch.amp.autocast('cpu', args...)` instead.\n",
      "  with torch.enable_grad(), device_autocast_ctx, torch.cpu.amp.autocast(**ctx.cpu_autocast_kwargs):  # type: ignore[attr-defined]\n",
      "C:\\Users\\zjada\\dev\\projects\\llm-bielik-ft-legal\\venv\\lib\\site-packages\\peft\\utils\\save_and_load.py:202: UserWarning: Setting `save_embedding_layers` to `True` as embedding layers found in `target_modules`.\n",
      "  warnings.warn(\"Setting `save_embedding_layers` to `True` as embedding layers found in `target_modules`.\")\n",
      "C:\\Users\\zjada\\dev\\projects\\llm-bielik-ft-legal\\venv\\lib\\site-packages\\torch\\_dynamo\\eval_frame.py:600: UserWarning: torch.utils.checkpoint: the use_reentrant parameter should be passed explicitly. In version 2.4 we will raise an exception if use_reentrant is not passed. use_reentrant=False is recommended, but if you need to preserve the current default behavior, you can pass use_reentrant=True. Refer to docs for more details on the differences between the two variants.\n",
      "  return fn(*args, **kwargs)\n",
      "C:\\Users\\zjada\\dev\\projects\\llm-bielik-ft-legal\\venv\\lib\\site-packages\\torch\\utils\\checkpoint.py:295: FutureWarning: `torch.cpu.amp.autocast(args...)` is deprecated. Please use `torch.amp.autocast('cpu', args...)` instead.\n",
      "  with torch.enable_grad(), device_autocast_ctx, torch.cpu.amp.autocast(**ctx.cpu_autocast_kwargs):  # type: ignore[attr-defined]\n",
      "C:\\Users\\zjada\\dev\\projects\\llm-bielik-ft-legal\\venv\\lib\\site-packages\\peft\\utils\\save_and_load.py:202: UserWarning: Setting `save_embedding_layers` to `True` as embedding layers found in `target_modules`.\n",
      "  warnings.warn(\"Setting `save_embedding_layers` to `True` as embedding layers found in `target_modules`.\")\n",
      "C:\\Users\\zjada\\dev\\projects\\llm-bielik-ft-legal\\venv\\lib\\site-packages\\torch\\_dynamo\\eval_frame.py:600: UserWarning: torch.utils.checkpoint: the use_reentrant parameter should be passed explicitly. In version 2.4 we will raise an exception if use_reentrant is not passed. use_reentrant=False is recommended, but if you need to preserve the current default behavior, you can pass use_reentrant=True. Refer to docs for more details on the differences between the two variants.\n",
      "  return fn(*args, **kwargs)\n",
      "C:\\Users\\zjada\\dev\\projects\\llm-bielik-ft-legal\\venv\\lib\\site-packages\\torch\\utils\\checkpoint.py:295: FutureWarning: `torch.cpu.amp.autocast(args...)` is deprecated. Please use `torch.amp.autocast('cpu', args...)` instead.\n",
      "  with torch.enable_grad(), device_autocast_ctx, torch.cpu.amp.autocast(**ctx.cpu_autocast_kwargs):  # type: ignore[attr-defined]\n",
      "C:\\Users\\zjada\\dev\\projects\\llm-bielik-ft-legal\\venv\\lib\\site-packages\\peft\\utils\\save_and_load.py:202: UserWarning: Setting `save_embedding_layers` to `True` as embedding layers found in `target_modules`.\n",
      "  warnings.warn(\"Setting `save_embedding_layers` to `True` as embedding layers found in `target_modules`.\")\n",
      "C:\\Users\\zjada\\dev\\projects\\llm-bielik-ft-legal\\venv\\lib\\site-packages\\torch\\_dynamo\\eval_frame.py:600: UserWarning: torch.utils.checkpoint: the use_reentrant parameter should be passed explicitly. In version 2.4 we will raise an exception if use_reentrant is not passed. use_reentrant=False is recommended, but if you need to preserve the current default behavior, you can pass use_reentrant=True. Refer to docs for more details on the differences between the two variants.\n",
      "  return fn(*args, **kwargs)\n",
      "C:\\Users\\zjada\\dev\\projects\\llm-bielik-ft-legal\\venv\\lib\\site-packages\\torch\\utils\\checkpoint.py:295: FutureWarning: `torch.cpu.amp.autocast(args...)` is deprecated. Please use `torch.amp.autocast('cpu', args...)` instead.\n",
      "  with torch.enable_grad(), device_autocast_ctx, torch.cpu.amp.autocast(**ctx.cpu_autocast_kwargs):  # type: ignore[attr-defined]\n",
      "C:\\Users\\zjada\\dev\\projects\\llm-bielik-ft-legal\\venv\\lib\\site-packages\\peft\\utils\\save_and_load.py:202: UserWarning: Setting `save_embedding_layers` to `True` as embedding layers found in `target_modules`.\n",
      "  warnings.warn(\"Setting `save_embedding_layers` to `True` as embedding layers found in `target_modules`.\")\n",
      "C:\\Users\\zjada\\dev\\projects\\llm-bielik-ft-legal\\venv\\lib\\site-packages\\torch\\_dynamo\\eval_frame.py:600: UserWarning: torch.utils.checkpoint: the use_reentrant parameter should be passed explicitly. In version 2.4 we will raise an exception if use_reentrant is not passed. use_reentrant=False is recommended, but if you need to preserve the current default behavior, you can pass use_reentrant=True. Refer to docs for more details on the differences between the two variants.\n",
      "  return fn(*args, **kwargs)\n",
      "C:\\Users\\zjada\\dev\\projects\\llm-bielik-ft-legal\\venv\\lib\\site-packages\\torch\\utils\\checkpoint.py:295: FutureWarning: `torch.cpu.amp.autocast(args...)` is deprecated. Please use `torch.amp.autocast('cpu', args...)` instead.\n",
      "  with torch.enable_grad(), device_autocast_ctx, torch.cpu.amp.autocast(**ctx.cpu_autocast_kwargs):  # type: ignore[attr-defined]\n",
      "C:\\Users\\zjada\\dev\\projects\\llm-bielik-ft-legal\\venv\\lib\\site-packages\\peft\\utils\\save_and_load.py:202: UserWarning: Setting `save_embedding_layers` to `True` as embedding layers found in `target_modules`.\n",
      "  warnings.warn(\"Setting `save_embedding_layers` to `True` as embedding layers found in `target_modules`.\")\n",
      "C:\\Users\\zjada\\dev\\projects\\llm-bielik-ft-legal\\venv\\lib\\site-packages\\torch\\_dynamo\\eval_frame.py:600: UserWarning: torch.utils.checkpoint: the use_reentrant parameter should be passed explicitly. In version 2.4 we will raise an exception if use_reentrant is not passed. use_reentrant=False is recommended, but if you need to preserve the current default behavior, you can pass use_reentrant=True. Refer to docs for more details on the differences between the two variants.\n",
      "  return fn(*args, **kwargs)\n",
      "C:\\Users\\zjada\\dev\\projects\\llm-bielik-ft-legal\\venv\\lib\\site-packages\\torch\\utils\\checkpoint.py:295: FutureWarning: `torch.cpu.amp.autocast(args...)` is deprecated. Please use `torch.amp.autocast('cpu', args...)` instead.\n",
      "  with torch.enable_grad(), device_autocast_ctx, torch.cpu.amp.autocast(**ctx.cpu_autocast_kwargs):  # type: ignore[attr-defined]\n",
      "C:\\Users\\zjada\\dev\\projects\\llm-bielik-ft-legal\\venv\\lib\\site-packages\\peft\\utils\\save_and_load.py:202: UserWarning: Setting `save_embedding_layers` to `True` as embedding layers found in `target_modules`.\n",
      "  warnings.warn(\"Setting `save_embedding_layers` to `True` as embedding layers found in `target_modules`.\")\n"
     ]
    },
    {
     "data": {
      "text/plain": [
       "TrainOutput(global_step=500, training_loss=1.01540193939209, metrics={'train_runtime': 1249.4976, 'train_samples_per_second': 0.8, 'train_steps_per_second': 0.4, 'total_flos': 2.23440742121472e+16, 'train_loss': 1.01540193939209, 'epoch': 1.25})"
      ]
     },
     "execution_count": 23,
     "metadata": {},
     "output_type": "execute_result"
    }
   ],
   "execution_count": 23
  },
  {
   "metadata": {
    "ExecuteTime": {
     "end_time": "2024-11-11T22:22:53.330317Z",
     "start_time": "2024-11-11T22:22:29.236649Z"
    }
   },
   "cell_type": "code",
   "source": [
    "base_model_id = \"speakleash/Bielik-7B-v0.1\"\n",
    "bnb_config = BitsAndBytesConfig(\n",
    "    # llm_int8_enable_fp32_cpu_offload=True,\n",
    "    load_in_4bit=True,\n",
    "    bnb_4bit_use_double_quant=True,\n",
    "    bnb_4bit_quant_type=\"nf4\",\n",
    "    bnb_4bit_compute_dtype=torch.bfloat16\n",
    ")\n",
    "\n",
    "base_model = AutoModelForCausalLM.from_pretrained(\n",
    "    base_model_id,  # Mistral, same as before\n",
    "    quantization_config=bnb_config,  # Same quantization config as before\n",
    "    device_map=\"auto\",\n",
    "    trust_remote_code=True\n",
    ")"
   ],
   "id": "a31a1e5895675228",
   "outputs": [
    {
     "data": {
      "text/plain": [
       "Loading checkpoint shards:   0%|          | 0/3 [00:00<?, ?it/s]"
      ],
      "application/vnd.jupyter.widget-view+json": {
       "version_major": 2,
       "version_minor": 0,
       "model_id": "c07a05c6cc4045149a5bc624a4403052"
      }
     },
     "metadata": {},
     "output_type": "display_data"
    }
   ],
   "execution_count": 24
  },
  {
   "metadata": {
    "ExecuteTime": {
     "end_time": "2024-11-11T22:23:24.696923Z",
     "start_time": "2024-11-11T22:23:24.257132Z"
    }
   },
   "cell_type": "code",
   "source": [
    "eval_tokenizer = AutoTokenizer.from_pretrained(base_model_id, add_bos_token=True, trust_remote_code=True)"
   ],
   "id": "9b2eced514647911",
   "outputs": [],
   "execution_count": 25
  },
  {
   "metadata": {
    "ExecuteTime": {
     "end_time": "2024-11-11T22:23:27.898428Z",
     "start_time": "2024-11-11T22:23:26.087043Z"
    }
   },
   "cell_type": "code",
   "source": "ft_model = PeftModel.from_pretrained(base_model, \"bielik_v1-legal-finetune-r-64-alpha-128/checkpoint-500\")",
   "id": "f8ac2a4ab2c10cd8",
   "outputs": [],
   "execution_count": 26
  },
  {
   "metadata": {},
   "cell_type": "code",
   "outputs": [],
   "execution_count": null,
   "source": [
    "# eval_tokenizer.apply_chat_template(return_tensors=\"pt\")"
   ],
   "id": "a3aefd54790ea82e"
  },
  {
   "metadata": {
    "ExecuteTime": {
     "end_time": "2024-11-11T22:33:57.443691Z",
     "start_time": "2024-11-11T22:33:04.891755Z"
    }
   },
   "cell_type": "code",
   "source": [
    "evaluation_prompt = \"W jaki sposób przedsiębiorca może udowodnić, że nie znał danego publicznego zapewnienia i rozsądnie nie mógł o nim wiedzieć?\"\n",
    "model_input = eval_tokenizer(evaluation_prompt, return_tensors=\"pt\").to(\"cuda\")\n",
    "\n",
    "ft_model.eval()\n",
    "with torch.no_grad():\n",
    "    print(eval_tokenizer.decode(ft_model.generate(**model_input, max_new_tokens=600, repetition_penalty=1.15)[0], skip_special_tokens=True))"
   ],
   "id": "679718df7d103e11",
   "outputs": [
    {
     "name": "stderr",
     "output_type": "stream",
     "text": [
      "Setting `pad_token_id` to `eos_token_id`:2 for open-end generation.\n"
     ]
    },
    {
     "name": "stdout",
     "output_type": "stream",
     "text": [
      "W jaki sposób przedsiębiorca może udowodnić, że nie znał danego publicznego zapewnienia i rozsądnie nie mógł o nim wiedzieć?\n",
      "W przypadku gdy konsument skorzystał z prawa odstąpienia od umowy zawartej na odległość lub poza lokalem przedsiębiorcy, a następnie wyraził zgodę na dodatkowe świadczenia ze strony przedsiębiorcy (np. na zakup produktu promocyjnego), to przedsiębiorca ma prawo dochodzić zwrotu tych świadczeń za zapłatą ich wartości rynkowej. Przedsiębiorca musi jednak udowodnić, że konsument był świadomy swojej decyzji oraz że został on poinformowany przez przedsiębiorcę o utracie prawa odstąpienia od umowy wskutek wyrażenia zgody na dodatkowe świadczenie. Zatem jeśli przedsiębiorca chce dochodzić zwrotu takich świadczeń, powinien wykazać, że spełnione są łącznie trzy warunki:\n",
      "1) konsument został poinformowany przez przedsiębiorcę o utracie prawa odstąpienia od umowy;\n",
      "2) konsument miał świadomość konsekwencji prawnych wynikających z wyrażenia zgody na dodatkowe świadczenie;\n",
      "3) konsument faktycznie i realnie wyraził zgodę na dodatkowe świadczenie.\n",
      "Przedsiębiorca może wykazać te okoliczności np. poprzez stwierdzenie, że konsument podpisał dokument potwierdzający wyrażenie zgody na dodatkowe świadczenie albo że konsument użył sformułowań typu \"potwierdzam\", \"tak\" czy \"zgadzam się\". Jednocześnie przedsiębiorca nie może domagać się zwrotu świadczeń, jeżeli konsument nie miał świadomości konsekwencji prawnych wynikających z wyrażenia zgody na dodatkowe świadczenie albo jeżeli konsument faktycznie i realnie nie wyraził zgody na dodatkowe świadczenie.\n",
      "Czy przedsiębiorca może żądać od kons\n"
     ]
    }
   ],
   "execution_count": 27
  },
  {
   "metadata": {},
   "cell_type": "code",
   "outputs": [],
   "execution_count": null,
   "source": "",
   "id": "216c7926a03bd5f3"
  }
 ],
 "metadata": {
  "kernelspec": {
   "display_name": "Python 3",
   "language": "python",
   "name": "python3"
  },
  "language_info": {
   "codemirror_mode": {
    "name": "ipython",
    "version": 2
   },
   "file_extension": ".py",
   "mimetype": "text/x-python",
   "name": "python",
   "nbconvert_exporter": "python",
   "pygments_lexer": "ipython2",
   "version": "2.7.6"
  }
 },
 "nbformat": 4,
 "nbformat_minor": 5
}
