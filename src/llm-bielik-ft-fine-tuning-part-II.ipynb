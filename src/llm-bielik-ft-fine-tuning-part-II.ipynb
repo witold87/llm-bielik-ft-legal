{
 "cells": [
  {
   "cell_type": "markdown",
   "source": [
    "# LLM - Bielik - Fine tuning - part II"
   ],
   "metadata": {
    "collapsed": false
   },
   "id": "dd667e2b7df297f7"
  },
  {
   "metadata": {},
   "cell_type": "markdown",
   "source": [
    "## Introduction \n",
    "\n",
    "This is second part of small series related to LLM fine-tuning!\n",
    "\n",
    "The goal of following article is to fine-tuning one large language model - Bielik 7B from Speakleash <page>. In first part <link to first part> we focused on data preparation. To achieve this, we generated data based on the polish legal document. Then, we measured the quality of the generated data using various metrics (distance and LLM based). As we proved the good quality of the generated question and answers based on the context, we formatted the data in order to follow a specific schema suitable for question-answering task for LLM.\n",
    "\n",
    "Now let's dive deep into the fine-tuning itself!\n"
   ],
   "id": "802d8fc035c9f9c"
  },
  {
   "metadata": {},
   "cell_type": "markdown",
   "source": [
    "# Prerequisites\n",
    "\n",
    "In order to start working with model and finetuning let's install required libraries (also present in requirements.txt). Short intro to libraries:\n",
    "- bitandbytes - setups config for quantization options\n",
    "- transformers - core library for using Large Language Models and beyond\n",
    "- accelerate - <em>Accelerate is a library that enables the same PyTorch code to be run across any distributed configuration by adding just four lines of code.</em> https://huggingface.co/docs/accelerate/en/index\n",
    "- peft - our gem! <strong>P</strong>aremeter-<strong>E</strong>fficient <strong>F</strong>ine <strong>T</strong>uning library which allows to finetune small number of extra model paremeters instead of all which could be costly.\n",
    "- wandb - weights and biases - useful for tracking the experiments (https://wandb.ai/site/)\n",
    "- torch, torchvision, torchaudio - core PyTorch libraries for running neural networks."
   ],
   "id": "66cfb41f7144d1a7"
  },
  {
   "metadata": {
    "ExecuteTime": {
     "end_time": "2024-12-04T21:40:20.530453Z",
     "start_time": "2024-12-04T21:40:20.518454Z"
    }
   },
   "cell_type": "code",
   "source": [
    "# ! pip install bitsandbytes\n",
    "# ! pip install transformers\n",
    "# ! pip install accelerate\n",
    "# ! pip install peft\n",
    "# ! pip install wandb\n",
    "# ! pip install datasets\n",
    "# ! pip install ipywidgets==8.1.3\n",
    "# ! pip3 install torch torchvision torchaudio --index-url https://download.pytorch.org/whl/cu124"
   ],
   "id": "f90bfa2f2cfbc474",
   "outputs": [],
   "execution_count": 1
  },
  {
   "metadata": {
    "ExecuteTime": {
     "end_time": "2024-12-05T15:17:18.102648Z",
     "start_time": "2024-12-05T15:17:18.096649Z"
    }
   },
   "cell_type": "code",
   "source": [
    "import pandas as pd\n",
    "import torch\n",
    "from transformers import AutoTokenizer, AutoModelForCausalLM, BitsAndBytesConfig, logging\n",
    "import transformers\n",
    "from datetime import datetime\n",
    "from accelerate import Accelerator\n",
    "from huggingface_hub import notebook_login\n",
    "from peft import prepare_model_for_kbit_training, PeftModel, LoraConfig, get_peft_model\n",
    "from src.helpers.models import load_model\n",
    "from src.helpers.data import load_data, generate_and_tokenize, plot_hist, generate_and_tokenize_with_truncation\n",
    "from src.data.val_dataset import get_validation_dataset"
   ],
   "id": "d6f7c745f0ba87e9",
   "outputs": [],
   "execution_count": 2
  },
  {
   "metadata": {},
   "cell_type": "markdown",
   "source": [
    "## 3...2...1...action!\n",
    "Let's start with some helper functions:\n",
    "- setting appropriate level of logging, because pytorch likes to spam all the output console.\n",
    "- login to huggingface with credentials to be able to download some models - not every model is available without logging in."
   ],
   "id": "c202fa6e7109371c"
  },
  {
   "cell_type": "code",
   "source": [
    "logging.set_verbosity_warning()\n",
    "notebook_login()"
   ],
   "metadata": {
    "collapsed": false,
    "ExecuteTime": {
     "end_time": "2024-12-04T22:15:54.724974Z",
     "start_time": "2024-12-04T22:15:54.703973Z"
    }
   },
   "id": "d82bfff2ae07d6b6",
   "outputs": [
    {
     "data": {
      "text/plain": [
       "VBox(children=(HTML(value='<center> <img\\nsrc=https://huggingface.co/front/assets/huggingface_logo-noborder.sv…"
      ],
      "application/vnd.jupyter.widget-view+json": {
       "version_major": 2,
       "version_minor": 0,
       "model_id": "16b0941f0af24cad94279d41daae97d4"
      }
     },
     "metadata": {},
     "output_type": "display_data"
    }
   ],
   "execution_count": 2
  },
  {
   "metadata": {},
   "cell_type": "markdown",
   "source": [
    "To start with, let's focus on our model. Here, we want to load and setup appropriate model, Bielik 7B in our case. We start with quantization config in order to make our model lighter. Then we use a helper function to get the model from HuggingFace Hub."
   ],
   "id": "eb60b23f3caf877"
  },
  {
   "metadata": {
    "ExecuteTime": {
     "end_time": "2024-12-04T22:15:54.863978Z",
     "start_time": "2024-12-04T22:15:54.848973Z"
    }
   },
   "cell_type": "code",
   "source": [
    "model_config = {\n",
    "        'load_in_4bit':True,\n",
    "        'bnb_4bit_use_double_quant':True,\n",
    "        'bnb_4bit_quant_type':\"nf4\",\n",
    "        'bnb_4bit_compute_dtype':torch.bfloat16\n",
    "}\n",
    "\n",
    "model_name = 'speakleash/Bielik-7B-v0.1'"
   ],
   "id": "6336a48c7dc95d34",
   "outputs": [],
   "execution_count": 3
  },
  {
   "metadata": {
    "ExecuteTime": {
     "end_time": "2024-12-04T22:16:07.249482Z",
     "start_time": "2024-12-04T22:15:55.076565Z"
    }
   },
   "cell_type": "code",
   "source": [
    "model, tokenizer = load_model(model_name, config=model_config)"
   ],
   "id": "b00cfcd0288604eb",
   "outputs": [
    {
     "data": {
      "text/plain": [
       "Loading checkpoint shards:   0%|          | 0/3 [00:00<?, ?it/s]"
      ],
      "application/vnd.jupyter.widget-view+json": {
       "version_major": 2,
       "version_minor": 0,
       "model_id": "51b7dd22617c454d8bcfd8a9a22a5bf5"
      }
     },
     "metadata": {},
     "output_type": "display_data"
    }
   ],
   "execution_count": 4
  },
  {
   "metadata": {},
   "cell_type": "markdown",
   "source": [
    "Having the model and aligned tokenizer loaded, let's head to data. In previous part of this tutorial we focused on generating data, questions and answers, to use for training the model specific task like handling user questions. Now, we need to split our data for training and evaluation set. Here, we did this process manually, by spliting the dataset and creating two separate files - training and eval. In this case around 80% is training dataset and around 20% is eval dataset."
   ],
   "id": "dce87c52d83716e2"
  },
  {
   "metadata": {
    "ExecuteTime": {
     "end_time": "2024-12-04T22:16:07.265348Z",
     "start_time": "2024-12-04T22:16:07.252478Z"
    }
   },
   "cell_type": "code",
   "source": [
    "train_data_path = 'ft_output_data/data_ft_20240818_133719_train.jsonl'\n",
    "eval_data_path = 'ft_output_data/data_ft_20240818_133719_eval.jsonl'"
   ],
   "id": "55ca1e66e92947d8",
   "outputs": [],
   "execution_count": 5
  },
  {
   "metadata": {
    "ExecuteTime": {
     "end_time": "2024-12-04T22:16:08.115187Z",
     "start_time": "2024-12-04T22:16:07.281147Z"
    }
   },
   "cell_type": "code",
   "source": [
    "train_dataset = load_data(path=train_data_path, type='train', format='json')\n",
    "eval_dataset = load_data(path=eval_data_path, type='train', format='json')"
   ],
   "id": "bf55f47f5e450881",
   "outputs": [],
   "execution_count": 6
  },
  {
   "metadata": {},
   "cell_type": "markdown",
   "source": [
    "After loading the data to an specific format suitable for fine-tuning, we need to preprocess the input data to be used for QA task. Our data now will have format as follows: \"### Question: <question>\\n ### Answer: <answer>}\". It will be also tokenized (transformed from words to numbers)."
   ],
   "id": "815c100d8f629003"
  },
  {
   "metadata": {
    "ExecuteTime": {
     "end_time": "2024-12-04T22:16:08.177186Z",
     "start_time": "2024-12-04T22:16:08.132187Z"
    }
   },
   "cell_type": "code",
   "source": [
    "tokenized_train_dataset = train_dataset.map(lambda x: generate_and_tokenize(prompt=x, tokenizer=tokenizer))\n",
    "tokenized_eval_dataset = eval_dataset.map(lambda x: generate_and_tokenize(prompt=x, tokenizer=tokenizer))"
   ],
   "id": "3b464ae4e1c711c7",
   "outputs": [],
   "execution_count": 7
  },
  {
   "metadata": {},
   "cell_type": "markdown",
   "source": [
    "Let us verify how long our sentences are. In the first part of article about data generation, we asked GPT model to deliver answers with a limit of 200 tokens. We set this limit to instruct the model to provide concise answer within this number. Combining questions and answers gives us numbers as below:"
   ],
   "id": "bcff5ecf89382d2d"
  },
  {
   "metadata": {
    "ExecuteTime": {
     "end_time": "2024-12-04T22:16:08.410044Z",
     "start_time": "2024-12-04T22:16:08.194185Z"
    }
   },
   "cell_type": "code",
   "source": [
    "plot_hist(tokenized_train_dataset, tokenized_eval_dataset)"
   ],
   "id": "1155c30e2e6d2bc5",
   "outputs": [
    {
     "data": {
      "text/plain": [
       "<Figure size 1000x600 with 1 Axes>"
      ],
      "image/png": "[encoded data removed]"
     },
     "metadata": {},
     "output_type": "display_data"
    }
   ],
   "execution_count": 8
  },
  {
   "metadata": {},
   "cell_type": "markdown",
   "source": [
    "As shown, the majority of sentences are between 200 and 300 tokens in length. Now, for model usage we need to make all the sentences mand make them the same size and if the sentence is shorter we add padding."
   ],
   "id": "93d063364a085685"
  },
  {
   "metadata": {
    "ExecuteTime": {
     "end_time": "2024-12-04T22:16:08.440311Z",
     "start_time": "2024-12-04T22:16:08.426163Z"
    }
   },
   "cell_type": "code",
   "source": [
    "max_length = 512"
   ],
   "id": "2f8042b0ee221062",
   "outputs": [],
   "execution_count": 9
  },
  {
   "metadata": {
    "ExecuteTime": {
     "end_time": "2024-12-04T22:16:08.598295Z",
     "start_time": "2024-12-04T22:16:08.457305Z"
    }
   },
   "cell_type": "code",
   "source": [
    "tokenized_train_dataset = train_dataset.map(lambda x: generate_and_tokenize_with_truncation(prompt=x, tokenizer=tokenizer, length=max_length))\n",
    "tokenized_val_dataset = eval_dataset.map(lambda x: generate_and_tokenize_with_truncation(prompt=x, tokenizer=tokenizer, length=max_length))"
   ],
   "id": "566e2bbd1ac390f3",
   "outputs": [
    {
     "data": {
      "text/plain": [
       "Map:   0%|          | 0/225 [00:00<?, ? examples/s]"
      ],
      "application/vnd.jupyter.widget-view+json": {
       "version_major": 2,
       "version_minor": 0,
       "model_id": "41e91c8f547d439a906f3988b564a692"
      }
     },
     "metadata": {},
     "output_type": "display_data"
    }
   ],
   "execution_count": 10
  },
  {
   "metadata": {
    "ExecuteTime": {
     "end_time": "2024-12-04T22:16:09.030256Z",
     "start_time": "2024-12-04T22:16:08.614096Z"
    }
   },
   "cell_type": "code",
   "source": [
    "plot_hist(tokenized_train_dataset, tokenized_val_dataset)"
   ],
   "id": "65698161d3182bf4",
   "outputs": [
    {
     "data": {
      "text/plain": [
       "<Figure size 1000x600 with 1 Axes>"
      ],
      "image/png": "[encoded data removed]"
     },
     "metadata": {},
     "output_type": "display_data"
    }
   ],
   "execution_count": 11
  },
  {
   "metadata": {},
   "cell_type": "markdown",
   "source": [
    "For comparison results between non-finetuned model and finetuned one, the validation dataset is created with selected questions related to the topic of consumer rights. Questions and groundtruth answers come from https://prawakonsumenta.uokik.gov.pl/pytania-i-odpowiedzi/zagadnienia-ogolne/ . We switched the source of questions in order to avoid data leakage (using train / eval dataset questions from earlier prepared data). This dataset is not verbose, it contains only 11 questions, but at this point should be enough to verify if the fine-tuning worked. Let's set our baseline here:"
   ],
   "id": "16558e8697ddcf2f"
  },
  {
   "metadata": {
    "ExecuteTime": {
     "end_time": "2024-12-05T15:18:46.876952Z",
     "start_time": "2024-12-05T15:18:46.862953Z"
    }
   },
   "cell_type": "code",
   "source": [
    "val_dataset = get_validation_dataset()\n",
    "val_dataset"
   ],
   "id": "4cd17f5f638845e9",
   "outputs": [
    {
     "data": {
      "text/plain": [
       "                                             question  \\\n",
       "0                           Kiedy jestem konsumentem?   \n",
       "1   Czy jestem konsumentem, gdy kupuję towar od os...   \n",
       "2   Co oznacza wyraźna zgoda na dodatkową płatność...   \n",
       "3   Czy przedsiębiorca może dowolnie ustalać koszt...   \n",
       "4   Czy przy zakupie biletu do teatru obowiązują p...   \n",
       "5   Kiedy jest niedozwolona odsprzedaż konsumentom...   \n",
       "6   Kiedy podwójna jakość produktów jest niezgodna...   \n",
       "7   Czy do umów o najem i rezerwację miejsc parkin...   \n",
       "8   Czy sprzedawca może przenieść na konsumenta od...   \n",
       "9   Czy konsument może żądać od sprzedawcy potwier...   \n",
       "10  Czy dozwolone jest zawarcie przez przedsiębior...   \n",
       "\n",
       "                                          groundtruth  \n",
       "0   Konsument to osoba fizyczna dokonująca z przed...  \n",
       "1   Nie jesteś konsumentem, gdy kupujesz towar od ...  \n",
       "2   Wyraźną zgodę wyraża sam konsument. Nie można ...  \n",
       "3   Nie, przedsiębiorca nie może ustalać tego w sp...  \n",
       "4   Tak, przepisy ustawy o prawach konsumenta stos...  \n",
       "5   Niedozwolona jest odsprzedaż konsumentom bilet...  \n",
       "6   Niezgodne z prawem jest wprowadzenie na polski...  \n",
       "7   Tak, w przypadku tego typu umów stosuje się us...  \n",
       "8   Przedsiębiorca nie może przenieść na konsument...  \n",
       "9   Jeżeli przedsiębiorca proponuje konsumentowi z...  \n",
       "10  Nie, umowa dotycząca usług finansowych nie moż...  "
      ],
      "text/html": [
       "<div>\n",
       "<style scoped>\n",
       "    .dataframe tbody tr th:only-of-type {\n",
       "        vertical-align: middle;\n",
       "    }\n",
       "\n",
       "    .dataframe tbody tr th {\n",
       "        vertical-align: top;\n",
       "    }\n",
       "\n",
       "    .dataframe thead th {\n",
       "        text-align: right;\n",
       "    }\n",
       "</style>\n",
       "<table border=\"1\" class=\"dataframe\">\n",
       "  <thead>\n",
       "    <tr style=\"text-align: right;\">\n",
       "      <th></th>\n",
       "      <th>question</th>\n",
       "      <th>groundtruth</th>\n",
       "    </tr>\n",
       "  </thead>\n",
       "  <tbody>\n",
       "    <tr>\n",
       "      <th>0</th>\n",
       "      <td>Kiedy jestem konsumentem?</td>\n",
       "      <td>Konsument to osoba fizyczna dokonująca z przed...</td>\n",
       "    </tr>\n",
       "    <tr>\n",
       "      <th>1</th>\n",
       "      <td>Czy jestem konsumentem, gdy kupuję towar od os...</td>\n",
       "      <td>Nie jesteś konsumentem, gdy kupujesz towar od ...</td>\n",
       "    </tr>\n",
       "    <tr>\n",
       "      <th>2</th>\n",
       "      <td>Co oznacza wyraźna zgoda na dodatkową płatność...</td>\n",
       "      <td>Wyraźną zgodę wyraża sam konsument. Nie można ...</td>\n",
       "    </tr>\n",
       "    <tr>\n",
       "      <th>3</th>\n",
       "      <td>Czy przedsiębiorca może dowolnie ustalać koszt...</td>\n",
       "      <td>Nie, przedsiębiorca nie może ustalać tego w sp...</td>\n",
       "    </tr>\n",
       "    <tr>\n",
       "      <th>4</th>\n",
       "      <td>Czy przy zakupie biletu do teatru obowiązują p...</td>\n",
       "      <td>Tak, przepisy ustawy o prawach konsumenta stos...</td>\n",
       "    </tr>\n",
       "    <tr>\n",
       "      <th>5</th>\n",
       "      <td>Kiedy jest niedozwolona odsprzedaż konsumentom...</td>\n",
       "      <td>Niedozwolona jest odsprzedaż konsumentom bilet...</td>\n",
       "    </tr>\n",
       "    <tr>\n",
       "      <th>6</th>\n",
       "      <td>Kiedy podwójna jakość produktów jest niezgodna...</td>\n",
       "      <td>Niezgodne z prawem jest wprowadzenie na polski...</td>\n",
       "    </tr>\n",
       "    <tr>\n",
       "      <th>7</th>\n",
       "      <td>Czy do umów o najem i rezerwację miejsc parkin...</td>\n",
       "      <td>Tak, w przypadku tego typu umów stosuje się us...</td>\n",
       "    </tr>\n",
       "    <tr>\n",
       "      <th>8</th>\n",
       "      <td>Czy sprzedawca może przenieść na konsumenta od...</td>\n",
       "      <td>Przedsiębiorca nie może przenieść na konsument...</td>\n",
       "    </tr>\n",
       "    <tr>\n",
       "      <th>9</th>\n",
       "      <td>Czy konsument może żądać od sprzedawcy potwier...</td>\n",
       "      <td>Jeżeli przedsiębiorca proponuje konsumentowi z...</td>\n",
       "    </tr>\n",
       "    <tr>\n",
       "      <th>10</th>\n",
       "      <td>Czy dozwolone jest zawarcie przez przedsiębior...</td>\n",
       "      <td>Nie, umowa dotycząca usług finansowych nie moż...</td>\n",
       "    </tr>\n",
       "  </tbody>\n",
       "</table>\n",
       "</div>"
      ]
     },
     "execution_count": 9,
     "metadata": {},
     "output_type": "execute_result"
    }
   ],
   "execution_count": 9
  },
  {
   "metadata": {
    "ExecuteTime": {
     "end_time": "2024-12-05T15:19:41.153756Z",
     "start_time": "2024-12-05T15:19:41.129756Z"
    }
   },
   "cell_type": "code",
   "source": "from src.inference.generation import generate",
   "id": "fdc82ec5bbf88a0c",
   "outputs": [],
   "execution_count": 11
  },
  {
   "metadata": {},
   "cell_type": "code",
   "outputs": [],
   "execution_count": null,
   "source": "val_dataset['baseline_model_response'] = val_dataset['question'].apply(lambda x: generate(model_name=model_name, model=model, text=x))",
   "id": "ee75e2c3dae6a0ac"
  },
  {
   "metadata": {
    "ExecuteTime": {
     "end_time": "2024-12-04T22:24:04.205301Z",
     "start_time": "2024-12-04T22:24:04.191300Z"
    }
   },
   "cell_type": "code",
   "source": "val_dataset",
   "id": "41433d96e86f4f19",
   "outputs": [
    {
     "data": {
      "text/plain": [
       "                                             question  \\\n",
       "0                           Kiedy jestem konsumentem?   \n",
       "1   Czy jestem konsumentem, gdy kupuję towar od os...   \n",
       "2   Co oznacza wyraźna zgoda na dodatkową płatność...   \n",
       "3   Czy przedsiębiorca może dowolnie ustalać koszt...   \n",
       "4   Czy przy zakupie biletu do teatru obowiązują p...   \n",
       "5   Kiedy jest niedozwolona odsprzedaż konsumentom...   \n",
       "6   Kiedy podwójna jakość produktów jest niezgodna...   \n",
       "7   Czy do umów o najem i rezerwację miejsc parkin...   \n",
       "8   Czy sprzedawca może przenieść na konsumenta od...   \n",
       "9   Czy konsument może żądać od sprzedawcy potwier...   \n",
       "10  Czy dozwolone jest zawarcie przez przedsiębior...   \n",
       "\n",
       "                                          groundtruth  \\\n",
       "0   Konsument to osoba fizyczna dokonująca z przed...   \n",
       "1   Nie jesteś konsumentem, gdy kupujesz towar od ...   \n",
       "2   Wyraźną zgodę wyraża sam konsument. Nie można ...   \n",
       "3   Nie, przedsiębiorca nie może ustalać tego w sp...   \n",
       "4   Tak, przepisy ustawy o prawach konsumenta stos...   \n",
       "5   Niedozwolona jest odsprzedaż konsumentom bilet...   \n",
       "6   Niezgodne z prawem jest wprowadzenie na polski...   \n",
       "7   Tak, w przypadku tego typu umów stosuje się us...   \n",
       "8   Przedsiębiorca nie może przenieść na konsument...   \n",
       "9   Jeżeli przedsiębiorca proponuje konsumentowi z...   \n",
       "10  Nie, umowa dotycząca usług finansowych nie moż...   \n",
       "\n",
       "                              baseline_model_response  \n",
       "0   Kiedy jestem konsumentem?\\nKiedy nie prowadzę ...  \n",
       "1   Czy jestem konsumentem, gdy kupuję towar od os...  \n",
       "2   Co oznacza wyraźna zgoda na dodatkową płatność...  \n",
       "3   Czy przedsiębiorca może dowolnie ustalać koszt...  \n",
       "4   Czy przy zakupie biletu do teatru obowiązują p...  \n",
       "5   Kiedy jest niedozwolona odsprzedaż konsumentom...  \n",
       "6   Kiedy podwójna jakość produktów jest niezgodna...  \n",
       "7   Czy do umów o najem i rezerwację miejsc parkin...  \n",
       "8   Czy sprzedawca może przenieść na konsumenta od...  \n",
       "9   Czy konsument może żądać od sprzedawcy potwier...  \n",
       "10  Czy dozwolone jest zawarcie przez przedsiębior...  "
      ],
      "text/html": [
       "<div>\n",
       "<style scoped>\n",
       "    .dataframe tbody tr th:only-of-type {\n",
       "        vertical-align: middle;\n",
       "    }\n",
       "\n",
       "    .dataframe tbody tr th {\n",
       "        vertical-align: top;\n",
       "    }\n",
       "\n",
       "    .dataframe thead th {\n",
       "        text-align: right;\n",
       "    }\n",
       "</style>\n",
       "<table border=\"1\" class=\"dataframe\">\n",
       "  <thead>\n",
       "    <tr style=\"text-align: right;\">\n",
       "      <th></th>\n",
       "      <th>question</th>\n",
       "      <th>groundtruth</th>\n",
       "      <th>baseline_model_response</th>\n",
       "    </tr>\n",
       "  </thead>\n",
       "  <tbody>\n",
       "    <tr>\n",
       "      <th>0</th>\n",
       "      <td>Kiedy jestem konsumentem?</td>\n",
       "      <td>Konsument to osoba fizyczna dokonująca z przed...</td>\n",
       "      <td>Kiedy jestem konsumentem?\\nKiedy nie prowadzę ...</td>\n",
       "    </tr>\n",
       "    <tr>\n",
       "      <th>1</th>\n",
       "      <td>Czy jestem konsumentem, gdy kupuję towar od os...</td>\n",
       "      <td>Nie jesteś konsumentem, gdy kupujesz towar od ...</td>\n",
       "      <td>Czy jestem konsumentem, gdy kupuję towar od os...</td>\n",
       "    </tr>\n",
       "    <tr>\n",
       "      <th>2</th>\n",
       "      <td>Co oznacza wyraźna zgoda na dodatkową płatność...</td>\n",
       "      <td>Wyraźną zgodę wyraża sam konsument. Nie można ...</td>\n",
       "      <td>Co oznacza wyraźna zgoda na dodatkową płatność...</td>\n",
       "    </tr>\n",
       "    <tr>\n",
       "      <th>3</th>\n",
       "      <td>Czy przedsiębiorca może dowolnie ustalać koszt...</td>\n",
       "      <td>Nie, przedsiębiorca nie może ustalać tego w sp...</td>\n",
       "      <td>Czy przedsiębiorca może dowolnie ustalać koszt...</td>\n",
       "    </tr>\n",
       "    <tr>\n",
       "      <th>4</th>\n",
       "      <td>Czy przy zakupie biletu do teatru obowiązują p...</td>\n",
       "      <td>Tak, przepisy ustawy o prawach konsumenta stos...</td>\n",
       "      <td>Czy przy zakupie biletu do teatru obowiązują p...</td>\n",
       "    </tr>\n",
       "    <tr>\n",
       "      <th>5</th>\n",
       "      <td>Kiedy jest niedozwolona odsprzedaż konsumentom...</td>\n",
       "      <td>Niedozwolona jest odsprzedaż konsumentom bilet...</td>\n",
       "      <td>Kiedy jest niedozwolona odsprzedaż konsumentom...</td>\n",
       "    </tr>\n",
       "    <tr>\n",
       "      <th>6</th>\n",
       "      <td>Kiedy podwójna jakość produktów jest niezgodna...</td>\n",
       "      <td>Niezgodne z prawem jest wprowadzenie na polski...</td>\n",
       "      <td>Kiedy podwójna jakość produktów jest niezgodna...</td>\n",
       "    </tr>\n",
       "    <tr>\n",
       "      <th>7</th>\n",
       "      <td>Czy do umów o najem i rezerwację miejsc parkin...</td>\n",
       "      <td>Tak, w przypadku tego typu umów stosuje się us...</td>\n",
       "      <td>Czy do umów o najem i rezerwację miejsc parkin...</td>\n",
       "    </tr>\n",
       "    <tr>\n",
       "      <th>8</th>\n",
       "      <td>Czy sprzedawca może przenieść na konsumenta od...</td>\n",
       "      <td>Przedsiębiorca nie może przenieść na konsument...</td>\n",
       "      <td>Czy sprzedawca może przenieść na konsumenta od...</td>\n",
       "    </tr>\n",
       "    <tr>\n",
       "      <th>9</th>\n",
       "      <td>Czy konsument może żądać od sprzedawcy potwier...</td>\n",
       "      <td>Jeżeli przedsiębiorca proponuje konsumentowi z...</td>\n",
       "      <td>Czy konsument może żądać od sprzedawcy potwier...</td>\n",
       "    </tr>\n",
       "    <tr>\n",
       "      <th>10</th>\n",
       "      <td>Czy dozwolone jest zawarcie przez przedsiębior...</td>\n",
       "      <td>Nie, umowa dotycząca usług finansowych nie moż...</td>\n",
       "      <td>Czy dozwolone jest zawarcie przez przedsiębior...</td>\n",
       "    </tr>\n",
       "  </tbody>\n",
       "</table>\n",
       "</div>"
      ]
     },
     "execution_count": 16,
     "metadata": {},
     "output_type": "execute_result"
    }
   ],
   "execution_count": 16
  },
  {
   "metadata": {
    "ExecuteTime": {
     "end_time": "2024-11-11T21:38:15.329130Z",
     "start_time": "2024-11-11T21:38:15.307132Z"
    }
   },
   "cell_type": "code",
   "source": [
    "model.gradient_checkpointing_enable() # -> this speeds up training on single GPU\n",
    "model = prepare_model_for_kbit_training(model) # -> prepares model for training, exact operations: This method wraps the entire protocol for preparing a model before running a training. This includes: 1- Cast the layernorm in fp32 2- making output embedding layer require grads 3- Add the upcasting of the lm head to fp32."
   ],
   "id": "cc38fff5c0f40b34",
   "outputs": [],
   "execution_count": 19
  },
  {
   "cell_type": "markdown",
   "source": [
    "## Model fine-tuning"
   ],
   "metadata": {
    "collapsed": false
   },
   "id": "47e887399214e6a5"
  },
  {
   "cell_type": "markdown",
   "source": [
    "At first, create our LORA config. Lora stands for Low-Rank Adaptation which breaks down the original model matrix into the two smaller ones, which drastically reduces the number of parameters which needs to be trained, maintaining quality and efficiency. The most important parameters we will take into consideration is R and alpha. R, for Rank, will determine how many trainable parameters we will train and alpha will determine how much focus we should put on new learned weights, Lora paper suggest that alpha should be 2x Rank. According to FartyPants (yeah, really - https://medium.com/@fartypantsham/what-rank-r-and-alpha-to-use-in-lora-in-llm-1b4f025fd133) we should be careful with this parameters as there is a chance that our model base capabilities will be devoured by new ones. "
   ],
   "metadata": {
    "collapsed": false
   },
   "id": "412b5977f19d24a8"
  },
  {
   "metadata": {
    "ExecuteTime": {
     "end_time": "2024-11-11T21:38:18.872575Z",
     "start_time": "2024-11-11T21:38:18.866575Z"
    }
   },
   "cell_type": "code",
   "source": [
    "from src.helpers.models import print_trainable_parameters"
   ],
   "id": "54380c5eb4bf1a94",
   "outputs": [],
   "execution_count": 20
  },
  {
   "metadata": {
    "ExecuteTime": {
     "end_time": "2024-11-11T21:59:00.141634Z",
     "start_time": "2024-11-11T21:58:59.098528Z"
    }
   },
   "cell_type": "code",
   "source": [
    "lora_params = {\n",
    "    'r': 64,\n",
    "    'alpha': 128,\n",
    "    'layers': [\"q_proj\",\n",
    "            \"k_proj\",\n",
    "            \"v_proj\",\n",
    "            \"o_proj\",\n",
    "            \"gate_proj\",\n",
    "            \"up_proj\",\n",
    "            \"down_proj\",\n",
    "            \"lm_head\"],\n",
    "    'dropout': 0.05\n",
    "}\n",
    "\n",
    "use_linear_layers = False\n",
    "linear_layers = ['gate_proj', 'down_proj', 'up_proj', 'q_proj', 'v_proj', 'k_proj','o_proj']\n",
    "\n",
    "config = LoraConfig(\n",
    "    r=lora_params.get('r'),\n",
    "    lora_alpha=lora_params.get('alpha'),\n",
    "    target_modules=lora_params.get('layers') if not use_linear_layers else linear_layers,\n",
    "    bias=\"none\",\n",
    "    lora_dropout=lora_params.get('dropout'),  # Conventional\n",
    "    task_type=\"CAUSAL_LM\",\n",
    ")\n",
    "\n",
    "model = get_peft_model(model, config)\n",
    "print_trainable_parameters(model)"
   ],
   "id": "46ecd1a87ea84517",
   "outputs": [
    {
     "name": "stdout",
     "output_type": "stream",
     "text": [
      "trainable params: 170082304 || all params: 3922153472 || trainable%: 4.336452033664837\n"
     ]
    }
   ],
   "execution_count": 21
  },
  {
   "metadata": {
    "ExecuteTime": {
     "end_time": "2024-11-11T21:59:04.386948Z",
     "start_time": "2024-11-11T21:59:04.327943Z"
    }
   },
   "cell_type": "code",
   "source": [
    "accelerator = Accelerator()\n",
    "model = accelerator.prepare_model(model)"
   ],
   "id": "19b1aa088133c421",
   "outputs": [],
   "execution_count": 22
  },
  {
   "cell_type": "markdown",
   "source": [
    "## Training\n"
   ],
   "metadata": {
    "collapsed": false
   },
   "id": "c8168ec4c36f4631"
  },
  {
   "cell_type": "markdown",
   "source": [
    "Here, we are using some additional setup for tracking any experiments. We are using weights and biases as an experiment tracker. "
   ],
   "metadata": {
    "collapsed": false
   },
   "id": "a9b38608fad217c5"
  },
  {
   "metadata": {
    "ExecuteTime": {
     "end_time": "2024-11-11T22:22:01.463017Z",
     "start_time": "2024-11-11T22:01:09.432017Z"
    }
   },
   "cell_type": "code",
   "source": [
    "project = \"legal-finetune\"\n",
    "base_model_name = \"bielik_v1\"\n",
    "params = f'r-{lora_params.get(\"r\")}-alpha-{lora_params.get(\"alpha\")}'\n",
    "run_name = base_model_name + \"-\" + project + \"-\" + params\n",
    "output_dir = \"./\" + run_name\n",
    "\n",
    "trainer = transformers.Trainer(\n",
    "    model=model,\n",
    "    train_dataset=tokenized_train_dataset,\n",
    "    eval_dataset=tokenized_val_dataset,\n",
    "    args=transformers.TrainingArguments(\n",
    "        output_dir=output_dir,\n",
    "        warmup_steps=2,\n",
    "        per_device_train_batch_size=2,\n",
    "        gradient_accumulation_steps=1,\n",
    "        gradient_checkpointing=True,\n",
    "        max_steps=500,\n",
    "        learning_rate=2.5e-5, \n",
    "        bf16=True,\n",
    "        optim=\"sgd\",\n",
    "        logging_steps=25,              # When to start reporting loss\n",
    "        logging_dir=\"./logs\",        \n",
    "        save_strategy=\"steps\",       \n",
    "        save_steps=25,                \n",
    "        evaluation_strategy=\"steps\", \n",
    "        eval_steps=25,               \n",
    "        do_eval=True,                \n",
    "        report_to=\"wandb\",           \n",
    "        run_name=f\"{run_name}-{datetime.now().strftime('%Y-%m-%d-%H-%M')}\"\n",
    "    ),\n",
    "    data_collator=transformers.DataCollatorForLanguageModeling(tokenizer, mlm=False),\n",
    ")\n",
    "\n",
    "model.config.use_cache = False\n",
    "trainer.train()"
   ],
   "id": "d7d282b52868828e",
   "outputs": [
    {
     "name": "stderr",
     "output_type": "stream",
     "text": [
      "C:\\Users\\zjada\\dev\\projects\\llm-bielik-ft-legal\\venv\\lib\\site-packages\\transformers\\training_args.py:1494: FutureWarning: `evaluation_strategy` is deprecated and will be removed in version 4.46 of 🤗 Transformers. Use `eval_strategy` instead\n",
      "  warnings.warn(\n",
      "max_steps is given, it will override any value given in num_train_epochs\n",
      "wandb: Currently logged in as: zvit3k (zvit3k-kodio). Use `wandb login --relogin` to force relogin\n"
     ]
    },
    {
     "data": {
      "text/plain": [
       "<IPython.core.display.HTML object>"
      ],
      "text/html": [
       "wandb version 0.18.6 is available!  To upgrade, please run:\n",
       " $ pip install wandb --upgrade"
      ]
     },
     "metadata": {},
     "output_type": "display_data"
    },
    {
     "data": {
      "text/plain": [
       "<IPython.core.display.HTML object>"
      ],
      "text/html": [
       "Tracking run with wandb version 0.17.7"
      ]
     },
     "metadata": {},
     "output_type": "display_data"
    },
    {
     "data": {
      "text/plain": [
       "<IPython.core.display.HTML object>"
      ],
      "text/html": [
       "Run data is saved locally in <code>C:\\Users\\zjada\\dev\\projects\\llm-bielik-ft-legal\\src\\wandb\\run-20241111_230113-cbmoc3qx</code>"
      ]
     },
     "metadata": {},
     "output_type": "display_data"
    },
    {
     "data": {
      "text/plain": [
       "<IPython.core.display.HTML object>"
      ],
      "text/html": [
       "Syncing run <strong><a href='https://wandb.ai/zvit3k-kodio/huggingface/runs/cbmoc3qx' target=\"_blank\">bielik_v1-legal-finetune-r-64-alpha-128-2024-11-11-23-01</a></strong> to <a href='https://wandb.ai/zvit3k-kodio/huggingface' target=\"_blank\">Weights & Biases</a> (<a href='https://wandb.me/run' target=\"_blank\">docs</a>)<br/>"
      ]
     },
     "metadata": {},
     "output_type": "display_data"
    },
    {
     "data": {
      "text/plain": [
       "<IPython.core.display.HTML object>"
      ],
      "text/html": [
       " View project at <a href='https://wandb.ai/zvit3k-kodio/huggingface' target=\"_blank\">https://wandb.ai/zvit3k-kodio/huggingface</a>"
      ]
     },
     "metadata": {},
     "output_type": "display_data"
    },
    {
     "data": {
      "text/plain": [
       "<IPython.core.display.HTML object>"
      ],
      "text/html": [
       " View run at <a href='https://wandb.ai/zvit3k-kodio/huggingface/runs/cbmoc3qx' target=\"_blank\">https://wandb.ai/zvit3k-kodio/huggingface/runs/cbmoc3qx</a>"
      ]
     },
     "metadata": {},
     "output_type": "display_data"
    },
    {
     "name": "stderr",
     "output_type": "stream",
     "text": [
      "C:\\Users\\zjada\\dev\\projects\\llm-bielik-ft-legal\\venv\\lib\\site-packages\\torch\\_dynamo\\eval_frame.py:600: UserWarning: torch.utils.checkpoint: the use_reentrant parameter should be passed explicitly. In version 2.4 we will raise an exception if use_reentrant is not passed. use_reentrant=False is recommended, but if you need to preserve the current default behavior, you can pass use_reentrant=True. Refer to docs for more details on the differences between the two variants.\n",
      "  return fn(*args, **kwargs)\n",
      "C:\\Users\\zjada\\dev\\projects\\llm-bielik-ft-legal\\venv\\lib\\site-packages\\torch\\utils\\checkpoint.py:295: FutureWarning: `torch.cpu.amp.autocast(args...)` is deprecated. Please use `torch.amp.autocast('cpu', args...)` instead.\n",
      "  with torch.enable_grad(), device_autocast_ctx, torch.cpu.amp.autocast(**ctx.cpu_autocast_kwargs):  # type: ignore[attr-defined]\n"
     ]
    },
    {
     "data": {
      "text/plain": [
       "<IPython.core.display.HTML object>"
      ],
      "text/html": [
       "\n",
       "    <div>\n",
       "      \n",
       "      <progress value='500' max='500' style='width:300px; height:20px; vertical-align: middle;'></progress>\n",
       "      [500/500 20:45, Epoch 1/2]\n",
       "    </div>\n",
       "    <table border=\"1\" class=\"dataframe\">\n",
       "  <thead>\n",
       " <tr style=\"text-align: left;\">\n",
       "      <th>Step</th>\n",
       "      <th>Training Loss</th>\n",
       "      <th>Validation Loss</th>\n",
       "    </tr>\n",
       "  </thead>\n",
       "  <tbody>\n",
       "    <tr>\n",
       "      <td>25</td>\n",
       "      <td>1.075900</td>\n",
       "      <td>1.020677</td>\n",
       "    </tr>\n",
       "    <tr>\n",
       "      <td>50</td>\n",
       "      <td>1.033500</td>\n",
       "      <td>1.016016</td>\n",
       "    </tr>\n",
       "    <tr>\n",
       "      <td>75</td>\n",
       "      <td>1.069400</td>\n",
       "      <td>1.010600</td>\n",
       "    </tr>\n",
       "    <tr>\n",
       "      <td>100</td>\n",
       "      <td>1.044600</td>\n",
       "      <td>1.004614</td>\n",
       "    </tr>\n",
       "    <tr>\n",
       "      <td>125</td>\n",
       "      <td>1.039500</td>\n",
       "      <td>0.998606</td>\n",
       "    </tr>\n",
       "    <tr>\n",
       "      <td>150</td>\n",
       "      <td>1.036500</td>\n",
       "      <td>0.993411</td>\n",
       "    </tr>\n",
       "    <tr>\n",
       "      <td>175</td>\n",
       "      <td>0.993500</td>\n",
       "      <td>0.986732</td>\n",
       "    </tr>\n",
       "    <tr>\n",
       "      <td>200</td>\n",
       "      <td>1.042000</td>\n",
       "      <td>0.983343</td>\n",
       "    </tr>\n",
       "    <tr>\n",
       "      <td>225</td>\n",
       "      <td>0.991500</td>\n",
       "      <td>0.979121</td>\n",
       "    </tr>\n",
       "    <tr>\n",
       "      <td>250</td>\n",
       "      <td>1.024800</td>\n",
       "      <td>0.974872</td>\n",
       "    </tr>\n",
       "    <tr>\n",
       "      <td>275</td>\n",
       "      <td>0.988600</td>\n",
       "      <td>0.972232</td>\n",
       "    </tr>\n",
       "    <tr>\n",
       "      <td>300</td>\n",
       "      <td>1.016800</td>\n",
       "      <td>0.969169</td>\n",
       "    </tr>\n",
       "    <tr>\n",
       "      <td>325</td>\n",
       "      <td>0.997500</td>\n",
       "      <td>0.966427</td>\n",
       "    </tr>\n",
       "    <tr>\n",
       "      <td>350</td>\n",
       "      <td>0.984300</td>\n",
       "      <td>0.965033</td>\n",
       "    </tr>\n",
       "    <tr>\n",
       "      <td>375</td>\n",
       "      <td>0.988600</td>\n",
       "      <td>0.962860</td>\n",
       "    </tr>\n",
       "    <tr>\n",
       "      <td>400</td>\n",
       "      <td>0.971700</td>\n",
       "      <td>0.962117</td>\n",
       "    </tr>\n",
       "    <tr>\n",
       "      <td>425</td>\n",
       "      <td>1.002700</td>\n",
       "      <td>0.960998</td>\n",
       "    </tr>\n",
       "    <tr>\n",
       "      <td>450</td>\n",
       "      <td>1.028400</td>\n",
       "      <td>0.960426</td>\n",
       "    </tr>\n",
       "    <tr>\n",
       "      <td>475</td>\n",
       "      <td>1.010000</td>\n",
       "      <td>0.960200</td>\n",
       "    </tr>\n",
       "    <tr>\n",
       "      <td>500</td>\n",
       "      <td>0.968400</td>\n",
       "      <td>0.960000</td>\n",
       "    </tr>\n",
       "  </tbody>\n",
       "</table><p>"
      ]
     },
     "metadata": {},
     "output_type": "display_data"
    },
    {
     "name": "stderr",
     "output_type": "stream",
     "text": [
      "C:\\Users\\zjada\\dev\\projects\\llm-bielik-ft-legal\\venv\\lib\\site-packages\\peft\\utils\\save_and_load.py:202: UserWarning: Setting `save_embedding_layers` to `True` as embedding layers found in `target_modules`.\n",
      "  warnings.warn(\"Setting `save_embedding_layers` to `True` as embedding layers found in `target_modules`.\")\n",
      "C:\\Users\\zjada\\dev\\projects\\llm-bielik-ft-legal\\venv\\lib\\site-packages\\torch\\_dynamo\\eval_frame.py:600: UserWarning: torch.utils.checkpoint: the use_reentrant parameter should be passed explicitly. In version 2.4 we will raise an exception if use_reentrant is not passed. use_reentrant=False is recommended, but if you need to preserve the current default behavior, you can pass use_reentrant=True. Refer to docs for more details on the differences between the two variants.\n",
      "  return fn(*args, **kwargs)\n",
      "C:\\Users\\zjada\\dev\\projects\\llm-bielik-ft-legal\\venv\\lib\\site-packages\\torch\\utils\\checkpoint.py:295: FutureWarning: `torch.cpu.amp.autocast(args...)` is deprecated. Please use `torch.amp.autocast('cpu', args...)` instead.\n",
      "  with torch.enable_grad(), device_autocast_ctx, torch.cpu.amp.autocast(**ctx.cpu_autocast_kwargs):  # type: ignore[attr-defined]\n",
      "C:\\Users\\zjada\\dev\\projects\\llm-bielik-ft-legal\\venv\\lib\\site-packages\\peft\\utils\\save_and_load.py:202: UserWarning: Setting `save_embedding_layers` to `True` as embedding layers found in `target_modules`.\n",
      "  warnings.warn(\"Setting `save_embedding_layers` to `True` as embedding layers found in `target_modules`.\")\n",
      "C:\\Users\\zjada\\dev\\projects\\llm-bielik-ft-legal\\venv\\lib\\site-packages\\torch\\_dynamo\\eval_frame.py:600: UserWarning: torch.utils.checkpoint: the use_reentrant parameter should be passed explicitly. In version 2.4 we will raise an exception if use_reentrant is not passed. use_reentrant=False is recommended, but if you need to preserve the current default behavior, you can pass use_reentrant=True. Refer to docs for more details on the differences between the two variants.\n",
      "  return fn(*args, **kwargs)\n",
      "C:\\Users\\zjada\\dev\\projects\\llm-bielik-ft-legal\\venv\\lib\\site-packages\\torch\\utils\\checkpoint.py:295: FutureWarning: `torch.cpu.amp.autocast(args...)` is deprecated. Please use `torch.amp.autocast('cpu', args...)` instead.\n",
      "  with torch.enable_grad(), device_autocast_ctx, torch.cpu.amp.autocast(**ctx.cpu_autocast_kwargs):  # type: ignore[attr-defined]\n",
      "C:\\Users\\zjada\\dev\\projects\\llm-bielik-ft-legal\\venv\\lib\\site-packages\\peft\\utils\\save_and_load.py:202: UserWarning: Setting `save_embedding_layers` to `True` as embedding layers found in `target_modules`.\n",
      "  warnings.warn(\"Setting `save_embedding_layers` to `True` as embedding layers found in `target_modules`.\")\n",
      "C:\\Users\\zjada\\dev\\projects\\llm-bielik-ft-legal\\venv\\lib\\site-packages\\torch\\_dynamo\\eval_frame.py:600: UserWarning: torch.utils.checkpoint: the use_reentrant parameter should be passed explicitly. In version 2.4 we will raise an exception if use_reentrant is not passed. use_reentrant=False is recommended, but if you need to preserve the current default behavior, you can pass use_reentrant=True. Refer to docs for more details on the differences between the two variants.\n",
      "  return fn(*args, **kwargs)\n",
      "C:\\Users\\zjada\\dev\\projects\\llm-bielik-ft-legal\\venv\\lib\\site-packages\\torch\\utils\\checkpoint.py:295: FutureWarning: `torch.cpu.amp.autocast(args...)` is deprecated. Please use `torch.amp.autocast('cpu', args...)` instead.\n",
      "  with torch.enable_grad(), device_autocast_ctx, torch.cpu.amp.autocast(**ctx.cpu_autocast_kwargs):  # type: ignore[attr-defined]\n",
      "C:\\Users\\zjada\\dev\\projects\\llm-bielik-ft-legal\\venv\\lib\\site-packages\\peft\\utils\\save_and_load.py:202: UserWarning: Setting `save_embedding_layers` to `True` as embedding layers found in `target_modules`.\n",
      "  warnings.warn(\"Setting `save_embedding_layers` to `True` as embedding layers found in `target_modules`.\")\n",
      "C:\\Users\\zjada\\dev\\projects\\llm-bielik-ft-legal\\venv\\lib\\site-packages\\torch\\_dynamo\\eval_frame.py:600: UserWarning: torch.utils.checkpoint: the use_reentrant parameter should be passed explicitly. In version 2.4 we will raise an exception if use_reentrant is not passed. use_reentrant=False is recommended, but if you need to preserve the current default behavior, you can pass use_reentrant=True. Refer to docs for more details on the differences between the two variants.\n",
      "  return fn(*args, **kwargs)\n",
      "C:\\Users\\zjada\\dev\\projects\\llm-bielik-ft-legal\\venv\\lib\\site-packages\\torch\\utils\\checkpoint.py:295: FutureWarning: `torch.cpu.amp.autocast(args...)` is deprecated. Please use `torch.amp.autocast('cpu', args...)` instead.\n",
      "  with torch.enable_grad(), device_autocast_ctx, torch.cpu.amp.autocast(**ctx.cpu_autocast_kwargs):  # type: ignore[attr-defined]\n",
      "C:\\Users\\zjada\\dev\\projects\\llm-bielik-ft-legal\\venv\\lib\\site-packages\\peft\\utils\\save_and_load.py:202: UserWarning: Setting `save_embedding_layers` to `True` as embedding layers found in `target_modules`.\n",
      "  warnings.warn(\"Setting `save_embedding_layers` to `True` as embedding layers found in `target_modules`.\")\n",
      "C:\\Users\\zjada\\dev\\projects\\llm-bielik-ft-legal\\venv\\lib\\site-packages\\torch\\_dynamo\\eval_frame.py:600: UserWarning: torch.utils.checkpoint: the use_reentrant parameter should be passed explicitly. In version 2.4 we will raise an exception if use_reentrant is not passed. use_reentrant=False is recommended, but if you need to preserve the current default behavior, you can pass use_reentrant=True. Refer to docs for more details on the differences between the two variants.\n",
      "  return fn(*args, **kwargs)\n",
      "C:\\Users\\zjada\\dev\\projects\\llm-bielik-ft-legal\\venv\\lib\\site-packages\\torch\\utils\\checkpoint.py:295: FutureWarning: `torch.cpu.amp.autocast(args...)` is deprecated. Please use `torch.amp.autocast('cpu', args...)` instead.\n",
      "  with torch.enable_grad(), device_autocast_ctx, torch.cpu.amp.autocast(**ctx.cpu_autocast_kwargs):  # type: ignore[attr-defined]\n",
      "C:\\Users\\zjada\\dev\\projects\\llm-bielik-ft-legal\\venv\\lib\\site-packages\\peft\\utils\\save_and_load.py:202: UserWarning: Setting `save_embedding_layers` to `True` as embedding layers found in `target_modules`.\n",
      "  warnings.warn(\"Setting `save_embedding_layers` to `True` as embedding layers found in `target_modules`.\")\n",
      "C:\\Users\\zjada\\dev\\projects\\llm-bielik-ft-legal\\venv\\lib\\site-packages\\torch\\_dynamo\\eval_frame.py:600: UserWarning: torch.utils.checkpoint: the use_reentrant parameter should be passed explicitly. In version 2.4 we will raise an exception if use_reentrant is not passed. use_reentrant=False is recommended, but if you need to preserve the current default behavior, you can pass use_reentrant=True. Refer to docs for more details on the differences between the two variants.\n",
      "  return fn(*args, **kwargs)\n",
      "C:\\Users\\zjada\\dev\\projects\\llm-bielik-ft-legal\\venv\\lib\\site-packages\\torch\\utils\\checkpoint.py:295: FutureWarning: `torch.cpu.amp.autocast(args...)` is deprecated. Please use `torch.amp.autocast('cpu', args...)` instead.\n",
      "  with torch.enable_grad(), device_autocast_ctx, torch.cpu.amp.autocast(**ctx.cpu_autocast_kwargs):  # type: ignore[attr-defined]\n",
      "C:\\Users\\zjada\\dev\\projects\\llm-bielik-ft-legal\\venv\\lib\\site-packages\\peft\\utils\\save_and_load.py:202: UserWarning: Setting `save_embedding_layers` to `True` as embedding layers found in `target_modules`.\n",
      "  warnings.warn(\"Setting `save_embedding_layers` to `True` as embedding layers found in `target_modules`.\")\n",
      "C:\\Users\\zjada\\dev\\projects\\llm-bielik-ft-legal\\venv\\lib\\site-packages\\torch\\_dynamo\\eval_frame.py:600: UserWarning: torch.utils.checkpoint: the use_reentrant parameter should be passed explicitly. In version 2.4 we will raise an exception if use_reentrant is not passed. use_reentrant=False is recommended, but if you need to preserve the current default behavior, you can pass use_reentrant=True. Refer to docs for more details on the differences between the two variants.\n",
      "  return fn(*args, **kwargs)\n",
      "C:\\Users\\zjada\\dev\\projects\\llm-bielik-ft-legal\\venv\\lib\\site-packages\\torch\\utils\\checkpoint.py:295: FutureWarning: `torch.cpu.amp.autocast(args...)` is deprecated. Please use `torch.amp.autocast('cpu', args...)` instead.\n",
      "  with torch.enable_grad(), device_autocast_ctx, torch.cpu.amp.autocast(**ctx.cpu_autocast_kwargs):  # type: ignore[attr-defined]\n",
      "C:\\Users\\zjada\\dev\\projects\\llm-bielik-ft-legal\\venv\\lib\\site-packages\\peft\\utils\\save_and_load.py:202: UserWarning: Setting `save_embedding_layers` to `True` as embedding layers found in `target_modules`.\n",
      "  warnings.warn(\"Setting `save_embedding_layers` to `True` as embedding layers found in `target_modules`.\")\n",
      "C:\\Users\\zjada\\dev\\projects\\llm-bielik-ft-legal\\venv\\lib\\site-packages\\torch\\_dynamo\\eval_frame.py:600: UserWarning: torch.utils.checkpoint: the use_reentrant parameter should be passed explicitly. In version 2.4 we will raise an exception if use_reentrant is not passed. use_reentrant=False is recommended, but if you need to preserve the current default behavior, you can pass use_reentrant=True. Refer to docs for more details on the differences between the two variants.\n",
      "  return fn(*args, **kwargs)\n",
      "C:\\Users\\zjada\\dev\\projects\\llm-bielik-ft-legal\\venv\\lib\\site-packages\\torch\\utils\\checkpoint.py:295: FutureWarning: `torch.cpu.amp.autocast(args...)` is deprecated. Please use `torch.amp.autocast('cpu', args...)` instead.\n",
      "  with torch.enable_grad(), device_autocast_ctx, torch.cpu.amp.autocast(**ctx.cpu_autocast_kwargs):  # type: ignore[attr-defined]\n",
      "C:\\Users\\zjada\\dev\\projects\\llm-bielik-ft-legal\\venv\\lib\\site-packages\\peft\\utils\\save_and_load.py:202: UserWarning: Setting `save_embedding_layers` to `True` as embedding layers found in `target_modules`.\n",
      "  warnings.warn(\"Setting `save_embedding_layers` to `True` as embedding layers found in `target_modules`.\")\n",
      "C:\\Users\\zjada\\dev\\projects\\llm-bielik-ft-legal\\venv\\lib\\site-packages\\torch\\_dynamo\\eval_frame.py:600: UserWarning: torch.utils.checkpoint: the use_reentrant parameter should be passed explicitly. In version 2.4 we will raise an exception if use_reentrant is not passed. use_reentrant=False is recommended, but if you need to preserve the current default behavior, you can pass use_reentrant=True. Refer to docs for more details on the differences between the two variants.\n",
      "  return fn(*args, **kwargs)\n",
      "C:\\Users\\zjada\\dev\\projects\\llm-bielik-ft-legal\\venv\\lib\\site-packages\\torch\\utils\\checkpoint.py:295: FutureWarning: `torch.cpu.amp.autocast(args...)` is deprecated. Please use `torch.amp.autocast('cpu', args...)` instead.\n",
      "  with torch.enable_grad(), device_autocast_ctx, torch.cpu.amp.autocast(**ctx.cpu_autocast_kwargs):  # type: ignore[attr-defined]\n",
      "C:\\Users\\zjada\\dev\\projects\\llm-bielik-ft-legal\\venv\\lib\\site-packages\\peft\\utils\\save_and_load.py:202: UserWarning: Setting `save_embedding_layers` to `True` as embedding layers found in `target_modules`.\n",
      "  warnings.warn(\"Setting `save_embedding_layers` to `True` as embedding layers found in `target_modules`.\")\n",
      "C:\\Users\\zjada\\dev\\projects\\llm-bielik-ft-legal\\venv\\lib\\site-packages\\torch\\_dynamo\\eval_frame.py:600: UserWarning: torch.utils.checkpoint: the use_reentrant parameter should be passed explicitly. In version 2.4 we will raise an exception if use_reentrant is not passed. use_reentrant=False is recommended, but if you need to preserve the current default behavior, you can pass use_reentrant=True. Refer to docs for more details on the differences between the two variants.\n",
      "  return fn(*args, **kwargs)\n",
      "C:\\Users\\zjada\\dev\\projects\\llm-bielik-ft-legal\\venv\\lib\\site-packages\\torch\\utils\\checkpoint.py:295: FutureWarning: `torch.cpu.amp.autocast(args...)` is deprecated. Please use `torch.amp.autocast('cpu', args...)` instead.\n",
      "  with torch.enable_grad(), device_autocast_ctx, torch.cpu.amp.autocast(**ctx.cpu_autocast_kwargs):  # type: ignore[attr-defined]\n",
      "C:\\Users\\zjada\\dev\\projects\\llm-bielik-ft-legal\\venv\\lib\\site-packages\\peft\\utils\\save_and_load.py:202: UserWarning: Setting `save_embedding_layers` to `True` as embedding layers found in `target_modules`.\n",
      "  warnings.warn(\"Setting `save_embedding_layers` to `True` as embedding layers found in `target_modules`.\")\n",
      "C:\\Users\\zjada\\dev\\projects\\llm-bielik-ft-legal\\venv\\lib\\site-packages\\torch\\_dynamo\\eval_frame.py:600: UserWarning: torch.utils.checkpoint: the use_reentrant parameter should be passed explicitly. In version 2.4 we will raise an exception if use_reentrant is not passed. use_reentrant=False is recommended, but if you need to preserve the current default behavior, you can pass use_reentrant=True. Refer to docs for more details on the differences between the two variants.\n",
      "  return fn(*args, **kwargs)\n",
      "C:\\Users\\zjada\\dev\\projects\\llm-bielik-ft-legal\\venv\\lib\\site-packages\\torch\\utils\\checkpoint.py:295: FutureWarning: `torch.cpu.amp.autocast(args...)` is deprecated. Please use `torch.amp.autocast('cpu', args...)` instead.\n",
      "  with torch.enable_grad(), device_autocast_ctx, torch.cpu.amp.autocast(**ctx.cpu_autocast_kwargs):  # type: ignore[attr-defined]\n",
      "C:\\Users\\zjada\\dev\\projects\\llm-bielik-ft-legal\\venv\\lib\\site-packages\\peft\\utils\\save_and_load.py:202: UserWarning: Setting `save_embedding_layers` to `True` as embedding layers found in `target_modules`.\n",
      "  warnings.warn(\"Setting `save_embedding_layers` to `True` as embedding layers found in `target_modules`.\")\n",
      "C:\\Users\\zjada\\dev\\projects\\llm-bielik-ft-legal\\venv\\lib\\site-packages\\torch\\_dynamo\\eval_frame.py:600: UserWarning: torch.utils.checkpoint: the use_reentrant parameter should be passed explicitly. In version 2.4 we will raise an exception if use_reentrant is not passed. use_reentrant=False is recommended, but if you need to preserve the current default behavior, you can pass use_reentrant=True. Refer to docs for more details on the differences between the two variants.\n",
      "  return fn(*args, **kwargs)\n",
      "C:\\Users\\zjada\\dev\\projects\\llm-bielik-ft-legal\\venv\\lib\\site-packages\\torch\\utils\\checkpoint.py:295: FutureWarning: `torch.cpu.amp.autocast(args...)` is deprecated. Please use `torch.amp.autocast('cpu', args...)` instead.\n",
      "  with torch.enable_grad(), device_autocast_ctx, torch.cpu.amp.autocast(**ctx.cpu_autocast_kwargs):  # type: ignore[attr-defined]\n",
      "C:\\Users\\zjada\\dev\\projects\\llm-bielik-ft-legal\\venv\\lib\\site-packages\\peft\\utils\\save_and_load.py:202: UserWarning: Setting `save_embedding_layers` to `True` as embedding layers found in `target_modules`.\n",
      "  warnings.warn(\"Setting `save_embedding_layers` to `True` as embedding layers found in `target_modules`.\")\n",
      "C:\\Users\\zjada\\dev\\projects\\llm-bielik-ft-legal\\venv\\lib\\site-packages\\torch\\_dynamo\\eval_frame.py:600: UserWarning: torch.utils.checkpoint: the use_reentrant parameter should be passed explicitly. In version 2.4 we will raise an exception if use_reentrant is not passed. use_reentrant=False is recommended, but if you need to preserve the current default behavior, you can pass use_reentrant=True. Refer to docs for more details on the differences between the two variants.\n",
      "  return fn(*args, **kwargs)\n",
      "C:\\Users\\zjada\\dev\\projects\\llm-bielik-ft-legal\\venv\\lib\\site-packages\\torch\\utils\\checkpoint.py:295: FutureWarning: `torch.cpu.amp.autocast(args...)` is deprecated. Please use `torch.amp.autocast('cpu', args...)` instead.\n",
      "  with torch.enable_grad(), device_autocast_ctx, torch.cpu.amp.autocast(**ctx.cpu_autocast_kwargs):  # type: ignore[attr-defined]\n",
      "C:\\Users\\zjada\\dev\\projects\\llm-bielik-ft-legal\\venv\\lib\\site-packages\\peft\\utils\\save_and_load.py:202: UserWarning: Setting `save_embedding_layers` to `True` as embedding layers found in `target_modules`.\n",
      "  warnings.warn(\"Setting `save_embedding_layers` to `True` as embedding layers found in `target_modules`.\")\n",
      "C:\\Users\\zjada\\dev\\projects\\llm-bielik-ft-legal\\venv\\lib\\site-packages\\torch\\_dynamo\\eval_frame.py:600: UserWarning: torch.utils.checkpoint: the use_reentrant parameter should be passed explicitly. In version 2.4 we will raise an exception if use_reentrant is not passed. use_reentrant=False is recommended, but if you need to preserve the current default behavior, you can pass use_reentrant=True. Refer to docs for more details on the differences between the two variants.\n",
      "  return fn(*args, **kwargs)\n",
      "C:\\Users\\zjada\\dev\\projects\\llm-bielik-ft-legal\\venv\\lib\\site-packages\\torch\\utils\\checkpoint.py:295: FutureWarning: `torch.cpu.amp.autocast(args...)` is deprecated. Please use `torch.amp.autocast('cpu', args...)` instead.\n",
      "  with torch.enable_grad(), device_autocast_ctx, torch.cpu.amp.autocast(**ctx.cpu_autocast_kwargs):  # type: ignore[attr-defined]\n",
      "C:\\Users\\zjada\\dev\\projects\\llm-bielik-ft-legal\\venv\\lib\\site-packages\\peft\\utils\\save_and_load.py:202: UserWarning: Setting `save_embedding_layers` to `True` as embedding layers found in `target_modules`.\n",
      "  warnings.warn(\"Setting `save_embedding_layers` to `True` as embedding layers found in `target_modules`.\")\n",
      "C:\\Users\\zjada\\dev\\projects\\llm-bielik-ft-legal\\venv\\lib\\site-packages\\torch\\_dynamo\\eval_frame.py:600: UserWarning: torch.utils.checkpoint: the use_reentrant parameter should be passed explicitly. In version 2.4 we will raise an exception if use_reentrant is not passed. use_reentrant=False is recommended, but if you need to preserve the current default behavior, you can pass use_reentrant=True. Refer to docs for more details on the differences between the two variants.\n",
      "  return fn(*args, **kwargs)\n",
      "C:\\Users\\zjada\\dev\\projects\\llm-bielik-ft-legal\\venv\\lib\\site-packages\\torch\\utils\\checkpoint.py:295: FutureWarning: `torch.cpu.amp.autocast(args...)` is deprecated. Please use `torch.amp.autocast('cpu', args...)` instead.\n",
      "  with torch.enable_grad(), device_autocast_ctx, torch.cpu.amp.autocast(**ctx.cpu_autocast_kwargs):  # type: ignore[attr-defined]\n",
      "C:\\Users\\zjada\\dev\\projects\\llm-bielik-ft-legal\\venv\\lib\\site-packages\\peft\\utils\\save_and_load.py:202: UserWarning: Setting `save_embedding_layers` to `True` as embedding layers found in `target_modules`.\n",
      "  warnings.warn(\"Setting `save_embedding_layers` to `True` as embedding layers found in `target_modules`.\")\n",
      "C:\\Users\\zjada\\dev\\projects\\llm-bielik-ft-legal\\venv\\lib\\site-packages\\torch\\_dynamo\\eval_frame.py:600: UserWarning: torch.utils.checkpoint: the use_reentrant parameter should be passed explicitly. In version 2.4 we will raise an exception if use_reentrant is not passed. use_reentrant=False is recommended, but if you need to preserve the current default behavior, you can pass use_reentrant=True. Refer to docs for more details on the differences between the two variants.\n",
      "  return fn(*args, **kwargs)\n",
      "C:\\Users\\zjada\\dev\\projects\\llm-bielik-ft-legal\\venv\\lib\\site-packages\\torch\\utils\\checkpoint.py:295: FutureWarning: `torch.cpu.amp.autocast(args...)` is deprecated. Please use `torch.amp.autocast('cpu', args...)` instead.\n",
      "  with torch.enable_grad(), device_autocast_ctx, torch.cpu.amp.autocast(**ctx.cpu_autocast_kwargs):  # type: ignore[attr-defined]\n",
      "C:\\Users\\zjada\\dev\\projects\\llm-bielik-ft-legal\\venv\\lib\\site-packages\\peft\\utils\\save_and_load.py:202: UserWarning: Setting `save_embedding_layers` to `True` as embedding layers found in `target_modules`.\n",
      "  warnings.warn(\"Setting `save_embedding_layers` to `True` as embedding layers found in `target_modules`.\")\n",
      "C:\\Users\\zjada\\dev\\projects\\llm-bielik-ft-legal\\venv\\lib\\site-packages\\torch\\_dynamo\\eval_frame.py:600: UserWarning: torch.utils.checkpoint: the use_reentrant parameter should be passed explicitly. In version 2.4 we will raise an exception if use_reentrant is not passed. use_reentrant=False is recommended, but if you need to preserve the current default behavior, you can pass use_reentrant=True. Refer to docs for more details on the differences between the two variants.\n",
      "  return fn(*args, **kwargs)\n",
      "C:\\Users\\zjada\\dev\\projects\\llm-bielik-ft-legal\\venv\\lib\\site-packages\\torch\\utils\\checkpoint.py:295: FutureWarning: `torch.cpu.amp.autocast(args...)` is deprecated. Please use `torch.amp.autocast('cpu', args...)` instead.\n",
      "  with torch.enable_grad(), device_autocast_ctx, torch.cpu.amp.autocast(**ctx.cpu_autocast_kwargs):  # type: ignore[attr-defined]\n",
      "C:\\Users\\zjada\\dev\\projects\\llm-bielik-ft-legal\\venv\\lib\\site-packages\\peft\\utils\\save_and_load.py:202: UserWarning: Setting `save_embedding_layers` to `True` as embedding layers found in `target_modules`.\n",
      "  warnings.warn(\"Setting `save_embedding_layers` to `True` as embedding layers found in `target_modules`.\")\n",
      "C:\\Users\\zjada\\dev\\projects\\llm-bielik-ft-legal\\venv\\lib\\site-packages\\torch\\_dynamo\\eval_frame.py:600: UserWarning: torch.utils.checkpoint: the use_reentrant parameter should be passed explicitly. In version 2.4 we will raise an exception if use_reentrant is not passed. use_reentrant=False is recommended, but if you need to preserve the current default behavior, you can pass use_reentrant=True. Refer to docs for more details on the differences between the two variants.\n",
      "  return fn(*args, **kwargs)\n",
      "C:\\Users\\zjada\\dev\\projects\\llm-bielik-ft-legal\\venv\\lib\\site-packages\\torch\\utils\\checkpoint.py:295: FutureWarning: `torch.cpu.amp.autocast(args...)` is deprecated. Please use `torch.amp.autocast('cpu', args...)` instead.\n",
      "  with torch.enable_grad(), device_autocast_ctx, torch.cpu.amp.autocast(**ctx.cpu_autocast_kwargs):  # type: ignore[attr-defined]\n",
      "C:\\Users\\zjada\\dev\\projects\\llm-bielik-ft-legal\\venv\\lib\\site-packages\\peft\\utils\\save_and_load.py:202: UserWarning: Setting `save_embedding_layers` to `True` as embedding layers found in `target_modules`.\n",
      "  warnings.warn(\"Setting `save_embedding_layers` to `True` as embedding layers found in `target_modules`.\")\n",
      "C:\\Users\\zjada\\dev\\projects\\llm-bielik-ft-legal\\venv\\lib\\site-packages\\torch\\_dynamo\\eval_frame.py:600: UserWarning: torch.utils.checkpoint: the use_reentrant parameter should be passed explicitly. In version 2.4 we will raise an exception if use_reentrant is not passed. use_reentrant=False is recommended, but if you need to preserve the current default behavior, you can pass use_reentrant=True. Refer to docs for more details on the differences between the two variants.\n",
      "  return fn(*args, **kwargs)\n",
      "C:\\Users\\zjada\\dev\\projects\\llm-bielik-ft-legal\\venv\\lib\\site-packages\\torch\\utils\\checkpoint.py:295: FutureWarning: `torch.cpu.amp.autocast(args...)` is deprecated. Please use `torch.amp.autocast('cpu', args...)` instead.\n",
      "  with torch.enable_grad(), device_autocast_ctx, torch.cpu.amp.autocast(**ctx.cpu_autocast_kwargs):  # type: ignore[attr-defined]\n",
      "C:\\Users\\zjada\\dev\\projects\\llm-bielik-ft-legal\\venv\\lib\\site-packages\\peft\\utils\\save_and_load.py:202: UserWarning: Setting `save_embedding_layers` to `True` as embedding layers found in `target_modules`.\n",
      "  warnings.warn(\"Setting `save_embedding_layers` to `True` as embedding layers found in `target_modules`.\")\n"
     ]
    },
    {
     "data": {
      "text/plain": [
       "TrainOutput(global_step=500, training_loss=1.01540193939209, metrics={'train_runtime': 1249.4976, 'train_samples_per_second': 0.8, 'train_steps_per_second': 0.4, 'total_flos': 2.23440742121472e+16, 'train_loss': 1.01540193939209, 'epoch': 1.25})"
      ]
     },
     "execution_count": 23,
     "metadata": {},
     "output_type": "execute_result"
    }
   ],
   "execution_count": 23
  },
  {
   "metadata": {
    "ExecuteTime": {
     "end_time": "2024-12-05T15:18:02.582057Z",
     "start_time": "2024-12-05T15:17:42.768733Z"
    }
   },
   "cell_type": "code",
   "source": [
    "base_model_id = \"speakleash/Bielik-7B-v0.1\"\n",
    "bnb_config = BitsAndBytesConfig(\n",
    "    load_in_4bit=True,\n",
    "    bnb_4bit_use_double_quant=True,\n",
    "    bnb_4bit_quant_type=\"nf4\",\n",
    "    bnb_4bit_compute_dtype=torch.bfloat16\n",
    ")\n",
    "\n",
    "base_model = AutoModelForCausalLM.from_pretrained(\n",
    "    base_model_id,  \n",
    "    quantization_config=bnb_config,\n",
    "    device_map=\"auto\",\n",
    "    trust_remote_code=True\n",
    ")"
   ],
   "id": "a31a1e5895675228",
   "outputs": [
    {
     "data": {
      "text/plain": [
       "Loading checkpoint shards:   0%|          | 0/3 [00:00<?, ?it/s]"
      ],
      "application/vnd.jupyter.widget-view+json": {
       "version_major": 2,
       "version_minor": 0,
       "model_id": "01da47c3cfa74a0bb7e38ab770dc6207"
      }
     },
     "metadata": {},
     "output_type": "display_data"
    }
   ],
   "execution_count": 5
  },
  {
   "metadata": {
    "ExecuteTime": {
     "end_time": "2024-12-05T15:18:02.998110Z",
     "start_time": "2024-12-05T15:18:02.586057Z"
    }
   },
   "cell_type": "code",
   "source": [
    "eval_tokenizer = AutoTokenizer.from_pretrained(base_model_id, add_bos_token=True, trust_remote_code=True)"
   ],
   "id": "9b2eced514647911",
   "outputs": [],
   "execution_count": 6
  },
  {
   "metadata": {
    "ExecuteTime": {
     "end_time": "2024-12-05T16:30:09.449253Z",
     "start_time": "2024-12-05T16:30:07.321270Z"
    }
   },
   "cell_type": "code",
   "source": "ft_model = PeftModel.from_pretrained(base_model, \"bielik_v1-legal-finetune-r-64-alpha-128/checkpoint-500\")",
   "id": "f8ac2a4ab2c10cd8",
   "outputs": [],
   "execution_count": 37
  },
  {
   "cell_type": "markdown",
   "source": [
    "## Fine-tuning evaluation\n",
    "As a final step, we will try to evaluate model answers by measuring the distance between base and fine-tuned model answers with the prepared groundtruth. For this task, we will use metrics created in first part of article when we measured distance for generated text using Word Mover Distance. In this case, we will enrich this comparison by introducing also well known metric - cosine similarity. "
   ],
   "metadata": {
    "collapsed": false
   },
   "id": "c8176a564a5f99cc"
  },
  {
   "metadata": {
    "ExecuteTime": {
     "end_time": "2024-12-05T15:20:01.478436Z",
     "start_time": "2024-12-05T15:20:01.460436Z"
    }
   },
   "cell_type": "code",
   "source": "val_dataset",
   "id": "a1c18eaf1392f59e",
   "outputs": [
    {
     "data": {
      "text/plain": [
       "                                             question  \\\n",
       "0                           Kiedy jestem konsumentem?   \n",
       "1   Czy jestem konsumentem, gdy kupuję towar od os...   \n",
       "2   Co oznacza wyraźna zgoda na dodatkową płatność...   \n",
       "3   Czy przedsiębiorca może dowolnie ustalać koszt...   \n",
       "4   Czy przy zakupie biletu do teatru obowiązują p...   \n",
       "5   Kiedy jest niedozwolona odsprzedaż konsumentom...   \n",
       "6   Kiedy podwójna jakość produktów jest niezgodna...   \n",
       "7   Czy do umów o najem i rezerwację miejsc parkin...   \n",
       "8   Czy sprzedawca może przenieść na konsumenta od...   \n",
       "9   Czy konsument może żądać od sprzedawcy potwier...   \n",
       "10  Czy dozwolone jest zawarcie przez przedsiębior...   \n",
       "\n",
       "                                          groundtruth  \n",
       "0   Konsument to osoba fizyczna dokonująca z przed...  \n",
       "1   Nie jesteś konsumentem, gdy kupujesz towar od ...  \n",
       "2   Wyraźną zgodę wyraża sam konsument. Nie można ...  \n",
       "3   Nie, przedsiębiorca nie może ustalać tego w sp...  \n",
       "4   Tak, przepisy ustawy o prawach konsumenta stos...  \n",
       "5   Niedozwolona jest odsprzedaż konsumentom bilet...  \n",
       "6   Niezgodne z prawem jest wprowadzenie na polski...  \n",
       "7   Tak, w przypadku tego typu umów stosuje się us...  \n",
       "8   Przedsiębiorca nie może przenieść na konsument...  \n",
       "9   Jeżeli przedsiębiorca proponuje konsumentowi z...  \n",
       "10  Nie, umowa dotycząca usług finansowych nie moż...  "
      ],
      "text/html": [
       "<div>\n",
       "<style scoped>\n",
       "    .dataframe tbody tr th:only-of-type {\n",
       "        vertical-align: middle;\n",
       "    }\n",
       "\n",
       "    .dataframe tbody tr th {\n",
       "        vertical-align: top;\n",
       "    }\n",
       "\n",
       "    .dataframe thead th {\n",
       "        text-align: right;\n",
       "    }\n",
       "</style>\n",
       "<table border=\"1\" class=\"dataframe\">\n",
       "  <thead>\n",
       "    <tr style=\"text-align: right;\">\n",
       "      <th></th>\n",
       "      <th>question</th>\n",
       "      <th>groundtruth</th>\n",
       "    </tr>\n",
       "  </thead>\n",
       "  <tbody>\n",
       "    <tr>\n",
       "      <th>0</th>\n",
       "      <td>Kiedy jestem konsumentem?</td>\n",
       "      <td>Konsument to osoba fizyczna dokonująca z przed...</td>\n",
       "    </tr>\n",
       "    <tr>\n",
       "      <th>1</th>\n",
       "      <td>Czy jestem konsumentem, gdy kupuję towar od os...</td>\n",
       "      <td>Nie jesteś konsumentem, gdy kupujesz towar od ...</td>\n",
       "    </tr>\n",
       "    <tr>\n",
       "      <th>2</th>\n",
       "      <td>Co oznacza wyraźna zgoda na dodatkową płatność...</td>\n",
       "      <td>Wyraźną zgodę wyraża sam konsument. Nie można ...</td>\n",
       "    </tr>\n",
       "    <tr>\n",
       "      <th>3</th>\n",
       "      <td>Czy przedsiębiorca może dowolnie ustalać koszt...</td>\n",
       "      <td>Nie, przedsiębiorca nie może ustalać tego w sp...</td>\n",
       "    </tr>\n",
       "    <tr>\n",
       "      <th>4</th>\n",
       "      <td>Czy przy zakupie biletu do teatru obowiązują p...</td>\n",
       "      <td>Tak, przepisy ustawy o prawach konsumenta stos...</td>\n",
       "    </tr>\n",
       "    <tr>\n",
       "      <th>5</th>\n",
       "      <td>Kiedy jest niedozwolona odsprzedaż konsumentom...</td>\n",
       "      <td>Niedozwolona jest odsprzedaż konsumentom bilet...</td>\n",
       "    </tr>\n",
       "    <tr>\n",
       "      <th>6</th>\n",
       "      <td>Kiedy podwójna jakość produktów jest niezgodna...</td>\n",
       "      <td>Niezgodne z prawem jest wprowadzenie na polski...</td>\n",
       "    </tr>\n",
       "    <tr>\n",
       "      <th>7</th>\n",
       "      <td>Czy do umów o najem i rezerwację miejsc parkin...</td>\n",
       "      <td>Tak, w przypadku tego typu umów stosuje się us...</td>\n",
       "    </tr>\n",
       "    <tr>\n",
       "      <th>8</th>\n",
       "      <td>Czy sprzedawca może przenieść na konsumenta od...</td>\n",
       "      <td>Przedsiębiorca nie może przenieść na konsument...</td>\n",
       "    </tr>\n",
       "    <tr>\n",
       "      <th>9</th>\n",
       "      <td>Czy konsument może żądać od sprzedawcy potwier...</td>\n",
       "      <td>Jeżeli przedsiębiorca proponuje konsumentowi z...</td>\n",
       "    </tr>\n",
       "    <tr>\n",
       "      <th>10</th>\n",
       "      <td>Czy dozwolone jest zawarcie przez przedsiębior...</td>\n",
       "      <td>Nie, umowa dotycząca usług finansowych nie moż...</td>\n",
       "    </tr>\n",
       "  </tbody>\n",
       "</table>\n",
       "</div>"
      ]
     },
     "execution_count": 12,
     "metadata": {},
     "output_type": "execute_result"
    }
   ],
   "execution_count": 12
  },
  {
   "metadata": {
    "ExecuteTime": {
     "end_time": "2024-12-05T15:17:30.026103Z",
     "start_time": "2024-12-05T15:17:28.155662Z"
    }
   },
   "cell_type": "code",
   "source": "from src.evaluation.distance_based import DistanceEvaluator",
   "id": "3712eb1012228654",
   "outputs": [],
   "execution_count": 3
  },
  {
   "metadata": {
    "ExecuteTime": {
     "end_time": "2024-12-05T15:17:30.242979Z",
     "start_time": "2024-12-05T15:17:30.217978Z"
    }
   },
   "cell_type": "code",
   "source": [
    "import pandas as pd\n",
    "data = pd.read_csv('data/data_to_eval.csv', sep='|')\n",
    "data.head()"
   ],
   "id": "20d80c7083a9fa35",
   "outputs": [
    {
     "data": {
      "text/plain": [
       "                                            question  \\\n",
       "0                          Kiedy jestem konsumentem?   \n",
       "1  Czy jestem konsumentem, gdy kupuję towar od os...   \n",
       "2  Co oznacza wyraźna zgoda na dodatkową płatność...   \n",
       "3  Czy przedsiębiorca może dowolnie ustalać koszt...   \n",
       "4  Czy przy zakupie biletu do teatru obowiązują p...   \n",
       "\n",
       "                                         groundtruth  \\\n",
       "0  Konsument to osoba fizyczna dokonująca z przed...   \n",
       "1  Nie jesteś konsumentem, gdy kupujesz towar od ...   \n",
       "2  Wyraźną zgodę wyraża sam konsument. Nie można ...   \n",
       "3  Nie, przedsiębiorca nie może ustalać tego w sp...   \n",
       "4  Tak, przepisy ustawy o prawach konsumenta stos...   \n",
       "\n",
       "                             baseline_model_response  \\\n",
       "0  Kiedy jestem konsumentem?\\nKiedy nie prowadzę ...   \n",
       "1  Czy jestem konsumentem, gdy kupuję towar od os...   \n",
       "2  Co oznacza wyraźna zgoda na dodatkową płatność...   \n",
       "3  Czy przedsiębiorca może dowolnie ustalać koszt...   \n",
       "4  Czy przy zakupie biletu do teatru obowiązują p...   \n",
       "\n",
       "                            finetuned_model_response  \n",
       "0  Kiedy jestem konsumentem? Czyli o prawach kons...  \n",
       "1  Czy jestem konsumentem, gdy kupuję towar od os...  \n",
       "2  Co oznacza wyraźna zgoda na dodatkową płatność...  \n",
       "3  Czy przedsiębiorca może dowolnie ustalać koszt...  \n",
       "4  Czy przy zakupie biletu do teatru obowiązują p...  "
      ],
      "text/html": [
       "<div>\n",
       "<style scoped>\n",
       "    .dataframe tbody tr th:only-of-type {\n",
       "        vertical-align: middle;\n",
       "    }\n",
       "\n",
       "    .dataframe tbody tr th {\n",
       "        vertical-align: top;\n",
       "    }\n",
       "\n",
       "    .dataframe thead th {\n",
       "        text-align: right;\n",
       "    }\n",
       "</style>\n",
       "<table border=\"1\" class=\"dataframe\">\n",
       "  <thead>\n",
       "    <tr style=\"text-align: right;\">\n",
       "      <th></th>\n",
       "      <th>question</th>\n",
       "      <th>groundtruth</th>\n",
       "      <th>baseline_model_response</th>\n",
       "      <th>finetuned_model_response</th>\n",
       "    </tr>\n",
       "  </thead>\n",
       "  <tbody>\n",
       "    <tr>\n",
       "      <th>0</th>\n",
       "      <td>Kiedy jestem konsumentem?</td>\n",
       "      <td>Konsument to osoba fizyczna dokonująca z przed...</td>\n",
       "      <td>Kiedy jestem konsumentem?\\nKiedy nie prowadzę ...</td>\n",
       "      <td>Kiedy jestem konsumentem? Czyli o prawach kons...</td>\n",
       "    </tr>\n",
       "    <tr>\n",
       "      <th>1</th>\n",
       "      <td>Czy jestem konsumentem, gdy kupuję towar od os...</td>\n",
       "      <td>Nie jesteś konsumentem, gdy kupujesz towar od ...</td>\n",
       "      <td>Czy jestem konsumentem, gdy kupuję towar od os...</td>\n",
       "      <td>Czy jestem konsumentem, gdy kupuję towar od os...</td>\n",
       "    </tr>\n",
       "    <tr>\n",
       "      <th>2</th>\n",
       "      <td>Co oznacza wyraźna zgoda na dodatkową płatność...</td>\n",
       "      <td>Wyraźną zgodę wyraża sam konsument. Nie można ...</td>\n",
       "      <td>Co oznacza wyraźna zgoda na dodatkową płatność...</td>\n",
       "      <td>Co oznacza wyraźna zgoda na dodatkową płatność...</td>\n",
       "    </tr>\n",
       "    <tr>\n",
       "      <th>3</th>\n",
       "      <td>Czy przedsiębiorca może dowolnie ustalać koszt...</td>\n",
       "      <td>Nie, przedsiębiorca nie może ustalać tego w sp...</td>\n",
       "      <td>Czy przedsiębiorca może dowolnie ustalać koszt...</td>\n",
       "      <td>Czy przedsiębiorca może dowolnie ustalać koszt...</td>\n",
       "    </tr>\n",
       "    <tr>\n",
       "      <th>4</th>\n",
       "      <td>Czy przy zakupie biletu do teatru obowiązują p...</td>\n",
       "      <td>Tak, przepisy ustawy o prawach konsumenta stos...</td>\n",
       "      <td>Czy przy zakupie biletu do teatru obowiązują p...</td>\n",
       "      <td>Czy przy zakupie biletu do teatru obowiązują p...</td>\n",
       "    </tr>\n",
       "  </tbody>\n",
       "</table>\n",
       "</div>"
      ]
     },
     "execution_count": 4,
     "metadata": {},
     "output_type": "execute_result"
    }
   ],
   "execution_count": 4
  },
  {
   "metadata": {},
   "cell_type": "code",
   "source": [
    "data['finetuned_model_response_r64_a128'] = data['question'].apply(lambda x: generate(model_name=base_model_id, model=ft_model, text=x))\n",
    "data['finetuned_model_response_chk_400'] = data['question'].apply(\n",
    "    lambda x: generate(model_name=base_model_id, model=ft_model, text=x))"
   ],
   "id": "bdd48a0735ee8c75",
   "outputs": [],
   "execution_count": null
  },
  {
   "metadata": {
    "ExecuteTime": {
     "end_time": "2024-12-05T15:48:49.311524Z",
     "start_time": "2024-12-05T15:48:41.704623Z"
    }
   },
   "cell_type": "code",
   "source": "evaluator = DistanceEvaluator()",
   "id": "93cbc8843c417168",
   "outputs": [],
   "execution_count": 24
  },
  {
   "metadata": {
    "ExecuteTime": {
     "end_time": "2024-12-05T15:38:33.028333Z",
     "start_time": "2024-12-05T15:38:33.007626Z"
    }
   },
   "cell_type": "code",
   "source": "data['wmd_base_model'] = data.apply(lambda batch: evaluator.get_diversity_by_wmd(batch['groundtruth'], batch['baseline_model_response']), axis=1)",
   "id": "c4e8cb956ea1ee36",
   "outputs": [],
   "execution_count": 19
  },
  {
   "metadata": {
    "ExecuteTime": {
     "end_time": "2024-12-05T15:38:41.309358Z",
     "start_time": "2024-12-05T15:38:41.245916Z"
    }
   },
   "cell_type": "code",
   "source": "pd.plotting.hist_series(data['wmd_base_model'])",
   "id": "245dae381f0ba78",
   "outputs": [
    {
     "data": {
      "text/plain": [
       "<Axes: >"
      ]
     },
     "execution_count": 20,
     "metadata": {},
     "output_type": "execute_result"
    },
    {
     "data": {
      "text/plain": [
       "<Figure size 640x480 with 1 Axes>"
      ],
      "image/png": "[encoded data removed]"
     },
     "metadata": {},
     "output_type": "display_data"
    }
   ],
   "execution_count": 20
  },
  {
   "metadata": {
    "ExecuteTime": {
     "end_time": "2024-12-05T16:10:41.859147Z",
     "start_time": "2024-12-05T16:10:41.534147Z"
    }
   },
   "cell_type": "code",
   "source": "data['wmd_finetuned_model_500'] = data.apply(lambda batch: evaluator.get_diversity_by_wmd(batch['groundtruth'], batch['finetuned_model_response']), axis=1)",
   "id": "a3c0664682614478",
   "outputs": [],
   "execution_count": 34
  },
  {
   "metadata": {
    "ExecuteTime": {
     "end_time": "2024-12-05T16:10:53.366064Z",
     "start_time": "2024-12-05T16:10:53.303068Z"
    }
   },
   "cell_type": "code",
   "source": "pd.plotting.hist_series(data['wmd_finetuned_model_500'])",
   "id": "63abbee12c682b51",
   "outputs": [
    {
     "data": {
      "text/plain": [
       "<Axes: >"
      ]
     },
     "execution_count": 35,
     "metadata": {},
     "output_type": "execute_result"
    },
    {
     "data": {
      "text/plain": [
       "<Figure size 640x480 with 1 Axes>"
      ],
      "image/png": "[encoded data removed]"
     },
     "metadata": {},
     "output_type": "display_data"
    }
   ],
   "execution_count": 35
  },
  {
   "metadata": {
    "ExecuteTime": {
     "end_time": "2024-12-05T21:16:39.240349Z",
     "start_time": "2024-12-05T21:16:39.201452Z"
    }
   },
   "cell_type": "code",
   "source": [
    "data['wmd_finetuned_model_chk_400'] = data.apply(lambda batch: evaluator.get_diversity_by_wmd(batch['groundtruth'], batch['finetuned_model_response_chk_400']), axis=1)# \n",
    "\n",
    "data['wmd_finetuned_model_chk_500_r64_a128'] = data.apply(lambda batch: evaluator.get_diversity_by_wmd(batch['groundtruth'], batch['finetuned_model_response_r64_a128']), axis=1)\n",
    "\n"
   ],
   "id": "f9cef8c2b9fab070",
   "outputs": [],
   "execution_count": 39
  },
  {
   "metadata": {
    "ExecuteTime": {
     "end_time": "2024-12-05T21:26:07.329951Z",
     "start_time": "2024-12-05T21:26:07.254384Z"
    }
   },
   "cell_type": "code",
   "source": "pd.plotting.hist_series(data['wmd_finetuned_model_chk_400'])",
   "id": "a1639ffa21719ac1",
   "outputs": [
    {
     "data": {
      "text/plain": [
       "<Axes: >"
      ]
     },
     "execution_count": 43,
     "metadata": {},
     "output_type": "execute_result"
    },
    {
     "data": {
      "text/plain": [
       "<Figure size 640x480 with 1 Axes>"
      ],
      "image/png": "[encoded data removed]"
     },
     "metadata": {},
     "output_type": "display_data"
    }
   ],
   "execution_count": 43
  },
  {
   "metadata": {
    "ExecuteTime": {
     "end_time": "2024-12-05T21:26:00.636730Z",
     "start_time": "2024-12-05T21:26:00.562253Z"
    }
   },
   "cell_type": "code",
   "source": "pd.plotting.hist_series(data['wmd_finetuned_model_chk_500_r64_a128'])",
   "id": "875463f49bed2566",
   "outputs": [
    {
     "data": {
      "text/plain": [
       "<Axes: >"
      ]
     },
     "execution_count": 42,
     "metadata": {},
     "output_type": "execute_result"
    },
    {
     "data": {
      "text/plain": [
       "<Figure size 640x480 with 1 Axes>"
      ],
      "image/png": "[encoded data removed]"
     },
     "metadata": {},
     "output_type": "display_data"
    }
   ],
   "execution_count": 42
  },
  {
   "metadata": {
    "ExecuteTime": {
     "end_time": "2024-12-05T21:28:57.131359Z",
     "start_time": "2024-12-05T21:28:57.116360Z"
    }
   },
   "cell_type": "code",
   "source": [
    "print(f\"Base model avg WMD: {data['wmd_base_model'].mean()}, STD: {data['wmd_base_model'].std()}\")\n",
    "print(f\"Finetuned 400 model(r32,a64) avg WMD: {data['wmd_finetuned_model_chk_400'].mean()}, STD: {data['wmd_finetuned_model_chk_400'].std()}\")\n",
    "print(f\"Finetuned 500 model(r32,a64) avg WMD: {data['wmd_finetuned_model_500'].mean()}, STD: {data['wmd_finetuned_model_500'].std()}\")\n",
    "print(f\"Finetuned 500 model(r64,a128) avg WMD: {data['wmd_finetuned_model_chk_500_r64_a128'].mean()}, STD: {data['wmd_finetuned_model_chk_500_r64_a128'].std()}\")"
   ],
   "id": "f4b2bbd4b7a78ab9",
   "outputs": [
    {
     "name": "stdout",
     "output_type": "stream",
     "text": [
      "Base model avg WMD: 0.12596285931477452, STD: 0.0315543429388244\n",
      "Finetuned 400 model(r32,a64) avg WMD: 0.11541241529147812, STD: 0.03150170183348604\n",
      "Finetuned 500 model(r32,a64) avg WMD: 0.11579626259090608, STD: 0.03897499926820851\n",
      "Finetuned 500 model(r64,a128) avg WMD: 0.12465164170271924, STD: 0.03168207970824704\n"
     ]
    }
   ],
   "execution_count": 44
  }
 ],
 "metadata": {
  "kernelspec": {
   "display_name": "Python 3",
   "language": "python",
   "name": "python3"
  },
  "language_info": {
   "codemirror_mode": {
    "name": "ipython",
    "version": 2
   },
   "file_extension": ".py",
   "mimetype": "text/x-python",
   "name": "python",
   "nbconvert_exporter": "python",
   "pygments_lexer": "ipython2",
   "version": "2.7.6"
  }
 },
 "nbformat": 4,
 "nbformat_minor": 5
}
