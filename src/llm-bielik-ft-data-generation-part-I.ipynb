{
 "cells": [
  {
   "cell_type": "markdown",
   "source": [
    "# LLM - Bielik - Fine tuning - part I"
   ],
   "metadata": {
    "collapsed": false
   },
   "id": "268a1dfb6a09a44b"
  },
  {
   "cell_type": "markdown",
   "source": [
    "## Introduction\n",
    "\n",
    "The rise of the Large Language Models are definetely a game changer in approach to AI on various markets and branches - we can observe increased popularity of LLMs in academia, business and agriculture. Working with LLMs became a must-do task for all R&D or business departments in order to acknowledge and adapt upcoming possibilities, to stay competetive and gain business advantage. There are many players who invested bilions of USD to build their own Large Language Model and took a part in recent markets challenges by introducing their own solution trained on a different data set or to serve a different task (specialized for example in generation of poems or making a summary). At the beginning, as usual when it comes to innovation at that scale, we are thinking of endless possibilities, what kind of new opportunities we reach without putting much focus on other important factors like costs, maintanence, security, stability. Currently, we have multiple models which are production ready - many work has been done at those fields also making those LLMs more reliable and secured. One of the outcomes from this LLM race is that people noticed that it is good idea to look at smaller models, more specialized in one or two tasks, not the general ones. This specialization also is related to language supported. LLMs are broadly trained on english language data, due to the fact that more than half of websites content is written in English. Many models, paid and open source ones, have different level of quality when it comes when using them with local language. Quite often it occurs that offered quality is not enough to prove the business value for specific use case. This pushed some parties to create smaller models or suggested the finetuning with data in local language. "
   ],
   "metadata": {
    "collapsed": false
   },
   "id": "a8add555b2f73f31"
  },
  {
   "cell_type": "markdown",
   "source": [
    "## Goal\n",
    "The goal of this notebook is to finetune a Polish language based LLM called Bielik, developed by SpeakLeash organization (<model page>) with the legal documents. Data is specifically chosen for this task - legal documents or, law as a general concept, are strictly connected to the particular langauge. Primary concept of legal documents is to be in line with local (polish in this case) regulations. One of the approaches is to translate documents to english and then used by the LLM. However, legal documents such as purchase agreements or any other agreements are designed by lawyers who understand the legal language nuances. They need to construct documents that are reliable, understandable by many and embedded in Polish law regulations. This requires from LLM to be more specific on many levels - starting from using prevalent data in one language and finetuning it to be able to work with more detailed task. "
   ],
   "metadata": {
    "collapsed": false
   },
   "id": "e57f99041c74915"
  },
  {
   "cell_type": "markdown",
   "source": [
    "## Table of contents\n",
    "\n",
    "This notebook covers multiple steps:\n",
    "1. Loading and splitting data into chunks\n",
    "2. Generating new data (question and answers) for the future finetuning\n",
    "3. Evaluating generated data\n",
    "4. Selecting the data based on metrics \n",
    "5. Preparing the output for FT\n"
   ],
   "metadata": {
    "collapsed": false
   },
   "id": "2a2374a7ac7f8e8d"
  },
  {
   "cell_type": "markdown",
   "source": [
    "## Loading and working with data\n",
    "\n",
    "Data source: https://isap.sejm.gov.pl/isap.nsf/download.xsp/WDU20140000827/U/D20140827Lj.pdf "
   ],
   "metadata": {
    "collapsed": false
   },
   "id": "e453382dd70f9952"
  },
  {
   "cell_type": "code",
   "source": [
    "import datetime\n",
    "import pandas as pd\n",
    "import numpy as np\n",
    "from dotenv import load_dotenv, find_dotenv\n",
    "import pymupdf\n",
    "import uuid\n",
    "from tqdm.notebook import tqdm\n",
    "from langchain.text_splitter import RecursiveCharacterTextSplitter\n",
    "from src.external_requests.openai_req import OpenAIReq\n",
    "from src.external_requests.prompting import PromptBuilder\n",
    "from src.evaluation.distance_based import DistanceEvaluator\n",
    "from src.evaluation.helper import SimilarityMatrix\n",
    "import tiktoken"
   ],
   "metadata": {
    "collapsed": false,
    "ExecuteTime": {
     "end_time": "2025-01-30T21:12:57.320255Z",
     "start_time": "2025-01-30T21:12:56.424709Z"
    }
   },
   "id": "bcad1a89aee5c170",
   "outputs": [],
   "execution_count": 2
  },
  {
   "metadata": {
    "ExecuteTime": {
     "end_time": "2025-01-30T21:12:57.413255Z",
     "start_time": "2025-01-30T21:12:57.323257Z"
    }
   },
   "cell_type": "code",
   "source": [
    "%load_ext autoreload\n",
    "%autoreload 2\n",
    "%reload_ext autoreload"
   ],
   "id": "83d9fb1f7e39d77c",
   "outputs": [],
   "execution_count": 3
  },
  {
   "cell_type": "code",
   "source": [
    "_ = load_dotenv(find_dotenv())"
   ],
   "metadata": {
    "collapsed": false,
    "ExecuteTime": {
     "end_time": "2025-01-30T21:12:57.475255Z",
     "start_time": "2025-01-30T21:12:57.430256Z"
    }
   },
   "id": "a09a8ee67e5ebf80",
   "outputs": [],
   "execution_count": 4
  },
  {
   "cell_type": "markdown",
   "source": [
    "For this use case I am using commonly used splitter - RecursiveCharacterTextSplitter from langchain and pymudf library for parsing the PDF. Document is well formatted and doesn't contain more complex structures like graphs or tables. "
   ],
   "metadata": {
    "collapsed": false
   },
   "id": "42d4f730c6477143"
  },
  {
   "cell_type": "code",
   "source": "splitter = RecursiveCharacterTextSplitter(chunk_size=512, chunk_overlap=100)",
   "metadata": {
    "collapsed": false,
    "ExecuteTime": {
     "end_time": "2025-01-26T20:45:27.906807Z",
     "start_time": "2025-01-26T20:45:27.847807Z"
    }
   },
   "id": "b881573ef64d8940",
   "outputs": [],
   "execution_count": 5
  },
  {
   "cell_type": "code",
   "source": [
    "path = 'data/ustawa_o_prawach_konsumenta.pdf' # local file system\n",
    "all_data = pymupdf.open(path)"
   ],
   "metadata": {
    "collapsed": false,
    "ExecuteTime": {
     "end_time": "2025-01-26T20:45:29.243951Z",
     "start_time": "2025-01-26T20:45:29.174642Z"
    }
   },
   "id": "b19e120f0ba49820",
   "outputs": [],
   "execution_count": 6
  },
  {
   "cell_type": "code",
   "source": [
    "all_chunks = []\n",
    "for document in all_data:\n",
    "    text_page = document.get_textpage().extractText()\n",
    "    chunks_per_page = splitter.split_text(text_page)\n",
    "    all_chunks.append(chunks_per_page)\n",
    "        \n",
    "len(all_chunks)"
   ],
   "metadata": {
    "collapsed": false,
    "ExecuteTime": {
     "end_time": "2025-01-26T20:45:32.341649Z",
     "start_time": "2025-01-26T20:45:32.223648Z"
    }
   },
   "id": "76dcd8f14b33523a",
   "outputs": [
    {
     "data": {
      "text/plain": [
       "44"
      ]
     },
     "execution_count": 7,
     "metadata": {},
     "output_type": "execute_result"
    }
   ],
   "execution_count": 7
  },
  {
   "cell_type": "code",
   "source": [
    "def get_number_of_tokens(text:str) -> str:\n",
    "    encoding = tiktoken.get_encoding(\"cl100k_base\")\n",
    "    n_tokens = len(encoding.encode(text))\n",
    "    return n_tokens"
   ],
   "metadata": {
    "collapsed": false,
    "ExecuteTime": {
     "end_time": "2025-01-26T20:45:35.644272Z",
     "start_time": "2025-01-26T20:45:35.584412Z"
    }
   },
   "id": "4e3248e8c5d3b026",
   "outputs": [],
   "execution_count": 8
  },
  {
   "cell_type": "markdown",
   "source": [
    "### Generating new data (questions) with a support of GPT 3.5\n",
    "\n",
    "For this task the GPT 3.5 was chosen. GPT has proven itself as a great tool for text generation in many languages and also for assessing own work (this part will be covered later in the article). What is more, it has proven also it's abilities to generate structurised content. In the below code snippet there is one important remark. As presented, there are two similar variables - max_tokens and model_max_tokens. ChatGPT model support tokens limitation during an api call. However, this limitation ca be tricky as it should be considered rather as a cost guard than concise content guard. Setting model's max tokens to low number results in sentence truncation and losing information. That is the reason the second variable was introduced - max_tokens. Max_tokens variable is passed to the prompt for the model as a part of an instruction to model to instruct the model to generate succinct yet comprehensive answer within the given token limit. "
   ],
   "metadata": {
    "collapsed": false
   },
   "id": "e9e33b5a9a71b776"
  },
  {
   "metadata": {
    "ExecuteTime": {
     "end_time": "2025-01-29T22:02:37.060343Z",
     "start_time": "2025-01-29T22:02:37.015394Z"
    }
   },
   "cell_type": "code",
   "source": "model_version = 'gpt-4o-mini'",
   "id": "3cca7cbc1cf0226c",
   "outputs": [],
   "execution_count": 4
  },
  {
   "cell_type": "code",
   "source": [
    "all_data = []\n",
    "max_tokens = 200\n",
    "model_max_tokens = int(max_tokens + (max_tokens*0.20))\n",
    "for i, page in tqdm(enumerate(all_chunks)):\n",
    "    page_id = str(uuid.uuid4())\n",
    "    for chunk in enumerate(page):\n",
    "        nth_chunk, text_chunk = chunk\n",
    "        generated_questions = OpenAIReq(model=model_version).call_api(prompt=PromptBuilder.generate_questions(n_questions=3, text=chunk, tokens=max_tokens),\n",
    "                                                   temperature=0.2,max_tokens=model_max_tokens)\n",
    "        data = {'chunk_id': f'{page_id}_{nth_chunk}', \n",
    "                'text_chunk': text_chunk,\n",
    "                'page_id': page_id,\n",
    "                'generated_questions': generated_questions}\n",
    "        all_data.append(data)"
   ],
   "metadata": {
    "collapsed": false,
    "ExecuteTime": {
     "end_time": "2025-01-26T20:53:56.953378Z",
     "start_time": "2025-01-26T20:45:38.350209Z"
    }
   },
   "id": "4d82303b65bbd47",
   "outputs": [
    {
     "data": {
      "text/plain": [
       "0it [00:00, ?it/s]"
      ],
      "application/vnd.jupyter.widget-view+json": {
       "version_major": 2,
       "version_minor": 0,
       "model_id": "54c549f3450e419c93f90677498006ce"
      }
     },
     "metadata": {},
     "output_type": "display_data"
    }
   ],
   "execution_count": 9
  },
  {
   "cell_type": "code",
   "source": [
    "df = pd.DataFrame.from_dict(data=all_data)"
   ],
   "metadata": {
    "collapsed": false,
    "ExecuteTime": {
     "end_time": "2025-01-26T20:57:19.983161Z",
     "start_time": "2025-01-26T20:57:19.907753Z"
    }
   },
   "id": "4ab9600a6fef8f1f",
   "outputs": [],
   "execution_count": 10
  },
  {
   "cell_type": "markdown",
   "source": [
    "Let's do some data cleaning and validating. We need a helper method to do required data preparation with validation on null values:"
   ],
   "metadata": {
    "collapsed": false
   },
   "id": "614b273de487a21b"
  },
  {
   "cell_type": "code",
   "source": [
    "def process_df_with_questions(data: pd.DataFrame) -> pd.DataFrame:\n",
    "    data['questions_splitted'] = data['generated_questions'].str.split('\\n')\n",
    "    data = data.explode('questions_splitted')\n",
    "    data = data[~data['questions_splitted'].isna()]\n",
    "    data['questions_splitted']  = data['questions_splitted'].replace(r'^\\s*$', np.nan, regex=True)\n",
    "    return data\n",
    "\n",
    "df = process_df_with_questions(data=df)"
   ],
   "metadata": {
    "collapsed": false,
    "ExecuteTime": {
     "end_time": "2025-01-26T20:57:25.251140Z",
     "start_time": "2025-01-26T20:57:25.198140Z"
    }
   },
   "id": "35b9ee452b7a2150",
   "outputs": [],
   "execution_count": 11
  },
  {
   "cell_type": "code",
   "source": [
    "df = df[~df['questions_splitted'].isna()]\n",
    "df['questions_splitted'].isna().sum()"
   ],
   "metadata": {
    "collapsed": false,
    "ExecuteTime": {
     "end_time": "2025-01-26T20:57:26.877822Z",
     "start_time": "2025-01-26T20:57:26.827822Z"
    }
   },
   "id": "487bab3ec7fab832",
   "outputs": [
    {
     "data": {
      "text/plain": [
       "0"
      ]
     },
     "execution_count": 12,
     "metadata": {},
     "output_type": "execute_result"
    }
   ],
   "execution_count": 12
  },
  {
   "metadata": {
    "ExecuteTime": {
     "end_time": "2025-01-26T21:00:44.023974Z",
     "start_time": "2025-01-26T21:00:43.965976Z"
    }
   },
   "cell_type": "code",
   "source": "df",
   "id": "e81263876939fc09",
   "outputs": [
    {
     "data": {
      "text/plain": [
       "                                   chunk_id  \\\n",
       "0    99778fb5-7045-450c-9607-3c89babc9a05_0   \n",
       "0    99778fb5-7045-450c-9607-3c89babc9a05_0   \n",
       "0    99778fb5-7045-450c-9607-3c89babc9a05_0   \n",
       "1    99778fb5-7045-450c-9607-3c89babc9a05_1   \n",
       "1    99778fb5-7045-450c-9607-3c89babc9a05_1   \n",
       "..                                      ...   \n",
       "242  e4264747-fe26-4f97-9c85-3d2f11caf937_0   \n",
       "242  e4264747-fe26-4f97-9c85-3d2f11caf937_0   \n",
       "243  e4264747-fe26-4f97-9c85-3d2f11caf937_1   \n",
       "243  e4264747-fe26-4f97-9c85-3d2f11caf937_1   \n",
       "243  e4264747-fe26-4f97-9c85-3d2f11caf937_1   \n",
       "\n",
       "                                            text_chunk  \\\n",
       "0    ©Kancelaria Sejmu \\n \\n \\n \\ns. 1/44 \\n \\n2024...   \n",
       "0    ©Kancelaria Sejmu \\n \\n \\n \\ns. 1/44 \\n \\n2024...   \n",
       "0    ©Kancelaria Sejmu \\n \\n \\n \\ns. 1/44 \\n \\n2024...   \n",
       "1    przedsiębiorstwa; \\n3) \\nzasady i tryb wykonan...   \n",
       "1    przedsiębiorstwa; \\n3) \\nzasady i tryb wykonan...   \n",
       "..                                                 ...   \n",
       "242  ©Kancelaria Sejmu \\n \\n \\n \\ns. 44/44 \\n \\n202...   \n",
       "242  ©Kancelaria Sejmu \\n \\n \\n \\ns. 44/44 \\n \\n202...   \n",
       "243  następujących towarów(*) umowy dostawy następu...   \n",
       "243  następujących towarów(*) umowy dostawy następu...   \n",
       "243  następujących towarów(*) umowy dostawy następu...   \n",
       "\n",
       "                                  page_id  \\\n",
       "0    99778fb5-7045-450c-9607-3c89babc9a05   \n",
       "0    99778fb5-7045-450c-9607-3c89babc9a05   \n",
       "0    99778fb5-7045-450c-9607-3c89babc9a05   \n",
       "1    99778fb5-7045-450c-9607-3c89babc9a05   \n",
       "1    99778fb5-7045-450c-9607-3c89babc9a05   \n",
       "..                                    ...   \n",
       "242  e4264747-fe26-4f97-9c85-3d2f11caf937   \n",
       "242  e4264747-fe26-4f97-9c85-3d2f11caf937   \n",
       "243  e4264747-fe26-4f97-9c85-3d2f11caf937   \n",
       "243  e4264747-fe26-4f97-9c85-3d2f11caf937   \n",
       "243  e4264747-fe26-4f97-9c85-3d2f11caf937   \n",
       "\n",
       "                                   generated_questions  \\\n",
       "0    - Jakie są główne obowiązki przedsiębiorcy wob...   \n",
       "0    - Jakie są główne obowiązki przedsiębiorcy wob...   \n",
       "0    - Jakie są główne obowiązki przedsiębiorcy wob...   \n",
       "1    - Jakie są główne zasady dotyczące prawa odstą...   \n",
       "1    - Jakie są główne zasady dotyczące prawa odstą...   \n",
       "..                                                 ...   \n",
       "242  - Jakie informacje powinny być zawarte w formu...   \n",
       "242  - Jakie informacje powinny być zawarte w formu...   \n",
       "243  - Jakie towary lub usługi mogą być objęte umow...   \n",
       "243  - Jakie towary lub usługi mogą być objęte umow...   \n",
       "243  - Jakie towary lub usługi mogą być objęte umow...   \n",
       "\n",
       "                                    questions_splitted  \n",
       "0    - Jakie są główne obowiązki przedsiębiorcy wob...  \n",
       "0    - Jakie zasady i tryb dotyczą zawierania umów ...  \n",
       "0    - Jakie są szczegółowe przepisy dotyczące praw...  \n",
       "1    - Jakie są główne zasady dotyczące prawa odstą...  \n",
       "1    - W jaki sposób ustawa reguluje zawieranie umó...  \n",
       "..                                                 ...  \n",
       "242  - Czy formularz odstąpienia od umowy można wys...  \n",
       "242  - Jakie są terminy na odstąpienie od umowy spr...  \n",
       "243  - Jakie towary lub usługi mogą być objęte umow...  \n",
       "243  - Jakie informacje są wymagane od konsumenta p...  \n",
       "243  - Czy podpis konsumenta jest obowiązkowy w prz...  \n",
       "\n",
       "[732 rows x 5 columns]"
      ],
      "text/html": [
       "<div>\n",
       "<style scoped>\n",
       "    .dataframe tbody tr th:only-of-type {\n",
       "        vertical-align: middle;\n",
       "    }\n",
       "\n",
       "    .dataframe tbody tr th {\n",
       "        vertical-align: top;\n",
       "    }\n",
       "\n",
       "    .dataframe thead th {\n",
       "        text-align: right;\n",
       "    }\n",
       "</style>\n",
       "<table border=\"1\" class=\"dataframe\">\n",
       "  <thead>\n",
       "    <tr style=\"text-align: right;\">\n",
       "      <th></th>\n",
       "      <th>chunk_id</th>\n",
       "      <th>text_chunk</th>\n",
       "      <th>page_id</th>\n",
       "      <th>generated_questions</th>\n",
       "      <th>questions_splitted</th>\n",
       "    </tr>\n",
       "  </thead>\n",
       "  <tbody>\n",
       "    <tr>\n",
       "      <th>0</th>\n",
       "      <td>99778fb5-7045-450c-9607-3c89babc9a05_0</td>\n",
       "      <td>©Kancelaria Sejmu \\n \\n \\n \\ns. 1/44 \\n \\n2024...</td>\n",
       "      <td>99778fb5-7045-450c-9607-3c89babc9a05</td>\n",
       "      <td>- Jakie są główne obowiązki przedsiębiorcy wob...</td>\n",
       "      <td>- Jakie są główne obowiązki przedsiębiorcy wob...</td>\n",
       "    </tr>\n",
       "    <tr>\n",
       "      <th>0</th>\n",
       "      <td>99778fb5-7045-450c-9607-3c89babc9a05_0</td>\n",
       "      <td>©Kancelaria Sejmu \\n \\n \\n \\ns. 1/44 \\n \\n2024...</td>\n",
       "      <td>99778fb5-7045-450c-9607-3c89babc9a05</td>\n",
       "      <td>- Jakie są główne obowiązki przedsiębiorcy wob...</td>\n",
       "      <td>- Jakie zasady i tryb dotyczą zawierania umów ...</td>\n",
       "    </tr>\n",
       "    <tr>\n",
       "      <th>0</th>\n",
       "      <td>99778fb5-7045-450c-9607-3c89babc9a05_0</td>\n",
       "      <td>©Kancelaria Sejmu \\n \\n \\n \\ns. 1/44 \\n \\n2024...</td>\n",
       "      <td>99778fb5-7045-450c-9607-3c89babc9a05</td>\n",
       "      <td>- Jakie są główne obowiązki przedsiębiorcy wob...</td>\n",
       "      <td>- Jakie są szczegółowe przepisy dotyczące praw...</td>\n",
       "    </tr>\n",
       "    <tr>\n",
       "      <th>1</th>\n",
       "      <td>99778fb5-7045-450c-9607-3c89babc9a05_1</td>\n",
       "      <td>przedsiębiorstwa; \\n3) \\nzasady i tryb wykonan...</td>\n",
       "      <td>99778fb5-7045-450c-9607-3c89babc9a05</td>\n",
       "      <td>- Jakie są główne zasady dotyczące prawa odstą...</td>\n",
       "      <td>- Jakie są główne zasady dotyczące prawa odstą...</td>\n",
       "    </tr>\n",
       "    <tr>\n",
       "      <th>1</th>\n",
       "      <td>99778fb5-7045-450c-9607-3c89babc9a05_1</td>\n",
       "      <td>przedsiębiorstwa; \\n3) \\nzasady i tryb wykonan...</td>\n",
       "      <td>99778fb5-7045-450c-9607-3c89babc9a05</td>\n",
       "      <td>- Jakie są główne zasady dotyczące prawa odstą...</td>\n",
       "      <td>- W jaki sposób ustawa reguluje zawieranie umó...</td>\n",
       "    </tr>\n",
       "    <tr>\n",
       "      <th>...</th>\n",
       "      <td>...</td>\n",
       "      <td>...</td>\n",
       "      <td>...</td>\n",
       "      <td>...</td>\n",
       "      <td>...</td>\n",
       "    </tr>\n",
       "    <tr>\n",
       "      <th>242</th>\n",
       "      <td>e4264747-fe26-4f97-9c85-3d2f11caf937_0</td>\n",
       "      <td>©Kancelaria Sejmu \\n \\n \\n \\ns. 44/44 \\n \\n202...</td>\n",
       "      <td>e4264747-fe26-4f97-9c85-3d2f11caf937</td>\n",
       "      <td>- Jakie informacje powinny być zawarte w formu...</td>\n",
       "      <td>- Czy formularz odstąpienia od umowy można wys...</td>\n",
       "    </tr>\n",
       "    <tr>\n",
       "      <th>242</th>\n",
       "      <td>e4264747-fe26-4f97-9c85-3d2f11caf937_0</td>\n",
       "      <td>©Kancelaria Sejmu \\n \\n \\n \\ns. 44/44 \\n \\n202...</td>\n",
       "      <td>e4264747-fe26-4f97-9c85-3d2f11caf937</td>\n",
       "      <td>- Jakie informacje powinny być zawarte w formu...</td>\n",
       "      <td>- Jakie są terminy na odstąpienie od umowy spr...</td>\n",
       "    </tr>\n",
       "    <tr>\n",
       "      <th>243</th>\n",
       "      <td>e4264747-fe26-4f97-9c85-3d2f11caf937_1</td>\n",
       "      <td>następujących towarów(*) umowy dostawy następu...</td>\n",
       "      <td>e4264747-fe26-4f97-9c85-3d2f11caf937</td>\n",
       "      <td>- Jakie towary lub usługi mogą być objęte umow...</td>\n",
       "      <td>- Jakie towary lub usługi mogą być objęte umow...</td>\n",
       "    </tr>\n",
       "    <tr>\n",
       "      <th>243</th>\n",
       "      <td>e4264747-fe26-4f97-9c85-3d2f11caf937_1</td>\n",
       "      <td>następujących towarów(*) umowy dostawy następu...</td>\n",
       "      <td>e4264747-fe26-4f97-9c85-3d2f11caf937</td>\n",
       "      <td>- Jakie towary lub usługi mogą być objęte umow...</td>\n",
       "      <td>- Jakie informacje są wymagane od konsumenta p...</td>\n",
       "    </tr>\n",
       "    <tr>\n",
       "      <th>243</th>\n",
       "      <td>e4264747-fe26-4f97-9c85-3d2f11caf937_1</td>\n",
       "      <td>następujących towarów(*) umowy dostawy następu...</td>\n",
       "      <td>e4264747-fe26-4f97-9c85-3d2f11caf937</td>\n",
       "      <td>- Jakie towary lub usługi mogą być objęte umow...</td>\n",
       "      <td>- Czy podpis konsumenta jest obowiązkowy w prz...</td>\n",
       "    </tr>\n",
       "  </tbody>\n",
       "</table>\n",
       "<p>732 rows × 5 columns</p>\n",
       "</div>"
      ]
     },
     "execution_count": 16,
     "metadata": {},
     "output_type": "execute_result"
    }
   ],
   "execution_count": 16
  },
  {
   "cell_type": "markdown",
   "source": [
    "### Fetching answers for generated questions based on the text chunk\n",
    "Next step is also focused on generation, but in this case we are focusing on answers to the previously generated questions. As in previous example, we also introduce a token limitation for the model, and it is passed to the prompt as part of the instruction. In this case we want to limit the answer length in order to get concise and precise answer as it is quite often expected from LLM to deliver brief answers. To support that, we set the temperature as low as possible."
   ],
   "metadata": {
    "collapsed": false
   },
   "id": "275c63e3cb6fc457"
  },
  {
   "cell_type": "code",
   "source": [
    "answer_tokens = 200\n",
    "df[f'answer_{answer_tokens}'] = df.apply(lambda x: OpenAIReq(model=model_version).call_api(prompt=PromptBuilder.get_answers_based_on_text_and_questions(text=x['text_chunk'], question= x['questions_splitted'], tokens=answer_tokens), temperature=0.0), axis=1)"
   ],
   "metadata": {
    "collapsed": false,
    "ExecuteTime": {
     "end_time": "2025-01-26T21:40:32.373900Z",
     "start_time": "2025-01-26T21:01:44.799047Z"
    }
   },
   "id": "52c677467cd4e8a9",
   "outputs": [],
   "execution_count": 17
  },
  {
   "metadata": {
    "ExecuteTime": {
     "end_time": "2025-01-26T21:40:50.083298Z",
     "start_time": "2025-01-26T21:40:49.959298Z"
    }
   },
   "cell_type": "code",
   "source": "df",
   "id": "563a79911cbadb14",
   "outputs": [
    {
     "data": {
      "text/plain": [
       "                                   chunk_id  \\\n",
       "0    99778fb5-7045-450c-9607-3c89babc9a05_0   \n",
       "0    99778fb5-7045-450c-9607-3c89babc9a05_0   \n",
       "0    99778fb5-7045-450c-9607-3c89babc9a05_0   \n",
       "1    99778fb5-7045-450c-9607-3c89babc9a05_1   \n",
       "1    99778fb5-7045-450c-9607-3c89babc9a05_1   \n",
       "..                                      ...   \n",
       "242  e4264747-fe26-4f97-9c85-3d2f11caf937_0   \n",
       "242  e4264747-fe26-4f97-9c85-3d2f11caf937_0   \n",
       "243  e4264747-fe26-4f97-9c85-3d2f11caf937_1   \n",
       "243  e4264747-fe26-4f97-9c85-3d2f11caf937_1   \n",
       "243  e4264747-fe26-4f97-9c85-3d2f11caf937_1   \n",
       "\n",
       "                                            text_chunk  \\\n",
       "0    ©Kancelaria Sejmu \\n \\n \\n \\ns. 1/44 \\n \\n2024...   \n",
       "0    ©Kancelaria Sejmu \\n \\n \\n \\ns. 1/44 \\n \\n2024...   \n",
       "0    ©Kancelaria Sejmu \\n \\n \\n \\ns. 1/44 \\n \\n2024...   \n",
       "1    przedsiębiorstwa; \\n3) \\nzasady i tryb wykonan...   \n",
       "1    przedsiębiorstwa; \\n3) \\nzasady i tryb wykonan...   \n",
       "..                                                 ...   \n",
       "242  ©Kancelaria Sejmu \\n \\n \\n \\ns. 44/44 \\n \\n202...   \n",
       "242  ©Kancelaria Sejmu \\n \\n \\n \\ns. 44/44 \\n \\n202...   \n",
       "243  następujących towarów(*) umowy dostawy następu...   \n",
       "243  następujących towarów(*) umowy dostawy następu...   \n",
       "243  następujących towarów(*) umowy dostawy następu...   \n",
       "\n",
       "                                  page_id  \\\n",
       "0    99778fb5-7045-450c-9607-3c89babc9a05   \n",
       "0    99778fb5-7045-450c-9607-3c89babc9a05   \n",
       "0    99778fb5-7045-450c-9607-3c89babc9a05   \n",
       "1    99778fb5-7045-450c-9607-3c89babc9a05   \n",
       "1    99778fb5-7045-450c-9607-3c89babc9a05   \n",
       "..                                    ...   \n",
       "242  e4264747-fe26-4f97-9c85-3d2f11caf937   \n",
       "242  e4264747-fe26-4f97-9c85-3d2f11caf937   \n",
       "243  e4264747-fe26-4f97-9c85-3d2f11caf937   \n",
       "243  e4264747-fe26-4f97-9c85-3d2f11caf937   \n",
       "243  e4264747-fe26-4f97-9c85-3d2f11caf937   \n",
       "\n",
       "                                   generated_questions  \\\n",
       "0    - Jakie są główne obowiązki przedsiębiorcy wob...   \n",
       "0    - Jakie są główne obowiązki przedsiębiorcy wob...   \n",
       "0    - Jakie są główne obowiązki przedsiębiorcy wob...   \n",
       "1    - Jakie są główne zasady dotyczące prawa odstą...   \n",
       "1    - Jakie są główne zasady dotyczące prawa odstą...   \n",
       "..                                                 ...   \n",
       "242  - Jakie informacje powinny być zawarte w formu...   \n",
       "242  - Jakie informacje powinny być zawarte w formu...   \n",
       "243  - Jakie towary lub usługi mogą być objęte umow...   \n",
       "243  - Jakie towary lub usługi mogą być objęte umow...   \n",
       "243  - Jakie towary lub usługi mogą być objęte umow...   \n",
       "\n",
       "                                    questions_splitted  \\\n",
       "0    - Jakie są główne obowiązki przedsiębiorcy wob...   \n",
       "0    - Jakie zasady i tryb dotyczą zawierania umów ...   \n",
       "0    - Jakie są szczegółowe przepisy dotyczące praw...   \n",
       "1    - Jakie są główne zasady dotyczące prawa odstą...   \n",
       "1    - W jaki sposób ustawa reguluje zawieranie umó...   \n",
       "..                                                 ...   \n",
       "242  - Czy formularz odstąpienia od umowy można wys...   \n",
       "242  - Jakie są terminy na odstąpienie od umowy spr...   \n",
       "243  - Jakie towary lub usługi mogą być objęte umow...   \n",
       "243  - Jakie informacje są wymagane od konsumenta p...   \n",
       "243  - Czy podpis konsumenta jest obowiązkowy w prz...   \n",
       "\n",
       "                                            answer_200  \n",
       "0    Główne obowiązki przedsiębiorcy wobec konsumen...  \n",
       "0    Zasady i tryb zawierania umów na odległość i p...  \n",
       "0    Prawo konsumenta do odstąpienia od umowy regul...  \n",
       "1    Główne zasady dotyczące prawa odstąpienia od u...  \n",
       "1    Ustawa reguluje zawieranie umów na odległość d...  \n",
       "..                                                 ...  \n",
       "242  Formularz odstąpienia od umowy można wysłać w ...  \n",
       "242  Zgodnie z obowiązującymi przepisami, konsument...  \n",
       "243  Według podanego tekstu, umowa dostawy może obe...  \n",
       "243  Zgodnie z przedstawionym wzorem, wymagane info...  \n",
       "243  Nie, podpis konsumenta nie jest obowiązkowy w ...  \n",
       "\n",
       "[732 rows x 6 columns]"
      ],
      "text/html": [
       "<div>\n",
       "<style scoped>\n",
       "    .dataframe tbody tr th:only-of-type {\n",
       "        vertical-align: middle;\n",
       "    }\n",
       "\n",
       "    .dataframe tbody tr th {\n",
       "        vertical-align: top;\n",
       "    }\n",
       "\n",
       "    .dataframe thead th {\n",
       "        text-align: right;\n",
       "    }\n",
       "</style>\n",
       "<table border=\"1\" class=\"dataframe\">\n",
       "  <thead>\n",
       "    <tr style=\"text-align: right;\">\n",
       "      <th></th>\n",
       "      <th>chunk_id</th>\n",
       "      <th>text_chunk</th>\n",
       "      <th>page_id</th>\n",
       "      <th>generated_questions</th>\n",
       "      <th>questions_splitted</th>\n",
       "      <th>answer_200</th>\n",
       "    </tr>\n",
       "  </thead>\n",
       "  <tbody>\n",
       "    <tr>\n",
       "      <th>0</th>\n",
       "      <td>99778fb5-7045-450c-9607-3c89babc9a05_0</td>\n",
       "      <td>©Kancelaria Sejmu \\n \\n \\n \\ns. 1/44 \\n \\n2024...</td>\n",
       "      <td>99778fb5-7045-450c-9607-3c89babc9a05</td>\n",
       "      <td>- Jakie są główne obowiązki przedsiębiorcy wob...</td>\n",
       "      <td>- Jakie są główne obowiązki przedsiębiorcy wob...</td>\n",
       "      <td>Główne obowiązki przedsiębiorcy wobec konsumen...</td>\n",
       "    </tr>\n",
       "    <tr>\n",
       "      <th>0</th>\n",
       "      <td>99778fb5-7045-450c-9607-3c89babc9a05_0</td>\n",
       "      <td>©Kancelaria Sejmu \\n \\n \\n \\ns. 1/44 \\n \\n2024...</td>\n",
       "      <td>99778fb5-7045-450c-9607-3c89babc9a05</td>\n",
       "      <td>- Jakie są główne obowiązki przedsiębiorcy wob...</td>\n",
       "      <td>- Jakie zasady i tryb dotyczą zawierania umów ...</td>\n",
       "      <td>Zasady i tryb zawierania umów na odległość i p...</td>\n",
       "    </tr>\n",
       "    <tr>\n",
       "      <th>0</th>\n",
       "      <td>99778fb5-7045-450c-9607-3c89babc9a05_0</td>\n",
       "      <td>©Kancelaria Sejmu \\n \\n \\n \\ns. 1/44 \\n \\n2024...</td>\n",
       "      <td>99778fb5-7045-450c-9607-3c89babc9a05</td>\n",
       "      <td>- Jakie są główne obowiązki przedsiębiorcy wob...</td>\n",
       "      <td>- Jakie są szczegółowe przepisy dotyczące praw...</td>\n",
       "      <td>Prawo konsumenta do odstąpienia od umowy regul...</td>\n",
       "    </tr>\n",
       "    <tr>\n",
       "      <th>1</th>\n",
       "      <td>99778fb5-7045-450c-9607-3c89babc9a05_1</td>\n",
       "      <td>przedsiębiorstwa; \\n3) \\nzasady i tryb wykonan...</td>\n",
       "      <td>99778fb5-7045-450c-9607-3c89babc9a05</td>\n",
       "      <td>- Jakie są główne zasady dotyczące prawa odstą...</td>\n",
       "      <td>- Jakie są główne zasady dotyczące prawa odstą...</td>\n",
       "      <td>Główne zasady dotyczące prawa odstąpienia od u...</td>\n",
       "    </tr>\n",
       "    <tr>\n",
       "      <th>1</th>\n",
       "      <td>99778fb5-7045-450c-9607-3c89babc9a05_1</td>\n",
       "      <td>przedsiębiorstwa; \\n3) \\nzasady i tryb wykonan...</td>\n",
       "      <td>99778fb5-7045-450c-9607-3c89babc9a05</td>\n",
       "      <td>- Jakie są główne zasady dotyczące prawa odstą...</td>\n",
       "      <td>- W jaki sposób ustawa reguluje zawieranie umó...</td>\n",
       "      <td>Ustawa reguluje zawieranie umów na odległość d...</td>\n",
       "    </tr>\n",
       "    <tr>\n",
       "      <th>...</th>\n",
       "      <td>...</td>\n",
       "      <td>...</td>\n",
       "      <td>...</td>\n",
       "      <td>...</td>\n",
       "      <td>...</td>\n",
       "      <td>...</td>\n",
       "    </tr>\n",
       "    <tr>\n",
       "      <th>242</th>\n",
       "      <td>e4264747-fe26-4f97-9c85-3d2f11caf937_0</td>\n",
       "      <td>©Kancelaria Sejmu \\n \\n \\n \\ns. 44/44 \\n \\n202...</td>\n",
       "      <td>e4264747-fe26-4f97-9c85-3d2f11caf937</td>\n",
       "      <td>- Jakie informacje powinny być zawarte w formu...</td>\n",
       "      <td>- Czy formularz odstąpienia od umowy można wys...</td>\n",
       "      <td>Formularz odstąpienia od umowy można wysłać w ...</td>\n",
       "    </tr>\n",
       "    <tr>\n",
       "      <th>242</th>\n",
       "      <td>e4264747-fe26-4f97-9c85-3d2f11caf937_0</td>\n",
       "      <td>©Kancelaria Sejmu \\n \\n \\n \\ns. 44/44 \\n \\n202...</td>\n",
       "      <td>e4264747-fe26-4f97-9c85-3d2f11caf937</td>\n",
       "      <td>- Jakie informacje powinny być zawarte w formu...</td>\n",
       "      <td>- Jakie są terminy na odstąpienie od umowy spr...</td>\n",
       "      <td>Zgodnie z obowiązującymi przepisami, konsument...</td>\n",
       "    </tr>\n",
       "    <tr>\n",
       "      <th>243</th>\n",
       "      <td>e4264747-fe26-4f97-9c85-3d2f11caf937_1</td>\n",
       "      <td>następujących towarów(*) umowy dostawy następu...</td>\n",
       "      <td>e4264747-fe26-4f97-9c85-3d2f11caf937</td>\n",
       "      <td>- Jakie towary lub usługi mogą być objęte umow...</td>\n",
       "      <td>- Jakie towary lub usługi mogą być objęte umow...</td>\n",
       "      <td>Według podanego tekstu, umowa dostawy może obe...</td>\n",
       "    </tr>\n",
       "    <tr>\n",
       "      <th>243</th>\n",
       "      <td>e4264747-fe26-4f97-9c85-3d2f11caf937_1</td>\n",
       "      <td>następujących towarów(*) umowy dostawy następu...</td>\n",
       "      <td>e4264747-fe26-4f97-9c85-3d2f11caf937</td>\n",
       "      <td>- Jakie towary lub usługi mogą być objęte umow...</td>\n",
       "      <td>- Jakie informacje są wymagane od konsumenta p...</td>\n",
       "      <td>Zgodnie z przedstawionym wzorem, wymagane info...</td>\n",
       "    </tr>\n",
       "    <tr>\n",
       "      <th>243</th>\n",
       "      <td>e4264747-fe26-4f97-9c85-3d2f11caf937_1</td>\n",
       "      <td>następujących towarów(*) umowy dostawy następu...</td>\n",
       "      <td>e4264747-fe26-4f97-9c85-3d2f11caf937</td>\n",
       "      <td>- Jakie towary lub usługi mogą być objęte umow...</td>\n",
       "      <td>- Czy podpis konsumenta jest obowiązkowy w prz...</td>\n",
       "      <td>Nie, podpis konsumenta nie jest obowiązkowy w ...</td>\n",
       "    </tr>\n",
       "  </tbody>\n",
       "</table>\n",
       "<p>732 rows × 6 columns</p>\n",
       "</div>"
      ]
     },
     "execution_count": 18,
     "metadata": {},
     "output_type": "execute_result"
    }
   ],
   "execution_count": 18
  },
  {
   "metadata": {
    "ExecuteTime": {
     "end_time": "2025-01-26T21:41:20.132257Z",
     "start_time": "2025-01-26T21:41:20.060521Z"
    }
   },
   "cell_type": "code",
   "source": "df.to_csv('data/data_26_01_2025.csv', index=False, sep=';')",
   "id": "ca3e7744711b2b0f",
   "outputs": [],
   "execution_count": 19
  },
  {
   "cell_type": "markdown",
   "source": [
    "To validate if GPT \"listened\" to our instruction with token limitation, let's count tokens and plot the histogram. As shown, the model generated answer mostly within the range of 100-300 tokens.   "
   ],
   "metadata": {
    "collapsed": false
   },
   "id": "239ba8725294cc89"
  },
  {
   "cell_type": "code",
   "source": [
    "df['n_tokens_ans_200'] = df['answer_200'].apply(lambda x: get_number_of_tokens(text=x))\n",
    "pd.plotting.hist_series(df['n_tokens_ans_200'])"
   ],
   "metadata": {
    "collapsed": false,
    "ExecuteTime": {
     "end_time": "2025-01-26T21:41:26.815423Z",
     "start_time": "2025-01-26T21:41:24.407983Z"
    }
   },
   "id": "870ffa4a00d9540c",
   "outputs": [
    {
     "data": {
      "text/plain": [
       "<Axes: >"
      ]
     },
     "execution_count": 20,
     "metadata": {},
     "output_type": "execute_result"
    },
    {
     "data": {
      "text/plain": [
       "<Figure size 640x480 with 1 Axes>"
      ],
      "image/png": "[encoded data removed]"
     },
     "metadata": {},
     "output_type": "display_data"
    }
   ],
   "execution_count": 20
  },
  {
   "cell_type": "markdown",
   "source": [
    "## Verifing the quality of generated answers and questions based on selected metrics\n",
    "To verify the quality of our text generation in relation to text chunk there are couple metrics we can use:\n",
    "- Coverage \n",
    "- Coherence (Consistency)\n",
    "- Diversity (based on Word Mover Distance)\n",
    "- Relevance\n",
    "- Global relevance\n",
    "\n",
    "Majority of the metrics are based on the LLM own capability to assess it's own work. This has been proven and it is often used in various evaluation frameworks like RAGAS.\n",
    "Here metrics are chosen carefully based on article from Microsoft -  https://arxiv.org/abs/2401.08406\n",
    "\n",
    "Briefly, we can describe the metrics in the way prompt instruction is constructed:\n",
    "- coverage - Your task is to rate from 1 to 5 if the question can be extracted from the context.\n",
    "- coherence - Your task is to rate from 1 to 5 the coherence (fluency) of the question and provide explanation.\n",
    "- relevance - Your task is to rate from 1 to 5 if the provided question could be asked by a lawyer then rate 5, and rate 1 if not based on the question and context.\n",
    "- global relevance - Your task is to rate from 1 to 5 if the provided question could be asked by a lawyer then rate 5, and rate 1 if not based on the question.\n",
    "- diversity - not LLM based metric. To calculate this we used Word Mover Distance (WMD). \n"
   ],
   "metadata": {
    "collapsed": false
   },
   "id": "9cae6a0dbd3cb4ce"
  },
  {
   "cell_type": "code",
   "source": [
    "df['coverage_rating'] = df.apply(lambda x: OpenAIReq(model=model_version).call_api(prompt=PromptBuilder.get_coverage(question=x['questions_splitted'], context=x['text_chunk'])), axis=1)\n",
    "pd.plotting.hist_series(df['coverage_rating'])"
   ],
   "metadata": {
    "collapsed": false,
    "ExecuteTime": {
     "end_time": "2025-01-26T21:56:43.277695Z",
     "start_time": "2025-01-26T21:50:38.579473Z"
    }
   },
   "id": "2236331b1ab02459",
   "outputs": [
    {
     "data": {
      "text/plain": [
       "<Axes: >"
      ]
     },
     "execution_count": 22,
     "metadata": {},
     "output_type": "execute_result"
    },
    {
     "data": {
      "text/plain": [
       "<Figure size 640x480 with 1 Axes>"
      ],
      "image/png": "[encoded data removed]"
     },
     "metadata": {},
     "output_type": "display_data"
    }
   ],
   "execution_count": 22
  },
  {
   "cell_type": "code",
   "source": [
    "dist_evaluator = DistanceEvaluator()"
   ],
   "metadata": {
    "collapsed": false,
    "ExecuteTime": {
     "end_time": "2025-01-26T21:57:08.341789Z",
     "start_time": "2025-01-26T21:56:59.294680Z"
    }
   },
   "id": "50ae52f32b690618",
   "outputs": [],
   "execution_count": 23
  },
  {
   "cell_type": "code",
   "source": [
    "df[f'wmd_question_answer_{answer_tokens}'] = df.apply(lambda x: dist_evaluator.get_diversity_by_wmd(x['questions_splitted'], x[f'answer_{answer_tokens}']), axis=1)"
   ],
   "metadata": {
    "collapsed": false,
    "ExecuteTime": {
     "end_time": "2025-01-26T21:57:15.697534Z",
     "start_time": "2025-01-26T21:57:09.315214Z"
    }
   },
   "id": "be23fa01b82a2a33",
   "outputs": [],
   "execution_count": 24
  },
  {
   "cell_type": "code",
   "source": [
    "pd.plotting.hist_series(df['wmd_question_answer_200'])"
   ],
   "metadata": {
    "collapsed": false,
    "ExecuteTime": {
     "end_time": "2025-01-26T21:57:16.876321Z",
     "start_time": "2025-01-26T21:57:16.719317Z"
    }
   },
   "id": "3b85abc6fba03762",
   "outputs": [
    {
     "data": {
      "text/plain": [
       "<Axes: >"
      ]
     },
     "execution_count": 25,
     "metadata": {},
     "output_type": "execute_result"
    },
    {
     "data": {
      "text/plain": [
       "<Figure size 640x480 with 1 Axes>"
      ],
      "image/png": "[encoded data removed]"
     },
     "metadata": {},
     "output_type": "display_data"
    }
   ],
   "execution_count": 25
  },
  {
   "cell_type": "code",
   "source": [
    "df['wmd_chunk_question'] = df.apply(lambda x: dist_evaluator.get_diversity_by_wmd(x['text_chunk'], x['questions_splitted']), axis=1)"
   ],
   "metadata": {
    "collapsed": false,
    "ExecuteTime": {
     "end_time": "2025-01-26T21:57:24.944849Z",
     "start_time": "2025-01-26T21:57:24.480977Z"
    }
   },
   "id": "b8810e6c5f0a1f2d",
   "outputs": [],
   "execution_count": 26
  },
  {
   "cell_type": "code",
   "source": [
    "pd.plotting.hist_series(df['wmd_chunk_question'])"
   ],
   "metadata": {
    "collapsed": false,
    "ExecuteTime": {
     "end_time": "2025-01-26T21:57:32.229940Z",
     "start_time": "2025-01-26T21:57:32.081939Z"
    }
   },
   "id": "dc220eed2c502e94",
   "outputs": [
    {
     "data": {
      "text/plain": [
       "<Axes: >"
      ]
     },
     "execution_count": 27,
     "metadata": {},
     "output_type": "execute_result"
    },
    {
     "data": {
      "text/plain": [
       "<Figure size 640x480 with 1 Axes>"
      ],
      "image/png": "[encoded data removed]"
     },
     "metadata": {},
     "output_type": "display_data"
    }
   ],
   "execution_count": 27
  },
  {
   "cell_type": "code",
   "source": "df['coherence_pl'] = df['questions_splitted'].apply(lambda x: OpenAIReq(model=model_version).call_api(prompt=PromptBuilder.get_coherence_pl(x)))",
   "metadata": {
    "collapsed": false,
    "ExecuteTime": {
     "end_time": "2025-01-26T22:14:22.026869Z",
     "start_time": "2025-01-26T21:58:00.679763Z"
    }
   },
   "id": "1e2d4ac83e021dd8",
   "outputs": [],
   "execution_count": 28
  },
  {
   "cell_type": "code",
   "source": [
    "#df[['coherence_rate_pl', 'coherence_expl_pl']] = df.coherence_pl.str.split(',', n=1,  expand=True)\n",
    "df[['relevance_score', 'relevance_expl']] = df.relevance.str.split(',', n=1,  expand=True)\n"
   ],
   "metadata": {
    "collapsed": false,
    "ExecuteTime": {
     "end_time": "2025-01-29T22:52:59.187217Z",
     "start_time": "2025-01-29T22:52:59.140218Z"
    }
   },
   "id": "e268a89807a37499",
   "outputs": [],
   "execution_count": 9
  },
  {
   "metadata": {
    "ExecuteTime": {
     "end_time": "2025-01-29T22:53:07.662663Z",
     "start_time": "2025-01-29T22:53:07.612665Z"
    }
   },
   "cell_type": "code",
   "source": "df[['relevance_score', 'relevance_expl']]",
   "id": "661b815c6b012c26",
   "outputs": [
    {
     "data": {
      "text/plain": [
       "              relevance_score  \\\n",
       "0    ```json\\n{\\n  \"score\": 5   \n",
       "1    ```json\\n{\\n  \"score\": 5   \n",
       "2    ```json\\n{\\n  \"score\": 5   \n",
       "3    ```json\\n{\\n  \"score\": 5   \n",
       "4    ```json\\n{\\n  \"score\": 4   \n",
       "..                        ...   \n",
       "727  ```json\\n{\\n  \"score\": 4   \n",
       "728  ```json\\n{\\n  \"score\": 5   \n",
       "729  ```json\\n{\\n  \"score\": 4   \n",
       "730  ```json\\n{\\n  \"score\": 4   \n",
       "731  ```json\\n{\\n  \"score\": 4   \n",
       "\n",
       "                                        relevance_expl  \n",
       "0    \\n  \"explanation\": \"Pytanie dotyczące głównych...  \n",
       "1    \\n  \"explanation\": \"Pytanie dotyczące zasad i ...  \n",
       "2    \\n  \"explanation\": \"Pytanie dotyczące szczegół...  \n",
       "3    \\n  \"explanation\": \"Pytanie jest precyzyjne i ...  \n",
       "4    \\n  \"explanation\": \"Pytanie dotyczące regulacj...  \n",
       "..                                                 ...  \n",
       "727  \\n  \"explanation\": \"Pytanie dotyczące możliwoś...  \n",
       "728  \\n  \"explanation\": \"Pytanie dotyczące terminów...  \n",
       "729  \\n  \"explanation\": \"Pytanie jest dobrze sformu...  \n",
       "730  \\n  \"explanation\": \"Pytanie jest dobrze sformu...  \n",
       "731  \\n  \"explanation\": \"Pytanie dotyczące obowiązk...  \n",
       "\n",
       "[732 rows x 2 columns]"
      ],
      "text/html": [
       "<div>\n",
       "<style scoped>\n",
       "    .dataframe tbody tr th:only-of-type {\n",
       "        vertical-align: middle;\n",
       "    }\n",
       "\n",
       "    .dataframe tbody tr th {\n",
       "        vertical-align: top;\n",
       "    }\n",
       "\n",
       "    .dataframe thead th {\n",
       "        text-align: right;\n",
       "    }\n",
       "</style>\n",
       "<table border=\"1\" class=\"dataframe\">\n",
       "  <thead>\n",
       "    <tr style=\"text-align: right;\">\n",
       "      <th></th>\n",
       "      <th>relevance_score</th>\n",
       "      <th>relevance_expl</th>\n",
       "    </tr>\n",
       "  </thead>\n",
       "  <tbody>\n",
       "    <tr>\n",
       "      <th>0</th>\n",
       "      <td>```json\\n{\\n  \"score\": 5</td>\n",
       "      <td>\\n  \"explanation\": \"Pytanie dotyczące głównych...</td>\n",
       "    </tr>\n",
       "    <tr>\n",
       "      <th>1</th>\n",
       "      <td>```json\\n{\\n  \"score\": 5</td>\n",
       "      <td>\\n  \"explanation\": \"Pytanie dotyczące zasad i ...</td>\n",
       "    </tr>\n",
       "    <tr>\n",
       "      <th>2</th>\n",
       "      <td>```json\\n{\\n  \"score\": 5</td>\n",
       "      <td>\\n  \"explanation\": \"Pytanie dotyczące szczegół...</td>\n",
       "    </tr>\n",
       "    <tr>\n",
       "      <th>3</th>\n",
       "      <td>```json\\n{\\n  \"score\": 5</td>\n",
       "      <td>\\n  \"explanation\": \"Pytanie jest precyzyjne i ...</td>\n",
       "    </tr>\n",
       "    <tr>\n",
       "      <th>4</th>\n",
       "      <td>```json\\n{\\n  \"score\": 4</td>\n",
       "      <td>\\n  \"explanation\": \"Pytanie dotyczące regulacj...</td>\n",
       "    </tr>\n",
       "    <tr>\n",
       "      <th>...</th>\n",
       "      <td>...</td>\n",
       "      <td>...</td>\n",
       "    </tr>\n",
       "    <tr>\n",
       "      <th>727</th>\n",
       "      <td>```json\\n{\\n  \"score\": 4</td>\n",
       "      <td>\\n  \"explanation\": \"Pytanie dotyczące możliwoś...</td>\n",
       "    </tr>\n",
       "    <tr>\n",
       "      <th>728</th>\n",
       "      <td>```json\\n{\\n  \"score\": 5</td>\n",
       "      <td>\\n  \"explanation\": \"Pytanie dotyczące terminów...</td>\n",
       "    </tr>\n",
       "    <tr>\n",
       "      <th>729</th>\n",
       "      <td>```json\\n{\\n  \"score\": 4</td>\n",
       "      <td>\\n  \"explanation\": \"Pytanie jest dobrze sformu...</td>\n",
       "    </tr>\n",
       "    <tr>\n",
       "      <th>730</th>\n",
       "      <td>```json\\n{\\n  \"score\": 4</td>\n",
       "      <td>\\n  \"explanation\": \"Pytanie jest dobrze sformu...</td>\n",
       "    </tr>\n",
       "    <tr>\n",
       "      <th>731</th>\n",
       "      <td>```json\\n{\\n  \"score\": 4</td>\n",
       "      <td>\\n  \"explanation\": \"Pytanie dotyczące obowiązk...</td>\n",
       "    </tr>\n",
       "  </tbody>\n",
       "</table>\n",
       "<p>732 rows × 2 columns</p>\n",
       "</div>"
      ]
     },
     "execution_count": 10,
     "metadata": {},
     "output_type": "execute_result"
    }
   ],
   "execution_count": 10
  },
  {
   "metadata": {
    "ExecuteTime": {
     "end_time": "2025-01-29T22:02:51.815032Z",
     "start_time": "2025-01-29T22:02:51.496033Z"
    }
   },
   "cell_type": "code",
   "source": [
    "df = pd.read_excel('data/full_26_01_2025.xlsx')\n",
    "df"
   ],
   "id": "57be087e7aa88b1f",
   "outputs": [
    {
     "data": {
      "text/plain": [
       "                                   chunk_id  \\\n",
       "0    99778fb5-7045-450c-9607-3c89babc9a05_0   \n",
       "1    99778fb5-7045-450c-9607-3c89babc9a05_0   \n",
       "2    99778fb5-7045-450c-9607-3c89babc9a05_0   \n",
       "3    99778fb5-7045-450c-9607-3c89babc9a05_1   \n",
       "4    99778fb5-7045-450c-9607-3c89babc9a05_1   \n",
       "..                                      ...   \n",
       "727  e4264747-fe26-4f97-9c85-3d2f11caf937_0   \n",
       "728  e4264747-fe26-4f97-9c85-3d2f11caf937_0   \n",
       "729  e4264747-fe26-4f97-9c85-3d2f11caf937_1   \n",
       "730  e4264747-fe26-4f97-9c85-3d2f11caf937_1   \n",
       "731  e4264747-fe26-4f97-9c85-3d2f11caf937_1   \n",
       "\n",
       "                                            text_chunk  \\\n",
       "0    ©Kancelaria Sejmu \\n \\n \\n \\ns. 1/44 \\n \\n2024...   \n",
       "1    ©Kancelaria Sejmu \\n \\n \\n \\ns. 1/44 \\n \\n2024...   \n",
       "2    ©Kancelaria Sejmu \\n \\n \\n \\ns. 1/44 \\n \\n2024...   \n",
       "3    przedsiębiorstwa; \\n3) \\nzasady i tryb wykonan...   \n",
       "4    przedsiębiorstwa; \\n3) \\nzasady i tryb wykonan...   \n",
       "..                                                 ...   \n",
       "727  ©Kancelaria Sejmu \\n \\n \\n \\ns. 44/44 \\n \\n202...   \n",
       "728  ©Kancelaria Sejmu \\n \\n \\n \\ns. 44/44 \\n \\n202...   \n",
       "729  następujących towarów(*) umowy dostawy następu...   \n",
       "730  następujących towarów(*) umowy dostawy następu...   \n",
       "731  następujących towarów(*) umowy dostawy następu...   \n",
       "\n",
       "                                  page_id  \\\n",
       "0    99778fb5-7045-450c-9607-3c89babc9a05   \n",
       "1    99778fb5-7045-450c-9607-3c89babc9a05   \n",
       "2    99778fb5-7045-450c-9607-3c89babc9a05   \n",
       "3    99778fb5-7045-450c-9607-3c89babc9a05   \n",
       "4    99778fb5-7045-450c-9607-3c89babc9a05   \n",
       "..                                    ...   \n",
       "727  e4264747-fe26-4f97-9c85-3d2f11caf937   \n",
       "728  e4264747-fe26-4f97-9c85-3d2f11caf937   \n",
       "729  e4264747-fe26-4f97-9c85-3d2f11caf937   \n",
       "730  e4264747-fe26-4f97-9c85-3d2f11caf937   \n",
       "731  e4264747-fe26-4f97-9c85-3d2f11caf937   \n",
       "\n",
       "                                   generated_questions  \\\n",
       "0    - Jakie są główne obowiązki przedsiębiorcy wob...   \n",
       "1    - Jakie są główne obowiązki przedsiębiorcy wob...   \n",
       "2    - Jakie są główne obowiązki przedsiębiorcy wob...   \n",
       "3    - Jakie są główne zasady dotyczące prawa odstą...   \n",
       "4    - Jakie są główne zasady dotyczące prawa odstą...   \n",
       "..                                                 ...   \n",
       "727  - Jakie informacje powinny być zawarte w formu...   \n",
       "728  - Jakie informacje powinny być zawarte w formu...   \n",
       "729  - Jakie towary lub usługi mogą być objęte umow...   \n",
       "730  - Jakie towary lub usługi mogą być objęte umow...   \n",
       "731  - Jakie towary lub usługi mogą być objęte umow...   \n",
       "\n",
       "                                    questions_splitted  \\\n",
       "0    - Jakie są główne obowiązki przedsiębiorcy wob...   \n",
       "1    - Jakie zasady i tryb dotyczą zawierania umów ...   \n",
       "2    - Jakie są szczegółowe przepisy dotyczące praw...   \n",
       "3    - Jakie są główne zasady dotyczące prawa odstą...   \n",
       "4    - W jaki sposób ustawa reguluje zawieranie umó...   \n",
       "..                                                 ...   \n",
       "727  - Czy formularz odstąpienia od umowy można wys...   \n",
       "728  - Jakie są terminy na odstąpienie od umowy spr...   \n",
       "729  - Jakie towary lub usługi mogą być objęte umow...   \n",
       "730  - Jakie informacje są wymagane od konsumenta p...   \n",
       "731  - Czy podpis konsumenta jest obowiązkowy w prz...   \n",
       "\n",
       "                                            answer_200  n_tokens_ans_200  \\\n",
       "0    Główne obowiązki przedsiębiorcy wobec konsumen...               325   \n",
       "1    Zasady i tryb zawierania umów na odległość i p...               234   \n",
       "2    Prawo konsumenta do odstąpienia od umowy regul...               259   \n",
       "3    Główne zasady dotyczące prawa odstąpienia od u...               328   \n",
       "4    Ustawa reguluje zawieranie umów na odległość d...               237   \n",
       "..                                                 ...               ...   \n",
       "727  Formularz odstąpienia od umowy można wysłać w ...               143   \n",
       "728  Zgodnie z obowiązującymi przepisami, konsument...               195   \n",
       "729  Według podanego tekstu, umowa dostawy może obe...               160   \n",
       "730  Zgodnie z przedstawionym wzorem, wymagane info...               166   \n",
       "731  Nie, podpis konsumenta nie jest obowiązkowy w ...               174   \n",
       "\n",
       "     coverage_rating  wmd_question_answer_200  wmd_chunk_question  \\\n",
       "0                  5                 0.174457            0.249545   \n",
       "1                  5                 0.185090            0.220349   \n",
       "2                  5                 0.199740            0.276844   \n",
       "3                  5                 0.176067            0.179241   \n",
       "4                  5                 0.187992            0.243796   \n",
       "..               ...                      ...                 ...   \n",
       "727                4                 0.157546            0.228782   \n",
       "728                4                 0.194363            0.239988   \n",
       "729                5                 0.245816            0.325671   \n",
       "730                5                 0.168693            0.304204   \n",
       "731                2                 0.183296            0.245831   \n",
       "\n",
       "                                          coherence_pl coherence_rate_pl  \\\n",
       "0    {\\n  \"score\": 4,\\n  \"explanation\": \"Tekst jest...   {\\n  \"score\": 4   \n",
       "1    {\\n  \"score\": 4,\\n  \"explanation\": \"Tekst jest...   {\\n  \"score\": 4   \n",
       "2    {\\n  \"score\": 4,\\n  \"explanation\": \"Oceniłem t...   {\\n  \"score\": 4   \n",
       "3    {\\n  \"score\": 4,\\n  \"explanation\": \"Tekst jest...   {\\n  \"score\": 4   \n",
       "4    {\\n  \"score\": 4,\\n  \"explanation\": \"Tekst jest...   {\\n  \"score\": 4   \n",
       "..                                                 ...               ...   \n",
       "727  {\\n  \"score\": 4,\\n  \"explanation\": \"Oceniłem t...   {\\n  \"score\": 4   \n",
       "728  {\\n  \"score\": 3,\\n  \"explanation\": \"Tekst jest...   {\\n  \"score\": 3   \n",
       "729  {\\n  \"score\": 4,\\n  \"explanation\": \"Tekst jest...   {\\n  \"score\": 4   \n",
       "730  {\\n  \"score\": 4,\\n  \"explanation\": \"Oceniłem t...   {\\n  \"score\": 4   \n",
       "731  {\\n  \"score\": 4,\\n  \"explanation\": \"Tekst jest...   {\\n  \"score\": 4   \n",
       "\n",
       "                                     coherence_expl_pl  \\\n",
       "0    \\n  \"explanation\": \"Tekst jest zrozumiały i kl...   \n",
       "1    \\n  \"explanation\": \"Tekst jest zrozumiały i kl...   \n",
       "2    \\n  \"explanation\": \"Oceniłem tekst na 4, ponie...   \n",
       "3    \\n  \"explanation\": \"Tekst jest zrozumiały i kl...   \n",
       "4    \\n  \"explanation\": \"Tekst jest spójny, poniewa...   \n",
       "..                                                 ...   \n",
       "727  \\n  \"explanation\": \"Oceniłem tekst na 4, ponie...   \n",
       "728  \\n  \"explanation\": \"Tekst jest dość klarowny i...   \n",
       "729  \\n  \"explanation\": \"Tekst jest spójny i klarow...   \n",
       "730  \\n  \"explanation\": \"Oceniłem tekst na 4, ponie...   \n",
       "731  \\n  \"explanation\": \"Tekst jest zrozumiały i kl...   \n",
       "\n",
       "                                             relevance global_relevance  \n",
       "0    Ocena: 5\\n\\nPytanie \"Jakie są główne obowiązki...                4  \n",
       "1                                                    5         Ocena: 5  \n",
       "2                                                    5                4  \n",
       "3                                             Ocena: 4                4  \n",
       "4                                             Ocena: 4                5  \n",
       "..                                                 ...              ...  \n",
       "727  Na podstawie podanego fragmentu tekstu, można ...                4  \n",
       "728  Ocena: 5\\n\\nPytanie \"Jakie są terminy na odstą...         Ocena: 4  \n",
       "729                                                  4                4  \n",
       "730                                           Ocena: 4         Ocena: 4  \n",
       "731  Ocena: 5\\n\\nW kontekście wymienionych towarów ...                4  \n",
       "\n",
       "[732 rows x 15 columns]"
      ],
      "text/html": [
       "<div>\n",
       "<style scoped>\n",
       "    .dataframe tbody tr th:only-of-type {\n",
       "        vertical-align: middle;\n",
       "    }\n",
       "\n",
       "    .dataframe tbody tr th {\n",
       "        vertical-align: top;\n",
       "    }\n",
       "\n",
       "    .dataframe thead th {\n",
       "        text-align: right;\n",
       "    }\n",
       "</style>\n",
       "<table border=\"1\" class=\"dataframe\">\n",
       "  <thead>\n",
       "    <tr style=\"text-align: right;\">\n",
       "      <th></th>\n",
       "      <th>chunk_id</th>\n",
       "      <th>text_chunk</th>\n",
       "      <th>page_id</th>\n",
       "      <th>generated_questions</th>\n",
       "      <th>questions_splitted</th>\n",
       "      <th>answer_200</th>\n",
       "      <th>n_tokens_ans_200</th>\n",
       "      <th>coverage_rating</th>\n",
       "      <th>wmd_question_answer_200</th>\n",
       "      <th>wmd_chunk_question</th>\n",
       "      <th>coherence_pl</th>\n",
       "      <th>coherence_rate_pl</th>\n",
       "      <th>coherence_expl_pl</th>\n",
       "      <th>relevance</th>\n",
       "      <th>global_relevance</th>\n",
       "    </tr>\n",
       "  </thead>\n",
       "  <tbody>\n",
       "    <tr>\n",
       "      <th>0</th>\n",
       "      <td>99778fb5-7045-450c-9607-3c89babc9a05_0</td>\n",
       "      <td>©Kancelaria Sejmu \\n \\n \\n \\ns. 1/44 \\n \\n2024...</td>\n",
       "      <td>99778fb5-7045-450c-9607-3c89babc9a05</td>\n",
       "      <td>- Jakie są główne obowiązki przedsiębiorcy wob...</td>\n",
       "      <td>- Jakie są główne obowiązki przedsiębiorcy wob...</td>\n",
       "      <td>Główne obowiązki przedsiębiorcy wobec konsumen...</td>\n",
       "      <td>325</td>\n",
       "      <td>5</td>\n",
       "      <td>0.174457</td>\n",
       "      <td>0.249545</td>\n",
       "      <td>{\\n  \"score\": 4,\\n  \"explanation\": \"Tekst jest...</td>\n",
       "      <td>{\\n  \"score\": 4</td>\n",
       "      <td>\\n  \"explanation\": \"Tekst jest zrozumiały i kl...</td>\n",
       "      <td>Ocena: 5\\n\\nPytanie \"Jakie są główne obowiązki...</td>\n",
       "      <td>4</td>\n",
       "    </tr>\n",
       "    <tr>\n",
       "      <th>1</th>\n",
       "      <td>99778fb5-7045-450c-9607-3c89babc9a05_0</td>\n",
       "      <td>©Kancelaria Sejmu \\n \\n \\n \\ns. 1/44 \\n \\n2024...</td>\n",
       "      <td>99778fb5-7045-450c-9607-3c89babc9a05</td>\n",
       "      <td>- Jakie są główne obowiązki przedsiębiorcy wob...</td>\n",
       "      <td>- Jakie zasady i tryb dotyczą zawierania umów ...</td>\n",
       "      <td>Zasady i tryb zawierania umów na odległość i p...</td>\n",
       "      <td>234</td>\n",
       "      <td>5</td>\n",
       "      <td>0.185090</td>\n",
       "      <td>0.220349</td>\n",
       "      <td>{\\n  \"score\": 4,\\n  \"explanation\": \"Tekst jest...</td>\n",
       "      <td>{\\n  \"score\": 4</td>\n",
       "      <td>\\n  \"explanation\": \"Tekst jest zrozumiały i kl...</td>\n",
       "      <td>5</td>\n",
       "      <td>Ocena: 5</td>\n",
       "    </tr>\n",
       "    <tr>\n",
       "      <th>2</th>\n",
       "      <td>99778fb5-7045-450c-9607-3c89babc9a05_0</td>\n",
       "      <td>©Kancelaria Sejmu \\n \\n \\n \\ns. 1/44 \\n \\n2024...</td>\n",
       "      <td>99778fb5-7045-450c-9607-3c89babc9a05</td>\n",
       "      <td>- Jakie są główne obowiązki przedsiębiorcy wob...</td>\n",
       "      <td>- Jakie są szczegółowe przepisy dotyczące praw...</td>\n",
       "      <td>Prawo konsumenta do odstąpienia od umowy regul...</td>\n",
       "      <td>259</td>\n",
       "      <td>5</td>\n",
       "      <td>0.199740</td>\n",
       "      <td>0.276844</td>\n",
       "      <td>{\\n  \"score\": 4,\\n  \"explanation\": \"Oceniłem t...</td>\n",
       "      <td>{\\n  \"score\": 4</td>\n",
       "      <td>\\n  \"explanation\": \"Oceniłem tekst na 4, ponie...</td>\n",
       "      <td>5</td>\n",
       "      <td>4</td>\n",
       "    </tr>\n",
       "    <tr>\n",
       "      <th>3</th>\n",
       "      <td>99778fb5-7045-450c-9607-3c89babc9a05_1</td>\n",
       "      <td>przedsiębiorstwa; \\n3) \\nzasady i tryb wykonan...</td>\n",
       "      <td>99778fb5-7045-450c-9607-3c89babc9a05</td>\n",
       "      <td>- Jakie są główne zasady dotyczące prawa odstą...</td>\n",
       "      <td>- Jakie są główne zasady dotyczące prawa odstą...</td>\n",
       "      <td>Główne zasady dotyczące prawa odstąpienia od u...</td>\n",
       "      <td>328</td>\n",
       "      <td>5</td>\n",
       "      <td>0.176067</td>\n",
       "      <td>0.179241</td>\n",
       "      <td>{\\n  \"score\": 4,\\n  \"explanation\": \"Tekst jest...</td>\n",
       "      <td>{\\n  \"score\": 4</td>\n",
       "      <td>\\n  \"explanation\": \"Tekst jest zrozumiały i kl...</td>\n",
       "      <td>Ocena: 4</td>\n",
       "      <td>4</td>\n",
       "    </tr>\n",
       "    <tr>\n",
       "      <th>4</th>\n",
       "      <td>99778fb5-7045-450c-9607-3c89babc9a05_1</td>\n",
       "      <td>przedsiębiorstwa; \\n3) \\nzasady i tryb wykonan...</td>\n",
       "      <td>99778fb5-7045-450c-9607-3c89babc9a05</td>\n",
       "      <td>- Jakie są główne zasady dotyczące prawa odstą...</td>\n",
       "      <td>- W jaki sposób ustawa reguluje zawieranie umó...</td>\n",
       "      <td>Ustawa reguluje zawieranie umów na odległość d...</td>\n",
       "      <td>237</td>\n",
       "      <td>5</td>\n",
       "      <td>0.187992</td>\n",
       "      <td>0.243796</td>\n",
       "      <td>{\\n  \"score\": 4,\\n  \"explanation\": \"Tekst jest...</td>\n",
       "      <td>{\\n  \"score\": 4</td>\n",
       "      <td>\\n  \"explanation\": \"Tekst jest spójny, poniewa...</td>\n",
       "      <td>Ocena: 4</td>\n",
       "      <td>5</td>\n",
       "    </tr>\n",
       "    <tr>\n",
       "      <th>...</th>\n",
       "      <td>...</td>\n",
       "      <td>...</td>\n",
       "      <td>...</td>\n",
       "      <td>...</td>\n",
       "      <td>...</td>\n",
       "      <td>...</td>\n",
       "      <td>...</td>\n",
       "      <td>...</td>\n",
       "      <td>...</td>\n",
       "      <td>...</td>\n",
       "      <td>...</td>\n",
       "      <td>...</td>\n",
       "      <td>...</td>\n",
       "      <td>...</td>\n",
       "      <td>...</td>\n",
       "    </tr>\n",
       "    <tr>\n",
       "      <th>727</th>\n",
       "      <td>e4264747-fe26-4f97-9c85-3d2f11caf937_0</td>\n",
       "      <td>©Kancelaria Sejmu \\n \\n \\n \\ns. 44/44 \\n \\n202...</td>\n",
       "      <td>e4264747-fe26-4f97-9c85-3d2f11caf937</td>\n",
       "      <td>- Jakie informacje powinny być zawarte w formu...</td>\n",
       "      <td>- Czy formularz odstąpienia od umowy można wys...</td>\n",
       "      <td>Formularz odstąpienia od umowy można wysłać w ...</td>\n",
       "      <td>143</td>\n",
       "      <td>4</td>\n",
       "      <td>0.157546</td>\n",
       "      <td>0.228782</td>\n",
       "      <td>{\\n  \"score\": 4,\\n  \"explanation\": \"Oceniłem t...</td>\n",
       "      <td>{\\n  \"score\": 4</td>\n",
       "      <td>\\n  \"explanation\": \"Oceniłem tekst na 4, ponie...</td>\n",
       "      <td>Na podstawie podanego fragmentu tekstu, można ...</td>\n",
       "      <td>4</td>\n",
       "    </tr>\n",
       "    <tr>\n",
       "      <th>728</th>\n",
       "      <td>e4264747-fe26-4f97-9c85-3d2f11caf937_0</td>\n",
       "      <td>©Kancelaria Sejmu \\n \\n \\n \\ns. 44/44 \\n \\n202...</td>\n",
       "      <td>e4264747-fe26-4f97-9c85-3d2f11caf937</td>\n",
       "      <td>- Jakie informacje powinny być zawarte w formu...</td>\n",
       "      <td>- Jakie są terminy na odstąpienie od umowy spr...</td>\n",
       "      <td>Zgodnie z obowiązującymi przepisami, konsument...</td>\n",
       "      <td>195</td>\n",
       "      <td>4</td>\n",
       "      <td>0.194363</td>\n",
       "      <td>0.239988</td>\n",
       "      <td>{\\n  \"score\": 3,\\n  \"explanation\": \"Tekst jest...</td>\n",
       "      <td>{\\n  \"score\": 3</td>\n",
       "      <td>\\n  \"explanation\": \"Tekst jest dość klarowny i...</td>\n",
       "      <td>Ocena: 5\\n\\nPytanie \"Jakie są terminy na odstą...</td>\n",
       "      <td>Ocena: 4</td>\n",
       "    </tr>\n",
       "    <tr>\n",
       "      <th>729</th>\n",
       "      <td>e4264747-fe26-4f97-9c85-3d2f11caf937_1</td>\n",
       "      <td>następujących towarów(*) umowy dostawy następu...</td>\n",
       "      <td>e4264747-fe26-4f97-9c85-3d2f11caf937</td>\n",
       "      <td>- Jakie towary lub usługi mogą być objęte umow...</td>\n",
       "      <td>- Jakie towary lub usługi mogą być objęte umow...</td>\n",
       "      <td>Według podanego tekstu, umowa dostawy może obe...</td>\n",
       "      <td>160</td>\n",
       "      <td>5</td>\n",
       "      <td>0.245816</td>\n",
       "      <td>0.325671</td>\n",
       "      <td>{\\n  \"score\": 4,\\n  \"explanation\": \"Tekst jest...</td>\n",
       "      <td>{\\n  \"score\": 4</td>\n",
       "      <td>\\n  \"explanation\": \"Tekst jest spójny i klarow...</td>\n",
       "      <td>4</td>\n",
       "      <td>4</td>\n",
       "    </tr>\n",
       "    <tr>\n",
       "      <th>730</th>\n",
       "      <td>e4264747-fe26-4f97-9c85-3d2f11caf937_1</td>\n",
       "      <td>następujących towarów(*) umowy dostawy następu...</td>\n",
       "      <td>e4264747-fe26-4f97-9c85-3d2f11caf937</td>\n",
       "      <td>- Jakie towary lub usługi mogą być objęte umow...</td>\n",
       "      <td>- Jakie informacje są wymagane od konsumenta p...</td>\n",
       "      <td>Zgodnie z przedstawionym wzorem, wymagane info...</td>\n",
       "      <td>166</td>\n",
       "      <td>5</td>\n",
       "      <td>0.168693</td>\n",
       "      <td>0.304204</td>\n",
       "      <td>{\\n  \"score\": 4,\\n  \"explanation\": \"Oceniłem t...</td>\n",
       "      <td>{\\n  \"score\": 4</td>\n",
       "      <td>\\n  \"explanation\": \"Oceniłem tekst na 4, ponie...</td>\n",
       "      <td>Ocena: 4</td>\n",
       "      <td>Ocena: 4</td>\n",
       "    </tr>\n",
       "    <tr>\n",
       "      <th>731</th>\n",
       "      <td>e4264747-fe26-4f97-9c85-3d2f11caf937_1</td>\n",
       "      <td>następujących towarów(*) umowy dostawy następu...</td>\n",
       "      <td>e4264747-fe26-4f97-9c85-3d2f11caf937</td>\n",
       "      <td>- Jakie towary lub usługi mogą być objęte umow...</td>\n",
       "      <td>- Czy podpis konsumenta jest obowiązkowy w prz...</td>\n",
       "      <td>Nie, podpis konsumenta nie jest obowiązkowy w ...</td>\n",
       "      <td>174</td>\n",
       "      <td>2</td>\n",
       "      <td>0.183296</td>\n",
       "      <td>0.245831</td>\n",
       "      <td>{\\n  \"score\": 4,\\n  \"explanation\": \"Tekst jest...</td>\n",
       "      <td>{\\n  \"score\": 4</td>\n",
       "      <td>\\n  \"explanation\": \"Tekst jest zrozumiały i kl...</td>\n",
       "      <td>Ocena: 5\\n\\nW kontekście wymienionych towarów ...</td>\n",
       "      <td>4</td>\n",
       "    </tr>\n",
       "  </tbody>\n",
       "</table>\n",
       "<p>732 rows × 15 columns</p>\n",
       "</div>"
      ]
     },
     "execution_count": 5,
     "metadata": {},
     "output_type": "execute_result"
    }
   ],
   "execution_count": 5
  },
  {
   "metadata": {
    "ExecuteTime": {
     "end_time": "2025-01-29T22:03:05.510418Z",
     "start_time": "2025-01-29T22:03:05.449325Z"
    }
   },
   "cell_type": "code",
   "source": [
    "def get_score(x):\n",
    "    digits = [int(s) for s in x.split() if s.isdigit()]\n",
    "    return digits[0] if len(digits) > 0 else 0"
   ],
   "id": "558c4aae909f38d6",
   "outputs": [],
   "execution_count": 6
  },
  {
   "metadata": {
    "ExecuteTime": {
     "end_time": "2025-01-29T22:54:00.342128Z",
     "start_time": "2025-01-29T22:54:00.284359Z"
    }
   },
   "cell_type": "code",
   "source": [
    "df['coherence_rate_pl'] = df['coherence_rate_pl'].apply(get_score)\n",
    "df['global_relevance'] = df['global_relevance'].apply(get_score)\n",
    "df['relevance'] = df['relevance_score'].apply(get_score)"
   ],
   "id": "f231f6b8615f6ce6",
   "outputs": [],
   "execution_count": 12
  },
  {
   "metadata": {
    "ExecuteTime": {
     "end_time": "2025-01-29T22:54:01.844478Z",
     "start_time": "2025-01-29T22:54:01.787289Z"
    }
   },
   "cell_type": "code",
   "source": "df['relevance'].value_counts(dropna=False)",
   "id": "de155b8a599b083a",
   "outputs": [
    {
     "data": {
      "text/plain": [
       "relevance\n",
       "4    407\n",
       "5    320\n",
       "2      3\n",
       "1      1\n",
       "3      1\n",
       "Name: count, dtype: int64"
      ]
     },
     "execution_count": 13,
     "metadata": {},
     "output_type": "execute_result"
    }
   ],
   "execution_count": 13
  },
  {
   "metadata": {
    "ExecuteTime": {
     "end_time": "2025-01-29T21:10:53.286330Z",
     "start_time": "2025-01-29T21:10:53.233330Z"
    }
   },
   "cell_type": "code",
   "source": "df[['coherence_rate_pl', 'coherence_expl_pl']]",
   "id": "7b341e1ae744a867",
   "outputs": [
    {
     "data": {
      "text/plain": [
       "     coherence_rate_pl                                  coherence_expl_pl\n",
       "0                    4  \\n  \"explanation\": \"Tekst jest zrozumiały i kl...\n",
       "1                    4  \\n  \"explanation\": \"Tekst jest zrozumiały i kl...\n",
       "2                    4  \\n  \"explanation\": \"Oceniłem tekst na 4, ponie...\n",
       "3                    4  \\n  \"explanation\": \"Tekst jest zrozumiały i kl...\n",
       "4                    4  \\n  \"explanation\": \"Tekst jest spójny, poniewa...\n",
       "..                 ...                                                ...\n",
       "727                  4  \\n  \"explanation\": \"Oceniłem tekst na 4, ponie...\n",
       "728                  3  \\n  \"explanation\": \"Tekst jest dość klarowny i...\n",
       "729                  4  \\n  \"explanation\": \"Tekst jest spójny i klarow...\n",
       "730                  4  \\n  \"explanation\": \"Oceniłem tekst na 4, ponie...\n",
       "731                  4  \\n  \"explanation\": \"Tekst jest zrozumiały i kl...\n",
       "\n",
       "[732 rows x 2 columns]"
      ],
      "text/html": [
       "<div>\n",
       "<style scoped>\n",
       "    .dataframe tbody tr th:only-of-type {\n",
       "        vertical-align: middle;\n",
       "    }\n",
       "\n",
       "    .dataframe tbody tr th {\n",
       "        vertical-align: top;\n",
       "    }\n",
       "\n",
       "    .dataframe thead th {\n",
       "        text-align: right;\n",
       "    }\n",
       "</style>\n",
       "<table border=\"1\" class=\"dataframe\">\n",
       "  <thead>\n",
       "    <tr style=\"text-align: right;\">\n",
       "      <th></th>\n",
       "      <th>coherence_rate_pl</th>\n",
       "      <th>coherence_expl_pl</th>\n",
       "    </tr>\n",
       "  </thead>\n",
       "  <tbody>\n",
       "    <tr>\n",
       "      <th>0</th>\n",
       "      <td>4</td>\n",
       "      <td>\\n  \"explanation\": \"Tekst jest zrozumiały i kl...</td>\n",
       "    </tr>\n",
       "    <tr>\n",
       "      <th>1</th>\n",
       "      <td>4</td>\n",
       "      <td>\\n  \"explanation\": \"Tekst jest zrozumiały i kl...</td>\n",
       "    </tr>\n",
       "    <tr>\n",
       "      <th>2</th>\n",
       "      <td>4</td>\n",
       "      <td>\\n  \"explanation\": \"Oceniłem tekst na 4, ponie...</td>\n",
       "    </tr>\n",
       "    <tr>\n",
       "      <th>3</th>\n",
       "      <td>4</td>\n",
       "      <td>\\n  \"explanation\": \"Tekst jest zrozumiały i kl...</td>\n",
       "    </tr>\n",
       "    <tr>\n",
       "      <th>4</th>\n",
       "      <td>4</td>\n",
       "      <td>\\n  \"explanation\": \"Tekst jest spójny, poniewa...</td>\n",
       "    </tr>\n",
       "    <tr>\n",
       "      <th>...</th>\n",
       "      <td>...</td>\n",
       "      <td>...</td>\n",
       "    </tr>\n",
       "    <tr>\n",
       "      <th>727</th>\n",
       "      <td>4</td>\n",
       "      <td>\\n  \"explanation\": \"Oceniłem tekst na 4, ponie...</td>\n",
       "    </tr>\n",
       "    <tr>\n",
       "      <th>728</th>\n",
       "      <td>3</td>\n",
       "      <td>\\n  \"explanation\": \"Tekst jest dość klarowny i...</td>\n",
       "    </tr>\n",
       "    <tr>\n",
       "      <th>729</th>\n",
       "      <td>4</td>\n",
       "      <td>\\n  \"explanation\": \"Tekst jest spójny i klarow...</td>\n",
       "    </tr>\n",
       "    <tr>\n",
       "      <th>730</th>\n",
       "      <td>4</td>\n",
       "      <td>\\n  \"explanation\": \"Oceniłem tekst na 4, ponie...</td>\n",
       "    </tr>\n",
       "    <tr>\n",
       "      <th>731</th>\n",
       "      <td>4</td>\n",
       "      <td>\\n  \"explanation\": \"Tekst jest zrozumiały i kl...</td>\n",
       "    </tr>\n",
       "  </tbody>\n",
       "</table>\n",
       "<p>732 rows × 2 columns</p>\n",
       "</div>"
      ]
     },
     "execution_count": 8,
     "metadata": {},
     "output_type": "execute_result"
    }
   ],
   "execution_count": 8
  },
  {
   "cell_type": "code",
   "source": "df['relevance'] = df.apply(lambda x: OpenAIReq(model=model_version).call_api(prompt=PromptBuilder.get_relevance_pl(question=x['questions_splitted'], context=x['text_chunk'])),axis=1)",
   "metadata": {
    "collapsed": false,
    "ExecuteTime": {
     "end_time": "2025-01-29T22:45:21.967847Z",
     "start_time": "2025-01-29T22:03:14.038476Z"
    }
   },
   "id": "e9f842efd52f19eb",
   "outputs": [],
   "execution_count": 7
  },
  {
   "cell_type": "code",
   "source": [
    "df['global_relevance'] = df.apply(lambda x: OpenAIReq().call_api(prompt=PromptBuilder.get_global_relevance(question=x['questions_splitted'])),axis=1)"
   ],
   "metadata": {
    "collapsed": false,
    "ExecuteTime": {
     "end_time": "2025-01-26T22:30:41.301309Z",
     "start_time": "2025-01-26T22:25:49.780806Z"
    }
   },
   "id": "a887b80b654bf7ae",
   "outputs": [],
   "execution_count": 33
  },
  {
   "cell_type": "markdown",
   "source": [
    "## Evaluation"
   ],
   "metadata": {
    "collapsed": false
   },
   "id": "f7aa1a31225933b1"
  },
  {
   "cell_type": "code",
   "source": [
    "reporting = SimilarityMatrix(data=df)\n",
    "sim_matrix = reporting.create_similarity_matrix_for_wmd(on_column='questions_splitted')"
   ],
   "metadata": {
    "collapsed": false,
    "ExecuteTime": {
     "end_time": "2025-01-26T22:34:50.730044Z",
     "start_time": "2025-01-26T22:31:01.995188Z"
    }
   },
   "id": "16e6c8199c8c49e4",
   "outputs": [
    {
     "name": "stderr",
     "output_type": "stream",
     "text": [
      "732it [03:34,  3.42it/s]\n"
     ]
    }
   ],
   "execution_count": 34
  },
  {
   "cell_type": "code",
   "source": [
    "sim_matrix.shape"
   ],
   "metadata": {
    "collapsed": false,
    "ExecuteTime": {
     "end_time": "2025-01-26T22:34:50.807105Z",
     "start_time": "2025-01-26T22:34:50.741047Z"
    }
   },
   "id": "68a4ae67f367776d",
   "outputs": [
    {
     "data": {
      "text/plain": [
       "(729, 729)"
      ]
     },
     "execution_count": 35,
     "metadata": {},
     "output_type": "execute_result"
    }
   ],
   "execution_count": 35
  },
  {
   "cell_type": "markdown",
   "source": [
    "#### Relevance anf global relevance"
   ],
   "metadata": {
    "collapsed": false
   },
   "id": "905e1e1aa6fc8a76"
  },
  {
   "cell_type": "code",
   "source": "pd.plotting.hist_series(df['relevance'])",
   "metadata": {
    "collapsed": false,
    "ExecuteTime": {
     "end_time": "2025-01-29T22:54:32.541769Z",
     "start_time": "2025-01-29T22:54:32.396705Z"
    }
   },
   "id": "408b96484687baf8",
   "outputs": [
    {
     "data": {
      "text/plain": [
       "<Axes: >"
      ]
     },
     "execution_count": 15,
     "metadata": {},
     "output_type": "execute_result"
    },
    {
     "data": {
      "text/plain": [
       "<Figure size 640x480 with 1 Axes>"
      ],
      "image/png": "[encoded data removed]"
     },
     "metadata": {},
     "output_type": "display_data"
    }
   ],
   "execution_count": 15
  },
  {
   "cell_type": "code",
   "source": [
    "df['global_relevance'].value_counts(normalize=True)"
   ],
   "metadata": {
    "collapsed": false,
    "ExecuteTime": {
     "end_time": "2025-01-29T22:54:39.241926Z",
     "start_time": "2025-01-29T22:54:39.186924Z"
    }
   },
   "id": "5ca77a6713090ce1",
   "outputs": [
    {
     "data": {
      "text/plain": [
       "global_relevance\n",
       "4    0.629781\n",
       "5    0.351093\n",
       "3    0.017760\n",
       "1    0.001366\n",
       "Name: proportion, dtype: float64"
      ]
     },
     "execution_count": 16,
     "metadata": {},
     "output_type": "execute_result"
    }
   ],
   "execution_count": 16
  },
  {
   "cell_type": "code",
   "outputs": [
    {
     "data": {
      "text/plain": "<Axes: >"
     },
     "execution_count": 24,
     "metadata": {},
     "output_type": "execute_result"
    },
    {
     "data": {
      "text/plain": "<Figure size 640x480 with 1 Axes>",
      "image/png": "[encoded data removed]"
     },
     "metadata": {},
     "output_type": "display_data"
    }
   ],
   "source": [
    "pd.plotting.hist_series(df['global_relevance'])"
   ],
   "metadata": {
    "collapsed": false,
    "ExecuteTime": {
     "end_time": "2024-10-13T20:18:52.187844Z",
     "start_time": "2024-10-13T20:18:51.915628Z"
    }
   },
   "id": "879f5428100c9f2",
   "execution_count": 24
  },
  {
   "cell_type": "markdown",
   "source": [
    "#### Coverage summary"
   ],
   "metadata": {
    "collapsed": false
   },
   "id": "1f955fad2b047bb7"
  },
  {
   "cell_type": "code",
   "source": [
    "df['coverage_rating'].value_counts(normalize=True)"
   ],
   "metadata": {
    "collapsed": false,
    "ExecuteTime": {
     "end_time": "2025-01-26T22:36:18.221007Z",
     "start_time": "2025-01-26T22:36:18.151526Z"
    }
   },
   "id": "8ad59ea8363aee59",
   "outputs": [
    {
     "data": {
      "text/plain": [
       "coverage_rating\n",
       "5    0.903005\n",
       "4    0.079235\n",
       "3    0.008197\n",
       "2    0.006831\n",
       "1    0.002732\n",
       "Name: proportion, dtype: float64"
      ]
     },
     "execution_count": 39,
     "metadata": {},
     "output_type": "execute_result"
    }
   ],
   "execution_count": 39
  },
  {
   "cell_type": "code",
   "outputs": [
    {
     "data": {
      "text/plain": "<Axes: >"
     },
     "execution_count": 26,
     "metadata": {},
     "output_type": "execute_result"
    },
    {
     "data": {
      "text/plain": "<Figure size 640x480 with 1 Axes>",
      "image/png": "[encoded data removed]"
     },
     "metadata": {},
     "output_type": "display_data"
    }
   ],
   "source": [
    "pd.plotting.hist_series(df['coverage_rating'])"
   ],
   "metadata": {
    "collapsed": false,
    "ExecuteTime": {
     "end_time": "2024-10-13T20:19:05.142737Z",
     "start_time": "2024-10-13T20:19:04.896878Z"
    }
   },
   "id": "bd4000fa90e48c2f",
   "execution_count": 26
  },
  {
   "cell_type": "markdown",
   "source": [
    "#### Word mover distance"
   ],
   "metadata": {
    "collapsed": false
   },
   "id": "3f937ce309018b65"
  },
  {
   "cell_type": "code",
   "source": [
    "# WMD question <-> chunk\n",
    "pd.plotting.hist_series(df['wmd_chunk_question'])"
   ],
   "metadata": {
    "collapsed": false,
    "ExecuteTime": {
     "end_time": "2025-01-26T22:36:30.790977Z",
     "start_time": "2025-01-26T22:36:30.623786Z"
    }
   },
   "id": "ef3c5f0725bb2674",
   "outputs": [
    {
     "data": {
      "text/plain": [
       "<Axes: >"
      ]
     },
     "execution_count": 40,
     "metadata": {},
     "output_type": "execute_result"
    },
    {
     "data": {
      "text/plain": [
       "<Figure size 640x480 with 1 Axes>"
      ],
      "image/png": "[encoded data removed]"
     },
     "metadata": {},
     "output_type": "display_data"
    }
   ],
   "execution_count": 40
  },
  {
   "cell_type": "code",
   "source": [
    "mean_wmd_qch = df['wmd_chunk_question'].mean()\n",
    "std_wmd_qch = df['wmd_chunk_question'].std()\n",
    "print(f'Mean for question to chunk for WMD is {mean_wmd_qch} with std as {std_wmd_qch}')"
   ],
   "metadata": {
    "collapsed": false,
    "ExecuteTime": {
     "end_time": "2025-01-26T22:36:34.859842Z",
     "start_time": "2025-01-26T22:36:34.781845Z"
    }
   },
   "id": "ec28848a295df728",
   "outputs": [
    {
     "name": "stdout",
     "output_type": "stream",
     "text": [
      "Mean for question to chunk for WMD is 0.2046351021518607 with std as 0.055642205389882675\n"
     ]
    }
   ],
   "execution_count": 41
  },
  {
   "cell_type": "code",
   "source": [
    "# WMD question <-> answer\n",
    "pd.plotting.hist_series(df['wmd_question_answer_200'])"
   ],
   "metadata": {
    "collapsed": false,
    "ExecuteTime": {
     "end_time": "2025-01-26T22:36:38.053789Z",
     "start_time": "2025-01-26T22:36:37.903790Z"
    }
   },
   "id": "66afdbbab23c5202",
   "outputs": [
    {
     "data": {
      "text/plain": [
       "<Axes: >"
      ]
     },
     "execution_count": 42,
     "metadata": {},
     "output_type": "execute_result"
    },
    {
     "data": {
      "text/plain": [
       "<Figure size 640x480 with 1 Axes>"
      ],
      "image/png": "[encoded data removed]"
     },
     "metadata": {},
     "output_type": "display_data"
    }
   ],
   "execution_count": 42
  },
  {
   "cell_type": "code",
   "source": [
    "mean_wmd_qa = df['wmd_question_answer_200'].mean()\n",
    "std_wmd_qa = df['wmd_question_answer_200'].std()\n",
    "print(f'Mean for question to answer for WMD is {mean_wmd_qa} with std as {std_wmd_qa}')"
   ],
   "metadata": {
    "collapsed": false,
    "ExecuteTime": {
     "end_time": "2025-01-26T22:36:40.894870Z",
     "start_time": "2025-01-26T22:36:40.830870Z"
    }
   },
   "id": "741cad69bf039531",
   "outputs": [
    {
     "name": "stdout",
     "output_type": "stream",
     "text": [
      "Mean for question to answer for WMD is 0.17849177597334837 with std as 0.04319934620213855\n"
     ]
    }
   ],
   "execution_count": 43
  },
  {
   "cell_type": "code",
   "source": [
    "# WMD question <-> question\n",
    "std, mean = reporting.get_summary_for_wmd(sim_matrix)\n",
    "print(f'Mean for question to question for WMD is {mean} with std as {std}')"
   ],
   "metadata": {
    "collapsed": false,
    "ExecuteTime": {
     "end_time": "2025-01-26T22:36:45.842783Z",
     "start_time": "2025-01-26T22:36:45.764654Z"
    }
   },
   "id": "c9f0e941819d663",
   "outputs": [
    {
     "name": "stdout",
     "output_type": "stream",
     "text": [
      "Mean for question to question for WMD is 0.24440089371260362 with std as 0.06065276852233461\n"
     ]
    }
   ],
   "execution_count": 44
  },
  {
   "cell_type": "markdown",
   "source": [],
   "metadata": {
    "collapsed": false
   },
   "id": "9874628d0ace862a"
  },
  {
   "cell_type": "markdown",
   "source": [
    "#### Coherence rate"
   ],
   "metadata": {
    "collapsed": false
   },
   "id": "27a3d2a581aaeee5"
  },
  {
   "cell_type": "code",
   "source": [
    "df['coherence_rate_pl'].value_counts(normalize=True)"
   ],
   "metadata": {
    "collapsed": false,
    "ExecuteTime": {
     "end_time": "2025-01-29T22:55:06.507232Z",
     "start_time": "2025-01-29T22:55:06.452235Z"
    }
   },
   "id": "c4099e73a1bf499c",
   "outputs": [
    {
     "data": {
      "text/plain": [
       "coherence_rate_pl\n",
       "4    0.829235\n",
       "3    0.121585\n",
       "2    0.035519\n",
       "5    0.013661\n",
       "Name: proportion, dtype: float64"
      ]
     },
     "execution_count": 17,
     "metadata": {},
     "output_type": "execute_result"
    }
   ],
   "execution_count": 17
  },
  {
   "cell_type": "code",
   "outputs": [
    {
     "data": {
      "text/plain": "<Axes: >"
     },
     "execution_count": 22,
     "metadata": {},
     "output_type": "execute_result"
    },
    {
     "data": {
      "text/plain": "<Figure size 640x480 with 1 Axes>",
      "image/png": "[encoded data removed]"
     },
     "metadata": {},
     "output_type": "display_data"
    }
   ],
   "source": [
    "pd.plotting.hist_series(df['coherence_rate_pl'])"
   ],
   "metadata": {
    "collapsed": false,
    "ExecuteTime": {
     "end_time": "2024-11-09T23:25:00.125921Z",
     "start_time": "2024-11-09T23:24:59.956720Z"
    }
   },
   "id": "987013fbd397663d",
   "execution_count": 22
  },
  {
   "cell_type": "code",
   "outputs": [
    {
     "data": {
      "text/plain": "<Axes: >"
     },
     "execution_count": 25,
     "metadata": {},
     "output_type": "execute_result"
    },
    {
     "data": {
      "text/plain": "<Figure size 640x480 with 1 Axes>",
      "image/png": "[encoded data removed]"
     },
     "metadata": {},
     "output_type": "display_data"
    }
   ],
   "source": [
    "pd.plotting.hist_series(df['coherence_rate'])"
   ],
   "metadata": {
    "collapsed": false,
    "ExecuteTime": {
     "end_time": "2024-11-09T23:25:12.918697Z",
     "start_time": "2024-11-09T23:25:12.782300Z"
    }
   },
   "id": "7c45f0cb8ec2c703",
   "execution_count": 25
  },
  {
   "cell_type": "markdown",
   "source": [
    "### Evaluation Summary\n",
    "From the results we can conclude that GPT prepared for us quite good dataset - majority of values are high (low in terms of similarity). The only outlier in those results is the coherence score which can be taken for further investigation and analysis. Both polish and english version are not generating the best scores - they are placed somewhere in the upper middle (3 and 4 rating).\n",
    "\n",
    "Overall, the results have proven that generated question with support of GPT model are good enough to use them as the input instructions for the model. Now, question value pairs will be transformed into the proper structure to be later on used for fine tuning.   "
   ],
   "metadata": {
    "collapsed": false
   },
   "id": "c88e44c8d5cdde6"
  },
  {
   "cell_type": "markdown",
   "source": [
    "## Data preparation for FT"
   ],
   "metadata": {
    "collapsed": false
   },
   "id": "f708262ea3739e2e"
  },
  {
   "metadata": {
    "ExecuteTime": {
     "end_time": "2025-01-29T22:55:41.628126Z",
     "start_time": "2025-01-29T22:55:41.317134Z"
    }
   },
   "cell_type": "code",
   "source": "df.to_excel('data/full_26_01_2025.xlsx', index=False)",
   "id": "498a99de7f29109c",
   "outputs": [],
   "execution_count": 18
  },
  {
   "metadata": {
    "ExecuteTime": {
     "end_time": "2025-01-30T21:13:03.276766Z",
     "start_time": "2025-01-30T21:13:02.981584Z"
    }
   },
   "cell_type": "code",
   "source": [
    "# SELECT THE DATA\n",
    "df = pd.read_excel('data/full_26_01_2025.xlsx')"
   ],
   "id": "814d67c26d51681e",
   "outputs": [],
   "execution_count": 5
  },
  {
   "metadata": {
    "ExecuteTime": {
     "end_time": "2025-01-30T21:13:05.827238Z",
     "start_time": "2025-01-30T21:13:05.779237Z"
    }
   },
   "cell_type": "code",
   "source": [
    "selected_data = df[df['coherence_rate_pl'] > 3]\n",
    "selected_data = selected_data[selected_data['relevance'] > 3]"
   ],
   "id": "6c8503234932d9ec",
   "outputs": [],
   "execution_count": 6
  },
  {
   "metadata": {
    "ExecuteTime": {
     "end_time": "2025-01-30T21:13:06.376339Z",
     "start_time": "2025-01-30T21:13:06.316339Z"
    }
   },
   "cell_type": "code",
   "source": "df = selected_data",
   "id": "5f6ef750c54eb39a",
   "outputs": [],
   "execution_count": 7
  },
  {
   "metadata": {
    "ExecuteTime": {
     "end_time": "2025-01-30T21:14:19.138030Z",
     "start_time": "2025-01-30T21:14:19.090030Z"
    }
   },
   "cell_type": "code",
   "source": "df.questions_splitted",
   "id": "74a47d4c0962bb8",
   "outputs": [
    {
     "data": {
      "text/plain": [
       "0      - Jakie są główne obowiązki przedsiębiorcy wob...\n",
       "1      - Jakie zasady i tryb dotyczą zawierania umów ...\n",
       "2      - Jakie są szczegółowe przepisy dotyczące praw...\n",
       "3      - Jakie są główne zasady dotyczące prawa odstą...\n",
       "4      - W jaki sposób ustawa reguluje zawieranie umó...\n",
       "                             ...                        \n",
       "726    - Jakie informacje powinny być zawarte w formu...\n",
       "727    - Czy formularz odstąpienia od umowy można wys...\n",
       "729    - Jakie towary lub usługi mogą być objęte umow...\n",
       "730    - Jakie informacje są wymagane od konsumenta p...\n",
       "731    - Czy podpis konsumenta jest obowiązkowy w prz...\n",
       "Name: questions_splitted, Length: 614, dtype: object"
      ]
     },
     "execution_count": 9,
     "metadata": {},
     "output_type": "execute_result"
    }
   ],
   "execution_count": 9
  },
  {
   "cell_type": "code",
   "source": [
    "qa_df_200 = df[['questions_splitted', 'answer_200']]\n",
    "qa_df_200 = qa_df_200.rename(columns={'questions_splitted': 'question', 'answer_200': 'answer'})\n",
    "\n",
    "qa_df_200 = qa_df_200.sample(frac=1)\n",
    "\n",
    "now = datetime.datetime.now().strftime('%Y%m%d_%H%M%S')\n",
    "with open(f'ft_output_data/data_ft_{now}_hq.jsonl', \"w\", encoding='utf8') as f:\n",
    "    f.write(qa_df_200.to_json(orient='records', lines=True, force_ascii=False))"
   ],
   "metadata": {
    "collapsed": false,
    "ExecuteTime": {
     "end_time": "2025-01-30T21:16:52.115137Z",
     "start_time": "2025-01-30T21:16:52.055138Z"
    }
   },
   "id": "d686ed05cd390e49",
   "outputs": [],
   "execution_count": 12
  },
  {
   "cell_type": "markdown",
   "source": [
    "## Summary\n",
    "As our last piece of code is executed, we can finish first part of this article - data preparation. I hope you enjoyed it as much as me! Let's move on to the second part of the finetuning polish LLM model with our generated data. \n",
    "\n",
    "See ya! "
   ],
   "metadata": {
    "collapsed": false
   },
   "id": "93a27f8196bc6a6e"
  },
  {
   "cell_type": "markdown",
   "source": [
    "## References and sources\n",
    "1. https://arxiv.org/abs/2401.08406\n",
    "2. https://www.statista.com/statistics/262946/most-common-languages-on-the-internet/\n",
    "3. https://medium.com/@bijit211987/the-rise-of-small-language-models-efficient-customizable-cb48ddee2aad\n",
    "4. https://python.langchain.com/docs/how_to/recursive_text_splitter/\n",
    "5. https://radimrehurek.com/gensim/auto_examples/tutorials/run_wmd.html"
   ],
   "metadata": {
    "collapsed": false
   },
   "id": "f40808e2ba10e919"
  }
 ],
 "metadata": {
  "kernelspec": {
   "display_name": "Python 3",
   "language": "python",
   "name": "python3"
  },
  "language_info": {
   "codemirror_mode": {
    "name": "ipython",
    "version": 2
   },
   "file_extension": ".py",
   "mimetype": "text/x-python",
   "name": "python",
   "nbconvert_exporter": "python",
   "pygments_lexer": "ipython2",
   "version": "2.7.6"
  }
 },
 "nbformat": 4,
 "nbformat_minor": 5
}
