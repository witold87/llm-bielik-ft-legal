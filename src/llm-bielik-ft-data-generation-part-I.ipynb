{
 "cells": [
  {
   "cell_type": "markdown",
   "source": [
    "# LLM - Bielik - Fine tuning - part I"
   ],
   "metadata": {
    "collapsed": false
   },
   "id": "268a1dfb6a09a44b"
  },
  {
   "cell_type": "markdown",
   "source": [
    "## Introduction\n",
    "\n",
    "The rise of the Large Language Models are definetely a game changer in approach to AI on various markets and branches - we can observe increased popularity of LLMs in academia, business and agriculture. Working with LLMs became a must-do task for all R&D or business departments in order to acknowledge and adapt upcoming possibilities, to stay competetive and gain business advantage. There are many players who invested bilions of USD to build their own Large Language Model and took a part in recent markets challenges by introducing their own solution trained on a different data set or to serve a different task (specialized for example in generation of poems or making a summary). At the beginning, as usual when it comes to innovation at that scale, we are thinking of endless possibilities, what kind of new opportunities we reach without putting much focus on other important factors like costs, maintanence, security, stability. Currently, we have multiple models which are production ready - many work has been done at those fields also making those LLMs more reliable and secured. One of the outcomes from this LLM race is that people noticed that it is good idea to look at smaller models, more specialized in one or two tasks, not the general ones. This specialization also is related to language supported. LLMs are broadly trained on english language data, due to the fact that more than half of websites content is written in English. Many models, paid and open source ones, have different level of quality when it comes when using them with local language. Quite often it occurs that offered quality is not enough to prove the business value for specific use case. This pushed some parties to create smaller models or suggested the finetuning with data in local language. "
   ],
   "metadata": {
    "collapsed": false
   },
   "id": "a8add555b2f73f31"
  },
  {
   "cell_type": "markdown",
   "source": [
    "## Goal\n",
    "The goal of this notebook is to finetune a Polish language based LLM called Bielik, developed by SpeakLeash organization (<model page>) with the legal documents. Data is specifically chosen for this task - legal documents or, law as a general concept, are strictly connected to the particular langauge. Primary concept of legal documents is to be in line with local (polish in this case) regulations. One of the approaches is to translate documents to english and then used by the LLM. However, legal documents such as purchase agreements or any other agreements are designed by lawyers who understand the legal language nuances. They need to construct documents that are reliable, understandable by many and embedded in Polish law regulations. This requires from LLM to be more specific on many levels - starting from using prevalent data in one language and finetuning it to be able to work with more detailed task. "
   ],
   "metadata": {
    "collapsed": false
   },
   "id": "e57f99041c74915"
  },
  {
   "cell_type": "markdown",
   "source": [
    "## Table of contents\n",
    "\n",
    "This notebook covers multiple steps:\n",
    "1. Loading and splitting data into chunks\n",
    "2. Generating new data (question and answers) for the future finetuning\n",
    "3. Evaluating generated data\n",
    "4. Selecting the data based on metrics \n",
    "5. Preparing the output for FT\n"
   ],
   "metadata": {
    "collapsed": false
   },
   "id": "2a2374a7ac7f8e8d"
  },
  {
   "cell_type": "markdown",
   "source": [
    "## Loading and working with data\n",
    "\n",
    "Data source: https://isap.sejm.gov.pl/isap.nsf/download.xsp/WDU20140000827/U/D20140827Lj.pdf "
   ],
   "metadata": {
    "collapsed": false
   },
   "id": "e453382dd70f9952"
  },
  {
   "cell_type": "code",
   "outputs": [],
   "source": [
    "import datetime\n",
    "import pandas as pd\n",
    "import numpy as np\n",
    "from dotenv import load_dotenv, find_dotenv\n",
    "import pymupdf\n",
    "import uuid\n",
    "from tqdm.notebook import tqdm\n",
    "from langchain.text_splitter import RecursiveCharacterTextSplitter\n",
    "from src.external_requests.openai_req import OpenAIReq\n",
    "from src.external_requests.prompting import PromptBuilder\n",
    "from src.evaluation.distance_based import DistanceEvaluator\n",
    "from src.evaluation.reporting import Reporting\n",
    "import tiktoken"
   ],
   "metadata": {
    "collapsed": false,
    "ExecuteTime": {
     "end_time": "2024-11-09T23:11:09.890824Z",
     "start_time": "2024-11-09T23:11:06.765905Z"
    }
   },
   "id": "bcad1a89aee5c170",
   "execution_count": 1
  },
  {
   "cell_type": "code",
   "outputs": [],
   "source": [
    "_ = load_dotenv(find_dotenv())"
   ],
   "metadata": {
    "collapsed": false,
    "ExecuteTime": {
     "end_time": "2024-11-09T23:11:09.896775Z",
     "start_time": "2024-11-09T23:11:09.892578Z"
    }
   },
   "id": "a09a8ee67e5ebf80",
   "execution_count": 2
  },
  {
   "cell_type": "markdown",
   "source": [
    "For this use case I am using commonly used splitter - RecursiveCharacterTextSplitter from langchain and pymudf library for parsing the PDF. Document is well formatted and doesn't contain more complex structures like graphs or tables. "
   ],
   "metadata": {
    "collapsed": false
   },
   "id": "42d4f730c6477143"
  },
  {
   "cell_type": "code",
   "outputs": [],
   "source": [
    "splitter = RecursiveCharacterTextSplitter(chunk_size=512, chunk_overlap=120)"
   ],
   "metadata": {
    "collapsed": false,
    "ExecuteTime": {
     "end_time": "2024-10-13T19:43:45.940822Z",
     "start_time": "2024-10-13T19:43:45.934503Z"
    }
   },
   "id": "b881573ef64d8940",
   "execution_count": 3
  },
  {
   "cell_type": "code",
   "outputs": [],
   "source": [
    "path = 'data/ustawa_nr_1.pdf' # local file system\n",
    "all_data = pymupdf.open(path)"
   ],
   "metadata": {
    "collapsed": false,
    "ExecuteTime": {
     "end_time": "2024-10-13T19:43:45.965438Z",
     "start_time": "2024-10-13T19:43:45.942973Z"
    }
   },
   "id": "b19e120f0ba49820",
   "execution_count": 4
  },
  {
   "cell_type": "code",
   "outputs": [
    {
     "data": {
      "text/plain": "44"
     },
     "execution_count": 5,
     "metadata": {},
     "output_type": "execute_result"
    }
   ],
   "source": [
    "all_chunks = []\n",
    "for document in all_data:\n",
    "    text_page = document.get_textpage().extractText()\n",
    "    chunks_per_page = splitter.split_text(text_page)\n",
    "    all_chunks.append(chunks_per_page)\n",
    "        \n",
    "len(all_chunks)"
   ],
   "metadata": {
    "collapsed": false,
    "ExecuteTime": {
     "end_time": "2024-10-13T19:43:48.576760Z",
     "start_time": "2024-10-13T19:43:48.420324Z"
    }
   },
   "id": "76dcd8f14b33523a",
   "execution_count": 5
  },
  {
   "cell_type": "code",
   "outputs": [],
   "source": [
    "def get_number_of_tokens(text:str) -> str:\n",
    "    encoding = tiktoken.get_encoding(\"cl100k_base\")\n",
    "    n_tokens = len(encoding.encode(text))\n",
    "    return n_tokens"
   ],
   "metadata": {
    "collapsed": false,
    "ExecuteTime": {
     "end_time": "2024-10-13T19:43:52.212058Z",
     "start_time": "2024-10-13T19:43:52.208918Z"
    }
   },
   "id": "4e3248e8c5d3b026",
   "execution_count": 6
  },
  {
   "cell_type": "markdown",
   "source": [
    "### Generating new data (questions) with a support of GPT 3.5\n",
    "\n",
    "For this task the GPT 3.5 was chosen. GPT has proven itself as a great tool for text generation in many languages and also for assessing own work (this part will be covered later in the article). What is more, it has proven also it's abilities to generate structurised content. In the below code snippet there is one important remark. As presented, there are two similar variables - max_tokens and model_max_tokens. ChatGPT model support tokens limitation during an api call. However, this limitation ca be tricky as it should be considered rather as a cost guard than concise content guard. Setting model's max tokens to low number results in sentence truncation and losing information. That is the reason the second variable was introduced - max_tokens. Max_tokens variable is passed to the prompt for the model as a part of an instruction to model to instruct the model to generate succinct yet comprehensive answer within the given token limit. "
   ],
   "metadata": {
    "collapsed": false
   },
   "id": "e9e33b5a9a71b776"
  },
  {
   "cell_type": "code",
   "outputs": [
    {
     "data": {
      "text/plain": "0it [00:00, ?it/s]",
      "application/vnd.jupyter.widget-view+json": {
       "version_major": 2,
       "version_minor": 0,
       "model_id": "99a80d4f5409414897217a2593891f08"
      }
     },
     "metadata": {},
     "output_type": "display_data"
    }
   ],
   "source": [
    "all_data = []\n",
    "max_tokens = 500\n",
    "model_max_tokens = int(max_tokens + (max_tokens*0.20))\n",
    "for i, page in tqdm(enumerate(all_chunks)):\n",
    "    page_id = str(uuid.uuid4())\n",
    "    for chunk in enumerate(page):\n",
    "        nth_chunk, text_chunk = chunk\n",
    "        generated_questions = OpenAIReq().call_api(prompt=PromptBuilder.generate_questions(n_questions=4, text=chunk, tokens=max_tokens),\n",
    "                                                   temperature=0.1,max_tokens=model_max_tokens)\n",
    "        data = {'chunk_id': f'{page_id}_{nth_chunk}', \n",
    "                'text_chunk': text_chunk,\n",
    "                'page_id': page_id,\n",
    "                'generated_questions': generated_questions}\n",
    "        all_data.append(data)"
   ],
   "metadata": {
    "collapsed": false,
    "ExecuteTime": {
     "end_time": "2024-10-01T22:05:19.405861Z",
     "start_time": "2024-10-01T21:19:09.942171Z"
    }
   },
   "id": "4d82303b65bbd47",
   "execution_count": 11
  },
  {
   "cell_type": "code",
   "outputs": [
    {
     "data": {
      "text/plain": "                                   chunk_id  \\\n0    99e84c9e-b818-4381-8343-f294ea12ec8b_0   \n1    99e84c9e-b818-4381-8343-f294ea12ec8b_1   \n2    99e84c9e-b818-4381-8343-f294ea12ec8b_2   \n3    99e84c9e-b818-4381-8343-f294ea12ec8b_3   \n4    99e84c9e-b818-4381-8343-f294ea12ec8b_4   \n..                                      ...   \n844  42ca3bd6-cb0f-4a1e-858d-c77ac8b0ca4b_5   \n845  42ca3bd6-cb0f-4a1e-858d-c77ac8b0ca4b_6   \n846  42ca3bd6-cb0f-4a1e-858d-c77ac8b0ca4b_7   \n847  42ca3bd6-cb0f-4a1e-858d-c77ac8b0ca4b_8   \n848  c1f4c20f-e402-43b1-b22a-401d1d372098_0   \n\n                                            text_chunk  \\\n0    DYREKTYWY\\nDYREKTYWA PARLAMENTU EUROPEJSKIEGO ...   \n1    uwzględniając Traktat o funkcjonowaniu Unii Eu...   \n2    (1)\\nW komunikacie z 11 grudnia 2019 r. zatytu...   \n3    podarczego Unii. Jej celem jest przekształceni...   \n4    tywnymi skutkami związanymi ze środowiskiem. C...   \n..                                                 ...   \n844  ważonego rozwoju publikowanych przez jednostki...   \n845  i sporządza sprawozdanie na ten temat. W przeg...   \n846  tacji zrównoważonego rozwoju i odpowiedniej ja...   \n847  wraz z wnioskami ustawodawczymi.\\nArtykuł 7\\nW...   \n848  Artykuł 8\\nAdresaci\\nNiniejsza dyrektywa skier...   \n\n                                  page_id  \\\n0    99e84c9e-b818-4381-8343-f294ea12ec8b   \n1    99e84c9e-b818-4381-8343-f294ea12ec8b   \n2    99e84c9e-b818-4381-8343-f294ea12ec8b   \n3    99e84c9e-b818-4381-8343-f294ea12ec8b   \n4    99e84c9e-b818-4381-8343-f294ea12ec8b   \n..                                    ...   \n844  42ca3bd6-cb0f-4a1e-858d-c77ac8b0ca4b   \n845  42ca3bd6-cb0f-4a1e-858d-c77ac8b0ca4b   \n846  42ca3bd6-cb0f-4a1e-858d-c77ac8b0ca4b   \n847  42ca3bd6-cb0f-4a1e-858d-c77ac8b0ca4b   \n848  c1f4c20f-e402-43b1-b22a-401d1d372098   \n\n                                   generated_questions  \n0    - Jakie konkretne zmiany wprowadza dyrektywa P...  \n1    - Jakie konkretnie artykuły Traktatu o funkcjo...  \n2    - Jakie konkretnie zmiany przewiduje Komisja E...  \n3    - Jakie są główne cele Zielonego Ładu Unii Eur...  \n4    - Jakie są główne cele Zielonego Ładu w kontek...  \n..                                                 ...  \n844  - Jakie są główne założenia dotyczące publikac...  \n845  - Jakie są główne kryteria oceny krajowych sys...  \n846  - Jakie są główne cele zrównoważonego rozwoju ...  \n847  - Jakie są główne założenia i cele zawarte w d...  \n848  - Jakie są główne założenia i cele dyrektywy, ...  \n\n[849 rows x 4 columns]",
      "text/html": "<div>\n<style scoped>\n    .dataframe tbody tr th:only-of-type {\n        vertical-align: middle;\n    }\n\n    .dataframe tbody tr th {\n        vertical-align: top;\n    }\n\n    .dataframe thead th {\n        text-align: right;\n    }\n</style>\n<table border=\"1\" class=\"dataframe\">\n  <thead>\n    <tr style=\"text-align: right;\">\n      <th></th>\n      <th>chunk_id</th>\n      <th>text_chunk</th>\n      <th>page_id</th>\n      <th>generated_questions</th>\n    </tr>\n  </thead>\n  <tbody>\n    <tr>\n      <th>0</th>\n      <td>99e84c9e-b818-4381-8343-f294ea12ec8b_0</td>\n      <td>DYREKTYWY\\nDYREKTYWA PARLAMENTU EUROPEJSKIEGO ...</td>\n      <td>99e84c9e-b818-4381-8343-f294ea12ec8b</td>\n      <td>- Jakie konkretne zmiany wprowadza dyrektywa P...</td>\n    </tr>\n    <tr>\n      <th>1</th>\n      <td>99e84c9e-b818-4381-8343-f294ea12ec8b_1</td>\n      <td>uwzględniając Traktat o funkcjonowaniu Unii Eu...</td>\n      <td>99e84c9e-b818-4381-8343-f294ea12ec8b</td>\n      <td>- Jakie konkretnie artykuły Traktatu o funkcjo...</td>\n    </tr>\n    <tr>\n      <th>2</th>\n      <td>99e84c9e-b818-4381-8343-f294ea12ec8b_2</td>\n      <td>(1)\\nW komunikacie z 11 grudnia 2019 r. zatytu...</td>\n      <td>99e84c9e-b818-4381-8343-f294ea12ec8b</td>\n      <td>- Jakie konkretnie zmiany przewiduje Komisja E...</td>\n    </tr>\n    <tr>\n      <th>3</th>\n      <td>99e84c9e-b818-4381-8343-f294ea12ec8b_3</td>\n      <td>podarczego Unii. Jej celem jest przekształceni...</td>\n      <td>99e84c9e-b818-4381-8343-f294ea12ec8b</td>\n      <td>- Jakie są główne cele Zielonego Ładu Unii Eur...</td>\n    </tr>\n    <tr>\n      <th>4</th>\n      <td>99e84c9e-b818-4381-8343-f294ea12ec8b_4</td>\n      <td>tywnymi skutkami związanymi ze środowiskiem. C...</td>\n      <td>99e84c9e-b818-4381-8343-f294ea12ec8b</td>\n      <td>- Jakie są główne cele Zielonego Ładu w kontek...</td>\n    </tr>\n    <tr>\n      <th>...</th>\n      <td>...</td>\n      <td>...</td>\n      <td>...</td>\n      <td>...</td>\n    </tr>\n    <tr>\n      <th>844</th>\n      <td>42ca3bd6-cb0f-4a1e-858d-c77ac8b0ca4b_5</td>\n      <td>ważonego rozwoju publikowanych przez jednostki...</td>\n      <td>42ca3bd6-cb0f-4a1e-858d-c77ac8b0ca4b</td>\n      <td>- Jakie są główne założenia dotyczące publikac...</td>\n    </tr>\n    <tr>\n      <th>845</th>\n      <td>42ca3bd6-cb0f-4a1e-858d-c77ac8b0ca4b_6</td>\n      <td>i sporządza sprawozdanie na ten temat. W przeg...</td>\n      <td>42ca3bd6-cb0f-4a1e-858d-c77ac8b0ca4b</td>\n      <td>- Jakie są główne kryteria oceny krajowych sys...</td>\n    </tr>\n    <tr>\n      <th>846</th>\n      <td>42ca3bd6-cb0f-4a1e-858d-c77ac8b0ca4b_7</td>\n      <td>tacji zrównoważonego rozwoju i odpowiedniej ja...</td>\n      <td>42ca3bd6-cb0f-4a1e-858d-c77ac8b0ca4b</td>\n      <td>- Jakie są główne cele zrównoważonego rozwoju ...</td>\n    </tr>\n    <tr>\n      <th>847</th>\n      <td>42ca3bd6-cb0f-4a1e-858d-c77ac8b0ca4b_8</td>\n      <td>wraz z wnioskami ustawodawczymi.\\nArtykuł 7\\nW...</td>\n      <td>42ca3bd6-cb0f-4a1e-858d-c77ac8b0ca4b</td>\n      <td>- Jakie są główne założenia i cele zawarte w d...</td>\n    </tr>\n    <tr>\n      <th>848</th>\n      <td>c1f4c20f-e402-43b1-b22a-401d1d372098_0</td>\n      <td>Artykuł 8\\nAdresaci\\nNiniejsza dyrektywa skier...</td>\n      <td>c1f4c20f-e402-43b1-b22a-401d1d372098</td>\n      <td>- Jakie są główne założenia i cele dyrektywy, ...</td>\n    </tr>\n  </tbody>\n</table>\n<p>849 rows × 4 columns</p>\n</div>"
     },
     "execution_count": 12,
     "metadata": {},
     "output_type": "execute_result"
    }
   ],
   "source": [
    "df = pd.DataFrame.from_dict(data=all_data)"
   ],
   "metadata": {
    "collapsed": false
   },
   "id": "4ab9600a6fef8f1f",
   "execution_count": 12
  },
  {
   "cell_type": "markdown",
   "source": [
    "Let's do some data cleaning and validating. We need a helper method to do required data preparation with validation on null values:"
   ],
   "metadata": {
    "collapsed": false
   },
   "id": "614b273de487a21b"
  },
  {
   "cell_type": "code",
   "outputs": [],
   "source": [
    "def process_df_with_questions(data: pd.DataFrame) -> pd.DataFrame:\n",
    "    data['questions_splitted'] = data['generated_questions'].str.split('\\n')\n",
    "    data = data.explode('questions_splitted')\n",
    "    data = data[~data['questions_splitted'].isna()]\n",
    "    data['questions_splitted']  = data['questions_splitted'].replace(r'^\\s*$', np.nan, regex=True)\n",
    "    return data\n",
    "\n",
    "df = process_df_with_questions(data=df)"
   ],
   "metadata": {
    "collapsed": false,
    "ExecuteTime": {
     "end_time": "2024-10-02T19:12:46.830405Z",
     "start_time": "2024-10-02T19:12:46.809914Z"
    }
   },
   "id": "35b9ee452b7a2150",
   "execution_count": 9
  },
  {
   "cell_type": "code",
   "outputs": [
    {
     "data": {
      "text/plain": "0"
     },
     "execution_count": 10,
     "metadata": {},
     "output_type": "execute_result"
    }
   ],
   "source": [
    "df = df[~df['questions_splitted'].isna()]\n",
    "df['questions_splitted'].isna().sum()"
   ],
   "metadata": {
    "collapsed": false,
    "ExecuteTime": {
     "end_time": "2024-10-02T19:12:47.679197Z",
     "start_time": "2024-10-02T19:12:47.671110Z"
    }
   },
   "id": "487bab3ec7fab832",
   "execution_count": 10
  },
  {
   "cell_type": "markdown",
   "source": [
    "### Fetching answers for generated questions based on the text chunk\n",
    "Next step is also focused on generation, but in this case we are focusing on answers to the previously generated questions. As in previous example, we also introduce a token limitation for the model, and it is passed to the prompt as part of the instruction. In this case we want to limit the answer length in order to get concise and precise answer as it is quite often expected from LLM to deliver brief answers. To support that, we set the temperature as low as possible."
   ],
   "metadata": {
    "collapsed": false
   },
   "id": "275c63e3cb6fc457"
  },
  {
   "cell_type": "code",
   "outputs": [],
   "source": [
    "answer_tokens = 200\n",
    "df[f'answer_{answer_tokens}'] = df.apply(lambda x: OpenAIReq().call_api(prompt=PromptBuilder.get_answers_based_on_text_and_questions(text=x['text_chunk'], question= x['questions_splitted'], tokens=answer_tokens), temperature=0.0), axis=1)"
   ],
   "metadata": {
    "collapsed": false,
    "ExecuteTime": {
     "end_time": "2024-10-02T22:15:52.035741Z",
     "start_time": "2024-10-02T19:45:49.391539Z"
    }
   },
   "id": "52c677467cd4e8a9",
   "execution_count": 13
  },
  {
   "cell_type": "markdown",
   "source": [
    "To validate if GPT \"listened\" to our instruction with token limitation, let's count tokens and plot the histogram. As shown, the model generated answer mostly within the range of 100-300 tokens.   "
   ],
   "metadata": {
    "collapsed": false
   },
   "id": "239ba8725294cc89"
  },
  {
   "cell_type": "code",
   "outputs": [],
   "source": [
    "df['n_tokens_ans_200'] = df['answer_200'].apply(lambda x: get_number_of_tokens(text=x))\n",
    "pd.plotting.hist_series(df['n_tokens_ans_200'])"
   ],
   "metadata": {
    "collapsed": false,
    "ExecuteTime": {
     "end_time": "2024-10-13T19:48:39.519651Z",
     "start_time": "2024-10-13T19:48:36.987978Z"
    }
   },
   "id": "870ffa4a00d9540c",
   "execution_count": 12
  },
  {
   "cell_type": "code",
   "outputs": [
    {
     "data": {
      "text/plain": "<Axes: >"
     },
     "execution_count": 13,
     "metadata": {},
     "output_type": "execute_result"
    },
    {
     "data": {
      "text/plain": "<Figure size 640x480 with 1 Axes>",
      "image/png": "[encoded data removed]"
     },
     "metadata": {},
     "output_type": "display_data"
    }
   ],
   "source": [],
   "metadata": {
    "collapsed": false,
    "ExecuteTime": {
     "end_time": "2024-10-13T19:48:43.768214Z",
     "start_time": "2024-10-13T19:48:43.477860Z"
    }
   },
   "id": "17f5742f69706ef3",
   "execution_count": 13
  },
  {
   "cell_type": "markdown",
   "source": [
    "## Verifing the quality of generated answers and questions based on selected metrics\n",
    "To verify the quality of our text generation in relation to text chunk there are couple metrics we can use:\n",
    "- Coverage \n",
    "- Coherence (Consistency)\n",
    "- Diversity (based on Word Mover Distance)\n",
    "- Relevance\n",
    "- Global relevance\n",
    "\n",
    "Majority of the metrics are based on the LLM own capability to assess it's own work. This has been proven and it is often used in various evaluation frameworks like RAGAS.\n",
    "Here metrics are chosen carefully based on article from Microsoft -  https://arxiv.org/abs/2401.08406\n",
    "\n",
    "Briefly, we can describe the metrics in the way prompt instruction is constructed:\n",
    "- coverage - Your task is to rate from 1 to 5 if the question can be extracted from the context.\n",
    "- coherence - Your task is to rate from 1 to 5 the coherence (fluency) of the question and provide explanation.\n",
    "- relevance - Your task is to rate from 1 to 5 if the provided question could be asked by a lawyer then rate 5, and rate 1 if not based on the question and context.\n",
    "- global relevance - Your task is to rate from 1 to 5 if the provided question could be asked by a lawyer then rate 5, and rate 1 if not based on the question.\n",
    "- diversity - not LLM based metric. To calculate this we used Word Mover Distance (WMD). \n"
   ],
   "metadata": {
    "collapsed": false
   },
   "id": "9cae6a0dbd3cb4ce"
  },
  {
   "cell_type": "code",
   "outputs": [],
   "source": [
    "df['coverage_rating'] = df.apply(lambda x: OpenAIReq().call_api(prompt=PromptBuilder.get_coverage(question=x['questions_splitted'], context=x['text_chunk'])), axis=1)\n",
    "pd.plotting.hist_series(df['coverage_rating'])"
   ],
   "metadata": {
    "collapsed": false,
    "ExecuteTime": {
     "end_time": "2024-10-03T08:21:02.730030Z",
     "start_time": "2024-10-03T07:53:48.505952Z"
    }
   },
   "id": "2236331b1ab02459",
   "execution_count": 21
  },
  {
   "cell_type": "code",
   "outputs": [
    {
     "data": {
      "text/plain": "<Axes: >"
     },
     "execution_count": 14,
     "metadata": {},
     "output_type": "execute_result"
    },
    {
     "data": {
      "text/plain": "<Figure size 640x480 with 1 Axes>",
      "image/png": "[encoded data removed]"
     },
     "metadata": {},
     "output_type": "display_data"
    }
   ],
   "source": [],
   "metadata": {
    "collapsed": false,
    "ExecuteTime": {
     "end_time": "2024-10-13T19:49:08.853266Z",
     "start_time": "2024-10-13T19:49:08.641485Z"
    }
   },
   "id": "b2c2161190553c4d",
   "execution_count": 14
  },
  {
   "cell_type": "code",
   "outputs": [],
   "source": [
    "dist_evaluator = DistanceEvaluator()"
   ],
   "metadata": {
    "collapsed": false,
    "ExecuteTime": {
     "end_time": "2024-10-03T08:24:57.457966Z",
     "start_time": "2024-10-03T08:24:40.659362Z"
    }
   },
   "id": "50ae52f32b690618",
   "execution_count": 25
  },
  {
   "cell_type": "code",
   "outputs": [],
   "source": [
    "df[f'wmd_question_answer_{answer_tokens}'] = df.apply(lambda x: dist_evaluator.get_diversity_by_wmd(x['questions_splitted'], x[f'answer_{answer_tokens}']), axis=1)"
   ],
   "metadata": {
    "collapsed": false,
    "ExecuteTime": {
     "end_time": "2024-10-03T08:25:07.551950Z",
     "start_time": "2024-10-03T08:25:01.557264Z"
    }
   },
   "id": "be23fa01b82a2a33",
   "execution_count": 26
  },
  {
   "cell_type": "code",
   "outputs": [
    {
     "data": {
      "text/plain": "<Axes: >"
     },
     "execution_count": 15,
     "metadata": {},
     "output_type": "execute_result"
    },
    {
     "data": {
      "text/plain": "<Figure size 640x480 with 1 Axes>",
      "image/png": "[encoded data removed]"
     },
     "metadata": {},
     "output_type": "display_data"
    }
   ],
   "source": [
    "pd.plotting.hist_series(df['wmd_question_answer_200'])"
   ],
   "metadata": {
    "collapsed": false,
    "ExecuteTime": {
     "end_time": "2024-10-13T19:49:21.585595Z",
     "start_time": "2024-10-13T19:49:21.312538Z"
    }
   },
   "id": "3b85abc6fba03762",
   "execution_count": 15
  },
  {
   "cell_type": "code",
   "outputs": [],
   "source": [
    "df['wmd_chunk_question'] = df.apply(lambda x: dist_evaluator.get_diversity_by_wmd(x['text_chunk'], x['questions_splitted']), axis=1)"
   ],
   "metadata": {
    "collapsed": false,
    "ExecuteTime": {
     "end_time": "2024-10-03T08:26:54.864830Z",
     "start_time": "2024-10-03T08:26:50.989321Z"
    }
   },
   "id": "b8810e6c5f0a1f2d",
   "execution_count": 28
  },
  {
   "cell_type": "code",
   "outputs": [
    {
     "data": {
      "text/plain": "<Axes: >"
     },
     "execution_count": 16,
     "metadata": {},
     "output_type": "execute_result"
    },
    {
     "data": {
      "text/plain": "<Figure size 640x480 with 1 Axes>",
      "image/png": "[encoded data removed]"
     },
     "metadata": {},
     "output_type": "display_data"
    }
   ],
   "source": [
    "pd.plotting.hist_series(df['wmd_chunk_question'])"
   ],
   "metadata": {
    "collapsed": false,
    "ExecuteTime": {
     "end_time": "2024-10-13T19:49:26.964970Z",
     "start_time": "2024-10-13T19:49:26.749364Z"
    }
   },
   "id": "dc220eed2c502e94",
   "execution_count": 16
  },
  {
   "cell_type": "code",
   "outputs": [],
   "source": [
    "df['coherence'] = df['questions_splitted'].apply(lambda x: OpenAIReq().call_api(prompt=PromptBuilder.get_coherence(x)))"
   ],
   "metadata": {
    "collapsed": false,
    "ExecuteTime": {
     "end_time": "2024-10-03T09:47:52.348195Z",
     "start_time": "2024-10-03T08:51:57.648311Z"
    }
   },
   "id": "32486365e32e803d",
   "execution_count": 31
  },
  {
   "cell_type": "code",
   "outputs": [],
   "source": [
    "df['coherence_pl'] = df['questions_splitted'].apply(lambda x: OpenAIReq().call_api(prompt=PromptBuilder.get_coherence_pl(x)))"
   ],
   "metadata": {
    "collapsed": false,
    "ExecuteTime": {
     "end_time": "2024-10-03T11:51:44.540521Z",
     "start_time": "2024-10-03T09:47:52.354108Z"
    }
   },
   "id": "1e2d4ac83e021dd8",
   "execution_count": 32
  },
  {
   "cell_type": "code",
   "outputs": [],
   "source": [
    "df[['coherence_rate', 'coherence_expl']] = df.coherence.str.split(',', n=1,  expand=True)\n",
    "df[['coherence_rate_pl', 'coherence_expl_pl']] = df.coherence_pl.str.split('|', n=1,  expand=True)\n"
   ],
   "metadata": {
    "collapsed": false,
    "ExecuteTime": {
     "end_time": "2024-10-03T12:18:10.862846Z",
     "start_time": "2024-10-03T12:18:10.853861Z"
    }
   },
   "id": "e268a89807a37499",
   "execution_count": 34
  },
  {
   "cell_type": "code",
   "outputs": [],
   "source": [
    "df['coherence_rate'] = df.coherence_rate_pl.str.replace('(', '')\n",
    "df['coherence_expl'] = df.coherence_expl_pl.str.replace(')', '')\n",
    "df['coherence_expl'] = df.coherence_expl_pl.str.replace('\"', '')"
   ],
   "metadata": {
    "collapsed": false,
    "ExecuteTime": {
     "end_time": "2024-10-03T12:18:11.857015Z",
     "start_time": "2024-10-03T12:18:11.842888Z"
    }
   },
   "id": "43136a7bb92d8b26",
   "execution_count": 35
  },
  {
   "cell_type": "code",
   "outputs": [],
   "source": [
    "df['relevance'] = df.apply(lambda x: OpenAIReq().call_api(prompt=PromptBuilder.get_relevance(question=x['questions_splitted'], context=x['text_chunk'])),axis=1)"
   ],
   "metadata": {
    "collapsed": false,
    "ExecuteTime": {
     "end_time": "2024-10-03T16:30:09.097433Z",
     "start_time": "2024-10-03T12:18:42.792982Z"
    }
   },
   "id": "e9f842efd52f19eb",
   "execution_count": 38
  },
  {
   "cell_type": "code",
   "outputs": [],
   "source": [
    "df['global_relevance'] = df.apply(lambda x: OpenAIReq().call_api(prompt=PromptBuilder.get_global_relevance(question=x['questions_splitted'])),axis=1)"
   ],
   "metadata": {
    "collapsed": false,
    "ExecuteTime": {
     "end_time": "2024-10-04T00:39:16.822797Z",
     "start_time": "2024-10-03T16:30:09.105571Z"
    }
   },
   "id": "a887b80b654bf7ae",
   "execution_count": 39
  },
  {
   "cell_type": "markdown",
   "source": [
    "## Evaluation"
   ],
   "metadata": {
    "collapsed": false
   },
   "id": "f7aa1a31225933b1"
  },
  {
   "cell_type": "code",
   "outputs": [
    {
     "name": "stderr",
     "output_type": "stream",
     "text": [
      "1024it [14:30,  1.18it/s]\n"
     ]
    }
   ],
   "source": [
    "reporting = Reporting(data=df)\n",
    "sim_matrix = reporting.create_similarity_matrix_for_wmd(on_column='questions_splitted')"
   ],
   "metadata": {
    "collapsed": false,
    "ExecuteTime": {
     "end_time": "2024-10-13T20:05:19.703926Z",
     "start_time": "2024-10-13T19:50:11.543791Z"
    }
   },
   "id": "16e6c8199c8c49e4",
   "execution_count": 17
  },
  {
   "cell_type": "code",
   "outputs": [
    {
     "data": {
      "text/plain": "(1024, 1024)"
     },
     "execution_count": 18,
     "metadata": {},
     "output_type": "execute_result"
    }
   ],
   "source": [
    "sim_matrix.shape"
   ],
   "metadata": {
    "collapsed": false,
    "ExecuteTime": {
     "end_time": "2024-10-13T20:12:49.205476Z",
     "start_time": "2024-10-13T20:12:49.200954Z"
    }
   },
   "id": "68a4ae67f367776d",
   "execution_count": 18
  },
  {
   "cell_type": "markdown",
   "source": [
    "#### Relevance anf global relevance"
   ],
   "metadata": {
    "collapsed": false
   },
   "id": "905e1e1aa6fc8a76"
  },
  {
   "cell_type": "code",
   "outputs": [
    {
     "data": {
      "text/plain": "relevance\n5    0.992188\n4    0.003906\n1    0.002930\n3    0.000977\nName: proportion, dtype: float64"
     },
     "execution_count": 21,
     "metadata": {},
     "output_type": "execute_result"
    }
   ],
   "source": [
    "df['relevance'].value_counts(normalize=True)"
   ],
   "metadata": {
    "collapsed": false,
    "ExecuteTime": {
     "end_time": "2024-10-13T20:18:36.368680Z",
     "start_time": "2024-10-13T20:18:36.362282Z"
    }
   },
   "id": "51e5504b2ce89534",
   "execution_count": 21
  },
  {
   "cell_type": "code",
   "outputs": [
    {
     "data": {
      "text/plain": "<Axes: >"
     },
     "execution_count": 22,
     "metadata": {},
     "output_type": "execute_result"
    },
    {
     "data": {
      "text/plain": "<Figure size 640x480 with 1 Axes>",
      "image/png": "[encoded data removed]"
     },
     "metadata": {},
     "output_type": "display_data"
    }
   ],
   "source": [
    "pd.plotting.hist_series(df['relevance'])"
   ],
   "metadata": {
    "collapsed": false,
    "ExecuteTime": {
     "end_time": "2024-10-13T20:18:43.519586Z",
     "start_time": "2024-10-13T20:18:43.242733Z"
    }
   },
   "id": "408b96484687baf8",
   "execution_count": 22
  },
  {
   "cell_type": "code",
   "outputs": [
    {
     "data": {
      "text/plain": "global_relevance\n5    0.993164\n1    0.003906\n4    0.000977\n3    0.000977\n2    0.000977\nName: proportion, dtype: float64"
     },
     "execution_count": 23,
     "metadata": {},
     "output_type": "execute_result"
    }
   ],
   "source": [
    "df['global_relevance'].value_counts(normalize=True)"
   ],
   "metadata": {
    "collapsed": false,
    "ExecuteTime": {
     "end_time": "2024-10-13T20:18:49.110407Z",
     "start_time": "2024-10-13T20:18:49.104802Z"
    }
   },
   "id": "5ca77a6713090ce1",
   "execution_count": 23
  },
  {
   "cell_type": "code",
   "outputs": [
    {
     "data": {
      "text/plain": "<Axes: >"
     },
     "execution_count": 24,
     "metadata": {},
     "output_type": "execute_result"
    },
    {
     "data": {
      "text/plain": "<Figure size 640x480 with 1 Axes>",
      "image/png": "[encoded data removed]"
     },
     "metadata": {},
     "output_type": "display_data"
    }
   ],
   "source": [
    "pd.plotting.hist_series(df['global_relevance'])"
   ],
   "metadata": {
    "collapsed": false,
    "ExecuteTime": {
     "end_time": "2024-10-13T20:18:52.187844Z",
     "start_time": "2024-10-13T20:18:51.915628Z"
    }
   },
   "id": "879f5428100c9f2",
   "execution_count": 24
  },
  {
   "cell_type": "markdown",
   "source": [
    "#### Coverage summary"
   ],
   "metadata": {
    "collapsed": false
   },
   "id": "1f955fad2b047bb7"
  },
  {
   "cell_type": "code",
   "outputs": [
    {
     "data": {
      "text/plain": "coverage_rating\n5    0.927734\n4    0.065430\n1    0.006836\nName: proportion, dtype: float64"
     },
     "execution_count": 43,
     "metadata": {},
     "output_type": "execute_result"
    }
   ],
   "source": [
    "df['coverage_rating'].value_counts(normalize=True)"
   ],
   "metadata": {
    "collapsed": false,
    "ExecuteTime": {
     "end_time": "2024-10-13T20:29:43.077387Z",
     "start_time": "2024-10-13T20:29:43.070871Z"
    }
   },
   "id": "8ad59ea8363aee59",
   "execution_count": 43
  },
  {
   "cell_type": "code",
   "outputs": [
    {
     "data": {
      "text/plain": "<Axes: >"
     },
     "execution_count": 26,
     "metadata": {},
     "output_type": "execute_result"
    },
    {
     "data": {
      "text/plain": "<Figure size 640x480 with 1 Axes>",
      "image/png": "[encoded data removed]"
     },
     "metadata": {},
     "output_type": "display_data"
    }
   ],
   "source": [
    "pd.plotting.hist_series(df['coverage_rating'])"
   ],
   "metadata": {
    "collapsed": false,
    "ExecuteTime": {
     "end_time": "2024-10-13T20:19:05.142737Z",
     "start_time": "2024-10-13T20:19:04.896878Z"
    }
   },
   "id": "bd4000fa90e48c2f",
   "execution_count": 26
  },
  {
   "cell_type": "markdown",
   "source": [
    "#### Word mover distance"
   ],
   "metadata": {
    "collapsed": false
   },
   "id": "3f937ce309018b65"
  },
  {
   "cell_type": "code",
   "outputs": [
    {
     "data": {
      "text/plain": "<Axes: >"
     },
     "execution_count": 27,
     "metadata": {},
     "output_type": "execute_result"
    },
    {
     "data": {
      "text/plain": "<Figure size 640x480 with 1 Axes>",
      "image/png": "[encoded data removed]"
     },
     "metadata": {},
     "output_type": "display_data"
    }
   ],
   "source": [
    "# WMD question <-> chunk\n",
    "pd.plotting.hist_series(df['wmd_chunk_question'])"
   ],
   "metadata": {
    "collapsed": false,
    "ExecuteTime": {
     "end_time": "2024-10-13T20:19:09.366747Z",
     "start_time": "2024-10-13T20:19:09.101926Z"
    }
   },
   "id": "ef3c5f0725bb2674",
   "execution_count": 27
  },
  {
   "cell_type": "code",
   "outputs": [
    {
     "name": "stdout",
     "output_type": "stream",
     "text": [
      "Mean for question to chunk for WMD is 0.18992659685328583 with std as 0.06288713143204415\n"
     ]
    }
   ],
   "source": [
    "mean_wmd_qch = df['wmd_chunk_question'].mean()\n",
    "std_wmd_qch = df['wmd_chunk_question'].std()\n",
    "print(f'Mean for question to chunk for WMD is {mean_wmd_qch} with std as {std_wmd_qch}')"
   ],
   "metadata": {
    "collapsed": false,
    "ExecuteTime": {
     "end_time": "2024-10-13T20:19:14.484757Z",
     "start_time": "2024-10-13T20:19:14.480695Z"
    }
   },
   "id": "ec28848a295df728",
   "execution_count": 28
  },
  {
   "cell_type": "code",
   "outputs": [
    {
     "data": {
      "text/plain": "<Axes: >"
     },
     "execution_count": 33,
     "metadata": {},
     "output_type": "execute_result"
    },
    {
     "data": {
      "text/plain": "<Figure size 640x480 with 1 Axes>",
      "image/png": "[encoded data removed]"
     },
     "metadata": {},
     "output_type": "display_data"
    }
   ],
   "source": [
    "# WMD question <-> answer\n",
    "pd.plotting.hist_series(df['wmd_question_answer_200'])"
   ],
   "metadata": {
    "collapsed": false,
    "ExecuteTime": {
     "end_time": "2024-10-13T20:20:31.519805Z",
     "start_time": "2024-10-13T20:20:31.237739Z"
    }
   },
   "id": "66afdbbab23c5202",
   "execution_count": 33
  },
  {
   "cell_type": "code",
   "outputs": [
    {
     "name": "stdout",
     "output_type": "stream",
     "text": [
      "Mean for question to answer for WMD is 0.1465598756315475 with std as 0.043860925168477095\n"
     ]
    }
   ],
   "source": [
    "mean_wmd_qa = df['wmd_question_answer_200'].mean()\n",
    "std_wmd_qa = df['wmd_question_answer_200'].std()\n",
    "print(f'Mean for question to answer for WMD is {mean_wmd_qa} with std as {std_wmd_qa}')"
   ],
   "metadata": {
    "collapsed": false,
    "ExecuteTime": {
     "end_time": "2024-10-13T20:20:35.778837Z",
     "start_time": "2024-10-13T20:20:35.774013Z"
    }
   },
   "id": "741cad69bf039531",
   "execution_count": 34
  },
  {
   "cell_type": "code",
   "outputs": [
    {
     "name": "stdout",
     "output_type": "stream",
     "text": [
      "Mean for question to question for WMD is 0.2319945366162956 with std as 0.058350289261069374\n"
     ]
    }
   ],
   "source": [
    "# WMD question <-> question\n",
    "std, mean = reporting.get_summary_for_wmd(sim_matrix)\n",
    "print(f'Mean for question to question for WMD is {mean} with std as {std}')"
   ],
   "metadata": {
    "collapsed": false,
    "ExecuteTime": {
     "end_time": "2024-10-13T20:20:38.456261Z",
     "start_time": "2024-10-13T20:20:38.424698Z"
    }
   },
   "id": "c9f0e941819d663",
   "execution_count": 35
  },
  {
   "cell_type": "markdown",
   "source": [],
   "metadata": {
    "collapsed": false
   },
   "id": "9874628d0ace862a"
  },
  {
   "cell_type": "markdown",
   "source": [
    "#### Coherence rate"
   ],
   "metadata": {
    "collapsed": false
   },
   "id": "27a3d2a581aaeee5"
  },
  {
   "cell_type": "code",
   "outputs": [
    {
     "data": {
      "text/plain": "coherence_rate_pl\n4    0.498047\n3    0.489258\n5    0.007812\n2    0.004883\nName: proportion, dtype: float64"
     },
     "execution_count": 21,
     "metadata": {},
     "output_type": "execute_result"
    }
   ],
   "source": [
    "df['coherence_rate_pl'].value_counts(normalize=True)"
   ],
   "metadata": {
    "collapsed": false,
    "ExecuteTime": {
     "end_time": "2024-11-09T23:24:58.800263Z",
     "start_time": "2024-11-09T23:24:58.793112Z"
    }
   },
   "id": "c4099e73a1bf499c",
   "execution_count": 21
  },
  {
   "cell_type": "code",
   "outputs": [
    {
     "data": {
      "text/plain": "<Axes: >"
     },
     "execution_count": 22,
     "metadata": {},
     "output_type": "execute_result"
    },
    {
     "data": {
      "text/plain": "<Figure size 640x480 with 1 Axes>",
      "image/png": "[encoded data removed]"
     },
     "metadata": {},
     "output_type": "display_data"
    }
   ],
   "source": [
    "pd.plotting.hist_series(df['coherence_rate_pl'])"
   ],
   "metadata": {
    "collapsed": false,
    "ExecuteTime": {
     "end_time": "2024-11-09T23:25:00.125921Z",
     "start_time": "2024-11-09T23:24:59.956720Z"
    }
   },
   "id": "987013fbd397663d",
   "execution_count": 22
  },
  {
   "cell_type": "code",
   "outputs": [
    {
     "data": {
      "text/plain": "coherence_rate\n3.0    0.454102\n4.0    0.404297\n2.0    0.130859\n0.0    0.010742\nName: proportion, dtype: float64"
     },
     "execution_count": 24,
     "metadata": {},
     "output_type": "execute_result"
    }
   ],
   "source": [
    "df['coherence_rate'] = pd.to_numeric(df.coherence_rate, errors='coerce').fillna(0) # there are some single rows with wrong values (not parsed correctly), removing them as they do not provide mush difference in the final results.\n",
    "df['coherence_rate'].value_counts(normalize=True)"
   ],
   "metadata": {
    "collapsed": false,
    "ExecuteTime": {
     "end_time": "2024-11-09T23:25:09.383147Z",
     "start_time": "2024-11-09T23:25:09.375610Z"
    }
   },
   "id": "5d34ab5a1281f872",
   "execution_count": 24
  },
  {
   "cell_type": "code",
   "outputs": [
    {
     "data": {
      "text/plain": "<Axes: >"
     },
     "execution_count": 25,
     "metadata": {},
     "output_type": "execute_result"
    },
    {
     "data": {
      "text/plain": "<Figure size 640x480 with 1 Axes>",
      "image/png": "[encoded data removed]"
     },
     "metadata": {},
     "output_type": "display_data"
    }
   ],
   "source": [
    "pd.plotting.hist_series(df['coherence_rate'])"
   ],
   "metadata": {
    "collapsed": false,
    "ExecuteTime": {
     "end_time": "2024-11-09T23:25:12.918697Z",
     "start_time": "2024-11-09T23:25:12.782300Z"
    }
   },
   "id": "7c45f0cb8ec2c703",
   "execution_count": 25
  },
  {
   "cell_type": "markdown",
   "source": [
    "### Evaluation Summary\n",
    "From the results we can conclude that GPT prepared for us quite good dataset - majority of values are high (low in terms of similarity). The only outlier in those results is the coherence score which can be taken for further investigation and analysis. Both polish and english version are not generating the best scores - they are placed somewhere in the upper middle (3 and 4 rating).\n",
    "\n",
    "Overall, the results have proven that generated question with support of GPT model are good enough to use them as the input instructions for the model. Now, question value pairs will be transformed into the proper structure to be later on used for fine tuning.   "
   ],
   "metadata": {
    "collapsed": false
   },
   "id": "c88e44c8d5cdde6"
  },
  {
   "cell_type": "markdown",
   "source": [
    "## Data preparation for FT"
   ],
   "metadata": {
    "collapsed": false
   },
   "id": "f708262ea3739e2e"
  },
  {
   "cell_type": "code",
   "outputs": [],
   "source": [
    "qa_df_200 = df[['questions_splitted', 'answer_200']]\n",
    "qa_df_200 = qa_df_200.rename(columns={'questions_splitted': 'question', 'answer_200': 'answer'})\n",
    "now = datetime.datetime.now().strftime('%Y%m%d_%H%M%S')\n",
    "with open(f'ft_output_data/data_ft_{now}.jsonl', \"w\") as f:\n",
    "    f.write(qa_df_200.to_json(orient='records', lines=True, force_ascii=False))"
   ],
   "metadata": {
    "collapsed": false,
    "ExecuteTime": {
     "end_time": "2024-10-04T14:08:37.855933Z",
     "start_time": "2024-10-04T14:08:37.793839Z"
    }
   },
   "id": "d686ed05cd390e49",
   "execution_count": 21
  },
  {
   "cell_type": "markdown",
   "source": [
    "## Summary\n",
    "As our last piece of code is executed, we can finish first part of this article - data preparation. I hope you enjoyed it as much as! Let's move on to the second part of the finetuning polish LLM model with our generated data. \n",
    "\n",
    "See ya! "
   ],
   "metadata": {
    "collapsed": false
   },
   "id": "93a27f8196bc6a6e"
  },
  {
   "cell_type": "markdown",
   "source": [
    "## References and sources\n",
    "1. https://arxiv.org/abs/2401.08406\n",
    "2. https://www.statista.com/statistics/262946/most-common-languages-on-the-internet/\n",
    "3. https://medium.com/@bijit211987/the-rise-of-small-language-models-efficient-customizable-cb48ddee2aad\n",
    "4. https://python.langchain.com/docs/how_to/recursive_text_splitter/\n",
    "5. https://radimrehurek.com/gensim/auto_examples/tutorials/run_wmd.html"
   ],
   "metadata": {
    "collapsed": false
   },
   "id": "f40808e2ba10e919"
  },
  {
   "cell_type": "code",
   "outputs": [],
   "source": [],
   "metadata": {
    "collapsed": false
   },
   "id": "47f37b69a930e5c7"
  }
 ],
 "metadata": {
  "kernelspec": {
   "display_name": "Python 3",
   "language": "python",
   "name": "python3"
  },
  "language_info": {
   "codemirror_mode": {
    "name": "ipython",
    "version": 2
   },
   "file_extension": ".py",
   "mimetype": "text/x-python",
   "name": "python",
   "nbconvert_exporter": "python",
   "pygments_lexer": "ipython2",
   "version": "2.7.6"
  }
 },
 "nbformat": 4,
 "nbformat_minor": 5
}
