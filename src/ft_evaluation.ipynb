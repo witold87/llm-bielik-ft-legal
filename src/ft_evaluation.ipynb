{
 "cells": [
  {
   "cell_type": "code",
   "id": "initial_id",
   "metadata": {
    "collapsed": true,
    "ExecuteTime": {
     "end_time": "2024-09-02T21:46:54.704630Z",
     "start_time": "2024-09-02T21:46:52.516553Z"
    }
   },
   "source": [
    "import torch\n",
    "from peft import PeftModel\n",
    "from transformers import AutoTokenizer, AutoModelForCausalLM, BitsAndBytesConfig\n",
    "import pymupdf"
   ],
   "outputs": [],
   "execution_count": 1
  },
  {
   "metadata": {
    "ExecuteTime": {
     "end_time": "2024-09-02T21:54:15.278483Z",
     "start_time": "2024-09-02T21:53:58.098020Z"
    }
   },
   "cell_type": "code",
   "source": [
    "base_model_id = \"speakleash/Bielik-7B-v0.1\"\n",
    "bnb_config = BitsAndBytesConfig(\n",
    "    # llm_int8_enable_fp32_cpu_offload=True,\n",
    "    load_in_4bit=True,\n",
    "    bnb_4bit_use_double_quant=True,\n",
    "    bnb_4bit_quant_type=\"nf4\",\n",
    "    bnb_4bit_compute_dtype=torch.bfloat16\n",
    ")\n",
    "\n",
    "base_model = AutoModelForCausalLM.from_pretrained(\n",
    "    base_model_id,  # Mistral, same as before\n",
    "    quantization_config=bnb_config,  # Same quantization config as before\n",
    "    device_map=\"auto\",\n",
    "    trust_remote_code=True\n",
    ")\n",
    "eval_tokenizer = AutoTokenizer.from_pretrained(base_model_id, add_bos_token=True, trust_remote_code=True)"
   ],
   "id": "3a2ead6783c8b8a1",
   "outputs": [
    {
     "data": {
      "text/plain": [
       "Loading checkpoint shards:   0%|          | 0/3 [00:00<?, ?it/s]"
      ],
      "application/vnd.jupyter.widget-view+json": {
       "version_major": 2,
       "version_minor": 0,
       "model_id": "8216c7a3f9564e83a9725c951eea1b39"
      }
     },
     "metadata": {},
     "output_type": "display_data"
    }
   ],
   "execution_count": 2
  },
  {
   "metadata": {
    "ExecuteTime": {
     "end_time": "2024-09-02T21:54:43.247858Z",
     "start_time": "2024-09-02T21:54:41.824909Z"
    }
   },
   "cell_type": "code",
   "source": "evaluated_ft_model = PeftModel.from_pretrained(base_model, \"bielik-legal-finetune/checkpoint-400\")",
   "id": "e4e78f4198264d5f",
   "outputs": [],
   "execution_count": 3
  },
  {
   "metadata": {
    "ExecuteTime": {
     "end_time": "2024-09-02T21:55:06.262552Z",
     "start_time": "2024-09-02T21:55:06.187467Z"
    }
   },
   "cell_type": "code",
   "source": [
    "# load eval data\n",
    "path = 'evaluation_data/umowa wzór.pdf'\n",
    "\n",
    "all_data = pymupdf.open(path)\n",
    "all_pages = []\n",
    "for document in all_data:\n",
    "    text_page = document.get_textpage().extractText()\n",
    "    #chunks_per_page = splitter.split_text(text_page)\n",
    "    all_pages.append(text_page)\n",
    "\n",
    "print(len(all_pages))\n",
    "base_context = all_pages[0]"
   ],
   "id": "a20f1d0452cc21be",
   "outputs": [
    {
     "name": "stdout",
     "output_type": "stream",
     "text": [
      "3\n"
     ]
    }
   ],
   "execution_count": 4
  },
  {
   "metadata": {
    "ExecuteTime": {
     "end_time": "2024-09-02T22:19:25.654866Z",
     "start_time": "2024-09-02T22:19:25.649360Z"
    }
   },
   "cell_type": "code",
   "source": [
    "def build_prompt(context: str, question: str) -> str:\n",
    "    messages = [\n",
    "        {\n",
    "            \"role\": \"system\",\n",
    "            \"content\": \"Jesteś prawniczym asystentem, ktory precyzyjnie odpowiada na pytania użytkowników\",\n",
    "        },\n",
    "        {\n",
    "            \"role\": \"user\",\n",
    "            \"content\": f\"Mając poniższy kontekst {context} odpowiedz proszę na pytanie: {question}\"\n",
    "        }\n",
    "\n",
    "    ]\n",
    "    return messages"
   ],
   "id": "a4877c70c9c9cf95",
   "outputs": [],
   "execution_count": 40
  },
  {
   "metadata": {
    "ExecuteTime": {
     "end_time": "2024-09-02T22:19:26.354878Z",
     "start_time": "2024-09-02T22:19:26.338322Z"
    }
   },
   "cell_type": "code",
   "source": [
    "# query = input(\"Enter your prompt: \")\n",
    "#       messages = [\n",
    "#          {\"role\": \"user\", \"content\": str(query)}\n",
    "#       ]\n",
    "#       encodeds = tokenizer.apply_chat_template(messages, return_tensors=\"pt\").to(\"cuda\")\n",
    "#       generated_ids = model.generate(encodeds, max_new_tokens=300, do_sample=False)\n",
    "#       decoded = tokenizer.batch_decode(generated_ids)"
   ],
   "id": "cdf0159bff4738aa",
   "outputs": [],
   "execution_count": 41
  },
  {
   "metadata": {
    "ExecuteTime": {
     "end_time": "2024-09-02T22:28:21.552808Z",
     "start_time": "2024-09-02T22:28:21.540086Z"
    }
   },
   "cell_type": "code",
   "source": [
    "eval_questions = [\n",
    "    \"Jakie są strony postępowania?\",\n",
    "    \"Jakie są najważniejsze postanowienia niniejszej umowy?\",\n",
    "    \"Jakie są najważniejsze daty w poniższej umowie?\",\n",
    "    \"Jaki jest adres firmy?\",\n",
    "    \"Czy umowa zawiera klauzule abuzywne?\",\n",
    "    \"Jaka jest kwota zadatku?\"\n",
    "]"
   ],
   "id": "bdaad9d0bf249ab0",
   "outputs": [],
   "execution_count": 49
  },
  {
   "metadata": {
    "ExecuteTime": {
     "end_time": "2024-09-02T22:28:25.735315Z",
     "start_time": "2024-09-02T22:28:25.718300Z"
    }
   },
   "cell_type": "code",
   "source": "user_question = f\"Wskaż zapisy abuzywne w poniższej umowie\"",
   "id": "4b992d722f9e5be",
   "outputs": [],
   "execution_count": 50
  },
  {
   "metadata": {
    "ExecuteTime": {
     "end_time": "2024-09-02T22:28:28.585135Z",
     "start_time": "2024-09-02T22:28:26.174331Z"
    }
   },
   "cell_type": "code",
   "source": [
    "model_input = eval_tokenizer.apply_chat_template(build_prompt(context=base_context, question=eval_questions[5]), return_tensors=\"pt\").to(\"cuda\")\n",
    "with torch.no_grad():\n",
    "    generated_ids = evaluated_ft_model.generate(model_input, max_new_tokens=300, do_sample=False, pad_token_id=eval_tokenizer.eos_token_id)\n",
    "    decoded = eval_tokenizer.batch_decode(generated_ids)\n",
    "    print(decoded)"
   ],
   "id": "ee7fd66f40bc6158",
   "outputs": [
    {
     "name": "stdout",
     "output_type": "stream",
     "text": [
      "['<s> [INST] <<SYS>>\\nJesteś prawniczym asystentem, ktory precyzyjnie odpowiada na pytania użytkowników\\n<</SYS>>\\n\\nMając poniższy kontekst  \\n \\n13 \\nZawarta w dniu: (data wystawienia faktury zaliczkowej) pomiędzy: \\nAKANT  Sp. z o.o.  \\n75-213 Koszalin, ul. Lniana 7A NIP 6692523420 \\nSalon Firmowy AKANT, 93-613 Łódź, ul. Kolumny 239 \\nnr konta bankowego BANK ING Bank Śląski S.A . 70105015591000002446556660 \\nreprezentowanym przez: Robert Jaśkiewicz, zwanym dalej „wykonawcą”, a \\n(Imię i nazwisko Klienta lub nazwa i NIP  firmy) \\n(kod pocztowy, miejscowość) \\n(ulica, numer domu/mieszkania/lokalu) \\nzwanym dalej „zamawiający”. \\n \\n§1 \\nZamawiający zleca wykonawcy modernizację mieszkania/domu jednorodzinnego poprzez montaż systemów osłonowych \\nokien na zasadach ustalonych w niniejszej umowie w lokalu mieszkalnym położonym w (miejsce montażu). \\nUmowa obejmuje poniższe systemy osłonowe:  \\n1. \\n(Produkt ,ilość). \\n \\nSzczegóły zamówienia wg oferty, która stanowi integralną część umowy. \\n \\n§2 \\nWykonawca zapewnia niezbędne materiały, wyroby bądź produkty do wykonania przedmiotu umowy. Przedmiot umowy \\nbędzie wykonany na indywidualne zamówienie Zamawiającego, pod wymiar, przy uwzględnieniu zindywidualizowanych \\npotrzeb Zamawiającego i na podstawie zaakceptowanej oferty przez Zamawiającego. Umowa podana jest do wiadomości i \\nakceptacji Zamawiającego w formie pisemnej lub elektronicznej i wiąże Zamawiającego z chwilą jej zaznajomienia i \\npotwierdzenia własnoręcznym podpisem bądź akceptacją wysłaną w odpowiedzi zwrotnej drogą elektroniczną. \\nZamawiający zobowiązuje się do zapewnienia Wykonawcy dostępu do obiektu i miejsca prowadzenia prac w zakresie \\numożliwiającym wykonanie przedmiotu umowy.  \\n \\n§3 \\nWykonanie usługi nastąpi w terminie 14-28  dni roboczych od dnia wpłaty zadatku. Montaż ustalany jest telefonicznie przez \\nobie Strony po wyprodukowaniu/dostawie systemów osłonowych  do salonu sprzedaży Akant. Termin realizacji zamówienia \\nbiegnie od momentu otrzymania przez Wykonawcę wpłaty/wpłynięcia na rachunek bankowy Wykonawcy określonej przy \\nzamówieniu kwoty zadatku i podpisania/akceptacji niniejszej umowy. Wykonawca zastrzega sobie prawo do opóźnienia w \\nrealizacji z przyczyn niezależnych. \\n \\n§4 \\nNależność za przedmiot umowy ustala się na kwotę (……)zł/brutto. Zadatek ustala się na kwotę (…..) zł/brutto, płatny \\ngotówką lub przelewem na numer konta umieszczony na fakturze proforma, po jego zaksięgowaniu zostanie wystawiona \\nfaktura zaliczkowa.  Pozostała kwota w wysokości (…..)zł/brutto, płatna gotówką lub kartą po otrzymaniu faktury końcowej \\nw dniu montażu. Wykonawca zastrzega sobie prawo własności dostarczonych/zamontowanych systemów osłonowych do \\nchwili uregulowania faktury końcowej. Złożenie uwag dotyczących wykonania usługi nie wstrzymuje zapłaty, którą \\nzamawiający zobowiązany jest zapłacić wykonawcy. \\n \\n§5 \\nZamawiający wyraża zgodę na publikację zdjęć z realizacji w lokalu/mieszkaniu/domu w celach marketingowych. \\n \\n§7 \\nWszelkie zmiany dotyczące niniejszej umowy wymagają formy pisemnej pod rygorem nieważności. \\n \\n§8 \\nSprawy nie ujęte w niniejszej umowie reguluje Kodeks Cywilny. Ewentualne spory będą rozpoznawane i rozpatrywane przed \\nsądem właściwym dla miasta Koszalin. \\n \\n§9 \\nUmowę sporządza się w 2 jednobrzmiących egzemplarzach, po jednym dla każdej ze stron. \\n \\n \\n                                  WYKONAWCA                                                                                            ZAMAWIAJĄCY \\nz up. .…………………………………………………………………….                 ……………………………………………………………………………… \\nUMOWA NA ŚWIADCZENIE USŁUG \\n \\n odpowiedz proszę na pytanie: Jaka jest kwota zadatku? [/INST] Kwota zadatku wynosi (...) zł/brutto. </s>']\n"
     ]
    }
   ],
   "execution_count": 51
  },
  {
   "metadata": {},
   "cell_type": "code",
   "source": [
    "# how messages look for model\n",
    "# print(eval_tokenizer.decode(model_input[0]))"
   ],
   "id": "6cb5aee100de3365",
   "outputs": [],
   "execution_count": null
  },
  {
   "metadata": {},
   "cell_type": "code",
   "source": [
    "# evaluated_ft_model.eval()\n",
    "# with torch.no_grad():\n",
    "#     print(eval_tokenizer.decode(\n",
    "#         evaluated_ft_model.generate(**model_input, max_new_tokens=600, repetition_penalty=1.15)[0],\n",
    "#         skip_special_tokens=True))"
   ],
   "id": "c8276c290294e34c",
   "outputs": [],
   "execution_count": null
  },
  {
   "metadata": {},
   "cell_type": "code",
   "outputs": [],
   "execution_count": null,
   "source": "",
   "id": "e117b3bebd6921ba"
  }
 ],
 "metadata": {
  "kernelspec": {
   "display_name": "Python 3",
   "language": "python",
   "name": "python3"
  },
  "language_info": {
   "codemirror_mode": {
    "name": "ipython",
    "version": 2
   },
   "file_extension": ".py",
   "mimetype": "text/x-python",
   "name": "python",
   "nbconvert_exporter": "python",
   "pygments_lexer": "ipython2",
   "version": "2.7.6"
  }
 },
 "nbformat": 4,
 "nbformat_minor": 5
}
