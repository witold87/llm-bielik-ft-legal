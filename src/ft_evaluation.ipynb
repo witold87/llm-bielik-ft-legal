{
 "cells": [
  {
   "cell_type": "code",
   "id": "initial_id",
   "metadata": {
    "collapsed": true,
    "ExecuteTime": {
     "end_time": "2024-09-09T20:31:35.763257Z",
     "start_time": "2024-09-09T20:31:35.747259Z"
    }
   },
   "source": [
    "import torch\n",
    "from peft import PeftModel\n",
    "from transformers import AutoTokenizer, AutoModelForCausalLM, BitsAndBytesConfig\n",
    "import pymupdf\n",
    "import pandas as pd"
   ],
   "outputs": [],
   "execution_count": 12
  },
  {
   "metadata": {
    "ExecuteTime": {
     "end_time": "2024-09-09T20:19:13.748686Z",
     "start_time": "2024-09-09T20:18:54.002509Z"
    }
   },
   "cell_type": "code",
   "source": [
    "base_model_id = \"speakleash/Bielik-7B-v0.1\"\n",
    "bnb_config = BitsAndBytesConfig(\n",
    "    # llm_int8_enable_fp32_cpu_offload=True,\n",
    "    load_in_4bit=True,\n",
    "    bnb_4bit_use_double_quant=True,\n",
    "    bnb_4bit_quant_type=\"nf4\",\n",
    "    bnb_4bit_compute_dtype=torch.bfloat16\n",
    ")\n",
    "\n",
    "base_model = AutoModelForCausalLM.from_pretrained(\n",
    "    base_model_id,  # Mistral, same as before\n",
    "    quantization_config=bnb_config,  # Same quantization config as before\n",
    "    device_map=\"auto\",\n",
    "    trust_remote_code=True\n",
    ")\n",
    "eval_tokenizer = AutoTokenizer.from_pretrained(base_model_id, add_bos_token=True, trust_remote_code=True)"
   ],
   "id": "3a2ead6783c8b8a1",
   "outputs": [
    {
     "data": {
      "text/plain": [
       "Loading checkpoint shards:   0%|          | 0/3 [00:00<?, ?it/s]"
      ],
      "application/vnd.jupyter.widget-view+json": {
       "version_major": 2,
       "version_minor": 0,
       "model_id": "20abac4ff32e45c98c96ba86309e9abb"
      }
     },
     "metadata": {},
     "output_type": "display_data"
    }
   ],
   "execution_count": 2
  },
  {
   "metadata": {
    "ExecuteTime": {
     "end_time": "2024-09-09T20:19:15.648942Z",
     "start_time": "2024-09-09T20:19:14.326623Z"
    }
   },
   "cell_type": "code",
   "source": "evaluated_ft_model = PeftModel.from_pretrained(base_model, \"bielik-legal-finetune/checkpoint-400\")",
   "id": "e4e78f4198264d5f",
   "outputs": [],
   "execution_count": 3
  },
  {
   "metadata": {
    "ExecuteTime": {
     "end_time": "2024-09-09T20:19:15.743180Z",
     "start_time": "2024-09-09T20:19:15.681105Z"
    }
   },
   "cell_type": "code",
   "source": [
    "# load eval data\n",
    "path = 'evaluation_data/umowa wzór.pdf'\n",
    "\n",
    "all_data = pymupdf.open(path)\n",
    "all_pages = []\n",
    "for document in all_data:\n",
    "    text_page = document.get_textpage().extractText()\n",
    "    #chunks_per_page = splitter.split_text(text_page)\n",
    "    all_pages.append(text_page)\n",
    "\n",
    "print(len(all_pages))\n",
    "base_context = all_pages[0]"
   ],
   "id": "a20f1d0452cc21be",
   "outputs": [
    {
     "name": "stdout",
     "output_type": "stream",
     "text": [
      "3\n"
     ]
    }
   ],
   "execution_count": 4
  },
  {
   "metadata": {
    "ExecuteTime": {
     "end_time": "2024-09-09T20:19:15.789778Z",
     "start_time": "2024-09-09T20:19:15.774846Z"
    }
   },
   "cell_type": "code",
   "source": [
    "def build_prompt(context: str, question: str) -> str:\n",
    "    messages = [\n",
    "        {\n",
    "            \"role\": \"system\",\n",
    "            \"content\": \"Jesteś prawniczym asystentem, ktory precyzyjnie odpowiada na pytania użytkowników\",\n",
    "        },\n",
    "        {\n",
    "            \"role\": \"user\",\n",
    "            \"content\": f\"Mając poniższy kontekst {context} odpowiedz proszę na pytanie: {question}\"\n",
    "        }\n",
    "\n",
    "    ]\n",
    "    return messages"
   ],
   "id": "a4877c70c9c9cf95",
   "outputs": [],
   "execution_count": 5
  },
  {
   "metadata": {
    "ExecuteTime": {
     "end_time": "2024-09-09T20:19:15.821474Z",
     "start_time": "2024-09-09T20:19:15.806784Z"
    }
   },
   "cell_type": "code",
   "source": [
    "# query = input(\"Enter your prompt: \")\n",
    "#       messages = [\n",
    "#          {\"role\": \"user\", \"content\": str(query)}\n",
    "#       ]\n",
    "#       encodeds = tokenizer.apply_chat_template(messages, return_tensors=\"pt\").to(\"cuda\")\n",
    "#       generated_ids = model.generate(encodeds, max_new_tokens=300, do_sample=False)\n",
    "#       decoded = tokenizer.batch_decode(generated_ids)"
   ],
   "id": "cdf0159bff4738aa",
   "outputs": [],
   "execution_count": 6
  },
  {
   "metadata": {
    "ExecuteTime": {
     "end_time": "2024-09-09T21:18:35.172480Z",
     "start_time": "2024-09-09T21:18:35.163480Z"
    }
   },
   "cell_type": "code",
   "source": [
    "eval_questions = [\n",
    "    \"Jakie są strony postępowania?\",\n",
    "    \"Jakie są najważniejsze postanowienia niniejszej umowy?\",\n",
    "    \"Jakie są najważniejsze daty w poniższej umowie?\",\n",
    "    \"Jaki jest adres firmy?\",\n",
    "    \"Czy umowa zawiera klauzule abuzywne?\",\n",
    "    \"Jaka jest kwota zadatku?\",\n",
    "    \"W jaki sposób przedsiębiorca może udowodnić, że nie znał danego publicznego zapewnienia i rozsądnie nie mógł o nim wiedzieć?\"\n",
    "]"
   ],
   "id": "bdaad9d0bf249ab0",
   "outputs": [],
   "execution_count": 38
  },
  {
   "metadata": {
    "ExecuteTime": {
     "end_time": "2024-09-09T21:18:37.395422Z",
     "start_time": "2024-09-09T21:18:37.386418Z"
    }
   },
   "cell_type": "code",
   "source": [
    "eval_questions_df = pd.DataFrame(eval_questions, columns=['question'])\n",
    "eval_questions_df.to_csv('eval_questions.csv', sep=';', index=False)"
   ],
   "id": "7616064a9221f69d",
   "outputs": [],
   "execution_count": 39
  },
  {
   "metadata": {
    "ExecuteTime": {
     "end_time": "2024-09-09T22:09:46.498178Z",
     "start_time": "2024-09-09T22:09:46.492177Z"
    }
   },
   "cell_type": "code",
   "source": [
    "def inference(question: str):\n",
    "    model_input = eval_tokenizer.apply_chat_template(build_prompt(context=base_context, question=question), return_tensors=\"pt\").to(\"cuda\")\n",
    "    with torch.no_grad():\n",
    "        generated_ids = evaluated_ft_model.generate(model_input, max_new_tokens=600, do_sample=False, pad_token_id=eval_tokenizer.eos_token_id)\n",
    "        #generated_ids_base = base_model.generate(model_input, max_new_tokens=500, do_sample=False, pad_token_id=eval_tokenizer.eos_token_id)\n",
    "        decoded = eval_tokenizer.batch_decode(generated_ids)\n",
    "        #res = eval_tokenizer.decode(evaluated_ft_model.generate(model_input, max_new_tokens=600, do_sample=False, repetition_penalty=1.15)[0], skip_special_tokens=True)\n",
    "    \n",
    "    #decoded_base = eval_tokenizer.batch_decode(generated_ids_base)\n",
    "    \n",
    "    # Evaluated model\n",
    "    looked_word = '[/INST]'\n",
    "    inst_end = decoded[0].index(looked_word)\n",
    "    answer = decoded[0][inst_end+len(looked_word):]\n",
    "    print('*' * 20)\n",
    "    print(answer)\n",
    "    return answer\n",
    "\n",
    "\n",
    "# print('#' * 20)\n",
    "# print(res)\n",
    "# Base model\n",
    "# inst_end = decoded_base[0].index(looked_word)\n",
    "# answer_base = decoded_base[0][inst_end+len(looked_word):]\n",
    "# print('*' * 20)\n",
    "# print(answer_base)"
   ],
   "id": "5ec59356ba29d6b2",
   "outputs": [],
   "execution_count": 46
  },
  {
   "metadata": {
    "ExecuteTime": {
     "end_time": "2024-09-09T22:11:34.950491Z",
     "start_time": "2024-09-09T22:09:47.840734Z"
    }
   },
   "cell_type": "code",
   "source": "eval_questions_df['bielik-v1-ft'] = eval_questions_df['question'].apply(inference)",
   "id": "cfdcf23f529f1616",
   "outputs": [
    {
     "name": "stdout",
     "output_type": "stream",
     "text": [
      "********************\n",
      " Stronami postępowania są AKANT Sp. z o.o. jako wykonawca oraz zamawiający, którym jest osoba fizyczna lub prawna, która zleca wykonanie usługi. </s>\n",
      "********************\n",
      " Najważniejsze postanowienia niniejszej umowy to:\n",
      "\n",
      "1. Przedmiotem umowy jest modernizacja mieszkania/domu poprzez montaż systemów osłonowych okien.\n",
      "2. Umowa obejmuje poniższe systemy osłonowe: 1. (Produkt, ilość).\n",
      "3. Wykonawca zapewnia niezbędne materiały, wyroby bądź produkty do wykonania przedmiotu umowy.\n",
      "4. Przedmiot umowy będzie wykonany na indywidualne zamówienie Zamawiającego, pod wymiar, przy uwzględnieniu \n",
      "zindywidualizowanych potrzeb Zamawiającego i na podstawie zaakceptowanej oferty przez Zamawiającego.\n",
      "5. Zamawiający zobowiązuje się do zapewnienia Wykonawcy dostępu do obiektu i miejsca prowadzenia prac.\n",
      "6. Wykonanie usługi nastąpi w terminie 14-28 dni roboczych od dnia wpłaty zadatku.\n",
      "7. Należność za przedmiot umowy ustala się na kwotę (…..)zł/brutto, z czego zadatek wynosi (…..) zł/brutto.\n",
      "8. Wykonawca zastrzega sobie prawo do opóźnienia w realizacji z przyczyn niezależnych.\n",
      "9. Zamawiający wyraża zgodę na publikację zdjęć z realizacji w lokalu/mieszkaniu/domu w celach marketingowych.\n",
      "10. Wszelkie zmiany dotyczące niniejszej umowy wymagają formy pisemnej pod rygorem nieważności.\n",
      "11. Sprawy nie ujęte w niniejszej umowie reguluje Kodeks Cywilny.\n",
      "12. Ewentualne spory będą rozpoznawane i rozpatrywane przed sądem właściwym dla miasta Koszalin.\n",
      "13. Umowę sporządza się w 2 jednobrzmiących egzemplarzach, po jednym dla każdej ze stron. </s>\n",
      "********************\n",
      " Najważniejsze daty w poniższej umowie to: \n",
      "1. Data wystawienia faktury zaliczkowej.\n",
      "2. Data montażu systemów osłonowych.\n",
      "3. Termin realizacji zamówienia.\n",
      "4. Termin płatności zadatku.\n",
      "5. Termin płatności pozostałej kwoty.\n",
      "6. Data podpisania umowy. </s>\n",
      "********************\n",
      " Adres firmy: AKANT  Sp. z o.o. 75-213 Koszalin, ul. Lniana 7A </s>\n",
      "********************\n",
      " Tak, umowa zawiera klauzule abuzywne. Przykładem takiej klauzuli jest zapis dotyczący prawa własności dostarczonych/zamontowanych systemów osłonowych do chwili uregulowania faktury końcowej. Zgodnie z przepisami prawa konsumenckiego, taka klauzula może być uznana za nieważną i niezgodną z zasadami równości stron umowy. </s>\n",
      "********************\n",
      " Kwota zadatku wynosi (...) zł/brutto. </s>\n",
      "********************\n",
      " Przedsiębiorca może udowodnić, że nie znał danego publicznego zapewnienia i rozsądnie nie mógł o nim wiedzieć, poprzez przedstawienie dowodów, takich jak dokumentacja, korespondencja, zapisy rozmów telefonicznych, e-maile, notatki służbowe, czy też zeznania świadków. Istotne jest, aby udowodnić, że przedsiębiorca nie miał świadomości istnienia publicznego zapewnienia oraz że nie mógł rozsądnie wiedzieć o jego istnieniu. W przypadku sporu, przedsiębiorca może przedstawić dowody na swoją obronę, takie jak dokumentacja dotycząca zawierania umowy, korespondencja z klientem, czy też zeznania pracowników. Ważne jest, aby udowodnić, że przedsiębiorca nie miał możliwości uzyskania informacji o publicznym zapewnieniu oraz że nie mógł rozsądnie wiedzieć o jego istnieniu. </s>\n"
     ]
    }
   ],
   "execution_count": 47
  },
  {
   "metadata": {
    "ExecuteTime": {
     "end_time": "2024-09-09T22:14:56.536174Z",
     "start_time": "2024-09-09T22:14:56.521173Z"
    }
   },
   "cell_type": "code",
   "source": "eval_questions_df.head()",
   "id": "8c57aaaa39b81f6",
   "outputs": [
    {
     "data": {
      "text/plain": [
       "                                            question  \\\n",
       "0                      Jakie są strony postępowania?   \n",
       "1  Jakie są najważniejsze postanowienia niniejsze...   \n",
       "2    Jakie są najważniejsze daty w poniższej umowie?   \n",
       "3                             Jaki jest adres firmy?   \n",
       "4               Czy umowa zawiera klauzule abuzywne?   \n",
       "\n",
       "                                        bielik-v1-ft  \n",
       "0   Stronami postępowania są AKANT Sp. z o.o. jak...  \n",
       "1   Najważniejsze postanowienia niniejszej umowy ...  \n",
       "2   Najważniejsze daty w poniższej umowie to: \\n1...  \n",
       "3   Adres firmy: AKANT  Sp. z o.o. 75-213 Koszali...  \n",
       "4   Tak, umowa zawiera klauzule abuzywne. Przykła...  "
      ],
      "text/html": [
       "<div>\n",
       "<style scoped>\n",
       "    .dataframe tbody tr th:only-of-type {\n",
       "        vertical-align: middle;\n",
       "    }\n",
       "\n",
       "    .dataframe tbody tr th {\n",
       "        vertical-align: top;\n",
       "    }\n",
       "\n",
       "    .dataframe thead th {\n",
       "        text-align: right;\n",
       "    }\n",
       "</style>\n",
       "<table border=\"1\" class=\"dataframe\">\n",
       "  <thead>\n",
       "    <tr style=\"text-align: right;\">\n",
       "      <th></th>\n",
       "      <th>question</th>\n",
       "      <th>bielik-v1-ft</th>\n",
       "    </tr>\n",
       "  </thead>\n",
       "  <tbody>\n",
       "    <tr>\n",
       "      <th>0</th>\n",
       "      <td>Jakie są strony postępowania?</td>\n",
       "      <td>Stronami postępowania są AKANT Sp. z o.o. jak...</td>\n",
       "    </tr>\n",
       "    <tr>\n",
       "      <th>1</th>\n",
       "      <td>Jakie są najważniejsze postanowienia niniejsze...</td>\n",
       "      <td>Najważniejsze postanowienia niniejszej umowy ...</td>\n",
       "    </tr>\n",
       "    <tr>\n",
       "      <th>2</th>\n",
       "      <td>Jakie są najważniejsze daty w poniższej umowie?</td>\n",
       "      <td>Najważniejsze daty w poniższej umowie to: \\n1...</td>\n",
       "    </tr>\n",
       "    <tr>\n",
       "      <th>3</th>\n",
       "      <td>Jaki jest adres firmy?</td>\n",
       "      <td>Adres firmy: AKANT  Sp. z o.o. 75-213 Koszali...</td>\n",
       "    </tr>\n",
       "    <tr>\n",
       "      <th>4</th>\n",
       "      <td>Czy umowa zawiera klauzule abuzywne?</td>\n",
       "      <td>Tak, umowa zawiera klauzule abuzywne. Przykła...</td>\n",
       "    </tr>\n",
       "  </tbody>\n",
       "</table>\n",
       "</div>"
      ]
     },
     "execution_count": 48,
     "metadata": {},
     "output_type": "execute_result"
    }
   ],
   "execution_count": 48
  },
  {
   "metadata": {
    "ExecuteTime": {
     "end_time": "2024-09-09T22:15:03.213255Z",
     "start_time": "2024-09-09T22:15:03.201684Z"
    }
   },
   "cell_type": "code",
   "source": "eval_questions_df.to_csv('eval_questions.csv', sep=';', index=False)",
   "id": "c0f6bd4a0f10a8fd",
   "outputs": [],
   "execution_count": 49
  },
  {
   "metadata": {},
   "cell_type": "code",
   "source": [
    "# how messages look for model\n",
    "# print(eval_tokenizer.decode(model_input[0]))"
   ],
   "id": "6cb5aee100de3365",
   "outputs": [],
   "execution_count": null
  },
  {
   "metadata": {},
   "cell_type": "code",
   "source": [
    "# evaluated_ft_model.eval()\n",
    "# with torch.no_grad():\n",
    "#     print(eval_tokenizer.decode(\n",
    "#         evaluated_ft_model.generate(**model_input, max_new_tokens=600, repetition_penalty=1.15)[0],\n",
    "#         skip_special_tokens=True))"
   ],
   "id": "c8276c290294e34c",
   "outputs": [],
   "execution_count": null
  }
 ],
 "metadata": {
  "kernelspec": {
   "display_name": "Python 3",
   "language": "python",
   "name": "python3"
  },
  "language_info": {
   "codemirror_mode": {
    "name": "ipython",
    "version": 2
   },
   "file_extension": ".py",
   "mimetype": "text/x-python",
   "name": "python",
   "nbconvert_exporter": "python",
   "pygments_lexer": "ipython2",
   "version": "2.7.6"
  }
 },
 "nbformat": 4,
 "nbformat_minor": 5
}
