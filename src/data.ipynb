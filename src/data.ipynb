{
 "cells": [
  {
   "cell_type": "markdown",
   "source": [
    "# LLM - Bielik - Fine tuning - part I"
   ],
   "metadata": {
    "collapsed": false
   },
   "id": "268a1dfb6a09a44b"
  },
  {
   "cell_type": "code",
   "outputs": [],
   "source": [
    "import pandas as pd\n",
    "import os\n",
    "from dotenv import load_dotenv, find_dotenv\n",
    "from openai import OpenAI"
   ],
   "metadata": {
    "collapsed": false,
    "ExecuteTime": {
     "end_time": "2024-06-26T20:44:22.711280Z",
     "start_time": "2024-06-26T20:44:21.935170Z"
    }
   },
   "id": "bcad1a89aee5c170",
   "execution_count": 1
  },
  {
   "cell_type": "code",
   "outputs": [],
   "source": [
    "_ = load_dotenv(find_dotenv())"
   ],
   "metadata": {
    "collapsed": false,
    "ExecuteTime": {
     "end_time": "2024-06-26T20:44:23.244006Z",
     "start_time": "2024-06-26T20:44:23.229845Z"
    }
   },
   "id": "a09a8ee67e5ebf80",
   "execution_count": 2
  },
  {
   "cell_type": "code",
   "outputs": [],
   "source": [
    "client = OpenAI(api_key=os.getenv('openai_api_key'))"
   ],
   "metadata": {
    "collapsed": false,
    "ExecuteTime": {
     "end_time": "2024-06-26T20:44:23.587880Z",
     "start_time": "2024-06-26T20:44:23.537946Z"
    }
   },
   "id": "9f138e60ac34c4e0",
   "execution_count": 3
  },
  {
   "cell_type": "code",
   "outputs": [],
   "source": [
    "def ask_gpt(text: str):\n",
    "    completion = client.chat.completions.create(\n",
    "        model=\"gpt-3.5-turbo\",\n",
    "        max_tokens=200,\n",
    "        temperature=0.2,\n",
    "        top_p=1,\n",
    "        messages=[\n",
    "            {\n",
    "                'role': 'system',\n",
    "                'content': 'You are question curious lawyer who want to get insights about law',\n",
    "            },\n",
    "            {\n",
    "                'role': 'user',\n",
    "                'content': f'Based on given text here: {text} please generate a 3 questions. Start with \"-\". '\n",
    "            }\n",
    "        ]\n",
    "    )\n",
    "    response = completion.choices[0].message.content\n",
    "    return response\n"
   ],
   "metadata": {
    "collapsed": false,
    "ExecuteTime": {
     "end_time": "2024-06-26T20:44:23.898853Z",
     "start_time": "2024-06-26T20:44:23.893010Z"
    }
   },
   "id": "42c73b54a520abd9",
   "execution_count": 4
  },
  {
   "cell_type": "code",
   "outputs": [
    {
     "data": {
      "text/plain": "'- What specific clauses in the offer are considered abusive according to consumer protection laws?\\n- How can a consumer determine if a clause in a contract is abusive and what steps should they take to address it?\\n- In what ways can a specialist assist a consumer in navigating and potentially challenging abusive clauses in a contract?'"
     },
     "execution_count": 5,
     "metadata": {},
     "output_type": "execute_result"
    }
   ],
   "source": [
    "ask_gpt(\"Consumer cannot accept the offer since it contains abusive clauses. Consumer should ask a specialist for advice in persuing further deals\")"
   ],
   "metadata": {
    "collapsed": false,
    "ExecuteTime": {
     "end_time": "2024-06-26T20:44:26.216427Z",
     "start_time": "2024-06-26T20:44:24.271637Z"
    }
   },
   "id": "6901afb6c87c4839",
   "execution_count": 5
  },
  {
   "cell_type": "code",
   "outputs": [],
   "source": [],
   "metadata": {
    "collapsed": false
   },
   "id": "cbb9f000a446c92c"
  },
  {
   "cell_type": "code",
   "outputs": [
    {
     "data": {
      "text/plain": "Loading checkpoint shards:   0%|          | 0/3 [00:00<?, ?it/s]",
      "application/vnd.jupyter.widget-view+json": {
       "version_major": 2,
       "version_minor": 0,
       "model_id": "12f920944b5d47698e5122e146aba3e7"
      }
     },
     "metadata": {},
     "output_type": "display_data"
    }
   ],
   "source": [
    "# Load model directly\n",
    "from transformers import AutoTokenizer, AutoModelForCausalLM\n",
    "\n",
    "tokenizer = AutoTokenizer.from_pretrained(\"speakleash/Bielik-7B-v0.1\")\n",
    "model = AutoModelForCausalLM.from_pretrained(\"speakleash/Bielik-7B-v0.1\")\n",
    "\n"
   ],
   "metadata": {
    "collapsed": false,
    "is_executing": true,
    "ExecuteTime": {
     "start_time": "2024-06-30T20:23:31.552515Z"
    }
   },
   "id": "e7ebf16990cb1e82",
   "execution_count": null
  },
  {
   "cell_type": "code",
   "outputs": [],
   "source": [
    "prompt = \"Czesc, mozemy porozmawiac?\"\n",
    "inputs = tokenizer(prompt, return_tensors=\"pt\")\n",
    "\n",
    "# Generate\n",
    "generate_ids = model.generate(inputs.input_ids, max_length=30)\n",
    "tokenizer.batch_decode(generate_ids, skip_special_tokens=True, clean_up_tokenization_spaces=False)[0]"
   ],
   "metadata": {
    "collapsed": false
   },
   "id": "3cbc748464d5bacb"
  },
  {
   "cell_type": "code",
   "outputs": [],
   "source": [
    "from langchain.text_splitter import RecursiveCharacterTextSplitter\n",
    "\n",
    "splitter = RecursiveCharacterTextSplitter(chunk_size=200, chunk_overlap=30)\n",
    "\n"
   ],
   "metadata": {
    "collapsed": false,
    "ExecuteTime": {
     "end_time": "2024-06-30T20:49:13.053055Z",
     "start_time": "2024-06-30T20:49:13.049305Z"
    }
   },
   "id": "b881573ef64d8940",
   "execution_count": 23
  },
  {
   "cell_type": "code",
   "outputs": [],
   "source": [
    "import pymupdf\n",
    "\n",
    "path = 'data/ustawa_nr_1.pdf'\n",
    "\n",
    "all_data = pymupdf.open(path)\n"
   ],
   "metadata": {
    "collapsed": false,
    "ExecuteTime": {
     "end_time": "2024-06-30T20:38:33.946601Z",
     "start_time": "2024-06-30T20:38:33.935258Z"
    }
   },
   "id": "b19e120f0ba49820",
   "execution_count": 5
  },
  {
   "cell_type": "code",
   "outputs": [
    {
     "data": {
      "text/plain": "44"
     },
     "execution_count": 24,
     "metadata": {},
     "output_type": "execute_result"
    }
   ],
   "source": [
    "all_chunks = []\n",
    "for document in all_data:\n",
    "    text_page = document.get_textpage().extractText()\n",
    "    chunks_per_page = splitter.split_text(text_page)\n",
    "    all_chunks.append(chunks_per_page)\n",
    "    \n",
    "len(all_chunks)"
   ],
   "metadata": {
    "collapsed": false,
    "ExecuteTime": {
     "end_time": "2024-06-30T20:49:19.125543Z",
     "start_time": "2024-06-30T20:49:19.006045Z"
    }
   },
   "id": "76dcd8f14b33523a",
   "execution_count": 24
  },
  {
   "cell_type": "code",
   "outputs": [
    {
     "name": "stdout",
     "output_type": "stream",
     "text": [
      "15\n"
     ]
    }
   ],
   "source": [
    "print(all_chunks[0])"
   ],
   "metadata": {
    "collapsed": false,
    "ExecuteTime": {
     "end_time": "2024-06-30T20:51:14.790073Z",
     "start_time": "2024-06-30T20:51:14.786685Z"
    }
   },
   "id": "4d82303b65bbd47",
   "execution_count": 28
  }
 ],
 "metadata": {
  "kernelspec": {
   "display_name": "Python 3",
   "language": "python",
   "name": "python3"
  },
  "language_info": {
   "codemirror_mode": {
    "name": "ipython",
    "version": 2
   },
   "file_extension": ".py",
   "mimetype": "text/x-python",
   "name": "python",
   "nbconvert_exporter": "python",
   "pygments_lexer": "ipython2",
   "version": "2.7.6"
  }
 },
 "nbformat": 4,
 "nbformat_minor": 5
}
