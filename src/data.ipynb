{
 "cells": [
  {
   "cell_type": "markdown",
   "source": [
    "# LLM - Bielik - Fine tuning - part I"
   ],
   "metadata": {
    "collapsed": false
   },
   "id": "268a1dfb6a09a44b"
  },
  {
   "cell_type": "markdown",
   "source": [
    "## Motivation\n",
    "\n",
    "The rise and investments of the Large Language Models are definetely a game changer on various markets and branches - we can observe increased popularity of LLMs in academia, business and agriculture etc. Working with LLMs became a must-do task for all R&D or business departments in order to acknowledge and adapt upcoming possibilities, to stay competetive and gain business advantage. There are many players who invested bilions of USD to build their own Large Language Model and took a part in recent markets challenges by introducing their own solution trained on a different data set or to serve a different task (specialized for example in generation of poems or making a summary). At the beginning, as usual when it comes to innovation at that scale, we are thinking of endless possibilities, what kind of new opportunities we reach without putting much focus on other important factors like costs, maintanence, security, stability. Currently, we have multiple models which are production ready - many work has been done at those fields also making those LLMs more reliable and secured. One of the outcomes from this LLM race is that people noticed that it is good idea to look at smaller models, more specialized in one or two tasks, not the general ones. This specialization also is related to language supported. LLMs are broadly trained on english language data, due to the fact that more than half of websites content is written in English (source). Many models, paid and open source ones, have different level of quality when it comes when using them with local language. Quite often it occurs that offered quality is not enough to prove the business value for specific use case. This pushed some parties to create smaller models or suggested the finetuning with data in local language. \n",
    "\n",
    "The goal of this notebook is to finetune a Polish language based LLM called Bielik, developed by SpeakLeash organization (<model page>) with the legal / law sources. Data is specifically chosen for this task - legal documents or, law as a general concept, are strictly connected to the particular langauge. Primary concept of legal documents is to be in line with local (polish in my case) regulations. Of course, those documents can be translated to english and then used by the LLM. However, legal documents such as purchase agreements or any other agreements are designed by lawyers who understand the legal language nuances. They need to construct documents that are reliable, understandable by many (or maybe not?) and embedded in Polish law regulations. This requires from LLM to be more specific on many levels - starting from using prevalent data in one language and finetuning it to be able to work with more detailed task. "
   ],
   "metadata": {
    "collapsed": false
   },
   "id": "a8add555b2f73f31"
  },
  {
   "cell_type": "markdown",
   "source": [
    "## Introduction\n",
    "\n",
    "This notebook covers multiple steps:\n",
    "1. Loading and splitting data into chunks\n",
    "2. Generating new data (question and answers) for the future finetuning\n",
    "3. Evaluating generated data\n",
    "4. Selecting the data based on metrics \n",
    "5. Preparing the output for FT\n"
   ],
   "metadata": {
    "collapsed": false
   },
   "id": "2a2374a7ac7f8e8d"
  },
  {
   "cell_type": "markdown",
   "source": [
    "## Loading and splitting data\n",
    "\n",
    "Data source: https://isap.sejm.gov.pl/isap.nsf/download.xsp/WDU20140000827/U/D20140827Lj.pdf "
   ],
   "metadata": {
    "collapsed": false
   },
   "id": "e453382dd70f9952"
  },
  {
   "cell_type": "code",
   "outputs": [],
   "source": [
    "import pandas as pd\n",
    "import numpy as np\n",
    "from dotenv import load_dotenv, find_dotenv\n",
    "import pymupdf\n",
    "import uuid\n",
    "from pprint import pprint\n",
    "from tqdm.notebook import tqdm\n",
    "from langchain.text_splitter import RecursiveCharacterTextSplitter\n",
    "from src.external_requests.openai_req import OpenAIReq\n",
    "from src.external_requests.prompting import PromptBuilder\n",
    "from src.evaluation.distance_based import DistanceEvaluator\n",
    "from src.preprocessing.preprocess import remove_stopwords, clean_text\n",
    "from src.evaluation.reporting import Reporting\n",
    "import seaborn as sns"
   ],
   "metadata": {
    "collapsed": false,
    "ExecuteTime": {
     "end_time": "2024-08-16T17:27:19.145305Z",
     "start_time": "2024-08-16T17:27:17.355344Z"
    }
   },
   "id": "bcad1a89aee5c170",
   "execution_count": 1
  },
  {
   "cell_type": "code",
   "outputs": [],
   "source": [
    "_ = load_dotenv(find_dotenv())"
   ],
   "metadata": {
    "collapsed": false,
    "ExecuteTime": {
     "end_time": "2024-08-16T17:27:19.151470Z",
     "start_time": "2024-08-16T17:27:19.147411Z"
    }
   },
   "id": "a09a8ee67e5ebf80",
   "execution_count": 2
  },
  {
   "cell_type": "code",
   "outputs": [],
   "source": [
    "splitter = RecursiveCharacterTextSplitter(chunk_size=512, chunk_overlap=120)"
   ],
   "metadata": {
    "collapsed": false,
    "ExecuteTime": {
     "end_time": "2024-08-16T17:27:19.161652Z",
     "start_time": "2024-08-16T17:27:19.153956Z"
    }
   },
   "id": "b881573ef64d8940",
   "execution_count": 3
  },
  {
   "cell_type": "code",
   "outputs": [],
   "source": [
    "path = 'data/ustawa_nr_1.pdf'\n",
    "\n",
    "all_data = pymupdf.open(path)"
   ],
   "metadata": {
    "collapsed": false,
    "ExecuteTime": {
     "end_time": "2024-08-16T17:27:19.188398Z",
     "start_time": "2024-08-16T17:27:19.164390Z"
    }
   },
   "id": "b19e120f0ba49820",
   "execution_count": 4
  },
  {
   "cell_type": "code",
   "outputs": [
    {
     "data": {
      "text/plain": "44"
     },
     "execution_count": 5,
     "metadata": {},
     "output_type": "execute_result"
    }
   ],
   "source": [
    "all_chunks = []\n",
    "for document in all_data:\n",
    "    text_page = document.get_textpage().extractText()\n",
    "    chunks_per_page = splitter.split_text(text_page)\n",
    "    all_chunks.append(chunks_per_page)\n",
    "        \n",
    "len(all_chunks)"
   ],
   "metadata": {
    "collapsed": false,
    "ExecuteTime": {
     "end_time": "2024-08-16T17:27:19.365254Z",
     "start_time": "2024-08-16T17:27:19.190558Z"
    }
   },
   "id": "76dcd8f14b33523a",
   "execution_count": 5
  },
  {
   "cell_type": "code",
   "outputs": [
    {
     "data": {
      "text/plain": "['©Kancelaria Sejmu \\n \\n \\n \\ns. 44/44 \\n \\n \\n \\n2024-01-18 \\n \\nZałącznik nr 2 \\n \\nWZÓR FORMULARZA ODSTĄPIENIA OD UMOWY \\n \\n(formularz ten należy wypełnić i odesłać tylko w przypadku chęci odstąpienia od umowy) \\n– Adresat [w tym miejscu przedsiębiorca powinien wpisać nazwę przedsiębiorcy, pełny adres pocztowy oraz adres e-mail] \\n– Ja/My(*) niniejszym informuję/informujemy(*) o moim/naszym odstąpieniu od umowy sprzedaży następujących  towarów(*)',\n '– Ja/My(*) niniejszym informuję/informujemy(*) o moim/naszym odstąpieniu od umowy sprzedaży następujących  towarów(*) \\numowy dostawy następujących  towarów(*) umowy o dzieło polegającej na wykonaniu następujących towarów(*)/o \\nświadczenie następującej usługi(*) \\n– Data zawarcia umowy(*)/odbioru(*) \\n– Imię i nazwisko konsumenta(-ów) \\n– Adres konsumenta(-ów) \\n– Podpis konsumenta(-ów) (tylko jeżeli formularz jest przesyłany w wersji papierowej) \\n– Data \\n \\n \\n \\n \\n(*) Niepotrzebne skreślić.']"
     },
     "execution_count": 6,
     "metadata": {},
     "output_type": "execute_result"
    }
   ],
   "source": [
    "all_chunks[43]"
   ],
   "metadata": {
    "collapsed": false,
    "ExecuteTime": {
     "end_time": "2024-08-16T17:27:19.372076Z",
     "start_time": "2024-08-16T17:27:19.367627Z"
    }
   },
   "id": "e57142f2345ec462",
   "execution_count": 6
  },
  {
   "cell_type": "markdown",
   "source": [
    "## Generating new data (questions) with a support of GPT 3.5"
   ],
   "metadata": {
    "collapsed": false
   },
   "id": "e9e33b5a9a71b776"
  },
  {
   "cell_type": "code",
   "outputs": [
    {
     "data": {
      "text/plain": "0it [00:00, ?it/s]",
      "application/vnd.jupyter.widget-view+json": {
       "version_major": 2,
       "version_minor": 0,
       "model_id": "f419cefe5d4f4af5a095609bcf934701"
      }
     },
     "metadata": {},
     "output_type": "display_data"
    }
   ],
   "source": [
    "all_data = []\n",
    "for i, page in tqdm(enumerate(all_chunks)):\n",
    "    page_id = str(uuid.uuid4())\n",
    "    for chunk in enumerate(page):\n",
    "        nth_chunk, text_chunk = chunk\n",
    "        generated_questions = OpenAIReq().call_api(prompt=PromptBuilder.generate_questions(n_questions=3, text=chunk), \n",
    "                                                   max_tokens=400,\n",
    "                                                   temperature=0.2)\n",
    "        data = {'chunk_id': f'{page_id}_{nth_chunk}', \n",
    "                'text_chunk': text_chunk,\n",
    "                'page_id': page_id,\n",
    "                'generated_questions': generated_questions}\n",
    "        all_data.append(data)"
   ],
   "metadata": {
    "collapsed": false,
    "ExecuteTime": {
     "end_time": "2024-08-16T17:38:42.323226Z",
     "start_time": "2024-08-16T17:28:05.564443Z"
    }
   },
   "id": "4d82303b65bbd47",
   "execution_count": 7
  },
  {
   "cell_type": "code",
   "outputs": [
    {
     "data": {
      "text/plain": "                                   chunk_id  \\\n0    184fe94e-5c92-4c01-8b86-d915015a24e8_0   \n1    184fe94e-5c92-4c01-8b86-d915015a24e8_1   \n2    184fe94e-5c92-4c01-8b86-d915015a24e8_2   \n3    184fe94e-5c92-4c01-8b86-d915015a24e8_3   \n4    184fe94e-5c92-4c01-8b86-d915015a24e8_4   \n..                                      ...   \n251  7382fdd7-d647-4ef2-b8c2-96d94dbe2c99_7   \n252  7382fdd7-d647-4ef2-b8c2-96d94dbe2c99_8   \n253  7382fdd7-d647-4ef2-b8c2-96d94dbe2c99_9   \n254  d21653c8-2209-4f48-9032-77e336c59068_0   \n255  d21653c8-2209-4f48-9032-77e336c59068_1   \n\n                                            text_chunk  \\\n0    ©Kancelaria Sejmu \\n \\n \\n \\ns. 1/44 \\n \\n \\n ...   \n1    przedsiębiorstwa; \\n3) \\nzasady i tryb wykonan...   \n2    1) dyrektywę Parlamentu Europejskiego i Rady 2...   \n3    2019/2161 z dnia 27 listopada 2019 r. (Dz. Urz...   \n4    z późn. zm.), ostatnio zmienioną dyrektywą Par...   \n..                                                 ...   \n251  zawarcia umowy: „Odbioru towaru dokonamy na na...   \n252  [6] W przypadku umów dotyczących świadczenia u...   \n253  cieplnej [niepotrzebne skreślić] przed upływem...   \n254  ©Kancelaria Sejmu \\n \\n \\n \\ns. 44/44 \\n \\n \\n...   \n255  – Ja/My(*) niniejszym informuję/informujemy(*)...   \n\n                                  page_id  \\\n0    184fe94e-5c92-4c01-8b86-d915015a24e8   \n1    184fe94e-5c92-4c01-8b86-d915015a24e8   \n2    184fe94e-5c92-4c01-8b86-d915015a24e8   \n3    184fe94e-5c92-4c01-8b86-d915015a24e8   \n4    184fe94e-5c92-4c01-8b86-d915015a24e8   \n..                                    ...   \n251  7382fdd7-d647-4ef2-b8c2-96d94dbe2c99   \n252  7382fdd7-d647-4ef2-b8c2-96d94dbe2c99   \n253  7382fdd7-d647-4ef2-b8c2-96d94dbe2c99   \n254  d21653c8-2209-4f48-9032-77e336c59068   \n255  d21653c8-2209-4f48-9032-77e336c59068   \n\n                                   generated_questions  \n0    - Jakie prawa określa ustawa z dnia 30 maja 20...  \n1    - Jakie są główne zasady i tryby wykonania pra...  \n2    - Jakie konkretnie prawa konsumentów reguluje ...  \n3    - Jakie zmiany wprowadza dyrektywa 2019/2161 z...  \n4    - Jakie zmiany wprowadziła dyrektywa Parlament...  \n..                                                 ...  \n251  - Czy zapis \"Odbioru towaru dokonamy na nasz k...  \n252  - Czy w przypadku umów dotyczących świadczenia...  \n253  - Jakie są konsekwencje odstąpienia od umowy p...  \n254  - Czy formularz odstąpienia od umowy musi być ...  \n255  - Czy istnieje konieczność podania powodu odst...  \n\n[256 rows x 4 columns]",
      "text/html": "<div>\n<style scoped>\n    .dataframe tbody tr th:only-of-type {\n        vertical-align: middle;\n    }\n\n    .dataframe tbody tr th {\n        vertical-align: top;\n    }\n\n    .dataframe thead th {\n        text-align: right;\n    }\n</style>\n<table border=\"1\" class=\"dataframe\">\n  <thead>\n    <tr style=\"text-align: right;\">\n      <th></th>\n      <th>chunk_id</th>\n      <th>text_chunk</th>\n      <th>page_id</th>\n      <th>generated_questions</th>\n    </tr>\n  </thead>\n  <tbody>\n    <tr>\n      <th>0</th>\n      <td>184fe94e-5c92-4c01-8b86-d915015a24e8_0</td>\n      <td>©Kancelaria Sejmu \\n \\n \\n \\ns. 1/44 \\n \\n \\n ...</td>\n      <td>184fe94e-5c92-4c01-8b86-d915015a24e8</td>\n      <td>- Jakie prawa określa ustawa z dnia 30 maja 20...</td>\n    </tr>\n    <tr>\n      <th>1</th>\n      <td>184fe94e-5c92-4c01-8b86-d915015a24e8_1</td>\n      <td>przedsiębiorstwa; \\n3) \\nzasady i tryb wykonan...</td>\n      <td>184fe94e-5c92-4c01-8b86-d915015a24e8</td>\n      <td>- Jakie są główne zasady i tryby wykonania pra...</td>\n    </tr>\n    <tr>\n      <th>2</th>\n      <td>184fe94e-5c92-4c01-8b86-d915015a24e8_2</td>\n      <td>1) dyrektywę Parlamentu Europejskiego i Rady 2...</td>\n      <td>184fe94e-5c92-4c01-8b86-d915015a24e8</td>\n      <td>- Jakie konkretnie prawa konsumentów reguluje ...</td>\n    </tr>\n    <tr>\n      <th>3</th>\n      <td>184fe94e-5c92-4c01-8b86-d915015a24e8_3</td>\n      <td>2019/2161 z dnia 27 listopada 2019 r. (Dz. Urz...</td>\n      <td>184fe94e-5c92-4c01-8b86-d915015a24e8</td>\n      <td>- Jakie zmiany wprowadza dyrektywa 2019/2161 z...</td>\n    </tr>\n    <tr>\n      <th>4</th>\n      <td>184fe94e-5c92-4c01-8b86-d915015a24e8_4</td>\n      <td>z późn. zm.), ostatnio zmienioną dyrektywą Par...</td>\n      <td>184fe94e-5c92-4c01-8b86-d915015a24e8</td>\n      <td>- Jakie zmiany wprowadziła dyrektywa Parlament...</td>\n    </tr>\n    <tr>\n      <th>...</th>\n      <td>...</td>\n      <td>...</td>\n      <td>...</td>\n      <td>...</td>\n    </tr>\n    <tr>\n      <th>251</th>\n      <td>7382fdd7-d647-4ef2-b8c2-96d94dbe2c99_7</td>\n      <td>zawarcia umowy: „Odbioru towaru dokonamy na na...</td>\n      <td>7382fdd7-d647-4ef2-b8c2-96d94dbe2c99</td>\n      <td>- Czy zapis \"Odbioru towaru dokonamy na nasz k...</td>\n    </tr>\n    <tr>\n      <th>252</th>\n      <td>7382fdd7-d647-4ef2-b8c2-96d94dbe2c99_8</td>\n      <td>[6] W przypadku umów dotyczących świadczenia u...</td>\n      <td>7382fdd7-d647-4ef2-b8c2-96d94dbe2c99</td>\n      <td>- Czy w przypadku umów dotyczących świadczenia...</td>\n    </tr>\n    <tr>\n      <th>253</th>\n      <td>7382fdd7-d647-4ef2-b8c2-96d94dbe2c99_9</td>\n      <td>cieplnej [niepotrzebne skreślić] przed upływem...</td>\n      <td>7382fdd7-d647-4ef2-b8c2-96d94dbe2c99</td>\n      <td>- Jakie są konsekwencje odstąpienia od umowy p...</td>\n    </tr>\n    <tr>\n      <th>254</th>\n      <td>d21653c8-2209-4f48-9032-77e336c59068_0</td>\n      <td>©Kancelaria Sejmu \\n \\n \\n \\ns. 44/44 \\n \\n \\n...</td>\n      <td>d21653c8-2209-4f48-9032-77e336c59068</td>\n      <td>- Czy formularz odstąpienia od umowy musi być ...</td>\n    </tr>\n    <tr>\n      <th>255</th>\n      <td>d21653c8-2209-4f48-9032-77e336c59068_1</td>\n      <td>– Ja/My(*) niniejszym informuję/informujemy(*)...</td>\n      <td>d21653c8-2209-4f48-9032-77e336c59068</td>\n      <td>- Czy istnieje konieczność podania powodu odst...</td>\n    </tr>\n  </tbody>\n</table>\n<p>256 rows × 4 columns</p>\n</div>"
     },
     "execution_count": 8,
     "metadata": {},
     "output_type": "execute_result"
    }
   ],
   "source": [
    "df = pd.DataFrame.from_dict(data=all_data)\n",
    "df"
   ],
   "metadata": {
    "collapsed": false,
    "ExecuteTime": {
     "end_time": "2024-08-16T17:42:13.289162Z",
     "start_time": "2024-08-16T17:42:13.267612Z"
    }
   },
   "id": "4ab9600a6fef8f1f",
   "execution_count": 8
  },
  {
   "cell_type": "code",
   "outputs": [],
   "source": [
    "# Saving checkpoint\n",
    "df.to_excel('data/01_questions_and_chunks.xlsx')"
   ],
   "metadata": {
    "collapsed": false,
    "ExecuteTime": {
     "end_time": "2024-08-16T17:42:25.790315Z",
     "start_time": "2024-08-16T17:42:25.576434Z"
    }
   },
   "id": "e2ba02ab1e7a4d6",
   "execution_count": 9
  },
  {
   "cell_type": "code",
   "outputs": [],
   "source": [
    "df = pd.read_excel('data/01_questions_and_chunks.xlsx', index_col=0)"
   ],
   "metadata": {
    "collapsed": false,
    "ExecuteTime": {
     "end_time": "2024-08-16T17:42:27.796622Z",
     "start_time": "2024-08-16T17:42:27.753107Z"
    }
   },
   "id": "b19dd0b008b72db2",
   "execution_count": 10
  },
  {
   "cell_type": "code",
   "outputs": [],
   "source": [
    "def process_df_with_questions(data: pd.DataFrame) -> pd.DataFrame:\n",
    "    data['generated_questions_array'] = data['generated_questions'].str.split('\\n')\n",
    "    data = data.explode('generated_questions_array')\n",
    "    data = data[~data['generated_questions_array'].isna()]\n",
    "    data['generated_questions_array']  = data['generated_questions_array'].replace(r'^\\s*$', np.nan, regex=True)\n",
    "    return data\n",
    "\n",
    "df = process_df_with_questions(data=df)"
   ],
   "metadata": {
    "collapsed": false,
    "ExecuteTime": {
     "end_time": "2024-08-16T17:42:37.973377Z",
     "start_time": "2024-08-16T17:42:37.960548Z"
    }
   },
   "id": "35b9ee452b7a2150",
   "execution_count": 11
  },
  {
   "cell_type": "code",
   "outputs": [
    {
     "data": {
      "text/plain": "0"
     },
     "execution_count": 18,
     "metadata": {},
     "output_type": "execute_result"
    }
   ],
   "source": [
    "df = df[~df['generated_questions_array'].isna()]\n",
    "df['generated_questions_array'].isna().sum()"
   ],
   "metadata": {
    "collapsed": false,
    "ExecuteTime": {
     "end_time": "2024-08-16T17:44:25.233003Z",
     "start_time": "2024-08-16T17:44:25.225012Z"
    }
   },
   "id": "487bab3ec7fab832",
   "execution_count": 18
  },
  {
   "cell_type": "code",
   "outputs": [
    {
     "data": {
      "text/plain": "(768, 5)"
     },
     "execution_count": 22,
     "metadata": {},
     "output_type": "execute_result"
    }
   ],
   "source": [
    "df.shape"
   ],
   "metadata": {
    "collapsed": false,
    "ExecuteTime": {
     "end_time": "2024-08-16T17:46:11.807538Z",
     "start_time": "2024-08-16T17:46:11.803872Z"
    }
   },
   "id": "f254413ff6d5ff33",
   "execution_count": 22
  },
  {
   "cell_type": "markdown",
   "source": [
    "### Fetching answer for generated question based on chunk"
   ],
   "metadata": {
    "collapsed": false
   },
   "id": "275c63e3cb6fc457"
  },
  {
   "cell_type": "code",
   "outputs": [
    {
     "name": "stderr",
     "output_type": "stream",
     "text": [
      "/tmp/ipykernel_5150/1586777845.py:1: SettingWithCopyWarning: \n",
      "A value is trying to be set on a copy of a slice from a DataFrame.\n",
      "Try using .loc[row_indexer,col_indexer] = value instead\n",
      "\n",
      "See the caveats in the documentation: https://pandas.pydata.org/pandas-docs/stable/user_guide/indexing.html#returning-a-view-versus-a-copy\n",
      "  df['answer'] = df.apply(lambda x: OpenAIReq().call_api(prompt=PromptBuilder.get_answers_based_on_text_and_questions(text=x['text_chunk'], question= x['generated_questions_array'])), axis=1)\n"
     ]
    }
   ],
   "source": [
    "df['answer'] = df.apply(lambda x: OpenAIReq().call_api(prompt=PromptBuilder.get_answers_based_on_text_and_questions(text=x['text_chunk'], question= x['generated_questions_array'])), axis=1)"
   ],
   "metadata": {
    "collapsed": false,
    "ExecuteTime": {
     "end_time": "2024-08-16T18:19:35.489468Z",
     "start_time": "2024-08-16T17:47:06.393590Z"
    }
   },
   "id": "52c677467cd4e8a9",
   "execution_count": 24
  },
  {
   "cell_type": "code",
   "outputs": [],
   "source": [
    "df.to_excel('data/02_data_with_answers.xlsx')"
   ],
   "metadata": {
    "collapsed": false,
    "ExecuteTime": {
     "end_time": "2024-08-16T18:20:47.839774Z",
     "start_time": "2024-08-16T18:20:47.462077Z"
    }
   },
   "id": "7ffc4b48b6b238b0",
   "execution_count": 25
  },
  {
   "cell_type": "markdown",
   "source": [
    "### Verifing the quality of generated answers and questions based on selected metrics"
   ],
   "metadata": {
    "collapsed": false
   },
   "id": "9cae6a0dbd3cb4ce"
  },
  {
   "cell_type": "markdown",
   "source": [
    "#### Selected metrics\n",
    "- Coverage \n",
    "- Coherence (Consistency)\n",
    "- Word Mover Distance \n",
    "- Relevance\n",
    "- Global relevance"
   ],
   "metadata": {
    "collapsed": false
   },
   "id": "e94f1af1e0e870c6"
  },
  {
   "cell_type": "code",
   "outputs": [
    {
     "name": "stderr",
     "output_type": "stream",
     "text": [
      "/tmp/ipykernel_5150/3657337170.py:1: SettingWithCopyWarning: \n",
      "A value is trying to be set on a copy of a slice from a DataFrame.\n",
      "Try using .loc[row_indexer,col_indexer] = value instead\n",
      "\n",
      "See the caveats in the documentation: https://pandas.pydata.org/pandas-docs/stable/user_guide/indexing.html#returning-a-view-versus-a-copy\n",
      "  df['coverage_rating'] = df.apply(lambda x: OpenAIReq().call_api(prompt=PromptBuilder.get_coverage(question=x['generated_questions_array'], context=x['text_chunk'])), axis=1)\n"
     ]
    }
   ],
   "source": [
    "df['coverage_rating'] = df.apply(lambda x: OpenAIReq().call_api(prompt=PromptBuilder.get_coverage(question=x['generated_questions_array'], context=x['text_chunk'])), axis=1)"
   ],
   "metadata": {
    "collapsed": false,
    "ExecuteTime": {
     "end_time": "2024-08-16T18:28:35.430061Z",
     "start_time": "2024-08-16T18:21:19.260306Z"
    }
   },
   "id": "2236331b1ab02459",
   "execution_count": 26
  },
  {
   "cell_type": "code",
   "outputs": [
    {
     "data": {
      "text/plain": "<Axes: >"
     },
     "execution_count": 27,
     "metadata": {},
     "output_type": "execute_result"
    },
    {
     "data": {
      "text/plain": "<Figure size 640x480 with 1 Axes>",
      "image/png": "[encoded data removed]"
     },
     "metadata": {},
     "output_type": "display_data"
    }
   ],
   "source": [
    "pd.plotting.hist_series(df['coverage_rating'])"
   ],
   "metadata": {
    "collapsed": false,
    "ExecuteTime": {
     "end_time": "2024-08-16T18:30:38.896696Z",
     "start_time": "2024-08-16T18:30:38.666453Z"
    }
   },
   "id": "b2c2161190553c4d",
   "execution_count": 27
  },
  {
   "cell_type": "code",
   "outputs": [],
   "source": [
    "df.to_excel('data/03_data_with_answers_and_cov.xlsx')"
   ],
   "metadata": {
    "collapsed": false,
    "ExecuteTime": {
     "end_time": "2024-08-16T18:30:44.409330Z",
     "start_time": "2024-08-16T18:30:44.196167Z"
    }
   },
   "id": "c7f4a8519c997e1d",
   "execution_count": 28
  },
  {
   "cell_type": "code",
   "outputs": [
    {
     "name": "stderr",
     "output_type": "stream",
     "text": [
      "/tmp/ipykernel_5150/4248919023.py:1: SettingWithCopyWarning: \n",
      "A value is trying to be set on a copy of a slice from a DataFrame.\n",
      "Try using .loc[row_indexer,col_indexer] = value instead\n",
      "\n",
      "See the caveats in the documentation: https://pandas.pydata.org/pandas-docs/stable/user_guide/indexing.html#returning-a-view-versus-a-copy\n",
      "  df['text_wo_stopwords'] = df['text_chunk'].apply(remove_stopwords)\n"
     ]
    }
   ],
   "source": [
    "df['text_wo_stopwords'] = df['text_chunk'].apply(remove_stopwords)"
   ],
   "metadata": {
    "collapsed": false,
    "ExecuteTime": {
     "end_time": "2024-08-16T18:30:46.724693Z",
     "start_time": "2024-08-16T18:30:46.422074Z"
    }
   },
   "id": "b66288be20797b2d",
   "execution_count": 29
  },
  {
   "cell_type": "code",
   "outputs": [
    {
     "name": "stderr",
     "output_type": "stream",
     "text": [
      "/tmp/ipykernel_5150/1528545863.py:1: SettingWithCopyWarning: \n",
      "A value is trying to be set on a copy of a slice from a DataFrame.\n",
      "Try using .loc[row_indexer,col_indexer] = value instead\n",
      "\n",
      "See the caveats in the documentation: https://pandas.pydata.org/pandas-docs/stable/user_guide/indexing.html#returning-a-view-versus-a-copy\n",
      "  df['question_wo_stopwords'] = df['generated_questions_array'].apply(remove_stopwords)\n"
     ]
    }
   ],
   "source": [
    "df['question_wo_stopwords'] = df['generated_questions_array'].apply(remove_stopwords)"
   ],
   "metadata": {
    "collapsed": false,
    "ExecuteTime": {
     "end_time": "2024-08-16T18:30:50.349497Z",
     "start_time": "2024-08-16T18:30:50.196998Z"
    }
   },
   "id": "422c151aee1af234",
   "execution_count": 30
  },
  {
   "cell_type": "code",
   "outputs": [],
   "source": [
    "df.to_excel('data/04_data_without_stopwords.xlsx')"
   ],
   "metadata": {
    "collapsed": false,
    "ExecuteTime": {
     "end_time": "2024-08-16T18:30:55.327986Z",
     "start_time": "2024-08-16T18:30:55.007310Z"
    }
   },
   "id": "21dc77ebcfa3e118",
   "execution_count": 31
  },
  {
   "cell_type": "code",
   "outputs": [],
   "source": [
    "df = pd.read_excel('data/data_without_stopdwords.xlsx', index_col=0)"
   ],
   "metadata": {
    "collapsed": false,
    "ExecuteTime": {
     "end_time": "2024-08-16T18:30:58.788558Z",
     "start_time": "2024-08-16T18:30:58.567442Z"
    }
   },
   "id": "5fe0dbe2a82d6331",
   "execution_count": 32
  },
  {
   "cell_type": "code",
   "outputs": [],
   "source": [
    "df['chunk'] = df['text_chunk'].apply(lambda x: clean_text(x))"
   ],
   "metadata": {
    "collapsed": false,
    "ExecuteTime": {
     "end_time": "2024-08-16T18:31:01.439949Z",
     "start_time": "2024-08-16T18:31:01.434258Z"
    }
   },
   "id": "c5a46b5bb58b4393",
   "execution_count": 33
  },
  {
   "cell_type": "code",
   "outputs": [],
   "source": [
    "dist_evaluator = DistanceEvaluator()\n",
    "df['wmd_question_answer'] = df.apply(lambda x: dist_evaluator.get_diversity_by_wmd(x['generated_questions_array'], x['answer']), axis=1)"
   ],
   "metadata": {
    "collapsed": false,
    "ExecuteTime": {
     "end_time": "2024-08-16T18:31:24.154883Z",
     "start_time": "2024-08-16T18:31:04.740324Z"
    }
   },
   "id": "50ae52f32b690618",
   "execution_count": 34
  },
  {
   "cell_type": "code",
   "outputs": [
    {
     "data": {
      "text/plain": "<Axes: >"
     },
     "execution_count": 35,
     "metadata": {},
     "output_type": "execute_result"
    },
    {
     "data": {
      "text/plain": "<Figure size 640x480 with 1 Axes>",
      "image/png": "[encoded data removed]"
     },
     "metadata": {},
     "output_type": "display_data"
    }
   ],
   "source": [
    "pd.plotting.hist_series(df['wmd_question_answer'])"
   ],
   "metadata": {
    "collapsed": false,
    "ExecuteTime": {
     "end_time": "2024-08-16T18:32:11.977436Z",
     "start_time": "2024-08-16T18:32:11.795002Z"
    }
   },
   "id": "f9c65aba6f9dd48c",
   "execution_count": 35
  },
  {
   "cell_type": "code",
   "outputs": [],
   "source": [
    "df['wmd_chunk_question'] = df.apply(lambda x: dist_evaluator.get_diversity_by_wmd(x['text_chunk'], x['generated_questions_array']), axis=1)"
   ],
   "metadata": {
    "collapsed": false,
    "ExecuteTime": {
     "end_time": "2024-08-16T18:34:23.749585Z",
     "start_time": "2024-08-16T18:34:22.546616Z"
    }
   },
   "id": "b8810e6c5f0a1f2d",
   "execution_count": 37
  },
  {
   "cell_type": "code",
   "outputs": [
    {
     "data": {
      "text/plain": "<Axes: >"
     },
     "execution_count": 38,
     "metadata": {},
     "output_type": "execute_result"
    },
    {
     "data": {
      "text/plain": "<Figure size 640x480 with 1 Axes>",
      "image/png": "[encoded data removed]"
     },
     "metadata": {},
     "output_type": "display_data"
    }
   ],
   "source": [
    "pd.plotting.hist_series(df['wmd_chunk_question'])"
   ],
   "metadata": {
    "collapsed": false,
    "ExecuteTime": {
     "end_time": "2024-08-16T18:34:28.334205Z",
     "start_time": "2024-08-16T18:34:28.181674Z"
    }
   },
   "id": "dc220eed2c502e94",
   "execution_count": 38
  },
  {
   "cell_type": "code",
   "outputs": [],
   "source": [
    "sample_df = df.sample(3)"
   ],
   "metadata": {
    "collapsed": false,
    "ExecuteTime": {
     "end_time": "2024-07-18T20:27:06.084947Z",
     "start_time": "2024-07-18T20:27:06.078510Z"
    }
   },
   "id": "d6c36a82104e79aa",
   "execution_count": 63
  },
  {
   "cell_type": "code",
   "outputs": [],
   "source": [
    "df['coherence'] = df['generated_questions_array'].apply(lambda x: OpenAIReq().call_api(prompt=PromptBuilder.get_coherence(x)))"
   ],
   "metadata": {
    "collapsed": false,
    "ExecuteTime": {
     "end_time": "2024-08-16T18:50:12.777072Z",
     "start_time": "2024-08-16T18:34:36.235049Z"
    }
   },
   "id": "32486365e32e803d",
   "execution_count": 39
  },
  {
   "cell_type": "code",
   "outputs": [],
   "source": [
    "df.to_excel('data/05_data_with_coherence.xlsx')"
   ],
   "metadata": {
    "collapsed": false,
    "ExecuteTime": {
     "end_time": "2024-08-16T18:52:01.374783Z",
     "start_time": "2024-08-16T18:52:01.023587Z"
    }
   },
   "id": "6ba94a9c77f3d94e",
   "execution_count": 40
  },
  {
   "cell_type": "code",
   "outputs": [],
   "source": [
    "df = pd.read_excel('data/05_data_with_coherence.xlsx', index_col=0)"
   ],
   "metadata": {
    "collapsed": false,
    "ExecuteTime": {
     "end_time": "2024-08-16T18:52:16.915230Z",
     "start_time": "2024-08-16T18:52:16.606882Z"
    }
   },
   "id": "78c7bb232d1cb76b",
   "execution_count": 42
  },
  {
   "cell_type": "code",
   "outputs": [
    {
     "data": {
      "text/plain": "Index(['chunk_id', 'text_chunk', 'page_id', 'generated_questions',\n       'generated_questions_array', 'answer', 'coverage_rating',\n       'coverage_rating_no_answer', 'text_wo_stopwords',\n       'question_wo_stopwords', 'chunk', 'wmd_question_answer',\n       'wmd_chunk_question', 'coherence'],\n      dtype='object')"
     },
     "execution_count": 43,
     "metadata": {},
     "output_type": "execute_result"
    }
   ],
   "source": [
    "df.columns"
   ],
   "metadata": {
    "collapsed": false,
    "ExecuteTime": {
     "end_time": "2024-08-16T18:52:18.576373Z",
     "start_time": "2024-08-16T18:52:18.571404Z"
    }
   },
   "id": "edc725982f67956c",
   "execution_count": 43
  },
  {
   "cell_type": "code",
   "outputs": [],
   "source": [
    "df[['coherence_rate', 'coherence_expl']] = df.coherence.str.split(',', n=1,  expand=True)"
   ],
   "metadata": {
    "collapsed": false,
    "ExecuteTime": {
     "end_time": "2024-08-16T18:52:22.791198Z",
     "start_time": "2024-08-16T18:52:22.785522Z"
    }
   },
   "id": "e268a89807a37499",
   "execution_count": 44
  },
  {
   "cell_type": "code",
   "outputs": [
    {
     "data": {
      "text/plain": "                                   chunk_id  \\\n0    a85d0bcd-8bd8-4f01-8a12-afd186aa2381_0   \n0    a85d0bcd-8bd8-4f01-8a12-afd186aa2381_0   \n0    a85d0bcd-8bd8-4f01-8a12-afd186aa2381_0   \n1    a85d0bcd-8bd8-4f01-8a12-afd186aa2381_1   \n1    a85d0bcd-8bd8-4f01-8a12-afd186aa2381_1   \n..                                      ...   \n249  3013532f-7032-49d0-839d-2093d1d4a2fe_0   \n249  3013532f-7032-49d0-839d-2093d1d4a2fe_0   \n250  3013532f-7032-49d0-839d-2093d1d4a2fe_1   \n250  3013532f-7032-49d0-839d-2093d1d4a2fe_1   \n250  3013532f-7032-49d0-839d-2093d1d4a2fe_1   \n\n                                            text_chunk  \\\n0    ©Kancelaria Sejmu \\n \\n \\n \\ns. 1/44 \\n \\n \\n ...   \n0    ©Kancelaria Sejmu \\n \\n \\n \\ns. 1/44 \\n \\n \\n ...   \n0    ©Kancelaria Sejmu \\n \\n \\n \\ns. 1/44 \\n \\n \\n ...   \n1    przedsiębiorstwa; \\n3) \\nzasady i tryb wykonan...   \n1    przedsiębiorstwa; \\n3) \\nzasady i tryb wykonan...   \n..                                                 ...   \n249  ©Kancelaria Sejmu \\n \\n \\n \\ns. 44/44 \\n \\n \\n...   \n249  ©Kancelaria Sejmu \\n \\n \\n \\ns. 44/44 \\n \\n \\n...   \n250  umowy dostawy następujących  towarów(*) umowy ...   \n250  umowy dostawy następujących  towarów(*) umowy ...   \n250  umowy dostawy następujących  towarów(*) umowy ...   \n\n                                  page_id  \\\n0    a85d0bcd-8bd8-4f01-8a12-afd186aa2381   \n0    a85d0bcd-8bd8-4f01-8a12-afd186aa2381   \n0    a85d0bcd-8bd8-4f01-8a12-afd186aa2381   \n1    a85d0bcd-8bd8-4f01-8a12-afd186aa2381   \n1    a85d0bcd-8bd8-4f01-8a12-afd186aa2381   \n..                                    ...   \n249  3013532f-7032-49d0-839d-2093d1d4a2fe   \n249  3013532f-7032-49d0-839d-2093d1d4a2fe   \n250  3013532f-7032-49d0-839d-2093d1d4a2fe   \n250  3013532f-7032-49d0-839d-2093d1d4a2fe   \n250  3013532f-7032-49d0-839d-2093d1d4a2fe   \n\n                                   generated_questions  \\\n0    - Jakie prawa określa ustawa z dnia 30 maja 20...   \n0    - Jakie prawa określa ustawa z dnia 30 maja 20...   \n0    - Jakie prawa określa ustawa z dnia 30 maja 20...   \n1    - Jakie są zasady i tryb wykonania prawa odstą...   \n1    - Jakie są zasady i tryb wykonania prawa odstą...   \n..                                                 ...   \n249  - Czy formularz odstąpienia od umowy musi być ...   \n249  - Czy formularz odstąpienia od umowy musi być ...   \n250  - Czy umowy dostawy towarów i umowy o dzieło s...   \n250  - Czy umowy dostawy towarów i umowy o dzieło s...   \n250  - Czy umowy dostawy towarów i umowy o dzieło s...   \n\n                             generated_questions_array  \\\n0    - Jakie prawa określa ustawa z dnia 30 maja 20...   \n0    - Jakie obowiązki ma przedsiębiorca zawierając...   \n0    - W jaki sposób regulowane są zasady i tryb za...   \n1    - Jakie są zasady i tryb wykonania prawa odstą...   \n1    - W jaki sposób regulacje dotyczące umowy na o...   \n..                                                 ...   \n249  - Jakie są konsekwencje prawne dla konsumenta,...   \n249  - Czy istnieją okoliczności, w których odstąpi...   \n250  - Czy umowy dostawy towarów i umowy o dzieło s...   \n250  - Jakie są konsekwencje prawne braku podpisu k...   \n250  - Czy istnieją szczególne wymagania co do daty...   \n\n                                                answer  coverage_rating  \\\n0    Ustawa z dnia 30 maja 2014 r. o prawach konsum...                5   \n0    Zgodnie z art. 1 ustawy o prawach konsumenta, ...                5   \n0    Zasady i tryb zawierania umowy na odległość i ...                5   \n1    Zasady i tryb wykonania prawa odstąpienia od u...                5   \n1    Umowa na odległość dotycząca usług finansowych...                5   \n..                                                 ...              ...   \n249  Jeśli konsument nie zastosuje się do procedury...                5   \n249  Tak, istnieją okoliczności, w których odstąpie...                5   \n250  Tak, umowy dostawy towarów i umowy o dzieło są...                5   \n250  Brak podpisu konsumenta na formularzu umowy w ...                5   \n250  W polskim prawie istnieją szczególne wymagania...                5   \n\n     coverage_rating_no_answer  \\\n0                            5   \n0                            5   \n0                            5   \n1                            5   \n1                            5   \n..                         ...   \n249                          5   \n249                          5   \n250                          5   \n250                          5   \n250                          5   \n\n                                     text_wo_stopwords  \\\n0    ['©kancelaria', 'sejmu', 's.', '1/44', '2024-0...   \n0    ['©kancelaria', 'sejmu', 's.', '1/44', '2024-0...   \n0    ['©kancelaria', 'sejmu', 's.', '1/44', '2024-0...   \n1    ['przedsiębiorstwa;', '3)', 'zasady', 'tryb', ...   \n1    ['przedsiębiorstwa;', '3)', 'zasady', 'tryb', ...   \n..                                                 ...   \n249  ['©kancelaria', 'sejmu', 's.', '44/44', '2024-...   \n249  ['©kancelaria', 'sejmu', 's.', '44/44', '2024-...   \n250  ['umowy', 'dostawy', 'następujących', 'towarów...   \n250  ['umowy', 'dostawy', 'następujących', 'towarów...   \n250  ['umowy', 'dostawy', 'następujących', 'towarów...   \n\n                                 question_wo_stopwords  \\\n0    ['-', 'prawa', 'określa', 'ustawa', 'dnia', '3...   \n0    ['-', 'obowiązki', 'przedsiębiorca', 'zawieraj...   \n0    ['-', 'regulowane', 'zasady', 'tryb', 'zawiera...   \n1    ['-', 'zasady', 'tryb', 'wykonania', 'prawa', ...   \n1    ['-', 'regulacje', 'dotyczące', 'umowy', 'odle...   \n..                                                 ...   \n249  ['-', 'konsekwencje', 'prawne', 'konsumenta,',...   \n249  ['-', 'istnieją', 'okoliczności,', 'odstąpieni...   \n250  ['-', 'umowy', 'dostawy', 'towarów', 'umowy', ...   \n250  ['-', 'konsekwencje', 'prawne', 'braku', 'podp...   \n250  ['-', 'istnieją', 'szczególne', 'wymagania', '...   \n\n                                                 chunk  wmd_question_answer  \\\n0    ©Kancelaria Sejmu    s. 1/44    2024-01-18   D...             0.341273   \n0    ©Kancelaria Sejmu    s. 1/44    2024-01-18   D...             0.139826   \n0    ©Kancelaria Sejmu    s. 1/44    2024-01-18   D...             0.122686   \n1    przedsiębiorstwa; 3) zasady i tryb wykonania p...             0.112443   \n1    przedsiębiorstwa; 3) zasady i tryb wykonania p...             0.264828   \n..                                                 ...                  ...   \n249  ©Kancelaria Sejmu    s. 44/44    2024-01-18  Z...             0.137973   \n249  ©Kancelaria Sejmu    s. 44/44    2024-01-18  Z...             0.169267   \n250  umowy dostawy następujących  towarów(*) umowy ...             0.093707   \n250  umowy dostawy następujących  towarów(*) umowy ...             0.212574   \n250  umowy dostawy następujących  towarów(*) umowy ...             0.127500   \n\n     wmd_chunk_question                                          coherence  \\\n0              0.301395  (3, \"The question is coherent in terms of aski...   \n0              0.209397  (3, The question is coherent in terms of askin...   \n0              0.216716  (4, \"The question is coherent and fluent, but ...   \n1              0.153880  (3, The question is coherent in terms of addre...   \n1              0.284043  (4, \"The question is coherent and clear, askin...   \n..                  ...                                                ...   \n249            0.232825  (4, \"The question is clear and coherent, but c...   \n249            0.269681  (4, \"The question is clear and coherent, but c...   \n250            0.280867  (3, \"The question is coherent but could be mor...   \n250            0.273275  (3, \"The question is clear and specific, but c...   \n250            0.208608  (4, \"The question is coherent and fluent, but ...   \n\n    coherence_rate                                     coherence_expl  \n0                3   The question is coherent in terms of asking a...  \n0                3   The question is coherent in terms of asking a...  \n0                4   The question is coherent and fluent, but coul...  \n1                3   The question is coherent in terms of addressi...  \n1                4   The question is coherent and clear, asking ab...  \n..             ...                                                ...  \n249              4   The question is clear and coherent, but could...  \n249              4   The question is clear and coherent, but could...  \n250              3   The question is coherent but could be more co...  \n250              3   The question is clear and specific, but could...  \n250              4   The question is coherent and fluent, but coul...  \n\n[753 rows x 16 columns]",
      "text/html": "<div>\n<style scoped>\n    .dataframe tbody tr th:only-of-type {\n        vertical-align: middle;\n    }\n\n    .dataframe tbody tr th {\n        vertical-align: top;\n    }\n\n    .dataframe thead th {\n        text-align: right;\n    }\n</style>\n<table border=\"1\" class=\"dataframe\">\n  <thead>\n    <tr style=\"text-align: right;\">\n      <th></th>\n      <th>chunk_id</th>\n      <th>text_chunk</th>\n      <th>page_id</th>\n      <th>generated_questions</th>\n      <th>generated_questions_array</th>\n      <th>answer</th>\n      <th>coverage_rating</th>\n      <th>coverage_rating_no_answer</th>\n      <th>text_wo_stopwords</th>\n      <th>question_wo_stopwords</th>\n      <th>chunk</th>\n      <th>wmd_question_answer</th>\n      <th>wmd_chunk_question</th>\n      <th>coherence</th>\n      <th>coherence_rate</th>\n      <th>coherence_expl</th>\n    </tr>\n  </thead>\n  <tbody>\n    <tr>\n      <th>0</th>\n      <td>a85d0bcd-8bd8-4f01-8a12-afd186aa2381_0</td>\n      <td>©Kancelaria Sejmu \\n \\n \\n \\ns. 1/44 \\n \\n \\n ...</td>\n      <td>a85d0bcd-8bd8-4f01-8a12-afd186aa2381</td>\n      <td>- Jakie prawa określa ustawa z dnia 30 maja 20...</td>\n      <td>- Jakie prawa określa ustawa z dnia 30 maja 20...</td>\n      <td>Ustawa z dnia 30 maja 2014 r. o prawach konsum...</td>\n      <td>5</td>\n      <td>5</td>\n      <td>['©kancelaria', 'sejmu', 's.', '1/44', '2024-0...</td>\n      <td>['-', 'prawa', 'określa', 'ustawa', 'dnia', '3...</td>\n      <td>©Kancelaria Sejmu    s. 1/44    2024-01-18   D...</td>\n      <td>0.341273</td>\n      <td>0.301395</td>\n      <td>(3, \"The question is coherent in terms of aski...</td>\n      <td>3</td>\n      <td>The question is coherent in terms of asking a...</td>\n    </tr>\n    <tr>\n      <th>0</th>\n      <td>a85d0bcd-8bd8-4f01-8a12-afd186aa2381_0</td>\n      <td>©Kancelaria Sejmu \\n \\n \\n \\ns. 1/44 \\n \\n \\n ...</td>\n      <td>a85d0bcd-8bd8-4f01-8a12-afd186aa2381</td>\n      <td>- Jakie prawa określa ustawa z dnia 30 maja 20...</td>\n      <td>- Jakie obowiązki ma przedsiębiorca zawierając...</td>\n      <td>Zgodnie z art. 1 ustawy o prawach konsumenta, ...</td>\n      <td>5</td>\n      <td>5</td>\n      <td>['©kancelaria', 'sejmu', 's.', '1/44', '2024-0...</td>\n      <td>['-', 'obowiązki', 'przedsiębiorca', 'zawieraj...</td>\n      <td>©Kancelaria Sejmu    s. 1/44    2024-01-18   D...</td>\n      <td>0.139826</td>\n      <td>0.209397</td>\n      <td>(3, The question is coherent in terms of askin...</td>\n      <td>3</td>\n      <td>The question is coherent in terms of asking a...</td>\n    </tr>\n    <tr>\n      <th>0</th>\n      <td>a85d0bcd-8bd8-4f01-8a12-afd186aa2381_0</td>\n      <td>©Kancelaria Sejmu \\n \\n \\n \\ns. 1/44 \\n \\n \\n ...</td>\n      <td>a85d0bcd-8bd8-4f01-8a12-afd186aa2381</td>\n      <td>- Jakie prawa określa ustawa z dnia 30 maja 20...</td>\n      <td>- W jaki sposób regulowane są zasady i tryb za...</td>\n      <td>Zasady i tryb zawierania umowy na odległość i ...</td>\n      <td>5</td>\n      <td>5</td>\n      <td>['©kancelaria', 'sejmu', 's.', '1/44', '2024-0...</td>\n      <td>['-', 'regulowane', 'zasady', 'tryb', 'zawiera...</td>\n      <td>©Kancelaria Sejmu    s. 1/44    2024-01-18   D...</td>\n      <td>0.122686</td>\n      <td>0.216716</td>\n      <td>(4, \"The question is coherent and fluent, but ...</td>\n      <td>4</td>\n      <td>The question is coherent and fluent, but coul...</td>\n    </tr>\n    <tr>\n      <th>1</th>\n      <td>a85d0bcd-8bd8-4f01-8a12-afd186aa2381_1</td>\n      <td>przedsiębiorstwa; \\n3) \\nzasady i tryb wykonan...</td>\n      <td>a85d0bcd-8bd8-4f01-8a12-afd186aa2381</td>\n      <td>- Jakie są zasady i tryb wykonania prawa odstą...</td>\n      <td>- Jakie są zasady i tryb wykonania prawa odstą...</td>\n      <td>Zasady i tryb wykonania prawa odstąpienia od u...</td>\n      <td>5</td>\n      <td>5</td>\n      <td>['przedsiębiorstwa;', '3)', 'zasady', 'tryb', ...</td>\n      <td>['-', 'zasady', 'tryb', 'wykonania', 'prawa', ...</td>\n      <td>przedsiębiorstwa; 3) zasady i tryb wykonania p...</td>\n      <td>0.112443</td>\n      <td>0.153880</td>\n      <td>(3, The question is coherent in terms of addre...</td>\n      <td>3</td>\n      <td>The question is coherent in terms of addressi...</td>\n    </tr>\n    <tr>\n      <th>1</th>\n      <td>a85d0bcd-8bd8-4f01-8a12-afd186aa2381_1</td>\n      <td>przedsiębiorstwa; \\n3) \\nzasady i tryb wykonan...</td>\n      <td>a85d0bcd-8bd8-4f01-8a12-afd186aa2381</td>\n      <td>- Jakie są zasady i tryb wykonania prawa odstą...</td>\n      <td>- W jaki sposób regulacje dotyczące umowy na o...</td>\n      <td>Umowa na odległość dotycząca usług finansowych...</td>\n      <td>5</td>\n      <td>5</td>\n      <td>['przedsiębiorstwa;', '3)', 'zasady', 'tryb', ...</td>\n      <td>['-', 'regulacje', 'dotyczące', 'umowy', 'odle...</td>\n      <td>przedsiębiorstwa; 3) zasady i tryb wykonania p...</td>\n      <td>0.264828</td>\n      <td>0.284043</td>\n      <td>(4, \"The question is coherent and clear, askin...</td>\n      <td>4</td>\n      <td>The question is coherent and clear, asking ab...</td>\n    </tr>\n    <tr>\n      <th>...</th>\n      <td>...</td>\n      <td>...</td>\n      <td>...</td>\n      <td>...</td>\n      <td>...</td>\n      <td>...</td>\n      <td>...</td>\n      <td>...</td>\n      <td>...</td>\n      <td>...</td>\n      <td>...</td>\n      <td>...</td>\n      <td>...</td>\n      <td>...</td>\n      <td>...</td>\n      <td>...</td>\n    </tr>\n    <tr>\n      <th>249</th>\n      <td>3013532f-7032-49d0-839d-2093d1d4a2fe_0</td>\n      <td>©Kancelaria Sejmu \\n \\n \\n \\ns. 44/44 \\n \\n \\n...</td>\n      <td>3013532f-7032-49d0-839d-2093d1d4a2fe</td>\n      <td>- Czy formularz odstąpienia od umowy musi być ...</td>\n      <td>- Jakie są konsekwencje prawne dla konsumenta,...</td>\n      <td>Jeśli konsument nie zastosuje się do procedury...</td>\n      <td>5</td>\n      <td>5</td>\n      <td>['©kancelaria', 'sejmu', 's.', '44/44', '2024-...</td>\n      <td>['-', 'konsekwencje', 'prawne', 'konsumenta,',...</td>\n      <td>©Kancelaria Sejmu    s. 44/44    2024-01-18  Z...</td>\n      <td>0.137973</td>\n      <td>0.232825</td>\n      <td>(4, \"The question is clear and coherent, but c...</td>\n      <td>4</td>\n      <td>The question is clear and coherent, but could...</td>\n    </tr>\n    <tr>\n      <th>249</th>\n      <td>3013532f-7032-49d0-839d-2093d1d4a2fe_0</td>\n      <td>©Kancelaria Sejmu \\n \\n \\n \\ns. 44/44 \\n \\n \\n...</td>\n      <td>3013532f-7032-49d0-839d-2093d1d4a2fe</td>\n      <td>- Czy formularz odstąpienia od umowy musi być ...</td>\n      <td>- Czy istnieją okoliczności, w których odstąpi...</td>\n      <td>Tak, istnieją okoliczności, w których odstąpie...</td>\n      <td>5</td>\n      <td>5</td>\n      <td>['©kancelaria', 'sejmu', 's.', '44/44', '2024-...</td>\n      <td>['-', 'istnieją', 'okoliczności,', 'odstąpieni...</td>\n      <td>©Kancelaria Sejmu    s. 44/44    2024-01-18  Z...</td>\n      <td>0.169267</td>\n      <td>0.269681</td>\n      <td>(4, \"The question is clear and coherent, but c...</td>\n      <td>4</td>\n      <td>The question is clear and coherent, but could...</td>\n    </tr>\n    <tr>\n      <th>250</th>\n      <td>3013532f-7032-49d0-839d-2093d1d4a2fe_1</td>\n      <td>umowy dostawy następujących  towarów(*) umowy ...</td>\n      <td>3013532f-7032-49d0-839d-2093d1d4a2fe</td>\n      <td>- Czy umowy dostawy towarów i umowy o dzieło s...</td>\n      <td>- Czy umowy dostawy towarów i umowy o dzieło s...</td>\n      <td>Tak, umowy dostawy towarów i umowy o dzieło są...</td>\n      <td>5</td>\n      <td>5</td>\n      <td>['umowy', 'dostawy', 'następujących', 'towarów...</td>\n      <td>['-', 'umowy', 'dostawy', 'towarów', 'umowy', ...</td>\n      <td>umowy dostawy następujących  towarów(*) umowy ...</td>\n      <td>0.093707</td>\n      <td>0.280867</td>\n      <td>(3, \"The question is coherent but could be mor...</td>\n      <td>3</td>\n      <td>The question is coherent but could be more co...</td>\n    </tr>\n    <tr>\n      <th>250</th>\n      <td>3013532f-7032-49d0-839d-2093d1d4a2fe_1</td>\n      <td>umowy dostawy następujących  towarów(*) umowy ...</td>\n      <td>3013532f-7032-49d0-839d-2093d1d4a2fe</td>\n      <td>- Czy umowy dostawy towarów i umowy o dzieło s...</td>\n      <td>- Jakie są konsekwencje prawne braku podpisu k...</td>\n      <td>Brak podpisu konsumenta na formularzu umowy w ...</td>\n      <td>5</td>\n      <td>5</td>\n      <td>['umowy', 'dostawy', 'następujących', 'towarów...</td>\n      <td>['-', 'konsekwencje', 'prawne', 'braku', 'podp...</td>\n      <td>umowy dostawy następujących  towarów(*) umowy ...</td>\n      <td>0.212574</td>\n      <td>0.273275</td>\n      <td>(3, \"The question is clear and specific, but c...</td>\n      <td>3</td>\n      <td>The question is clear and specific, but could...</td>\n    </tr>\n    <tr>\n      <th>250</th>\n      <td>3013532f-7032-49d0-839d-2093d1d4a2fe_1</td>\n      <td>umowy dostawy następujących  towarów(*) umowy ...</td>\n      <td>3013532f-7032-49d0-839d-2093d1d4a2fe</td>\n      <td>- Czy umowy dostawy towarów i umowy o dzieło s...</td>\n      <td>- Czy istnieją szczególne wymagania co do daty...</td>\n      <td>W polskim prawie istnieją szczególne wymagania...</td>\n      <td>5</td>\n      <td>5</td>\n      <td>['umowy', 'dostawy', 'następujących', 'towarów...</td>\n      <td>['-', 'istnieją', 'szczególne', 'wymagania', '...</td>\n      <td>umowy dostawy następujących  towarów(*) umowy ...</td>\n      <td>0.127500</td>\n      <td>0.208608</td>\n      <td>(4, \"The question is coherent and fluent, but ...</td>\n      <td>4</td>\n      <td>The question is coherent and fluent, but coul...</td>\n    </tr>\n  </tbody>\n</table>\n<p>753 rows × 16 columns</p>\n</div>"
     },
     "execution_count": 45,
     "metadata": {},
     "output_type": "execute_result"
    }
   ],
   "source": [
    "df['coherence_rate'] = df.coherence_rate.str.replace('(', '')\n",
    "df['coherence_expl'] = df.coherence_expl.str.replace(')', '')\n",
    "df['coherence_expl'] = df.coherence_expl.str.replace('\"', '')\n",
    "df"
   ],
   "metadata": {
    "collapsed": false,
    "ExecuteTime": {
     "end_time": "2024-08-16T18:52:23.909251Z",
     "start_time": "2024-08-16T18:52:23.889267Z"
    }
   },
   "id": "43136a7bb92d8b26",
   "execution_count": 45
  },
  {
   "cell_type": "code",
   "outputs": [],
   "source": [
    "df.to_excel('data/06_latest.xlsx', index = False)"
   ],
   "metadata": {
    "collapsed": false,
    "ExecuteTime": {
     "end_time": "2024-08-16T18:53:01.901210Z",
     "start_time": "2024-08-16T18:53:01.337980Z"
    }
   },
   "id": "5b208368288ef5e6",
   "execution_count": 46
  },
  {
   "cell_type": "code",
   "outputs": [],
   "source": [
    "df = pd.read_excel('data/06_latest.xlsx')"
   ],
   "metadata": {
    "collapsed": false,
    "ExecuteTime": {
     "end_time": "2024-08-16T18:53:02.959429Z",
     "start_time": "2024-08-16T18:53:02.693645Z"
    }
   },
   "id": "61c8248f41482049",
   "execution_count": 47
  },
  {
   "cell_type": "code",
   "outputs": [
    {
     "data": {
      "text/plain": "Index(['chunk_id', 'text_chunk', 'page_id', 'generated_questions',\n       'generated_questions_array', 'answer', 'coverage_rating',\n       'coverage_rating_no_answer', 'text_wo_stopwords',\n       'question_wo_stopwords', 'chunk', 'wmd_question_answer',\n       'wmd_chunk_question', 'coherence', 'coherence_rate', 'coherence_expl'],\n      dtype='object')"
     },
     "execution_count": 48,
     "metadata": {},
     "output_type": "execute_result"
    }
   ],
   "source": [
    "df.columns"
   ],
   "metadata": {
    "collapsed": false,
    "ExecuteTime": {
     "end_time": "2024-08-16T18:53:04.058814Z",
     "start_time": "2024-08-16T18:53:04.054440Z"
    }
   },
   "id": "a101f580e8c08398",
   "execution_count": 48
  },
  {
   "cell_type": "code",
   "outputs": [],
   "source": [
    "sample_df = df.sample(15)"
   ],
   "metadata": {
    "collapsed": false,
    "ExecuteTime": {
     "end_time": "2024-08-08T19:35:46.374887Z",
     "start_time": "2024-08-08T19:35:46.371254Z"
    }
   },
   "id": "c7e99ed7887f59d5",
   "execution_count": 6
  },
  {
   "cell_type": "code",
   "outputs": [
    {
     "data": {
      "text/plain": "                                            text_chunk  \\\n0    ©Kancelaria Sejmu \\n \\n \\n \\ns. 1/44 \\n \\n \\n ...   \n1    ©Kancelaria Sejmu \\n \\n \\n \\ns. 1/44 \\n \\n \\n ...   \n2    ©Kancelaria Sejmu \\n \\n \\n \\ns. 1/44 \\n \\n \\n ...   \n3    przedsiębiorstwa; \\n3) \\nzasady i tryb wykonan...   \n4    przedsiębiorstwa; \\n3) \\nzasady i tryb wykonan...   \n..                                                 ...   \n748  ©Kancelaria Sejmu \\n \\n \\n \\ns. 44/44 \\n \\n \\n...   \n749  ©Kancelaria Sejmu \\n \\n \\n \\ns. 44/44 \\n \\n \\n...   \n750  umowy dostawy następujących  towarów(*) umowy ...   \n751  umowy dostawy następujących  towarów(*) umowy ...   \n752  umowy dostawy następujących  towarów(*) umowy ...   \n\n                                                 chunk  \n0    ©Kancelaria Sejmu    s. 1/44    2024-01-18   D...  \n1    ©Kancelaria Sejmu    s. 1/44    2024-01-18   D...  \n2    ©Kancelaria Sejmu    s. 1/44    2024-01-18   D...  \n3    przedsiębiorstwa; 3) zasady i tryb wykonania p...  \n4    przedsiębiorstwa; 3) zasady i tryb wykonania p...  \n..                                                 ...  \n748  ©Kancelaria Sejmu    s. 44/44    2024-01-18  Z...  \n749  ©Kancelaria Sejmu    s. 44/44    2024-01-18  Z...  \n750  umowy dostawy następujących  towarów(*) umowy ...  \n751  umowy dostawy następujących  towarów(*) umowy ...  \n752  umowy dostawy następujących  towarów(*) umowy ...  \n\n[753 rows x 2 columns]",
      "text/html": "<div>\n<style scoped>\n    .dataframe tbody tr th:only-of-type {\n        vertical-align: middle;\n    }\n\n    .dataframe tbody tr th {\n        vertical-align: top;\n    }\n\n    .dataframe thead th {\n        text-align: right;\n    }\n</style>\n<table border=\"1\" class=\"dataframe\">\n  <thead>\n    <tr style=\"text-align: right;\">\n      <th></th>\n      <th>text_chunk</th>\n      <th>chunk</th>\n    </tr>\n  </thead>\n  <tbody>\n    <tr>\n      <th>0</th>\n      <td>©Kancelaria Sejmu \\n \\n \\n \\ns. 1/44 \\n \\n \\n ...</td>\n      <td>©Kancelaria Sejmu    s. 1/44    2024-01-18   D...</td>\n    </tr>\n    <tr>\n      <th>1</th>\n      <td>©Kancelaria Sejmu \\n \\n \\n \\ns. 1/44 \\n \\n \\n ...</td>\n      <td>©Kancelaria Sejmu    s. 1/44    2024-01-18   D...</td>\n    </tr>\n    <tr>\n      <th>2</th>\n      <td>©Kancelaria Sejmu \\n \\n \\n \\ns. 1/44 \\n \\n \\n ...</td>\n      <td>©Kancelaria Sejmu    s. 1/44    2024-01-18   D...</td>\n    </tr>\n    <tr>\n      <th>3</th>\n      <td>przedsiębiorstwa; \\n3) \\nzasady i tryb wykonan...</td>\n      <td>przedsiębiorstwa; 3) zasady i tryb wykonania p...</td>\n    </tr>\n    <tr>\n      <th>4</th>\n      <td>przedsiębiorstwa; \\n3) \\nzasady i tryb wykonan...</td>\n      <td>przedsiębiorstwa; 3) zasady i tryb wykonania p...</td>\n    </tr>\n    <tr>\n      <th>...</th>\n      <td>...</td>\n      <td>...</td>\n    </tr>\n    <tr>\n      <th>748</th>\n      <td>©Kancelaria Sejmu \\n \\n \\n \\ns. 44/44 \\n \\n \\n...</td>\n      <td>©Kancelaria Sejmu    s. 44/44    2024-01-18  Z...</td>\n    </tr>\n    <tr>\n      <th>749</th>\n      <td>©Kancelaria Sejmu \\n \\n \\n \\ns. 44/44 \\n \\n \\n...</td>\n      <td>©Kancelaria Sejmu    s. 44/44    2024-01-18  Z...</td>\n    </tr>\n    <tr>\n      <th>750</th>\n      <td>umowy dostawy następujących  towarów(*) umowy ...</td>\n      <td>umowy dostawy następujących  towarów(*) umowy ...</td>\n    </tr>\n    <tr>\n      <th>751</th>\n      <td>umowy dostawy następujących  towarów(*) umowy ...</td>\n      <td>umowy dostawy następujących  towarów(*) umowy ...</td>\n    </tr>\n    <tr>\n      <th>752</th>\n      <td>umowy dostawy następujących  towarów(*) umowy ...</td>\n      <td>umowy dostawy następujących  towarów(*) umowy ...</td>\n    </tr>\n  </tbody>\n</table>\n<p>753 rows × 2 columns</p>\n</div>"
     },
     "execution_count": 49,
     "metadata": {},
     "output_type": "execute_result"
    }
   ],
   "source": [
    "df[['text_chunk', 'chunk']]"
   ],
   "metadata": {
    "collapsed": false,
    "ExecuteTime": {
     "end_time": "2024-08-16T18:53:09.819019Z",
     "start_time": "2024-08-16T18:53:09.809937Z"
    }
   },
   "id": "45eee36bf2f6eba8",
   "execution_count": 49
  },
  {
   "cell_type": "code",
   "outputs": [],
   "source": [
    "df['relevance'] = df.apply(lambda x: OpenAIReq().call_api(prompt=PromptBuilder.get_relevance(question=x['generated_questions_array'], context=x['text_chunk'])),axis=1)"
   ],
   "metadata": {
    "collapsed": false,
    "ExecuteTime": {
     "end_time": "2024-08-16T18:59:56.103871Z",
     "start_time": "2024-08-16T18:53:17.260165Z"
    }
   },
   "id": "e9f842efd52f19eb",
   "execution_count": 50
  },
  {
   "cell_type": "code",
   "outputs": [],
   "source": [
    "df['global_relevance'] = df.apply(lambda x: OpenAIReq().call_api(prompt=PromptBuilder.get_global_relevance(question=x['generated_questions_array'])),axis=1)"
   ],
   "metadata": {
    "collapsed": false,
    "ExecuteTime": {
     "end_time": "2024-08-16T19:15:57.511038Z",
     "start_time": "2024-08-16T19:00:08.526669Z"
    }
   },
   "id": "a887b80b654bf7ae",
   "execution_count": 51
  },
  {
   "cell_type": "code",
   "outputs": [
    {
     "data": {
      "text/plain": "relevance\n5    0.989376\n1    0.006640\n4    0.002656\n3    0.001328\nName: proportion, dtype: float64"
     },
     "execution_count": 52,
     "metadata": {},
     "output_type": "execute_result"
    }
   ],
   "source": [
    "df['relevance'].value_counts(normalize=True)"
   ],
   "metadata": {
    "collapsed": false,
    "ExecuteTime": {
     "end_time": "2024-08-16T19:18:17.789766Z",
     "start_time": "2024-08-16T19:18:17.781765Z"
    }
   },
   "id": "d45d5f92c560c974",
   "execution_count": 52
  },
  {
   "cell_type": "code",
   "outputs": [
    {
     "data": {
      "text/plain": "global_relevance\n5    0.989376\n1    0.006640\n3    0.002656\n2    0.001328\nName: proportion, dtype: float64"
     },
     "execution_count": 53,
     "metadata": {},
     "output_type": "execute_result"
    }
   ],
   "source": [
    "df['global_relevance'].value_counts(normalize=True)"
   ],
   "metadata": {
    "collapsed": false,
    "ExecuteTime": {
     "end_time": "2024-08-16T19:18:22.736268Z",
     "start_time": "2024-08-16T19:18:22.730247Z"
    }
   },
   "id": "541a00b99b1b1347",
   "execution_count": 53
  },
  {
   "cell_type": "code",
   "outputs": [],
   "source": [
    "df.to_excel('data/07_data_with_relevances.xlsx')"
   ],
   "metadata": {
    "collapsed": false,
    "ExecuteTime": {
     "end_time": "2024-08-16T19:18:44.908104Z",
     "start_time": "2024-08-16T19:18:44.507686Z"
    }
   },
   "id": "3c4c056e33234e8c",
   "execution_count": 54
  },
  {
   "cell_type": "markdown",
   "source": [
    "## Evaluation"
   ],
   "metadata": {
    "collapsed": false
   },
   "id": "f7aa1a31225933b1"
  },
  {
   "cell_type": "code",
   "outputs": [
    {
     "name": "stderr",
     "output_type": "stream",
     "text": [
      "753it [07:43,  1.62it/s]\n"
     ]
    }
   ],
   "source": [
    "reporting = Reporting(data=df)\n",
    "sim_matrix = reporting.create_similarity_matrix_for_wmd(on_column='generated_questions_array')"
   ],
   "metadata": {
    "collapsed": false,
    "ExecuteTime": {
     "end_time": "2024-08-16T19:27:02.237404Z",
     "start_time": "2024-08-16T19:18:49.640354Z"
    }
   },
   "id": "16e6c8199c8c49e4",
   "execution_count": 55
  },
  {
   "cell_type": "code",
   "outputs": [
    {
     "data": {
      "text/plain": "(752, 752)"
     },
     "execution_count": 56,
     "metadata": {},
     "output_type": "execute_result"
    }
   ],
   "source": [
    "sim_matrix.shape"
   ],
   "metadata": {
    "collapsed": false,
    "ExecuteTime": {
     "end_time": "2024-08-16T19:27:15.750624Z",
     "start_time": "2024-08-16T19:27:15.746305Z"
    }
   },
   "id": "68a4ae67f367776d",
   "execution_count": 56
  },
  {
   "cell_type": "markdown",
   "source": [
    "### Plotting the results of similarity matrix"
   ],
   "metadata": {
    "collapsed": false
   },
   "id": "fae6d8eb87c3b77b"
  },
  {
   "cell_type": "code",
   "outputs": [],
   "source": [
    "if sim_matrix.shape[0] < 30: #plot only when sampled\n",
    "    mask = np.zeros_like(sim_matrix)\n",
    "    mask[np.triu_indices_from(mask)] = True\n",
    "    sns.heatmap(sim_matrix,\n",
    "                annot=True,\n",
    "                fmt='.2f',\n",
    "                linewidth=.5,\n",
    "                cmap='crest',\n",
    "                mask=mask,\n",
    "                annot_kws={'fontsize': 8})"
   ],
   "metadata": {
    "collapsed": false,
    "ExecuteTime": {
     "end_time": "2024-08-16T19:27:21.101639Z",
     "start_time": "2024-08-16T19:27:21.097539Z"
    }
   },
   "id": "a11461716544cee7",
   "execution_count": 57
  },
  {
   "cell_type": "markdown",
   "source": [
    "### Evaluation Summary"
   ],
   "metadata": {
    "collapsed": false
   },
   "id": "f4821b514b5a6149"
  },
  {
   "cell_type": "markdown",
   "source": [
    "#### Relevance anf global relevance"
   ],
   "metadata": {
    "collapsed": false
   },
   "id": "905e1e1aa6fc8a76"
  },
  {
   "cell_type": "code",
   "outputs": [
    {
     "data": {
      "text/plain": "relevance\n5    0.989376\n1    0.003984\n4    0.003984\n3    0.002656\nName: proportion, dtype: float64"
     },
     "execution_count": 14,
     "metadata": {},
     "output_type": "execute_result"
    }
   ],
   "source": [
    "df['relevance'].value_counts(normalize=True)"
   ],
   "metadata": {
    "collapsed": false,
    "ExecuteTime": {
     "end_time": "2024-08-11T20:38:21.509711Z",
     "start_time": "2024-08-11T20:38:21.503599Z"
    }
   },
   "id": "51e5504b2ce89534",
   "execution_count": 14
  },
  {
   "cell_type": "code",
   "outputs": [
    {
     "data": {
      "text/plain": "<Axes: >"
     },
     "execution_count": 58,
     "metadata": {},
     "output_type": "execute_result"
    },
    {
     "data": {
      "text/plain": "<Figure size 640x480 with 1 Axes>",
      "image/png": "[encoded data removed]"
     },
     "metadata": {},
     "output_type": "display_data"
    }
   ],
   "source": [
    "pd.plotting.hist_series(df['relevance'])"
   ],
   "metadata": {
    "collapsed": false,
    "ExecuteTime": {
     "end_time": "2024-08-16T19:27:31.405024Z",
     "start_time": "2024-08-16T19:27:31.255137Z"
    }
   },
   "id": "408b96484687baf8",
   "execution_count": 58
  },
  {
   "cell_type": "code",
   "outputs": [
    {
     "data": {
      "text/plain": "global_relevance\n5    0.989376\n1    0.006640\n3    0.002656\n2    0.001328\nName: proportion, dtype: float64"
     },
     "execution_count": 59,
     "metadata": {},
     "output_type": "execute_result"
    }
   ],
   "source": [
    "df['global_relevance'].value_counts(normalize=True)"
   ],
   "metadata": {
    "collapsed": false,
    "ExecuteTime": {
     "end_time": "2024-08-16T19:27:34.844986Z",
     "start_time": "2024-08-16T19:27:34.839295Z"
    }
   },
   "id": "5ca77a6713090ce1",
   "execution_count": 59
  },
  {
   "cell_type": "code",
   "outputs": [
    {
     "data": {
      "text/plain": "<Axes: >"
     },
     "execution_count": 60,
     "metadata": {},
     "output_type": "execute_result"
    },
    {
     "data": {
      "text/plain": "<Figure size 640x480 with 1 Axes>",
      "image/png": "[encoded data removed]"
     },
     "metadata": {},
     "output_type": "display_data"
    }
   ],
   "source": [
    "pd.plotting.hist_series(df['global_relevance'])"
   ],
   "metadata": {
    "collapsed": false,
    "ExecuteTime": {
     "end_time": "2024-08-16T19:27:39.291610Z",
     "start_time": "2024-08-16T19:27:39.080683Z"
    }
   },
   "id": "879f5428100c9f2",
   "execution_count": 60
  },
  {
   "cell_type": "markdown",
   "source": [
    "#### Coverage summary"
   ],
   "metadata": {
    "collapsed": false
   },
   "id": "1f955fad2b047bb7"
  },
  {
   "cell_type": "code",
   "outputs": [
    {
     "data": {
      "text/plain": "coverage_rating\n5    1.0\nName: proportion, dtype: float64"
     },
     "execution_count": 61,
     "metadata": {},
     "output_type": "execute_result"
    }
   ],
   "source": [
    "df['coverage_rating'].value_counts(normalize=True)"
   ],
   "metadata": {
    "collapsed": false,
    "ExecuteTime": {
     "end_time": "2024-08-16T19:27:42.801796Z",
     "start_time": "2024-08-16T19:27:42.795902Z"
    }
   },
   "id": "8ad59ea8363aee59",
   "execution_count": 61
  },
  {
   "cell_type": "code",
   "outputs": [
    {
     "data": {
      "text/plain": "<Axes: >"
     },
     "execution_count": 24,
     "metadata": {},
     "output_type": "execute_result"
    },
    {
     "data": {
      "text/plain": "<Figure size 640x480 with 1 Axes>",
      "image/png": "[encoded data removed]"
     },
     "metadata": {},
     "output_type": "display_data"
    }
   ],
   "source": [
    "pd.plotting.hist_series(df['coverage_rating'])"
   ],
   "metadata": {
    "collapsed": false,
    "ExecuteTime": {
     "end_time": "2024-08-10T20:19:10.582440Z",
     "start_time": "2024-08-10T20:19:10.388896Z"
    }
   },
   "id": "bd4000fa90e48c2f",
   "execution_count": 24
  },
  {
   "cell_type": "code",
   "outputs": [
    {
     "data": {
      "text/plain": "coverage_rating_no_answer\n5    0.938911\n4    0.049137\n1    0.007968\n2    0.002656\n3    0.001328\nName: proportion, dtype: float64"
     },
     "execution_count": 62,
     "metadata": {},
     "output_type": "execute_result"
    }
   ],
   "source": [
    "df['coverage_rating_no_answer'].value_counts(normalize=True)"
   ],
   "metadata": {
    "collapsed": false,
    "ExecuteTime": {
     "end_time": "2024-08-16T19:27:46.351006Z",
     "start_time": "2024-08-16T19:27:46.345421Z"
    }
   },
   "id": "cc036bed71e16da8",
   "execution_count": 62
  },
  {
   "cell_type": "code",
   "outputs": [
    {
     "data": {
      "text/plain": "<Axes: >"
     },
     "execution_count": 63,
     "metadata": {},
     "output_type": "execute_result"
    },
    {
     "data": {
      "text/plain": "<Figure size 640x480 with 1 Axes>",
      "image/png": "[encoded data removed]"
     },
     "metadata": {},
     "output_type": "display_data"
    }
   ],
   "source": [
    "pd.plotting.hist_series(df['coverage_rating_no_answer'])"
   ],
   "metadata": {
    "collapsed": false,
    "ExecuteTime": {
     "end_time": "2024-08-16T19:27:49.798344Z",
     "start_time": "2024-08-16T19:27:49.584187Z"
    }
   },
   "id": "437baacbfb2c8ebf",
   "execution_count": 63
  },
  {
   "cell_type": "markdown",
   "source": [
    "#### Word mover distance"
   ],
   "metadata": {
    "collapsed": false
   },
   "id": "3f937ce309018b65"
  },
  {
   "cell_type": "code",
   "outputs": [
    {
     "ename": "KeyError",
     "evalue": "'wmd'",
     "output_type": "error",
     "traceback": [
      "\u001B[0;31m---------------------------------------------------------------------------\u001B[0m",
      "\u001B[0;31mKeyError\u001B[0m                                  Traceback (most recent call last)",
      "File \u001B[0;32m~/PycharmProjects/bielik-ft-legal/.venv/lib/python3.11/site-packages/pandas/core/indexes/base.py:3805\u001B[0m, in \u001B[0;36mIndex.get_loc\u001B[0;34m(self, key)\u001B[0m\n\u001B[1;32m   3804\u001B[0m \u001B[38;5;28;01mtry\u001B[39;00m:\n\u001B[0;32m-> 3805\u001B[0m     \u001B[38;5;28;01mreturn\u001B[39;00m \u001B[38;5;28;43mself\u001B[39;49m\u001B[38;5;241;43m.\u001B[39;49m\u001B[43m_engine\u001B[49m\u001B[38;5;241;43m.\u001B[39;49m\u001B[43mget_loc\u001B[49m\u001B[43m(\u001B[49m\u001B[43mcasted_key\u001B[49m\u001B[43m)\u001B[49m\n\u001B[1;32m   3806\u001B[0m \u001B[38;5;28;01mexcept\u001B[39;00m \u001B[38;5;167;01mKeyError\u001B[39;00m \u001B[38;5;28;01mas\u001B[39;00m err:\n",
      "File \u001B[0;32mindex.pyx:167\u001B[0m, in \u001B[0;36mpandas._libs.index.IndexEngine.get_loc\u001B[0;34m()\u001B[0m\n",
      "File \u001B[0;32mindex.pyx:196\u001B[0m, in \u001B[0;36mpandas._libs.index.IndexEngine.get_loc\u001B[0;34m()\u001B[0m\n",
      "File \u001B[0;32mpandas/_libs/hashtable_class_helper.pxi:7081\u001B[0m, in \u001B[0;36mpandas._libs.hashtable.PyObjectHashTable.get_item\u001B[0;34m()\u001B[0m\n",
      "File \u001B[0;32mpandas/_libs/hashtable_class_helper.pxi:7089\u001B[0m, in \u001B[0;36mpandas._libs.hashtable.PyObjectHashTable.get_item\u001B[0;34m()\u001B[0m\n",
      "\u001B[0;31mKeyError\u001B[0m: 'wmd'",
      "\nThe above exception was the direct cause of the following exception:\n",
      "\u001B[0;31mKeyError\u001B[0m                                  Traceback (most recent call last)",
      "Cell \u001B[0;32mIn[64], line 2\u001B[0m\n\u001B[1;32m      1\u001B[0m \u001B[38;5;66;03m# WMD question <-> chunk\u001B[39;00m\n\u001B[0;32m----> 2\u001B[0m pd\u001B[38;5;241m.\u001B[39mplotting\u001B[38;5;241m.\u001B[39mhist_series(\u001B[43mdf\u001B[49m\u001B[43m[\u001B[49m\u001B[38;5;124;43m'\u001B[39;49m\u001B[38;5;124;43mwmd\u001B[39;49m\u001B[38;5;124;43m'\u001B[39;49m\u001B[43m]\u001B[49m)\n",
      "File \u001B[0;32m~/PycharmProjects/bielik-ft-legal/.venv/lib/python3.11/site-packages/pandas/core/frame.py:4102\u001B[0m, in \u001B[0;36mDataFrame.__getitem__\u001B[0;34m(self, key)\u001B[0m\n\u001B[1;32m   4100\u001B[0m \u001B[38;5;28;01mif\u001B[39;00m \u001B[38;5;28mself\u001B[39m\u001B[38;5;241m.\u001B[39mcolumns\u001B[38;5;241m.\u001B[39mnlevels \u001B[38;5;241m>\u001B[39m \u001B[38;5;241m1\u001B[39m:\n\u001B[1;32m   4101\u001B[0m     \u001B[38;5;28;01mreturn\u001B[39;00m \u001B[38;5;28mself\u001B[39m\u001B[38;5;241m.\u001B[39m_getitem_multilevel(key)\n\u001B[0;32m-> 4102\u001B[0m indexer \u001B[38;5;241m=\u001B[39m \u001B[38;5;28;43mself\u001B[39;49m\u001B[38;5;241;43m.\u001B[39;49m\u001B[43mcolumns\u001B[49m\u001B[38;5;241;43m.\u001B[39;49m\u001B[43mget_loc\u001B[49m\u001B[43m(\u001B[49m\u001B[43mkey\u001B[49m\u001B[43m)\u001B[49m\n\u001B[1;32m   4103\u001B[0m \u001B[38;5;28;01mif\u001B[39;00m is_integer(indexer):\n\u001B[1;32m   4104\u001B[0m     indexer \u001B[38;5;241m=\u001B[39m [indexer]\n",
      "File \u001B[0;32m~/PycharmProjects/bielik-ft-legal/.venv/lib/python3.11/site-packages/pandas/core/indexes/base.py:3812\u001B[0m, in \u001B[0;36mIndex.get_loc\u001B[0;34m(self, key)\u001B[0m\n\u001B[1;32m   3807\u001B[0m     \u001B[38;5;28;01mif\u001B[39;00m \u001B[38;5;28misinstance\u001B[39m(casted_key, \u001B[38;5;28mslice\u001B[39m) \u001B[38;5;129;01mor\u001B[39;00m (\n\u001B[1;32m   3808\u001B[0m         \u001B[38;5;28misinstance\u001B[39m(casted_key, abc\u001B[38;5;241m.\u001B[39mIterable)\n\u001B[1;32m   3809\u001B[0m         \u001B[38;5;129;01mand\u001B[39;00m \u001B[38;5;28many\u001B[39m(\u001B[38;5;28misinstance\u001B[39m(x, \u001B[38;5;28mslice\u001B[39m) \u001B[38;5;28;01mfor\u001B[39;00m x \u001B[38;5;129;01min\u001B[39;00m casted_key)\n\u001B[1;32m   3810\u001B[0m     ):\n\u001B[1;32m   3811\u001B[0m         \u001B[38;5;28;01mraise\u001B[39;00m InvalidIndexError(key)\n\u001B[0;32m-> 3812\u001B[0m     \u001B[38;5;28;01mraise\u001B[39;00m \u001B[38;5;167;01mKeyError\u001B[39;00m(key) \u001B[38;5;28;01mfrom\u001B[39;00m \u001B[38;5;21;01merr\u001B[39;00m\n\u001B[1;32m   3813\u001B[0m \u001B[38;5;28;01mexcept\u001B[39;00m \u001B[38;5;167;01mTypeError\u001B[39;00m:\n\u001B[1;32m   3814\u001B[0m     \u001B[38;5;66;03m# If we have a listlike key, _check_indexing_error will raise\u001B[39;00m\n\u001B[1;32m   3815\u001B[0m     \u001B[38;5;66;03m#  InvalidIndexError. Otherwise we fall through and re-raise\u001B[39;00m\n\u001B[1;32m   3816\u001B[0m     \u001B[38;5;66;03m#  the TypeError.\u001B[39;00m\n\u001B[1;32m   3817\u001B[0m     \u001B[38;5;28mself\u001B[39m\u001B[38;5;241m.\u001B[39m_check_indexing_error(key)\n",
      "\u001B[0;31mKeyError\u001B[0m: 'wmd'"
     ]
    }
   ],
   "source": [
    "# WMD question <-> chunk\n",
    "pd.plotting.hist_series(df['wmd'])"
   ],
   "metadata": {
    "collapsed": false,
    "ExecuteTime": {
     "end_time": "2024-08-16T19:27:53.666828Z",
     "start_time": "2024-08-16T19:27:53.599864Z"
    }
   },
   "id": "ef3c5f0725bb2674",
   "execution_count": 64
  },
  {
   "cell_type": "code",
   "outputs": [
    {
     "name": "stdout",
     "output_type": "stream",
     "text": [
      "Mean for question to chunk for WMD is 0.19339181580439138 with std as 0.07003015277804153\n"
     ]
    }
   ],
   "source": [
    "mean_wmd_qch = df['wmd'].mean()\n",
    "std_wmd_qch = df['wmd'].std()\n",
    "print(f'Mean for question to chunk for WMD is {mean_wmd_qch} with std as {std_wmd_qch}')"
   ],
   "metadata": {
    "collapsed": false,
    "ExecuteTime": {
     "end_time": "2024-08-10T20:19:29.258154Z",
     "start_time": "2024-08-10T20:19:29.252149Z"
    }
   },
   "id": "ec28848a295df728",
   "execution_count": 28
  },
  {
   "cell_type": "code",
   "outputs": [
    {
     "data": {
      "text/plain": "<Axes: >"
     },
     "execution_count": 29,
     "metadata": {},
     "output_type": "execute_result"
    },
    {
     "data": {
      "text/plain": "<Figure size 640x480 with 1 Axes>",
      "image/png": "[encoded data removed]"
     },
     "metadata": {},
     "output_type": "display_data"
    }
   ],
   "source": [
    "# WMD question <-> answer\n",
    "pd.plotting.hist_series(df['wmd_question_answer'])"
   ],
   "metadata": {
    "collapsed": false,
    "ExecuteTime": {
     "end_time": "2024-08-10T20:19:32.103055Z",
     "start_time": "2024-08-10T20:19:31.855693Z"
    }
   },
   "id": "72d02a1699e40d16",
   "execution_count": 29
  },
  {
   "cell_type": "code",
   "outputs": [
    {
     "name": "stdout",
     "output_type": "stream",
     "text": [
      "Mean for question to answer for WMD is 0.14663981538771198 with std as 0.05362387325462629\n"
     ]
    }
   ],
   "source": [
    "mean_wmd_qa = df['wmd_question_answer'].mean()\n",
    "std_wmd_qa = df['wmd_question_answer'].std()\n",
    "print(f'Mean for question to answer for WMD is {mean_wmd_qa} with std as {std_wmd_qa}')"
   ],
   "metadata": {
    "collapsed": false,
    "ExecuteTime": {
     "end_time": "2024-08-16T19:28:01.570658Z",
     "start_time": "2024-08-16T19:28:01.566354Z"
    }
   },
   "id": "ad2cc9b4c34773a0",
   "execution_count": 65
  },
  {
   "cell_type": "code",
   "outputs": [
    {
     "name": "stdout",
     "output_type": "stream",
     "text": [
      "Mean for question to question for WMD is 0.2407836529716644 with std as 0.06884521720370682\n"
     ]
    }
   ],
   "source": [
    "# WMD question <-> question\n",
    "std, mean = reporting.get_summary_for_wmd(sim_matrix)\n",
    "print(f'Mean for question to question for WMD is {mean} with std as {std}')"
   ],
   "metadata": {
    "collapsed": false,
    "ExecuteTime": {
     "end_time": "2024-08-16T19:28:08.407985Z",
     "start_time": "2024-08-16T19:28:08.395924Z"
    }
   },
   "id": "c9f0e941819d663",
   "execution_count": 66
  },
  {
   "cell_type": "markdown",
   "source": [
    "#### Coherence rate"
   ],
   "metadata": {
    "collapsed": false
   },
   "id": "27a3d2a581aaeee5"
  },
  {
   "cell_type": "code",
   "outputs": [
    {
     "data": {
      "text/plain": "coherence_rate\n4                                                                                                                                                                                                                    0.438247\n3                                                                                                                                                                                                                    0.394422\n2                                                                                                                                                                                                                    0.155378\n2 | The question is somewhat coherent as it asks about situations where an unplanned visit by a businessperson to a consumer could result in the formation of a valid contract according to the law. However         0.001328\n3 | The question is coherent in terms of addressing a specific legal issue regarding the priority of articles 10 and 11 over other legal provisions in case of norm conflicts. However                               0.001328\n3 | The question is coherent in terms of legal terminology and structure                                                                                                                                             0.001328\n3 | The question is coherent and clear in terms of asking about the conditions that must be met for a business owner to demand payment for a service actually rendered. However                                      0.001328\n3 | The question is clear and specific in asking about the criteria determining a business's liability for non-conforming goods. However                                                                             0.001328\n3 | The question is coherent in terms of addressing the consequences of improper installation of a product by a consumer due to errors in the instructions provided by the entrepreneur or a third party. However    0.001328\n3 | The question is clear and directly asks about the conditions that must be met for a consumer to withdraw from a contract in accordance with the regulations. However                                             0.001328\n3 | The question is coherent in terms of addressing the consequences of not meeting the warranty conditions specified in the advertisement to the detriment of the consumer according to the law. However            0.001328\n2 | The question is somewhat coherent as it addresses the criteria that must be met for data connected by an entrepreneur to not be disconnected without excessive difficulty. However                               0.001328\nName: proportion, dtype: float64"
     },
     "execution_count": 67,
     "metadata": {},
     "output_type": "execute_result"
    }
   ],
   "source": [
    "df['coherence_rate'].value_counts(normalize=True)"
   ],
   "metadata": {
    "collapsed": false,
    "ExecuteTime": {
     "end_time": "2024-08-16T19:28:13.041776Z",
     "start_time": "2024-08-16T19:28:13.036311Z"
    }
   },
   "id": "c4099e73a1bf499c",
   "execution_count": 67
  },
  {
   "cell_type": "markdown",
   "source": [
    "#### Evaluation Summary\n",
    "From the provided results we can observe that in majority of cases generated question are quite fluent (86.5% got score 3 and 4 combined).\n",
    "Coverage metric (if answer can be reliable extracted from question and context) is also high. This point is to be investigated as it was based on LLM verification.\n",
    "Relevances ratings are also high meaning that generated questions preserve high quality and resemblance to ones asked by professionals.\n",
    "Word's Mover Distance (Diversity) with mean scores 0.19, 0.14 and 0.24 for question to chunk, question to answer and question to question respectively, show that generated questions have small distance which means that they show small diversity and are consistent with each other. "
   ],
   "metadata": {
    "collapsed": false
   },
   "id": "c88e44c8d5cdde6"
  },
  {
   "cell_type": "markdown",
   "source": [
    "### Data preparation for FT"
   ],
   "metadata": {
    "collapsed": false
   },
   "id": "f708262ea3739e2e"
  },
  {
   "cell_type": "code",
   "outputs": [],
   "source": [
    "qa_df = df[['generated_questions_array', 'answer']]"
   ],
   "metadata": {
    "collapsed": false,
    "ExecuteTime": {
     "end_time": "2024-08-16T19:28:30.255514Z",
     "start_time": "2024-08-16T19:28:30.251727Z"
    }
   },
   "id": "b0dba4cb08a354af",
   "execution_count": 68
  },
  {
   "cell_type": "code",
   "outputs": [],
   "source": [
    "qa_df = qa_df.rename(columns={'generated_questions_array': 'question'})"
   ],
   "metadata": {
    "collapsed": false,
    "ExecuteTime": {
     "end_time": "2024-08-16T19:28:31.203899Z",
     "start_time": "2024-08-16T19:28:31.200659Z"
    }
   },
   "id": "9c7182c807da2af2",
   "execution_count": 69
  },
  {
   "cell_type": "code",
   "outputs": [],
   "source": [
    "with open('data/input_data_ft_400.jsonl', \"w\") as f:\n",
    "    f.write(qa_df.to_json(orient='records', lines=True, force_ascii=False))"
   ],
   "metadata": {
    "collapsed": false,
    "ExecuteTime": {
     "end_time": "2024-08-16T19:28:32.420193Z",
     "start_time": "2024-08-16T19:28:32.404967Z"
    }
   },
   "id": "d686ed05cd390e49",
   "execution_count": 70
  },
  {
   "cell_type": "code",
   "outputs": [],
   "source": [],
   "metadata": {
    "collapsed": false
   },
   "id": "111c222ab3fa840d"
  }
 ],
 "metadata": {
  "kernelspec": {
   "display_name": "Python 3",
   "language": "python",
   "name": "python3"
  },
  "language_info": {
   "codemirror_mode": {
    "name": "ipython",
    "version": 2
   },
   "file_extension": ".py",
   "mimetype": "text/x-python",
   "name": "python",
   "nbconvert_exporter": "python",
   "pygments_lexer": "ipython2",
   "version": "2.7.6"
  }
 },
 "nbformat": 4,
 "nbformat_minor": 5
}
