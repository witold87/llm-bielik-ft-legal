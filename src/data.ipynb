{
 "cells": [
  {
   "cell_type": "markdown",
   "source": [
    "# LLM - Bielik - Fine tuning - part I"
   ],
   "metadata": {
    "collapsed": false
   },
   "id": "268a1dfb6a09a44b"
  },
  {
   "cell_type": "markdown",
   "source": [
    "## Motivation\n",
    "\n",
    "The rise and investments of the Large Language Models are definetely a game changer on various markets and branches - we can observe increased popularity of LLMs in academia, business and agriculture etc. Working with LLMs became a must-do task for all R&D or business departments in order to acknowledge and adapt upcoming possibilities, to stay competetive and gain business advantage. There are many players who invested bilions of USD to build their own Large Language Model and took a part in recent markets challenges by introducing their own solution trained on a different data set or to serve a different task (specialized for example in generation of poems or making a summary). At the beginning, as usual when it comes to innovation at that scale, we are thinking of endless possibilities, what kind of new opportunities we reach without putting much focus on other important factors like costs, maintanence, security, stability. Currently, we have multiple models which are production ready - many work has been done at those fields also making those LLMs more reliable and secured. One of the outcomes from this LLM race is that people noticed that it is good idea to look at smaller models, more specialized in one or two tasks, not the general ones. This specialization also is related to language supported. LLMs are broadly trained on english language data, due to the fact that more than half of websites content is written in English (source). Many models, paid and open source ones, have different level of quality when it comes when using them with local language. Quite often it occurs that offered quality is not enough to prove the business value for specific use case. This pushed some parties to create smaller models or suggested the finetuning with data in local language. \n",
    "\n",
    "The goal of this notebook is to finetune a Polish language based LLM called Bielik, developed by SpeakLeash organization (<model page>) with the legal / law sources. Data is specifically chosen for this task - legal documents or, law as a general concept, are strictly connected to the particular langauge. Primary concept of legal documents is to be in line with local (polish in my case) regulations. Of course, those documents can be translated to english and then used by the LLM. However, legal documents such as purchase agreements or any other agreements are designed by lawyers who understand the legal language nuances. They need to construct documents that are reliable, understandable by many (or maybe not?) and embedded in Polish law regulations. This requires from LLM to be more specific on many levels - starting from using prevalent data in one language and finetuning it to be able to work with more detailed task. "
   ],
   "metadata": {
    "collapsed": false
   },
   "id": "a8add555b2f73f31"
  },
  {
   "cell_type": "markdown",
   "source": [
    "## Introduction\n",
    "\n",
    "This notebook covers multiple steps:\n",
    "1. Loading and splitting data into chunks\n",
    "2. Generating new data (question and answers) for the future finetuning\n",
    "3. Evaluating generated data\n",
    "4. Selecting the data based on metrics \n",
    "5. Preparing the output for FT\n"
   ],
   "metadata": {
    "collapsed": false
   },
   "id": "2a2374a7ac7f8e8d"
  },
  {
   "cell_type": "markdown",
   "source": [
    "## Loading and splitting data\n",
    "\n",
    "Data source: https://isap.sejm.gov.pl/isap.nsf/download.xsp/WDU20140000827/U/D20140827Lj.pdf \n",
    "ESG: https://www.gov.pl/attachment/a65956c9-880e-43bb-846e-dda0feb89370"
   ],
   "metadata": {
    "collapsed": false
   },
   "id": "e453382dd70f9952"
  },
  {
   "cell_type": "code",
   "outputs": [],
   "source": [
    "import datetime\n",
    "import pandas as pd\n",
    "import numpy as np\n",
    "from dotenv import load_dotenv, find_dotenv\n",
    "import pymupdf\n",
    "import uuid\n",
    "from tqdm.notebook import tqdm\n",
    "from langchain.text_splitter import RecursiveCharacterTextSplitter\n",
    "from src.external_requests.openai_req import OpenAIReq\n",
    "from src.external_requests.prompting import PromptBuilder\n",
    "from src.evaluation.distance_based import DistanceEvaluator\n",
    "from src.preprocessing.preprocess import remove_stopwords, clean_text\n",
    "from src.evaluation.reporting import Reporting\n",
    "import seaborn as sns\n",
    "import tiktoken"
   ],
   "metadata": {
    "collapsed": false,
    "ExecuteTime": {
     "end_time": "2024-10-04T14:06:16.692359Z",
     "start_time": "2024-10-04T14:06:15.261911Z"
    }
   },
   "id": "bcad1a89aee5c170",
   "execution_count": 1
  },
  {
   "cell_type": "code",
   "outputs": [],
   "source": [
    "_ = load_dotenv(find_dotenv())"
   ],
   "metadata": {
    "collapsed": false,
    "ExecuteTime": {
     "end_time": "2024-10-04T14:06:16.699553Z",
     "start_time": "2024-10-04T14:06:16.694745Z"
    }
   },
   "id": "a09a8ee67e5ebf80",
   "execution_count": 2
  },
  {
   "cell_type": "code",
   "outputs": [],
   "source": [
    "splitter = RecursiveCharacterTextSplitter(chunk_size=512, chunk_overlap=120)"
   ],
   "metadata": {
    "collapsed": false,
    "ExecuteTime": {
     "end_time": "2024-10-04T14:06:16.706892Z",
     "start_time": "2024-10-04T14:06:16.701723Z"
    }
   },
   "id": "b881573ef64d8940",
   "execution_count": 3
  },
  {
   "cell_type": "code",
   "outputs": [],
   "source": [
    "# path = 'data/ustawa_nr_1.pdf'\n",
    "path = 'data/dyrektywa_CSRD.pdf'\n",
    "\n",
    "all_data = pymupdf.open(path)"
   ],
   "metadata": {
    "collapsed": false,
    "ExecuteTime": {
     "end_time": "2024-10-04T14:06:16.745667Z",
     "start_time": "2024-10-04T14:06:16.708653Z"
    }
   },
   "id": "b19e120f0ba49820",
   "execution_count": 4
  },
  {
   "cell_type": "code",
   "outputs": [
    {
     "data": {
      "text/plain": "66"
     },
     "execution_count": 5,
     "metadata": {},
     "output_type": "execute_result"
    }
   ],
   "source": [
    "all_chunks = []\n",
    "for document in all_data:\n",
    "    text_page = document.get_textpage().extractText()\n",
    "    chunks_per_page = splitter.split_text(text_page)\n",
    "    all_chunks.append(chunks_per_page)\n",
    "        \n",
    "len(all_chunks)"
   ],
   "metadata": {
    "collapsed": false,
    "ExecuteTime": {
     "end_time": "2024-10-02T19:11:57.621634Z",
     "start_time": "2024-10-02T19:11:57.385481Z"
    }
   },
   "id": "76dcd8f14b33523a",
   "execution_count": 5
  },
  {
   "cell_type": "code",
   "outputs": [
    {
     "data": {
      "text/plain": "['Państwo członkowskie wymaga, aby oddział znajdujący się na jego terytorium, który jest oddziałem jednostki podlega\\xad\\njącej prawu państwa trzeciego, która nie jest częścią grupy albo jest ostatecznie posiadana przez jednostkę utworzoną \\nzgodnie z prawem państwa trzeciego, publikował i udostępniał sprawozdanie w zakresie zrównoważonego rozwoju \\nobejmujące informacje określone w art. 29a lit. a) ppkt (iii)–(v), lit. b)–f) oraz, w stosownych przypadkach, w art. 29a',\n 'ust. 2 lit. h), na poziomie grupy lub, jeżeli nie ma to zastosowania, na poziomie indywidualnym jednostki z państwa \\ntrzeciego.\\nZasada, o której mowa w akapicie trzecim, ma zastosowanie wyłącznie do oddziału, w przypadku gdy jednostka z pań\\xad\\nstwa trzeciego nie posiada jednostki zależnej, o której mowa w akapicie pierwszym, oraz w przypadku gdy w poprzed\\xad\\nnim roku obrotowym oddział uzyskał obrót netto przekraczający 40 mln EUR.',\n 'nim roku obrotowym oddział uzyskał obrót netto przekraczający 40 mln EUR.\\nAkapity pierwszy i trzeci mają zastosowanie do jednostek zależnych lub oddziałów, o których mowa w tych akapitach, \\nwyłącznie w przypadku gdy jednostka z państwa trzeciego, na poziomie grupy lub, jeżeli nie ma to zastosowania, na \\npoziomie indywidualnym, uzyskała w Unii obrót netto przekraczający 150 mln EUR za każdy z ostatnich dwóch \\nkolejnych lat obrotowych.',\n 'kolejnych lat obrotowych.\\nPaństwa członkowskie mogą wymagać od jednostek zależnych lub oddziałów, o których mowa w akapitach pierw\\xad\\nszym i trzecim, aby przekazywały im informacje na temat obrotu netto uzyskanego na ich terytorium i w Unii przez \\njednostki z państw trzecich.\\n2.\\nPaństwa członkowskie wymagają, aby sprawozdanie w zakresie zrównoważonego rozwoju przekazywane przez \\njednostkę zależną lub oddział, o którym mowa w ust. 1, było sporządzane zgodnie ze standardami przyjętymi na pod\\xad\\nstawie art. 40b.',\n 'stawie art. 40b.\\nNa zasadzie odstępstwa od akapitu pierwszego niniejszego ustępy sprawozdanie w zakresie zrównoważonego roz\\xad\\nwoju, o którym mowa w ust. 1 niniejszego artykułu, może być sporządzane zgodnie ze standardami sprawozda\\xad\\nwczości w zakresie zrównoważonego rozwoju przyjętymi na podstawie art. 29b lub w sposób równoważny z tymi \\nstandardami sprawozdawczości w zakresie zrównoważonego rozwoju, określony zgodnie z aktem wykonawczym',\n 'standardami sprawozdawczości w zakresie zrównoważonego rozwoju, określony zgodnie z aktem wykonawczym \\nw sprawie równoważności standardów sprawozdawczości w zakresie zrównoważonego rozwoju przyjętym na pod\\xad\\nstawie art. 23 ust. 4 akapit trzeci dyrektywy 2004/109/WE.\\nW przypadku gdy informacje wymagane do sporządzenia sprawozdania w zakresie zrównoważonego rozwoju, o któ\\xad\\nrym mowa w akapicie pierwszym niniejszego ustępu, nie są dostępne, jednostka zależna lub oddział, o których mowa',\n 'rym mowa w akapicie pierwszym niniejszego ustępu, nie są dostępne, jednostka zależna lub oddział, o których mowa \\nw ust. 1, zwracają się do jednostki z państwa trzeciego o dostarczenie im wszelkich informacji niezbędnych do wywią\\xad\\nzania się ze spoczywających na nich obowiązków.\\nW przypadku gdy nie przekazano wszystkich wymaganych informacji, jednostka zależna lub oddział, o których mowa \\nw ust. 1, sporządzają, publikują i udostępniają sprawozdanie w zakresie zrównoważonego rozwoju, o którym mowa',\n 'w ust. 1, sporządzają, publikują i udostępniają sprawozdanie w zakresie zrównoważonego rozwoju, o którym mowa \\nw ust. 1, zawierające wszystkie informacje będące w ich posiadaniu, uzyskane lub nabyte, oraz wydają oświadczenie, \\nw którym wskazują, że jednostka z państwa trzeciego nie udostępniła niezbędnych informacji.\\n3.\\nPaństwa członkowskie wymagają, aby sprawozdanie w sprawie zrównoważonego rozwoju, o którym mowa',\n '3.\\nPaństwa członkowskie wymagają, aby sprawozdanie w sprawie zrównoważonego rozwoju, o którym mowa \\nw ust. 1, było publikowane wraz z opinią atestacyjną wydaną przez co najmniej jedną osobę lub firmę upoważnioną \\ndo wydawania opinii na temat sprawozdawczości w zakresie zrównoważonego rozwoju na mocy prawa krajowego \\njednostki z państwa trzeciego lub państwa członkowskiego.\\nW przypadku gdy jednostka z państwa trzeciego nie przedstawi opinii atestacyjnej zgodnie z akapitem pierwszym,',\n 'W przypadku gdy jednostka z państwa trzeciego nie przedstawi opinii atestacyjnej zgodnie z akapitem pierwszym, \\njednostka zależna lub oddział wydają oświadczenie, w którym stwierdzają, że jednostka z państwa trzeciego nie udo\\xad\\nstępniła niezbędnej opinii atestacyjnej.\\n4.\\nPaństwa członkowskie mogą co roku informować Komisję o jednostkach zależnych lub oddziałach jednostek \\nz państw trzecich, które spełniły wymóg publikacji określony w art. 40d oraz o przypadkach, w których opubliko\\xad',\n 'z państw trzecich, które spełniły wymóg publikacji określony w art. 40d oraz o przypadkach, w których opubliko\\xad\\nwano sprawozdanie, lecz jednostka zależna lub oddział działały zgodnie z ust. 2 akapit czwarty niniejszego artykułu. \\nKomisja udostępnia na swojej stronie internetowej wykaz jednostek z państw trzecich, które publikują sprawozdanie \\nw zakresie zrównoważonego rozwoju.\\nPL\\nDziennik Urzędowy Unii Europejskiej \\nL 322/58 \\n16.12.2022']"
     },
     "execution_count": 9,
     "metadata": {},
     "output_type": "execute_result"
    }
   ],
   "source": [
    "all_chunks[43]"
   ],
   "metadata": {
    "collapsed": false,
    "ExecuteTime": {
     "end_time": "2024-10-01T21:19:01.575354Z",
     "start_time": "2024-10-01T21:19:01.569679Z"
    }
   },
   "id": "e57142f2345ec462",
   "execution_count": 9
  },
  {
   "cell_type": "code",
   "outputs": [],
   "source": [
    "def get_number_of_tokens(text:str) -> str:\n",
    "    encoding = tiktoken.get_encoding(\"cl100k_base\")\n",
    "    n_tokens = len(encoding.encode(text))\n",
    "    return n_tokens"
   ],
   "metadata": {
    "collapsed": false,
    "ExecuteTime": {
     "end_time": "2024-10-03T07:25:58.931329Z",
     "start_time": "2024-10-03T07:25:58.928175Z"
    }
   },
   "id": "4e3248e8c5d3b026",
   "execution_count": 17
  },
  {
   "cell_type": "markdown",
   "source": [
    "## Generating new data (questions) with a support of GPT 3.5"
   ],
   "metadata": {
    "collapsed": false
   },
   "id": "e9e33b5a9a71b776"
  },
  {
   "cell_type": "code",
   "outputs": [
    {
     "data": {
      "text/plain": "0it [00:00, ?it/s]",
      "application/vnd.jupyter.widget-view+json": {
       "version_major": 2,
       "version_minor": 0,
       "model_id": "99a80d4f5409414897217a2593891f08"
      }
     },
     "metadata": {},
     "output_type": "display_data"
    }
   ],
   "source": [
    "all_data = []\n",
    "max_tokens = 500\n",
    "model_max_tokens = int(max_tokens + (max_tokens*0.20))\n",
    "for i, page in tqdm(enumerate(all_chunks)):\n",
    "    page_id = str(uuid.uuid4())\n",
    "    for chunk in enumerate(page):\n",
    "        nth_chunk, text_chunk = chunk\n",
    "        generated_questions = OpenAIReq().call_api(prompt=PromptBuilder.generate_questions(n_questions=4, text=chunk, tokens=max_tokens),\n",
    "                                                   temperature=0.1,max_tokens=model_max_tokens)\n",
    "        data = {'chunk_id': f'{page_id}_{nth_chunk}', \n",
    "                'text_chunk': text_chunk,\n",
    "                'page_id': page_id,\n",
    "                'generated_questions': generated_questions}\n",
    "        all_data.append(data)"
   ],
   "metadata": {
    "collapsed": false,
    "ExecuteTime": {
     "end_time": "2024-10-01T22:05:19.405861Z",
     "start_time": "2024-10-01T21:19:09.942171Z"
    }
   },
   "id": "4d82303b65bbd47",
   "execution_count": 11
  },
  {
   "cell_type": "code",
   "outputs": [
    {
     "data": {
      "text/plain": "                                   chunk_id  \\\n0    99e84c9e-b818-4381-8343-f294ea12ec8b_0   \n1    99e84c9e-b818-4381-8343-f294ea12ec8b_1   \n2    99e84c9e-b818-4381-8343-f294ea12ec8b_2   \n3    99e84c9e-b818-4381-8343-f294ea12ec8b_3   \n4    99e84c9e-b818-4381-8343-f294ea12ec8b_4   \n..                                      ...   \n844  42ca3bd6-cb0f-4a1e-858d-c77ac8b0ca4b_5   \n845  42ca3bd6-cb0f-4a1e-858d-c77ac8b0ca4b_6   \n846  42ca3bd6-cb0f-4a1e-858d-c77ac8b0ca4b_7   \n847  42ca3bd6-cb0f-4a1e-858d-c77ac8b0ca4b_8   \n848  c1f4c20f-e402-43b1-b22a-401d1d372098_0   \n\n                                            text_chunk  \\\n0    DYREKTYWY\\nDYREKTYWA PARLAMENTU EUROPEJSKIEGO ...   \n1    uwzględniając Traktat o funkcjonowaniu Unii Eu...   \n2    (1)\\nW komunikacie z 11 grudnia 2019 r. zatytu...   \n3    podarczego Unii. Jej celem jest przekształceni...   \n4    tywnymi skutkami związanymi ze środowiskiem. C...   \n..                                                 ...   \n844  ważonego rozwoju publikowanych przez jednostki...   \n845  i sporządza sprawozdanie na ten temat. W przeg...   \n846  tacji zrównoważonego rozwoju i odpowiedniej ja...   \n847  wraz z wnioskami ustawodawczymi.\\nArtykuł 7\\nW...   \n848  Artykuł 8\\nAdresaci\\nNiniejsza dyrektywa skier...   \n\n                                  page_id  \\\n0    99e84c9e-b818-4381-8343-f294ea12ec8b   \n1    99e84c9e-b818-4381-8343-f294ea12ec8b   \n2    99e84c9e-b818-4381-8343-f294ea12ec8b   \n3    99e84c9e-b818-4381-8343-f294ea12ec8b   \n4    99e84c9e-b818-4381-8343-f294ea12ec8b   \n..                                    ...   \n844  42ca3bd6-cb0f-4a1e-858d-c77ac8b0ca4b   \n845  42ca3bd6-cb0f-4a1e-858d-c77ac8b0ca4b   \n846  42ca3bd6-cb0f-4a1e-858d-c77ac8b0ca4b   \n847  42ca3bd6-cb0f-4a1e-858d-c77ac8b0ca4b   \n848  c1f4c20f-e402-43b1-b22a-401d1d372098   \n\n                                   generated_questions  \n0    - Jakie konkretne zmiany wprowadza dyrektywa P...  \n1    - Jakie konkretnie artykuły Traktatu o funkcjo...  \n2    - Jakie konkretnie zmiany przewiduje Komisja E...  \n3    - Jakie są główne cele Zielonego Ładu Unii Eur...  \n4    - Jakie są główne cele Zielonego Ładu w kontek...  \n..                                                 ...  \n844  - Jakie są główne założenia dotyczące publikac...  \n845  - Jakie są główne kryteria oceny krajowych sys...  \n846  - Jakie są główne cele zrównoważonego rozwoju ...  \n847  - Jakie są główne założenia i cele zawarte w d...  \n848  - Jakie są główne założenia i cele dyrektywy, ...  \n\n[849 rows x 4 columns]",
      "text/html": "<div>\n<style scoped>\n    .dataframe tbody tr th:only-of-type {\n        vertical-align: middle;\n    }\n\n    .dataframe tbody tr th {\n        vertical-align: top;\n    }\n\n    .dataframe thead th {\n        text-align: right;\n    }\n</style>\n<table border=\"1\" class=\"dataframe\">\n  <thead>\n    <tr style=\"text-align: right;\">\n      <th></th>\n      <th>chunk_id</th>\n      <th>text_chunk</th>\n      <th>page_id</th>\n      <th>generated_questions</th>\n    </tr>\n  </thead>\n  <tbody>\n    <tr>\n      <th>0</th>\n      <td>99e84c9e-b818-4381-8343-f294ea12ec8b_0</td>\n      <td>DYREKTYWY\\nDYREKTYWA PARLAMENTU EUROPEJSKIEGO ...</td>\n      <td>99e84c9e-b818-4381-8343-f294ea12ec8b</td>\n      <td>- Jakie konkretne zmiany wprowadza dyrektywa P...</td>\n    </tr>\n    <tr>\n      <th>1</th>\n      <td>99e84c9e-b818-4381-8343-f294ea12ec8b_1</td>\n      <td>uwzględniając Traktat o funkcjonowaniu Unii Eu...</td>\n      <td>99e84c9e-b818-4381-8343-f294ea12ec8b</td>\n      <td>- Jakie konkretnie artykuły Traktatu o funkcjo...</td>\n    </tr>\n    <tr>\n      <th>2</th>\n      <td>99e84c9e-b818-4381-8343-f294ea12ec8b_2</td>\n      <td>(1)\\nW komunikacie z 11 grudnia 2019 r. zatytu...</td>\n      <td>99e84c9e-b818-4381-8343-f294ea12ec8b</td>\n      <td>- Jakie konkretnie zmiany przewiduje Komisja E...</td>\n    </tr>\n    <tr>\n      <th>3</th>\n      <td>99e84c9e-b818-4381-8343-f294ea12ec8b_3</td>\n      <td>podarczego Unii. Jej celem jest przekształceni...</td>\n      <td>99e84c9e-b818-4381-8343-f294ea12ec8b</td>\n      <td>- Jakie są główne cele Zielonego Ładu Unii Eur...</td>\n    </tr>\n    <tr>\n      <th>4</th>\n      <td>99e84c9e-b818-4381-8343-f294ea12ec8b_4</td>\n      <td>tywnymi skutkami związanymi ze środowiskiem. C...</td>\n      <td>99e84c9e-b818-4381-8343-f294ea12ec8b</td>\n      <td>- Jakie są główne cele Zielonego Ładu w kontek...</td>\n    </tr>\n    <tr>\n      <th>...</th>\n      <td>...</td>\n      <td>...</td>\n      <td>...</td>\n      <td>...</td>\n    </tr>\n    <tr>\n      <th>844</th>\n      <td>42ca3bd6-cb0f-4a1e-858d-c77ac8b0ca4b_5</td>\n      <td>ważonego rozwoju publikowanych przez jednostki...</td>\n      <td>42ca3bd6-cb0f-4a1e-858d-c77ac8b0ca4b</td>\n      <td>- Jakie są główne założenia dotyczące publikac...</td>\n    </tr>\n    <tr>\n      <th>845</th>\n      <td>42ca3bd6-cb0f-4a1e-858d-c77ac8b0ca4b_6</td>\n      <td>i sporządza sprawozdanie na ten temat. W przeg...</td>\n      <td>42ca3bd6-cb0f-4a1e-858d-c77ac8b0ca4b</td>\n      <td>- Jakie są główne kryteria oceny krajowych sys...</td>\n    </tr>\n    <tr>\n      <th>846</th>\n      <td>42ca3bd6-cb0f-4a1e-858d-c77ac8b0ca4b_7</td>\n      <td>tacji zrównoważonego rozwoju i odpowiedniej ja...</td>\n      <td>42ca3bd6-cb0f-4a1e-858d-c77ac8b0ca4b</td>\n      <td>- Jakie są główne cele zrównoważonego rozwoju ...</td>\n    </tr>\n    <tr>\n      <th>847</th>\n      <td>42ca3bd6-cb0f-4a1e-858d-c77ac8b0ca4b_8</td>\n      <td>wraz z wnioskami ustawodawczymi.\\nArtykuł 7\\nW...</td>\n      <td>42ca3bd6-cb0f-4a1e-858d-c77ac8b0ca4b</td>\n      <td>- Jakie są główne założenia i cele zawarte w d...</td>\n    </tr>\n    <tr>\n      <th>848</th>\n      <td>c1f4c20f-e402-43b1-b22a-401d1d372098_0</td>\n      <td>Artykuł 8\\nAdresaci\\nNiniejsza dyrektywa skier...</td>\n      <td>c1f4c20f-e402-43b1-b22a-401d1d372098</td>\n      <td>- Jakie są główne założenia i cele dyrektywy, ...</td>\n    </tr>\n  </tbody>\n</table>\n<p>849 rows × 4 columns</p>\n</div>"
     },
     "execution_count": 12,
     "metadata": {},
     "output_type": "execute_result"
    }
   ],
   "source": [
    "df = pd.DataFrame.from_dict(data=all_data)\n",
    "df"
   ],
   "metadata": {
    "collapsed": false,
    "ExecuteTime": {
     "end_time": "2024-10-01T22:11:24.894939Z",
     "start_time": "2024-10-01T22:11:24.868093Z"
    }
   },
   "id": "4ab9600a6fef8f1f",
   "execution_count": 12
  },
  {
   "cell_type": "code",
   "outputs": [],
   "source": [
    "# Saving checkpoint\n",
    "saving_prefix = 'esg'"
   ],
   "metadata": {
    "collapsed": false,
    "ExecuteTime": {
     "end_time": "2024-10-04T14:06:49.565487Z",
     "start_time": "2024-10-04T14:06:49.562566Z"
    }
   },
   "id": "26b680a25ba07b94",
   "execution_count": 7
  },
  {
   "cell_type": "code",
   "outputs": [],
   "source": [
    "df.to_excel(f'data/{saving_prefix}_01_questions_and_chunks_{max_tokens}.xlsx')"
   ],
   "metadata": {
    "collapsed": false,
    "ExecuteTime": {
     "end_time": "2024-10-01T22:11:51.312638Z",
     "start_time": "2024-10-01T22:11:50.857891Z"
    }
   },
   "id": "e2ba02ab1e7a4d6",
   "execution_count": 13
  },
  {
   "cell_type": "code",
   "outputs": [],
   "source": [
    "df = pd.read_excel(f'data/{saving_prefix}_01_questions_and_chunks_500.xlsx', index_col=0)"
   ],
   "metadata": {
    "collapsed": false,
    "ExecuteTime": {
     "end_time": "2024-10-02T19:12:42.336996Z",
     "start_time": "2024-10-02T19:12:42.044896Z"
    }
   },
   "id": "b19dd0b008b72db2",
   "execution_count": 8
  },
  {
   "cell_type": "code",
   "outputs": [],
   "source": [
    "def process_df_with_questions(data: pd.DataFrame) -> pd.DataFrame:\n",
    "    data['questions_splitted'] = data['generated_questions'].str.split('\\n')\n",
    "    data = data.explode('questions_splitted')\n",
    "    data = data[~data['questions_splitted'].isna()]\n",
    "    data['questions_splitted']  = data['questions_splitted'].replace(r'^\\s*$', np.nan, regex=True)\n",
    "    return data\n",
    "\n",
    "df = process_df_with_questions(data=df)"
   ],
   "metadata": {
    "collapsed": false,
    "ExecuteTime": {
     "end_time": "2024-10-02T19:12:46.830405Z",
     "start_time": "2024-10-02T19:12:46.809914Z"
    }
   },
   "id": "35b9ee452b7a2150",
   "execution_count": 9
  },
  {
   "cell_type": "code",
   "outputs": [
    {
     "data": {
      "text/plain": "0"
     },
     "execution_count": 10,
     "metadata": {},
     "output_type": "execute_result"
    }
   ],
   "source": [
    "df = df[~df['questions_splitted'].isna()]\n",
    "df['questions_splitted'].isna().sum()"
   ],
   "metadata": {
    "collapsed": false,
    "ExecuteTime": {
     "end_time": "2024-10-02T19:12:47.679197Z",
     "start_time": "2024-10-02T19:12:47.671110Z"
    }
   },
   "id": "487bab3ec7fab832",
   "execution_count": 10
  },
  {
   "cell_type": "markdown",
   "source": [
    "### Data quality check by human"
   ],
   "metadata": {
    "collapsed": false
   },
   "id": "4c90bffea8346bec"
  },
  {
   "cell_type": "code",
   "outputs": [],
   "source": [
    "questions_by_gpt = df[['questions_splitted']]\n",
    "with open(f'ft_output_data/{saving_prefix}_cross_check_ft_500_raw.jsonl', \"w\") as f:\n",
    "    f.write(questions_by_gpt.to_json(orient='records', lines=True, force_ascii=False))"
   ],
   "metadata": {
    "collapsed": false,
    "ExecuteTime": {
     "end_time": "2024-10-02T19:13:17.336606Z",
     "start_time": "2024-10-02T19:13:17.317038Z"
    }
   },
   "id": "d6e2de27d16199d2",
   "execution_count": 11
  },
  {
   "cell_type": "code",
   "outputs": [
    {
     "data": {
      "text/plain": "(3396, 5)"
     },
     "execution_count": 12,
     "metadata": {},
     "output_type": "execute_result"
    }
   ],
   "source": [
    "df.shape"
   ],
   "metadata": {
    "collapsed": false,
    "ExecuteTime": {
     "end_time": "2024-10-02T19:13:24.153225Z",
     "start_time": "2024-10-02T19:13:24.149257Z"
    }
   },
   "id": "f254413ff6d5ff33",
   "execution_count": 12
  },
  {
   "cell_type": "markdown",
   "source": [
    "### Fetching answer for generated question based on chunk"
   ],
   "metadata": {
    "collapsed": false
   },
   "id": "275c63e3cb6fc457"
  },
  {
   "cell_type": "code",
   "outputs": [],
   "source": [
    "answer_tokens = 200\n",
    "df[f'answer_{answer_tokens}'] = df.apply(lambda x: OpenAIReq().call_api(prompt=PromptBuilder.get_answers_based_on_text_and_questions(text=x['text_chunk'], question= x['questions_splitted'], tokens=answer_tokens), temperature=0.0), axis=1)"
   ],
   "metadata": {
    "collapsed": false,
    "ExecuteTime": {
     "end_time": "2024-10-02T22:15:52.035741Z",
     "start_time": "2024-10-02T19:45:49.391539Z"
    }
   },
   "id": "52c677467cd4e8a9",
   "execution_count": 13
  },
  {
   "cell_type": "code",
   "outputs": [],
   "source": [
    "answers_by_gpt = df[[f'answer_{answer_tokens}']]\n",
    "with open(f'ft_output_data/{saving_prefix}_cross_check_ft_{answer_tokens}_raw_answers.jsonl', \"w\") as f:\n",
    "    f.write(answers_by_gpt.to_json(orient='records', lines=True, force_ascii=False))"
   ],
   "metadata": {
    "collapsed": false,
    "ExecuteTime": {
     "end_time": "2024-10-03T07:25:36.694190Z",
     "start_time": "2024-10-03T07:25:36.649991Z"
    }
   },
   "id": "2613e794e89a4ecc",
   "execution_count": 15
  },
  {
   "cell_type": "code",
   "outputs": [],
   "source": [
    "answers_by_gpt_200 = df[[f'answer_{answer_tokens}']]\n",
    "with open(f'ft_output_data/cross_check_ft_{answer_tokens}_raw_answers.jsonl', \"w\") as f:\n",
    "    f.write(answers_by_gpt_200.to_json(orient='records', lines=True, force_ascii=False))"
   ],
   "metadata": {
    "collapsed": false,
    "ExecuteTime": {
     "end_time": "2024-08-17T17:07:12.412490Z",
     "start_time": "2024-08-17T17:07:12.375275Z"
    }
   },
   "id": "3a176d777e97c357",
   "execution_count": 17
  },
  {
   "cell_type": "markdown",
   "source": [],
   "metadata": {
    "collapsed": false
   },
   "id": "b100c468353b8365"
  },
  {
   "cell_type": "code",
   "outputs": [],
   "source": [
    "df['n_tokens_ans_200'] = df['answer_200'].apply(lambda x: get_number_of_tokens(text=x))\n",
    "#df['n_tokens_ans_600'] = df['answer'].apply(lambda x: get_number_of_tokens(text=x))"
   ],
   "metadata": {
    "collapsed": false,
    "ExecuteTime": {
     "end_time": "2024-10-03T07:26:12.661114Z",
     "start_time": "2024-10-03T07:26:09.712574Z"
    }
   },
   "id": "870ffa4a00d9540c",
   "execution_count": 18
  },
  {
   "cell_type": "code",
   "outputs": [
    {
     "data": {
      "text/plain": "<Axes: >"
     },
     "execution_count": 19,
     "metadata": {},
     "output_type": "execute_result"
    },
    {
     "data": {
      "text/plain": "<Figure size 640x480 with 1 Axes>",
      "image/png": "[encoded data removed]"
     },
     "metadata": {},
     "output_type": "display_data"
    }
   ],
   "source": [
    "pd.plotting.hist_series(df['n_tokens_ans_200'])"
   ],
   "metadata": {
    "collapsed": false,
    "ExecuteTime": {
     "end_time": "2024-10-03T07:26:14.284436Z",
     "start_time": "2024-10-03T07:26:13.915538Z"
    }
   },
   "id": "17f5742f69706ef3",
   "execution_count": 19
  },
  {
   "cell_type": "code",
   "outputs": [
    {
     "data": {
      "text/plain": "<Axes: >"
     },
     "execution_count": 100,
     "metadata": {},
     "output_type": "execute_result"
    },
    {
     "data": {
      "text/plain": "<Figure size 640x480 with 1 Axes>",
      "image/png": "[encoded data removed]"
     },
     "metadata": {},
     "output_type": "display_data"
    }
   ],
   "source": [
    "pd.plotting.hist_series(df['n_tokens_ans_600'])"
   ],
   "metadata": {
    "collapsed": false,
    "ExecuteTime": {
     "end_time": "2024-08-18T12:03:01.353097Z",
     "start_time": "2024-08-18T12:03:01.149948Z"
    }
   },
   "id": "5feac4add8205ba7",
   "execution_count": 100
  },
  {
   "cell_type": "code",
   "outputs": [],
   "source": [
    "df.to_excel(f'data/{saving_prefix}_02_data_with_answers_with_tokens.xlsx')"
   ],
   "metadata": {
    "collapsed": false,
    "ExecuteTime": {
     "end_time": "2024-10-03T07:26:26.047088Z",
     "start_time": "2024-10-03T07:26:24.638817Z"
    }
   },
   "id": "7ffc4b48b6b238b0",
   "execution_count": 20
  },
  {
   "cell_type": "markdown",
   "source": [
    "### Verifing the quality of generated answers and questions based on selected metrics"
   ],
   "metadata": {
    "collapsed": false
   },
   "id": "9cae6a0dbd3cb4ce"
  },
  {
   "cell_type": "markdown",
   "source": [
    "#### Selected metrics\n",
    "- Coverage \n",
    "- Coherence (Consistency)\n",
    "- Word Mover Distance (Diversity)\n",
    "- Relevance\n",
    "- Global relevance"
   ],
   "metadata": {
    "collapsed": false
   },
   "id": "e94f1af1e0e870c6"
  },
  {
   "cell_type": "code",
   "outputs": [],
   "source": [
    "df['coverage_rating'] = df.apply(lambda x: OpenAIReq().call_api(prompt=PromptBuilder.get_coverage(question=x['questions_splitted'], context=x['text_chunk'])), axis=1)"
   ],
   "metadata": {
    "collapsed": false,
    "ExecuteTime": {
     "end_time": "2024-10-03T08:21:02.730030Z",
     "start_time": "2024-10-03T07:53:48.505952Z"
    }
   },
   "id": "2236331b1ab02459",
   "execution_count": 21
  },
  {
   "cell_type": "code",
   "outputs": [
    {
     "data": {
      "text/plain": "<Axes: >"
     },
     "execution_count": 22,
     "metadata": {},
     "output_type": "execute_result"
    },
    {
     "data": {
      "text/plain": "<Figure size 640x480 with 1 Axes>",
      "image/png": "[encoded data removed]"
     },
     "metadata": {},
     "output_type": "display_data"
    }
   ],
   "source": [
    "pd.plotting.hist_series(df['coverage_rating'])"
   ],
   "metadata": {
    "collapsed": false,
    "ExecuteTime": {
     "end_time": "2024-10-03T08:21:02.959014Z",
     "start_time": "2024-10-03T08:21:02.736231Z"
    }
   },
   "id": "b2c2161190553c4d",
   "execution_count": 22
  },
  {
   "cell_type": "code",
   "outputs": [],
   "source": [
    "df.to_excel(f'data/{saving_prefix}_03_data_with_answers_and_cov.xlsx')"
   ],
   "metadata": {
    "collapsed": false,
    "ExecuteTime": {
     "end_time": "2024-10-03T08:24:36.287381Z",
     "start_time": "2024-10-03T08:24:34.638205Z"
    }
   },
   "id": "c7f4a8519c997e1d",
   "execution_count": 24
  },
  {
   "cell_type": "code",
   "outputs": [],
   "source": [
    "df['chunk'] = df['text_chunk'].apply(lambda x: clean_text(x))"
   ],
   "metadata": {
    "collapsed": false,
    "ExecuteTime": {
     "end_time": "2024-10-03T08:24:29.709898Z",
     "start_time": "2024-10-03T08:24:29.700599Z"
    }
   },
   "id": "c5a46b5bb58b4393",
   "execution_count": 23
  },
  {
   "cell_type": "code",
   "outputs": [],
   "source": [
    "dist_evaluator = DistanceEvaluator()\n",
    "# df['wmd_question_answer_600'] = df.apply(lambda x: dist_evaluator.get_diversity_by_wmd(x['questions_splitted'], x['answer']), axis=1)"
   ],
   "metadata": {
    "collapsed": false,
    "ExecuteTime": {
     "end_time": "2024-10-03T08:24:57.457966Z",
     "start_time": "2024-10-03T08:24:40.659362Z"
    }
   },
   "id": "50ae52f32b690618",
   "execution_count": 25
  },
  {
   "cell_type": "code",
   "outputs": [],
   "source": [
    "df[f'wmd_question_answer_{answer_tokens}'] = df.apply(lambda x: dist_evaluator.get_diversity_by_wmd(x['questions_splitted'], x[f'answer_{answer_tokens}']), axis=1)"
   ],
   "metadata": {
    "collapsed": false,
    "ExecuteTime": {
     "end_time": "2024-10-03T08:25:07.551950Z",
     "start_time": "2024-10-03T08:25:01.557264Z"
    }
   },
   "id": "be23fa01b82a2a33",
   "execution_count": 26
  },
  {
   "cell_type": "code",
   "outputs": [
    {
     "data": {
      "text/plain": "<Axes: >"
     },
     "execution_count": 27,
     "metadata": {},
     "output_type": "execute_result"
    },
    {
     "data": {
      "text/plain": "<Figure size 640x480 with 1 Axes>",
      "image/png": "[encoded data removed]"
     },
     "metadata": {},
     "output_type": "display_data"
    }
   ],
   "source": [
    "pd.plotting.hist_series(df[f'wmd_question_answer_{answer_tokens}'])"
   ],
   "metadata": {
    "collapsed": false,
    "ExecuteTime": {
     "end_time": "2024-10-03T08:25:45.246822Z",
     "start_time": "2024-10-03T08:25:44.962548Z"
    }
   },
   "id": "f9c65aba6f9dd48c",
   "execution_count": 27
  },
  {
   "cell_type": "code",
   "outputs": [
    {
     "data": {
      "text/plain": "<Axes: >"
     },
     "execution_count": 25,
     "metadata": {},
     "output_type": "execute_result"
    },
    {
     "data": {
      "text/plain": "<Figure size 640x480 with 1 Axes>",
      "image/png": "[encoded data removed]"
     },
     "metadata": {},
     "output_type": "display_data"
    }
   ],
   "source": [
    "pd.plotting.hist_series(df['wmd_question_answer_200'])"
   ],
   "metadata": {
    "collapsed": false,
    "ExecuteTime": {
     "end_time": "2024-08-17T17:26:18.486515Z",
     "start_time": "2024-08-17T17:26:18.230537Z"
    }
   },
   "id": "3b85abc6fba03762",
   "execution_count": 25
  },
  {
   "cell_type": "code",
   "outputs": [],
   "source": [
    "df['wmd_chunk_question'] = df.apply(lambda x: dist_evaluator.get_diversity_by_wmd(x['text_chunk'], x['questions_splitted']), axis=1)"
   ],
   "metadata": {
    "collapsed": false,
    "ExecuteTime": {
     "end_time": "2024-10-03T08:26:54.864830Z",
     "start_time": "2024-10-03T08:26:50.989321Z"
    }
   },
   "id": "b8810e6c5f0a1f2d",
   "execution_count": 28
  },
  {
   "cell_type": "code",
   "outputs": [
    {
     "data": {
      "text/plain": "<Axes: >"
     },
     "execution_count": 30,
     "metadata": {},
     "output_type": "execute_result"
    },
    {
     "data": {
      "text/plain": "<Figure size 640x480 with 1 Axes>",
      "image/png": "[encoded data removed]"
     },
     "metadata": {},
     "output_type": "display_data"
    }
   ],
   "source": [
    "pd.plotting.hist_series(df['wmd_chunk_question'])"
   ],
   "metadata": {
    "collapsed": false,
    "ExecuteTime": {
     "end_time": "2024-10-03T08:51:46.700925Z",
     "start_time": "2024-10-03T08:51:46.466622Z"
    }
   },
   "id": "dc220eed2c502e94",
   "execution_count": 30
  },
  {
   "cell_type": "code",
   "outputs": [],
   "source": [
    "df['coherence'] = df['questions_splitted'].apply(lambda x: OpenAIReq().call_api(prompt=PromptBuilder.get_coherence(x)))"
   ],
   "metadata": {
    "collapsed": false,
    "ExecuteTime": {
     "end_time": "2024-10-03T09:47:52.348195Z",
     "start_time": "2024-10-03T08:51:57.648311Z"
    }
   },
   "id": "32486365e32e803d",
   "execution_count": 31
  },
  {
   "cell_type": "code",
   "outputs": [],
   "source": [
    "df['coherence_pl'] = df['questions_splitted'].apply(lambda x: OpenAIReq().call_api(prompt=PromptBuilder.get_coherence_pl(x)))"
   ],
   "metadata": {
    "collapsed": false,
    "ExecuteTime": {
     "end_time": "2024-10-03T11:51:44.540521Z",
     "start_time": "2024-10-03T09:47:52.354108Z"
    }
   },
   "id": "1e2d4ac83e021dd8",
   "execution_count": 32
  },
  {
   "cell_type": "code",
   "outputs": [],
   "source": [
    "df.to_excel(f'data/{saving_prefix}_05_data_with_coherence.xlsx')"
   ],
   "metadata": {
    "collapsed": false,
    "ExecuteTime": {
     "end_time": "2024-10-03T12:00:29.129018Z",
     "start_time": "2024-10-03T12:00:27.075013Z"
    }
   },
   "id": "6ba94a9c77f3d94e",
   "execution_count": 33
  },
  {
   "cell_type": "code",
   "outputs": [],
   "source": [
    "df = pd.read_excel(f'data/05_data_with_coherence.xlsx', index_col=0)"
   ],
   "metadata": {
    "collapsed": false,
    "ExecuteTime": {
     "end_time": "2024-08-17T12:43:23.425406Z",
     "start_time": "2024-08-17T12:43:23.183230Z"
    }
   },
   "id": "78c7bb232d1cb76b",
   "execution_count": 23
  },
  {
   "cell_type": "code",
   "outputs": [
    {
     "data": {
      "text/plain": "Index(['chunk_id', 'text_chunk', 'page_id', 'generated_questions',\n       'questions_splitted', 'answer', 'answer_200', 'coverage_rating',\n       'chunk', 'wmd_question_answer_600', 'wmd_question_answer_200',\n       'wmd_chunk_question', 'coherence', 'coherence_pl'],\n      dtype='object')"
     },
     "execution_count": 30,
     "metadata": {},
     "output_type": "execute_result"
    }
   ],
   "source": [
    "df.columns"
   ],
   "metadata": {
    "collapsed": false,
    "ExecuteTime": {
     "end_time": "2024-08-17T18:26:18.736091Z",
     "start_time": "2024-08-17T18:26:18.723967Z"
    }
   },
   "id": "edc725982f67956c",
   "execution_count": 30
  },
  {
   "cell_type": "code",
   "outputs": [],
   "source": [
    "#df[['coherence_rate', 'coherence_expl']] = df.coherence.str.split(',', n=1,  expand=True)\n",
    "df[['coherence_rate_pl', 'coherence_expl_pl']] = df.coherence_pl.str.split('|', n=1,  expand=True)\n"
   ],
   "metadata": {
    "collapsed": false,
    "ExecuteTime": {
     "end_time": "2024-10-03T12:18:10.862846Z",
     "start_time": "2024-10-03T12:18:10.853861Z"
    }
   },
   "id": "e268a89807a37499",
   "execution_count": 34
  },
  {
   "cell_type": "code",
   "outputs": [],
   "source": [
    "df['coherence_rate'] = df.coherence_rate_pl.str.replace('(', '')\n",
    "df['coherence_expl'] = df.coherence_expl_pl.str.replace(')', '')\n",
    "df['coherence_expl'] = df.coherence_expl_pl.str.replace('\"', '')"
   ],
   "metadata": {
    "collapsed": false,
    "ExecuteTime": {
     "end_time": "2024-10-03T12:18:11.857015Z",
     "start_time": "2024-10-03T12:18:11.842888Z"
    }
   },
   "id": "43136a7bb92d8b26",
   "execution_count": 35
  },
  {
   "cell_type": "code",
   "outputs": [
    {
     "data": {
      "text/plain": "                                   chunk_id  \\\n0    99e84c9e-b818-4381-8343-f294ea12ec8b_0   \n0    99e84c9e-b818-4381-8343-f294ea12ec8b_0   \n0    99e84c9e-b818-4381-8343-f294ea12ec8b_0   \n0    99e84c9e-b818-4381-8343-f294ea12ec8b_0   \n1    99e84c9e-b818-4381-8343-f294ea12ec8b_1   \n..                                      ...   \n847  42ca3bd6-cb0f-4a1e-858d-c77ac8b0ca4b_8   \n848  c1f4c20f-e402-43b1-b22a-401d1d372098_0   \n848  c1f4c20f-e402-43b1-b22a-401d1d372098_0   \n848  c1f4c20f-e402-43b1-b22a-401d1d372098_0   \n848  c1f4c20f-e402-43b1-b22a-401d1d372098_0   \n\n                                            text_chunk  \\\n0    DYREKTYWY\\nDYREKTYWA PARLAMENTU EUROPEJSKIEGO ...   \n0    DYREKTYWY\\nDYREKTYWA PARLAMENTU EUROPEJSKIEGO ...   \n0    DYREKTYWY\\nDYREKTYWA PARLAMENTU EUROPEJSKIEGO ...   \n0    DYREKTYWY\\nDYREKTYWA PARLAMENTU EUROPEJSKIEGO ...   \n1    uwzględniając Traktat o funkcjonowaniu Unii Eu...   \n..                                                 ...   \n847  wraz z wnioskami ustawodawczymi.\\nArtykuł 7\\nW...   \n848  Artykuł 8\\nAdresaci\\nNiniejsza dyrektywa skier...   \n848  Artykuł 8\\nAdresaci\\nNiniejsza dyrektywa skier...   \n848  Artykuł 8\\nAdresaci\\nNiniejsza dyrektywa skier...   \n848  Artykuł 8\\nAdresaci\\nNiniejsza dyrektywa skier...   \n\n                                  page_id  \\\n0    99e84c9e-b818-4381-8343-f294ea12ec8b   \n0    99e84c9e-b818-4381-8343-f294ea12ec8b   \n0    99e84c9e-b818-4381-8343-f294ea12ec8b   \n0    99e84c9e-b818-4381-8343-f294ea12ec8b   \n1    99e84c9e-b818-4381-8343-f294ea12ec8b   \n..                                    ...   \n847  42ca3bd6-cb0f-4a1e-858d-c77ac8b0ca4b   \n848  c1f4c20f-e402-43b1-b22a-401d1d372098   \n848  c1f4c20f-e402-43b1-b22a-401d1d372098   \n848  c1f4c20f-e402-43b1-b22a-401d1d372098   \n848  c1f4c20f-e402-43b1-b22a-401d1d372098   \n\n                                   generated_questions  \\\n0    - Jakie konkretne zmiany wprowadza dyrektywa P...   \n0    - Jakie konkretne zmiany wprowadza dyrektywa P...   \n0    - Jakie konkretne zmiany wprowadza dyrektywa P...   \n0    - Jakie konkretne zmiany wprowadza dyrektywa P...   \n1    - Jakie konkretnie artykuły Traktatu o funkcjo...   \n..                                                 ...   \n847  - Jakie są główne założenia i cele zawarte w d...   \n848  - Jakie są główne założenia i cele dyrektywy, ...   \n848  - Jakie są główne założenia i cele dyrektywy, ...   \n848  - Jakie są główne założenia i cele dyrektywy, ...   \n848  - Jakie są główne założenia i cele dyrektywy, ...   \n\n                                    questions_splitted  \\\n0    - Jakie konkretne zmiany wprowadza dyrektywa P...   \n0    - Jakie są główne cele i założenia tej dyrekty...   \n0    - Jakie konsekwencje prawne mogą wynikać z wpr...   \n0    - W jaki sposób dyrektywa uwzględnia Traktat o...   \n1    - Jakie konkretnie artykuły Traktatu o funkcjo...   \n..                                                 ...   \n847  - Czy istnieją jakieś szczególne warunki lub w...   \n848  - Jakie są główne założenia i cele dyrektywy, ...   \n848  - W jaki sposób artykuł 4 tej dyrektywy ma być...   \n848  - Kiedy dokładnie została sporządzona ta dyrek...   \n848  - Kto reprezentował Parlament Europejski oraz ...   \n\n                                            answer_200  n_tokens_ans_200  \\\n0    Dyrektywa Parlamentu Europejskiego i Rady (UE)...               265   \n0    Głównym celem dyrektywy jest wprowadzenie zmia...               252   \n0    Wprowadzenie zmian do rozporządzenia (UE) nr 5...               251   \n0    Dyrektywa 2022/2464 uwzględnia Traktat o funkc...               241   \n1    W kontekście omawianego tekstu uwzględnione zo...               148   \n..                                                 ...               ...   \n847  W praktyce prawniczej implementacja dyrektywy ...               173   \n848  Głównym założeniem i celem dyrektywy, której a...               224   \n848  Artykuł 4 dyrektywy musi być wdrożony przez pa...               154   \n848  Dyrektywa została sporządzona w Strasburgu dni...               167   \n848  Podczas podpisywania tej dyrektywy Parlament E...               131   \n\n    coverage_rating                                              chunk  \\\n0                 5  DYREKTYWYDYREKTYWA PARLAMENTU EUROPEJSKIEGO I ...   \n0                 5  DYREKTYWYDYREKTYWA PARLAMENTU EUROPEJSKIEGO I ...   \n0                 5  DYREKTYWYDYREKTYWA PARLAMENTU EUROPEJSKIEGO I ...   \n0                 5  DYREKTYWYDYREKTYWA PARLAMENTU EUROPEJSKIEGO I ...   \n1                 4  uwzględniając Traktat o funkcjonowaniu Unii Eu...   \n..              ...                                                ...   \n847               5  wraz z wnioskami ustawodawczymi.Artykuł 7Wejśc...   \n848               5  Artykuł 8AdresaciNiniejsza dyrektywa skierowan...   \n848               5  Artykuł 8AdresaciNiniejsza dyrektywa skierowan...   \n848               5  Artykuł 8AdresaciNiniejsza dyrektywa skierowan...   \n848               4  Artykuł 8AdresaciNiniejsza dyrektywa skierowan...   \n\n     wmd_question_answer_200  wmd_chunk_question  \\\n0                   0.131446            0.193502   \n0                   0.195461            0.370161   \n0                   0.336196            0.187962   \n0                   0.143646            0.249242   \n1                   0.197938            0.219906   \n..                       ...                 ...   \n847                 0.262756            0.341618   \n848                 0.190511            0.300127   \n848                 0.154297            0.272856   \n848                 0.278283            0.325642   \n848                 0.113111            0.254479   \n\n                                             coherence  \\\n0    (2, The question is rated 2 because it lacks c...   \n0    (4, \"The question is coherent and fluent, as i...   \n0    (3, \"The question is coherent in terms of lega...   \n0    (2, The question is somewhat coherent as it ad...   \n1    (2, The question is coherent in terms of askin...   \n..                                                 ...   \n847  (3, \"The question is coherent but could be mor...   \n848  (3, \"The question is coherent in terms of aski...   \n848  (2, The question is coherent in terms of askin...   \n848  (2, \"The question is somewhat coherent as it a...   \n848  (3, \"The question is coherent in terms of aski...   \n\n                                          coherence_pl coherence_rate_pl  \\\n0    3 | Pytanie jest dość spójne, ponieważ precyzy...                3    \n0    4 | Pytanie jest spójne, ponieważ jasno określ...                4    \n0    3 | Pytanie jest dość spójne, ponieważ jasno o...                3    \n0    3 | Pytanie jest dość spójne, ponieważ odnosi ...                3    \n1    3 | Pytanie jest dość spójne, ponieważ precyzy...                3    \n..                                                 ...               ...   \n847  4 | Pytanie jest dość spójne, ponieważ jasno o...                4    \n848  3 | Pytanie jest dość spójne, ponieważ jasno o...                3    \n848  3 | Pytanie jest dość spójne, ponieważ jasno o...                3    \n848  3 | Pytanie jest dość klarowne, ale wymaga pew...                3    \n848  4 | Pytanie jest spójne, ponieważ jasno określ...                4    \n\n                                     coherence_expl_pl coherence_rate  \\\n0     Pytanie jest dość spójne, ponieważ precyzyjni...             3    \n0     Pytanie jest spójne, ponieważ jasno określa t...             4    \n0     Pytanie jest dość spójne, ponieważ jasno odno...             3    \n0     Pytanie jest dość spójne, ponieważ odnosi się...             3    \n1     Pytanie jest dość spójne, ponieważ precyzyjni...             3    \n..                                                 ...            ...   \n847   Pytanie jest dość spójne, ponieważ jasno odno...             4    \n848   Pytanie jest dość spójne, ponieważ jasno okre...             3    \n848   Pytanie jest dość spójne, ponieważ jasno okre...             3    \n848   Pytanie jest dość klarowne, ale wymaga pewnej...             3    \n848   Pytanie jest spójne, ponieważ jasno określa, ...             4    \n\n                                        coherence_expl  \n0     Pytanie jest dość spójne, ponieważ precyzyjni...  \n0     Pytanie jest spójne, ponieważ jasno określa t...  \n0     Pytanie jest dość spójne, ponieważ jasno odno...  \n0     Pytanie jest dość spójne, ponieważ odnosi się...  \n1     Pytanie jest dość spójne, ponieważ precyzyjni...  \n..                                                 ...  \n847   Pytanie jest dość spójne, ponieważ jasno odno...  \n848   Pytanie jest dość spójne, ponieważ jasno okre...  \n848   Pytanie jest dość spójne, ponieważ jasno okre...  \n848   Pytanie jest dość klarowne, ale wymaga pewnej...  \n848   Pytanie jest spójne, ponieważ jasno określa, ...  \n\n[3396 rows x 17 columns]",
      "text/html": "<div>\n<style scoped>\n    .dataframe tbody tr th:only-of-type {\n        vertical-align: middle;\n    }\n\n    .dataframe tbody tr th {\n        vertical-align: top;\n    }\n\n    .dataframe thead th {\n        text-align: right;\n    }\n</style>\n<table border=\"1\" class=\"dataframe\">\n  <thead>\n    <tr style=\"text-align: right;\">\n      <th></th>\n      <th>chunk_id</th>\n      <th>text_chunk</th>\n      <th>page_id</th>\n      <th>generated_questions</th>\n      <th>questions_splitted</th>\n      <th>answer_200</th>\n      <th>n_tokens_ans_200</th>\n      <th>coverage_rating</th>\n      <th>chunk</th>\n      <th>wmd_question_answer_200</th>\n      <th>wmd_chunk_question</th>\n      <th>coherence</th>\n      <th>coherence_pl</th>\n      <th>coherence_rate_pl</th>\n      <th>coherence_expl_pl</th>\n      <th>coherence_rate</th>\n      <th>coherence_expl</th>\n    </tr>\n  </thead>\n  <tbody>\n    <tr>\n      <th>0</th>\n      <td>99e84c9e-b818-4381-8343-f294ea12ec8b_0</td>\n      <td>DYREKTYWY\\nDYREKTYWA PARLAMENTU EUROPEJSKIEGO ...</td>\n      <td>99e84c9e-b818-4381-8343-f294ea12ec8b</td>\n      <td>- Jakie konkretne zmiany wprowadza dyrektywa P...</td>\n      <td>- Jakie konkretne zmiany wprowadza dyrektywa P...</td>\n      <td>Dyrektywa Parlamentu Europejskiego i Rady (UE)...</td>\n      <td>265</td>\n      <td>5</td>\n      <td>DYREKTYWYDYREKTYWA PARLAMENTU EUROPEJSKIEGO I ...</td>\n      <td>0.131446</td>\n      <td>0.193502</td>\n      <td>(2, The question is rated 2 because it lacks c...</td>\n      <td>3 | Pytanie jest dość spójne, ponieważ precyzy...</td>\n      <td>3</td>\n      <td>Pytanie jest dość spójne, ponieważ precyzyjni...</td>\n      <td>3</td>\n      <td>Pytanie jest dość spójne, ponieważ precyzyjni...</td>\n    </tr>\n    <tr>\n      <th>0</th>\n      <td>99e84c9e-b818-4381-8343-f294ea12ec8b_0</td>\n      <td>DYREKTYWY\\nDYREKTYWA PARLAMENTU EUROPEJSKIEGO ...</td>\n      <td>99e84c9e-b818-4381-8343-f294ea12ec8b</td>\n      <td>- Jakie konkretne zmiany wprowadza dyrektywa P...</td>\n      <td>- Jakie są główne cele i założenia tej dyrekty...</td>\n      <td>Głównym celem dyrektywy jest wprowadzenie zmia...</td>\n      <td>252</td>\n      <td>5</td>\n      <td>DYREKTYWYDYREKTYWA PARLAMENTU EUROPEJSKIEGO I ...</td>\n      <td>0.195461</td>\n      <td>0.370161</td>\n      <td>(4, \"The question is coherent and fluent, as i...</td>\n      <td>4 | Pytanie jest spójne, ponieważ jasno określ...</td>\n      <td>4</td>\n      <td>Pytanie jest spójne, ponieważ jasno określa t...</td>\n      <td>4</td>\n      <td>Pytanie jest spójne, ponieważ jasno określa t...</td>\n    </tr>\n    <tr>\n      <th>0</th>\n      <td>99e84c9e-b818-4381-8343-f294ea12ec8b_0</td>\n      <td>DYREKTYWY\\nDYREKTYWA PARLAMENTU EUROPEJSKIEGO ...</td>\n      <td>99e84c9e-b818-4381-8343-f294ea12ec8b</td>\n      <td>- Jakie konkretne zmiany wprowadza dyrektywa P...</td>\n      <td>- Jakie konsekwencje prawne mogą wynikać z wpr...</td>\n      <td>Wprowadzenie zmian do rozporządzenia (UE) nr 5...</td>\n      <td>251</td>\n      <td>5</td>\n      <td>DYREKTYWYDYREKTYWA PARLAMENTU EUROPEJSKIEGO I ...</td>\n      <td>0.336196</td>\n      <td>0.187962</td>\n      <td>(3, \"The question is coherent in terms of lega...</td>\n      <td>3 | Pytanie jest dość spójne, ponieważ jasno o...</td>\n      <td>3</td>\n      <td>Pytanie jest dość spójne, ponieważ jasno odno...</td>\n      <td>3</td>\n      <td>Pytanie jest dość spójne, ponieważ jasno odno...</td>\n    </tr>\n    <tr>\n      <th>0</th>\n      <td>99e84c9e-b818-4381-8343-f294ea12ec8b_0</td>\n      <td>DYREKTYWY\\nDYREKTYWA PARLAMENTU EUROPEJSKIEGO ...</td>\n      <td>99e84c9e-b818-4381-8343-f294ea12ec8b</td>\n      <td>- Jakie konkretne zmiany wprowadza dyrektywa P...</td>\n      <td>- W jaki sposób dyrektywa uwzględnia Traktat o...</td>\n      <td>Dyrektywa 2022/2464 uwzględnia Traktat o funkc...</td>\n      <td>241</td>\n      <td>5</td>\n      <td>DYREKTYWYDYREKTYWA PARLAMENTU EUROPEJSKIEGO I ...</td>\n      <td>0.143646</td>\n      <td>0.249242</td>\n      <td>(2, The question is somewhat coherent as it ad...</td>\n      <td>3 | Pytanie jest dość spójne, ponieważ odnosi ...</td>\n      <td>3</td>\n      <td>Pytanie jest dość spójne, ponieważ odnosi się...</td>\n      <td>3</td>\n      <td>Pytanie jest dość spójne, ponieważ odnosi się...</td>\n    </tr>\n    <tr>\n      <th>1</th>\n      <td>99e84c9e-b818-4381-8343-f294ea12ec8b_1</td>\n      <td>uwzględniając Traktat o funkcjonowaniu Unii Eu...</td>\n      <td>99e84c9e-b818-4381-8343-f294ea12ec8b</td>\n      <td>- Jakie konkretnie artykuły Traktatu o funkcjo...</td>\n      <td>- Jakie konkretnie artykuły Traktatu o funkcjo...</td>\n      <td>W kontekście omawianego tekstu uwzględnione zo...</td>\n      <td>148</td>\n      <td>4</td>\n      <td>uwzględniając Traktat o funkcjonowaniu Unii Eu...</td>\n      <td>0.197938</td>\n      <td>0.219906</td>\n      <td>(2, The question is coherent in terms of askin...</td>\n      <td>3 | Pytanie jest dość spójne, ponieważ precyzy...</td>\n      <td>3</td>\n      <td>Pytanie jest dość spójne, ponieważ precyzyjni...</td>\n      <td>3</td>\n      <td>Pytanie jest dość spójne, ponieważ precyzyjni...</td>\n    </tr>\n    <tr>\n      <th>...</th>\n      <td>...</td>\n      <td>...</td>\n      <td>...</td>\n      <td>...</td>\n      <td>...</td>\n      <td>...</td>\n      <td>...</td>\n      <td>...</td>\n      <td>...</td>\n      <td>...</td>\n      <td>...</td>\n      <td>...</td>\n      <td>...</td>\n      <td>...</td>\n      <td>...</td>\n      <td>...</td>\n      <td>...</td>\n    </tr>\n    <tr>\n      <th>847</th>\n      <td>42ca3bd6-cb0f-4a1e-858d-c77ac8b0ca4b_8</td>\n      <td>wraz z wnioskami ustawodawczymi.\\nArtykuł 7\\nW...</td>\n      <td>42ca3bd6-cb0f-4a1e-858d-c77ac8b0ca4b</td>\n      <td>- Jakie są główne założenia i cele zawarte w d...</td>\n      <td>- Czy istnieją jakieś szczególne warunki lub w...</td>\n      <td>W praktyce prawniczej implementacja dyrektywy ...</td>\n      <td>173</td>\n      <td>5</td>\n      <td>wraz z wnioskami ustawodawczymi.Artykuł 7Wejśc...</td>\n      <td>0.262756</td>\n      <td>0.341618</td>\n      <td>(3, \"The question is coherent but could be mor...</td>\n      <td>4 | Pytanie jest dość spójne, ponieważ jasno o...</td>\n      <td>4</td>\n      <td>Pytanie jest dość spójne, ponieważ jasno odno...</td>\n      <td>4</td>\n      <td>Pytanie jest dość spójne, ponieważ jasno odno...</td>\n    </tr>\n    <tr>\n      <th>848</th>\n      <td>c1f4c20f-e402-43b1-b22a-401d1d372098_0</td>\n      <td>Artykuł 8\\nAdresaci\\nNiniejsza dyrektywa skier...</td>\n      <td>c1f4c20f-e402-43b1-b22a-401d1d372098</td>\n      <td>- Jakie są główne założenia i cele dyrektywy, ...</td>\n      <td>- Jakie są główne założenia i cele dyrektywy, ...</td>\n      <td>Głównym założeniem i celem dyrektywy, której a...</td>\n      <td>224</td>\n      <td>5</td>\n      <td>Artykuł 8AdresaciNiniejsza dyrektywa skierowan...</td>\n      <td>0.190511</td>\n      <td>0.300127</td>\n      <td>(3, \"The question is coherent in terms of aski...</td>\n      <td>3 | Pytanie jest dość spójne, ponieważ jasno o...</td>\n      <td>3</td>\n      <td>Pytanie jest dość spójne, ponieważ jasno okre...</td>\n      <td>3</td>\n      <td>Pytanie jest dość spójne, ponieważ jasno okre...</td>\n    </tr>\n    <tr>\n      <th>848</th>\n      <td>c1f4c20f-e402-43b1-b22a-401d1d372098_0</td>\n      <td>Artykuł 8\\nAdresaci\\nNiniejsza dyrektywa skier...</td>\n      <td>c1f4c20f-e402-43b1-b22a-401d1d372098</td>\n      <td>- Jakie są główne założenia i cele dyrektywy, ...</td>\n      <td>- W jaki sposób artykuł 4 tej dyrektywy ma być...</td>\n      <td>Artykuł 4 dyrektywy musi być wdrożony przez pa...</td>\n      <td>154</td>\n      <td>5</td>\n      <td>Artykuł 8AdresaciNiniejsza dyrektywa skierowan...</td>\n      <td>0.154297</td>\n      <td>0.272856</td>\n      <td>(2, The question is coherent in terms of askin...</td>\n      <td>3 | Pytanie jest dość spójne, ponieważ jasno o...</td>\n      <td>3</td>\n      <td>Pytanie jest dość spójne, ponieważ jasno okre...</td>\n      <td>3</td>\n      <td>Pytanie jest dość spójne, ponieważ jasno okre...</td>\n    </tr>\n    <tr>\n      <th>848</th>\n      <td>c1f4c20f-e402-43b1-b22a-401d1d372098_0</td>\n      <td>Artykuł 8\\nAdresaci\\nNiniejsza dyrektywa skier...</td>\n      <td>c1f4c20f-e402-43b1-b22a-401d1d372098</td>\n      <td>- Jakie są główne założenia i cele dyrektywy, ...</td>\n      <td>- Kiedy dokładnie została sporządzona ta dyrek...</td>\n      <td>Dyrektywa została sporządzona w Strasburgu dni...</td>\n      <td>167</td>\n      <td>5</td>\n      <td>Artykuł 8AdresaciNiniejsza dyrektywa skierowan...</td>\n      <td>0.278283</td>\n      <td>0.325642</td>\n      <td>(2, \"The question is somewhat coherent as it a...</td>\n      <td>3 | Pytanie jest dość klarowne, ale wymaga pew...</td>\n      <td>3</td>\n      <td>Pytanie jest dość klarowne, ale wymaga pewnej...</td>\n      <td>3</td>\n      <td>Pytanie jest dość klarowne, ale wymaga pewnej...</td>\n    </tr>\n    <tr>\n      <th>848</th>\n      <td>c1f4c20f-e402-43b1-b22a-401d1d372098_0</td>\n      <td>Artykuł 8\\nAdresaci\\nNiniejsza dyrektywa skier...</td>\n      <td>c1f4c20f-e402-43b1-b22a-401d1d372098</td>\n      <td>- Jakie są główne założenia i cele dyrektywy, ...</td>\n      <td>- Kto reprezentował Parlament Europejski oraz ...</td>\n      <td>Podczas podpisywania tej dyrektywy Parlament E...</td>\n      <td>131</td>\n      <td>4</td>\n      <td>Artykuł 8AdresaciNiniejsza dyrektywa skierowan...</td>\n      <td>0.113111</td>\n      <td>0.254479</td>\n      <td>(3, \"The question is coherent in terms of aski...</td>\n      <td>4 | Pytanie jest spójne, ponieważ jasno określ...</td>\n      <td>4</td>\n      <td>Pytanie jest spójne, ponieważ jasno określa, ...</td>\n      <td>4</td>\n      <td>Pytanie jest spójne, ponieważ jasno określa, ...</td>\n    </tr>\n  </tbody>\n</table>\n<p>3396 rows × 17 columns</p>\n</div>"
     },
     "execution_count": 36,
     "metadata": {},
     "output_type": "execute_result"
    }
   ],
   "source": [
    "df"
   ],
   "metadata": {
    "collapsed": false,
    "ExecuteTime": {
     "end_time": "2024-10-03T12:18:14.663509Z",
     "start_time": "2024-10-03T12:18:14.643900Z"
    }
   },
   "id": "85007d60b3c9d8c8",
   "execution_count": 36
  },
  {
   "cell_type": "code",
   "outputs": [],
   "source": [
    "df.to_excel(f'data/{saving_prefix}_06_data_with_expanded_coherence.xlsx', index = False)"
   ],
   "metadata": {
    "collapsed": false,
    "ExecuteTime": {
     "end_time": "2024-10-03T12:18:37.276618Z",
     "start_time": "2024-10-03T12:18:34.951665Z"
    }
   },
   "id": "5b208368288ef5e6",
   "execution_count": 37
  },
  {
   "cell_type": "code",
   "outputs": [],
   "source": [
    "df = pd.read_excel(f'data/{saving_prefix}_06_data_with_expanded_coherence.xlsx')"
   ],
   "metadata": {
    "collapsed": false,
    "ExecuteTime": {
     "end_time": "2024-10-04T09:37:28.992501Z",
     "start_time": "2024-10-04T09:37:27.009618Z"
    }
   },
   "id": "61c8248f41482049",
   "execution_count": 6
  },
  {
   "cell_type": "code",
   "outputs": [
    {
     "data": {
      "text/plain": "Index(['chunk_id', 'text_chunk', 'page_id', 'generated_questions',\n       'questions_splitted', 'answer', 'coverage_rating', 'coherence',\n       'coherence_rate', 'coherence_expl'],\n      dtype='object')"
     },
     "execution_count": 29,
     "metadata": {},
     "output_type": "execute_result"
    }
   ],
   "source": [
    "df.columns"
   ],
   "metadata": {
    "collapsed": false,
    "ExecuteTime": {
     "end_time": "2024-08-17T13:07:01.780501Z",
     "start_time": "2024-08-17T13:07:01.776372Z"
    }
   },
   "id": "a101f580e8c08398",
   "execution_count": 29
  },
  {
   "cell_type": "code",
   "outputs": [],
   "source": [
    "df['relevance'] = df.apply(lambda x: OpenAIReq().call_api(prompt=PromptBuilder.get_relevance(question=x['questions_splitted'], context=x['text_chunk'])),axis=1)"
   ],
   "metadata": {
    "collapsed": false,
    "ExecuteTime": {
     "end_time": "2024-10-03T16:30:09.097433Z",
     "start_time": "2024-10-03T12:18:42.792982Z"
    }
   },
   "id": "e9f842efd52f19eb",
   "execution_count": 38
  },
  {
   "cell_type": "code",
   "outputs": [],
   "source": [
    "df['global_relevance'] = df.apply(lambda x: OpenAIReq().call_api(prompt=PromptBuilder.get_global_relevance(question=x['questions_splitted'])),axis=1)"
   ],
   "metadata": {
    "collapsed": false,
    "ExecuteTime": {
     "end_time": "2024-10-04T00:39:16.822797Z",
     "start_time": "2024-10-03T16:30:09.105571Z"
    }
   },
   "id": "a887b80b654bf7ae",
   "execution_count": 39
  },
  {
   "cell_type": "code",
   "outputs": [],
   "source": [
    "df.to_excel(f'data/{saving_prefix}_07_data_with_relevances.xlsx')"
   ],
   "metadata": {
    "collapsed": false,
    "ExecuteTime": {
     "end_time": "2024-10-04T00:39:19.021047Z",
     "start_time": "2024-10-04T00:39:16.827904Z"
    }
   },
   "id": "3c4c056e33234e8c",
   "execution_count": 40
  },
  {
   "cell_type": "code",
   "outputs": [],
   "source": [
    "df = pd.read_excel(f'data/{saving_prefix}_07_data_with_relevances.xlsx')"
   ],
   "metadata": {
    "collapsed": false,
    "ExecuteTime": {
     "end_time": "2024-10-04T14:06:59.126922Z",
     "start_time": "2024-10-04T14:06:57.102716Z"
    }
   },
   "id": "a29676a0456d51fd",
   "execution_count": 8
  },
  {
   "cell_type": "markdown",
   "source": [
    "## Evaluation"
   ],
   "metadata": {
    "collapsed": false
   },
   "id": "f7aa1a31225933b1"
  },
  {
   "cell_type": "code",
   "outputs": [
    {
     "name": "stderr",
     "output_type": "stream",
     "text": [
      "1373it [1:05:16,  2.86s/it]"
     ]
    }
   ],
   "source": [
    "reporting = Reporting(data=df)\n",
    "sim_matrix = reporting.create_similarity_matrix_for_wmd(on_column='questions_splitted')"
   ],
   "metadata": {
    "collapsed": false,
    "is_executing": true,
    "ExecuteTime": {
     "start_time": "2024-10-04T09:38:57.112304Z"
    }
   },
   "id": "16e6c8199c8c49e4",
   "execution_count": null
  },
  {
   "cell_type": "code",
   "outputs": [
    {
     "data": {
      "text/plain": "(1024, 1024)"
     },
     "execution_count": 35,
     "metadata": {},
     "output_type": "execute_result"
    }
   ],
   "source": [
    "sim_matrix.shape"
   ],
   "metadata": {
    "collapsed": false,
    "ExecuteTime": {
     "end_time": "2024-08-17T14:16:57.293275Z",
     "start_time": "2024-08-17T14:16:57.289161Z"
    }
   },
   "id": "68a4ae67f367776d",
   "execution_count": 35
  },
  {
   "cell_type": "markdown",
   "source": [
    "### Plotting the results of similarity matrix"
   ],
   "metadata": {
    "collapsed": false
   },
   "id": "fae6d8eb87c3b77b"
  },
  {
   "cell_type": "code",
   "outputs": [],
   "source": [
    "if sim_matrix.shape[0] < 30: #plot only when sampled\n",
    "    mask = np.zeros_like(sim_matrix)\n",
    "    mask[np.triu_indices_from(mask)] = True\n",
    "    sns.heatmap(sim_matrix,\n",
    "                annot=True,\n",
    "                fmt='.2f',\n",
    "                linewidth=.5,\n",
    "                cmap='crest',\n",
    "                mask=mask,\n",
    "                annot_kws={'fontsize': 8})"
   ],
   "metadata": {
    "collapsed": false,
    "ExecuteTime": {
     "end_time": "2024-08-17T19:14:42.135929Z",
     "start_time": "2024-08-17T19:14:42.131770Z"
    }
   },
   "id": "a11461716544cee7",
   "execution_count": 43
  },
  {
   "cell_type": "markdown",
   "source": [
    "### Evaluation Summary"
   ],
   "metadata": {
    "collapsed": false
   },
   "id": "f4821b514b5a6149"
  },
  {
   "cell_type": "markdown",
   "source": [
    "#### Relevance anf global relevance"
   ],
   "metadata": {
    "collapsed": false
   },
   "id": "905e1e1aa6fc8a76"
  },
  {
   "cell_type": "code",
   "outputs": [
    {
     "data": {
      "text/plain": "relevance\n5                                                                                                                                                                                                                                           0.982038\n1                                                                                                                                                                                                                                           0.011779\n4                                                                                                                                                                                                                                           0.002945\n3                                                                                                                                                                                                                                           0.001767\n2                                                                                                                                                                                                                                           0.000589\n4\\n5                                                                                                                                                                                                                                        0.000294\nI would rate this question as a 5. It seems like a technical and specific question related to financial instruments and regulations, which could be asked by a lawyer specializing in financial law or securities law.                      0.000294\nThis question appears to be related to financial regulations and the minimum nominal value of debt securities, which could be a relevant topic for a lawyer specializing in financial law. Therefore, I would rate this question as a 5.    0.000294\nName: proportion, dtype: float64"
     },
     "execution_count": 9,
     "metadata": {},
     "output_type": "execute_result"
    }
   ],
   "source": [
    "df['relevance'].value_counts(normalize=True)"
   ],
   "metadata": {
    "collapsed": false,
    "ExecuteTime": {
     "end_time": "2024-10-04T14:07:02.686364Z",
     "start_time": "2024-10-04T14:07:02.675406Z"
    }
   },
   "id": "51e5504b2ce89534",
   "execution_count": 9
  },
  {
   "cell_type": "code",
   "outputs": [
    {
     "data": {
      "text/plain": "<Axes: >"
     },
     "execution_count": 10,
     "metadata": {},
     "output_type": "execute_result"
    },
    {
     "data": {
      "text/plain": "<Figure size 640x480 with 1 Axes>",
      "image/png": "[encoded data removed]"
     },
     "metadata": {},
     "output_type": "display_data"
    }
   ],
   "source": [
    "pd.plotting.hist_series(df['relevance'])"
   ],
   "metadata": {
    "collapsed": false,
    "ExecuteTime": {
     "end_time": "2024-10-04T14:07:11.615744Z",
     "start_time": "2024-10-04T14:07:11.313484Z"
    }
   },
   "id": "408b96484687baf8",
   "execution_count": 10
  },
  {
   "cell_type": "code",
   "outputs": [
    {
     "data": {
      "text/plain": "global_relevance\n5    0.993164\n1    0.003906\n4    0.000977\n3    0.000977\n2    0.000977\nName: proportion, dtype: float64"
     },
     "execution_count": 46,
     "metadata": {},
     "output_type": "execute_result"
    }
   ],
   "source": [
    "df['global_relevance'].value_counts(normalize=True)"
   ],
   "metadata": {
    "collapsed": false,
    "ExecuteTime": {
     "end_time": "2024-08-17T19:14:50.391451Z",
     "start_time": "2024-08-17T19:14:50.385401Z"
    }
   },
   "id": "5ca77a6713090ce1",
   "execution_count": 46
  },
  {
   "cell_type": "code",
   "outputs": [
    {
     "data": {
      "text/plain": "<Axes: >"
     },
     "execution_count": 11,
     "metadata": {},
     "output_type": "execute_result"
    },
    {
     "data": {
      "text/plain": "<Figure size 640x480 with 1 Axes>",
      "image/png": "[encoded data removed]"
     },
     "metadata": {},
     "output_type": "display_data"
    }
   ],
   "source": [
    "pd.plotting.hist_series(df['global_relevance'])"
   ],
   "metadata": {
    "collapsed": false,
    "ExecuteTime": {
     "end_time": "2024-10-04T14:07:16.497751Z",
     "start_time": "2024-10-04T14:07:16.171728Z"
    }
   },
   "id": "879f5428100c9f2",
   "execution_count": 11
  },
  {
   "cell_type": "markdown",
   "source": [
    "#### Coverage summary"
   ],
   "metadata": {
    "collapsed": false
   },
   "id": "1f955fad2b047bb7"
  },
  {
   "cell_type": "code",
   "outputs": [
    {
     "data": {
      "text/plain": "coverage_rating\n5    0.904594\n4    0.080094\n1    0.010895\n3    0.002945\n2    0.001472\nName: proportion, dtype: float64"
     },
     "execution_count": 12,
     "metadata": {},
     "output_type": "execute_result"
    }
   ],
   "source": [
    "df['coverage_rating'].value_counts(normalize=True)"
   ],
   "metadata": {
    "collapsed": false,
    "ExecuteTime": {
     "end_time": "2024-10-04T14:07:21.755863Z",
     "start_time": "2024-10-04T14:07:21.749477Z"
    }
   },
   "id": "8ad59ea8363aee59",
   "execution_count": 12
  },
  {
   "cell_type": "code",
   "outputs": [
    {
     "data": {
      "text/plain": "<Axes: >"
     },
     "execution_count": 41,
     "metadata": {},
     "output_type": "execute_result"
    },
    {
     "data": {
      "text/plain": "<Figure size 640x480 with 1 Axes>",
      "image/png": "[encoded data removed]"
     },
     "metadata": {},
     "output_type": "display_data"
    }
   ],
   "source": [
    "pd.plotting.hist_series(df['coverage_rating'])"
   ],
   "metadata": {
    "collapsed": false,
    "ExecuteTime": {
     "end_time": "2024-08-17T14:17:32.440022Z",
     "start_time": "2024-08-17T14:17:32.178932Z"
    }
   },
   "id": "bd4000fa90e48c2f",
   "execution_count": 41
  },
  {
   "cell_type": "code",
   "outputs": [
    {
     "data": {
      "text/plain": "Index(['chunk_id', 'text_chunk', 'page_id', 'generated_questions',\n       'questions_splitted', 'answer', 'answer_200', 'coverage_rating',\n       'chunk', 'wmd_question_answer_600', 'wmd_question_answer_200',\n       'wmd_chunk_question', 'coherence', 'coherence_pl', 'coherence_rate',\n       'coherence_expl', 'coherence_rate_pl', 'coherence_expl_pl', 'relevance',\n       'global_relevance'],\n      dtype='object')"
     },
     "execution_count": 52,
     "metadata": {},
     "output_type": "execute_result"
    }
   ],
   "source": [
    "df.columns"
   ],
   "metadata": {
    "collapsed": false,
    "ExecuteTime": {
     "end_time": "2024-08-17T19:15:56.828828Z",
     "start_time": "2024-08-17T19:15:56.823298Z"
    }
   },
   "id": "aa2f1d918796709d",
   "execution_count": 52
  },
  {
   "cell_type": "markdown",
   "source": [
    "#### Word mover distance"
   ],
   "metadata": {
    "collapsed": false
   },
   "id": "3f937ce309018b65"
  },
  {
   "cell_type": "code",
   "outputs": [
    {
     "data": {
      "text/plain": "<Axes: >"
     },
     "execution_count": 13,
     "metadata": {},
     "output_type": "execute_result"
    },
    {
     "data": {
      "text/plain": "<Figure size 640x480 with 1 Axes>",
      "image/png": "[encoded data removed]"
     },
     "metadata": {},
     "output_type": "display_data"
    }
   ],
   "source": [
    "# WMD question <-> chunk\n",
    "pd.plotting.hist_series(df['wmd_chunk_question'])"
   ],
   "metadata": {
    "collapsed": false,
    "ExecuteTime": {
     "end_time": "2024-10-04T14:07:31.205295Z",
     "start_time": "2024-10-04T14:07:31.002121Z"
    }
   },
   "id": "ef3c5f0725bb2674",
   "execution_count": 13
  },
  {
   "cell_type": "code",
   "outputs": [
    {
     "name": "stdout",
     "output_type": "stream",
     "text": [
      "Mean for question to chunk for WMD is 0.17682204038628963 with std as 0.0657846024840654\n"
     ]
    }
   ],
   "source": [
    "mean_wmd_qch = df['wmd_chunk_question'].mean()\n",
    "std_wmd_qch = df['wmd_chunk_question'].std()\n",
    "print(f'Mean for question to chunk for WMD is {mean_wmd_qch} with std as {std_wmd_qch}')"
   ],
   "metadata": {
    "collapsed": false,
    "ExecuteTime": {
     "end_time": "2024-10-04T14:07:36.941088Z",
     "start_time": "2024-10-04T14:07:36.936756Z"
    }
   },
   "id": "ec28848a295df728",
   "execution_count": 14
  },
  {
   "cell_type": "code",
   "outputs": [
    {
     "data": {
      "text/plain": "<Axes: >"
     },
     "execution_count": 53,
     "metadata": {},
     "output_type": "execute_result"
    },
    {
     "data": {
      "text/plain": "<Figure size 640x480 with 1 Axes>",
      "image/png": "[encoded data removed]"
     },
     "metadata": {},
     "output_type": "display_data"
    }
   ],
   "source": [
    "# WMD question <-> answer\n",
    "pd.plotting.hist_series(df['wmd_question_answer_600'])"
   ],
   "metadata": {
    "collapsed": false,
    "ExecuteTime": {
     "end_time": "2024-08-17T19:16:13.261424Z",
     "start_time": "2024-08-17T19:16:13.048100Z"
    }
   },
   "id": "72d02a1699e40d16",
   "execution_count": 53
  },
  {
   "cell_type": "code",
   "outputs": [
    {
     "name": "stdout",
     "output_type": "stream",
     "text": [
      "Mean for question to answer for WMD is 0.14661725889211422 with std as 0.04155135223607651\n"
     ]
    }
   ],
   "source": [
    "mean_wmd_qa = df['wmd_question_answer_600'].mean()\n",
    "std_wmd_qa = df['wmd_question_answer_600'].std()\n",
    "print(f'Mean for question to answer for WMD is {mean_wmd_qa} with std as {std_wmd_qa}')"
   ],
   "metadata": {
    "collapsed": false,
    "ExecuteTime": {
     "end_time": "2024-08-17T19:16:25.001560Z",
     "start_time": "2024-08-17T19:16:24.997699Z"
    }
   },
   "id": "ad2cc9b4c34773a0",
   "execution_count": 55
  },
  {
   "cell_type": "code",
   "outputs": [
    {
     "data": {
      "text/plain": "<Axes: >"
     },
     "execution_count": 56,
     "metadata": {},
     "output_type": "execute_result"
    },
    {
     "data": {
      "text/plain": "<Figure size 640x480 with 1 Axes>",
      "image/png": "[encoded data removed]"
     },
     "metadata": {},
     "output_type": "display_data"
    }
   ],
   "source": [
    "# WMD question <-> answer\n",
    "pd.plotting.hist_series(df['wmd_question_answer_200'])"
   ],
   "metadata": {
    "collapsed": false,
    "ExecuteTime": {
     "end_time": "2024-08-17T19:16:48.375746Z",
     "start_time": "2024-08-17T19:16:48.123129Z"
    }
   },
   "id": "66afdbbab23c5202",
   "execution_count": 56
  },
  {
   "cell_type": "code",
   "outputs": [
    {
     "name": "stdout",
     "output_type": "stream",
     "text": [
      "Mean for question to answer for WMD is 0.14269772125006427 with std as 0.0458242068737491\n"
     ]
    }
   ],
   "source": [
    "mean_wmd_qa = df['wmd_question_answer_200'].mean()\n",
    "std_wmd_qa = df['wmd_question_answer_200'].std()\n",
    "print(f'Mean for question to answer for WMD is {mean_wmd_qa} with std as {std_wmd_qa}')"
   ],
   "metadata": {
    "collapsed": false,
    "ExecuteTime": {
     "end_time": "2024-10-04T14:07:45.457105Z",
     "start_time": "2024-10-04T14:07:45.451128Z"
    }
   },
   "id": "741cad69bf039531",
   "execution_count": 15
  },
  {
   "cell_type": "code",
   "outputs": [
    {
     "name": "stdout",
     "output_type": "stream",
     "text": [
      "Mean for question to question for WMD is 0.2319945366162956 with std as 0.058350289261069374\n"
     ]
    }
   ],
   "source": [
    "# WMD question <-> question\n",
    "std, mean = reporting.get_summary_for_wmd(sim_matrix)\n",
    "print(f'Mean for question to question for WMD is {mean} with std as {std}')"
   ],
   "metadata": {
    "collapsed": false,
    "ExecuteTime": {
     "end_time": "2024-08-17T19:17:19.318723Z",
     "start_time": "2024-08-17T19:17:19.299130Z"
    }
   },
   "id": "c9f0e941819d663",
   "execution_count": 58
  },
  {
   "cell_type": "markdown",
   "source": [
    "#### Coherence rate"
   ],
   "metadata": {
    "collapsed": false
   },
   "id": "27a3d2a581aaeee5"
  },
  {
   "cell_type": "code",
   "outputs": [
    {
     "data": {
      "text/plain": "coherence_rate\n3            0.681979\n4            0.291814\n2            0.017962\n5            0.007656\nOcena: 4     0.000589\nName: proportion, dtype: float64"
     },
     "execution_count": 16,
     "metadata": {},
     "output_type": "execute_result"
    }
   ],
   "source": [
    "df['coherence_rate'].value_counts(normalize=True)"
   ],
   "metadata": {
    "collapsed": false,
    "ExecuteTime": {
     "end_time": "2024-10-04T14:07:53.387155Z",
     "start_time": "2024-10-04T14:07:53.381294Z"
    }
   },
   "id": "c4099e73a1bf499c",
   "execution_count": 16
  },
  {
   "cell_type": "code",
   "outputs": [],
   "source": [
    "coherence_analysis = df[['questions_splitted','coherence_expl_pl', 'coherence_rate_pl']]"
   ],
   "metadata": {
    "collapsed": false,
    "ExecuteTime": {
     "end_time": "2024-08-17T19:26:28.338728Z",
     "start_time": "2024-08-17T19:26:28.335100Z"
    }
   },
   "id": "22610c9216ce0186",
   "execution_count": 77
  },
  {
   "cell_type": "code",
   "outputs": [
    {
     "name": "stderr",
     "output_type": "stream",
     "text": [
      "/tmp/ipykernel_65673/3825678281.py:1: SettingWithCopyWarning: \n",
      "A value is trying to be set on a copy of a slice from a DataFrame.\n",
      "Try using .loc[row_indexer,col_indexer] = value instead\n",
      "\n",
      "See the caveats in the documentation: https://pandas.pydata.org/pandas-docs/stable/user_guide/indexing.html#returning-a-view-versus-a-copy\n",
      "  coherence_analysis['coherence_rate_pl'] = coherence_analysis['coherence_rate_pl'].astype(int)\n"
     ]
    }
   ],
   "source": [
    "coherence_analysis['coherence_rate_pl'] = coherence_analysis['coherence_rate_pl'].astype(int)"
   ],
   "metadata": {
    "collapsed": false,
    "ExecuteTime": {
     "end_time": "2024-08-17T19:26:30.066749Z",
     "start_time": "2024-08-17T19:26:30.063372Z"
    }
   },
   "id": "d509d9fdd1d73019",
   "execution_count": 78
  },
  {
   "cell_type": "code",
   "outputs": [
    {
     "data": {
      "text/plain": "                                    questions_splitted  \\\n3    - Jakie konkretnie przepisy dotyczące sprzedaż...   \n31   - Jakie są konsekwencje prawne dotyczące umów ...   \n143  - Czy istnieją jakieś wyjątki od obowiązku okr...   \n209  - Kiedy domniemania określone w ust. 1 i 3 nie...   \n209  - Jakie warunki musi spełniać środowisko cyfro...   \n\n                                     coherence_expl_pl  coherence_rate_pl  \n3     Pytanie o zmiany w przepisach dotyczących spr...                  2  \n31    Pytanie o konsekwencje prawne dotyczące umów ...                  2  \n143   Pytanie jest dość skomplikowane i trudne do z...                  2  \n209   Pytanie jest dość skomplikowane i wymaga pewn...                  2  \n209   Pytanie jest dość skomplikowane i wymaga głęb...                  2  ",
      "text/html": "<div>\n<style scoped>\n    .dataframe tbody tr th:only-of-type {\n        vertical-align: middle;\n    }\n\n    .dataframe tbody tr th {\n        vertical-align: top;\n    }\n\n    .dataframe thead th {\n        text-align: right;\n    }\n</style>\n<table border=\"1\" class=\"dataframe\">\n  <thead>\n    <tr style=\"text-align: right;\">\n      <th></th>\n      <th>questions_splitted</th>\n      <th>coherence_expl_pl</th>\n      <th>coherence_rate_pl</th>\n    </tr>\n  </thead>\n  <tbody>\n    <tr>\n      <th>3</th>\n      <td>- Jakie konkretnie przepisy dotyczące sprzedaż...</td>\n      <td>Pytanie o zmiany w przepisach dotyczących spr...</td>\n      <td>2</td>\n    </tr>\n    <tr>\n      <th>31</th>\n      <td>- Jakie są konsekwencje prawne dotyczące umów ...</td>\n      <td>Pytanie o konsekwencje prawne dotyczące umów ...</td>\n      <td>2</td>\n    </tr>\n    <tr>\n      <th>143</th>\n      <td>- Czy istnieją jakieś wyjątki od obowiązku okr...</td>\n      <td>Pytanie jest dość skomplikowane i trudne do z...</td>\n      <td>2</td>\n    </tr>\n    <tr>\n      <th>209</th>\n      <td>- Kiedy domniemania określone w ust. 1 i 3 nie...</td>\n      <td>Pytanie jest dość skomplikowane i wymaga pewn...</td>\n      <td>2</td>\n    </tr>\n    <tr>\n      <th>209</th>\n      <td>- Jakie warunki musi spełniać środowisko cyfro...</td>\n      <td>Pytanie jest dość skomplikowane i wymaga głęb...</td>\n      <td>2</td>\n    </tr>\n  </tbody>\n</table>\n</div>"
     },
     "execution_count": 101,
     "metadata": {},
     "output_type": "execute_result"
    }
   ],
   "source": [
    "coherence_analysis[coherence_analysis['coherence_rate_pl'] == 2]"
   ],
   "metadata": {
    "collapsed": false,
    "ExecuteTime": {
     "end_time": "2024-08-18T20:40:46.799940Z",
     "start_time": "2024-08-18T20:40:46.790481Z"
    }
   },
   "id": "425febb8829aad1d",
   "execution_count": 101
  },
  {
   "cell_type": "code",
   "outputs": [
    {
     "data": {
      "text/plain": "0       Pytanie jest dość klarowne, ale mogłoby być b...\n0       Pytanie jest dość spójne, ponieważ jasno odno...\n0       Pytanie jest bardzo spójne i precyzyjne. Okre...\n0       Pytanie jest spójne i precyzyjne, jasno okreś...\n1       Pytanie jest spójne i precyzyjne, dotyczy kon...\n                             ...                        \n254     Pytanie jest spójne, ponieważ precyzyjnie okr...\n255     Pytanie jest spójne, ponieważ precyzyjnie okr...\n255     Pytanie jest spójne, ponieważ precyzyjnie okr...\n255     Pytanie jest spójne i precyzyjne, dotyczy ter...\n255     Pytanie jest spójne, ponieważ jasno określa, ...\nName: coherence_expl_pl, Length: 1024, dtype: object"
     },
     "execution_count": 87,
     "metadata": {},
     "output_type": "execute_result"
    }
   ],
   "source": [
    "coherence_analysis['coherence_expl_pl']"
   ],
   "metadata": {
    "collapsed": false,
    "ExecuteTime": {
     "end_time": "2024-08-17T19:33:15.570246Z",
     "start_time": "2024-08-17T19:33:15.562059Z"
    }
   },
   "id": "4e9f05968e027b4a",
   "execution_count": 87
  },
  {
   "cell_type": "markdown",
   "source": [
    "#### Evaluation Summary\n",
    "From the provided results we can observe that in majority of cases generated question are quite fluent (86.5% got score 3 and 4 combined).\n",
    "Coverage metric (if answer can be reliable extracted from question and context) is also high. This point is to be investigated as it was based on LLM verification.\n",
    "Relevance ratings are also high meaning that generated questions preserve high quality and resemblance to ones asked by professionals.\n",
    "Word's Mover Distance (Diversity) with mean scores 0.19, 0.14 and 0.24 for question to chunk, question to answer and question to question respectively, show that generated questions have small distance which means that they show small diversity and are consistent with each other. "
   ],
   "metadata": {
    "collapsed": false
   },
   "id": "c88e44c8d5cdde6"
  },
  {
   "cell_type": "code",
   "outputs": [
    {
     "data": {
      "text/plain": "Index(['chunk_id', 'text_chunk', 'page_id', 'generated_questions',\n       'questions_splitted', 'answer', 'answer_200', 'coverage_rating',\n       'chunk', 'wmd_question_answer_600', 'wmd_question_answer_200',\n       'wmd_chunk_question', 'coherence', 'coherence_pl', 'coherence_rate',\n       'coherence_expl', 'coherence_rate_pl', 'coherence_expl_pl', 'relevance',\n       'global_relevance'],\n      dtype='object')"
     },
     "execution_count": 92,
     "metadata": {},
     "output_type": "execute_result"
    }
   ],
   "source": [
    "df.columns"
   ],
   "metadata": {
    "collapsed": false,
    "ExecuteTime": {
     "end_time": "2024-08-18T11:34:48.712052Z",
     "start_time": "2024-08-18T11:34:48.707681Z"
    }
   },
   "id": "b2b00c1a0fa0c2c6",
   "execution_count": 92
  },
  {
   "cell_type": "code",
   "outputs": [],
   "source": [],
   "metadata": {
    "collapsed": false
   },
   "id": "549c4ab995268576"
  },
  {
   "cell_type": "markdown",
   "source": [
    "### Data preparation for FT"
   ],
   "metadata": {
    "collapsed": false
   },
   "id": "f708262ea3739e2e"
  },
  {
   "cell_type": "code",
   "outputs": [],
   "source": [
    "qa_df_200 = df[['questions_splitted', 'answer_200']]"
   ],
   "metadata": {
    "collapsed": false,
    "ExecuteTime": {
     "end_time": "2024-10-04T14:08:13.103350Z",
     "start_time": "2024-10-04T14:08:13.098945Z"
    }
   },
   "id": "b0dba4cb08a354af",
   "execution_count": 17
  },
  {
   "cell_type": "code",
   "outputs": [
    {
     "data": {
      "text/plain": "(3396, 2)"
     },
     "execution_count": 19,
     "metadata": {},
     "output_type": "execute_result"
    }
   ],
   "source": [
    "qa_df_200.shape"
   ],
   "metadata": {
    "collapsed": false,
    "ExecuteTime": {
     "end_time": "2024-10-04T14:08:21.438515Z",
     "start_time": "2024-10-04T14:08:21.434352Z"
    }
   },
   "id": "556b198993c0bae9",
   "execution_count": 19
  },
  {
   "cell_type": "code",
   "outputs": [],
   "source": [
    "qa_df_200 = qa_df_200.rename(columns={'questions_splitted': 'question', 'answer_200': 'answer'})"
   ],
   "metadata": {
    "collapsed": false,
    "ExecuteTime": {
     "end_time": "2024-10-04T14:08:26.954269Z",
     "start_time": "2024-10-04T14:08:26.950167Z"
    }
   },
   "id": "9c7182c807da2af2",
   "execution_count": 20
  },
  {
   "cell_type": "code",
   "outputs": [],
   "source": [
    "now = datetime.datetime.now().strftime('%Y%m%d_%H%M%S')\n",
    "with open(f'ft_output_data/{saving_prefix}_data_ft_{now}.jsonl', \"w\") as f:\n",
    "    f.write(qa_df_200.to_json(orient='records', lines=True, force_ascii=False))"
   ],
   "metadata": {
    "collapsed": false,
    "ExecuteTime": {
     "end_time": "2024-10-04T14:08:37.855933Z",
     "start_time": "2024-10-04T14:08:37.793839Z"
    }
   },
   "id": "d686ed05cd390e49",
   "execution_count": 21
  },
  {
   "cell_type": "code",
   "outputs": [],
   "source": [],
   "metadata": {
    "collapsed": false
   },
   "id": "edbe53d03a1a7543"
  }
 ],
 "metadata": {
  "kernelspec": {
   "display_name": "Python 3",
   "language": "python",
   "name": "python3"
  },
  "language_info": {
   "codemirror_mode": {
    "name": "ipython",
    "version": 2
   },
   "file_extension": ".py",
   "mimetype": "text/x-python",
   "name": "python",
   "nbconvert_exporter": "python",
   "pygments_lexer": "ipython2",
   "version": "2.7.6"
  }
 },
 "nbformat": 4,
 "nbformat_minor": 5
}
