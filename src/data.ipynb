{
 "cells": [
  {
   "cell_type": "markdown",
   "source": [
    "# LLM - Bielik - Fine tuning - part I"
   ],
   "metadata": {
    "collapsed": false
   },
   "id": "268a1dfb6a09a44b"
  },
  {
   "cell_type": "markdown",
   "source": [
    "## Motivation\n",
    "\n",
    "The rise and investments of the Large Language Models are definetely a game changer on various markets and branches - we can observe increased popularity of LLMs in academia, business and agriculture etc. Working with LLMs became a must-do task for all R&D or business departments in order to acknowledge and adapt upcoming possibilities, to stay competetive and gain business advantage. There are many players who invested bilions of USD to build their own Large Language Model and took a part in recent markets challenges by introducing their own solution trained on a different data set or to serve a different task (specialized for example in generation of poems or making a summary). At the beginning, as usual when it comes to innovation at that scale, we are thinking of endless possibilities, what kind of new opportunities we reach without putting much focus on other important factors like costs, maintanence, security, stability. Currently, we have multiple models which are production ready - many work has been done at those fields also making those LLMs more reliable and secured. One of the outcomes from this LLM race is that people noticed that it is good idea to look at smaller models, more specialized in one or two tasks, not the general ones. This specialization also is related to language supported. LLMs are broadly trained on english language data, due to the fact that more than half of websites content is written in English (source). Many models, paid and open source ones, have different level of quality when it comes when using them with local language. Quite often it occurs that offered quality is not enough to prove the business value for specific use case. This pushed some parties to create smaller models or suggested the finetuning with data in local language. \n",
    "\n",
    "The goal of this notebook is to finetune a Polish language based LLM called Bielik, developed by SpeakLeash organization (<model page>) with the legal / law sources. Data is specifically chosen for this task - legal documents or, law as a general concept, are strictly connected to the particular langauge. Primary concept of legal documents is to be in line with local (polish in my case) regulations. Of course, those documents can be translated to english and then used by the LLM. However, legal documents such as purchase agreements or any other agreements are designed by lawyers who understand the legal language nuances. They need to construct documents that are reliable, understandable by many (or maybe not?) and embedded in Polish law regulations. This requires from LLM to be more specific on many levels - starting from using prevalent data in one language and finetuning it to be able to work with more detailed task. "
   ],
   "metadata": {
    "collapsed": false
   },
   "id": "a8add555b2f73f31"
  },
  {
   "cell_type": "markdown",
   "source": [
    "## Introduction\n",
    "\n",
    "This notebook covers multiple steps:\n",
    "1. Loading and splitting data\n",
    "2. Generating new data (question and answers) for the future finetuning\n",
    "3. Evaluating generated data\n"
   ],
   "metadata": {
    "collapsed": false
   },
   "id": "2a2374a7ac7f8e8d"
  },
  {
   "cell_type": "markdown",
   "source": [
    "## Loading and splitting data\n",
    "\n",
    "1. Data source: https://isap.sejm.gov.pl/isap.nsf/download.xsp/WDU20140000827/U/D20140827Lj.pdf \n",
    "2. "
   ],
   "metadata": {
    "collapsed": false
   },
   "id": "e453382dd70f9952"
  },
  {
   "cell_type": "code",
   "outputs": [],
   "source": [
    "import pandas as pd\n",
    "import numpy as np\n",
    "import os\n",
    "from dotenv import load_dotenv, find_dotenv\n",
    "import pymupdf\n",
    "import uuid\n",
    "from pprint import pprint\n",
    "from tqdm.notebook import tqdm\n",
    "from gensim.models import KeyedVectors\n",
    "from langchain.text_splitter import RecursiveCharacterTextSplitter"
   ],
   "metadata": {
    "collapsed": false,
    "ExecuteTime": {
     "end_time": "2024-07-25T20:16:30.406598Z",
     "start_time": "2024-07-25T20:16:30.403197Z"
    }
   },
   "id": "bcad1a89aee5c170",
   "execution_count": 21
  },
  {
   "cell_type": "code",
   "outputs": [],
   "source": [
    "_ = load_dotenv(find_dotenv())"
   ],
   "metadata": {
    "collapsed": false,
    "ExecuteTime": {
     "end_time": "2024-07-23T21:00:59.258716Z",
     "start_time": "2024-07-23T21:00:59.255025Z"
    }
   },
   "id": "a09a8ee67e5ebf80",
   "execution_count": 2
  },
  {
   "cell_type": "code",
   "outputs": [],
   "source": [
    "splitter = RecursiveCharacterTextSplitter(chunk_size=512, chunk_overlap=120)"
   ],
   "metadata": {
    "collapsed": false,
    "ExecuteTime": {
     "end_time": "2024-07-08T20:18:50.033112Z",
     "start_time": "2024-07-08T20:18:49.409761Z"
    }
   },
   "id": "b881573ef64d8940",
   "execution_count": 1
  },
  {
   "cell_type": "code",
   "outputs": [],
   "source": [
    "path = 'data/ustawa_nr_1.pdf'\n",
    "\n",
    "all_data = pymupdf.open(path)"
   ],
   "metadata": {
    "collapsed": false,
    "ExecuteTime": {
     "end_time": "2024-07-08T20:18:50.224489Z",
     "start_time": "2024-07-08T20:18:50.035497Z"
    }
   },
   "id": "b19e120f0ba49820",
   "execution_count": 2
  },
  {
   "cell_type": "code",
   "outputs": [
    {
     "data": {
      "text/plain": "44"
     },
     "execution_count": 3,
     "metadata": {},
     "output_type": "execute_result"
    }
   ],
   "source": [
    "all_chunks = []\n",
    "for document in all_data:\n",
    "    text_page = document.get_textpage().extractText()\n",
    "    chunks_per_page = splitter.split_text(text_page)\n",
    "    all_chunks.append(chunks_per_page)\n",
    "        \n",
    "len(all_chunks)"
   ],
   "metadata": {
    "collapsed": false,
    "ExecuteTime": {
     "end_time": "2024-07-08T20:18:50.959440Z",
     "start_time": "2024-07-08T20:18:50.744508Z"
    }
   },
   "id": "76dcd8f14b33523a",
   "execution_count": 3
  },
  {
   "cell_type": "code",
   "outputs": [
    {
     "data": {
      "text/plain": "['©Kancelaria Sejmu \\n \\n \\n \\ns. 44/44 \\n \\n \\n \\n2024-01-18 \\n \\nZałącznik nr 2 \\n \\nWZÓR FORMULARZA ODSTĄPIENIA OD UMOWY \\n \\n(formularz ten należy wypełnić i odesłać tylko w przypadku chęci odstąpienia od umowy) \\n– Adresat [w tym miejscu przedsiębiorca powinien wpisać nazwę przedsiębiorcy, pełny adres pocztowy oraz adres e-mail] \\n– Ja/My(*) niniejszym informuję/informujemy(*) o moim/naszym odstąpieniu od umowy sprzedaży następujących  towarów(*)',\n 'umowy dostawy następujących  towarów(*) umowy o dzieło polegającej na wykonaniu następujących towarów(*)/o \\nświadczenie następującej usługi(*) \\n– Data zawarcia umowy(*)/odbioru(*) \\n– Imię i nazwisko konsumenta(-ów) \\n– Adres konsumenta(-ów) \\n– Podpis konsumenta(-ów) (tylko jeżeli formularz jest przesyłany w wersji papierowej) \\n– Data \\n \\n \\n \\n \\n(*) Niepotrzebne skreślić.']"
     },
     "execution_count": 4,
     "metadata": {},
     "output_type": "execute_result"
    }
   ],
   "source": [
    "all_chunks[43]"
   ],
   "metadata": {
    "collapsed": false,
    "ExecuteTime": {
     "end_time": "2024-07-08T20:18:53.095262Z",
     "start_time": "2024-07-08T20:18:53.090976Z"
    }
   },
   "id": "e57142f2345ec462",
   "execution_count": 4
  },
  {
   "cell_type": "code",
   "outputs": [
    {
     "name": "stdout",
     "output_type": "stream",
     "text": [
      "('z 22.05.2019, str. 28 oraz Dz. Urz. UE L 305 z 26.11.2019, str. 63). \\n'\n",
      " 'Opracowano na \\n'\n",
      " 'podstawie: \\n'\n",
      " 't.j. \\n'\n",
      " 'Dz. U. z 2023 r. \\n'\n",
      " 'poz. 2759.')\n"
     ]
    }
   ],
   "source": [
    "pprint(all_chunks[0][6])"
   ],
   "metadata": {
    "collapsed": false,
    "ExecuteTime": {
     "end_time": "2024-07-08T20:18:55.711919Z",
     "start_time": "2024-07-08T20:18:55.708378Z"
    }
   },
   "id": "d5d94247082eff0e",
   "execution_count": 5
  },
  {
   "cell_type": "code",
   "outputs": [
    {
     "data": {
      "text/plain": "0it [00:00, ?it/s]",
      "application/vnd.jupyter.widget-view+json": {
       "version_major": 2,
       "version_minor": 0,
       "model_id": "ceb460c3580e426fa39f80bf83534bdc"
      }
     },
     "metadata": {},
     "output_type": "display_data"
    },
    {
     "ename": "NameError",
     "evalue": "name 'ask_gpt' is not defined",
     "output_type": "error",
     "traceback": [
      "\u001B[0;31m---------------------------------------------------------------------------\u001B[0m",
      "\u001B[0;31mNameError\u001B[0m                                 Traceback (most recent call last)",
      "Cell \u001B[0;32mIn[6], line 8\u001B[0m\n\u001B[1;32m      6\u001B[0m \u001B[38;5;28;01mfor\u001B[39;00m chunk \u001B[38;5;129;01min\u001B[39;00m \u001B[38;5;28menumerate\u001B[39m(page):\n\u001B[1;32m      7\u001B[0m     nth_chunk, text_chunk \u001B[38;5;241m=\u001B[39m chunk\n\u001B[0;32m----> 8\u001B[0m     generated_questions \u001B[38;5;241m=\u001B[39m \u001B[43mask_gpt\u001B[49m(chunk)\n\u001B[1;32m      9\u001B[0m     data \u001B[38;5;241m=\u001B[39m {\u001B[38;5;124m'\u001B[39m\u001B[38;5;124mchunk_id\u001B[39m\u001B[38;5;124m'\u001B[39m: \u001B[38;5;124mf\u001B[39m\u001B[38;5;124m'\u001B[39m\u001B[38;5;132;01m{\u001B[39;00mpage_id\u001B[38;5;132;01m}\u001B[39;00m\u001B[38;5;124m_\u001B[39m\u001B[38;5;132;01m{\u001B[39;00mnth_chunk\u001B[38;5;132;01m}\u001B[39;00m\u001B[38;5;124m'\u001B[39m, \n\u001B[1;32m     10\u001B[0m             \u001B[38;5;124m'\u001B[39m\u001B[38;5;124mtext_chunk\u001B[39m\u001B[38;5;124m'\u001B[39m: text_chunk,\n\u001B[1;32m     11\u001B[0m             \u001B[38;5;124m'\u001B[39m\u001B[38;5;124mpage_id\u001B[39m\u001B[38;5;124m'\u001B[39m: page_id,\n\u001B[1;32m     12\u001B[0m             \u001B[38;5;124m'\u001B[39m\u001B[38;5;124mgenerated_questions\u001B[39m\u001B[38;5;124m'\u001B[39m: generated_questions}\n\u001B[1;32m     13\u001B[0m     \u001B[38;5;28mall\u001B[39m\u001B[38;5;241m.\u001B[39mappend(data)\n",
      "\u001B[0;31mNameError\u001B[0m: name 'ask_gpt' is not defined"
     ]
    }
   ],
   "source": [
    "all = []\n",
    "for i, page in tqdm(enumerate(all_chunks)):\n",
    "    page_id = str(uuid.uuid4())\n",
    "    for chunk in enumerate(page):\n",
    "        nth_chunk, text_chunk = chunk\n",
    "        generated_questions = ask_gpt(chunk)\n",
    "        data = {'chunk_id': f'{page_id}_{nth_chunk}', \n",
    "                'text_chunk': text_chunk,\n",
    "                'page_id': page_id,\n",
    "                'generated_questions': generated_questions}\n",
    "        all.append(data)"
   ],
   "metadata": {
    "collapsed": false,
    "ExecuteTime": {
     "end_time": "2024-07-08T20:19:00.298434Z",
     "start_time": "2024-07-08T20:18:59.994928Z"
    }
   },
   "id": "4d82303b65bbd47",
   "execution_count": 6
  },
  {
   "cell_type": "code",
   "outputs": [
    {
     "data": {
      "text/plain": "                                   chunk_id  \\\n0    a85d0bcd-8bd8-4f01-8a12-afd186aa2381_0   \n1    a85d0bcd-8bd8-4f01-8a12-afd186aa2381_1   \n2    a85d0bcd-8bd8-4f01-8a12-afd186aa2381_2   \n3    a85d0bcd-8bd8-4f01-8a12-afd186aa2381_3   \n4    a85d0bcd-8bd8-4f01-8a12-afd186aa2381_4   \n..                                      ...   \n246  c38a3854-eb6b-41cd-b18c-22ff37a56130_5   \n247  c38a3854-eb6b-41cd-b18c-22ff37a56130_6   \n248  c38a3854-eb6b-41cd-b18c-22ff37a56130_7   \n249  3013532f-7032-49d0-839d-2093d1d4a2fe_0   \n250  3013532f-7032-49d0-839d-2093d1d4a2fe_1   \n\n                                            text_chunk  \\\n0    ©Kancelaria Sejmu \\n \\n \\n \\ns. 1/44 \\n \\n \\n ...   \n1    przedsiębiorstwa; \\n3) \\nzasady i tryb wykonan...   \n2    1) dyrektywę Parlamentu Europejskiego i Rady 2...   \n3    str. 64, z późn. zm.), ostatnio zmienioną dyre...   \n4    90/619/EWG oraz dyrektywy 97/7/WE i 98/27/WE (...   \n..                                                 ...   \n246  – Jeżeli, w przypadku umów zawieranych poza lo...   \n247  inny niż było to konieczne do stwierdzenia cha...   \n248  cieplnej [niepotrzebne skreślić] przed upływem...   \n249  ©Kancelaria Sejmu \\n \\n \\n \\ns. 44/44 \\n \\n \\n...   \n250  umowy dostawy następujących  towarów(*) umowy ...   \n\n                                  page_id  \\\n0    a85d0bcd-8bd8-4f01-8a12-afd186aa2381   \n1    a85d0bcd-8bd8-4f01-8a12-afd186aa2381   \n2    a85d0bcd-8bd8-4f01-8a12-afd186aa2381   \n3    a85d0bcd-8bd8-4f01-8a12-afd186aa2381   \n4    a85d0bcd-8bd8-4f01-8a12-afd186aa2381   \n..                                    ...   \n246  c38a3854-eb6b-41cd-b18c-22ff37a56130   \n247  c38a3854-eb6b-41cd-b18c-22ff37a56130   \n248  c38a3854-eb6b-41cd-b18c-22ff37a56130   \n249  3013532f-7032-49d0-839d-2093d1d4a2fe   \n250  3013532f-7032-49d0-839d-2093d1d4a2fe   \n\n                                   generated_questions  \n0    - Jakie prawa określa ustawa z dnia 30 maja 20...  \n1    - Jakie są zasady i tryb wykonania prawa odstą...  \n2    - Jakie konkretnie prawa konsumentów reguluje ...  \n3    - Jakie zmiany wprowadziła dyrektywa Parlament...  \n4    - Jakie są główne dyrektywy Unii Europejskiej ...  \n..                                                 ...  \n246  - Czy istnieją określone warunki, które muszą ...  \n247  - Czy istnieją określone przepisy dotyczące st...  \n248  - Jakie są konsekwencje dla klienta, jeśli zde...  \n249  - Czy formularz odstąpienia od umowy musi być ...  \n250  - Czy umowy dostawy towarów i umowy o dzieło s...  \n\n[251 rows x 4 columns]",
      "text/html": "<div>\n<style scoped>\n    .dataframe tbody tr th:only-of-type {\n        vertical-align: middle;\n    }\n\n    .dataframe tbody tr th {\n        vertical-align: top;\n    }\n\n    .dataframe thead th {\n        text-align: right;\n    }\n</style>\n<table border=\"1\" class=\"dataframe\">\n  <thead>\n    <tr style=\"text-align: right;\">\n      <th></th>\n      <th>chunk_id</th>\n      <th>text_chunk</th>\n      <th>page_id</th>\n      <th>generated_questions</th>\n    </tr>\n  </thead>\n  <tbody>\n    <tr>\n      <th>0</th>\n      <td>a85d0bcd-8bd8-4f01-8a12-afd186aa2381_0</td>\n      <td>©Kancelaria Sejmu \\n \\n \\n \\ns. 1/44 \\n \\n \\n ...</td>\n      <td>a85d0bcd-8bd8-4f01-8a12-afd186aa2381</td>\n      <td>- Jakie prawa określa ustawa z dnia 30 maja 20...</td>\n    </tr>\n    <tr>\n      <th>1</th>\n      <td>a85d0bcd-8bd8-4f01-8a12-afd186aa2381_1</td>\n      <td>przedsiębiorstwa; \\n3) \\nzasady i tryb wykonan...</td>\n      <td>a85d0bcd-8bd8-4f01-8a12-afd186aa2381</td>\n      <td>- Jakie są zasady i tryb wykonania prawa odstą...</td>\n    </tr>\n    <tr>\n      <th>2</th>\n      <td>a85d0bcd-8bd8-4f01-8a12-afd186aa2381_2</td>\n      <td>1) dyrektywę Parlamentu Europejskiego i Rady 2...</td>\n      <td>a85d0bcd-8bd8-4f01-8a12-afd186aa2381</td>\n      <td>- Jakie konkretnie prawa konsumentów reguluje ...</td>\n    </tr>\n    <tr>\n      <th>3</th>\n      <td>a85d0bcd-8bd8-4f01-8a12-afd186aa2381_3</td>\n      <td>str. 64, z późn. zm.), ostatnio zmienioną dyre...</td>\n      <td>a85d0bcd-8bd8-4f01-8a12-afd186aa2381</td>\n      <td>- Jakie zmiany wprowadziła dyrektywa Parlament...</td>\n    </tr>\n    <tr>\n      <th>4</th>\n      <td>a85d0bcd-8bd8-4f01-8a12-afd186aa2381_4</td>\n      <td>90/619/EWG oraz dyrektywy 97/7/WE i 98/27/WE (...</td>\n      <td>a85d0bcd-8bd8-4f01-8a12-afd186aa2381</td>\n      <td>- Jakie są główne dyrektywy Unii Europejskiej ...</td>\n    </tr>\n    <tr>\n      <th>...</th>\n      <td>...</td>\n      <td>...</td>\n      <td>...</td>\n      <td>...</td>\n    </tr>\n    <tr>\n      <th>246</th>\n      <td>c38a3854-eb6b-41cd-b18c-22ff37a56130_5</td>\n      <td>– Jeżeli, w przypadku umów zawieranych poza lo...</td>\n      <td>c38a3854-eb6b-41cd-b18c-22ff37a56130</td>\n      <td>- Czy istnieją określone warunki, które muszą ...</td>\n    </tr>\n    <tr>\n      <th>247</th>\n      <td>c38a3854-eb6b-41cd-b18c-22ff37a56130_6</td>\n      <td>inny niż było to konieczne do stwierdzenia cha...</td>\n      <td>c38a3854-eb6b-41cd-b18c-22ff37a56130</td>\n      <td>- Czy istnieją określone przepisy dotyczące st...</td>\n    </tr>\n    <tr>\n      <th>248</th>\n      <td>c38a3854-eb6b-41cd-b18c-22ff37a56130_7</td>\n      <td>cieplnej [niepotrzebne skreślić] przed upływem...</td>\n      <td>c38a3854-eb6b-41cd-b18c-22ff37a56130</td>\n      <td>- Jakie są konsekwencje dla klienta, jeśli zde...</td>\n    </tr>\n    <tr>\n      <th>249</th>\n      <td>3013532f-7032-49d0-839d-2093d1d4a2fe_0</td>\n      <td>©Kancelaria Sejmu \\n \\n \\n \\ns. 44/44 \\n \\n \\n...</td>\n      <td>3013532f-7032-49d0-839d-2093d1d4a2fe</td>\n      <td>- Czy formularz odstąpienia od umowy musi być ...</td>\n    </tr>\n    <tr>\n      <th>250</th>\n      <td>3013532f-7032-49d0-839d-2093d1d4a2fe_1</td>\n      <td>umowy dostawy następujących  towarów(*) umowy ...</td>\n      <td>3013532f-7032-49d0-839d-2093d1d4a2fe</td>\n      <td>- Czy umowy dostawy towarów i umowy o dzieło s...</td>\n    </tr>\n  </tbody>\n</table>\n<p>251 rows × 4 columns</p>\n</div>"
     },
     "execution_count": 57,
     "metadata": {},
     "output_type": "execute_result"
    }
   ],
   "source": [
    "df = pd.DataFrame.from_dict(data=all)\n",
    "df"
   ],
   "metadata": {
    "collapsed": false,
    "ExecuteTime": {
     "end_time": "2024-07-02T21:09:47.161279Z",
     "start_time": "2024-07-02T21:09:47.134941Z"
    }
   },
   "id": "4ab9600a6fef8f1f",
   "execution_count": 57
  },
  {
   "cell_type": "code",
   "outputs": [],
   "source": [
    "# Saving checkpoint\n",
    "df.to_excel('data/questions_and_chunks.xlsx')"
   ],
   "metadata": {
    "collapsed": false,
    "ExecuteTime": {
     "end_time": "2024-07-02T21:10:47.985365Z",
     "start_time": "2024-07-02T21:10:47.822674Z"
    }
   },
   "id": "e2ba02ab1e7a4d6",
   "execution_count": 59
  },
  {
   "cell_type": "code",
   "outputs": [],
   "source": [
    "df = pd.read_excel('data/questions_and_chunks.xlsx', index_col=0)"
   ],
   "metadata": {
    "collapsed": false,
    "ExecuteTime": {
     "end_time": "2024-07-08T20:45:33.339246Z",
     "start_time": "2024-07-08T20:45:33.284755Z"
    }
   },
   "id": "b19dd0b008b72db2",
   "execution_count": 14
  },
  {
   "cell_type": "code",
   "outputs": [
    {
     "data": {
      "text/plain": "                                   chunk_id  \\\n0    a85d0bcd-8bd8-4f01-8a12-afd186aa2381_0   \n1    a85d0bcd-8bd8-4f01-8a12-afd186aa2381_1   \n2    a85d0bcd-8bd8-4f01-8a12-afd186aa2381_2   \n3    a85d0bcd-8bd8-4f01-8a12-afd186aa2381_3   \n4    a85d0bcd-8bd8-4f01-8a12-afd186aa2381_4   \n..                                      ...   \n246  c38a3854-eb6b-41cd-b18c-22ff37a56130_5   \n247  c38a3854-eb6b-41cd-b18c-22ff37a56130_6   \n248  c38a3854-eb6b-41cd-b18c-22ff37a56130_7   \n249  3013532f-7032-49d0-839d-2093d1d4a2fe_0   \n250  3013532f-7032-49d0-839d-2093d1d4a2fe_1   \n\n                                            text_chunk  \\\n0    ©Kancelaria Sejmu \\n \\n \\n \\ns. 1/44 \\n \\n \\n ...   \n1    przedsiębiorstwa; \\n3) \\nzasady i tryb wykonan...   \n2    1) dyrektywę Parlamentu Europejskiego i Rady 2...   \n3    str. 64, z późn. zm.), ostatnio zmienioną dyre...   \n4    90/619/EWG oraz dyrektywy 97/7/WE i 98/27/WE (...   \n..                                                 ...   \n246  – Jeżeli, w przypadku umów zawieranych poza lo...   \n247  inny niż było to konieczne do stwierdzenia cha...   \n248  cieplnej [niepotrzebne skreślić] przed upływem...   \n249  ©Kancelaria Sejmu \\n \\n \\n \\ns. 44/44 \\n \\n \\n...   \n250  umowy dostawy następujących  towarów(*) umowy ...   \n\n                                  page_id  \\\n0    a85d0bcd-8bd8-4f01-8a12-afd186aa2381   \n1    a85d0bcd-8bd8-4f01-8a12-afd186aa2381   \n2    a85d0bcd-8bd8-4f01-8a12-afd186aa2381   \n3    a85d0bcd-8bd8-4f01-8a12-afd186aa2381   \n4    a85d0bcd-8bd8-4f01-8a12-afd186aa2381   \n..                                    ...   \n246  c38a3854-eb6b-41cd-b18c-22ff37a56130   \n247  c38a3854-eb6b-41cd-b18c-22ff37a56130   \n248  c38a3854-eb6b-41cd-b18c-22ff37a56130   \n249  3013532f-7032-49d0-839d-2093d1d4a2fe   \n250  3013532f-7032-49d0-839d-2093d1d4a2fe   \n\n                                   generated_questions  \n0    - Jakie prawa określa ustawa z dnia 30 maja 20...  \n1    - Jakie są zasady i tryb wykonania prawa odstą...  \n2    - Jakie konkretnie prawa konsumentów reguluje ...  \n3    - Jakie zmiany wprowadziła dyrektywa Parlament...  \n4    - Jakie są główne dyrektywy Unii Europejskiej ...  \n..                                                 ...  \n246  - Czy istnieją określone warunki, które muszą ...  \n247  - Czy istnieją określone przepisy dotyczące st...  \n248  - Jakie są konsekwencje dla klienta, jeśli zde...  \n249  - Czy formularz odstąpienia od umowy musi być ...  \n250  - Czy umowy dostawy towarów i umowy o dzieło s...  \n\n[251 rows x 4 columns]",
      "text/html": "<div>\n<style scoped>\n    .dataframe tbody tr th:only-of-type {\n        vertical-align: middle;\n    }\n\n    .dataframe tbody tr th {\n        vertical-align: top;\n    }\n\n    .dataframe thead th {\n        text-align: right;\n    }\n</style>\n<table border=\"1\" class=\"dataframe\">\n  <thead>\n    <tr style=\"text-align: right;\">\n      <th></th>\n      <th>chunk_id</th>\n      <th>text_chunk</th>\n      <th>page_id</th>\n      <th>generated_questions</th>\n    </tr>\n  </thead>\n  <tbody>\n    <tr>\n      <th>0</th>\n      <td>a85d0bcd-8bd8-4f01-8a12-afd186aa2381_0</td>\n      <td>©Kancelaria Sejmu \\n \\n \\n \\ns. 1/44 \\n \\n \\n ...</td>\n      <td>a85d0bcd-8bd8-4f01-8a12-afd186aa2381</td>\n      <td>- Jakie prawa określa ustawa z dnia 30 maja 20...</td>\n    </tr>\n    <tr>\n      <th>1</th>\n      <td>a85d0bcd-8bd8-4f01-8a12-afd186aa2381_1</td>\n      <td>przedsiębiorstwa; \\n3) \\nzasady i tryb wykonan...</td>\n      <td>a85d0bcd-8bd8-4f01-8a12-afd186aa2381</td>\n      <td>- Jakie są zasady i tryb wykonania prawa odstą...</td>\n    </tr>\n    <tr>\n      <th>2</th>\n      <td>a85d0bcd-8bd8-4f01-8a12-afd186aa2381_2</td>\n      <td>1) dyrektywę Parlamentu Europejskiego i Rady 2...</td>\n      <td>a85d0bcd-8bd8-4f01-8a12-afd186aa2381</td>\n      <td>- Jakie konkretnie prawa konsumentów reguluje ...</td>\n    </tr>\n    <tr>\n      <th>3</th>\n      <td>a85d0bcd-8bd8-4f01-8a12-afd186aa2381_3</td>\n      <td>str. 64, z późn. zm.), ostatnio zmienioną dyre...</td>\n      <td>a85d0bcd-8bd8-4f01-8a12-afd186aa2381</td>\n      <td>- Jakie zmiany wprowadziła dyrektywa Parlament...</td>\n    </tr>\n    <tr>\n      <th>4</th>\n      <td>a85d0bcd-8bd8-4f01-8a12-afd186aa2381_4</td>\n      <td>90/619/EWG oraz dyrektywy 97/7/WE i 98/27/WE (...</td>\n      <td>a85d0bcd-8bd8-4f01-8a12-afd186aa2381</td>\n      <td>- Jakie są główne dyrektywy Unii Europejskiej ...</td>\n    </tr>\n    <tr>\n      <th>...</th>\n      <td>...</td>\n      <td>...</td>\n      <td>...</td>\n      <td>...</td>\n    </tr>\n    <tr>\n      <th>246</th>\n      <td>c38a3854-eb6b-41cd-b18c-22ff37a56130_5</td>\n      <td>– Jeżeli, w przypadku umów zawieranych poza lo...</td>\n      <td>c38a3854-eb6b-41cd-b18c-22ff37a56130</td>\n      <td>- Czy istnieją określone warunki, które muszą ...</td>\n    </tr>\n    <tr>\n      <th>247</th>\n      <td>c38a3854-eb6b-41cd-b18c-22ff37a56130_6</td>\n      <td>inny niż było to konieczne do stwierdzenia cha...</td>\n      <td>c38a3854-eb6b-41cd-b18c-22ff37a56130</td>\n      <td>- Czy istnieją określone przepisy dotyczące st...</td>\n    </tr>\n    <tr>\n      <th>248</th>\n      <td>c38a3854-eb6b-41cd-b18c-22ff37a56130_7</td>\n      <td>cieplnej [niepotrzebne skreślić] przed upływem...</td>\n      <td>c38a3854-eb6b-41cd-b18c-22ff37a56130</td>\n      <td>- Jakie są konsekwencje dla klienta, jeśli zde...</td>\n    </tr>\n    <tr>\n      <th>249</th>\n      <td>3013532f-7032-49d0-839d-2093d1d4a2fe_0</td>\n      <td>©Kancelaria Sejmu \\n \\n \\n \\ns. 44/44 \\n \\n \\n...</td>\n      <td>3013532f-7032-49d0-839d-2093d1d4a2fe</td>\n      <td>- Czy formularz odstąpienia od umowy musi być ...</td>\n    </tr>\n    <tr>\n      <th>250</th>\n      <td>3013532f-7032-49d0-839d-2093d1d4a2fe_1</td>\n      <td>umowy dostawy następujących  towarów(*) umowy ...</td>\n      <td>3013532f-7032-49d0-839d-2093d1d4a2fe</td>\n      <td>- Czy umowy dostawy towarów i umowy o dzieło s...</td>\n    </tr>\n  </tbody>\n</table>\n<p>251 rows × 4 columns</p>\n</div>"
     },
     "execution_count": 15,
     "metadata": {},
     "output_type": "execute_result"
    }
   ],
   "source": [
    "df"
   ],
   "metadata": {
    "collapsed": false,
    "ExecuteTime": {
     "end_time": "2024-07-08T20:45:34.060587Z",
     "start_time": "2024-07-08T20:45:34.049342Z"
    }
   },
   "id": "8a6efd2115bbcf61",
   "execution_count": 15
  },
  {
   "cell_type": "code",
   "outputs": [],
   "source": [
    "df['generated_questions_array'] = df['generated_questions'].str.split('\\n')"
   ],
   "metadata": {
    "collapsed": false,
    "ExecuteTime": {
     "end_time": "2024-07-08T20:56:17.848923Z",
     "start_time": "2024-07-08T20:56:17.841954Z"
    }
   },
   "id": "35b9ee452b7a2150",
   "execution_count": 19
  },
  {
   "cell_type": "code",
   "outputs": [
    {
     "data": {
      "text/plain": "(753, 5)"
     },
     "execution_count": 37,
     "metadata": {},
     "output_type": "execute_result"
    }
   ],
   "source": [
    "df.shape"
   ],
   "metadata": {
    "collapsed": false,
    "ExecuteTime": {
     "end_time": "2024-07-09T20:18:43.925712Z",
     "start_time": "2024-07-09T20:18:43.920504Z"
    }
   },
   "id": "2fcf606ac70cfd95",
   "execution_count": 37
  },
  {
   "cell_type": "code",
   "outputs": [
    {
     "data": {
      "text/plain": "                                   chunk_id  \\\n0    a85d0bcd-8bd8-4f01-8a12-afd186aa2381_0   \n0    a85d0bcd-8bd8-4f01-8a12-afd186aa2381_0   \n0    a85d0bcd-8bd8-4f01-8a12-afd186aa2381_0   \n0    a85d0bcd-8bd8-4f01-8a12-afd186aa2381_0   \n0    a85d0bcd-8bd8-4f01-8a12-afd186aa2381_0   \n..                                      ...   \n249  3013532f-7032-49d0-839d-2093d1d4a2fe_0   \n249  3013532f-7032-49d0-839d-2093d1d4a2fe_0   \n250  3013532f-7032-49d0-839d-2093d1d4a2fe_1   \n250  3013532f-7032-49d0-839d-2093d1d4a2fe_1   \n250  3013532f-7032-49d0-839d-2093d1d4a2fe_1   \n\n                                            text_chunk  \\\n0    ©Kancelaria Sejmu \\n \\n \\n \\ns. 1/44 \\n \\n \\n ...   \n0    ©Kancelaria Sejmu \\n \\n \\n \\ns. 1/44 \\n \\n \\n ...   \n0    ©Kancelaria Sejmu \\n \\n \\n \\ns. 1/44 \\n \\n \\n ...   \n0    ©Kancelaria Sejmu \\n \\n \\n \\ns. 1/44 \\n \\n \\n ...   \n0    ©Kancelaria Sejmu \\n \\n \\n \\ns. 1/44 \\n \\n \\n ...   \n..                                                 ...   \n249  ©Kancelaria Sejmu \\n \\n \\n \\ns. 44/44 \\n \\n \\n...   \n249  ©Kancelaria Sejmu \\n \\n \\n \\ns. 44/44 \\n \\n \\n...   \n250  umowy dostawy następujących  towarów(*) umowy ...   \n250  umowy dostawy następujących  towarów(*) umowy ...   \n250  umowy dostawy następujących  towarów(*) umowy ...   \n\n                                  page_id  \\\n0    a85d0bcd-8bd8-4f01-8a12-afd186aa2381   \n0    a85d0bcd-8bd8-4f01-8a12-afd186aa2381   \n0    a85d0bcd-8bd8-4f01-8a12-afd186aa2381   \n0    a85d0bcd-8bd8-4f01-8a12-afd186aa2381   \n0    a85d0bcd-8bd8-4f01-8a12-afd186aa2381   \n..                                    ...   \n249  3013532f-7032-49d0-839d-2093d1d4a2fe   \n249  3013532f-7032-49d0-839d-2093d1d4a2fe   \n250  3013532f-7032-49d0-839d-2093d1d4a2fe   \n250  3013532f-7032-49d0-839d-2093d1d4a2fe   \n250  3013532f-7032-49d0-839d-2093d1d4a2fe   \n\n                                   generated_questions  \\\n0    - Jakie prawa określa ustawa z dnia 30 maja 20...   \n0    - Jakie prawa określa ustawa z dnia 30 maja 20...   \n0    - Jakie prawa określa ustawa z dnia 30 maja 20...   \n0    - Jakie prawa określa ustawa z dnia 30 maja 20...   \n0    - Jakie prawa określa ustawa z dnia 30 maja 20...   \n..                                                 ...   \n249  - Czy formularz odstąpienia od umowy musi być ...   \n249  - Czy formularz odstąpienia od umowy musi być ...   \n250  - Czy umowy dostawy towarów i umowy o dzieło s...   \n250  - Czy umowy dostawy towarów i umowy o dzieło s...   \n250  - Czy umowy dostawy towarów i umowy o dzieło s...   \n\n                             generated_questions_array  \n0    - Jakie prawa określa ustawa z dnia 30 maja 20...  \n0                                                       \n0    - Jakie obowiązki ma przedsiębiorca zawierając...  \n0                                                       \n0    - W jaki sposób regulowane są zasady i tryb za...  \n..                                                 ...  \n249                                                     \n249  - Czy istnieją okoliczności, w których odstąpi...  \n250  - Czy umowy dostawy towarów i umowy o dzieło s...  \n250  - Jakie są konsekwencje prawne braku podpisu k...  \n250  - Czy istnieją szczególne wymagania co do daty...  \n\n[965 rows x 5 columns]",
      "text/html": "<div>\n<style scoped>\n    .dataframe tbody tr th:only-of-type {\n        vertical-align: middle;\n    }\n\n    .dataframe tbody tr th {\n        vertical-align: top;\n    }\n\n    .dataframe thead th {\n        text-align: right;\n    }\n</style>\n<table border=\"1\" class=\"dataframe\">\n  <thead>\n    <tr style=\"text-align: right;\">\n      <th></th>\n      <th>chunk_id</th>\n      <th>text_chunk</th>\n      <th>page_id</th>\n      <th>generated_questions</th>\n      <th>generated_questions_array</th>\n    </tr>\n  </thead>\n  <tbody>\n    <tr>\n      <th>0</th>\n      <td>a85d0bcd-8bd8-4f01-8a12-afd186aa2381_0</td>\n      <td>©Kancelaria Sejmu \\n \\n \\n \\ns. 1/44 \\n \\n \\n ...</td>\n      <td>a85d0bcd-8bd8-4f01-8a12-afd186aa2381</td>\n      <td>- Jakie prawa określa ustawa z dnia 30 maja 20...</td>\n      <td>- Jakie prawa określa ustawa z dnia 30 maja 20...</td>\n    </tr>\n    <tr>\n      <th>0</th>\n      <td>a85d0bcd-8bd8-4f01-8a12-afd186aa2381_0</td>\n      <td>©Kancelaria Sejmu \\n \\n \\n \\ns. 1/44 \\n \\n \\n ...</td>\n      <td>a85d0bcd-8bd8-4f01-8a12-afd186aa2381</td>\n      <td>- Jakie prawa określa ustawa z dnia 30 maja 20...</td>\n      <td></td>\n    </tr>\n    <tr>\n      <th>0</th>\n      <td>a85d0bcd-8bd8-4f01-8a12-afd186aa2381_0</td>\n      <td>©Kancelaria Sejmu \\n \\n \\n \\ns. 1/44 \\n \\n \\n ...</td>\n      <td>a85d0bcd-8bd8-4f01-8a12-afd186aa2381</td>\n      <td>- Jakie prawa określa ustawa z dnia 30 maja 20...</td>\n      <td>- Jakie obowiązki ma przedsiębiorca zawierając...</td>\n    </tr>\n    <tr>\n      <th>0</th>\n      <td>a85d0bcd-8bd8-4f01-8a12-afd186aa2381_0</td>\n      <td>©Kancelaria Sejmu \\n \\n \\n \\ns. 1/44 \\n \\n \\n ...</td>\n      <td>a85d0bcd-8bd8-4f01-8a12-afd186aa2381</td>\n      <td>- Jakie prawa określa ustawa z dnia 30 maja 20...</td>\n      <td></td>\n    </tr>\n    <tr>\n      <th>0</th>\n      <td>a85d0bcd-8bd8-4f01-8a12-afd186aa2381_0</td>\n      <td>©Kancelaria Sejmu \\n \\n \\n \\ns. 1/44 \\n \\n \\n ...</td>\n      <td>a85d0bcd-8bd8-4f01-8a12-afd186aa2381</td>\n      <td>- Jakie prawa określa ustawa z dnia 30 maja 20...</td>\n      <td>- W jaki sposób regulowane są zasady i tryb za...</td>\n    </tr>\n    <tr>\n      <th>...</th>\n      <td>...</td>\n      <td>...</td>\n      <td>...</td>\n      <td>...</td>\n      <td>...</td>\n    </tr>\n    <tr>\n      <th>249</th>\n      <td>3013532f-7032-49d0-839d-2093d1d4a2fe_0</td>\n      <td>©Kancelaria Sejmu \\n \\n \\n \\ns. 44/44 \\n \\n \\n...</td>\n      <td>3013532f-7032-49d0-839d-2093d1d4a2fe</td>\n      <td>- Czy formularz odstąpienia od umowy musi być ...</td>\n      <td></td>\n    </tr>\n    <tr>\n      <th>249</th>\n      <td>3013532f-7032-49d0-839d-2093d1d4a2fe_0</td>\n      <td>©Kancelaria Sejmu \\n \\n \\n \\ns. 44/44 \\n \\n \\n...</td>\n      <td>3013532f-7032-49d0-839d-2093d1d4a2fe</td>\n      <td>- Czy formularz odstąpienia od umowy musi być ...</td>\n      <td>- Czy istnieją okoliczności, w których odstąpi...</td>\n    </tr>\n    <tr>\n      <th>250</th>\n      <td>3013532f-7032-49d0-839d-2093d1d4a2fe_1</td>\n      <td>umowy dostawy następujących  towarów(*) umowy ...</td>\n      <td>3013532f-7032-49d0-839d-2093d1d4a2fe</td>\n      <td>- Czy umowy dostawy towarów i umowy o dzieło s...</td>\n      <td>- Czy umowy dostawy towarów i umowy o dzieło s...</td>\n    </tr>\n    <tr>\n      <th>250</th>\n      <td>3013532f-7032-49d0-839d-2093d1d4a2fe_1</td>\n      <td>umowy dostawy następujących  towarów(*) umowy ...</td>\n      <td>3013532f-7032-49d0-839d-2093d1d4a2fe</td>\n      <td>- Czy umowy dostawy towarów i umowy o dzieło s...</td>\n      <td>- Jakie są konsekwencje prawne braku podpisu k...</td>\n    </tr>\n    <tr>\n      <th>250</th>\n      <td>3013532f-7032-49d0-839d-2093d1d4a2fe_1</td>\n      <td>umowy dostawy następujących  towarów(*) umowy ...</td>\n      <td>3013532f-7032-49d0-839d-2093d1d4a2fe</td>\n      <td>- Czy umowy dostawy towarów i umowy o dzieło s...</td>\n      <td>- Czy istnieją szczególne wymagania co do daty...</td>\n    </tr>\n  </tbody>\n</table>\n<p>965 rows × 5 columns</p>\n</div>"
     },
     "execution_count": 24,
     "metadata": {},
     "output_type": "execute_result"
    }
   ],
   "source": [
    "df = df.explode('generated_questions_array')\n",
    "df"
   ],
   "metadata": {
    "collapsed": false,
    "ExecuteTime": {
     "end_time": "2024-07-08T20:59:02.420135Z",
     "start_time": "2024-07-08T20:59:02.408378Z"
    }
   },
   "id": "eabd8b26d666c584",
   "execution_count": 24
  },
  {
   "cell_type": "code",
   "outputs": [
    {
     "data": {
      "text/plain": "(753, 5)"
     },
     "execution_count": 36,
     "metadata": {},
     "output_type": "execute_result"
    }
   ],
   "source": [
    "df = df[~df['generated_questions_array'].isna()]\n",
    "df.shape"
   ],
   "metadata": {
    "collapsed": false,
    "ExecuteTime": {
     "end_time": "2024-07-09T20:18:21.688242Z",
     "start_time": "2024-07-09T20:18:21.678190Z"
    }
   },
   "id": "79a82f044436346b",
   "execution_count": 36
  },
  {
   "cell_type": "code",
   "outputs": [],
   "source": [
    "\n",
    "\n",
    "df['generated_questions_array']  = df['generated_questions_array'].replace(r'^\\s*$', np.nan, regex=True)"
   ],
   "metadata": {
    "collapsed": false,
    "ExecuteTime": {
     "end_time": "2024-07-09T20:18:19.993967Z",
     "start_time": "2024-07-09T20:18:19.989405Z"
    }
   },
   "id": "b1af6142c034cee2",
   "execution_count": 35
  },
  {
   "cell_type": "code",
   "outputs": [],
   "source": [
    "df['answer'] = df.apply(lambda x: complex_ask_gpt(x['text_chunk'], x['generated_questions_array']), axis=1)"
   ],
   "metadata": {
    "collapsed": false,
    "ExecuteTime": {
     "end_time": "2024-07-09T21:36:13.022577Z",
     "start_time": "2024-07-09T21:02:20.040785Z"
    }
   },
   "id": "52c677467cd4e8a9",
   "execution_count": 47
  },
  {
   "cell_type": "code",
   "outputs": [],
   "source": [
    "df.to_excel('data/data_with_answers.xlsx')"
   ],
   "metadata": {
    "collapsed": false,
    "ExecuteTime": {
     "end_time": "2024-07-11T19:29:56.685258Z",
     "start_time": "2024-07-11T19:29:56.505470Z"
    }
   },
   "id": "7ffc4b48b6b238b0",
   "execution_count": 53
  },
  {
   "cell_type": "code",
   "outputs": [
    {
     "ename": "NameError",
     "evalue": "name 'new_data' is not defined",
     "output_type": "error",
     "traceback": [
      "\u001B[0;31m---------------------------------------------------------------------------\u001B[0m",
      "\u001B[0;31mNameError\u001B[0m                                 Traceback (most recent call last)",
      "Cell \u001B[0;32mIn[58], line 1\u001B[0m\n\u001B[0;32m----> 1\u001B[0m new_data[\u001B[38;5;124m'\u001B[39m\u001B[38;5;124mcoverage_rating\u001B[39m\u001B[38;5;124m'\u001B[39m] \u001B[38;5;241m=\u001B[39m \u001B[43mnew_data\u001B[49m\u001B[38;5;241m.\u001B[39mapply(\u001B[38;5;28;01mlambda\u001B[39;00m x: get_covarage_by_gpt(question\u001B[38;5;241m=\u001B[39mx[\u001B[38;5;124m'\u001B[39m\u001B[38;5;124mgenerated_questions_array\u001B[39m\u001B[38;5;124m'\u001B[39m], context\u001B[38;5;241m=\u001B[39mx[\u001B[38;5;124m'\u001B[39m\u001B[38;5;124mtext_chunk\u001B[39m\u001B[38;5;124m'\u001B[39m]), axis\u001B[38;5;241m=\u001B[39m\u001B[38;5;241m1\u001B[39m)\n",
      "\u001B[0;31mNameError\u001B[0m: name 'new_data' is not defined"
     ]
    }
   ],
   "source": [
    "df['coverage_rating'] = df.apply(lambda x: get_covarage_by_gpt(question=x['generated_questions_array'], context=x['text_chunk']), axis=1)"
   ],
   "metadata": {
    "collapsed": false,
    "ExecuteTime": {
     "end_time": "2024-07-17T20:42:13.774061Z",
     "start_time": "2024-07-17T20:42:13.731778Z"
    }
   },
   "id": "2236331b1ab02459",
   "execution_count": 58
  },
  {
   "cell_type": "code",
   "outputs": [
    {
     "data": {
      "text/plain": "coverage_rating_no_answer\n5    707\n4     37\n1      6\n2      2\n3      1\nName: count, dtype: int64"
     },
     "execution_count": 67,
     "metadata": {},
     "output_type": "execute_result"
    }
   ],
   "source": [
    "df['coverage_rating_no_answer'].value_counts()"
   ],
   "metadata": {
    "collapsed": false,
    "ExecuteTime": {
     "end_time": "2024-07-11T21:29:56.661173Z",
     "start_time": "2024-07-11T21:29:56.649253Z"
    }
   },
   "id": "28bcecc24f489b2f",
   "execution_count": 67
  },
  {
   "cell_type": "code",
   "outputs": [],
   "source": [
    "df.to_excel('data/data_with_answers_and_cov.xlsx')"
   ],
   "metadata": {
    "collapsed": false,
    "ExecuteTime": {
     "end_time": "2024-07-11T21:09:01.024201Z",
     "start_time": "2024-07-11T21:09:00.823122Z"
    }
   },
   "id": "c7f4a8519c997e1d",
   "execution_count": 63
  },
  {
   "cell_type": "code",
   "outputs": [],
   "source": [
    "df = pd.read_excel('data/data_without_stopdwords.xlsx')"
   ],
   "metadata": {
    "collapsed": false,
    "ExecuteTime": {
     "end_time": "2024-07-13T22:24:51.865930Z",
     "start_time": "2024-07-13T22:24:51.532076Z"
    }
   },
   "id": "d50319cc9166157",
   "execution_count": 4
  },
  {
   "cell_type": "code",
   "outputs": [
    {
     "name": "stdout",
     "output_type": "stream",
     "text": [
      "['a', 'aby', 'ach', 'acz', 'aczkolwiek', 'aj', 'albo', 'ale', 'alez', 'ależ', 'ani', 'az', 'aż', 'bardziej', 'bardzo', 'beda', 'bedzie', 'bez', 'deda', 'będą', 'bede', 'będę', 'będzie', 'bo', 'bowiem', 'by', 'byc', 'być', 'byl', 'byla', 'byli', 'bylo', 'byly', 'był', 'była', 'było', 'były', 'bynajmniej', 'cala', 'cali', 'caly', 'cała', 'cały', 'ci', 'cie', 'ciebie', 'cię', 'co', 'cokolwiek', 'cos', 'coś', 'czasami', 'czasem', 'czemu', 'czy', 'czyli', 'daleko', 'dla', 'dlaczego', 'dlatego', 'do', 'dobrze', 'dokad', 'dokąd', 'dosc', 'dość', 'duzo', 'dużo', 'dwa', 'dwaj', 'dwie', 'dwoje', 'dzis', 'dzisiaj', 'dziś', 'gdy', 'gdyby', 'gdyz', 'gdyż', 'gdzie', 'gdziekolwiek', 'gdzies', 'gdzieś', 'go', 'i', 'ich', 'ile', 'im', 'inna', 'inne', 'inny', 'innych', 'iz', 'iż', 'ja', 'jak', 'jakas', 'jakaś', 'jakby', 'jaki', 'jakichs', 'jakichś', 'jakie', 'jakis', 'jakiś', 'jakiz', 'jakiż', 'jakkolwiek', 'jako', 'jakos', 'jakoś', 'ją', 'je', 'jeden', 'jedna', 'jednak', 'jednakze', 'jednakże', 'jedno', 'jego', 'jej', 'jemu', 'jesli', 'jest', 'jestem', 'jeszcze', 'jeśli', 'jezeli', 'jeżeli', 'juz', 'już', 'kazdy', 'każdy', 'kiedy', 'kilka', 'kims', 'kimś', 'kto', 'ktokolwiek', 'ktora', 'ktore', 'ktorego', 'ktorej', 'ktory', 'ktorych', 'ktorym', 'ktorzy', 'ktos', 'ktoś', 'która', 'które', 'którego', 'której', 'który', 'których', 'którym', 'którzy', 'ku', 'lat', 'lecz', 'lub', 'ma', 'mają', 'mało', 'mam', 'mi', 'miedzy', 'między', 'mimo', 'mna', 'mną', 'mnie', 'moga', 'mogą', 'moi', 'moim', 'moj', 'moja', 'moje', 'moze', 'mozliwe', 'mozna', 'może', 'możliwe', 'można', 'mój', 'mu', 'musi', 'my', 'na', 'nad', 'nam', 'nami', 'nas', 'nasi', 'nasz', 'nasza', 'nasze', 'naszego', 'naszych', 'natomiast', 'natychmiast', 'nawet', 'nia', 'nią', 'nic', 'nich', 'nie', 'niech', 'niego', 'niej', 'niemu', 'nigdy', 'nim', 'nimi', 'niz', 'niż', 'no', 'o', 'obok', 'od', 'około', 'on', 'ona', 'one', 'oni', 'ono', 'oraz', 'oto', 'owszem', 'pan', 'pana', 'pani', 'po', 'pod', 'podczas', 'pomimo', 'ponad', 'poniewaz', 'ponieważ', 'powinien', 'powinna', 'powinni', 'powinno', 'poza', 'prawie', 'przeciez', 'przecież', 'przed', 'przede', 'przedtem', 'przez', 'przy', 'roku', 'rowniez', 'również', 'sam', 'sama', 'są', 'sie', 'się', 'skad', 'skąd', 'soba', 'sobą', 'sobie', 'sposob', 'sposób', 'swoje', 'ta', 'tak', 'taka', 'taki', 'takie', 'takze', 'także', 'tam', 'te', 'tego', 'tej', 'ten', 'teraz', 'też', 'to', 'toba', 'tobą', 'tobie', 'totez', 'toteż', 'totobą', 'trzeba', 'tu', 'tutaj', 'twoi', 'twoim', 'twoj', 'twoja', 'twoje', 'twój', 'twym', 'ty', 'tych', 'tylko', 'tym', 'u', 'w', 'wam', 'wami', 'was', 'wasz', 'wasza', 'wasze', 'we', 'według', 'wiele', 'wielu', 'więc', 'więcej', 'wlasnie', 'właśnie', 'wszyscy', 'wszystkich', 'wszystkie', 'wszystkim', 'wszystko', 'wtedy', 'wy', 'z', 'za', 'zaden', 'zadna', 'zadne', 'zadnych', 'zapewne', 'zawsze', 'ze', 'zeby', 'zeznowu', 'zł', 'znow', 'znowu', 'znów', 'zostal', 'został', 'żaden', 'żadna', 'żadne', 'żadnych', 'że', 'żeby']\n"
     ]
    }
   ],
   "source": [
    "with open('utils/polish.stopwords.txt') as file:\n",
    "    stopwords = file.readlines()\n",
    "\n",
    "stopwords = [word.replace('\\n', '') for word in stopwords]\n",
    "\n",
    "\n",
    "def preprocess(sentence):\n",
    "    return [w for w in sentence.lower().split() if w not in stopwords]"
   ],
   "metadata": {
    "collapsed": false,
    "ExecuteTime": {
     "end_time": "2024-07-13T21:12:06.087431Z",
     "start_time": "2024-07-13T21:12:06.081238Z"
    }
   },
   "id": "74c66147a175a97c",
   "execution_count": 72
  },
  {
   "cell_type": "code",
   "outputs": [],
   "source": [
    "df_2 = df.copy(deep=True)"
   ],
   "metadata": {
    "collapsed": false,
    "ExecuteTime": {
     "end_time": "2024-07-13T21:58:52.563817Z",
     "start_time": "2024-07-13T21:58:52.560233Z"
    }
   },
   "id": "c7a47f99f5403f91",
   "execution_count": 74
  },
  {
   "cell_type": "code",
   "outputs": [],
   "source": [
    "df['text_wo_stopwords'] = df['text_chunk'].apply(preprocess)"
   ],
   "metadata": {
    "collapsed": false,
    "ExecuteTime": {
     "end_time": "2024-07-13T22:00:56.867565Z",
     "start_time": "2024-07-13T22:00:56.638848Z"
    }
   },
   "id": "b66288be20797b2d",
   "execution_count": 79
  },
  {
   "cell_type": "code",
   "outputs": [],
   "source": [
    "df['question_wo_stopwords'] = df['generated_questions_array'].apply(preprocess)"
   ],
   "metadata": {
    "collapsed": false,
    "ExecuteTime": {
     "end_time": "2024-07-13T22:01:36.501563Z",
     "start_time": "2024-07-13T22:01:36.436698Z"
    }
   },
   "id": "422c151aee1af234",
   "execution_count": 81
  },
  {
   "cell_type": "code",
   "outputs": [],
   "source": [
    "df.to_excel('data/data_without_stopdwords.xlsx')"
   ],
   "metadata": {
    "collapsed": false,
    "ExecuteTime": {
     "end_time": "2024-07-13T22:07:48.068971Z",
     "start_time": "2024-07-13T22:07:47.817912Z"
    }
   },
   "id": "21dc77ebcfa3e118",
   "execution_count": 83
  },
  {
   "cell_type": "code",
   "outputs": [],
   "source": [
    "model = KeyedVectors.load(\"models/word2vec/word2vec_100_3_polish.bin\")"
   ],
   "metadata": {
    "collapsed": false,
    "ExecuteTime": {
     "end_time": "2024-07-23T21:11:44.094120Z",
     "start_time": "2024-07-23T21:11:27.204517Z"
    }
   },
   "id": "94665cb8a0d7e6e4",
   "execution_count": 8
  },
  {
   "cell_type": "code",
   "outputs": [],
   "source": [
    "def get_diversity_by_wmd(question: str, context: str):\n",
    "    wmd = model.wmdistance(question, context)\n",
    "    return wmd"
   ],
   "metadata": {
    "collapsed": false,
    "ExecuteTime": {
     "end_time": "2024-07-23T21:11:44.099350Z",
     "start_time": "2024-07-23T21:11:44.095864Z"
    }
   },
   "id": "4188e6ec76deb3b5",
   "execution_count": 9
  },
  {
   "cell_type": "code",
   "outputs": [],
   "source": [
    "df = pd.read_excel('data/data_without_stopdwords.xlsx', index_col=0)"
   ],
   "metadata": {
    "collapsed": false,
    "ExecuteTime": {
     "end_time": "2024-07-15T21:09:20.755869Z",
     "start_time": "2024-07-15T21:09:20.507931Z"
    }
   },
   "id": "5fe0dbe2a82d6331",
   "execution_count": 13
  },
  {
   "cell_type": "code",
   "outputs": [],
   "source": [
    "def clean_text(x):\n",
    "    text = x.replace('\\n', '')\n",
    "    return text"
   ],
   "metadata": {
    "collapsed": false,
    "ExecuteTime": {
     "end_time": "2024-07-15T21:26:41.755543Z",
     "start_time": "2024-07-15T21:26:41.752163Z"
    }
   },
   "id": "5193ca34eda0378e",
   "execution_count": 27
  },
  {
   "cell_type": "code",
   "outputs": [],
   "source": [
    "df['chunk'] = df['text_chunk'].apply(lambda x: clean_text(x))"
   ],
   "metadata": {
    "collapsed": false,
    "ExecuteTime": {
     "end_time": "2024-07-15T21:27:03.533496Z",
     "start_time": "2024-07-15T21:27:03.529155Z"
    }
   },
   "id": "c5a46b5bb58b4393",
   "execution_count": 29
  },
  {
   "cell_type": "code",
   "outputs": [],
   "source": [
    "df['wmd_question_answer'] = df.apply(lambda x: get_diversity_by_wmd(x['generated_questions_array'], x['answer']), axis=1)"
   ],
   "metadata": {
    "collapsed": false,
    "ExecuteTime": {
     "end_time": "2024-07-15T21:54:55.308503Z",
     "start_time": "2024-07-15T21:54:54.220996Z"
    }
   },
   "id": "50ae52f32b690618",
   "execution_count": 52
  },
  {
   "cell_type": "code",
   "outputs": [
    {
     "data": {
      "text/plain": "5    - W j\nName: generated_questions_array, dtype: object"
     },
     "execution_count": 49,
     "metadata": {},
     "output_type": "execute_result"
    }
   ],
   "source": [
    "df[df['wmd'] > 0.93]['generated_questions_array']"
   ],
   "metadata": {
    "collapsed": false,
    "ExecuteTime": {
     "end_time": "2024-07-15T21:40:13.498230Z",
     "start_time": "2024-07-15T21:40:13.488465Z"
    }
   },
   "id": "1fe59d4f643a2813",
   "execution_count": 49
  },
  {
   "cell_type": "code",
   "outputs": [
    {
     "data": {
      "text/plain": "<Axes: >"
     },
     "execution_count": 53,
     "metadata": {},
     "output_type": "execute_result"
    },
    {
     "data": {
      "text/plain": "<Figure size 640x480 with 1 Axes>",
      "image/png": "[encoded data removed]"
     },
     "metadata": {},
     "output_type": "display_data"
    }
   ],
   "source": [
    "pd.plotting.hist_series(df['wmd_question_answer'])"
   ],
   "metadata": {
    "collapsed": false,
    "ExecuteTime": {
     "end_time": "2024-07-15T21:55:04.552096Z",
     "start_time": "2024-07-15T21:55:04.424518Z"
    }
   },
   "id": "f9c65aba6f9dd48c",
   "execution_count": 53
  },
  {
   "cell_type": "code",
   "outputs": [
    {
     "data": {
      "text/plain": "<Axes: >"
     },
     "execution_count": 54,
     "metadata": {},
     "output_type": "execute_result"
    },
    {
     "data": {
      "text/plain": "<Figure size 640x480 with 1 Axes>",
      "image/png": "[encoded data removed]"
     },
     "metadata": {},
     "output_type": "display_data"
    }
   ],
   "source": [
    "pd.plotting.hist_series(df['wmd'])"
   ],
   "metadata": {
    "collapsed": false,
    "ExecuteTime": {
     "end_time": "2024-07-17T20:31:55.864813Z",
     "start_time": "2024-07-17T20:31:55.737934Z"
    }
   },
   "id": "dc220eed2c502e94",
   "execution_count": 54
  },
  {
   "cell_type": "code",
   "outputs": [],
   "source": [
    "# MIN DISTANCE\n",
    "# QUESTION\n",
    "# - Jakie są konsekwencje korzystania z towaru w sposób wykraczający poza konieczny do stwierdzenia jego charakteru, cech i funkcjonowania, gdy przedsiębiorca nie poinformował konsumenta o prawie odstąpienia od umowy zgodnie z wymaganiami art. 12 ust. 1 pkt 9?\n",
    "\n",
    "# CHUNK\n",
    "# wynikiem korzystania z niego w sposób wykraczający poza konieczny do \\nstwierdzenia charakteru, cech i funkcjonowania towaru, chyba że przedsiębiorca nie \\npoinformował konsumenta o prawie odstąpienia od umowy zgodnie z wymaganiami \\nart. 12 ust. 1 pkt 9."
   ],
   "metadata": {
    "collapsed": false
   },
   "id": "80a9e165102d8d2f"
  },
  {
   "cell_type": "code",
   "outputs": [],
   "source": [
    "# MAX DISTANCE\n",
    "# CHUNK\n",
    "# niektórych aspektów umów o dostarczanie treści cyfrowych i usług cyfrowych (Dz. Urz. \\nUE L 136 z 22.05.2019, str. 1 oraz Dz. Urz. UE L 305 z 26.11.2019, str. 60); \\n4) dyrektywę Parlamentu Europejskiego i Rady (UE) 2019/771 z dnia 20 maja 2019 r. w sprawie \\nniektórych aspektów umów sprzedaży towarów, zmieniającą rozporządzenie (UE) 2017/2394 \\noraz dyrektywę 2009/22/WE i uchylającą dyrektywę 1999/44/WE (Dz. Urz. UE L 136 \\nz 22.05.2019, str. 28 oraz Dz. Urz. UE L 305 z 26.11.2019, str. 63).\n",
    "\n",
    "# - W j"
   ],
   "metadata": {
    "collapsed": false
   },
   "id": "93ec72ddbd4e3c26"
  },
  {
   "cell_type": "code",
   "outputs": [],
   "source": [
    "sample_df = df.sample(3)"
   ],
   "metadata": {
    "collapsed": false,
    "ExecuteTime": {
     "end_time": "2024-07-18T20:27:06.084947Z",
     "start_time": "2024-07-18T20:27:06.078510Z"
    }
   },
   "id": "d6c36a82104e79aa",
   "execution_count": 63
  },
  {
   "cell_type": "code",
   "outputs": [],
   "source": [
    "df['coherence'] = df['generated_questions_array'].apply(lambda x: get_coherence(x))"
   ],
   "metadata": {
    "collapsed": false,
    "ExecuteTime": {
     "end_time": "2024-07-18T21:42:01.762216Z",
     "start_time": "2024-07-18T21:24:48.354543Z"
    }
   },
   "id": "32486365e32e803d",
   "execution_count": 96
  },
  {
   "cell_type": "code",
   "outputs": [],
   "source": [
    "df.to_excel('data/with_coherence.xlsx')"
   ],
   "metadata": {
    "collapsed": false,
    "ExecuteTime": {
     "end_time": "2024-07-18T22:24:24.543851Z",
     "start_time": "2024-07-18T22:24:23.786344Z"
    }
   },
   "id": "6ba94a9c77f3d94e",
   "execution_count": 98
  },
  {
   "cell_type": "code",
   "outputs": [],
   "source": [
    "df = pd.read_excel('data/with_coherence.xlsx')"
   ],
   "metadata": {
    "collapsed": false,
    "ExecuteTime": {
     "end_time": "2024-07-20T20:26:20.871873Z",
     "start_time": "2024-07-20T20:26:20.610668Z"
    }
   },
   "id": "78c7bb232d1cb76b",
   "execution_count": 111
  },
  {
   "cell_type": "code",
   "outputs": [],
   "source": [
    "df[['coherence_rate', 'coherence_expl']] = df.coherence.str.split(',', n=1,  expand=True)"
   ],
   "metadata": {
    "collapsed": false,
    "ExecuteTime": {
     "end_time": "2024-07-20T20:28:24.362034Z",
     "start_time": "2024-07-20T20:28:24.355897Z"
    }
   },
   "id": "e268a89807a37499",
   "execution_count": 113
  },
  {
   "cell_type": "code",
   "outputs": [
    {
     "data": {
      "text/plain": "     Unnamed: 0                                chunk_id  \\\n0             0  a85d0bcd-8bd8-4f01-8a12-afd186aa2381_0   \n1             0  a85d0bcd-8bd8-4f01-8a12-afd186aa2381_0   \n2             0  a85d0bcd-8bd8-4f01-8a12-afd186aa2381_0   \n3             1  a85d0bcd-8bd8-4f01-8a12-afd186aa2381_1   \n4             1  a85d0bcd-8bd8-4f01-8a12-afd186aa2381_1   \n..          ...                                     ...   \n748         249  3013532f-7032-49d0-839d-2093d1d4a2fe_0   \n749         249  3013532f-7032-49d0-839d-2093d1d4a2fe_0   \n750         250  3013532f-7032-49d0-839d-2093d1d4a2fe_1   \n751         250  3013532f-7032-49d0-839d-2093d1d4a2fe_1   \n752         250  3013532f-7032-49d0-839d-2093d1d4a2fe_1   \n\n                                            text_chunk  \\\n0    ©Kancelaria Sejmu \\n \\n \\n \\ns. 1/44 \\n \\n \\n ...   \n1    ©Kancelaria Sejmu \\n \\n \\n \\ns. 1/44 \\n \\n \\n ...   \n2    ©Kancelaria Sejmu \\n \\n \\n \\ns. 1/44 \\n \\n \\n ...   \n3    przedsiębiorstwa; \\n3) \\nzasady i tryb wykonan...   \n4    przedsiębiorstwa; \\n3) \\nzasady i tryb wykonan...   \n..                                                 ...   \n748  ©Kancelaria Sejmu \\n \\n \\n \\ns. 44/44 \\n \\n \\n...   \n749  ©Kancelaria Sejmu \\n \\n \\n \\ns. 44/44 \\n \\n \\n...   \n750  umowy dostawy następujących  towarów(*) umowy ...   \n751  umowy dostawy następujących  towarów(*) umowy ...   \n752  umowy dostawy następujących  towarów(*) umowy ...   \n\n                                  page_id  \\\n0    a85d0bcd-8bd8-4f01-8a12-afd186aa2381   \n1    a85d0bcd-8bd8-4f01-8a12-afd186aa2381   \n2    a85d0bcd-8bd8-4f01-8a12-afd186aa2381   \n3    a85d0bcd-8bd8-4f01-8a12-afd186aa2381   \n4    a85d0bcd-8bd8-4f01-8a12-afd186aa2381   \n..                                    ...   \n748  3013532f-7032-49d0-839d-2093d1d4a2fe   \n749  3013532f-7032-49d0-839d-2093d1d4a2fe   \n750  3013532f-7032-49d0-839d-2093d1d4a2fe   \n751  3013532f-7032-49d0-839d-2093d1d4a2fe   \n752  3013532f-7032-49d0-839d-2093d1d4a2fe   \n\n                                   generated_questions  \\\n0    - Jakie prawa określa ustawa z dnia 30 maja 20...   \n1    - Jakie prawa określa ustawa z dnia 30 maja 20...   \n2    - Jakie prawa określa ustawa z dnia 30 maja 20...   \n3    - Jakie są zasady i tryb wykonania prawa odstą...   \n4    - Jakie są zasady i tryb wykonania prawa odstą...   \n..                                                 ...   \n748  - Czy formularz odstąpienia od umowy musi być ...   \n749  - Czy formularz odstąpienia od umowy musi być ...   \n750  - Czy umowy dostawy towarów i umowy o dzieło s...   \n751  - Czy umowy dostawy towarów i umowy o dzieło s...   \n752  - Czy umowy dostawy towarów i umowy o dzieło s...   \n\n                             generated_questions_array  \\\n0    - Jakie prawa określa ustawa z dnia 30 maja 20...   \n1    - Jakie obowiązki ma przedsiębiorca zawierając...   \n2    - W jaki sposób regulowane są zasady i tryb za...   \n3    - Jakie są zasady i tryb wykonania prawa odstą...   \n4    - W jaki sposób regulacje dotyczące umowy na o...   \n..                                                 ...   \n748  - Jakie są konsekwencje prawne dla konsumenta,...   \n749  - Czy istnieją okoliczności, w których odstąpi...   \n750  - Czy umowy dostawy towarów i umowy o dzieło s...   \n751  - Jakie są konsekwencje prawne braku podpisu k...   \n752  - Czy istnieją szczególne wymagania co do daty...   \n\n                                                answer  coverage_rating  \\\n0    Ustawa z dnia 30 maja 2014 r. o prawach konsum...                5   \n1    Zgodnie z art. 1 ustawy o prawach konsumenta, ...                5   \n2    Zasady i tryb zawierania umowy na odległość i ...                5   \n3    Zasady i tryb wykonania prawa odstąpienia od u...                5   \n4    Umowa na odległość dotycząca usług finansowych...                5   \n..                                                 ...              ...   \n748  Jeśli konsument nie zastosuje się do procedury...                5   \n749  Tak, istnieją okoliczności, w których odstąpie...                5   \n750  Tak, umowy dostawy towarów i umowy o dzieło są...                5   \n751  Brak podpisu konsumenta na formularzu umowy w ...                5   \n752  W polskim prawie istnieją szczególne wymagania...                5   \n\n     coverage_rating_no_answer  \\\n0                            5   \n1                            5   \n2                            5   \n3                            5   \n4                            5   \n..                         ...   \n748                          5   \n749                          5   \n750                          5   \n751                          5   \n752                          5   \n\n                                     text_wo_stopwords  \\\n0    ['©kancelaria', 'sejmu', 's.', '1/44', '2024-0...   \n1    ['©kancelaria', 'sejmu', 's.', '1/44', '2024-0...   \n2    ['©kancelaria', 'sejmu', 's.', '1/44', '2024-0...   \n3    ['przedsiębiorstwa;', '3)', 'zasady', 'tryb', ...   \n4    ['przedsiębiorstwa;', '3)', 'zasady', 'tryb', ...   \n..                                                 ...   \n748  ['©kancelaria', 'sejmu', 's.', '44/44', '2024-...   \n749  ['©kancelaria', 'sejmu', 's.', '44/44', '2024-...   \n750  ['umowy', 'dostawy', 'następujących', 'towarów...   \n751  ['umowy', 'dostawy', 'następujących', 'towarów...   \n752  ['umowy', 'dostawy', 'następujących', 'towarów...   \n\n                                 question_wo_stopwords  \\\n0    ['-', 'prawa', 'określa', 'ustawa', 'dnia', '3...   \n1    ['-', 'obowiązki', 'przedsiębiorca', 'zawieraj...   \n2    ['-', 'regulowane', 'zasady', 'tryb', 'zawiera...   \n3    ['-', 'zasady', 'tryb', 'wykonania', 'prawa', ...   \n4    ['-', 'regulacje', 'dotyczące', 'umowy', 'odle...   \n..                                                 ...   \n748  ['-', 'konsekwencje', 'prawne', 'konsumenta,',...   \n749  ['-', 'istnieją', 'okoliczności,', 'odstąpieni...   \n750  ['-', 'umowy', 'dostawy', 'towarów', 'umowy', ...   \n751  ['-', 'konsekwencje', 'prawne', 'braku', 'podp...   \n752  ['-', 'istnieją', 'szczególne', 'wymagania', '...   \n\n                                                 chunk       wmd  \\\n0    ©Kancelaria Sejmu    s. 1/44    2024-01-18   D...  0.301395   \n1    ©Kancelaria Sejmu    s. 1/44    2024-01-18   D...  0.209397   \n2    ©Kancelaria Sejmu    s. 1/44    2024-01-18   D...  0.216716   \n3    przedsiębiorstwa; 3) zasady i tryb wykonania p...  0.153880   \n4    przedsiębiorstwa; 3) zasady i tryb wykonania p...  0.284043   \n..                                                 ...       ...   \n748  ©Kancelaria Sejmu    s. 44/44    2024-01-18  Z...  0.232825   \n749  ©Kancelaria Sejmu    s. 44/44    2024-01-18  Z...  0.269681   \n750  umowy dostawy następujących  towarów(*) umowy ...  0.280867   \n751  umowy dostawy następujących  towarów(*) umowy ...  0.273275   \n752  umowy dostawy następujących  towarów(*) umowy ...  0.208608   \n\n     wmd_question_answer                                          coherence  \\\n0               0.341273  (3, \"The question is coherent as it clearly as...   \n1               0.139826  (3, The question is coherent in terms of askin...   \n2               0.122686  (4, \"The question is coherent and fluent, but ...   \n3               0.112443  (4, The question is coherent and fluent as it ...   \n4               0.264828  (4, \"The question is coherent and clear, but c...   \n..                   ...                                                ...   \n748             0.137973  (4, \"The question is coherent and clear, but c...   \n749             0.169267  (3, \"The question is clear and addresses a spe...   \n750             0.093707  (3, \"The question is coherent but could be mor...   \n751             0.212574  (4, \"The question is clear and specific, askin...   \n752             0.127500  (4, \"The question is coherent and clear, but c...   \n\n    coherence_rate                                     coherence_expl  \n0                3   The question is coherent as it clearly asks a...  \n1                3   The question is coherent in terms of asking a...  \n2                4   The question is coherent and fluent, but coul...  \n3                4   The question is coherent and fluent as it cle...  \n4                4   The question is coherent and clear, but could...  \n..             ...                                                ...  \n748              4   The question is coherent and clear, but could...  \n749              3   The question is clear and addresses a specifi...  \n750              3   The question is coherent but could be more co...  \n751              4   The question is clear and specific, asking ab...  \n752              4   The question is coherent and clear, but could...  \n\n[753 rows x 17 columns]",
      "text/html": "<div>\n<style scoped>\n    .dataframe tbody tr th:only-of-type {\n        vertical-align: middle;\n    }\n\n    .dataframe tbody tr th {\n        vertical-align: top;\n    }\n\n    .dataframe thead th {\n        text-align: right;\n    }\n</style>\n<table border=\"1\" class=\"dataframe\">\n  <thead>\n    <tr style=\"text-align: right;\">\n      <th></th>\n      <th>Unnamed: 0</th>\n      <th>chunk_id</th>\n      <th>text_chunk</th>\n      <th>page_id</th>\n      <th>generated_questions</th>\n      <th>generated_questions_array</th>\n      <th>answer</th>\n      <th>coverage_rating</th>\n      <th>coverage_rating_no_answer</th>\n      <th>text_wo_stopwords</th>\n      <th>question_wo_stopwords</th>\n      <th>chunk</th>\n      <th>wmd</th>\n      <th>wmd_question_answer</th>\n      <th>coherence</th>\n      <th>coherence_rate</th>\n      <th>coherence_expl</th>\n    </tr>\n  </thead>\n  <tbody>\n    <tr>\n      <th>0</th>\n      <td>0</td>\n      <td>a85d0bcd-8bd8-4f01-8a12-afd186aa2381_0</td>\n      <td>©Kancelaria Sejmu \\n \\n \\n \\ns. 1/44 \\n \\n \\n ...</td>\n      <td>a85d0bcd-8bd8-4f01-8a12-afd186aa2381</td>\n      <td>- Jakie prawa określa ustawa z dnia 30 maja 20...</td>\n      <td>- Jakie prawa określa ustawa z dnia 30 maja 20...</td>\n      <td>Ustawa z dnia 30 maja 2014 r. o prawach konsum...</td>\n      <td>5</td>\n      <td>5</td>\n      <td>['©kancelaria', 'sejmu', 's.', '1/44', '2024-0...</td>\n      <td>['-', 'prawa', 'określa', 'ustawa', 'dnia', '3...</td>\n      <td>©Kancelaria Sejmu    s. 1/44    2024-01-18   D...</td>\n      <td>0.301395</td>\n      <td>0.341273</td>\n      <td>(3, \"The question is coherent as it clearly as...</td>\n      <td>3</td>\n      <td>The question is coherent as it clearly asks a...</td>\n    </tr>\n    <tr>\n      <th>1</th>\n      <td>0</td>\n      <td>a85d0bcd-8bd8-4f01-8a12-afd186aa2381_0</td>\n      <td>©Kancelaria Sejmu \\n \\n \\n \\ns. 1/44 \\n \\n \\n ...</td>\n      <td>a85d0bcd-8bd8-4f01-8a12-afd186aa2381</td>\n      <td>- Jakie prawa określa ustawa z dnia 30 maja 20...</td>\n      <td>- Jakie obowiązki ma przedsiębiorca zawierając...</td>\n      <td>Zgodnie z art. 1 ustawy o prawach konsumenta, ...</td>\n      <td>5</td>\n      <td>5</td>\n      <td>['©kancelaria', 'sejmu', 's.', '1/44', '2024-0...</td>\n      <td>['-', 'obowiązki', 'przedsiębiorca', 'zawieraj...</td>\n      <td>©Kancelaria Sejmu    s. 1/44    2024-01-18   D...</td>\n      <td>0.209397</td>\n      <td>0.139826</td>\n      <td>(3, The question is coherent in terms of askin...</td>\n      <td>3</td>\n      <td>The question is coherent in terms of asking a...</td>\n    </tr>\n    <tr>\n      <th>2</th>\n      <td>0</td>\n      <td>a85d0bcd-8bd8-4f01-8a12-afd186aa2381_0</td>\n      <td>©Kancelaria Sejmu \\n \\n \\n \\ns. 1/44 \\n \\n \\n ...</td>\n      <td>a85d0bcd-8bd8-4f01-8a12-afd186aa2381</td>\n      <td>- Jakie prawa określa ustawa z dnia 30 maja 20...</td>\n      <td>- W jaki sposób regulowane są zasady i tryb za...</td>\n      <td>Zasady i tryb zawierania umowy na odległość i ...</td>\n      <td>5</td>\n      <td>5</td>\n      <td>['©kancelaria', 'sejmu', 's.', '1/44', '2024-0...</td>\n      <td>['-', 'regulowane', 'zasady', 'tryb', 'zawiera...</td>\n      <td>©Kancelaria Sejmu    s. 1/44    2024-01-18   D...</td>\n      <td>0.216716</td>\n      <td>0.122686</td>\n      <td>(4, \"The question is coherent and fluent, but ...</td>\n      <td>4</td>\n      <td>The question is coherent and fluent, but coul...</td>\n    </tr>\n    <tr>\n      <th>3</th>\n      <td>1</td>\n      <td>a85d0bcd-8bd8-4f01-8a12-afd186aa2381_1</td>\n      <td>przedsiębiorstwa; \\n3) \\nzasady i tryb wykonan...</td>\n      <td>a85d0bcd-8bd8-4f01-8a12-afd186aa2381</td>\n      <td>- Jakie są zasady i tryb wykonania prawa odstą...</td>\n      <td>- Jakie są zasady i tryb wykonania prawa odstą...</td>\n      <td>Zasady i tryb wykonania prawa odstąpienia od u...</td>\n      <td>5</td>\n      <td>5</td>\n      <td>['przedsiębiorstwa;', '3)', 'zasady', 'tryb', ...</td>\n      <td>['-', 'zasady', 'tryb', 'wykonania', 'prawa', ...</td>\n      <td>przedsiębiorstwa; 3) zasady i tryb wykonania p...</td>\n      <td>0.153880</td>\n      <td>0.112443</td>\n      <td>(4, The question is coherent and fluent as it ...</td>\n      <td>4</td>\n      <td>The question is coherent and fluent as it cle...</td>\n    </tr>\n    <tr>\n      <th>4</th>\n      <td>1</td>\n      <td>a85d0bcd-8bd8-4f01-8a12-afd186aa2381_1</td>\n      <td>przedsiębiorstwa; \\n3) \\nzasady i tryb wykonan...</td>\n      <td>a85d0bcd-8bd8-4f01-8a12-afd186aa2381</td>\n      <td>- Jakie są zasady i tryb wykonania prawa odstą...</td>\n      <td>- W jaki sposób regulacje dotyczące umowy na o...</td>\n      <td>Umowa na odległość dotycząca usług finansowych...</td>\n      <td>5</td>\n      <td>5</td>\n      <td>['przedsiębiorstwa;', '3)', 'zasady', 'tryb', ...</td>\n      <td>['-', 'regulacje', 'dotyczące', 'umowy', 'odle...</td>\n      <td>przedsiębiorstwa; 3) zasady i tryb wykonania p...</td>\n      <td>0.284043</td>\n      <td>0.264828</td>\n      <td>(4, \"The question is coherent and clear, but c...</td>\n      <td>4</td>\n      <td>The question is coherent and clear, but could...</td>\n    </tr>\n    <tr>\n      <th>...</th>\n      <td>...</td>\n      <td>...</td>\n      <td>...</td>\n      <td>...</td>\n      <td>...</td>\n      <td>...</td>\n      <td>...</td>\n      <td>...</td>\n      <td>...</td>\n      <td>...</td>\n      <td>...</td>\n      <td>...</td>\n      <td>...</td>\n      <td>...</td>\n      <td>...</td>\n      <td>...</td>\n      <td>...</td>\n    </tr>\n    <tr>\n      <th>748</th>\n      <td>249</td>\n      <td>3013532f-7032-49d0-839d-2093d1d4a2fe_0</td>\n      <td>©Kancelaria Sejmu \\n \\n \\n \\ns. 44/44 \\n \\n \\n...</td>\n      <td>3013532f-7032-49d0-839d-2093d1d4a2fe</td>\n      <td>- Czy formularz odstąpienia od umowy musi być ...</td>\n      <td>- Jakie są konsekwencje prawne dla konsumenta,...</td>\n      <td>Jeśli konsument nie zastosuje się do procedury...</td>\n      <td>5</td>\n      <td>5</td>\n      <td>['©kancelaria', 'sejmu', 's.', '44/44', '2024-...</td>\n      <td>['-', 'konsekwencje', 'prawne', 'konsumenta,',...</td>\n      <td>©Kancelaria Sejmu    s. 44/44    2024-01-18  Z...</td>\n      <td>0.232825</td>\n      <td>0.137973</td>\n      <td>(4, \"The question is coherent and clear, but c...</td>\n      <td>4</td>\n      <td>The question is coherent and clear, but could...</td>\n    </tr>\n    <tr>\n      <th>749</th>\n      <td>249</td>\n      <td>3013532f-7032-49d0-839d-2093d1d4a2fe_0</td>\n      <td>©Kancelaria Sejmu \\n \\n \\n \\ns. 44/44 \\n \\n \\n...</td>\n      <td>3013532f-7032-49d0-839d-2093d1d4a2fe</td>\n      <td>- Czy formularz odstąpienia od umowy musi być ...</td>\n      <td>- Czy istnieją okoliczności, w których odstąpi...</td>\n      <td>Tak, istnieją okoliczności, w których odstąpie...</td>\n      <td>5</td>\n      <td>5</td>\n      <td>['©kancelaria', 'sejmu', 's.', '44/44', '2024-...</td>\n      <td>['-', 'istnieją', 'okoliczności,', 'odstąpieni...</td>\n      <td>©Kancelaria Sejmu    s. 44/44    2024-01-18  Z...</td>\n      <td>0.269681</td>\n      <td>0.169267</td>\n      <td>(3, \"The question is clear and addresses a spe...</td>\n      <td>3</td>\n      <td>The question is clear and addresses a specifi...</td>\n    </tr>\n    <tr>\n      <th>750</th>\n      <td>250</td>\n      <td>3013532f-7032-49d0-839d-2093d1d4a2fe_1</td>\n      <td>umowy dostawy następujących  towarów(*) umowy ...</td>\n      <td>3013532f-7032-49d0-839d-2093d1d4a2fe</td>\n      <td>- Czy umowy dostawy towarów i umowy o dzieło s...</td>\n      <td>- Czy umowy dostawy towarów i umowy o dzieło s...</td>\n      <td>Tak, umowy dostawy towarów i umowy o dzieło są...</td>\n      <td>5</td>\n      <td>5</td>\n      <td>['umowy', 'dostawy', 'następujących', 'towarów...</td>\n      <td>['-', 'umowy', 'dostawy', 'towarów', 'umowy', ...</td>\n      <td>umowy dostawy następujących  towarów(*) umowy ...</td>\n      <td>0.280867</td>\n      <td>0.093707</td>\n      <td>(3, \"The question is coherent but could be mor...</td>\n      <td>3</td>\n      <td>The question is coherent but could be more co...</td>\n    </tr>\n    <tr>\n      <th>751</th>\n      <td>250</td>\n      <td>3013532f-7032-49d0-839d-2093d1d4a2fe_1</td>\n      <td>umowy dostawy następujących  towarów(*) umowy ...</td>\n      <td>3013532f-7032-49d0-839d-2093d1d4a2fe</td>\n      <td>- Czy umowy dostawy towarów i umowy o dzieło s...</td>\n      <td>- Jakie są konsekwencje prawne braku podpisu k...</td>\n      <td>Brak podpisu konsumenta na formularzu umowy w ...</td>\n      <td>5</td>\n      <td>5</td>\n      <td>['umowy', 'dostawy', 'następujących', 'towarów...</td>\n      <td>['-', 'konsekwencje', 'prawne', 'braku', 'podp...</td>\n      <td>umowy dostawy następujących  towarów(*) umowy ...</td>\n      <td>0.273275</td>\n      <td>0.212574</td>\n      <td>(4, \"The question is clear and specific, askin...</td>\n      <td>4</td>\n      <td>The question is clear and specific, asking ab...</td>\n    </tr>\n    <tr>\n      <th>752</th>\n      <td>250</td>\n      <td>3013532f-7032-49d0-839d-2093d1d4a2fe_1</td>\n      <td>umowy dostawy następujących  towarów(*) umowy ...</td>\n      <td>3013532f-7032-49d0-839d-2093d1d4a2fe</td>\n      <td>- Czy umowy dostawy towarów i umowy o dzieło s...</td>\n      <td>- Czy istnieją szczególne wymagania co do daty...</td>\n      <td>W polskim prawie istnieją szczególne wymagania...</td>\n      <td>5</td>\n      <td>5</td>\n      <td>['umowy', 'dostawy', 'następujących', 'towarów...</td>\n      <td>['-', 'istnieją', 'szczególne', 'wymagania', '...</td>\n      <td>umowy dostawy następujących  towarów(*) umowy ...</td>\n      <td>0.208608</td>\n      <td>0.127500</td>\n      <td>(4, \"The question is coherent and clear, but c...</td>\n      <td>4</td>\n      <td>The question is coherent and clear, but could...</td>\n    </tr>\n  </tbody>\n</table>\n<p>753 rows × 17 columns</p>\n</div>"
     },
     "execution_count": 114,
     "metadata": {},
     "output_type": "execute_result"
    }
   ],
   "source": [
    "df['coherence_rate'] = df.coherence_rate.str.replace('(', '')\n",
    "df['coherence_expl'] = df.coherence_expl.str.replace(')', '')\n",
    "df['coherence_expl'] = df.coherence_expl.str.replace('\"', '')\n",
    "df"
   ],
   "metadata": {
    "collapsed": false,
    "ExecuteTime": {
     "end_time": "2024-07-20T20:28:25.705718Z",
     "start_time": "2024-07-20T20:28:25.676788Z"
    }
   },
   "id": "43136a7bb92d8b26",
   "execution_count": 114
  },
  {
   "cell_type": "code",
   "outputs": [],
   "source": [
    "df.to_excel('data/latest.xlsx', index = False)"
   ],
   "metadata": {
    "collapsed": false,
    "is_executing": true
   },
   "id": "5b208368288ef5e6",
   "execution_count": null
  },
  {
   "cell_type": "code",
   "outputs": [],
   "source": [
    "df = pd.read_excel('data/latest.xlsx')"
   ],
   "metadata": {
    "collapsed": false,
    "ExecuteTime": {
     "end_time": "2024-07-25T20:06:08.045434Z",
     "start_time": "2024-07-25T20:06:07.805086Z"
    }
   },
   "id": "61c8248f41482049",
   "execution_count": 19
  },
  {
   "cell_type": "code",
   "outputs": [],
   "source": [
    "sample_df = df.sample(15)"
   ],
   "metadata": {
    "collapsed": false,
    "ExecuteTime": {
     "end_time": "2024-07-23T21:01:29.841396Z",
     "start_time": "2024-07-23T21:01:29.837394Z"
    }
   },
   "id": "c7e99ed7887f59d5",
   "execution_count": 6
  },
  {
   "cell_type": "code",
   "outputs": [],
   "source": [
    "similarities = {}\n",
    "for index2, row2 in tqdm(df.iterrows()):\n",
    "    for index1, row1 in df.iterrows():\n",
    "        sim_score = get_diversity_by_wmd(row2['generated_questions_array'], row1['generated_questions_array'])\n",
    "        q1 = row2['generated_questions_array']\n",
    "        q2 = row1['generated_questions_array']\n",
    "        questions = f'{q1} | {q2}'\n",
    "        similarities[questions] = {'wmd_qq': sim_score}"
   ],
   "metadata": {
    "collapsed": false,
    "ExecuteTime": {
     "end_time": "2024-07-25T20:16:30.401504Z",
     "start_time": "2024-07-25T20:06:56.795504Z"
    }
   },
   "id": "1d211d8a3dfb43f5",
   "execution_count": 20
  },
  {
   "cell_type": "code",
   "outputs": [],
   "source": [
    "sim_df = pd.DataFrame.from_dict(similarities)"
   ],
   "metadata": {
    "collapsed": false,
    "ExecuteTime": {
     "end_time": "2024-07-25T20:54:47.241354Z",
     "start_time": "2024-07-25T20:54:37.673062Z"
    }
   },
   "id": "9919e547ecf91621",
   "execution_count": 22
  },
  {
   "cell_type": "code",
   "outputs": [
    {
     "data": {
      "text/plain": "                                                 question    wmd_qq  \\\n0       - Jakie prawa określa ustawa z dnia 30 maja 20...  0.000000   \n1       - Jakie prawa określa ustawa z dnia 30 maja 20...  0.373892   \n2       - Jakie prawa określa ustawa z dnia 30 maja 20...  0.341291   \n3       - Jakie prawa określa ustawa z dnia 30 maja 20...  0.363281   \n4       - Jakie prawa określa ustawa z dnia 30 maja 20...  0.490976   \n...                                                   ...       ...   \n565499  - Czy istnieją szczególne wymagania co do daty...  0.134491   \n565500  - Czy istnieją szczególne wymagania co do daty...  0.205283   \n565501  - Czy istnieją szczególne wymagania co do daty...  0.182021   \n565502  - Czy istnieją szczególne wymagania co do daty...  0.235739   \n565503  - Czy istnieją szczególne wymagania co do daty...  0.000000   \n\n                                     compared_to_question  \n0        - Jakie prawa określa ustawa z dnia 30 maja 2...  \n1        - Jakie obowiązki ma przedsiębiorca zawierają...  \n2        - W jaki sposób regulowane są zasady i tryb z...  \n3        - Jakie są zasady i tryb wykonania prawa odst...  \n4        - W jaki sposób regulacje dotyczące umowy na ...  \n...                                                   ...  \n565499   - Jakie są konsekwencje prawne dla konsumenta...  \n565500   - Czy istnieją okoliczności, w których odstąp...  \n565501   - Czy umowy dostawy towarów i umowy o dzieło ...  \n565502   - Jakie są konsekwencje prawne braku podpisu ...  \n565503   - Czy istnieją szczególne wymagania co do dat...  \n\n[565504 rows x 3 columns]",
      "text/html": "<div>\n<style scoped>\n    .dataframe tbody tr th:only-of-type {\n        vertical-align: middle;\n    }\n\n    .dataframe tbody tr th {\n        vertical-align: top;\n    }\n\n    .dataframe thead th {\n        text-align: right;\n    }\n</style>\n<table border=\"1\" class=\"dataframe\">\n  <thead>\n    <tr style=\"text-align: right;\">\n      <th></th>\n      <th>question</th>\n      <th>wmd_qq</th>\n      <th>compared_to_question</th>\n    </tr>\n  </thead>\n  <tbody>\n    <tr>\n      <th>0</th>\n      <td>- Jakie prawa określa ustawa z dnia 30 maja 20...</td>\n      <td>0.000000</td>\n      <td>- Jakie prawa określa ustawa z dnia 30 maja 2...</td>\n    </tr>\n    <tr>\n      <th>1</th>\n      <td>- Jakie prawa określa ustawa z dnia 30 maja 20...</td>\n      <td>0.373892</td>\n      <td>- Jakie obowiązki ma przedsiębiorca zawierają...</td>\n    </tr>\n    <tr>\n      <th>2</th>\n      <td>- Jakie prawa określa ustawa z dnia 30 maja 20...</td>\n      <td>0.341291</td>\n      <td>- W jaki sposób regulowane są zasady i tryb z...</td>\n    </tr>\n    <tr>\n      <th>3</th>\n      <td>- Jakie prawa określa ustawa z dnia 30 maja 20...</td>\n      <td>0.363281</td>\n      <td>- Jakie są zasady i tryb wykonania prawa odst...</td>\n    </tr>\n    <tr>\n      <th>4</th>\n      <td>- Jakie prawa określa ustawa z dnia 30 maja 20...</td>\n      <td>0.490976</td>\n      <td>- W jaki sposób regulacje dotyczące umowy na ...</td>\n    </tr>\n    <tr>\n      <th>...</th>\n      <td>...</td>\n      <td>...</td>\n      <td>...</td>\n    </tr>\n    <tr>\n      <th>565499</th>\n      <td>- Czy istnieją szczególne wymagania co do daty...</td>\n      <td>0.134491</td>\n      <td>- Jakie są konsekwencje prawne dla konsumenta...</td>\n    </tr>\n    <tr>\n      <th>565500</th>\n      <td>- Czy istnieją szczególne wymagania co do daty...</td>\n      <td>0.205283</td>\n      <td>- Czy istnieją okoliczności, w których odstąp...</td>\n    </tr>\n    <tr>\n      <th>565501</th>\n      <td>- Czy istnieją szczególne wymagania co do daty...</td>\n      <td>0.182021</td>\n      <td>- Czy umowy dostawy towarów i umowy o dzieło ...</td>\n    </tr>\n    <tr>\n      <th>565502</th>\n      <td>- Czy istnieją szczególne wymagania co do daty...</td>\n      <td>0.235739</td>\n      <td>- Jakie są konsekwencje prawne braku podpisu ...</td>\n    </tr>\n    <tr>\n      <th>565503</th>\n      <td>- Czy istnieją szczególne wymagania co do daty...</td>\n      <td>0.000000</td>\n      <td>- Czy istnieją szczególne wymagania co do dat...</td>\n    </tr>\n  </tbody>\n</table>\n<p>565504 rows × 3 columns</p>\n</div>"
     },
     "execution_count": 23,
     "metadata": {},
     "output_type": "execute_result"
    }
   ],
   "source": [
    "results = sim_df.T.reset_index().rename(columns={'index': 'question'})\n",
    "results[['question', 'compared_to_question']] = results['question'].str.split('|', expand=True)\n",
    "results\n",
    "#results = results.drop(['question'], axis=1)\n",
    "# results = results[['question', 'compared_to_question', 'wmd_qq']]"
   ],
   "metadata": {
    "collapsed": false
   },
   "id": "df6bb0f8db4019c1",
   "execution_count": 23
  },
  {
   "cell_type": "code",
   "outputs": [],
   "source": [
    "\n",
    "import seaborn as sns\n",
    "sim_heatmap = results.pivot(index='question', columns='compared_to_question', values='wmd_qq')\n",
    "mask = np.zeros_like(sim_heatmap)\n",
    "mask[np.triu_indices_from(mask)] = True\n",
    "\n",
    "# sns.heatmap(sim_heatmap,\n",
    "#             annot=True,\n",
    "#             fmt='.2f',\n",
    "#             linewidth=.5,\n",
    "#             cmap='crest',\n",
    "#             mask=mask,\n",
    "#             annot_kws={'fontsize': 8})"
   ],
   "metadata": {
    "collapsed": false,
    "ExecuteTime": {
     "end_time": "2024-07-25T20:56:23.853733Z",
     "start_time": "2024-07-25T20:56:23.101040Z"
    }
   },
   "id": "a11461716544cee7",
   "execution_count": 24
  }
 ],
 "metadata": {
  "kernelspec": {
   "display_name": "Python 3",
   "language": "python",
   "name": "python3"
  },
  "language_info": {
   "codemirror_mode": {
    "name": "ipython",
    "version": 2
   },
   "file_extension": ".py",
   "mimetype": "text/x-python",
   "name": "python",
   "nbconvert_exporter": "python",
   "pygments_lexer": "ipython2",
   "version": "2.7.6"
  }
 },
 "nbformat": 4,
 "nbformat_minor": 5
}
