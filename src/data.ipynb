{
 "cells": [
  {
   "cell_type": "markdown",
   "source": [
    "# LLM - Bielik - Fine tuning - part I"
   ],
   "metadata": {
    "collapsed": false
   },
   "id": "268a1dfb6a09a44b"
  },
  {
   "cell_type": "markdown",
   "source": [
    "## Motivation\n",
    "\n",
    "The rise and investments of the Large Language Models are definetely a game changer on various markets and branches - we can observe increased popularity of LLMs in academia, business and agriculture etc. Working with LLMs became a must-do task for all R&D or business departments in order to acknowledge and adapt upcoming possibilities, to stay competetive and gain business advantage. There are many players who invested bilions of USD to build their own Large Language Model and took a part in recent markets challenges by introducing their own solution trained on a different data set or to serve a different task (specialized for example in generation of poems or making a summary). At the beginning, as usual when it comes to innovation at that scale, we are thinking of endless possibilities, what kind of new opportunities we reach without putting much focus on other important factors like costs, maintanence, security, stability. Currently, we have multiple models which are production ready - many work has been done at those fields also making those LLMs more reliable and secured. One of the outcomes from this LLM race is that people noticed that it is good idea to look at smaller models, more specialized in one or two tasks, not the general ones. This specialization also is related to language supported. LLMs are broadly trained on english language data, due to the fact that more than half of websites content is written in English (source). Many models, paid and open source ones, have different level of quality when it comes when using them with local language. Quite often it occurs that offered quality is not enough to prove the business value for specific use case. This pushed some parties to create smaller models or suggested the finetuning with data in local language. \n",
    "\n",
    "The goal of this notebook is to finetune a Polish language based LLM called Bielik, developed by SpeakLeash organization (<model page>) with the legal / law sources. Data is specifically chosen for this task - legal documents or, law as a general concept, are strictly connected to the particular langauge. Primary concept of legal documents is to be in line with local (polish in my case) regulations. Of course, those documents can be translated to english and then used by the LLM. However, legal documents such as purchase agreements or any other agreements are designed by lawyers who understand the legal language nuances. They need to construct documents that are reliable, understandable by many (or maybe not?) and embedded in Polish law regulations. This requires from LLM to be more specific on many levels - starting from using prevalent data in one language and finetuning it to be able to work with more detailed task. "
   ],
   "metadata": {
    "collapsed": false
   },
   "id": "a8add555b2f73f31"
  },
  {
   "cell_type": "markdown",
   "source": [
    "## Introduction\n",
    "\n",
    "This notebook covers multiple steps:\n",
    "1. Loading and splitting data into chunks\n",
    "2. Generating new data (question and answers) for the future finetuning\n",
    "3. Evaluating generated data\n",
    "4. Selecting the data based on metrics \n",
    "5. Preparing the output for FT\n"
   ],
   "metadata": {
    "collapsed": false
   },
   "id": "2a2374a7ac7f8e8d"
  },
  {
   "cell_type": "markdown",
   "source": [
    "## Loading and splitting data\n",
    "\n",
    "Data source: https://isap.sejm.gov.pl/isap.nsf/download.xsp/WDU20140000827/U/D20140827Lj.pdf "
   ],
   "metadata": {
    "collapsed": false
   },
   "id": "e453382dd70f9952"
  },
  {
   "cell_type": "code",
   "outputs": [],
   "source": [
    "import pandas as pd\n",
    "import numpy as np\n",
    "from dotenv import load_dotenv, find_dotenv\n",
    "import pymupdf\n",
    "import uuid\n",
    "from pprint import pprint\n",
    "from tqdm.notebook import tqdm\n",
    "from langchain.text_splitter import RecursiveCharacterTextSplitter\n",
    "from src.external_requests.openai_req import OpenAIReq\n",
    "from src.external_requests.prompting import PromptBuilder\n",
    "from src.evaluation.distance_based import DistanceEvaluator\n",
    "from src.preprocessing.preprocess import remove_stopwords, clean_text\n",
    "from src.evaluation.reporting import Reporting\n",
    "import seaborn as sns"
   ],
   "metadata": {
    "collapsed": false,
    "ExecuteTime": {
     "end_time": "2024-08-11T20:03:59.325452Z",
     "start_time": "2024-08-11T20:03:58.457229Z"
    }
   },
   "id": "bcad1a89aee5c170",
   "execution_count": 1
  },
  {
   "cell_type": "code",
   "outputs": [],
   "source": [
    "_ = load_dotenv(find_dotenv())"
   ],
   "metadata": {
    "collapsed": false,
    "ExecuteTime": {
     "end_time": "2024-08-11T20:04:06.639996Z",
     "start_time": "2024-08-11T20:04:06.626939Z"
    }
   },
   "id": "a09a8ee67e5ebf80",
   "execution_count": 4
  },
  {
   "cell_type": "code",
   "outputs": [],
   "source": [
    "splitter = RecursiveCharacterTextSplitter(chunk_size=512, chunk_overlap=120)"
   ],
   "metadata": {
    "collapsed": false,
    "ExecuteTime": {
     "end_time": "2024-08-11T20:04:06.870331Z",
     "start_time": "2024-08-11T20:04:06.867502Z"
    }
   },
   "id": "b881573ef64d8940",
   "execution_count": 5
  },
  {
   "cell_type": "code",
   "outputs": [],
   "source": [
    "path = 'data/ustawa_nr_1.pdf'\n",
    "\n",
    "all_data = pymupdf.open(path)"
   ],
   "metadata": {
    "collapsed": false,
    "ExecuteTime": {
     "end_time": "2024-08-10T20:05:41.922495Z",
     "start_time": "2024-08-10T20:05:41.918909Z"
    }
   },
   "id": "b19e120f0ba49820",
   "execution_count": 4
  },
  {
   "cell_type": "code",
   "outputs": [
    {
     "data": {
      "text/plain": "44"
     },
     "execution_count": 5,
     "metadata": {},
     "output_type": "execute_result"
    }
   ],
   "source": [
    "all_chunks = []\n",
    "for document in all_data:\n",
    "    text_page = document.get_textpage().extractText()\n",
    "    chunks_per_page = splitter.split_text(text_page)\n",
    "    all_chunks.append(chunks_per_page)\n",
    "        \n",
    "len(all_chunks)"
   ],
   "metadata": {
    "collapsed": false,
    "ExecuteTime": {
     "end_time": "2024-08-10T20:05:42.586215Z",
     "start_time": "2024-08-10T20:05:42.438899Z"
    }
   },
   "id": "76dcd8f14b33523a",
   "execution_count": 5
  },
  {
   "cell_type": "code",
   "outputs": [
    {
     "data": {
      "text/plain": "['©Kancelaria Sejmu \\n \\n \\n \\ns. 44/44 \\n \\n \\n \\n2024-01-18 \\n \\nZałącznik nr 2 \\n \\nWZÓR FORMULARZA ODSTĄPIENIA OD UMOWY \\n \\n(formularz ten należy wypełnić i odesłać tylko w przypadku chęci odstąpienia od umowy) \\n– Adresat [w tym miejscu przedsiębiorca powinien wpisać nazwę przedsiębiorcy, pełny adres pocztowy oraz adres e-mail] \\n– Ja/My(*) niniejszym informuję/informujemy(*) o moim/naszym odstąpieniu od umowy sprzedaży następujących  towarów(*)',\n '– Ja/My(*) niniejszym informuję/informujemy(*) o moim/naszym odstąpieniu od umowy sprzedaży następujących  towarów(*) \\numowy dostawy następujących  towarów(*) umowy o dzieło polegającej na wykonaniu następujących towarów(*)/o \\nświadczenie następującej usługi(*) \\n– Data zawarcia umowy(*)/odbioru(*) \\n– Imię i nazwisko konsumenta(-ów) \\n– Adres konsumenta(-ów) \\n– Podpis konsumenta(-ów) (tylko jeżeli formularz jest przesyłany w wersji papierowej) \\n– Data \\n \\n \\n \\n \\n(*) Niepotrzebne skreślić.']"
     },
     "execution_count": 6,
     "metadata": {},
     "output_type": "execute_result"
    }
   ],
   "source": [
    "all_chunks[43]"
   ],
   "metadata": {
    "collapsed": false,
    "ExecuteTime": {
     "end_time": "2024-08-10T20:05:44.304935Z",
     "start_time": "2024-08-10T20:05:44.300769Z"
    }
   },
   "id": "e57142f2345ec462",
   "execution_count": 6
  },
  {
   "cell_type": "markdown",
   "source": [
    "## Generating new data (questions) with a support of GPT 3.5"
   ],
   "metadata": {
    "collapsed": false
   },
   "id": "e9e33b5a9a71b776"
  },
  {
   "cell_type": "code",
   "outputs": [
    {
     "data": {
      "text/plain": "0it [00:00, ?it/s]",
      "application/vnd.jupyter.widget-view+json": {
       "version_major": 2,
       "version_minor": 0,
       "model_id": "a125430ca2b44f0fb284ceacb2197f55"
      }
     },
     "metadata": {},
     "output_type": "display_data"
    },
    {
     "ename": "KeyboardInterrupt",
     "evalue": "",
     "output_type": "error",
     "traceback": [
      "\u001B[0;31m---------------------------------------------------------------------------\u001B[0m",
      "\u001B[0;31mKeyboardInterrupt\u001B[0m                         Traceback (most recent call last)",
      "Cell \u001B[0;32mIn[9], line 6\u001B[0m\n\u001B[1;32m      4\u001B[0m \u001B[38;5;28;01mfor\u001B[39;00m chunk \u001B[38;5;129;01min\u001B[39;00m \u001B[38;5;28menumerate\u001B[39m(page):\n\u001B[1;32m      5\u001B[0m     nth_chunk, text_chunk \u001B[38;5;241m=\u001B[39m chunk\n\u001B[0;32m----> 6\u001B[0m     generated_questions \u001B[38;5;241m=\u001B[39m \u001B[43mOpenAIReq\u001B[49m\u001B[43m(\u001B[49m\u001B[43m)\u001B[49m\u001B[38;5;241;43m.\u001B[39;49m\u001B[43mcall_api\u001B[49m\u001B[43m(\u001B[49m\u001B[43mprompt\u001B[49m\u001B[38;5;241;43m=\u001B[39;49m\u001B[43mPromptBuilder\u001B[49m\u001B[38;5;241;43m.\u001B[39;49m\u001B[43mgenerate_questions\u001B[49m\u001B[43m(\u001B[49m\u001B[43mn_questions\u001B[49m\u001B[38;5;241;43m=\u001B[39;49m\u001B[38;5;241;43m3\u001B[39;49m\u001B[43m,\u001B[49m\u001B[43m \u001B[49m\u001B[43mtext\u001B[49m\u001B[38;5;241;43m=\u001B[39;49m\u001B[43mchunk\u001B[49m\u001B[43m)\u001B[49m\u001B[43m)\u001B[49m\n\u001B[1;32m      7\u001B[0m     data \u001B[38;5;241m=\u001B[39m {\u001B[38;5;124m'\u001B[39m\u001B[38;5;124mchunk_id\u001B[39m\u001B[38;5;124m'\u001B[39m: \u001B[38;5;124mf\u001B[39m\u001B[38;5;124m'\u001B[39m\u001B[38;5;132;01m{\u001B[39;00mpage_id\u001B[38;5;132;01m}\u001B[39;00m\u001B[38;5;124m_\u001B[39m\u001B[38;5;132;01m{\u001B[39;00mnth_chunk\u001B[38;5;132;01m}\u001B[39;00m\u001B[38;5;124m'\u001B[39m, \n\u001B[1;32m      8\u001B[0m             \u001B[38;5;124m'\u001B[39m\u001B[38;5;124mtext_chunk\u001B[39m\u001B[38;5;124m'\u001B[39m: text_chunk,\n\u001B[1;32m      9\u001B[0m             \u001B[38;5;124m'\u001B[39m\u001B[38;5;124mpage_id\u001B[39m\u001B[38;5;124m'\u001B[39m: page_id,\n\u001B[1;32m     10\u001B[0m             \u001B[38;5;124m'\u001B[39m\u001B[38;5;124mgenerated_questions\u001B[39m\u001B[38;5;124m'\u001B[39m: generated_questions}\n\u001B[1;32m     11\u001B[0m     all_data\u001B[38;5;241m.\u001B[39mappend(data)\n",
      "File \u001B[0;32m~/PycharmProjects/bielik-ft-legal/src/external_requests/openai_req.py:21\u001B[0m, in \u001B[0;36mOpenAIReq.call_api\u001B[0;34m(self, prompt, **model_params)\u001B[0m\n\u001B[1;32m     20\u001B[0m \u001B[38;5;28;01mdef\u001B[39;00m \u001B[38;5;21mcall_api\u001B[39m(\u001B[38;5;28mself\u001B[39m, prompt: \u001B[38;5;28mlist\u001B[39m, \u001B[38;5;241m*\u001B[39m\u001B[38;5;241m*\u001B[39mmodel_params) \u001B[38;5;241m-\u001B[39m\u001B[38;5;241m>\u001B[39m \u001B[38;5;28mstr\u001B[39m:\n\u001B[0;32m---> 21\u001B[0m     completion \u001B[38;5;241m=\u001B[39m \u001B[43mclient\u001B[49m\u001B[38;5;241;43m.\u001B[39;49m\u001B[43mchat\u001B[49m\u001B[38;5;241;43m.\u001B[39;49m\u001B[43mcompletions\u001B[49m\u001B[38;5;241;43m.\u001B[39;49m\u001B[43mcreate\u001B[49m\u001B[43m(\u001B[49m\n\u001B[1;32m     22\u001B[0m \u001B[43m        \u001B[49m\u001B[43mmodel\u001B[49m\u001B[38;5;241;43m=\u001B[39;49m\u001B[38;5;28;43mself\u001B[39;49m\u001B[38;5;241;43m.\u001B[39;49m\u001B[43mmodel\u001B[49m\u001B[43m,\u001B[49m\n\u001B[1;32m     23\u001B[0m \u001B[43m        \u001B[49m\u001B[43mmax_tokens\u001B[49m\u001B[38;5;241;43m=\u001B[39;49m\u001B[43mmodel_params\u001B[49m\u001B[38;5;241;43m.\u001B[39;49m\u001B[43mget\u001B[49m\u001B[43m(\u001B[49m\u001B[38;5;124;43m'\u001B[39;49m\u001B[38;5;124;43mmax_tokens\u001B[39;49m\u001B[38;5;124;43m'\u001B[39;49m\u001B[43m,\u001B[49m\u001B[43m \u001B[49m\u001B[38;5;241;43m200\u001B[39;49m\u001B[43m)\u001B[49m\u001B[43m,\u001B[49m\n\u001B[1;32m     24\u001B[0m \u001B[43m        \u001B[49m\u001B[43mtemperature\u001B[49m\u001B[38;5;241;43m=\u001B[39;49m\u001B[43mmodel_params\u001B[49m\u001B[38;5;241;43m.\u001B[39;49m\u001B[43mget\u001B[49m\u001B[43m(\u001B[49m\u001B[38;5;124;43m'\u001B[39;49m\u001B[38;5;124;43mtemperature\u001B[39;49m\u001B[38;5;124;43m'\u001B[39;49m\u001B[43m,\u001B[49m\u001B[43m \u001B[49m\u001B[38;5;241;43m0.2\u001B[39;49m\u001B[43m)\u001B[49m\u001B[43m,\u001B[49m\n\u001B[1;32m     25\u001B[0m \u001B[43m        \u001B[49m\u001B[43mtop_p\u001B[49m\u001B[38;5;241;43m=\u001B[39;49m\u001B[43mmodel_params\u001B[49m\u001B[38;5;241;43m.\u001B[39;49m\u001B[43mget\u001B[49m\u001B[43m(\u001B[49m\u001B[38;5;124;43m'\u001B[39;49m\u001B[38;5;124;43mtop_p\u001B[39;49m\u001B[38;5;124;43m'\u001B[39;49m\u001B[43m,\u001B[49m\u001B[43m \u001B[49m\u001B[38;5;241;43m1\u001B[39;49m\u001B[43m)\u001B[49m\u001B[43m,\u001B[49m\n\u001B[1;32m     26\u001B[0m \u001B[43m        \u001B[49m\u001B[43mmessages\u001B[49m\u001B[38;5;241;43m=\u001B[39;49m\u001B[43mprompt\u001B[49m\n\u001B[1;32m     27\u001B[0m \u001B[43m    \u001B[49m\u001B[43m)\u001B[49m\n\u001B[1;32m     28\u001B[0m     response \u001B[38;5;241m=\u001B[39m completion\u001B[38;5;241m.\u001B[39mchoices[\u001B[38;5;241m0\u001B[39m]\u001B[38;5;241m.\u001B[39mmessage\u001B[38;5;241m.\u001B[39mcontent\n\u001B[1;32m     29\u001B[0m     \u001B[38;5;28;01mreturn\u001B[39;00m response\n",
      "File \u001B[0;32m~/PycharmProjects/bielik-ft-legal/.venv/lib/python3.11/site-packages/openai/_utils/_utils.py:277\u001B[0m, in \u001B[0;36mrequired_args.<locals>.inner.<locals>.wrapper\u001B[0;34m(*args, **kwargs)\u001B[0m\n\u001B[1;32m    275\u001B[0m             msg \u001B[38;5;241m=\u001B[39m \u001B[38;5;124mf\u001B[39m\u001B[38;5;124m\"\u001B[39m\u001B[38;5;124mMissing required argument: \u001B[39m\u001B[38;5;132;01m{\u001B[39;00mquote(missing[\u001B[38;5;241m0\u001B[39m])\u001B[38;5;132;01m}\u001B[39;00m\u001B[38;5;124m\"\u001B[39m\n\u001B[1;32m    276\u001B[0m     \u001B[38;5;28;01mraise\u001B[39;00m \u001B[38;5;167;01mTypeError\u001B[39;00m(msg)\n\u001B[0;32m--> 277\u001B[0m \u001B[38;5;28;01mreturn\u001B[39;00m \u001B[43mfunc\u001B[49m\u001B[43m(\u001B[49m\u001B[38;5;241;43m*\u001B[39;49m\u001B[43margs\u001B[49m\u001B[43m,\u001B[49m\u001B[43m \u001B[49m\u001B[38;5;241;43m*\u001B[39;49m\u001B[38;5;241;43m*\u001B[39;49m\u001B[43mkwargs\u001B[49m\u001B[43m)\u001B[49m\n",
      "File \u001B[0;32m~/PycharmProjects/bielik-ft-legal/.venv/lib/python3.11/site-packages/openai/resources/chat/completions.py:643\u001B[0m, in \u001B[0;36mCompletions.create\u001B[0;34m(self, messages, model, frequency_penalty, function_call, functions, logit_bias, logprobs, max_tokens, n, parallel_tool_calls, presence_penalty, response_format, seed, service_tier, stop, stream, stream_options, temperature, tool_choice, tools, top_logprobs, top_p, user, extra_headers, extra_query, extra_body, timeout)\u001B[0m\n\u001B[1;32m    609\u001B[0m \u001B[38;5;129m@required_args\u001B[39m([\u001B[38;5;124m\"\u001B[39m\u001B[38;5;124mmessages\u001B[39m\u001B[38;5;124m\"\u001B[39m, \u001B[38;5;124m\"\u001B[39m\u001B[38;5;124mmodel\u001B[39m\u001B[38;5;124m\"\u001B[39m], [\u001B[38;5;124m\"\u001B[39m\u001B[38;5;124mmessages\u001B[39m\u001B[38;5;124m\"\u001B[39m, \u001B[38;5;124m\"\u001B[39m\u001B[38;5;124mmodel\u001B[39m\u001B[38;5;124m\"\u001B[39m, \u001B[38;5;124m\"\u001B[39m\u001B[38;5;124mstream\u001B[39m\u001B[38;5;124m\"\u001B[39m])\n\u001B[1;32m    610\u001B[0m \u001B[38;5;28;01mdef\u001B[39;00m \u001B[38;5;21mcreate\u001B[39m(\n\u001B[1;32m    611\u001B[0m     \u001B[38;5;28mself\u001B[39m,\n\u001B[0;32m   (...)\u001B[0m\n\u001B[1;32m    641\u001B[0m     timeout: \u001B[38;5;28mfloat\u001B[39m \u001B[38;5;241m|\u001B[39m httpx\u001B[38;5;241m.\u001B[39mTimeout \u001B[38;5;241m|\u001B[39m \u001B[38;5;28;01mNone\u001B[39;00m \u001B[38;5;241m|\u001B[39m NotGiven \u001B[38;5;241m=\u001B[39m NOT_GIVEN,\n\u001B[1;32m    642\u001B[0m ) \u001B[38;5;241m-\u001B[39m\u001B[38;5;241m>\u001B[39m ChatCompletion \u001B[38;5;241m|\u001B[39m Stream[ChatCompletionChunk]:\n\u001B[0;32m--> 643\u001B[0m     \u001B[38;5;28;01mreturn\u001B[39;00m \u001B[38;5;28;43mself\u001B[39;49m\u001B[38;5;241;43m.\u001B[39;49m\u001B[43m_post\u001B[49m\u001B[43m(\u001B[49m\n\u001B[1;32m    644\u001B[0m \u001B[43m        \u001B[49m\u001B[38;5;124;43m\"\u001B[39;49m\u001B[38;5;124;43m/chat/completions\u001B[39;49m\u001B[38;5;124;43m\"\u001B[39;49m\u001B[43m,\u001B[49m\n\u001B[1;32m    645\u001B[0m \u001B[43m        \u001B[49m\u001B[43mbody\u001B[49m\u001B[38;5;241;43m=\u001B[39;49m\u001B[43mmaybe_transform\u001B[49m\u001B[43m(\u001B[49m\n\u001B[1;32m    646\u001B[0m \u001B[43m            \u001B[49m\u001B[43m{\u001B[49m\n\u001B[1;32m    647\u001B[0m \u001B[43m                \u001B[49m\u001B[38;5;124;43m\"\u001B[39;49m\u001B[38;5;124;43mmessages\u001B[39;49m\u001B[38;5;124;43m\"\u001B[39;49m\u001B[43m:\u001B[49m\u001B[43m \u001B[49m\u001B[43mmessages\u001B[49m\u001B[43m,\u001B[49m\n\u001B[1;32m    648\u001B[0m \u001B[43m                \u001B[49m\u001B[38;5;124;43m\"\u001B[39;49m\u001B[38;5;124;43mmodel\u001B[39;49m\u001B[38;5;124;43m\"\u001B[39;49m\u001B[43m:\u001B[49m\u001B[43m \u001B[49m\u001B[43mmodel\u001B[49m\u001B[43m,\u001B[49m\n\u001B[1;32m    649\u001B[0m \u001B[43m                \u001B[49m\u001B[38;5;124;43m\"\u001B[39;49m\u001B[38;5;124;43mfrequency_penalty\u001B[39;49m\u001B[38;5;124;43m\"\u001B[39;49m\u001B[43m:\u001B[49m\u001B[43m \u001B[49m\u001B[43mfrequency_penalty\u001B[49m\u001B[43m,\u001B[49m\n\u001B[1;32m    650\u001B[0m \u001B[43m                \u001B[49m\u001B[38;5;124;43m\"\u001B[39;49m\u001B[38;5;124;43mfunction_call\u001B[39;49m\u001B[38;5;124;43m\"\u001B[39;49m\u001B[43m:\u001B[49m\u001B[43m \u001B[49m\u001B[43mfunction_call\u001B[49m\u001B[43m,\u001B[49m\n\u001B[1;32m    651\u001B[0m \u001B[43m                \u001B[49m\u001B[38;5;124;43m\"\u001B[39;49m\u001B[38;5;124;43mfunctions\u001B[39;49m\u001B[38;5;124;43m\"\u001B[39;49m\u001B[43m:\u001B[49m\u001B[43m \u001B[49m\u001B[43mfunctions\u001B[49m\u001B[43m,\u001B[49m\n\u001B[1;32m    652\u001B[0m \u001B[43m                \u001B[49m\u001B[38;5;124;43m\"\u001B[39;49m\u001B[38;5;124;43mlogit_bias\u001B[39;49m\u001B[38;5;124;43m\"\u001B[39;49m\u001B[43m:\u001B[49m\u001B[43m \u001B[49m\u001B[43mlogit_bias\u001B[49m\u001B[43m,\u001B[49m\n\u001B[1;32m    653\u001B[0m \u001B[43m                \u001B[49m\u001B[38;5;124;43m\"\u001B[39;49m\u001B[38;5;124;43mlogprobs\u001B[39;49m\u001B[38;5;124;43m\"\u001B[39;49m\u001B[43m:\u001B[49m\u001B[43m \u001B[49m\u001B[43mlogprobs\u001B[49m\u001B[43m,\u001B[49m\n\u001B[1;32m    654\u001B[0m \u001B[43m                \u001B[49m\u001B[38;5;124;43m\"\u001B[39;49m\u001B[38;5;124;43mmax_tokens\u001B[39;49m\u001B[38;5;124;43m\"\u001B[39;49m\u001B[43m:\u001B[49m\u001B[43m \u001B[49m\u001B[43mmax_tokens\u001B[49m\u001B[43m,\u001B[49m\n\u001B[1;32m    655\u001B[0m \u001B[43m                \u001B[49m\u001B[38;5;124;43m\"\u001B[39;49m\u001B[38;5;124;43mn\u001B[39;49m\u001B[38;5;124;43m\"\u001B[39;49m\u001B[43m:\u001B[49m\u001B[43m \u001B[49m\u001B[43mn\u001B[49m\u001B[43m,\u001B[49m\n\u001B[1;32m    656\u001B[0m \u001B[43m                \u001B[49m\u001B[38;5;124;43m\"\u001B[39;49m\u001B[38;5;124;43mparallel_tool_calls\u001B[39;49m\u001B[38;5;124;43m\"\u001B[39;49m\u001B[43m:\u001B[49m\u001B[43m \u001B[49m\u001B[43mparallel_tool_calls\u001B[49m\u001B[43m,\u001B[49m\n\u001B[1;32m    657\u001B[0m \u001B[43m                \u001B[49m\u001B[38;5;124;43m\"\u001B[39;49m\u001B[38;5;124;43mpresence_penalty\u001B[39;49m\u001B[38;5;124;43m\"\u001B[39;49m\u001B[43m:\u001B[49m\u001B[43m \u001B[49m\u001B[43mpresence_penalty\u001B[49m\u001B[43m,\u001B[49m\n\u001B[1;32m    658\u001B[0m \u001B[43m                \u001B[49m\u001B[38;5;124;43m\"\u001B[39;49m\u001B[38;5;124;43mresponse_format\u001B[39;49m\u001B[38;5;124;43m\"\u001B[39;49m\u001B[43m:\u001B[49m\u001B[43m \u001B[49m\u001B[43mresponse_format\u001B[49m\u001B[43m,\u001B[49m\n\u001B[1;32m    659\u001B[0m \u001B[43m                \u001B[49m\u001B[38;5;124;43m\"\u001B[39;49m\u001B[38;5;124;43mseed\u001B[39;49m\u001B[38;5;124;43m\"\u001B[39;49m\u001B[43m:\u001B[49m\u001B[43m \u001B[49m\u001B[43mseed\u001B[49m\u001B[43m,\u001B[49m\n\u001B[1;32m    660\u001B[0m \u001B[43m                \u001B[49m\u001B[38;5;124;43m\"\u001B[39;49m\u001B[38;5;124;43mservice_tier\u001B[39;49m\u001B[38;5;124;43m\"\u001B[39;49m\u001B[43m:\u001B[49m\u001B[43m \u001B[49m\u001B[43mservice_tier\u001B[49m\u001B[43m,\u001B[49m\n\u001B[1;32m    661\u001B[0m \u001B[43m                \u001B[49m\u001B[38;5;124;43m\"\u001B[39;49m\u001B[38;5;124;43mstop\u001B[39;49m\u001B[38;5;124;43m\"\u001B[39;49m\u001B[43m:\u001B[49m\u001B[43m \u001B[49m\u001B[43mstop\u001B[49m\u001B[43m,\u001B[49m\n\u001B[1;32m    662\u001B[0m \u001B[43m                \u001B[49m\u001B[38;5;124;43m\"\u001B[39;49m\u001B[38;5;124;43mstream\u001B[39;49m\u001B[38;5;124;43m\"\u001B[39;49m\u001B[43m:\u001B[49m\u001B[43m \u001B[49m\u001B[43mstream\u001B[49m\u001B[43m,\u001B[49m\n\u001B[1;32m    663\u001B[0m \u001B[43m                \u001B[49m\u001B[38;5;124;43m\"\u001B[39;49m\u001B[38;5;124;43mstream_options\u001B[39;49m\u001B[38;5;124;43m\"\u001B[39;49m\u001B[43m:\u001B[49m\u001B[43m \u001B[49m\u001B[43mstream_options\u001B[49m\u001B[43m,\u001B[49m\n\u001B[1;32m    664\u001B[0m \u001B[43m                \u001B[49m\u001B[38;5;124;43m\"\u001B[39;49m\u001B[38;5;124;43mtemperature\u001B[39;49m\u001B[38;5;124;43m\"\u001B[39;49m\u001B[43m:\u001B[49m\u001B[43m \u001B[49m\u001B[43mtemperature\u001B[49m\u001B[43m,\u001B[49m\n\u001B[1;32m    665\u001B[0m \u001B[43m                \u001B[49m\u001B[38;5;124;43m\"\u001B[39;49m\u001B[38;5;124;43mtool_choice\u001B[39;49m\u001B[38;5;124;43m\"\u001B[39;49m\u001B[43m:\u001B[49m\u001B[43m \u001B[49m\u001B[43mtool_choice\u001B[49m\u001B[43m,\u001B[49m\n\u001B[1;32m    666\u001B[0m \u001B[43m                \u001B[49m\u001B[38;5;124;43m\"\u001B[39;49m\u001B[38;5;124;43mtools\u001B[39;49m\u001B[38;5;124;43m\"\u001B[39;49m\u001B[43m:\u001B[49m\u001B[43m \u001B[49m\u001B[43mtools\u001B[49m\u001B[43m,\u001B[49m\n\u001B[1;32m    667\u001B[0m \u001B[43m                \u001B[49m\u001B[38;5;124;43m\"\u001B[39;49m\u001B[38;5;124;43mtop_logprobs\u001B[39;49m\u001B[38;5;124;43m\"\u001B[39;49m\u001B[43m:\u001B[49m\u001B[43m \u001B[49m\u001B[43mtop_logprobs\u001B[49m\u001B[43m,\u001B[49m\n\u001B[1;32m    668\u001B[0m \u001B[43m                \u001B[49m\u001B[38;5;124;43m\"\u001B[39;49m\u001B[38;5;124;43mtop_p\u001B[39;49m\u001B[38;5;124;43m\"\u001B[39;49m\u001B[43m:\u001B[49m\u001B[43m \u001B[49m\u001B[43mtop_p\u001B[49m\u001B[43m,\u001B[49m\n\u001B[1;32m    669\u001B[0m \u001B[43m                \u001B[49m\u001B[38;5;124;43m\"\u001B[39;49m\u001B[38;5;124;43muser\u001B[39;49m\u001B[38;5;124;43m\"\u001B[39;49m\u001B[43m:\u001B[49m\u001B[43m \u001B[49m\u001B[43muser\u001B[49m\u001B[43m,\u001B[49m\n\u001B[1;32m    670\u001B[0m \u001B[43m            \u001B[49m\u001B[43m}\u001B[49m\u001B[43m,\u001B[49m\n\u001B[1;32m    671\u001B[0m \u001B[43m            \u001B[49m\u001B[43mcompletion_create_params\u001B[49m\u001B[38;5;241;43m.\u001B[39;49m\u001B[43mCompletionCreateParams\u001B[49m\u001B[43m,\u001B[49m\n\u001B[1;32m    672\u001B[0m \u001B[43m        \u001B[49m\u001B[43m)\u001B[49m\u001B[43m,\u001B[49m\n\u001B[1;32m    673\u001B[0m \u001B[43m        \u001B[49m\u001B[43moptions\u001B[49m\u001B[38;5;241;43m=\u001B[39;49m\u001B[43mmake_request_options\u001B[49m\u001B[43m(\u001B[49m\n\u001B[1;32m    674\u001B[0m \u001B[43m            \u001B[49m\u001B[43mextra_headers\u001B[49m\u001B[38;5;241;43m=\u001B[39;49m\u001B[43mextra_headers\u001B[49m\u001B[43m,\u001B[49m\u001B[43m \u001B[49m\u001B[43mextra_query\u001B[49m\u001B[38;5;241;43m=\u001B[39;49m\u001B[43mextra_query\u001B[49m\u001B[43m,\u001B[49m\u001B[43m \u001B[49m\u001B[43mextra_body\u001B[49m\u001B[38;5;241;43m=\u001B[39;49m\u001B[43mextra_body\u001B[49m\u001B[43m,\u001B[49m\u001B[43m \u001B[49m\u001B[43mtimeout\u001B[49m\u001B[38;5;241;43m=\u001B[39;49m\u001B[43mtimeout\u001B[49m\n\u001B[1;32m    675\u001B[0m \u001B[43m        \u001B[49m\u001B[43m)\u001B[49m\u001B[43m,\u001B[49m\n\u001B[1;32m    676\u001B[0m \u001B[43m        \u001B[49m\u001B[43mcast_to\u001B[49m\u001B[38;5;241;43m=\u001B[39;49m\u001B[43mChatCompletion\u001B[49m\u001B[43m,\u001B[49m\n\u001B[1;32m    677\u001B[0m \u001B[43m        \u001B[49m\u001B[43mstream\u001B[49m\u001B[38;5;241;43m=\u001B[39;49m\u001B[43mstream\u001B[49m\u001B[43m \u001B[49m\u001B[38;5;129;43;01mor\u001B[39;49;00m\u001B[43m \u001B[49m\u001B[38;5;28;43;01mFalse\u001B[39;49;00m\u001B[43m,\u001B[49m\n\u001B[1;32m    678\u001B[0m \u001B[43m        \u001B[49m\u001B[43mstream_cls\u001B[49m\u001B[38;5;241;43m=\u001B[39;49m\u001B[43mStream\u001B[49m\u001B[43m[\u001B[49m\u001B[43mChatCompletionChunk\u001B[49m\u001B[43m]\u001B[49m\u001B[43m,\u001B[49m\n\u001B[1;32m    679\u001B[0m \u001B[43m    \u001B[49m\u001B[43m)\u001B[49m\n",
      "File \u001B[0;32m~/PycharmProjects/bielik-ft-legal/.venv/lib/python3.11/site-packages/openai/_base_client.py:1250\u001B[0m, in \u001B[0;36mSyncAPIClient.post\u001B[0;34m(self, path, cast_to, body, options, files, stream, stream_cls)\u001B[0m\n\u001B[1;32m   1236\u001B[0m \u001B[38;5;28;01mdef\u001B[39;00m \u001B[38;5;21mpost\u001B[39m(\n\u001B[1;32m   1237\u001B[0m     \u001B[38;5;28mself\u001B[39m,\n\u001B[1;32m   1238\u001B[0m     path: \u001B[38;5;28mstr\u001B[39m,\n\u001B[0;32m   (...)\u001B[0m\n\u001B[1;32m   1245\u001B[0m     stream_cls: \u001B[38;5;28mtype\u001B[39m[_StreamT] \u001B[38;5;241m|\u001B[39m \u001B[38;5;28;01mNone\u001B[39;00m \u001B[38;5;241m=\u001B[39m \u001B[38;5;28;01mNone\u001B[39;00m,\n\u001B[1;32m   1246\u001B[0m ) \u001B[38;5;241m-\u001B[39m\u001B[38;5;241m>\u001B[39m ResponseT \u001B[38;5;241m|\u001B[39m _StreamT:\n\u001B[1;32m   1247\u001B[0m     opts \u001B[38;5;241m=\u001B[39m FinalRequestOptions\u001B[38;5;241m.\u001B[39mconstruct(\n\u001B[1;32m   1248\u001B[0m         method\u001B[38;5;241m=\u001B[39m\u001B[38;5;124m\"\u001B[39m\u001B[38;5;124mpost\u001B[39m\u001B[38;5;124m\"\u001B[39m, url\u001B[38;5;241m=\u001B[39mpath, json_data\u001B[38;5;241m=\u001B[39mbody, files\u001B[38;5;241m=\u001B[39mto_httpx_files(files), \u001B[38;5;241m*\u001B[39m\u001B[38;5;241m*\u001B[39moptions\n\u001B[1;32m   1249\u001B[0m     )\n\u001B[0;32m-> 1250\u001B[0m     \u001B[38;5;28;01mreturn\u001B[39;00m cast(ResponseT, \u001B[38;5;28;43mself\u001B[39;49m\u001B[38;5;241;43m.\u001B[39;49m\u001B[43mrequest\u001B[49m\u001B[43m(\u001B[49m\u001B[43mcast_to\u001B[49m\u001B[43m,\u001B[49m\u001B[43m \u001B[49m\u001B[43mopts\u001B[49m\u001B[43m,\u001B[49m\u001B[43m \u001B[49m\u001B[43mstream\u001B[49m\u001B[38;5;241;43m=\u001B[39;49m\u001B[43mstream\u001B[49m\u001B[43m,\u001B[49m\u001B[43m \u001B[49m\u001B[43mstream_cls\u001B[49m\u001B[38;5;241;43m=\u001B[39;49m\u001B[43mstream_cls\u001B[49m\u001B[43m)\u001B[49m)\n",
      "File \u001B[0;32m~/PycharmProjects/bielik-ft-legal/.venv/lib/python3.11/site-packages/openai/_base_client.py:931\u001B[0m, in \u001B[0;36mSyncAPIClient.request\u001B[0;34m(self, cast_to, options, remaining_retries, stream, stream_cls)\u001B[0m\n\u001B[1;32m    922\u001B[0m \u001B[38;5;28;01mdef\u001B[39;00m \u001B[38;5;21mrequest\u001B[39m(\n\u001B[1;32m    923\u001B[0m     \u001B[38;5;28mself\u001B[39m,\n\u001B[1;32m    924\u001B[0m     cast_to: Type[ResponseT],\n\u001B[0;32m   (...)\u001B[0m\n\u001B[1;32m    929\u001B[0m     stream_cls: \u001B[38;5;28mtype\u001B[39m[_StreamT] \u001B[38;5;241m|\u001B[39m \u001B[38;5;28;01mNone\u001B[39;00m \u001B[38;5;241m=\u001B[39m \u001B[38;5;28;01mNone\u001B[39;00m,\n\u001B[1;32m    930\u001B[0m ) \u001B[38;5;241m-\u001B[39m\u001B[38;5;241m>\u001B[39m ResponseT \u001B[38;5;241m|\u001B[39m _StreamT:\n\u001B[0;32m--> 931\u001B[0m     \u001B[38;5;28;01mreturn\u001B[39;00m \u001B[38;5;28;43mself\u001B[39;49m\u001B[38;5;241;43m.\u001B[39;49m\u001B[43m_request\u001B[49m\u001B[43m(\u001B[49m\n\u001B[1;32m    932\u001B[0m \u001B[43m        \u001B[49m\u001B[43mcast_to\u001B[49m\u001B[38;5;241;43m=\u001B[39;49m\u001B[43mcast_to\u001B[49m\u001B[43m,\u001B[49m\n\u001B[1;32m    933\u001B[0m \u001B[43m        \u001B[49m\u001B[43moptions\u001B[49m\u001B[38;5;241;43m=\u001B[39;49m\u001B[43moptions\u001B[49m\u001B[43m,\u001B[49m\n\u001B[1;32m    934\u001B[0m \u001B[43m        \u001B[49m\u001B[43mstream\u001B[49m\u001B[38;5;241;43m=\u001B[39;49m\u001B[43mstream\u001B[49m\u001B[43m,\u001B[49m\n\u001B[1;32m    935\u001B[0m \u001B[43m        \u001B[49m\u001B[43mstream_cls\u001B[49m\u001B[38;5;241;43m=\u001B[39;49m\u001B[43mstream_cls\u001B[49m\u001B[43m,\u001B[49m\n\u001B[1;32m    936\u001B[0m \u001B[43m        \u001B[49m\u001B[43mremaining_retries\u001B[49m\u001B[38;5;241;43m=\u001B[39;49m\u001B[43mremaining_retries\u001B[49m\u001B[43m,\u001B[49m\n\u001B[1;32m    937\u001B[0m \u001B[43m    \u001B[49m\u001B[43m)\u001B[49m\n",
      "File \u001B[0;32m~/PycharmProjects/bielik-ft-legal/.venv/lib/python3.11/site-packages/openai/_base_client.py:962\u001B[0m, in \u001B[0;36mSyncAPIClient._request\u001B[0;34m(self, cast_to, options, remaining_retries, stream, stream_cls)\u001B[0m\n\u001B[1;32m    959\u001B[0m log\u001B[38;5;241m.\u001B[39mdebug(\u001B[38;5;124m\"\u001B[39m\u001B[38;5;124mSending HTTP Request: \u001B[39m\u001B[38;5;132;01m%s\u001B[39;00m\u001B[38;5;124m \u001B[39m\u001B[38;5;132;01m%s\u001B[39;00m\u001B[38;5;124m\"\u001B[39m, request\u001B[38;5;241m.\u001B[39mmethod, request\u001B[38;5;241m.\u001B[39murl)\n\u001B[1;32m    961\u001B[0m \u001B[38;5;28;01mtry\u001B[39;00m:\n\u001B[0;32m--> 962\u001B[0m     response \u001B[38;5;241m=\u001B[39m \u001B[38;5;28;43mself\u001B[39;49m\u001B[38;5;241;43m.\u001B[39;49m\u001B[43m_client\u001B[49m\u001B[38;5;241;43m.\u001B[39;49m\u001B[43msend\u001B[49m\u001B[43m(\u001B[49m\n\u001B[1;32m    963\u001B[0m \u001B[43m        \u001B[49m\u001B[43mrequest\u001B[49m\u001B[43m,\u001B[49m\n\u001B[1;32m    964\u001B[0m \u001B[43m        \u001B[49m\u001B[43mstream\u001B[49m\u001B[38;5;241;43m=\u001B[39;49m\u001B[43mstream\u001B[49m\u001B[43m \u001B[49m\u001B[38;5;129;43;01mor\u001B[39;49;00m\u001B[43m \u001B[49m\u001B[38;5;28;43mself\u001B[39;49m\u001B[38;5;241;43m.\u001B[39;49m\u001B[43m_should_stream_response_body\u001B[49m\u001B[43m(\u001B[49m\u001B[43mrequest\u001B[49m\u001B[38;5;241;43m=\u001B[39;49m\u001B[43mrequest\u001B[49m\u001B[43m)\u001B[49m\u001B[43m,\u001B[49m\n\u001B[1;32m    965\u001B[0m \u001B[43m        \u001B[49m\u001B[38;5;241;43m*\u001B[39;49m\u001B[38;5;241;43m*\u001B[39;49m\u001B[43mkwargs\u001B[49m\u001B[43m,\u001B[49m\n\u001B[1;32m    966\u001B[0m \u001B[43m    \u001B[49m\u001B[43m)\u001B[49m\n\u001B[1;32m    967\u001B[0m \u001B[38;5;28;01mexcept\u001B[39;00m httpx\u001B[38;5;241m.\u001B[39mTimeoutException \u001B[38;5;28;01mas\u001B[39;00m err:\n\u001B[1;32m    968\u001B[0m     log\u001B[38;5;241m.\u001B[39mdebug(\u001B[38;5;124m\"\u001B[39m\u001B[38;5;124mEncountered httpx.TimeoutException\u001B[39m\u001B[38;5;124m\"\u001B[39m, exc_info\u001B[38;5;241m=\u001B[39m\u001B[38;5;28;01mTrue\u001B[39;00m)\n",
      "File \u001B[0;32m~/PycharmProjects/bielik-ft-legal/.venv/lib/python3.11/site-packages/httpx/_client.py:914\u001B[0m, in \u001B[0;36mClient.send\u001B[0;34m(self, request, stream, auth, follow_redirects)\u001B[0m\n\u001B[1;32m    906\u001B[0m follow_redirects \u001B[38;5;241m=\u001B[39m (\n\u001B[1;32m    907\u001B[0m     \u001B[38;5;28mself\u001B[39m\u001B[38;5;241m.\u001B[39mfollow_redirects\n\u001B[1;32m    908\u001B[0m     \u001B[38;5;28;01mif\u001B[39;00m \u001B[38;5;28misinstance\u001B[39m(follow_redirects, UseClientDefault)\n\u001B[1;32m    909\u001B[0m     \u001B[38;5;28;01melse\u001B[39;00m follow_redirects\n\u001B[1;32m    910\u001B[0m )\n\u001B[1;32m    912\u001B[0m auth \u001B[38;5;241m=\u001B[39m \u001B[38;5;28mself\u001B[39m\u001B[38;5;241m.\u001B[39m_build_request_auth(request, auth)\n\u001B[0;32m--> 914\u001B[0m response \u001B[38;5;241m=\u001B[39m \u001B[38;5;28;43mself\u001B[39;49m\u001B[38;5;241;43m.\u001B[39;49m\u001B[43m_send_handling_auth\u001B[49m\u001B[43m(\u001B[49m\n\u001B[1;32m    915\u001B[0m \u001B[43m    \u001B[49m\u001B[43mrequest\u001B[49m\u001B[43m,\u001B[49m\n\u001B[1;32m    916\u001B[0m \u001B[43m    \u001B[49m\u001B[43mauth\u001B[49m\u001B[38;5;241;43m=\u001B[39;49m\u001B[43mauth\u001B[49m\u001B[43m,\u001B[49m\n\u001B[1;32m    917\u001B[0m \u001B[43m    \u001B[49m\u001B[43mfollow_redirects\u001B[49m\u001B[38;5;241;43m=\u001B[39;49m\u001B[43mfollow_redirects\u001B[49m\u001B[43m,\u001B[49m\n\u001B[1;32m    918\u001B[0m \u001B[43m    \u001B[49m\u001B[43mhistory\u001B[49m\u001B[38;5;241;43m=\u001B[39;49m\u001B[43m[\u001B[49m\u001B[43m]\u001B[49m\u001B[43m,\u001B[49m\n\u001B[1;32m    919\u001B[0m \u001B[43m\u001B[49m\u001B[43m)\u001B[49m\n\u001B[1;32m    920\u001B[0m \u001B[38;5;28;01mtry\u001B[39;00m:\n\u001B[1;32m    921\u001B[0m     \u001B[38;5;28;01mif\u001B[39;00m \u001B[38;5;129;01mnot\u001B[39;00m stream:\n",
      "File \u001B[0;32m~/PycharmProjects/bielik-ft-legal/.venv/lib/python3.11/site-packages/httpx/_client.py:942\u001B[0m, in \u001B[0;36mClient._send_handling_auth\u001B[0;34m(self, request, auth, follow_redirects, history)\u001B[0m\n\u001B[1;32m    939\u001B[0m request \u001B[38;5;241m=\u001B[39m \u001B[38;5;28mnext\u001B[39m(auth_flow)\n\u001B[1;32m    941\u001B[0m \u001B[38;5;28;01mwhile\u001B[39;00m \u001B[38;5;28;01mTrue\u001B[39;00m:\n\u001B[0;32m--> 942\u001B[0m     response \u001B[38;5;241m=\u001B[39m \u001B[38;5;28;43mself\u001B[39;49m\u001B[38;5;241;43m.\u001B[39;49m\u001B[43m_send_handling_redirects\u001B[49m\u001B[43m(\u001B[49m\n\u001B[1;32m    943\u001B[0m \u001B[43m        \u001B[49m\u001B[43mrequest\u001B[49m\u001B[43m,\u001B[49m\n\u001B[1;32m    944\u001B[0m \u001B[43m        \u001B[49m\u001B[43mfollow_redirects\u001B[49m\u001B[38;5;241;43m=\u001B[39;49m\u001B[43mfollow_redirects\u001B[49m\u001B[43m,\u001B[49m\n\u001B[1;32m    945\u001B[0m \u001B[43m        \u001B[49m\u001B[43mhistory\u001B[49m\u001B[38;5;241;43m=\u001B[39;49m\u001B[43mhistory\u001B[49m\u001B[43m,\u001B[49m\n\u001B[1;32m    946\u001B[0m \u001B[43m    \u001B[49m\u001B[43m)\u001B[49m\n\u001B[1;32m    947\u001B[0m     \u001B[38;5;28;01mtry\u001B[39;00m:\n\u001B[1;32m    948\u001B[0m         \u001B[38;5;28;01mtry\u001B[39;00m:\n",
      "File \u001B[0;32m~/PycharmProjects/bielik-ft-legal/.venv/lib/python3.11/site-packages/httpx/_client.py:979\u001B[0m, in \u001B[0;36mClient._send_handling_redirects\u001B[0;34m(self, request, follow_redirects, history)\u001B[0m\n\u001B[1;32m    976\u001B[0m \u001B[38;5;28;01mfor\u001B[39;00m hook \u001B[38;5;129;01min\u001B[39;00m \u001B[38;5;28mself\u001B[39m\u001B[38;5;241m.\u001B[39m_event_hooks[\u001B[38;5;124m\"\u001B[39m\u001B[38;5;124mrequest\u001B[39m\u001B[38;5;124m\"\u001B[39m]:\n\u001B[1;32m    977\u001B[0m     hook(request)\n\u001B[0;32m--> 979\u001B[0m response \u001B[38;5;241m=\u001B[39m \u001B[38;5;28;43mself\u001B[39;49m\u001B[38;5;241;43m.\u001B[39;49m\u001B[43m_send_single_request\u001B[49m\u001B[43m(\u001B[49m\u001B[43mrequest\u001B[49m\u001B[43m)\u001B[49m\n\u001B[1;32m    980\u001B[0m \u001B[38;5;28;01mtry\u001B[39;00m:\n\u001B[1;32m    981\u001B[0m     \u001B[38;5;28;01mfor\u001B[39;00m hook \u001B[38;5;129;01min\u001B[39;00m \u001B[38;5;28mself\u001B[39m\u001B[38;5;241m.\u001B[39m_event_hooks[\u001B[38;5;124m\"\u001B[39m\u001B[38;5;124mresponse\u001B[39m\u001B[38;5;124m\"\u001B[39m]:\n",
      "File \u001B[0;32m~/PycharmProjects/bielik-ft-legal/.venv/lib/python3.11/site-packages/httpx/_client.py:1015\u001B[0m, in \u001B[0;36mClient._send_single_request\u001B[0;34m(self, request)\u001B[0m\n\u001B[1;32m   1010\u001B[0m     \u001B[38;5;28;01mraise\u001B[39;00m \u001B[38;5;167;01mRuntimeError\u001B[39;00m(\n\u001B[1;32m   1011\u001B[0m         \u001B[38;5;124m\"\u001B[39m\u001B[38;5;124mAttempted to send an async request with a sync Client instance.\u001B[39m\u001B[38;5;124m\"\u001B[39m\n\u001B[1;32m   1012\u001B[0m     )\n\u001B[1;32m   1014\u001B[0m \u001B[38;5;28;01mwith\u001B[39;00m request_context(request\u001B[38;5;241m=\u001B[39mrequest):\n\u001B[0;32m-> 1015\u001B[0m     response \u001B[38;5;241m=\u001B[39m \u001B[43mtransport\u001B[49m\u001B[38;5;241;43m.\u001B[39;49m\u001B[43mhandle_request\u001B[49m\u001B[43m(\u001B[49m\u001B[43mrequest\u001B[49m\u001B[43m)\u001B[49m\n\u001B[1;32m   1017\u001B[0m \u001B[38;5;28;01massert\u001B[39;00m \u001B[38;5;28misinstance\u001B[39m(response\u001B[38;5;241m.\u001B[39mstream, SyncByteStream)\n\u001B[1;32m   1019\u001B[0m response\u001B[38;5;241m.\u001B[39mrequest \u001B[38;5;241m=\u001B[39m request\n",
      "File \u001B[0;32m~/PycharmProjects/bielik-ft-legal/.venv/lib/python3.11/site-packages/httpx/_transports/default.py:233\u001B[0m, in \u001B[0;36mHTTPTransport.handle_request\u001B[0;34m(self, request)\u001B[0m\n\u001B[1;32m    220\u001B[0m req \u001B[38;5;241m=\u001B[39m httpcore\u001B[38;5;241m.\u001B[39mRequest(\n\u001B[1;32m    221\u001B[0m     method\u001B[38;5;241m=\u001B[39mrequest\u001B[38;5;241m.\u001B[39mmethod,\n\u001B[1;32m    222\u001B[0m     url\u001B[38;5;241m=\u001B[39mhttpcore\u001B[38;5;241m.\u001B[39mURL(\n\u001B[0;32m   (...)\u001B[0m\n\u001B[1;32m    230\u001B[0m     extensions\u001B[38;5;241m=\u001B[39mrequest\u001B[38;5;241m.\u001B[39mextensions,\n\u001B[1;32m    231\u001B[0m )\n\u001B[1;32m    232\u001B[0m \u001B[38;5;28;01mwith\u001B[39;00m map_httpcore_exceptions():\n\u001B[0;32m--> 233\u001B[0m     resp \u001B[38;5;241m=\u001B[39m \u001B[38;5;28;43mself\u001B[39;49m\u001B[38;5;241;43m.\u001B[39;49m\u001B[43m_pool\u001B[49m\u001B[38;5;241;43m.\u001B[39;49m\u001B[43mhandle_request\u001B[49m\u001B[43m(\u001B[49m\u001B[43mreq\u001B[49m\u001B[43m)\u001B[49m\n\u001B[1;32m    235\u001B[0m \u001B[38;5;28;01massert\u001B[39;00m \u001B[38;5;28misinstance\u001B[39m(resp\u001B[38;5;241m.\u001B[39mstream, typing\u001B[38;5;241m.\u001B[39mIterable)\n\u001B[1;32m    237\u001B[0m \u001B[38;5;28;01mreturn\u001B[39;00m Response(\n\u001B[1;32m    238\u001B[0m     status_code\u001B[38;5;241m=\u001B[39mresp\u001B[38;5;241m.\u001B[39mstatus,\n\u001B[1;32m    239\u001B[0m     headers\u001B[38;5;241m=\u001B[39mresp\u001B[38;5;241m.\u001B[39mheaders,\n\u001B[1;32m    240\u001B[0m     stream\u001B[38;5;241m=\u001B[39mResponseStream(resp\u001B[38;5;241m.\u001B[39mstream),\n\u001B[1;32m    241\u001B[0m     extensions\u001B[38;5;241m=\u001B[39mresp\u001B[38;5;241m.\u001B[39mextensions,\n\u001B[1;32m    242\u001B[0m )\n",
      "File \u001B[0;32m~/PycharmProjects/bielik-ft-legal/.venv/lib/python3.11/site-packages/httpcore/_sync/connection_pool.py:216\u001B[0m, in \u001B[0;36mConnectionPool.handle_request\u001B[0;34m(self, request)\u001B[0m\n\u001B[1;32m    213\u001B[0m         closing \u001B[38;5;241m=\u001B[39m \u001B[38;5;28mself\u001B[39m\u001B[38;5;241m.\u001B[39m_assign_requests_to_connections()\n\u001B[1;32m    215\u001B[0m     \u001B[38;5;28mself\u001B[39m\u001B[38;5;241m.\u001B[39m_close_connections(closing)\n\u001B[0;32m--> 216\u001B[0m     \u001B[38;5;28;01mraise\u001B[39;00m exc \u001B[38;5;28;01mfrom\u001B[39;00m \u001B[38;5;28;01mNone\u001B[39;00m\n\u001B[1;32m    218\u001B[0m \u001B[38;5;66;03m# Return the response. Note that in this case we still have to manage\u001B[39;00m\n\u001B[1;32m    219\u001B[0m \u001B[38;5;66;03m# the point at which the response is closed.\u001B[39;00m\n\u001B[1;32m    220\u001B[0m \u001B[38;5;28;01massert\u001B[39;00m \u001B[38;5;28misinstance\u001B[39m(response\u001B[38;5;241m.\u001B[39mstream, Iterable)\n",
      "File \u001B[0;32m~/PycharmProjects/bielik-ft-legal/.venv/lib/python3.11/site-packages/httpcore/_sync/connection_pool.py:196\u001B[0m, in \u001B[0;36mConnectionPool.handle_request\u001B[0;34m(self, request)\u001B[0m\n\u001B[1;32m    192\u001B[0m connection \u001B[38;5;241m=\u001B[39m pool_request\u001B[38;5;241m.\u001B[39mwait_for_connection(timeout\u001B[38;5;241m=\u001B[39mtimeout)\n\u001B[1;32m    194\u001B[0m \u001B[38;5;28;01mtry\u001B[39;00m:\n\u001B[1;32m    195\u001B[0m     \u001B[38;5;66;03m# Send the request on the assigned connection.\u001B[39;00m\n\u001B[0;32m--> 196\u001B[0m     response \u001B[38;5;241m=\u001B[39m \u001B[43mconnection\u001B[49m\u001B[38;5;241;43m.\u001B[39;49m\u001B[43mhandle_request\u001B[49m\u001B[43m(\u001B[49m\n\u001B[1;32m    197\u001B[0m \u001B[43m        \u001B[49m\u001B[43mpool_request\u001B[49m\u001B[38;5;241;43m.\u001B[39;49m\u001B[43mrequest\u001B[49m\n\u001B[1;32m    198\u001B[0m \u001B[43m    \u001B[49m\u001B[43m)\u001B[49m\n\u001B[1;32m    199\u001B[0m \u001B[38;5;28;01mexcept\u001B[39;00m ConnectionNotAvailable:\n\u001B[1;32m    200\u001B[0m     \u001B[38;5;66;03m# In some cases a connection may initially be available to\u001B[39;00m\n\u001B[1;32m    201\u001B[0m     \u001B[38;5;66;03m# handle a request, but then become unavailable.\u001B[39;00m\n\u001B[1;32m    202\u001B[0m     \u001B[38;5;66;03m#\u001B[39;00m\n\u001B[1;32m    203\u001B[0m     \u001B[38;5;66;03m# In this case we clear the connection and try again.\u001B[39;00m\n\u001B[1;32m    204\u001B[0m     pool_request\u001B[38;5;241m.\u001B[39mclear_connection()\n",
      "File \u001B[0;32m~/PycharmProjects/bielik-ft-legal/.venv/lib/python3.11/site-packages/httpcore/_sync/connection.py:101\u001B[0m, in \u001B[0;36mHTTPConnection.handle_request\u001B[0;34m(self, request)\u001B[0m\n\u001B[1;32m     98\u001B[0m     \u001B[38;5;28mself\u001B[39m\u001B[38;5;241m.\u001B[39m_connect_failed \u001B[38;5;241m=\u001B[39m \u001B[38;5;28;01mTrue\u001B[39;00m\n\u001B[1;32m     99\u001B[0m     \u001B[38;5;28;01mraise\u001B[39;00m exc\n\u001B[0;32m--> 101\u001B[0m \u001B[38;5;28;01mreturn\u001B[39;00m \u001B[38;5;28;43mself\u001B[39;49m\u001B[38;5;241;43m.\u001B[39;49m\u001B[43m_connection\u001B[49m\u001B[38;5;241;43m.\u001B[39;49m\u001B[43mhandle_request\u001B[49m\u001B[43m(\u001B[49m\u001B[43mrequest\u001B[49m\u001B[43m)\u001B[49m\n",
      "File \u001B[0;32m~/PycharmProjects/bielik-ft-legal/.venv/lib/python3.11/site-packages/httpcore/_sync/http11.py:143\u001B[0m, in \u001B[0;36mHTTP11Connection.handle_request\u001B[0;34m(self, request)\u001B[0m\n\u001B[1;32m    141\u001B[0m     \u001B[38;5;28;01mwith\u001B[39;00m Trace(\u001B[38;5;124m\"\u001B[39m\u001B[38;5;124mresponse_closed\u001B[39m\u001B[38;5;124m\"\u001B[39m, logger, request) \u001B[38;5;28;01mas\u001B[39;00m trace:\n\u001B[1;32m    142\u001B[0m         \u001B[38;5;28mself\u001B[39m\u001B[38;5;241m.\u001B[39m_response_closed()\n\u001B[0;32m--> 143\u001B[0m \u001B[38;5;28;01mraise\u001B[39;00m exc\n",
      "File \u001B[0;32m~/PycharmProjects/bielik-ft-legal/.venv/lib/python3.11/site-packages/httpcore/_sync/http11.py:113\u001B[0m, in \u001B[0;36mHTTP11Connection.handle_request\u001B[0;34m(self, request)\u001B[0m\n\u001B[1;32m    102\u001B[0m     \u001B[38;5;28;01mpass\u001B[39;00m\n\u001B[1;32m    104\u001B[0m \u001B[38;5;28;01mwith\u001B[39;00m Trace(\n\u001B[1;32m    105\u001B[0m     \u001B[38;5;124m\"\u001B[39m\u001B[38;5;124mreceive_response_headers\u001B[39m\u001B[38;5;124m\"\u001B[39m, logger, request, kwargs\n\u001B[1;32m    106\u001B[0m ) \u001B[38;5;28;01mas\u001B[39;00m trace:\n\u001B[1;32m    107\u001B[0m     (\n\u001B[1;32m    108\u001B[0m         http_version,\n\u001B[1;32m    109\u001B[0m         status,\n\u001B[1;32m    110\u001B[0m         reason_phrase,\n\u001B[1;32m    111\u001B[0m         headers,\n\u001B[1;32m    112\u001B[0m         trailing_data,\n\u001B[0;32m--> 113\u001B[0m     ) \u001B[38;5;241m=\u001B[39m \u001B[38;5;28;43mself\u001B[39;49m\u001B[38;5;241;43m.\u001B[39;49m\u001B[43m_receive_response_headers\u001B[49m\u001B[43m(\u001B[49m\u001B[38;5;241;43m*\u001B[39;49m\u001B[38;5;241;43m*\u001B[39;49m\u001B[43mkwargs\u001B[49m\u001B[43m)\u001B[49m\n\u001B[1;32m    114\u001B[0m     trace\u001B[38;5;241m.\u001B[39mreturn_value \u001B[38;5;241m=\u001B[39m (\n\u001B[1;32m    115\u001B[0m         http_version,\n\u001B[1;32m    116\u001B[0m         status,\n\u001B[1;32m    117\u001B[0m         reason_phrase,\n\u001B[1;32m    118\u001B[0m         headers,\n\u001B[1;32m    119\u001B[0m     )\n\u001B[1;32m    121\u001B[0m network_stream \u001B[38;5;241m=\u001B[39m \u001B[38;5;28mself\u001B[39m\u001B[38;5;241m.\u001B[39m_network_stream\n",
      "File \u001B[0;32m~/PycharmProjects/bielik-ft-legal/.venv/lib/python3.11/site-packages/httpcore/_sync/http11.py:186\u001B[0m, in \u001B[0;36mHTTP11Connection._receive_response_headers\u001B[0;34m(self, request)\u001B[0m\n\u001B[1;32m    183\u001B[0m timeout \u001B[38;5;241m=\u001B[39m timeouts\u001B[38;5;241m.\u001B[39mget(\u001B[38;5;124m\"\u001B[39m\u001B[38;5;124mread\u001B[39m\u001B[38;5;124m\"\u001B[39m, \u001B[38;5;28;01mNone\u001B[39;00m)\n\u001B[1;32m    185\u001B[0m \u001B[38;5;28;01mwhile\u001B[39;00m \u001B[38;5;28;01mTrue\u001B[39;00m:\n\u001B[0;32m--> 186\u001B[0m     event \u001B[38;5;241m=\u001B[39m \u001B[38;5;28;43mself\u001B[39;49m\u001B[38;5;241;43m.\u001B[39;49m\u001B[43m_receive_event\u001B[49m\u001B[43m(\u001B[49m\u001B[43mtimeout\u001B[49m\u001B[38;5;241;43m=\u001B[39;49m\u001B[43mtimeout\u001B[49m\u001B[43m)\u001B[49m\n\u001B[1;32m    187\u001B[0m     \u001B[38;5;28;01mif\u001B[39;00m \u001B[38;5;28misinstance\u001B[39m(event, h11\u001B[38;5;241m.\u001B[39mResponse):\n\u001B[1;32m    188\u001B[0m         \u001B[38;5;28;01mbreak\u001B[39;00m\n",
      "File \u001B[0;32m~/PycharmProjects/bielik-ft-legal/.venv/lib/python3.11/site-packages/httpcore/_sync/http11.py:224\u001B[0m, in \u001B[0;36mHTTP11Connection._receive_event\u001B[0;34m(self, timeout)\u001B[0m\n\u001B[1;32m    221\u001B[0m     event \u001B[38;5;241m=\u001B[39m \u001B[38;5;28mself\u001B[39m\u001B[38;5;241m.\u001B[39m_h11_state\u001B[38;5;241m.\u001B[39mnext_event()\n\u001B[1;32m    223\u001B[0m \u001B[38;5;28;01mif\u001B[39;00m event \u001B[38;5;129;01mis\u001B[39;00m h11\u001B[38;5;241m.\u001B[39mNEED_DATA:\n\u001B[0;32m--> 224\u001B[0m     data \u001B[38;5;241m=\u001B[39m \u001B[38;5;28;43mself\u001B[39;49m\u001B[38;5;241;43m.\u001B[39;49m\u001B[43m_network_stream\u001B[49m\u001B[38;5;241;43m.\u001B[39;49m\u001B[43mread\u001B[49m\u001B[43m(\u001B[49m\n\u001B[1;32m    225\u001B[0m \u001B[43m        \u001B[49m\u001B[38;5;28;43mself\u001B[39;49m\u001B[38;5;241;43m.\u001B[39;49m\u001B[43mREAD_NUM_BYTES\u001B[49m\u001B[43m,\u001B[49m\u001B[43m \u001B[49m\u001B[43mtimeout\u001B[49m\u001B[38;5;241;43m=\u001B[39;49m\u001B[43mtimeout\u001B[49m\n\u001B[1;32m    226\u001B[0m \u001B[43m    \u001B[49m\u001B[43m)\u001B[49m\n\u001B[1;32m    228\u001B[0m     \u001B[38;5;66;03m# If we feed this case through h11 we'll raise an exception like:\u001B[39;00m\n\u001B[1;32m    229\u001B[0m     \u001B[38;5;66;03m#\u001B[39;00m\n\u001B[1;32m    230\u001B[0m     \u001B[38;5;66;03m#     httpcore.RemoteProtocolError: can't handle event type\u001B[39;00m\n\u001B[0;32m   (...)\u001B[0m\n\u001B[1;32m    234\u001B[0m     \u001B[38;5;66;03m# perspective. Instead we handle this case distinctly and treat\u001B[39;00m\n\u001B[1;32m    235\u001B[0m     \u001B[38;5;66;03m# it as a ConnectError.\u001B[39;00m\n\u001B[1;32m    236\u001B[0m     \u001B[38;5;28;01mif\u001B[39;00m data \u001B[38;5;241m==\u001B[39m \u001B[38;5;124mb\u001B[39m\u001B[38;5;124m\"\u001B[39m\u001B[38;5;124m\"\u001B[39m \u001B[38;5;129;01mand\u001B[39;00m \u001B[38;5;28mself\u001B[39m\u001B[38;5;241m.\u001B[39m_h11_state\u001B[38;5;241m.\u001B[39mtheir_state \u001B[38;5;241m==\u001B[39m h11\u001B[38;5;241m.\u001B[39mSEND_RESPONSE:\n",
      "File \u001B[0;32m~/PycharmProjects/bielik-ft-legal/.venv/lib/python3.11/site-packages/httpcore/_backends/sync.py:126\u001B[0m, in \u001B[0;36mSyncStream.read\u001B[0;34m(self, max_bytes, timeout)\u001B[0m\n\u001B[1;32m    124\u001B[0m \u001B[38;5;28;01mwith\u001B[39;00m map_exceptions(exc_map):\n\u001B[1;32m    125\u001B[0m     \u001B[38;5;28mself\u001B[39m\u001B[38;5;241m.\u001B[39m_sock\u001B[38;5;241m.\u001B[39msettimeout(timeout)\n\u001B[0;32m--> 126\u001B[0m     \u001B[38;5;28;01mreturn\u001B[39;00m \u001B[38;5;28;43mself\u001B[39;49m\u001B[38;5;241;43m.\u001B[39;49m\u001B[43m_sock\u001B[49m\u001B[38;5;241;43m.\u001B[39;49m\u001B[43mrecv\u001B[49m\u001B[43m(\u001B[49m\u001B[43mmax_bytes\u001B[49m\u001B[43m)\u001B[49m\n",
      "File \u001B[0;32m/usr/lib/python3.11/ssl.py:1296\u001B[0m, in \u001B[0;36mSSLSocket.recv\u001B[0;34m(self, buflen, flags)\u001B[0m\n\u001B[1;32m   1292\u001B[0m     \u001B[38;5;28;01mif\u001B[39;00m flags \u001B[38;5;241m!=\u001B[39m \u001B[38;5;241m0\u001B[39m:\n\u001B[1;32m   1293\u001B[0m         \u001B[38;5;28;01mraise\u001B[39;00m \u001B[38;5;167;01mValueError\u001B[39;00m(\n\u001B[1;32m   1294\u001B[0m             \u001B[38;5;124m\"\u001B[39m\u001B[38;5;124mnon-zero flags not allowed in calls to recv() on \u001B[39m\u001B[38;5;132;01m%s\u001B[39;00m\u001B[38;5;124m\"\u001B[39m \u001B[38;5;241m%\u001B[39m\n\u001B[1;32m   1295\u001B[0m             \u001B[38;5;28mself\u001B[39m\u001B[38;5;241m.\u001B[39m\u001B[38;5;18m__class__\u001B[39m)\n\u001B[0;32m-> 1296\u001B[0m     \u001B[38;5;28;01mreturn\u001B[39;00m \u001B[38;5;28;43mself\u001B[39;49m\u001B[38;5;241;43m.\u001B[39;49m\u001B[43mread\u001B[49m\u001B[43m(\u001B[49m\u001B[43mbuflen\u001B[49m\u001B[43m)\u001B[49m\n\u001B[1;32m   1297\u001B[0m \u001B[38;5;28;01melse\u001B[39;00m:\n\u001B[1;32m   1298\u001B[0m     \u001B[38;5;28;01mreturn\u001B[39;00m \u001B[38;5;28msuper\u001B[39m()\u001B[38;5;241m.\u001B[39mrecv(buflen, flags)\n",
      "File \u001B[0;32m/usr/lib/python3.11/ssl.py:1169\u001B[0m, in \u001B[0;36mSSLSocket.read\u001B[0;34m(self, len, buffer)\u001B[0m\n\u001B[1;32m   1167\u001B[0m         \u001B[38;5;28;01mreturn\u001B[39;00m \u001B[38;5;28mself\u001B[39m\u001B[38;5;241m.\u001B[39m_sslobj\u001B[38;5;241m.\u001B[39mread(\u001B[38;5;28mlen\u001B[39m, buffer)\n\u001B[1;32m   1168\u001B[0m     \u001B[38;5;28;01melse\u001B[39;00m:\n\u001B[0;32m-> 1169\u001B[0m         \u001B[38;5;28;01mreturn\u001B[39;00m \u001B[38;5;28;43mself\u001B[39;49m\u001B[38;5;241;43m.\u001B[39;49m\u001B[43m_sslobj\u001B[49m\u001B[38;5;241;43m.\u001B[39;49m\u001B[43mread\u001B[49m\u001B[43m(\u001B[49m\u001B[38;5;28;43mlen\u001B[39;49m\u001B[43m)\u001B[49m\n\u001B[1;32m   1170\u001B[0m \u001B[38;5;28;01mexcept\u001B[39;00m SSLError \u001B[38;5;28;01mas\u001B[39;00m x:\n\u001B[1;32m   1171\u001B[0m     \u001B[38;5;28;01mif\u001B[39;00m x\u001B[38;5;241m.\u001B[39margs[\u001B[38;5;241m0\u001B[39m] \u001B[38;5;241m==\u001B[39m SSL_ERROR_EOF \u001B[38;5;129;01mand\u001B[39;00m \u001B[38;5;28mself\u001B[39m\u001B[38;5;241m.\u001B[39msuppress_ragged_eofs:\n",
      "\u001B[0;31mKeyboardInterrupt\u001B[0m: "
     ]
    }
   ],
   "source": [
    "all_data = []\n",
    "for i, page in tqdm(enumerate(all_chunks)):\n",
    "    page_id = str(uuid.uuid4())\n",
    "    for chunk in enumerate(page):\n",
    "        nth_chunk, text_chunk = chunk\n",
    "        generated_questions = OpenAIReq().call_api(prompt=PromptBuilder.generate_questions(n_questions=3, text=chunk))\n",
    "        data = {'chunk_id': f'{page_id}_{nth_chunk}', \n",
    "                'text_chunk': text_chunk,\n",
    "                'page_id': page_id,\n",
    "                'generated_questions': generated_questions}\n",
    "        all_data.append(data)"
   ],
   "metadata": {
    "collapsed": false,
    "ExecuteTime": {
     "end_time": "2024-08-08T19:27:02.640697Z",
     "start_time": "2024-08-08T19:26:56.195467Z"
    }
   },
   "id": "4d82303b65bbd47",
   "execution_count": 9
  },
  {
   "cell_type": "code",
   "outputs": [
    {
     "data": {
      "text/plain": "                                   chunk_id  \\\n0    a85d0bcd-8bd8-4f01-8a12-afd186aa2381_0   \n1    a85d0bcd-8bd8-4f01-8a12-afd186aa2381_1   \n2    a85d0bcd-8bd8-4f01-8a12-afd186aa2381_2   \n3    a85d0bcd-8bd8-4f01-8a12-afd186aa2381_3   \n4    a85d0bcd-8bd8-4f01-8a12-afd186aa2381_4   \n..                                      ...   \n246  c38a3854-eb6b-41cd-b18c-22ff37a56130_5   \n247  c38a3854-eb6b-41cd-b18c-22ff37a56130_6   \n248  c38a3854-eb6b-41cd-b18c-22ff37a56130_7   \n249  3013532f-7032-49d0-839d-2093d1d4a2fe_0   \n250  3013532f-7032-49d0-839d-2093d1d4a2fe_1   \n\n                                            text_chunk  \\\n0    ©Kancelaria Sejmu \\n \\n \\n \\ns. 1/44 \\n \\n \\n ...   \n1    przedsiębiorstwa; \\n3) \\nzasady i tryb wykonan...   \n2    1) dyrektywę Parlamentu Europejskiego i Rady 2...   \n3    str. 64, z późn. zm.), ostatnio zmienioną dyre...   \n4    90/619/EWG oraz dyrektywy 97/7/WE i 98/27/WE (...   \n..                                                 ...   \n246  – Jeżeli, w przypadku umów zawieranych poza lo...   \n247  inny niż było to konieczne do stwierdzenia cha...   \n248  cieplnej [niepotrzebne skreślić] przed upływem...   \n249  ©Kancelaria Sejmu \\n \\n \\n \\ns. 44/44 \\n \\n \\n...   \n250  umowy dostawy następujących  towarów(*) umowy ...   \n\n                                  page_id  \\\n0    a85d0bcd-8bd8-4f01-8a12-afd186aa2381   \n1    a85d0bcd-8bd8-4f01-8a12-afd186aa2381   \n2    a85d0bcd-8bd8-4f01-8a12-afd186aa2381   \n3    a85d0bcd-8bd8-4f01-8a12-afd186aa2381   \n4    a85d0bcd-8bd8-4f01-8a12-afd186aa2381   \n..                                    ...   \n246  c38a3854-eb6b-41cd-b18c-22ff37a56130   \n247  c38a3854-eb6b-41cd-b18c-22ff37a56130   \n248  c38a3854-eb6b-41cd-b18c-22ff37a56130   \n249  3013532f-7032-49d0-839d-2093d1d4a2fe   \n250  3013532f-7032-49d0-839d-2093d1d4a2fe   \n\n                                   generated_questions  \n0    - Jakie prawa określa ustawa z dnia 30 maja 20...  \n1    - Jakie są zasady i tryb wykonania prawa odstą...  \n2    - Jakie konkretnie prawa konsumentów reguluje ...  \n3    - Jakie zmiany wprowadziła dyrektywa Parlament...  \n4    - Jakie są główne dyrektywy Unii Europejskiej ...  \n..                                                 ...  \n246  - Czy istnieją określone warunki, które muszą ...  \n247  - Czy istnieją określone przepisy dotyczące st...  \n248  - Jakie są konsekwencje dla klienta, jeśli zde...  \n249  - Czy formularz odstąpienia od umowy musi być ...  \n250  - Czy umowy dostawy towarów i umowy o dzieło s...  \n\n[251 rows x 4 columns]",
      "text/html": "<div>\n<style scoped>\n    .dataframe tbody tr th:only-of-type {\n        vertical-align: middle;\n    }\n\n    .dataframe tbody tr th {\n        vertical-align: top;\n    }\n\n    .dataframe thead th {\n        text-align: right;\n    }\n</style>\n<table border=\"1\" class=\"dataframe\">\n  <thead>\n    <tr style=\"text-align: right;\">\n      <th></th>\n      <th>chunk_id</th>\n      <th>text_chunk</th>\n      <th>page_id</th>\n      <th>generated_questions</th>\n    </tr>\n  </thead>\n  <tbody>\n    <tr>\n      <th>0</th>\n      <td>a85d0bcd-8bd8-4f01-8a12-afd186aa2381_0</td>\n      <td>©Kancelaria Sejmu \\n \\n \\n \\ns. 1/44 \\n \\n \\n ...</td>\n      <td>a85d0bcd-8bd8-4f01-8a12-afd186aa2381</td>\n      <td>- Jakie prawa określa ustawa z dnia 30 maja 20...</td>\n    </tr>\n    <tr>\n      <th>1</th>\n      <td>a85d0bcd-8bd8-4f01-8a12-afd186aa2381_1</td>\n      <td>przedsiębiorstwa; \\n3) \\nzasady i tryb wykonan...</td>\n      <td>a85d0bcd-8bd8-4f01-8a12-afd186aa2381</td>\n      <td>- Jakie są zasady i tryb wykonania prawa odstą...</td>\n    </tr>\n    <tr>\n      <th>2</th>\n      <td>a85d0bcd-8bd8-4f01-8a12-afd186aa2381_2</td>\n      <td>1) dyrektywę Parlamentu Europejskiego i Rady 2...</td>\n      <td>a85d0bcd-8bd8-4f01-8a12-afd186aa2381</td>\n      <td>- Jakie konkretnie prawa konsumentów reguluje ...</td>\n    </tr>\n    <tr>\n      <th>3</th>\n      <td>a85d0bcd-8bd8-4f01-8a12-afd186aa2381_3</td>\n      <td>str. 64, z późn. zm.), ostatnio zmienioną dyre...</td>\n      <td>a85d0bcd-8bd8-4f01-8a12-afd186aa2381</td>\n      <td>- Jakie zmiany wprowadziła dyrektywa Parlament...</td>\n    </tr>\n    <tr>\n      <th>4</th>\n      <td>a85d0bcd-8bd8-4f01-8a12-afd186aa2381_4</td>\n      <td>90/619/EWG oraz dyrektywy 97/7/WE i 98/27/WE (...</td>\n      <td>a85d0bcd-8bd8-4f01-8a12-afd186aa2381</td>\n      <td>- Jakie są główne dyrektywy Unii Europejskiej ...</td>\n    </tr>\n    <tr>\n      <th>...</th>\n      <td>...</td>\n      <td>...</td>\n      <td>...</td>\n      <td>...</td>\n    </tr>\n    <tr>\n      <th>246</th>\n      <td>c38a3854-eb6b-41cd-b18c-22ff37a56130_5</td>\n      <td>– Jeżeli, w przypadku umów zawieranych poza lo...</td>\n      <td>c38a3854-eb6b-41cd-b18c-22ff37a56130</td>\n      <td>- Czy istnieją określone warunki, które muszą ...</td>\n    </tr>\n    <tr>\n      <th>247</th>\n      <td>c38a3854-eb6b-41cd-b18c-22ff37a56130_6</td>\n      <td>inny niż było to konieczne do stwierdzenia cha...</td>\n      <td>c38a3854-eb6b-41cd-b18c-22ff37a56130</td>\n      <td>- Czy istnieją określone przepisy dotyczące st...</td>\n    </tr>\n    <tr>\n      <th>248</th>\n      <td>c38a3854-eb6b-41cd-b18c-22ff37a56130_7</td>\n      <td>cieplnej [niepotrzebne skreślić] przed upływem...</td>\n      <td>c38a3854-eb6b-41cd-b18c-22ff37a56130</td>\n      <td>- Jakie są konsekwencje dla klienta, jeśli zde...</td>\n    </tr>\n    <tr>\n      <th>249</th>\n      <td>3013532f-7032-49d0-839d-2093d1d4a2fe_0</td>\n      <td>©Kancelaria Sejmu \\n \\n \\n \\ns. 44/44 \\n \\n \\n...</td>\n      <td>3013532f-7032-49d0-839d-2093d1d4a2fe</td>\n      <td>- Czy formularz odstąpienia od umowy musi być ...</td>\n    </tr>\n    <tr>\n      <th>250</th>\n      <td>3013532f-7032-49d0-839d-2093d1d4a2fe_1</td>\n      <td>umowy dostawy następujących  towarów(*) umowy ...</td>\n      <td>3013532f-7032-49d0-839d-2093d1d4a2fe</td>\n      <td>- Czy umowy dostawy towarów i umowy o dzieło s...</td>\n    </tr>\n  </tbody>\n</table>\n<p>251 rows × 4 columns</p>\n</div>"
     },
     "execution_count": 57,
     "metadata": {},
     "output_type": "execute_result"
    }
   ],
   "source": [
    "df = pd.DataFrame.from_dict(data=all_data)\n",
    "df"
   ],
   "metadata": {
    "collapsed": false,
    "ExecuteTime": {
     "end_time": "2024-07-02T21:09:47.161279Z",
     "start_time": "2024-07-02T21:09:47.134941Z"
    }
   },
   "id": "4ab9600a6fef8f1f",
   "execution_count": 57
  },
  {
   "cell_type": "code",
   "outputs": [],
   "source": [
    "# Saving checkpoint\n",
    "df.to_excel('data/01_questions_and_chunks.xlsx')"
   ],
   "metadata": {
    "collapsed": false,
    "ExecuteTime": {
     "end_time": "2024-07-02T21:10:47.985365Z",
     "start_time": "2024-07-02T21:10:47.822674Z"
    }
   },
   "id": "e2ba02ab1e7a4d6",
   "execution_count": 59
  },
  {
   "cell_type": "code",
   "outputs": [],
   "source": [
    "df = pd.read_excel('data/questions_and_chunks.xlsx', index_col=0)"
   ],
   "metadata": {
    "collapsed": false,
    "ExecuteTime": {
     "end_time": "2024-08-10T20:06:07.935662Z",
     "start_time": "2024-08-10T20:06:07.789519Z"
    }
   },
   "id": "b19dd0b008b72db2",
   "execution_count": 7
  },
  {
   "cell_type": "code",
   "outputs": [],
   "source": [
    "def process_df_with_questions(data: pd.DataFrame) -> pd.DataFrame:\n",
    "    data['generated_questions_array'] = data['generated_questions'].str.split('\\n')\n",
    "    data = data.explode('generated_questions_array')\n",
    "    data = data[~data['generated_questions_array'].isna()]\n",
    "    data['generated_questions_array']  = data['generated_questions_array'].replace(r'^\\s*$', np.nan, regex=True)\n",
    "    return data\n",
    "\n",
    "df = process_df_with_questions(data=df)"
   ],
   "metadata": {
    "collapsed": false,
    "ExecuteTime": {
     "end_time": "2024-08-10T20:06:17.539709Z",
     "start_time": "2024-08-10T20:06:17.523556Z"
    }
   },
   "id": "35b9ee452b7a2150",
   "execution_count": 8
  },
  {
   "cell_type": "markdown",
   "source": [
    "### Fetching answer for generated question based on chunk"
   ],
   "metadata": {
    "collapsed": false
   },
   "id": "275c63e3cb6fc457"
  },
  {
   "cell_type": "code",
   "outputs": [],
   "source": [
    "df['answer'] = df.apply(lambda x: OpenAIReq().call_api(prompt=PromptBuilder.get_answers_based_on_text_and_questions(text=x['text_chunk'], question= x['generated_questions_array']), axis=1))"
   ],
   "metadata": {
    "collapsed": false,
    "ExecuteTime": {
     "end_time": "2024-07-09T21:36:13.022577Z",
     "start_time": "2024-07-09T21:02:20.040785Z"
    }
   },
   "id": "52c677467cd4e8a9",
   "execution_count": 47
  },
  {
   "cell_type": "code",
   "outputs": [],
   "source": [
    "df.to_excel('data/data_with_answers.xlsx')"
   ],
   "metadata": {
    "collapsed": false,
    "ExecuteTime": {
     "end_time": "2024-08-10T20:06:29.689621Z",
     "start_time": "2024-08-10T20:06:29.453172Z"
    }
   },
   "id": "7ffc4b48b6b238b0",
   "execution_count": 9
  },
  {
   "cell_type": "markdown",
   "source": [
    "### Verifing the quality of generated answers and questions based on selected metrics"
   ],
   "metadata": {
    "collapsed": false
   },
   "id": "9cae6a0dbd3cb4ce"
  },
  {
   "cell_type": "markdown",
   "source": [
    "#### Selected metrics\n",
    "- Coverage \n",
    "- Coherence (Consistency)\n",
    "- Word Mover Distance \n",
    "- Relevance\n",
    "- Global relevance"
   ],
   "metadata": {
    "collapsed": false
   },
   "id": "e94f1af1e0e870c6"
  },
  {
   "cell_type": "code",
   "outputs": [
    {
     "ename": "NameError",
     "evalue": "name 'new_data' is not defined",
     "output_type": "error",
     "traceback": [
      "\u001B[0;31m---------------------------------------------------------------------------\u001B[0m",
      "\u001B[0;31mNameError\u001B[0m                                 Traceback (most recent call last)",
      "Cell \u001B[0;32mIn[58], line 1\u001B[0m\n\u001B[0;32m----> 1\u001B[0m new_data[\u001B[38;5;124m'\u001B[39m\u001B[38;5;124mcoverage_rating\u001B[39m\u001B[38;5;124m'\u001B[39m] \u001B[38;5;241m=\u001B[39m \u001B[43mnew_data\u001B[49m\u001B[38;5;241m.\u001B[39mapply(\u001B[38;5;28;01mlambda\u001B[39;00m x: get_covarage_by_gpt(question\u001B[38;5;241m=\u001B[39mx[\u001B[38;5;124m'\u001B[39m\u001B[38;5;124mgenerated_questions_array\u001B[39m\u001B[38;5;124m'\u001B[39m], context\u001B[38;5;241m=\u001B[39mx[\u001B[38;5;124m'\u001B[39m\u001B[38;5;124mtext_chunk\u001B[39m\u001B[38;5;124m'\u001B[39m]), axis\u001B[38;5;241m=\u001B[39m\u001B[38;5;241m1\u001B[39m)\n",
      "\u001B[0;31mNameError\u001B[0m: name 'new_data' is not defined"
     ]
    }
   ],
   "source": [
    "df['coverage_rating'] = df.apply(lambda x: OpenAIReq().call_api(prompt=PromptBuilder.get_coverage(question=x['generated_questions_array'], context=x['text_chunk']), axis=1))"
   ],
   "metadata": {
    "collapsed": false,
    "ExecuteTime": {
     "end_time": "2024-07-17T20:42:13.774061Z",
     "start_time": "2024-07-17T20:42:13.731778Z"
    }
   },
   "id": "2236331b1ab02459",
   "execution_count": 58
  },
  {
   "cell_type": "code",
   "outputs": [],
   "source": [
    "pd.plotting.hist_series(df['coverage_rating'])"
   ],
   "metadata": {
    "collapsed": false
   },
   "id": "b2c2161190553c4d"
  },
  {
   "cell_type": "code",
   "outputs": [],
   "source": [
    "df.to_excel('data/03_data_with_answers_and_cov.xlsx')"
   ],
   "metadata": {
    "collapsed": false,
    "ExecuteTime": {
     "end_time": "2024-07-11T21:09:01.024201Z",
     "start_time": "2024-07-11T21:09:00.823122Z"
    }
   },
   "id": "c7f4a8519c997e1d",
   "execution_count": 63
  },
  {
   "cell_type": "code",
   "outputs": [],
   "source": [
    "df['text_wo_stopwords'] = df['text_chunk'].apply(remove_stopwords)"
   ],
   "metadata": {
    "collapsed": false,
    "ExecuteTime": {
     "end_time": "2024-07-13T22:00:56.867565Z",
     "start_time": "2024-07-13T22:00:56.638848Z"
    }
   },
   "id": "b66288be20797b2d",
   "execution_count": 79
  },
  {
   "cell_type": "code",
   "outputs": [],
   "source": [
    "df['question_wo_stopwords'] = df['generated_questions_array'].apply(remove_stopwords)"
   ],
   "metadata": {
    "collapsed": false,
    "ExecuteTime": {
     "end_time": "2024-07-13T22:01:36.501563Z",
     "start_time": "2024-07-13T22:01:36.436698Z"
    }
   },
   "id": "422c151aee1af234",
   "execution_count": 81
  },
  {
   "cell_type": "code",
   "outputs": [],
   "source": [
    "df.to_excel('data/04_data_without_stopwords.xlsx')"
   ],
   "metadata": {
    "collapsed": false,
    "ExecuteTime": {
     "end_time": "2024-07-13T22:07:48.068971Z",
     "start_time": "2024-07-13T22:07:47.817912Z"
    }
   },
   "id": "21dc77ebcfa3e118",
   "execution_count": 83
  },
  {
   "cell_type": "code",
   "outputs": [],
   "source": [
    "df = pd.read_excel('data/data_without_stopdwords.xlsx', index_col=0)"
   ],
   "metadata": {
    "collapsed": false,
    "ExecuteTime": {
     "end_time": "2024-08-10T20:07:11.013641Z",
     "start_time": "2024-08-10T20:07:10.798416Z"
    }
   },
   "id": "5fe0dbe2a82d6331",
   "execution_count": 11
  },
  {
   "cell_type": "code",
   "outputs": [],
   "source": [
    "df['chunk'] = df['text_chunk'].apply(lambda x: clean_text(x))"
   ],
   "metadata": {
    "collapsed": false,
    "ExecuteTime": {
     "end_time": "2024-08-10T20:07:17.126957Z",
     "start_time": "2024-08-10T20:07:17.122138Z"
    }
   },
   "id": "c5a46b5bb58b4393",
   "execution_count": 12
  },
  {
   "cell_type": "code",
   "outputs": [],
   "source": [
    "dist_evaluator = DistanceEvaluator()\n",
    "df['wmd_question_answer'] = df.apply(lambda x: dist_evaluator.get_diversity_by_wmd(x['generated_questions_array'], x['answer']), axis=1)"
   ],
   "metadata": {
    "collapsed": false,
    "ExecuteTime": {
     "end_time": "2024-08-10T20:07:36.027817Z",
     "start_time": "2024-08-10T20:07:18.123775Z"
    }
   },
   "id": "50ae52f32b690618",
   "execution_count": 13
  },
  {
   "cell_type": "code",
   "outputs": [],
   "source": [
    "pd.plotting.hist_series(df['wmd_question_answer'])"
   ],
   "metadata": {
    "collapsed": false
   },
   "id": "f9c65aba6f9dd48c",
   "execution_count": null
  },
  {
   "cell_type": "code",
   "outputs": [],
   "source": [
    "pd.plotting.hist_series(df['wmd'])"
   ],
   "metadata": {
    "collapsed": false
   },
   "id": "dc220eed2c502e94",
   "execution_count": null
  },
  {
   "cell_type": "code",
   "outputs": [],
   "source": [
    "sample_df = df.sample(3)"
   ],
   "metadata": {
    "collapsed": false,
    "ExecuteTime": {
     "end_time": "2024-07-18T20:27:06.084947Z",
     "start_time": "2024-07-18T20:27:06.078510Z"
    }
   },
   "id": "d6c36a82104e79aa",
   "execution_count": 63
  },
  {
   "cell_type": "code",
   "outputs": [],
   "source": [
    "df['coherence'] = df['generated_questions_array'].apply(lambda x: OpenAIReq().call_api(prompt=PromptBuilder.get_coherence(x)))"
   ],
   "metadata": {
    "collapsed": false,
    "ExecuteTime": {
     "end_time": "2024-07-18T21:42:01.762216Z",
     "start_time": "2024-07-18T21:24:48.354543Z"
    }
   },
   "id": "32486365e32e803d",
   "execution_count": 96
  },
  {
   "cell_type": "code",
   "outputs": [],
   "source": [
    "df.to_excel('data/data_with_coherence.xlsx')"
   ],
   "metadata": {
    "collapsed": false,
    "ExecuteTime": {
     "end_time": "2024-07-18T22:24:24.543851Z",
     "start_time": "2024-07-18T22:24:23.786344Z"
    }
   },
   "id": "6ba94a9c77f3d94e",
   "execution_count": 98
  },
  {
   "cell_type": "code",
   "outputs": [],
   "source": [
    "df = pd.read_excel('data/data_with_coherence.xlsx', index_col=0)"
   ],
   "metadata": {
    "collapsed": false,
    "ExecuteTime": {
     "end_time": "2024-08-10T20:08:31.673153Z",
     "start_time": "2024-08-10T20:08:31.371177Z"
    }
   },
   "id": "78c7bb232d1cb76b",
   "execution_count": 16
  },
  {
   "cell_type": "code",
   "outputs": [
    {
     "data": {
      "text/plain": "Index(['chunk_id', 'text_chunk', 'page_id', 'generated_questions',\n       'generated_questions_array', 'answer', 'coverage_rating',\n       'coverage_rating_no_answer', 'text_wo_stopwords',\n       'question_wo_stopwords', 'chunk', 'wmd', 'wmd_question_answer',\n       'coherence'],\n      dtype='object')"
     },
     "execution_count": 17,
     "metadata": {},
     "output_type": "execute_result"
    }
   ],
   "source": [
    "df.columns"
   ],
   "metadata": {
    "collapsed": false,
    "ExecuteTime": {
     "end_time": "2024-08-10T20:08:52.235090Z",
     "start_time": "2024-08-10T20:08:52.230701Z"
    }
   },
   "id": "edc725982f67956c",
   "execution_count": 17
  },
  {
   "cell_type": "code",
   "outputs": [],
   "source": [
    "df[['coherence_rate', 'coherence_expl']] = df.coherence.str.split(',', n=1,  expand=True)"
   ],
   "metadata": {
    "collapsed": false,
    "ExecuteTime": {
     "end_time": "2024-07-20T20:28:24.362034Z",
     "start_time": "2024-07-20T20:28:24.355897Z"
    }
   },
   "id": "e268a89807a37499",
   "execution_count": 113
  },
  {
   "cell_type": "code",
   "outputs": [
    {
     "data": {
      "text/plain": "     Unnamed: 0                                chunk_id  \\\n0             0  a85d0bcd-8bd8-4f01-8a12-afd186aa2381_0   \n1             0  a85d0bcd-8bd8-4f01-8a12-afd186aa2381_0   \n2             0  a85d0bcd-8bd8-4f01-8a12-afd186aa2381_0   \n3             1  a85d0bcd-8bd8-4f01-8a12-afd186aa2381_1   \n4             1  a85d0bcd-8bd8-4f01-8a12-afd186aa2381_1   \n..          ...                                     ...   \n748         249  3013532f-7032-49d0-839d-2093d1d4a2fe_0   \n749         249  3013532f-7032-49d0-839d-2093d1d4a2fe_0   \n750         250  3013532f-7032-49d0-839d-2093d1d4a2fe_1   \n751         250  3013532f-7032-49d0-839d-2093d1d4a2fe_1   \n752         250  3013532f-7032-49d0-839d-2093d1d4a2fe_1   \n\n                                            text_chunk  \\\n0    ©Kancelaria Sejmu \\n \\n \\n \\ns. 1/44 \\n \\n \\n ...   \n1    ©Kancelaria Sejmu \\n \\n \\n \\ns. 1/44 \\n \\n \\n ...   \n2    ©Kancelaria Sejmu \\n \\n \\n \\ns. 1/44 \\n \\n \\n ...   \n3    przedsiębiorstwa; \\n3) \\nzasady i tryb wykonan...   \n4    przedsiębiorstwa; \\n3) \\nzasady i tryb wykonan...   \n..                                                 ...   \n748  ©Kancelaria Sejmu \\n \\n \\n \\ns. 44/44 \\n \\n \\n...   \n749  ©Kancelaria Sejmu \\n \\n \\n \\ns. 44/44 \\n \\n \\n...   \n750  umowy dostawy następujących  towarów(*) umowy ...   \n751  umowy dostawy następujących  towarów(*) umowy ...   \n752  umowy dostawy następujących  towarów(*) umowy ...   \n\n                                  page_id  \\\n0    a85d0bcd-8bd8-4f01-8a12-afd186aa2381   \n1    a85d0bcd-8bd8-4f01-8a12-afd186aa2381   \n2    a85d0bcd-8bd8-4f01-8a12-afd186aa2381   \n3    a85d0bcd-8bd8-4f01-8a12-afd186aa2381   \n4    a85d0bcd-8bd8-4f01-8a12-afd186aa2381   \n..                                    ...   \n748  3013532f-7032-49d0-839d-2093d1d4a2fe   \n749  3013532f-7032-49d0-839d-2093d1d4a2fe   \n750  3013532f-7032-49d0-839d-2093d1d4a2fe   \n751  3013532f-7032-49d0-839d-2093d1d4a2fe   \n752  3013532f-7032-49d0-839d-2093d1d4a2fe   \n\n                                   generated_questions  \\\n0    - Jakie prawa określa ustawa z dnia 30 maja 20...   \n1    - Jakie prawa określa ustawa z dnia 30 maja 20...   \n2    - Jakie prawa określa ustawa z dnia 30 maja 20...   \n3    - Jakie są zasady i tryb wykonania prawa odstą...   \n4    - Jakie są zasady i tryb wykonania prawa odstą...   \n..                                                 ...   \n748  - Czy formularz odstąpienia od umowy musi być ...   \n749  - Czy formularz odstąpienia od umowy musi być ...   \n750  - Czy umowy dostawy towarów i umowy o dzieło s...   \n751  - Czy umowy dostawy towarów i umowy o dzieło s...   \n752  - Czy umowy dostawy towarów i umowy o dzieło s...   \n\n                             generated_questions_array  \\\n0    - Jakie prawa określa ustawa z dnia 30 maja 20...   \n1    - Jakie obowiązki ma przedsiębiorca zawierając...   \n2    - W jaki sposób regulowane są zasady i tryb za...   \n3    - Jakie są zasady i tryb wykonania prawa odstą...   \n4    - W jaki sposób regulacje dotyczące umowy na o...   \n..                                                 ...   \n748  - Jakie są konsekwencje prawne dla konsumenta,...   \n749  - Czy istnieją okoliczności, w których odstąpi...   \n750  - Czy umowy dostawy towarów i umowy o dzieło s...   \n751  - Jakie są konsekwencje prawne braku podpisu k...   \n752  - Czy istnieją szczególne wymagania co do daty...   \n\n                                                answer  coverage_rating  \\\n0    Ustawa z dnia 30 maja 2014 r. o prawach konsum...                5   \n1    Zgodnie z art. 1 ustawy o prawach konsumenta, ...                5   \n2    Zasady i tryb zawierania umowy na odległość i ...                5   \n3    Zasady i tryb wykonania prawa odstąpienia od u...                5   \n4    Umowa na odległość dotycząca usług finansowych...                5   \n..                                                 ...              ...   \n748  Jeśli konsument nie zastosuje się do procedury...                5   \n749  Tak, istnieją okoliczności, w których odstąpie...                5   \n750  Tak, umowy dostawy towarów i umowy o dzieło są...                5   \n751  Brak podpisu konsumenta na formularzu umowy w ...                5   \n752  W polskim prawie istnieją szczególne wymagania...                5   \n\n     coverage_rating_no_answer  \\\n0                            5   \n1                            5   \n2                            5   \n3                            5   \n4                            5   \n..                         ...   \n748                          5   \n749                          5   \n750                          5   \n751                          5   \n752                          5   \n\n                                     text_wo_stopwords  \\\n0    ['©kancelaria', 'sejmu', 's.', '1/44', '2024-0...   \n1    ['©kancelaria', 'sejmu', 's.', '1/44', '2024-0...   \n2    ['©kancelaria', 'sejmu', 's.', '1/44', '2024-0...   \n3    ['przedsiębiorstwa;', '3)', 'zasady', 'tryb', ...   \n4    ['przedsiębiorstwa;', '3)', 'zasady', 'tryb', ...   \n..                                                 ...   \n748  ['©kancelaria', 'sejmu', 's.', '44/44', '2024-...   \n749  ['©kancelaria', 'sejmu', 's.', '44/44', '2024-...   \n750  ['umowy', 'dostawy', 'następujących', 'towarów...   \n751  ['umowy', 'dostawy', 'następujących', 'towarów...   \n752  ['umowy', 'dostawy', 'następujących', 'towarów...   \n\n                                 question_wo_stopwords  \\\n0    ['-', 'prawa', 'określa', 'ustawa', 'dnia', '3...   \n1    ['-', 'obowiązki', 'przedsiębiorca', 'zawieraj...   \n2    ['-', 'regulowane', 'zasady', 'tryb', 'zawiera...   \n3    ['-', 'zasady', 'tryb', 'wykonania', 'prawa', ...   \n4    ['-', 'regulacje', 'dotyczące', 'umowy', 'odle...   \n..                                                 ...   \n748  ['-', 'konsekwencje', 'prawne', 'konsumenta,',...   \n749  ['-', 'istnieją', 'okoliczności,', 'odstąpieni...   \n750  ['-', 'umowy', 'dostawy', 'towarów', 'umowy', ...   \n751  ['-', 'konsekwencje', 'prawne', 'braku', 'podp...   \n752  ['-', 'istnieją', 'szczególne', 'wymagania', '...   \n\n                                                 chunk       wmd  \\\n0    ©Kancelaria Sejmu    s. 1/44    2024-01-18   D...  0.301395   \n1    ©Kancelaria Sejmu    s. 1/44    2024-01-18   D...  0.209397   \n2    ©Kancelaria Sejmu    s. 1/44    2024-01-18   D...  0.216716   \n3    przedsiębiorstwa; 3) zasady i tryb wykonania p...  0.153880   \n4    przedsiębiorstwa; 3) zasady i tryb wykonania p...  0.284043   \n..                                                 ...       ...   \n748  ©Kancelaria Sejmu    s. 44/44    2024-01-18  Z...  0.232825   \n749  ©Kancelaria Sejmu    s. 44/44    2024-01-18  Z...  0.269681   \n750  umowy dostawy następujących  towarów(*) umowy ...  0.280867   \n751  umowy dostawy następujących  towarów(*) umowy ...  0.273275   \n752  umowy dostawy następujących  towarów(*) umowy ...  0.208608   \n\n     wmd_question_answer                                          coherence  \\\n0               0.341273  (3, \"The question is coherent as it clearly as...   \n1               0.139826  (3, The question is coherent in terms of askin...   \n2               0.122686  (4, \"The question is coherent and fluent, but ...   \n3               0.112443  (4, The question is coherent and fluent as it ...   \n4               0.264828  (4, \"The question is coherent and clear, but c...   \n..                   ...                                                ...   \n748             0.137973  (4, \"The question is coherent and clear, but c...   \n749             0.169267  (3, \"The question is clear and addresses a spe...   \n750             0.093707  (3, \"The question is coherent but could be mor...   \n751             0.212574  (4, \"The question is clear and specific, askin...   \n752             0.127500  (4, \"The question is coherent and clear, but c...   \n\n    coherence_rate                                     coherence_expl  \n0                3   The question is coherent as it clearly asks a...  \n1                3   The question is coherent in terms of asking a...  \n2                4   The question is coherent and fluent, but coul...  \n3                4   The question is coherent and fluent as it cle...  \n4                4   The question is coherent and clear, but could...  \n..             ...                                                ...  \n748              4   The question is coherent and clear, but could...  \n749              3   The question is clear and addresses a specifi...  \n750              3   The question is coherent but could be more co...  \n751              4   The question is clear and specific, asking ab...  \n752              4   The question is coherent and clear, but could...  \n\n[753 rows x 17 columns]",
      "text/html": "<div>\n<style scoped>\n    .dataframe tbody tr th:only-of-type {\n        vertical-align: middle;\n    }\n\n    .dataframe tbody tr th {\n        vertical-align: top;\n    }\n\n    .dataframe thead th {\n        text-align: right;\n    }\n</style>\n<table border=\"1\" class=\"dataframe\">\n  <thead>\n    <tr style=\"text-align: right;\">\n      <th></th>\n      <th>Unnamed: 0</th>\n      <th>chunk_id</th>\n      <th>text_chunk</th>\n      <th>page_id</th>\n      <th>generated_questions</th>\n      <th>generated_questions_array</th>\n      <th>answer</th>\n      <th>coverage_rating</th>\n      <th>coverage_rating_no_answer</th>\n      <th>text_wo_stopwords</th>\n      <th>question_wo_stopwords</th>\n      <th>chunk</th>\n      <th>wmd</th>\n      <th>wmd_question_answer</th>\n      <th>coherence</th>\n      <th>coherence_rate</th>\n      <th>coherence_expl</th>\n    </tr>\n  </thead>\n  <tbody>\n    <tr>\n      <th>0</th>\n      <td>0</td>\n      <td>a85d0bcd-8bd8-4f01-8a12-afd186aa2381_0</td>\n      <td>©Kancelaria Sejmu \\n \\n \\n \\ns. 1/44 \\n \\n \\n ...</td>\n      <td>a85d0bcd-8bd8-4f01-8a12-afd186aa2381</td>\n      <td>- Jakie prawa określa ustawa z dnia 30 maja 20...</td>\n      <td>- Jakie prawa określa ustawa z dnia 30 maja 20...</td>\n      <td>Ustawa z dnia 30 maja 2014 r. o prawach konsum...</td>\n      <td>5</td>\n      <td>5</td>\n      <td>['©kancelaria', 'sejmu', 's.', '1/44', '2024-0...</td>\n      <td>['-', 'prawa', 'określa', 'ustawa', 'dnia', '3...</td>\n      <td>©Kancelaria Sejmu    s. 1/44    2024-01-18   D...</td>\n      <td>0.301395</td>\n      <td>0.341273</td>\n      <td>(3, \"The question is coherent as it clearly as...</td>\n      <td>3</td>\n      <td>The question is coherent as it clearly asks a...</td>\n    </tr>\n    <tr>\n      <th>1</th>\n      <td>0</td>\n      <td>a85d0bcd-8bd8-4f01-8a12-afd186aa2381_0</td>\n      <td>©Kancelaria Sejmu \\n \\n \\n \\ns. 1/44 \\n \\n \\n ...</td>\n      <td>a85d0bcd-8bd8-4f01-8a12-afd186aa2381</td>\n      <td>- Jakie prawa określa ustawa z dnia 30 maja 20...</td>\n      <td>- Jakie obowiązki ma przedsiębiorca zawierając...</td>\n      <td>Zgodnie z art. 1 ustawy o prawach konsumenta, ...</td>\n      <td>5</td>\n      <td>5</td>\n      <td>['©kancelaria', 'sejmu', 's.', '1/44', '2024-0...</td>\n      <td>['-', 'obowiązki', 'przedsiębiorca', 'zawieraj...</td>\n      <td>©Kancelaria Sejmu    s. 1/44    2024-01-18   D...</td>\n      <td>0.209397</td>\n      <td>0.139826</td>\n      <td>(3, The question is coherent in terms of askin...</td>\n      <td>3</td>\n      <td>The question is coherent in terms of asking a...</td>\n    </tr>\n    <tr>\n      <th>2</th>\n      <td>0</td>\n      <td>a85d0bcd-8bd8-4f01-8a12-afd186aa2381_0</td>\n      <td>©Kancelaria Sejmu \\n \\n \\n \\ns. 1/44 \\n \\n \\n ...</td>\n      <td>a85d0bcd-8bd8-4f01-8a12-afd186aa2381</td>\n      <td>- Jakie prawa określa ustawa z dnia 30 maja 20...</td>\n      <td>- W jaki sposób regulowane są zasady i tryb za...</td>\n      <td>Zasady i tryb zawierania umowy na odległość i ...</td>\n      <td>5</td>\n      <td>5</td>\n      <td>['©kancelaria', 'sejmu', 's.', '1/44', '2024-0...</td>\n      <td>['-', 'regulowane', 'zasady', 'tryb', 'zawiera...</td>\n      <td>©Kancelaria Sejmu    s. 1/44    2024-01-18   D...</td>\n      <td>0.216716</td>\n      <td>0.122686</td>\n      <td>(4, \"The question is coherent and fluent, but ...</td>\n      <td>4</td>\n      <td>The question is coherent and fluent, but coul...</td>\n    </tr>\n    <tr>\n      <th>3</th>\n      <td>1</td>\n      <td>a85d0bcd-8bd8-4f01-8a12-afd186aa2381_1</td>\n      <td>przedsiębiorstwa; \\n3) \\nzasady i tryb wykonan...</td>\n      <td>a85d0bcd-8bd8-4f01-8a12-afd186aa2381</td>\n      <td>- Jakie są zasady i tryb wykonania prawa odstą...</td>\n      <td>- Jakie są zasady i tryb wykonania prawa odstą...</td>\n      <td>Zasady i tryb wykonania prawa odstąpienia od u...</td>\n      <td>5</td>\n      <td>5</td>\n      <td>['przedsiębiorstwa;', '3)', 'zasady', 'tryb', ...</td>\n      <td>['-', 'zasady', 'tryb', 'wykonania', 'prawa', ...</td>\n      <td>przedsiębiorstwa; 3) zasady i tryb wykonania p...</td>\n      <td>0.153880</td>\n      <td>0.112443</td>\n      <td>(4, The question is coherent and fluent as it ...</td>\n      <td>4</td>\n      <td>The question is coherent and fluent as it cle...</td>\n    </tr>\n    <tr>\n      <th>4</th>\n      <td>1</td>\n      <td>a85d0bcd-8bd8-4f01-8a12-afd186aa2381_1</td>\n      <td>przedsiębiorstwa; \\n3) \\nzasady i tryb wykonan...</td>\n      <td>a85d0bcd-8bd8-4f01-8a12-afd186aa2381</td>\n      <td>- Jakie są zasady i tryb wykonania prawa odstą...</td>\n      <td>- W jaki sposób regulacje dotyczące umowy na o...</td>\n      <td>Umowa na odległość dotycząca usług finansowych...</td>\n      <td>5</td>\n      <td>5</td>\n      <td>['przedsiębiorstwa;', '3)', 'zasady', 'tryb', ...</td>\n      <td>['-', 'regulacje', 'dotyczące', 'umowy', 'odle...</td>\n      <td>przedsiębiorstwa; 3) zasady i tryb wykonania p...</td>\n      <td>0.284043</td>\n      <td>0.264828</td>\n      <td>(4, \"The question is coherent and clear, but c...</td>\n      <td>4</td>\n      <td>The question is coherent and clear, but could...</td>\n    </tr>\n    <tr>\n      <th>...</th>\n      <td>...</td>\n      <td>...</td>\n      <td>...</td>\n      <td>...</td>\n      <td>...</td>\n      <td>...</td>\n      <td>...</td>\n      <td>...</td>\n      <td>...</td>\n      <td>...</td>\n      <td>...</td>\n      <td>...</td>\n      <td>...</td>\n      <td>...</td>\n      <td>...</td>\n      <td>...</td>\n      <td>...</td>\n    </tr>\n    <tr>\n      <th>748</th>\n      <td>249</td>\n      <td>3013532f-7032-49d0-839d-2093d1d4a2fe_0</td>\n      <td>©Kancelaria Sejmu \\n \\n \\n \\ns. 44/44 \\n \\n \\n...</td>\n      <td>3013532f-7032-49d0-839d-2093d1d4a2fe</td>\n      <td>- Czy formularz odstąpienia od umowy musi być ...</td>\n      <td>- Jakie są konsekwencje prawne dla konsumenta,...</td>\n      <td>Jeśli konsument nie zastosuje się do procedury...</td>\n      <td>5</td>\n      <td>5</td>\n      <td>['©kancelaria', 'sejmu', 's.', '44/44', '2024-...</td>\n      <td>['-', 'konsekwencje', 'prawne', 'konsumenta,',...</td>\n      <td>©Kancelaria Sejmu    s. 44/44    2024-01-18  Z...</td>\n      <td>0.232825</td>\n      <td>0.137973</td>\n      <td>(4, \"The question is coherent and clear, but c...</td>\n      <td>4</td>\n      <td>The question is coherent and clear, but could...</td>\n    </tr>\n    <tr>\n      <th>749</th>\n      <td>249</td>\n      <td>3013532f-7032-49d0-839d-2093d1d4a2fe_0</td>\n      <td>©Kancelaria Sejmu \\n \\n \\n \\ns. 44/44 \\n \\n \\n...</td>\n      <td>3013532f-7032-49d0-839d-2093d1d4a2fe</td>\n      <td>- Czy formularz odstąpienia od umowy musi być ...</td>\n      <td>- Czy istnieją okoliczności, w których odstąpi...</td>\n      <td>Tak, istnieją okoliczności, w których odstąpie...</td>\n      <td>5</td>\n      <td>5</td>\n      <td>['©kancelaria', 'sejmu', 's.', '44/44', '2024-...</td>\n      <td>['-', 'istnieją', 'okoliczności,', 'odstąpieni...</td>\n      <td>©Kancelaria Sejmu    s. 44/44    2024-01-18  Z...</td>\n      <td>0.269681</td>\n      <td>0.169267</td>\n      <td>(3, \"The question is clear and addresses a spe...</td>\n      <td>3</td>\n      <td>The question is clear and addresses a specifi...</td>\n    </tr>\n    <tr>\n      <th>750</th>\n      <td>250</td>\n      <td>3013532f-7032-49d0-839d-2093d1d4a2fe_1</td>\n      <td>umowy dostawy następujących  towarów(*) umowy ...</td>\n      <td>3013532f-7032-49d0-839d-2093d1d4a2fe</td>\n      <td>- Czy umowy dostawy towarów i umowy o dzieło s...</td>\n      <td>- Czy umowy dostawy towarów i umowy o dzieło s...</td>\n      <td>Tak, umowy dostawy towarów i umowy o dzieło są...</td>\n      <td>5</td>\n      <td>5</td>\n      <td>['umowy', 'dostawy', 'następujących', 'towarów...</td>\n      <td>['-', 'umowy', 'dostawy', 'towarów', 'umowy', ...</td>\n      <td>umowy dostawy następujących  towarów(*) umowy ...</td>\n      <td>0.280867</td>\n      <td>0.093707</td>\n      <td>(3, \"The question is coherent but could be mor...</td>\n      <td>3</td>\n      <td>The question is coherent but could be more co...</td>\n    </tr>\n    <tr>\n      <th>751</th>\n      <td>250</td>\n      <td>3013532f-7032-49d0-839d-2093d1d4a2fe_1</td>\n      <td>umowy dostawy następujących  towarów(*) umowy ...</td>\n      <td>3013532f-7032-49d0-839d-2093d1d4a2fe</td>\n      <td>- Czy umowy dostawy towarów i umowy o dzieło s...</td>\n      <td>- Jakie są konsekwencje prawne braku podpisu k...</td>\n      <td>Brak podpisu konsumenta na formularzu umowy w ...</td>\n      <td>5</td>\n      <td>5</td>\n      <td>['umowy', 'dostawy', 'następujących', 'towarów...</td>\n      <td>['-', 'konsekwencje', 'prawne', 'braku', 'podp...</td>\n      <td>umowy dostawy następujących  towarów(*) umowy ...</td>\n      <td>0.273275</td>\n      <td>0.212574</td>\n      <td>(4, \"The question is clear and specific, askin...</td>\n      <td>4</td>\n      <td>The question is clear and specific, asking ab...</td>\n    </tr>\n    <tr>\n      <th>752</th>\n      <td>250</td>\n      <td>3013532f-7032-49d0-839d-2093d1d4a2fe_1</td>\n      <td>umowy dostawy następujących  towarów(*) umowy ...</td>\n      <td>3013532f-7032-49d0-839d-2093d1d4a2fe</td>\n      <td>- Czy umowy dostawy towarów i umowy o dzieło s...</td>\n      <td>- Czy istnieją szczególne wymagania co do daty...</td>\n      <td>W polskim prawie istnieją szczególne wymagania...</td>\n      <td>5</td>\n      <td>5</td>\n      <td>['umowy', 'dostawy', 'następujących', 'towarów...</td>\n      <td>['-', 'istnieją', 'szczególne', 'wymagania', '...</td>\n      <td>umowy dostawy następujących  towarów(*) umowy ...</td>\n      <td>0.208608</td>\n      <td>0.127500</td>\n      <td>(4, \"The question is coherent and clear, but c...</td>\n      <td>4</td>\n      <td>The question is coherent and clear, but could...</td>\n    </tr>\n  </tbody>\n</table>\n<p>753 rows × 17 columns</p>\n</div>"
     },
     "execution_count": 114,
     "metadata": {},
     "output_type": "execute_result"
    }
   ],
   "source": [
    "df['coherence_rate'] = df.coherence_rate.str.replace('(', '')\n",
    "df['coherence_expl'] = df.coherence_expl.str.replace(')', '')\n",
    "df['coherence_expl'] = df.coherence_expl.str.replace('\"', '')\n",
    "df"
   ],
   "metadata": {
    "collapsed": false,
    "ExecuteTime": {
     "end_time": "2024-07-20T20:28:25.705718Z",
     "start_time": "2024-07-20T20:28:25.676788Z"
    }
   },
   "id": "43136a7bb92d8b26",
   "execution_count": 114
  },
  {
   "cell_type": "code",
   "outputs": [],
   "source": [
    "df.to_excel('data/latest.xlsx', index = False)"
   ],
   "metadata": {
    "collapsed": false,
    "ExecuteTime": {
     "end_time": "2024-08-08T19:28:51.091301Z",
     "start_time": "2024-08-08T19:28:50.676792Z"
    }
   },
   "id": "5b208368288ef5e6",
   "execution_count": 14
  },
  {
   "cell_type": "code",
   "outputs": [],
   "source": [
    "df = pd.read_excel('data/latest.xlsx')"
   ],
   "metadata": {
    "collapsed": false,
    "ExecuteTime": {
     "end_time": "2024-08-11T20:04:19.991426Z",
     "start_time": "2024-08-11T20:04:19.644572Z"
    }
   },
   "id": "61c8248f41482049",
   "execution_count": 6
  },
  {
   "cell_type": "code",
   "outputs": [
    {
     "data": {
      "text/plain": "Index(['Unnamed: 0', 'chunk_id', 'text_chunk', 'page_id',\n       'generated_questions', 'generated_questions_array', 'answer',\n       'coverage_rating', 'coverage_rating_no_answer', 'text_wo_stopwords',\n       'question_wo_stopwords', 'chunk', 'wmd', 'wmd_question_answer',\n       'coherence', 'coherence_rate', 'coherence_expl'],\n      dtype='object')"
     },
     "execution_count": 19,
     "metadata": {},
     "output_type": "execute_result"
    }
   ],
   "source": [
    "df.columns"
   ],
   "metadata": {
    "collapsed": false,
    "ExecuteTime": {
     "end_time": "2024-08-10T20:09:16.011875Z",
     "start_time": "2024-08-10T20:09:16.006950Z"
    }
   },
   "id": "a101f580e8c08398",
   "execution_count": 19
  },
  {
   "cell_type": "code",
   "outputs": [],
   "source": [
    "sample_df = df.sample(15)"
   ],
   "metadata": {
    "collapsed": false,
    "ExecuteTime": {
     "end_time": "2024-08-08T19:35:46.374887Z",
     "start_time": "2024-08-08T19:35:46.371254Z"
    }
   },
   "id": "c7e99ed7887f59d5",
   "execution_count": 6
  },
  {
   "cell_type": "code",
   "outputs": [
    {
     "data": {
      "text/plain": "                                            text_chunk  \\\n0    ©Kancelaria Sejmu \\n \\n \\n \\ns. 1/44 \\n \\n \\n ...   \n1    ©Kancelaria Sejmu \\n \\n \\n \\ns. 1/44 \\n \\n \\n ...   \n2    ©Kancelaria Sejmu \\n \\n \\n \\ns. 1/44 \\n \\n \\n ...   \n3    przedsiębiorstwa; \\n3) \\nzasady i tryb wykonan...   \n4    przedsiębiorstwa; \\n3) \\nzasady i tryb wykonan...   \n..                                                 ...   \n748  ©Kancelaria Sejmu \\n \\n \\n \\ns. 44/44 \\n \\n \\n...   \n749  ©Kancelaria Sejmu \\n \\n \\n \\ns. 44/44 \\n \\n \\n...   \n750  umowy dostawy następujących  towarów(*) umowy ...   \n751  umowy dostawy następujących  towarów(*) umowy ...   \n752  umowy dostawy następujących  towarów(*) umowy ...   \n\n                                                 chunk  \n0    ©Kancelaria Sejmu    s. 1/44    2024-01-18   D...  \n1    ©Kancelaria Sejmu    s. 1/44    2024-01-18   D...  \n2    ©Kancelaria Sejmu    s. 1/44    2024-01-18   D...  \n3    przedsiębiorstwa; 3) zasady i tryb wykonania p...  \n4    przedsiębiorstwa; 3) zasady i tryb wykonania p...  \n..                                                 ...  \n748  ©Kancelaria Sejmu    s. 44/44    2024-01-18  Z...  \n749  ©Kancelaria Sejmu    s. 44/44    2024-01-18  Z...  \n750  umowy dostawy następujących  towarów(*) umowy ...  \n751  umowy dostawy następujących  towarów(*) umowy ...  \n752  umowy dostawy następujących  towarów(*) umowy ...  \n\n[753 rows x 2 columns]",
      "text/html": "<div>\n<style scoped>\n    .dataframe tbody tr th:only-of-type {\n        vertical-align: middle;\n    }\n\n    .dataframe tbody tr th {\n        vertical-align: top;\n    }\n\n    .dataframe thead th {\n        text-align: right;\n    }\n</style>\n<table border=\"1\" class=\"dataframe\">\n  <thead>\n    <tr style=\"text-align: right;\">\n      <th></th>\n      <th>text_chunk</th>\n      <th>chunk</th>\n    </tr>\n  </thead>\n  <tbody>\n    <tr>\n      <th>0</th>\n      <td>©Kancelaria Sejmu \\n \\n \\n \\ns. 1/44 \\n \\n \\n ...</td>\n      <td>©Kancelaria Sejmu    s. 1/44    2024-01-18   D...</td>\n    </tr>\n    <tr>\n      <th>1</th>\n      <td>©Kancelaria Sejmu \\n \\n \\n \\ns. 1/44 \\n \\n \\n ...</td>\n      <td>©Kancelaria Sejmu    s. 1/44    2024-01-18   D...</td>\n    </tr>\n    <tr>\n      <th>2</th>\n      <td>©Kancelaria Sejmu \\n \\n \\n \\ns. 1/44 \\n \\n \\n ...</td>\n      <td>©Kancelaria Sejmu    s. 1/44    2024-01-18   D...</td>\n    </tr>\n    <tr>\n      <th>3</th>\n      <td>przedsiębiorstwa; \\n3) \\nzasady i tryb wykonan...</td>\n      <td>przedsiębiorstwa; 3) zasady i tryb wykonania p...</td>\n    </tr>\n    <tr>\n      <th>4</th>\n      <td>przedsiębiorstwa; \\n3) \\nzasady i tryb wykonan...</td>\n      <td>przedsiębiorstwa; 3) zasady i tryb wykonania p...</td>\n    </tr>\n    <tr>\n      <th>...</th>\n      <td>...</td>\n      <td>...</td>\n    </tr>\n    <tr>\n      <th>748</th>\n      <td>©Kancelaria Sejmu \\n \\n \\n \\ns. 44/44 \\n \\n \\n...</td>\n      <td>©Kancelaria Sejmu    s. 44/44    2024-01-18  Z...</td>\n    </tr>\n    <tr>\n      <th>749</th>\n      <td>©Kancelaria Sejmu \\n \\n \\n \\ns. 44/44 \\n \\n \\n...</td>\n      <td>©Kancelaria Sejmu    s. 44/44    2024-01-18  Z...</td>\n    </tr>\n    <tr>\n      <th>750</th>\n      <td>umowy dostawy następujących  towarów(*) umowy ...</td>\n      <td>umowy dostawy następujących  towarów(*) umowy ...</td>\n    </tr>\n    <tr>\n      <th>751</th>\n      <td>umowy dostawy następujących  towarów(*) umowy ...</td>\n      <td>umowy dostawy następujących  towarów(*) umowy ...</td>\n    </tr>\n    <tr>\n      <th>752</th>\n      <td>umowy dostawy następujących  towarów(*) umowy ...</td>\n      <td>umowy dostawy następujących  towarów(*) umowy ...</td>\n    </tr>\n  </tbody>\n</table>\n<p>753 rows × 2 columns</p>\n</div>"
     },
     "execution_count": 34,
     "metadata": {},
     "output_type": "execute_result"
    }
   ],
   "source": [
    "df[['text_chunk', 'chunk']]"
   ],
   "metadata": {
    "collapsed": false,
    "ExecuteTime": {
     "end_time": "2024-08-11T19:25:00.116903Z",
     "start_time": "2024-08-11T19:25:00.085759Z"
    }
   },
   "id": "45eee36bf2f6eba8",
   "execution_count": 34
  },
  {
   "cell_type": "code",
   "outputs": [],
   "source": [
    "df['relevance'] = df.apply(lambda x: OpenAIReq().call_api(prompt=PromptBuilder.get_relevance(question=x['generated_questions_array'], context=x['text_chunk'])),axis=1)"
   ],
   "metadata": {
    "collapsed": false,
    "ExecuteTime": {
     "end_time": "2024-08-11T20:11:37.557207Z",
     "start_time": "2024-08-11T20:04:35.148950Z"
    }
   },
   "id": "e9f842efd52f19eb",
   "execution_count": 7
  },
  {
   "cell_type": "code",
   "outputs": [],
   "source": [
    "df['global_relevance'] = df.apply(lambda x: OpenAIReq().call_api(prompt=PromptBuilder.get_global_relevance(question=x['generated_questions_array'])),axis=1)"
   ],
   "metadata": {
    "collapsed": false,
    "ExecuteTime": {
     "end_time": "2024-08-11T20:26:43.183236Z",
     "start_time": "2024-08-11T20:20:13.198103Z"
    }
   },
   "id": "a887b80b654bf7ae",
   "execution_count": 11
  },
  {
   "cell_type": "code",
   "outputs": [
    {
     "data": {
      "text/plain": "relevance\n5    0.989376\n1    0.003984\n4    0.003984\n3    0.002656\nName: proportion, dtype: float64"
     },
     "execution_count": 9,
     "metadata": {},
     "output_type": "execute_result"
    }
   ],
   "source": [],
   "metadata": {
    "collapsed": false,
    "ExecuteTime": {
     "end_time": "2024-08-11T20:13:26.428569Z",
     "start_time": "2024-08-11T20:13:26.423362Z"
    }
   },
   "id": "d45d5f92c560c974",
   "execution_count": 9
  },
  {
   "cell_type": "code",
   "outputs": [
    {
     "data": {
      "text/plain": "global_relevance\n5    0.990704\n1    0.006640\n3    0.001328\n2    0.001328\nName: proportion, dtype: float64"
     },
     "execution_count": 12,
     "metadata": {},
     "output_type": "execute_result"
    }
   ],
   "source": [
    "df['global_relevance'].value_counts(normalize=True)"
   ],
   "metadata": {
    "collapsed": false,
    "ExecuteTime": {
     "end_time": "2024-08-11T20:30:07.669607Z",
     "start_time": "2024-08-11T20:30:07.663094Z"
    }
   },
   "id": "541a00b99b1b1347",
   "execution_count": 12
  },
  {
   "cell_type": "code",
   "outputs": [],
   "source": [
    "df.to_excel('data/data_with_relevances.xlsx')"
   ],
   "metadata": {
    "collapsed": false,
    "ExecuteTime": {
     "end_time": "2024-08-11T20:37:50.145672Z",
     "start_time": "2024-08-11T20:37:49.427559Z"
    }
   },
   "id": "3c4c056e33234e8c",
   "execution_count": 13
  },
  {
   "cell_type": "markdown",
   "source": [
    "## Evaluation"
   ],
   "metadata": {
    "collapsed": false
   },
   "id": "f7aa1a31225933b1"
  },
  {
   "cell_type": "code",
   "outputs": [
    {
     "name": "stderr",
     "output_type": "stream",
     "text": [
      "753it [07:49,  1.60it/s]\n"
     ]
    }
   ],
   "source": [
    "reporting = Reporting(data=df)\n",
    "sim_matrix = reporting.create_similarity_matrix_for_wmd(on_column='generated_questions_array')"
   ],
   "metadata": {
    "collapsed": false,
    "ExecuteTime": {
     "end_time": "2024-08-10T20:17:39.538923Z",
     "start_time": "2024-08-10T20:09:21.185285Z"
    }
   },
   "id": "16e6c8199c8c49e4",
   "execution_count": 20
  },
  {
   "cell_type": "code",
   "outputs": [
    {
     "data": {
      "text/plain": "(752, 752)"
     },
     "execution_count": 21,
     "metadata": {},
     "output_type": "execute_result"
    }
   ],
   "source": [
    "sim_matrix.shape"
   ],
   "metadata": {
    "collapsed": false,
    "ExecuteTime": {
     "end_time": "2024-08-10T20:19:00.532549Z",
     "start_time": "2024-08-10T20:19:00.527852Z"
    }
   },
   "id": "68a4ae67f367776d",
   "execution_count": 21
  },
  {
   "cell_type": "markdown",
   "source": [
    "### Plotting the results of similarity matrix"
   ],
   "metadata": {
    "collapsed": false
   },
   "id": "fae6d8eb87c3b77b"
  },
  {
   "cell_type": "code",
   "outputs": [],
   "source": [
    "if sim_matrix.shape[0] < 30: #plot only when sampled\n",
    "    mask = np.zeros_like(sim_matrix)\n",
    "    mask[np.triu_indices_from(mask)] = True\n",
    "    sns.heatmap(sim_matrix,\n",
    "                annot=True,\n",
    "                fmt='.2f',\n",
    "                linewidth=.5,\n",
    "                cmap='crest',\n",
    "                mask=mask,\n",
    "                annot_kws={'fontsize': 8})"
   ],
   "metadata": {
    "collapsed": false,
    "ExecuteTime": {
     "end_time": "2024-08-10T20:19:04.681254Z",
     "start_time": "2024-08-10T20:19:04.676224Z"
    }
   },
   "id": "a11461716544cee7",
   "execution_count": 22
  },
  {
   "cell_type": "markdown",
   "source": [
    "### Evaluation Summary"
   ],
   "metadata": {
    "collapsed": false
   },
   "id": "f4821b514b5a6149"
  },
  {
   "cell_type": "markdown",
   "source": [
    "#### Relevance anf global relevance"
   ],
   "metadata": {
    "collapsed": false
   },
   "id": "905e1e1aa6fc8a76"
  },
  {
   "cell_type": "code",
   "outputs": [
    {
     "data": {
      "text/plain": "relevance\n5    0.989376\n1    0.003984\n4    0.003984\n3    0.002656\nName: proportion, dtype: float64"
     },
     "execution_count": 14,
     "metadata": {},
     "output_type": "execute_result"
    }
   ],
   "source": [
    "df['relevance'].value_counts(normalize=True)"
   ],
   "metadata": {
    "collapsed": false,
    "ExecuteTime": {
     "end_time": "2024-08-11T20:38:21.509711Z",
     "start_time": "2024-08-11T20:38:21.503599Z"
    }
   },
   "id": "51e5504b2ce89534",
   "execution_count": 14
  },
  {
   "cell_type": "code",
   "outputs": [
    {
     "data": {
      "text/plain": "<Axes: >"
     },
     "execution_count": 16,
     "metadata": {},
     "output_type": "execute_result"
    },
    {
     "data": {
      "text/plain": "<Figure size 640x480 with 1 Axes>",
      "image/png": "[encoded data removed]"
     },
     "metadata": {},
     "output_type": "display_data"
    }
   ],
   "source": [
    "pd.plotting.hist_series(df['relevance'])"
   ],
   "metadata": {
    "collapsed": false,
    "ExecuteTime": {
     "end_time": "2024-08-11T20:40:19.913264Z",
     "start_time": "2024-08-11T20:40:19.712189Z"
    }
   },
   "id": "408b96484687baf8",
   "execution_count": 16
  },
  {
   "cell_type": "code",
   "outputs": [
    {
     "data": {
      "text/plain": "global_relevance\n5    0.990704\n1    0.006640\n3    0.001328\n2    0.001328\nName: proportion, dtype: float64"
     },
     "execution_count": 17,
     "metadata": {},
     "output_type": "execute_result"
    }
   ],
   "source": [
    "df['global_relevance'].value_counts(normalize=True)"
   ],
   "metadata": {
    "collapsed": false,
    "ExecuteTime": {
     "end_time": "2024-08-11T20:40:48.707458Z",
     "start_time": "2024-08-11T20:40:48.700940Z"
    }
   },
   "id": "5ca77a6713090ce1",
   "execution_count": 17
  },
  {
   "cell_type": "code",
   "outputs": [
    {
     "data": {
      "text/plain": "<Axes: >"
     },
     "execution_count": 18,
     "metadata": {},
     "output_type": "execute_result"
    },
    {
     "data": {
      "text/plain": "<Figure size 640x480 with 1 Axes>",
      "image/png": "[encoded data removed]"
     },
     "metadata": {},
     "output_type": "display_data"
    }
   ],
   "source": [
    "pd.plotting.hist_series(df['global_relevance'])"
   ],
   "metadata": {
    "collapsed": false,
    "ExecuteTime": {
     "end_time": "2024-08-11T20:41:09.506557Z",
     "start_time": "2024-08-11T20:41:09.289042Z"
    }
   },
   "id": "879f5428100c9f2",
   "execution_count": 18
  },
  {
   "cell_type": "markdown",
   "source": [
    "#### Coverage summary"
   ],
   "metadata": {
    "collapsed": false
   },
   "id": "1f955fad2b047bb7"
  },
  {
   "cell_type": "code",
   "outputs": [
    {
     "data": {
      "text/plain": "coverage_rating\n5    1.0\nName: proportion, dtype: float64"
     },
     "execution_count": 23,
     "metadata": {},
     "output_type": "execute_result"
    }
   ],
   "source": [
    "df['coverage_rating'].value_counts(normalize=True)"
   ],
   "metadata": {
    "collapsed": false,
    "ExecuteTime": {
     "end_time": "2024-08-10T20:19:07.789232Z",
     "start_time": "2024-08-10T20:19:07.782316Z"
    }
   },
   "id": "8ad59ea8363aee59",
   "execution_count": 23
  },
  {
   "cell_type": "code",
   "outputs": [
    {
     "data": {
      "text/plain": "<Axes: >"
     },
     "execution_count": 24,
     "metadata": {},
     "output_type": "execute_result"
    },
    {
     "data": {
      "text/plain": "<Figure size 640x480 with 1 Axes>",
      "image/png": "[encoded data removed]"
     },
     "metadata": {},
     "output_type": "display_data"
    }
   ],
   "source": [
    "pd.plotting.hist_series(df['coverage_rating'])"
   ],
   "metadata": {
    "collapsed": false,
    "ExecuteTime": {
     "end_time": "2024-08-10T20:19:10.582440Z",
     "start_time": "2024-08-10T20:19:10.388896Z"
    }
   },
   "id": "bd4000fa90e48c2f",
   "execution_count": 24
  },
  {
   "cell_type": "code",
   "outputs": [
    {
     "data": {
      "text/plain": "coverage_rating_no_answer\n5    0.938911\n4    0.049137\n1    0.007968\n2    0.002656\n3    0.001328\nName: proportion, dtype: float64"
     },
     "execution_count": 25,
     "metadata": {},
     "output_type": "execute_result"
    }
   ],
   "source": [
    "df['coverage_rating_no_answer'].value_counts(normalize=True)"
   ],
   "metadata": {
    "collapsed": false,
    "ExecuteTime": {
     "end_time": "2024-08-10T20:19:13.421065Z",
     "start_time": "2024-08-10T20:19:13.414172Z"
    }
   },
   "id": "cc036bed71e16da8",
   "execution_count": 25
  },
  {
   "cell_type": "code",
   "outputs": [
    {
     "data": {
      "text/plain": "<Axes: >"
     },
     "execution_count": 26,
     "metadata": {},
     "output_type": "execute_result"
    },
    {
     "data": {
      "text/plain": "<Figure size 640x480 with 1 Axes>",
      "image/png": "[encoded data removed]"
     },
     "metadata": {},
     "output_type": "display_data"
    }
   ],
   "source": [
    "pd.plotting.hist_series(df['coverage_rating_no_answer'])"
   ],
   "metadata": {
    "collapsed": false,
    "ExecuteTime": {
     "end_time": "2024-08-10T20:19:22.446052Z",
     "start_time": "2024-08-10T20:19:22.216059Z"
    }
   },
   "id": "437baacbfb2c8ebf",
   "execution_count": 26
  },
  {
   "cell_type": "markdown",
   "source": [
    "#### Word mover distance"
   ],
   "metadata": {
    "collapsed": false
   },
   "id": "3f937ce309018b65"
  },
  {
   "cell_type": "code",
   "outputs": [
    {
     "data": {
      "text/plain": "<Axes: >"
     },
     "execution_count": 27,
     "metadata": {},
     "output_type": "execute_result"
    },
    {
     "data": {
      "text/plain": "<Figure size 640x480 with 1 Axes>",
      "image/png": "[encoded data removed]"
     },
     "metadata": {},
     "output_type": "display_data"
    }
   ],
   "source": [
    "# WMD question <-> chunk\n",
    "pd.plotting.hist_series(df['wmd'])"
   ],
   "metadata": {
    "collapsed": false,
    "ExecuteTime": {
     "end_time": "2024-08-10T20:19:26.648237Z",
     "start_time": "2024-08-10T20:19:26.415017Z"
    }
   },
   "id": "ef3c5f0725bb2674",
   "execution_count": 27
  },
  {
   "cell_type": "code",
   "outputs": [
    {
     "name": "stdout",
     "output_type": "stream",
     "text": [
      "Mean for question to chunk for WMD is 0.19339181580439138 with std as 0.07003015277804153\n"
     ]
    }
   ],
   "source": [
    "mean_wmd_qch = df['wmd'].mean()\n",
    "std_wmd_qch = df['wmd'].std()\n",
    "print(f'Mean for question to chunk for WMD is {mean_wmd_qch} with std as {std_wmd_qch}')"
   ],
   "metadata": {
    "collapsed": false,
    "ExecuteTime": {
     "end_time": "2024-08-10T20:19:29.258154Z",
     "start_time": "2024-08-10T20:19:29.252149Z"
    }
   },
   "id": "ec28848a295df728",
   "execution_count": 28
  },
  {
   "cell_type": "code",
   "outputs": [
    {
     "data": {
      "text/plain": "<Axes: >"
     },
     "execution_count": 29,
     "metadata": {},
     "output_type": "execute_result"
    },
    {
     "data": {
      "text/plain": "<Figure size 640x480 with 1 Axes>",
      "image/png": "[encoded data removed]"
     },
     "metadata": {},
     "output_type": "display_data"
    }
   ],
   "source": [
    "# WMD question <-> answer\n",
    "pd.plotting.hist_series(df['wmd_question_answer'])"
   ],
   "metadata": {
    "collapsed": false,
    "ExecuteTime": {
     "end_time": "2024-08-10T20:19:32.103055Z",
     "start_time": "2024-08-10T20:19:31.855693Z"
    }
   },
   "id": "72d02a1699e40d16",
   "execution_count": 29
  },
  {
   "cell_type": "code",
   "outputs": [
    {
     "name": "stdout",
     "output_type": "stream",
     "text": [
      "Mean for question to answer for WMD is 0.14663981538771198 with std as 0.05362387325462629\n"
     ]
    }
   ],
   "source": [
    "mean_wmd_qa = df['wmd_question_answer'].mean()\n",
    "std_wmd_qa = df['wmd_question_answer'].std()\n",
    "print(f'Mean for question to answer for WMD is {mean_wmd_qa} with std as {std_wmd_qa}')"
   ],
   "metadata": {
    "collapsed": false,
    "ExecuteTime": {
     "end_time": "2024-08-10T20:19:35.431402Z",
     "start_time": "2024-08-10T20:19:35.427015Z"
    }
   },
   "id": "ad2cc9b4c34773a0",
   "execution_count": 30
  },
  {
   "cell_type": "code",
   "outputs": [
    {
     "name": "stdout",
     "output_type": "stream",
     "text": [
      "Mean for question to question for WMD is 0.2407836529716644 with std as 0.06884521720370682\n"
     ]
    }
   ],
   "source": [
    "# WMD question <-> question\n",
    "std, mean = reporting.get_summary_for_wmd(sim_matrix)\n",
    "print(f'Mean for question to question for WMD is {mean} with std as {std}')"
   ],
   "metadata": {
    "collapsed": false,
    "ExecuteTime": {
     "end_time": "2024-08-10T20:19:36.691742Z",
     "start_time": "2024-08-10T20:19:36.674581Z"
    }
   },
   "id": "c9f0e941819d663",
   "execution_count": 31
  },
  {
   "cell_type": "markdown",
   "source": [
    "#### Coherence rate"
   ],
   "metadata": {
    "collapsed": false
   },
   "id": "27a3d2a581aaeee5"
  },
  {
   "cell_type": "code",
   "outputs": [
    {
     "data": {
      "text/plain": "coherence_rate\n4                                                                                                                                                                                                                               0.435591\n3                                                                                                                                                                                                                               0.430279\n2                                                                                                                                                                                                                               0.124834\n3 | The question is coherent in terms of addressing legal consequences of non-compliance with regulations related to the provision of medicinal products and medical devices in the context of healthcare services. However     0.001328\n3 | The question is coherent in terms of addressing the criteria for determining whether a contract entered into by an individual related to their business activities is professional. However                                 0.001328\n2 | The question is somewhat coherent as it inquires about situations where an unplanned visit by a business owner to a consumer could result in the formation of a valid contract according to the law. However                0.001328\n3 | The question is coherent in terms of legal terminology and structure                                                                                                                                                        0.001328\n3 | The question is clear in terms of the legal scenario presented                                                                                                                                                              0.001328\n3 | The question is clear and specific                                                                                                                                                                                          0.001328\n3 | The question is somewhat coherent as it addresses the factors considered when assessing excessive costs for an entrepreneur in relation to the compliance of digital content or digital service with a contract. However    0.001328\nName: proportion, dtype: float64"
     },
     "execution_count": 32,
     "metadata": {},
     "output_type": "execute_result"
    }
   ],
   "source": [
    "df['coherence_rate'].value_counts(normalize=True)"
   ],
   "metadata": {
    "collapsed": false,
    "ExecuteTime": {
     "end_time": "2024-08-10T20:19:39.770221Z",
     "start_time": "2024-08-10T20:19:39.761497Z"
    }
   },
   "id": "c4099e73a1bf499c",
   "execution_count": 32
  },
  {
   "cell_type": "markdown",
   "source": [
    "#### Evaluation Summary\n",
    "From the provided results we can observe that in majority of cases generated question are quite fluent (86.5% got score 3 and 4 combined).\n",
    "Coverage metric (if answer can be reliable extracted from question and context) is also high. This point is to be investigated as it was based on LLM verification.\n",
    "Relevances ratings are also high meaning that generated questions preserve high quality and resemblance to ones asked by professionals.\n",
    "Word's Mover Distance (Diversity) with mean scores 0.19, 0.14 and 0.24 for question to chunk, question to answer and question to question respectively, show that generated questions have small distance which means that they show small diversity and are consistent with each other. "
   ],
   "metadata": {
    "collapsed": false
   },
   "id": "c88e44c8d5cdde6"
  },
  {
   "cell_type": "code",
   "outputs": [],
   "source": [],
   "metadata": {
    "collapsed": false
   },
   "id": "a2f9b56335fa579"
  }
 ],
 "metadata": {
  "kernelspec": {
   "display_name": "Python 3",
   "language": "python",
   "name": "python3"
  },
  "language_info": {
   "codemirror_mode": {
    "name": "ipython",
    "version": 2
   },
   "file_extension": ".py",
   "mimetype": "text/x-python",
   "name": "python",
   "nbconvert_exporter": "python",
   "pygments_lexer": "ipython2",
   "version": "2.7.6"
  }
 },
 "nbformat": 4,
 "nbformat_minor": 5
}
